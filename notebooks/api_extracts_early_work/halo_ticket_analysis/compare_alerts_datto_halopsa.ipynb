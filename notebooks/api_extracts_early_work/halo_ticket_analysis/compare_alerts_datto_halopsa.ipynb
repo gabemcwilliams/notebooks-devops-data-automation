{
 "cells": [
  {
   "cell_type": "markdown",
   "metadata": {
    "collapsed": false,
    "pycharm": {
     "name": "#%% md\n"
    }
   },
   "source": "<h1> HaloPSA - API Module <h1>"
  },
  {
   "cell_type": "code",
   "execution_count": null,
   "metadata": {
    "pycharm": {
     "name": "#%%\n"
    }
   },
   "outputs": [],
   "source": [
    "import re\n",
    "\n",
    "from ts_api_connections import halopsa_api\n",
    "from ts_api_connections import  datto_rmm_api"
   ]
  },
  {
   "cell_type": "code",
   "execution_count": null,
   "metadata": {
    "pycharm": {
     "name": "#%%\n"
    }
   },
   "outputs": [],
   "source": "halopsa = halopsa_api.HaloPSA()"
  },
  {
   "cell_type": "code",
   "execution_count": null,
   "metadata": {
    "pycharm": {
     "name": "#%%\n"
    }
   },
   "outputs": [],
   "source": "df_tickets = halopsa.create_tickets_dataframe()"
  },
  {
   "cell_type": "code",
   "execution_count": null,
   "metadata": {
    "pycharm": {
     "name": "#%%\n"
    }
   },
   "outputs": [],
   "source": "parser = halopsa_api.ParseSource()"
  },
  {
   "cell_type": "code",
   "execution_count": null,
   "metadata": {
    "pycharm": {
     "name": "#%%\n"
    }
   },
   "outputs": [],
   "source": "df_parsed = parser.add_parsed_info(df_tickets)"
  },
  {
   "cell_type": "code",
   "execution_count": null,
   "metadata": {
    "pycharm": {
     "name": "#%%\n"
    }
   },
   "outputs": [],
   "source": "df_datto_tickets = df_parsed[df_parsed['rootParse'] == 'centrastage']"
  },
  {
   "cell_type": "code",
   "execution_count": null,
   "metadata": {
    "pycharm": {
     "name": "#%%\n"
    }
   },
   "outputs": [],
   "source": "df_datto_tickets_open = df_datto_tickets[df_datto_tickets['hasbeenclosed'] == False]"
  },
  {
   "cell_type": "code",
   "execution_count": null,
   "metadata": {
    "pycharm": {
     "name": "#%%\n"
    }
   },
   "outputs": [],
   "source": "datto = datto_rmm_api.DattoRMM()"
  },
  {
   "cell_type": "code",
   "execution_count": null,
   "metadata": {
    "pycharm": {
     "name": "#%%\n"
    }
   },
   "outputs": [],
   "source": "df_alerts = datto.create_monitors_dataframe()"
  },
  {
   "cell_type": "code",
   "execution_count": null,
   "metadata": {
    "pycharm": {
     "name": "#%%\n"
    }
   },
   "outputs": [],
   "source": "df_alerts_open = df_alerts[df_alerts['resolved'] == True]"
  },
  {
   "cell_type": "code",
   "execution_count": null,
   "metadata": {
    "pycharm": {
     "name": "#%%\n"
    }
   },
   "outputs": [],
   "source": "df_disk_alerts = df_alerts_open[df_alerts_open['monitorSource'] == \"Disk Usage High\"]"
  },
  {
   "cell_type": "code",
   "execution_count": null,
   "metadata": {
    "pycharm": {
     "name": "#%%\n"
    }
   },
   "outputs": [],
   "source": "{'deviceUid': '587f7e09-00b4-e966-b4e9-dfa0ad689af8', 'deviceName': 'AWS-PROD-SQL1', 'siteUid': '[REDACTED_UUID]', 'siteName': 'Example'}"
  },
  {
   "cell_type": "code",
   "execution_count": null,
   "metadata": {
    "pycharm": {
     "name": "#%%\n"
    }
   },
   "outputs": [],
   "source": [
    "df_disk_alerts"
   ]
  },
  {
   "cell_type": "code",
   "execution_count": null,
   "metadata": {
    "pycharm": {
     "name": "#%%\n"
    }
   },
   "outputs": [],
   "source": "df_datto_tickets.to_csv('.csv')"
  },
  {
   "cell_type": "code",
   "execution_count": null,
   "metadata": {
    "pycharm": {
     "name": "#%%\n"
    }
   },
   "outputs": [],
   "source": "df_alert_tickets['summary'].apply(lambda x: re.findall(r'Alert\\{([\\w\\-]+)\\}', str(x)))"
  },
  {
   "cell_type": "code",
   "execution_count": null,
   "metadata": {
    "pycharm": {
     "name": "#%%\n"
    }
   },
   "outputs": [],
   "source": [
    "df_actions['datetime'] = pd.to_datetime(df_actions['datetime']).dt.strftime(\"%Y-%m-%d %H:%M:%S\")\n",
    "df_actions['actionarrivaldate'] = pd.to_datetime(df_actions['actionarrivaldate']).dt.strftime(\"%Y-%m-%d %H:%M:%S\")\n",
    "df_actions['actioncompletiondate'] = pd.to_datetime(df_actions['actioncompletiondate']).dt.strftime(\"%Y-%m-%d %H:%M:%S\")"
   ]
  },
  {
   "cell_type": "code",
   "execution_count": null,
   "metadata": {
    "pycharm": {
     "name": "#%%\n"
    }
   },
   "outputs": [],
   "source": "df_actions"
  },
  {
   "cell_type": "code",
   "execution_count": null,
   "metadata": {
    "pycharm": {
     "name": "#%%\n"
    }
   },
   "outputs": [],
   "source": "df_tickets = halopsa.create_tickets_dataframe(days=4)"
  },
  {
   "cell_type": "code",
   "execution_count": null,
   "metadata": {
    "pycharm": {
     "name": "#%%\n"
    }
   },
   "outputs": [],
   "source": "df_users = halopsa.create_users_dataframe()"
  },
  {
   "cell_type": "code",
   "execution_count": null,
   "metadata": {
    "pycharm": {
     "name": "#%%\n"
    }
   },
   "outputs": [],
   "source": "df_dhavens = df_tickets[df_tickets.agent_id == 27]"
  },
  {
   "cell_type": "code",
   "execution_count": null,
   "metadata": {
    "pycharm": {
     "name": "#%%\n"
    }
   },
   "outputs": [],
   "source": "df_dhavens.ticketType.value_counts().plot(kind='bar')"
  },
  {
   "cell_type": "code",
   "execution_count": null,
   "metadata": {
    "pycharm": {
     "name": "#%%\n"
    }
   },
   "outputs": [],
   "source": "df_dhavens[df_dhavens.ticketType == 'Quick Time']"
  },
  {
   "cell_type": "code",
   "execution_count": null,
   "metadata": {
    "pycharm": {
     "name": "#%%\n"
    }
   },
   "outputs": [],
   "source": "df_dhavens"
  },
  {
   "cell_type": "code",
   "execution_count": null,
   "metadata": {
    "pycharm": {
     "name": "#%%\n"
    }
   },
   "outputs": [],
   "source": [
    "useful_cols = ['id', 'dateoccurred', 'summary', 'details',\n",
    "               'status_id', 'tickettype_id', 'sla_id',\n",
    "               'priority_id', 'client_id', 'client_name',\n",
    "               'site_id', 'site_name', 'user_id',\n",
    "               'user_name', 'team', 'agent_id',\n",
    "               'category_1', 'category_2', 'category_3', 'category_4',\n",
    "               'child_count', 'attachment_count', 'flagged', 'read',\n",
    "               'enduserstatus', 'dateclosed', 'lastactiondate',\n",
    "               'department_id', 'workflow_step', 'workflow_seq',\n",
    "               'hasbeenclosed', 'impact', 'urgency', 'ticketage',\n",
    "               'closure_agent_id', 'closed_in_integration_system',\n",
    "               'parent_id', 'dateassigned', 'reportedby', 'user_email', 'emailtolist',\n",
    "               'emailcclist', 'inventory_number', 'ticketType', 'ticketStatus', 'reportCreationDate']\n"
   ]
  },
  {
   "cell_type": "code",
   "execution_count": null,
   "metadata": {
    "pycharm": {
     "name": "#%%\n"
    }
   },
   "outputs": [],
   "source": "df_dhavens = df_dhavens[useful_cols]"
  },
  {
   "cell_type": "code",
   "execution_count": null,
   "metadata": {
    "pycharm": {
     "name": "#%%\n"
    }
   },
   "outputs": [],
   "source": "df_dhavens"
  },
  {
   "cell_type": "code",
   "execution_count": null,
   "metadata": {
    "pycharm": {
     "name": "#%%\n"
    }
   },
   "outputs": [],
   "source": "parse = ParseSource()"
  },
  {
   "cell_type": "code",
   "execution_count": null,
   "metadata": {
    "pycharm": {
     "name": "#%%\n"
    }
   },
   "outputs": [],
   "source": "df_parsed = parse.add_parsed_info(df_tickets)"
  },
  {
   "cell_type": "code",
   "execution_count": null,
   "metadata": {
    "pycharm": {
     "name": "#%%\n"
    }
   },
   "outputs": [],
   "source": [
    "\n",
    "class HaloPSADev:\n",
    "\n",
    "    def __init__(self, env_file='d:/config/env.ini'):\n",
    "        # import configparser for env secrets\n",
    "        from configparser import ConfigParser\n",
    "\n",
    "        config = ConfigParser()\n",
    "        config.read(env_file)\n",
    "\n",
    "        halo_config = config['halopsa']\n",
    "\n",
    "        # HaloPSA Secrets Creation\n",
    "        self.__base_uri = halo_config['base_uri']\n",
    "        self.__client_id = halo_config['client_id']\n",
    "        self.__client_secret = halo_config['client_secret']\n",
    "        self.__tenant = halo_config['tenant']\n",
    "\n",
    "        self.__access_token = self.__create_token()\n",
    "\n",
    "    def __create_token(self):\n",
    "        # call token api url\n",
    "        token_uri = f\"{self.__base_uri}/auth/token?tenant={self.__tenant}\"\n",
    "\n",
    "        # construct header\n",
    "        headers = CaseInsensitiveDict()\n",
    "        headers['Content-Type'] = 'application/x-www-form-urlencoded'\n",
    "\n",
    "        # construct req body\n",
    "        data = CaseInsensitiveDict()\n",
    "        data['grant_type'] = 'client_credentials'\n",
    "        data['client_id'] = self.__client_id\n",
    "        data['client_secret'] = self.__client_secret\n",
    "        data['scope'] = 'all'\n",
    "\n",
    "        # request content response\n",
    "        resp = requests.post(token_uri, headers=headers, data=data)\n",
    "        content = resp.content.decode('utf-8')\n",
    "        c_dict = json.loads(content)\n",
    "\n",
    "        return c_dict\n",
    "\n",
    "\n",
    "    def create_actions_dataframe(self,ticket_id):\n",
    "        # request content response\n",
    "\n",
    "        # https://halo.haloservicedesk.com/api/Actions?ticket_id=\n",
    "        request_url = f\"{self.__base_uri}/api/Actions?ticket_id={ticket_id}\"\n",
    "\n",
    "        # construct header\n",
    "        headers = CaseInsensitiveDict()\n",
    "        headers['Authorization'] = f'Bearer {self.__access_token}'\n",
    "        headers['Content-Type'] = 'application/json'\n",
    "\n",
    "        params = CaseInsensitiveDict()\n",
    "        params = \"\"\n",
    "        # params[\"ticket_id\"] = ticket_id\n",
    "\n",
    "        # construct req body\n",
    "        data = ''\n",
    "\n",
    "        print(f'Request URL: {request_url}')\n",
    "\n",
    "        resp = requests.get(request_url, headers=headers, params=params, data=data)\n",
    "        # content = resp.content.decode('utf-8')\n",
    "        # c_dict = json.loads(content)\n",
    "\n",
    "        print(resp.content)\n",
    "        #\n",
    "        # # iterate and combine remaining pages\n",
    "        # df_actions = pd.DataFrame(c_dict['actions'])\n",
    "        #\n",
    "        # try:\n",
    "        #   while c_dict['pageDetails']['nextPageUrl']:\n",
    "        #       next_page = c_dict['pageDetails']['nextPageUrl']\n",
    "        #       resp = requests.get(next_page, headers=headers, data=data)\n",
    "        #       content = resp.content.decode('utf-8')\n",
    "        #       c_dict = json.loads(content)\n",
    "        #\n",
    "        #       df_current_page = pd.DataFrame(c_dict['assets'])\n",
    "        #       df_actions = pd.concat([df_actions, df_current_page], ignore_index=False)\n",
    "        # except:\n",
    "        #     print(f'All assets on first page.  Total Assets: {c_dict[\"record_count\"]}')\n",
    "        #\n",
    "        #     report_creation_date = (dt.datetime.utcnow().strftime('%Y-%m-%d %H:%M:%S'))\n",
    "        #     df_actions['reportCreationDate'] = report_creation_date\n",
    "        #\n",
    "        # return df_actions\n",
    "\n",
    "\n",
    "\n",
    "\n"
   ]
  },
  {
   "cell_type": "code",
   "execution_count": null,
   "metadata": {
    "pycharm": {
     "name": "#%%\n"
    }
   },
   "outputs": [],
   "source": "ticket_id = 36158"
  },
  {
   "cell_type": "code",
   "execution_count": null,
   "metadata": {
    "pycharm": {
     "name": "#%%\n"
    }
   },
   "outputs": [],
   "source": "halo_test = HaloPSADev()"
  },
  {
   "cell_type": "code",
   "execution_count": null,
   "metadata": {
    "pycharm": {
     "name": "#%%\n"
    }
   },
   "outputs": [],
   "source": "df_appts = halo_test.create_actions_dataframe(ticket_id)"
  },
  {
   "cell_type": "code",
   "execution_count": null,
   "metadata": {
    "pycharm": {
     "name": "#%%\n"
    }
   },
   "outputs": [],
   "source": "df_appts"
  },
  {
   "cell_type": "code",
   "execution_count": null,
   "metadata": {
    "pycharm": {
     "name": "#%%\n"
    }
   },
   "outputs": [],
   "source": "df_appts[['attendees', 'attendees_list', 'appointment_origin']]"
  },
  {
   "cell_type": "code",
   "execution_count": null,
   "metadata": {
    "pycharm": {
     "name": "#%%\n"
    }
   },
   "outputs": [],
   "source": "df_appts[['attendees_list', 'appointment_origin']].iloc[1]['attendees_list'][0]"
  },
  {
   "cell_type": "code",
   "execution_count": null,
   "metadata": {
    "pycharm": {
     "name": "#%%\n"
    }
   },
   "outputs": [],
   "source": "df_appts['start_date'].min()"
  },
  {
   "cell_type": "code",
   "execution_count": null,
   "metadata": {
    "pycharm": {
     "name": "#%%\n"
    }
   },
   "outputs": [],
   "source": "df_appts['start_date'].max()"
  },
  {
   "cell_type": "code",
   "execution_count": null,
   "metadata": {
    "pycharm": {
     "name": "#%%\n"
    }
   },
   "outputs": [],
   "source": "df_appts['appointment_origin'].value_counts().plot(kind='bar')"
  },
  {
   "cell_type": "code",
   "execution_count": null,
   "metadata": {
    "pycharm": {
     "name": "#%%\n"
    }
   },
   "outputs": [],
   "source": [
    "fig = plt.figure(figsize=(80, 40))\n",
    "sns.barplot(data=df_appts, x='appointment_origin', y='appointment_duration')\n",
    "fig.savefig('.png')"
   ]
  },
  {
   "cell_type": "code",
   "execution_count": null,
   "metadata": {
    "pycharm": {
     "name": "#%%\n"
    }
   },
   "outputs": [],
   "source": "df_appts.columns"
  },
  {
   "cell_type": "code",
   "execution_count": null,
   "metadata": {
    "pycharm": {
     "name": "#%%\n"
    }
   },
   "outputs": [],
   "source": "df_appts.subject.value_counts()"
  },
  {
   "cell_type": "code",
   "execution_count": null,
   "metadata": {
    "pycharm": {
     "name": "#%%\n"
    }
   },
   "outputs": [],
   "source": [
    "fig = plt.figure(figsize=(80, 40))\n",
    "sns.barplot(data=df_appts, x=df_appts.day_occurred, y='subject')"
   ]
  },
  {
   "cell_type": "code",
   "execution_count": null,
   "metadata": {
    "pycharm": {
     "name": "#%%\n"
    }
   },
   "outputs": [],
   "source": []
  }
 ],
 "metadata": {
  "kernelspec": {
   "display_name": "Python 3",
   "language": "python",
   "name": "python3"
  },
  "language_info": {
   "codemirror_mode": {
    "name": "ipython",
    "version": 2
   },
   "file_extension": ".py",
   "mimetype": "text/x-python",
   "name": "python",
   "nbconvert_exporter": "python",
   "pygments_lexer": "ipython2",
   "version": "2.7.6"
  }
 },
 "nbformat": 4,
 "nbformat_minor": 0
}
