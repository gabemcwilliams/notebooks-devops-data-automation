{
 "cells": [
  {
   "metadata": {},
   "cell_type": "code",
   "outputs": [],
   "execution_count": null,
   "source": [
    "\"\"\"\n",
    "Extract daily patch metrics from DattoRMM API, including device data transformation, patch status shaping,\n",
    "compliance reporting, and CSV export for service delivery metrics.\n",
    "\"\"\""
   ],
   "id": "5705219c42f0ac65"
  },
  {
   "cell_type": "markdown",
   "id": "61207f0cced97169",
   "metadata": {
    "collapsed": false,
    "pycharm": {
     "name": "#%% md\n"
    }
   },
   "source": [
    "\n",
    "<h1> Daily MS Patch Metrics </h1>"
   ]
  },
  {
   "cell_type": "markdown",
   "id": "98a606e00968bd59",
   "metadata": {
    "collapsed": false,
    "pycharm": {
     "name": "#%% md\n"
    }
   },
   "source": [
    "# DataFrame Creation from API\n",
    "## Prepare for DataFrame Creation\n",
    "### Set Export Folder"
   ]
  },
  {
   "cell_type": "code",
   "execution_count": null,
   "id": "e90170265f001729",
   "metadata": {
    "pycharm": {
     "name": "#%%\n"
    }
   },
   "outputs": [],
   "source": [
    "# Data Shaping\n",
    "import pandas as pd\n",
    "import numpy as np\n",
    "import re\n",
    "import datetime as dt\n",
    "\n",
    "# Visualization\n",
    "import matplotlib.pyplot as plt\n",
    "import seaborn as sns\n",
    "\n",
    "# File Handling and Export\n",
    "import json\n",
    "import csv\n",
    "import xlrd"
   ]
  },
  {
   "cell_type": "code",
   "execution_count": null,
   "id": "d623843768cae507",
   "metadata": {
    "pycharm": {
     "name": "#%%\n"
    }
   },
   "outputs": [],
   "source": [
    "# add current timestamp to filename for reference\n",
    "current_time = (dt.datetime.utcnow().strftime('%Y_%m_%d_%H%M%S'))\n",
    "\n",
    "# git repo folder\n",
    "git_folder = 'd:/git/example_infrastructure_data_dev'\n",
    "\n",
    "# export folder will contain all csv exported DataFrames for Ticket Creation\n",
    "export_folder = 'd:/exports/'"
   ]
  },
  {
   "cell_type": "markdown",
   "id": "d95a0afe32c95c06",
   "metadata": {
    "collapsed": false,
    "pycharm": {
     "name": "#%% md\n"
    }
   },
   "source": [
    "### Import Modules, Create env Variables"
   ]
  },
  {
   "cell_type": "code",
   "execution_count": null,
   "id": "eeb032ea6105e467",
   "metadata": {
    "pycharm": {
     "name": "#%%\n"
    }
   },
   "outputs": [],
   "source": [
    "# import configparser for env secrets\n",
    "from configparser import ConfigParser\n",
    "\n",
    "config = ConfigParser()\n",
    "config.read(f'{git_folder}/config/env.ini')\n",
    "import requests\n",
    "from requests.structures import CaseInsensitiveDict"
   ]
  },
  {
   "cell_type": "code",
   "execution_count": null,
   "id": "4ae8fc30d920fc0d",
   "metadata": {
    "pycharm": {
     "name": "#%%\n"
    }
   },
   "outputs": [],
   "source": [
    "# import and assign secrets from env.ini\n",
    "\n",
    "dattormm_config = config['dattormm']\n",
    "\n",
    "base_uri = dattormm_config['base_uri']"
   ]
  },
  {
   "cell_type": "markdown",
   "id": "90e349c77dbaee0b",
   "metadata": {
    "collapsed": false,
    "pycharm": {
     "name": "#%% md\n"
    }
   },
   "source": [
    "## Create auth token"
   ]
  },
  {
   "cell_type": "code",
   "execution_count": null,
   "id": "3eaee42fe2d92ba0",
   "metadata": {
    "pycharm": {
     "name": "#%%\n"
    }
   },
   "outputs": [],
   "source": [
    "# call token api url\n",
    "token_uri = f'{base_uri}/auth/oauth/token'\n",
    "\n",
    "\n",
    "# construct header\n",
    "headers = CaseInsensitiveDict()\n",
    "headers['Content-Type'] = 'application/x-www-form-urlencoded'\n",
    "\n",
    "# construct req body\n",
    "data = CaseInsensitiveDict()\n",
    "data['grant_type'] = 'password'\n",
    "data['username'] = dattormm_config['api_key']\n",
    "data['password'] = dattormm_config['api_secret']\n",
    "\n",
    "# request content response\n",
    "resp = requests.post(token_uri, headers=headers, data=data, auth=('public-client', 'public'))\n",
    "content = resp.content.decode('utf-8')\n",
    "c_dict = json.loads(content)\n",
    "\n",
    "access_token = c_dict['access_token']"
   ]
  },
  {
   "cell_type": "markdown",
   "id": "e1ecbe165470f6cf",
   "metadata": {
    "collapsed": false,
    "pycharm": {
     "name": "#%% md\n"
    }
   },
   "source": [
    "## Create DataFrame via API Call Iteration\n"
   ]
  },
  {
   "cell_type": "code",
   "execution_count": null,
   "id": "8e54b32ba339918e",
   "metadata": {
    "pycharm": {
     "name": "#%%\n"
    }
   },
   "outputs": [],
   "source": [
    "\n",
    "## Create Devices DataFrame\n",
    "# request content response\n",
    "request_url = f'{base_uri}/api/v2/account/devices'\n",
    "\n",
    "# construct header\n",
    "headers = CaseInsensitiveDict()\n",
    "headers['Authorization'] = f'Bearer {access_token}'\n",
    "headers['Content-Type'] = 'application/json'\n",
    "\n",
    "# construct req body\n",
    "data = ''\n",
    "\n",
    "print(f'Request URL: {request_url}')\n",
    "\n",
    "resp = requests.get(request_url, headers=headers, data=data)\n",
    "content = resp.content.decode('utf-8')\n",
    "c_dict = json.loads(content)\n",
    "\n",
    "\n",
    "# iterate and combine remaining pages\n",
    "df_devices = pd.DataFrame(c_dict['devices'])\n",
    "while c_dict['pageDetails']['nextPageUrl']:\n",
    "    next_page = c_dict['pageDetails']['nextPageUrl']\n",
    "    resp = requests.get(next_page, headers=headers, data=data)\n",
    "    content = resp.content.decode('utf-8')\n",
    "    c_dict = json.loads(content)\n",
    "\n",
    "    df_current_page = pd.DataFrame(c_dict['devices'])\n",
    "    df_devices = pd.concat([df_devices, df_current_page], ignore_index=False)"
   ]
  },
  {
   "cell_type": "markdown",
   "id": "36fa72e036759cd8",
   "metadata": {
    "collapsed": false,
    "pycharm": {
     "name": "#%% md\n"
    }
   },
   "source": [
    "# Data Shaping"
   ]
  },
  {
   "cell_type": "markdown",
   "id": "2c7a97a64cf115d6",
   "metadata": {
    "collapsed": false,
    "pycharm": {
     "name": "#%% md\n"
    }
   },
   "source": [
    "## Create New Columns from Dictionary Columns"
   ]
  },
  {
   "cell_type": "markdown",
   "id": "90de25ac12abd3b8",
   "metadata": {
    "collapsed": false,
    "pycharm": {
     "name": "#%% md\n"
    }
   },
   "source": [
    "### Set Index to device UID"
   ]
  },
  {
   "cell_type": "code",
   "execution_count": null,
   "id": "c678992b3e62e3a3",
   "metadata": {
    "pycharm": {
     "name": "#%%\n"
    }
   },
   "outputs": [],
   "source": [
    "df_devices.set_index('uid',inplace=True)"
   ]
  },
  {
   "cell_type": "markdown",
   "id": "7034746d98cd22f1",
   "metadata": {
    "collapsed": false,
    "pycharm": {
     "name": "#%% md\n"
    }
   },
   "source": [
    "### Type | Category"
   ]
  },
  {
   "cell_type": "code",
   "execution_count": null,
   "id": "5c689724e90a525",
   "metadata": {
    "pycharm": {
     "name": "#%%\n"
    }
   },
   "outputs": [],
   "source": [
    "def device_category(device):\n",
    "    if device == None:\n",
    "        return None\n",
    "    else:\n",
    "        return device['category']"
   ]
  },
  {
   "cell_type": "code",
   "execution_count": null,
   "id": "2f9a5070e385354",
   "metadata": {
    "pycharm": {
     "name": "#%%\n"
    }
   },
   "outputs": [],
   "source": [
    "def device_type(device):\n",
    "    if device == None:\n",
    "        return None\n",
    "    else:\n",
    "        return device['type']"
   ]
  },
  {
   "cell_type": "code",
   "execution_count": null,
   "id": "a9e91efa67aea64",
   "metadata": {
    "pycharm": {
     "name": "#%%\n"
    }
   },
   "outputs": [],
   "source": [
    "df_devices['category'] = df_devices['deviceType'].apply(device_category)\n",
    "df_devices['type'] = df_devices['deviceType'].apply(device_type)\n",
    "\n",
    "# Rename 'type' values to split devices into (2) : 'computer' or 'server'\n",
    "#df_devices['type'].replace({'Desktop':'computer','Laptop':'computer','Server':'server'},inplace=True)"
   ]
  },
  {
   "cell_type": "code",
   "execution_count": null,
   "id": "720c970a4100ef2f",
   "metadata": {
    "pycharm": {
     "name": "#%%\n"
    }
   },
   "outputs": [],
   "source": [
    "df_devices.drop(columns='deviceType',inplace=True)"
   ]
  },
  {
   "cell_type": "markdown",
   "id": "75f526b864c9a250",
   "metadata": {
    "collapsed": false,
    "pycharm": {
     "name": "#%% md\n"
    }
   },
   "source": [
    "### Patch Managment Breakdown\n",
    " patchStatus | patchesApprovedPending | patchesNotApproved | patchesInstalled"
   ]
  },
  {
   "cell_type": "code",
   "execution_count": null,
   "id": "4cdae946e33c1be1",
   "metadata": {
    "pycharm": {
     "name": "#%%\n"
    }
   },
   "outputs": [],
   "source": [
    "# patchStatus\n",
    "def patch_status(patch_managment):\n",
    "    return patch_managment['patchStatus']\n",
    "\n",
    "df_devices['patchStatus'] = df_devices['patchManagement'].apply(patch_status)\n",
    "\n",
    "# patchesApprovedPending\n",
    "def patches_approved_pending(patch_management):\n",
    "    return patch_management['patchesApprovedPending']\n",
    "\n",
    "df_devices['patchesApprovedPending'] = df_devices['patchManagement'].apply(patches_approved_pending)\n",
    "\n",
    "# patchesNotApproved\n",
    "def patches_not_approved(patch_managment):\n",
    "    return patch_managment['patchesNotApproved']\n",
    "\n",
    "df_devices['patchesNotApproved'] = df_devices['patchManagement'].apply(patches_not_approved)\n",
    "\n",
    "# patchesInstalled\n",
    "def patches_installed(patch_management):\n",
    "    return patch_management['patchesInstalled']\n",
    "\n",
    "df_devices['patchesInstalled'] = df_devices['patchManagement'].apply(patches_installed)\n",
    "\n",
    "\n",
    "# drop patchManagement {inplace=True}\n",
    "df_devices.drop('patchManagement',axis=1,inplace=True)"
   ]
  },
  {
   "cell_type": "markdown",
   "id": "c4917d88bdbe4678",
   "metadata": {
    "collapsed": false,
    "pycharm": {
     "name": "#%% md\n"
    }
   },
   "source": [
    "### Patch Percent Patched Calculated Column\n",
    "(Compliance Percentage = PatchesApproved / Patches Installed)"
   ]
  },
  {
   "cell_type": "markdown",
   "id": "a05b646d5b98814c",
   "metadata": {
    "collapsed": false,
    "pycharm": {
     "name": "#%% md\n"
    }
   },
   "source": [
    "## Drop 'antivirus'"
   ]
  },
  {
   "cell_type": "code",
   "execution_count": null,
   "id": "797cff9258e33243",
   "metadata": {
    "pycharm": {
     "name": "#%%\n"
    }
   },
   "outputs": [],
   "source": [
    "df_devices.drop('antivirus',axis=1,inplace=True)"
   ]
  },
  {
   "cell_type": "markdown",
   "id": "e59a10f8d9e0ee71",
   "metadata": {
    "collapsed": false,
    "pycharm": {
     "name": "#%% md\n"
    }
   },
   "source": [
    "## Create Time Columns and Timedate Shaping"
   ]
  },
  {
   "cell_type": "markdown",
   "id": "4753c1f4f82f7c79",
   "metadata": {
    "collapsed": false,
    "pycharm": {
     "name": "#%% md\n"
    }
   },
   "source": [
    "### Add Timezone Column from UDF"
   ]
  },
  {
   "cell_type": "code",
   "execution_count": null,
   "id": "62daffe836064343",
   "metadata": {
    "pycharm": {
     "name": "#%%\n"
    }
   },
   "outputs": [],
   "source": [
    "# Timezone\n",
    "def local_timezone(udf):\n",
    "    return udf['udf10']\n",
    "\n",
    "df_devices['localTimezone'] = df_devices['udf'].apply(local_timezone)\n",
    "\n",
    "# drop udf {inplace=True}\n",
    "df_devices.drop('udf',axis=1,inplace=True)"
   ]
  },
  {
   "cell_type": "markdown",
   "id": "906e111c3c3b98ff",
   "metadata": {
    "collapsed": false,
    "pycharm": {
     "name": "#%% md\n"
    }
   },
   "source": [
    "### Create Date Correlation Columns"
   ]
  },
  {
   "cell_type": "code",
   "execution_count": null,
   "id": "e43c7828ad3018ab",
   "metadata": {
    "pycharm": {
     "name": "#%%\n"
    }
   },
   "outputs": [],
   "source": [
    "# all date columns\n",
    "parse_dates =  ['lastAuditDate','lastSeen','lastReboot','creationDate',]"
   ]
  },
  {
   "cell_type": "markdown",
   "id": "65e4c9abfb1ba368",
   "metadata": {
    "collapsed": false,
    "pycharm": {
     "name": "#%% md\n"
    }
   },
   "source": [
    "### Convert Epoch to UTC"
   ]
  },
  {
   "cell_type": "code",
   "execution_count": null,
   "id": "d0647df87a24b0dd",
   "metadata": {
    "pycharm": {
     "name": "#%%\n"
    }
   },
   "outputs": [],
   "source": [
    "df_devices['lastAuditDate'] = pd.to_datetime(df_devices['lastAuditDate'],unit='ms',errors='coerce')\n",
    "#df_devices['lastAuditDate'].head(5)"
   ]
  },
  {
   "cell_type": "code",
   "execution_count": null,
   "id": "d22954a3217002b1",
   "metadata": {
    "pycharm": {
     "name": "#%%\n"
    }
   },
   "outputs": [],
   "source": [
    "df_devices['lastSeen'] = pd.to_datetime(df_devices['lastSeen'],unit='ms',errors='coerce')\n",
    "#df_devices['lastSeen'].head(5)"
   ]
  },
  {
   "cell_type": "code",
   "execution_count": null,
   "id": "24efcbbd3850ac87",
   "metadata": {
    "pycharm": {
     "name": "#%%\n"
    }
   },
   "outputs": [],
   "source": [
    "df_devices['creationDate'] = pd.to_datetime(df_devices['creationDate'],unit='ms',errors='coerce')\n",
    "#df_devices['creationDate'].head(5)"
   ]
  },
  {
   "cell_type": "code",
   "execution_count": null,
   "id": "3e1fd958262830ad",
   "metadata": {
    "pycharm": {
     "name": "#%%\n"
    }
   },
   "outputs": [],
   "source": [
    "df_devices['lastReboot'] = pd.to_datetime(df_devices['lastReboot'],unit='ms',errors='coerce')\n",
    "#df_devices['lastReboot'].head(5)"
   ]
  },
  {
   "cell_type": "markdown",
   "id": "bc7abeddd4fb5364",
   "metadata": {
    "collapsed": false,
    "pycharm": {
     "name": "#%% md\n"
    }
   },
   "source": [
    "### Define and apply functions to create correlation columns"
   ]
  },
  {
   "cell_type": "code",
   "execution_count": null,
   "id": "654af7a51355b8b4",
   "metadata": {
    "pycharm": {
     "name": "#%%\n"
    }
   },
   "outputs": [],
   "source": [
    "def no_audit_7_days(last_audit):\n",
    "    if last_audit < dt.datetime.now() - dt.timedelta(days=7):\n",
    "        return 1\n",
    "    else:\n",
    "        return 0"
   ]
  },
  {
   "cell_type": "code",
   "execution_count": null,
   "id": "b5bbd2415e91bdd9",
   "metadata": {
    "pycharm": {
     "name": "#%%\n"
    }
   },
   "outputs": [],
   "source": [
    "def no_audit_30_days(last_audit):\n",
    "    if last_audit < dt.datetime.now() - dt.timedelta(days=30):\n",
    "        return 1\n",
    "    else:\n",
    "        return 0"
   ]
  },
  {
   "cell_type": "code",
   "execution_count": null,
   "id": "13c052676323d40c",
   "metadata": {
    "pycharm": {
     "name": "#%%\n"
    }
   },
   "outputs": [],
   "source": [
    "def offline_30_days(last_seen):\n",
    "    if last_seen < dt.datetime.now() - dt.timedelta(days=30):\n",
    "        return 1\n",
    "    else:\n",
    "        return 0"
   ]
  },
  {
   "cell_type": "code",
   "execution_count": null,
   "id": "1379763d223dbe3a",
   "metadata": {
    "pycharm": {
     "name": "#%%\n"
    }
   },
   "outputs": [],
   "source": [
    "def no_reboot_30_days(last_reboot):\n",
    "    if last_reboot < dt.datetime.now() - dt.timedelta(days=30):\n",
    "        return 1\n",
    "    else:\n",
    "        return 0"
   ]
  },
  {
   "cell_type": "code",
   "execution_count": null,
   "id": "edcbec1a6458a479",
   "metadata": {
    "pycharm": {
     "name": "#%%\n"
    }
   },
   "outputs": [],
   "source": [
    "# Create Column - Devices Last Audit > 7 days\n",
    "df_devices['noAudit7Days'] = df_devices['lastAuditDate'].apply(no_audit_7_days)"
   ]
  },
  {
   "cell_type": "code",
   "execution_count": null,
   "id": "3d5ed073845ede75",
   "metadata": {
    "pycharm": {
     "name": "#%%\n"
    }
   },
   "outputs": [],
   "source": [
    "# Create Column - Devices Last Audit > 7 days\n",
    "df_devices['noAudit30Days'] = df_devices['lastAuditDate'].apply(no_audit_30_days)"
   ]
  },
  {
   "cell_type": "code",
   "execution_count": null,
   "id": "a85f89df88ee2ba0",
   "metadata": {
    "pycharm": {
     "name": "#%%\n"
    }
   },
   "outputs": [],
   "source": [
    "# Create Column - Devices Offline 30 Days\n",
    "df_devices['offline30Days'] = df_devices['lastSeen'].apply(offline_30_days)"
   ]
  },
  {
   "cell_type": "code",
   "execution_count": null,
   "id": "600eb63ffabd5262",
   "metadata": {
    "pycharm": {
     "name": "#%%\n"
    }
   },
   "outputs": [],
   "source": [
    "# Create Column - Last Reboot Extended Duration and Online without Reboot Extended Duration\n",
    "df_devices['noReboot30Days'] = df_devices['lastReboot'].apply(no_reboot_30_days)"
   ]
  },
  {
   "cell_type": "code",
   "execution_count": null,
   "id": "19edf5c4fbd7dcf6",
   "metadata": {
    "pycharm": {
     "name": "#%%\n"
    }
   },
   "outputs": [],
   "source": [
    "# Create DF copy for reference\n",
    "df_raw_data = df_devices"
   ]
  },
  {
   "cell_type": "code",
   "execution_count": null,
   "id": "eac9cf31b4524088",
   "metadata": {
    "pycharm": {
     "name": "#%%\n"
    }
   },
   "outputs": [],
   "source": [
    "df_devices['patchStatusPercent'] = round( 100 - ((df_devices['patchesApprovedPending'] / ((df_devices['patchesApprovedPending'] + df_devices['patchesInstalled']) ) * 100)),2)"
   ]
  },
  {
   "cell_type": "markdown",
   "id": "c50dba271a4c3775",
   "metadata": {
    "collapsed": false,
    "pycharm": {
     "name": "#%% md\n"
    }
   },
   "source": [
    "## Device OS EOL isEOL and daysTillEol"
   ]
  },
  {
   "cell_type": "markdown",
   "id": "55f7e684bac7b14",
   "metadata": {
    "collapsed": false,
    "pycharm": {
     "name": "#%% md\n"
    }
   },
   "source": [
    "### EOL OS List as Parse"
   ]
  },
  {
   "cell_type": "raw",
   "id": "fd7aa4c3213ad8ac",
   "metadata": {
    "collapsed": false,
    "pycharm": {
     "name": "#%% raw\n"
    }
   },
   "source": [
    "df = pd.read_csv(f'{git_folder}.csv')\n",
    "ms_eol_os = []\n",
    "for index,row in df.iterrows():\n",
    "    eol_dict = {}\n",
    "    osname = row['osName']\n",
    "    oseol = row['osEndofLifeDate']\n",
    "    eol_dict[osname] = oseol\n",
    "    ms_eol_os.append(eol_dict)"
   ]
  },
  {
   "cell_type": "raw",
   "id": "5686009cce741021",
   "metadata": {
    "collapsed": false,
    "pycharm": {
     "name": "#%% raw\n"
    }
   },
   "source": [
    "def addEOL(operatingSystem):\n",
    "    for os in ms_eol_os:\n",
    "        for k,v in os.items():\n",
    "            if operatingSystem == k:\n",
    "                return v"
   ]
  },
  {
   "cell_type": "raw",
   "id": "8cb81297ffcb4974",
   "metadata": {
    "collapsed": false,
    "pycharm": {
     "name": "#%% raw\n"
    }
   },
   "source": [
    "def isEOL(osEndofLifeDate):\n",
    "    try:\n",
    "        timedelta = dt.datetime.now() - osEndofLifeDate\n",
    "        if timedelta.days > 0:\n",
    "            return 1\n",
    "        else:\n",
    "            return 0\n",
    "    except Exception as e:\n",
    "        print(e)"
   ]
  },
  {
   "cell_type": "raw",
   "id": "98d12772cf80460c",
   "metadata": {
    "collapsed": false,
    "pycharm": {
     "name": "#%% raw\n"
    }
   },
   "source": [
    "df_devices['osEndofLifeDate'] = df_devices['operatingSystem'].apply(addEOL)"
   ]
  },
  {
   "cell_type": "raw",
   "id": "7e99cfdd54b38e3b",
   "metadata": {
    "collapsed": false,
    "pycharm": {
     "name": "#%% raw\n"
    }
   },
   "source": [
    "df_devices_timefix = pd.to_datetime(df_devices['osEndofLifeDate'],unit='ns')\n",
    "df_devices['osEndofLifeDate'] = df_devices_timefix.values.astype('datetime64[s]')\n",
    "#df_devices.drop('osEndofLifeDate',axis=1,inplace=True)"
   ]
  },
  {
   "cell_type": "raw",
   "id": "43e8c2bcc5c84cec",
   "metadata": {
    "collapsed": false,
    "pycharm": {
     "name": "#%% raw\n"
    }
   },
   "source": [
    "df_devices['isEOL'] = df_devices['osEndofLifeDate'].apply(isEOL)"
   ]
  },
  {
   "cell_type": "markdown",
   "id": "c18df88c34eb08d7",
   "metadata": {
    "collapsed": false,
    "pycharm": {
     "name": "#%% md\n"
    }
   },
   "source": [
    "## DattoRMM DataFrame Data Standardization Shaping"
   ]
  },
  {
   "cell_type": "markdown",
   "id": "970f25e47fa717f4",
   "metadata": {
    "collapsed": false,
    "pycharm": {
     "name": "#%% md\n"
    }
   },
   "source": [
    "### Hostname to_upper()"
   ]
  },
  {
   "cell_type": "code",
   "execution_count": null,
   "id": "3c46436d63c15284",
   "metadata": {
    "pycharm": {
     "name": "#%%\n"
    }
   },
   "outputs": [],
   "source": [
    "df_devices['hostname'] = df_devices['hostname'].str.upper()"
   ]
  },
  {
   "cell_type": "markdown",
   "id": "a1a3d898eb6ab0c3",
   "metadata": {
    "collapsed": false,
    "pycharm": {
     "name": "#%% md\n"
    }
   },
   "source": [
    "### Replace Dtypes with Int64"
   ]
  },
  {
   "cell_type": "code",
   "execution_count": null,
   "id": "703e1877703ef037",
   "metadata": {
    "pycharm": {
     "name": "#%%\n"
    }
   },
   "outputs": [],
   "source": [
    "convert_to_int_mask = ((df_devices.dtypes == 'float') | (df_devices.dtypes == 'bool') | (df_devices.dtypes == 'uint8')) & (df_devices.columns != 'patchStatusPercent')\n",
    "convert_to_int = df_devices.dtypes[convert_to_int_mask].index.tolist()"
   ]
  },
  {
   "cell_type": "code",
   "execution_count": null,
   "id": "47b4731ef68795b3",
   "metadata": {
    "pycharm": {
     "name": "#%%\n"
    }
   },
   "outputs": [],
   "source": [
    "df_devices[convert_to_int] = df_devices[convert_to_int].astype('Int64')"
   ]
  },
  {
   "cell_type": "markdown",
   "id": "d91c61803957259e",
   "metadata": {
    "collapsed": false,
    "pycharm": {
     "name": "#%% md\n"
    }
   },
   "source": [
    "## Add Dummy Columns"
   ]
  },
  {
   "cell_type": "markdown",
   "id": "30a71ece19b03ce0",
   "metadata": {
    "collapsed": false,
    "pycharm": {
     "name": "#%% md\n"
    }
   },
   "source": [
    "### Add 'patchStatus' Dummy Columns"
   ]
  },
  {
   "cell_type": "code",
   "execution_count": null,
   "id": "8d9ff0ad0bac621b",
   "metadata": {
    "pycharm": {
     "name": "#%%\n"
    }
   },
   "outputs": [],
   "source": [
    "df_patch_status = pd.get_dummies(df_devices['patchStatus'],prefix='patchStatus',prefix_sep='')\n",
    "df_patch_status.drop('patchStatusNoPolicy',axis=1, inplace=True)\n",
    "df_devices = df_devices.join(df_patch_status)\n",
    "df_devices.drop('patchStatus',axis=1,inplace=True)"
   ]
  },
  {
   "cell_type": "markdown",
   "id": "5d8f0dbcbfdeb2dd",
   "metadata": {
    "collapsed": false,
    "pycharm": {
     "name": "#%% md\n"
    }
   },
   "source": [
    "### Add 'category' Dummy Columns"
   ]
  },
  {
   "cell_type": "code",
   "execution_count": null,
   "id": "c739fe283bde334",
   "metadata": {
    "pycharm": {
     "name": "#%%\n"
    }
   },
   "outputs": [],
   "source": [
    "df_category = pd.get_dummies(df_devices['category'],prefix='is',prefix_sep='')\n",
    "df_category.drop('isDesktop',axis=1,inplace=True)\n",
    "df_devices = df_devices.join(df_category)\n",
    "df_devices.drop('category',axis=1,inplace=True)"
   ]
  },
  {
   "cell_type": "markdown",
   "id": "49a6d1569050496c",
   "metadata": {
    "collapsed": false,
    "pycharm": {
     "name": "#%% md\n"
    }
   },
   "source": [
    "## Add Report Creation Date Info Column"
   ]
  },
  {
   "cell_type": "code",
   "execution_count": null,
   "id": "6d893df2bf87c49a",
   "metadata": {
    "pycharm": {
     "name": "#%%\n"
    }
   },
   "outputs": [],
   "source": [
    "report_creation_date = (dt.datetime.utcnow().strftime('%Y-%m-%d %H:%M:%S'))\n",
    "df_devices['reportCreationDate'] = report_creation_date"
   ]
  },
  {
   "cell_type": "markdown",
   "id": "baa1a749f770abf5",
   "metadata": {
    "collapsed": false,
    "pycharm": {
     "name": "#%% md\n"
    }
   },
   "source": [
    "# Initial Metrics and CSV Creation"
   ]
  },
  {
   "cell_type": "markdown",
   "id": "655210ec8eff6b70",
   "metadata": {
    "collapsed": false,
    "pycharm": {
     "name": "#%% md\n"
    }
   },
   "source": [
    "## All Fields"
   ]
  },
  {
   "cell_type": "code",
   "execution_count": null,
   "id": "9d7f8f05d553acf4",
   "metadata": {
    "pycharm": {
     "name": "#%%\n"
    }
   },
   "outputs": [],
   "source": "df_devices.to_csv(export_folder + 'all_fields_' + str(current_time) + '.csv',index=False)"
  },
  {
   "cell_type": "markdown",
   "id": "2b863698eb10f5b0",
   "metadata": {
    "collapsed": false,
    "pycharm": {
     "name": "#%% md\n"
    }
   },
   "source": [
    "## Reboot Issues"
   ]
  },
  {
   "cell_type": "markdown",
   "id": "ba294089901f9d6a",
   "metadata": {
    "collapsed": false,
    "pycharm": {
     "name": "#%% md\n"
    }
   },
   "source": [
    "### Empty 'Last Reboot' Field"
   ]
  },
  {
   "cell_type": "code",
   "execution_count": null,
   "id": "ab7ac46ee8d6d741",
   "metadata": {
    "pycharm": {
     "name": "#%%\n"
    }
   },
   "outputs": [],
   "source": "df_devices[df_devices['lastReboot'].fillna('Missing') == 'Missing'].to_csv(export_folder + 'last_reboot_isnull_' + str(current_time) + '.csv',index=False)"
  },
  {
   "cell_type": "markdown",
   "id": "b4239f7e6e38b01a",
   "metadata": {
    "collapsed": false,
    "pycharm": {
     "name": "#%% md\n"
    }
   },
   "source": [
    "### No Reboot > 60 Days"
   ]
  },
  {
   "cell_type": "code",
   "execution_count": null,
   "id": "7e8b9caad68c88e9",
   "metadata": {
    "pycharm": {
     "name": "#%%\n"
    }
   },
   "outputs": [],
   "source": "df_devices[df_devices['noReboot30Days'] == 1].to_csv(export_folder + 'no_reboot_30_days_' + str(current_time) + '.csv',index=False)"
  },
  {
   "cell_type": "markdown",
   "id": "ca4cf21bae5ba980",
   "metadata": {
    "collapsed": false,
    "pycharm": {
     "name": "#%% md\n"
    }
   },
   "source": [
    "### No Reboot Since Last Year"
   ]
  },
  {
   "cell_type": "code",
   "execution_count": null,
   "id": "40a69be5802cf625",
   "metadata": {
    "pycharm": {
     "name": "#%%\n"
    }
   },
   "outputs": [],
   "source": "df_devices[df_devices['lastReboot'].dt.year == dt.datetime.utcnow().year - 1].to_csv(export_folder + 'no_reboot_current_yr_' + str(current_time) + '.csv',index=False)"
  },
  {
   "cell_type": "markdown",
   "id": "bb6be4093f42b7db",
   "metadata": {
    "collapsed": false,
    "pycharm": {
     "name": "#%% md\n"
    }
   },
   "source": [
    "### No Reboot in 2 Years"
   ]
  },
  {
   "cell_type": "code",
   "execution_count": null,
   "id": "364a6d164641f73d",
   "metadata": {
    "pycharm": {
     "name": "#%%\n"
    }
   },
   "outputs": [],
   "source": "df_devices[df_devices['lastReboot'].dt.year == dt.datetime.utcnow().year - 2].to_csv(export_folder + 'no_reboot_2yrs_' + str(current_time) + '.csv',index=False)"
  },
  {
   "cell_type": "markdown",
   "id": "470bb09a71d642a8",
   "metadata": {
    "collapsed": false,
    "pycharm": {
     "name": "#%% md\n"
    }
   },
   "source": [
    "## DattoRMM Audit Issues"
   ]
  },
  {
   "cell_type": "markdown",
   "id": "daf2b8e6fcd72c46",
   "metadata": {
    "collapsed": false,
    "pycharm": {
     "name": "#%% md\n"
    }
   },
   "source": [
    "### Empty 'Last Audit' Field"
   ]
  },
  {
   "cell_type": "code",
   "execution_count": null,
   "id": "4924f2f428de69aa",
   "metadata": {
    "pycharm": {
     "name": "#%%\n"
    }
   },
   "outputs": [],
   "source": "df_devices[df_devices['lastAuditDate'].fillna('Missing') == 'Missing'].to_csv(export_folder + 'last_audit_isnull_' + str(current_time) + '.csv',index=False)"
  },
  {
   "cell_type": "markdown",
   "id": "2b6715037a584352",
   "metadata": {
    "collapsed": false,
    "pycharm": {
     "name": "#%% md\n"
    }
   },
   "source": [
    "### No Audit > 7 days"
   ]
  },
  {
   "cell_type": "code",
   "execution_count": null,
   "id": "bd5b66628f35cbe1",
   "metadata": {
    "pycharm": {
     "name": "#%%\n"
    }
   },
   "outputs": [],
   "source": "df_devices[df_devices['noAudit7Days'] == 1].to_csv(export_folder + 'no_audit_7days_' + str(current_time) + '.csv',index=False)"
  },
  {
   "cell_type": "markdown",
   "id": "6a04090faa5925ac",
   "metadata": {
    "collapsed": false,
    "pycharm": {
     "name": "#%% md\n"
    }
   },
   "source": [
    "### No Audit > 30 days"
   ]
  },
  {
   "cell_type": "code",
   "execution_count": null,
   "id": "e7cd3ff1d880c039",
   "metadata": {
    "pycharm": {
     "name": "#%%\n"
    }
   },
   "outputs": [],
   "source": "df_devices[df_devices['noAudit30Days'] == 1].to_csv(export_folder + 'no_audit_30days_' + str(current_time) + '.csv',index=False)"
  },
  {
   "cell_type": "markdown",
   "id": "66b1819bf0006c81",
   "metadata": {
    "collapsed": false,
    "pycharm": {
     "name": "#%% md\n"
    }
   },
   "source": [
    "### No Audit Since Last Year"
   ]
  },
  {
   "cell_type": "code",
   "execution_count": null,
   "id": "79ef1d1cdbe7981a",
   "metadata": {
    "pycharm": {
     "name": "#%%\n"
    }
   },
   "outputs": [],
   "source": "df_devices[df_devices['lastAuditDate'].dt.year == dt.datetime.utcnow().year - 1].to_csv(export_folder + 'no_audit_current_yr_' + str(current_time) + '.csv',index=False)"
  },
  {
   "cell_type": "markdown",
   "id": "5d7c7901aa1dbf10",
   "metadata": {
    "collapsed": false,
    "pycharm": {
     "name": "#%% md\n"
    }
   },
   "source": [
    "## Patch Status"
   ]
  },
  {
   "cell_type": "markdown",
   "id": "5bfa3756af5768d4",
   "metadata": {
    "collapsed": false,
    "pycharm": {
     "name": "#%% md\n"
    }
   },
   "source": [
    "### Install Error Status and Online > 30 days"
   ]
  },
  {
   "cell_type": "code",
   "execution_count": null,
   "id": "b2a14431a7d472c",
   "metadata": {
    "pycharm": {
     "name": "#%%\n"
    }
   },
   "outputs": [],
   "source": "df_devices[(df_devices['patchStatusInstallError'] == 1) & (df_devices['offline30Days'] == 0)].to_csv(export_folder + 'patchStatus_InstallError_isonline_' + str(current_time) + '.csv',index=False)"
  },
  {
   "cell_type": "markdown",
   "id": "a4821b84a68b5455",
   "metadata": {
    "collapsed": false,
    "pycharm": {
     "name": "#%% md\n"
    }
   },
   "source": [
    "### Reboot Required Status and Online > 30 days"
   ]
  },
  {
   "cell_type": "code",
   "execution_count": null,
   "id": "8f45a6183fa0bc36",
   "metadata": {
    "pycharm": {
     "name": "#%%\n"
    }
   },
   "outputs": [],
   "source": "df_devices[(df_devices['patchStatusRebootRequired'] == 1) & (df_devices['offline30Days'] == 0)].to_csv(export_folder + 'patchStatus_RebootRequired_isonline_' + str(current_time) + '.csv',index=False)"
  },
  {
   "cell_type": "markdown",
   "id": "ca5383c8fdd0abfe",
   "metadata": {
    "collapsed": false,
    "pycharm": {
     "name": "#%% md\n"
    }
   },
   "source": [
    "### No Data Status and Online > 30 days"
   ]
  },
  {
   "cell_type": "code",
   "execution_count": null,
   "id": "cd87cca4233f41a9",
   "metadata": {
    "pycharm": {
     "name": "#%%\n"
    }
   },
   "outputs": [],
   "source": "df_devices[(df_devices['patchStatusNoData'] == 1) & (df_devices['offline30Days'] == 0)].to_csv(export_folder + 'patchStatus_NoData_isonline_' + str(current_time) + '.csv',index=False)"
  },
  {
   "cell_type": "markdown",
   "id": "67e3df4714c29e9f",
   "metadata": {
    "collapsed": false,
    "pycharm": {
     "name": "#%% md\n"
    }
   },
   "source": [
    "## Patch Percentage"
   ]
  },
  {
   "cell_type": "markdown",
   "id": "9ed9014f526528b",
   "metadata": {
    "collapsed": false,
    "pycharm": {
     "name": "#%% md\n"
    }
   },
   "source": [
    "### Patch Status Percentage under 95%"
   ]
  },
  {
   "cell_type": "code",
   "execution_count": null,
   "id": "5cfde3671daf01ba",
   "metadata": {
    "pycharm": {
     "name": "#%%\n"
    }
   },
   "outputs": [],
   "source": "df_devices[df_devices['patchStatusPercent'] < 95].to_csv(export_folder + 'patchStatus_Under_95_' + str(current_time) + '.csv',index=False)"
  },
  {
   "cell_type": "markdown",
   "id": "8b7b06817ab0adf5",
   "metadata": {
    "collapsed": false,
    "pycharm": {
     "name": "#%% md\n"
    }
   },
   "source": [
    "# Service Delivery Reports\n",
    "(ticket creation report)"
   ]
  },
  {
   "cell_type": "markdown",
   "id": "17de0a839b8d83f7",
   "metadata": {
    "collapsed": false,
    "pycharm": {
     "name": "#%% md\n"
    }
   },
   "source": [
    "## MS Patching Service Report Shaping Criteria"
   ]
  },
  {
   "cell_type": "code",
   "execution_count": null,
   "id": "ecaf3e2d22983f17",
   "metadata": {
    "pycharm": {
     "name": "#%%\n"
    }
   },
   "outputs": [],
   "source": [
    "df = pd.read_csv(f'{git_folder}/dictionaries/datto_rmm_ms_patching_report.dict')\n",
    "ms_patching = {}\n",
    "ms_patching['siteNames'] = list(df['siteName'].dropna())\n",
    "df = pd.read_csv(f'{git_folder}/dictionaries/service_delivery_standard_columns.dict')\n",
    "ms_patching['columns'] = list(df['columns'].dropna())"
   ]
  },
  {
   "cell_type": "markdown",
   "id": "3ee2649189342131",
   "metadata": {
    "collapsed": false,
    "pycharm": {
     "name": "#%% md\n"
    }
   },
   "source": [
    "## Create Filtered Service Delivery DataFrame"
   ]
  },
  {
   "cell_type": "code",
   "execution_count": null,
   "id": "5f334a80285cc6e7",
   "metadata": {
    "pycharm": {
     "name": "#%%\n"
    }
   },
   "outputs": [],
   "source": [
    "df_service_delivery = df_devices[df_devices['siteName'].isin(ms_patching['siteNames'])]\n",
    "df_service_delivery = df_service_delivery[ms_patching['columns']]"
   ]
  },
  {
   "cell_type": "markdown",
   "id": "b8753fc73f95833e",
   "metadata": {
    "collapsed": false,
    "pycharm": {
     "name": "#%% md\n"
    }
   },
   "source": [
    "### Service Delivery - No Audit or No Data > 30 Days (not including offline30Days)"
   ]
  },
  {
   "cell_type": "code",
   "execution_count": null,
   "id": "edb07cbed5a6a1e1",
   "metadata": {
    "pycharm": {
     "name": "#%%\n"
    }
   },
   "outputs": [],
   "source": "df_service_delivery[((df_service_delivery['noAudit30Days'] == 1) | (df_service_delivery['patchStatusNoData'] == 1)) & df_service_delivery['offline30Days'] == 0].to_csv(export_folder + 'service_delivery_no_audit_no_data_30days_' + str(current_time) + '.csv')"
  },
  {
   "cell_type": "markdown",
   "id": "1ff43e6ef561291e",
   "metadata": {
    "collapsed": false,
    "pycharm": {
     "name": "#%% md\n"
    }
   },
   "source": [
    "### Service Delivery - Offline > 30 Days"
   ]
  },
  {
   "cell_type": "code",
   "execution_count": null,
   "id": "ab34dd12175d396c",
   "metadata": {
    "pycharm": {
     "name": "#%%\n"
    }
   },
   "outputs": [],
   "source": "df_service_delivery[df_service_delivery['offline30Days'] == 1].to_csv(export_folder + 'service_delivery_offline_30days_' + str(current_time) + '.csv')"
  },
  {
   "cell_type": "markdown",
   "id": "1432fe0c246fae9e",
   "metadata": {
    "collapsed": false,
    "pycharm": {
     "name": "#%% md\n"
    }
   },
   "source": [
    "### Service Delivery - Patch Status Percentage under 95% and Online > 30 days"
   ]
  },
  {
   "cell_type": "code",
   "execution_count": null,
   "id": "6b09cb562afb0d23",
   "metadata": {
    "pycharm": {
     "name": "#%%\n"
    }
   },
   "outputs": [],
   "source": "df_service_delivery[(df_service_delivery['patchStatusPercent'] < 95) & (df_service_delivery['offline30Days'] == 0)].to_csv(export_folder + 'service_delivery_patchStatus_Under_95_isOnline_' + str(current_time) + '.csv')"
  },
  {
   "cell_type": "markdown",
   "id": "1c2f0dce3f5b49c8",
   "metadata": {
    "collapsed": false,
    "pycharm": {
     "name": "#%% md\n"
    }
   },
   "source": [
    "### Service Delivery - Device EOL (out of compliance)"
   ]
  },
  {
   "cell_type": "code",
   "execution_count": null,
   "id": "3cdd51e7d5a74574",
   "metadata": {
    "pycharm": {
     "name": "#%%\n"
    }
   },
   "outputs": [],
   "source": "df_service_delivery[df_service_delivery['isEOL'] == 1].to_csv(export_folder + 'service_delivery_eol_devices_' + str(current_time) + '.csv')"
  },
  {
   "cell_type": "code",
   "execution_count": null,
   "id": "4ac2451bd3ef2095",
   "metadata": {
    "pycharm": {
     "name": "#%%\n"
    }
   },
   "outputs": [],
   "source": []
  }
 ],
 "metadata": {
  "kernelspec": {
   "display_name": "Python 3 (ipykernel)",
   "language": "python",
   "name": "python3"
  },
  "language_info": {
   "codemirror_mode": {
    "name": "ipython",
    "version": 3
   },
   "file_extension": ".py",
   "mimetype": "text/x-python",
   "name": "python",
   "nbconvert_exporter": "python",
   "pygments_lexer": "ipython3",
   "version": "3.10.4"
  }
 },
 "nbformat": 4,
 "nbformat_minor": 5
}
