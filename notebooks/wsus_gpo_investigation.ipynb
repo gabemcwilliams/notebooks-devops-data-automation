{
 "cells": [
  {
   "cell_type": "code",
   "execution_count": null,
   "id": "initial_id",
   "metadata": {},
   "outputs": [],
   "source": [
    "import traceback\n",
    "\n",
    "import pandas as pd\n",
    "import re\n",
    "import os\n",
    "import xml.etree.ElementTree as ET"
   ]
  },
  {
   "cell_type": "code",
   "execution_count": null,
   "id": "2f14a2baa5b2a4c6",
   "metadata": {},
   "outputs": [],
   "source": [
    "\"\"\"\n",
    "WSUS GPO Investigation Script\n",
    "-----------------------------\n",
    "\n",
    "Parses a backup directory of Group Policy Objects (GPOs) exported in XML format to extract\n",
    "policy metadata and identify any GPOs that reference WSUS servers or update-related configurations.\n",
    "\n",
    "Main Capabilities:\n",
    "------------------\n",
    "- Recursively scans backup folders to collect `.xml` GPO policy files\n",
    "- Parses XML structure into flat key-value metadata per GPO\n",
    "- Extracts creation and modification timestamps\n",
    "- Searches for keywords like 'update server' or 'wsus' in file contents\n",
    "- Generates:\n",
    "    - Full parsed metadata CSV (`.csv`)\n",
    "    - Filtered subset with WSUS/update-related references (`.csv`)\n",
    "\n",
    "Use Cases:\n",
    "----------\n",
    "- Compliance and patch management audits\n",
    "- Detection of unauthorized WSUS configurations\n",
    "- GPO policy visibility and reporting\n",
    "\n",
    "Author: Gabe McWilliams\n",
    "\"\"\"\n"
   ]
  },
  {
   "cell_type": "code",
   "execution_count": null,
   "id": "7f0b5f46880e3a2b",
   "metadata": {},
   "outputs": [],
   "source": [
    "source_dir = \"./data/gpo_backup_2024_07_16\""
   ]
  },
  {
   "cell_type": "code",
   "execution_count": null,
   "id": "10d7a5cda9625607",
   "metadata": {},
   "outputs": [],
   "source": [
    "folders_set = set()\n",
    "\n",
    "for root, dirs, files in os.walk(source_dir):\n",
    "    for directory in dirs[1:]:\n",
    "        result = re.sub(r'\\\\{1}.*', '', root.replace(f'{source_dir}\\\\', \"\")),\n",
    "        # print(fr'{source_dir}/{result[0]}')\n",
    "        folders_set.add(fr'{source_dir}/{result[0]}')\n",
    "\n",
    "files_list = []\n",
    "for folder in folders_set:\n",
    "    for root, dirs, files in os.walk(folder):\n",
    "        for file in files:\n",
    "            if file.lower().endswith('xml'):\n",
    "                files_list.append(\n",
    "                    {\n",
    "                        \"gpo_uuid\": (re.sub(r'[{}]+', '', (folder.replace(f'{source_dir}/', \"\")))),\n",
    "                        \"file_info\": {\n",
    "                            'filepath': f'{root}/{file}',\n",
    "                            \"file_name\": file,\n",
    "                            'folder': folder,\n",
    "                            'created_at': pd.to_datetime(os.path.getctime(f'{root}/{file}')),\n",
    "                            'last_modified_at': pd.to_datetime(os.path.getmtime(f'{root}/{file}'))\n",
    "                        }\n",
    "                    }\n",
    "                )"
   ]
  },
  {
   "cell_type": "code",
   "execution_count": null,
   "id": "d3f8b40bd336a6d1",
   "metadata": {},
   "outputs": [],
   "source": [
    "def strip_tag(tag: str) -> str:\n",
    "    return str(re.sub(r'\\{.*\\}', '', tag))\n",
    "\n",
    "\n",
    "def strip_text(text: str | None) -> str:\n",
    "    if text is None:\n",
    "        return ''\n",
    "    return str(re.sub(r'[{}]+', '', text))"
   ]
  },
  {
   "cell_type": "code",
   "execution_count": null,
   "id": "a520201a1e1a377a",
   "metadata": {},
   "outputs": [],
   "source": [
    "gpo_info_dict = {}\n",
    "\n",
    "for file in files_list[:]:\n",
    "    try:\n",
    "        file_info_dict = gpo_info_dict.get(file['gpo_uuid'], {})\n",
    "        contents_dict = {}\n",
    "        print(f'Processing {file[\"file_info\"][\"filepath\"]}\\n')\n",
    "\n",
    "        tree = ET.parse(file[\"file_info\"]['filepath'])\n",
    "        root = tree.getroot()\n",
    "\n",
    "        for r in root:\n",
    "            print('-' * 80)\n",
    "            if r.attrib:\n",
    "                for k, v in r.attrib.items():\n",
    "                    file_info_dict[k] = v\n",
    "            file_info_dict[strip_dict(r.tag)] = strip_text(r.text)\n",
    "\n",
    "            for c in r:\n",
    "                if c.attrib:\n",
    "                    for k, v in c.attrib.items():\n",
    "                        file_info_dict[k] = v\n",
    "\n",
    "                file_info_dict[strip_dict(c.tag)] = strip_text(c.text)\n",
    "\n",
    "        gpo_info_dict.update(\n",
    "            {file['gpo_uuid']: file_info_dict}\n",
    "        )\n",
    "\n",
    "    except Exception as e:\n",
    "        print(f'There was an exception creating a DF for {file[\"gpo_uuid\"]}')\n",
    "        print(traceback.format_exc())\n",
    "        continue\n",
    "\n"
   ]
  },
  {
   "cell_type": "code",
   "execution_count": null,
   "id": "39a57630cbaf4412",
   "metadata": {},
   "outputs": [],
   "source": [
    "df = pd.DataFrame()\n",
    "\n",
    "for k, v in gpo_info_dict.items():\n",
    "    ser_data_dict = {'gpo_uuid': k}\n",
    "    # print(k)\n",
    "\n",
    "    for key, val in v.items():\n",
    "        if isinstance(val, dict):\n",
    "            for kk, vv in val.items():\n",
    "                if isinstance(vv, dict):\n",
    "                    for kkk, vvv in vv.items():\n",
    "                        if isinstance(vvv, dict):\n",
    "                            for kkkk, vvvv in vvv.items():\n",
    "                                ser_data_dict[kkkk] = vvvv\n",
    "\n",
    "                        ser_data_dict[kkk] = vvv\n",
    "                ser_data_dict[kk] = vv\n",
    "        ser_data_dict[key] = val\n",
    "\n",
    "    df_current = pd.DataFrame([ser_data_dict])\n",
    "\n",
    "    df = pd.concat([df, df_current], ignore_index=True)"
   ]
  },
  {
   "cell_type": "code",
   "execution_count": null,
   "id": "3d776885b345fd93",
   "metadata": {},
   "outputs": [],
   "source": [
    "df = df.mask(df.eq('')).dropna(how='all', axis=1)"
   ]
  },
  {
   "cell_type": "code",
   "execution_count": null,
   "id": "57f5c7bfc5f68352",
   "metadata": {},
   "outputs": [],
   "source": "df.to_csv('.csv', index=False)"
  },
  {
   "cell_type": "code",
   "execution_count": null,
   "id": "5f3214e3bc1177c",
   "metadata": {},
   "outputs": [],
   "source": [
    "update_settings_uid_list = []\n",
    "\n",
    "for folder in folders_set:\n",
    "    for root, dirs, files in os.walk(folder):\n",
    "        for file in files:\n",
    "            if file.lower().endswith('xml'):\n",
    "                try:\n",
    "                    with open(f'{root}/{file}', 'r', encoding='utf-8') as f:\n",
    "                        lines = f.readlines()\n",
    "                        for line in lines:\n",
    "\n",
    "                            if (('update server' in line.lower()) | ('wsus' in line.lower())) & (\n",
    "                                    'investigation' not in line.lower()):\n",
    "                                print(line)\n",
    "                                # print(f'Updates Found in {root}/{file}')\n",
    "                                update_settings_uid_list.append(\n",
    "                                    re.sub(r'[{}]+', '', (folder.replace(f'{source_dir}/', \"\"))))\n",
    "                except:\n",
    "                    pass"
   ]
  },
  {
   "cell_type": "code",
   "execution_count": null,
   "id": "44426b07ffbfbac2",
   "metadata": {},
   "outputs": [],
   "source": "df[df['gpo_uuid'].isin(update_settings_uid_list)].to_csv('.csv', index=False)"
  },
  {
   "cell_type": "code",
   "execution_count": null,
   "id": "dcbcca05e4e1710b",
   "metadata": {},
   "outputs": [],
   "source": []
  }
 ],
 "metadata": {
  "kernelspec": {
   "display_name": "Python 3",
   "language": "python",
   "name": "python3"
  },
  "language_info": {
   "codemirror_mode": {
    "name": "ipython",
    "version": 2
   },
   "file_extension": "[REDACTED][REDACTED]/.py",
   "mimetype": "text/x-python",
   "name": "python",
   "nbconvert_exporter": "python",
   "pygments_lexer": "ipython2",
   "version": "2.7.6"
  }
 },
 "nbformat": 4,
 "nbformat_minor": 5
}
