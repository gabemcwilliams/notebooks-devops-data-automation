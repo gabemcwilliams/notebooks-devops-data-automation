{
 "cells": [
  {
   "cell_type": "code",
   "execution_count": null,
   "id": "initial_id",
   "metadata": {},
   "outputs": [],
   "source": [
    "import pandas as pd\n",
    "import numpy as np\n",
    "import re\n",
    "import os\n",
    "import datetime as dt\n",
    "import matplotlib.pyplot as plt\n",
    "import seaborn as sns"
   ]
  },
  {
   "cell_type": "code",
   "execution_count": null,
   "id": "9711b7811c295b97",
   "metadata": {},
   "outputs": [],
   "source": [
    "\"\"\"\n",
    "Teamwork Time Entries Processor & Visualizer\n",
    "--------------------------------------------\n",
    "\n",
    "This script processes a Teamwork time log CSV file and generates per-person\n",
    "CSV reports and scatter plots, showing daily time entries by project.\n",
    "\n",
    "Steps Performed:\n",
    "----------------\n",
    "1. Reads time entry CSV (e.g., Teamwork export).\n",
    "2. Strips timezone data from the date column.\n",
    "3. Converts and sorts date values chronologically.\n",
    "4. Builds a list of unique people and creates a time-filled dataframe per person.\n",
    "5. Fills in missing days with zero-hours rows for consistent timelines.\n",
    "6. Generates per-user CSV files and Seaborn scatter plots of daily time entry hours.\n",
    "7. Saves results (CSV + PNG) in an export folder (cleared on each run).\n",
    "\n",
    "Assumptions:\n",
    "------------\n",
    "- The CSV must have at least these columns: ['date', 'person-id', 'person-first-name',\n",
    "  'person-last-name', 'hoursDecimal', 'project-name'].\n",
    "- The file name format is time_entries_YYYY_MM_DD_*.csv.\n",
    "- Time entries are for a single quarter or known time range.\n",
    "\n",
    "Output:\n",
    "-------\n",
    "- CSV and PNG scatter plots stored per user in the `save_dir` path.\n",
    "\n",
    "Author: Gabe McWilliams\n",
    "\"\"\"\n"
   ]
  },
  {
   "cell_type": "code",
   "execution_count": null,
   "id": "fe1eb39a78500ad7",
   "metadata": {},
   "outputs": [],
   "source": [
    "df = pd.read_csv(\".csv\")\n",
    "save_dir = fr\"d:/exports/time_entries/q1/src\""
   ]
  },
  {
   "cell_type": "code",
   "execution_count": null,
   "id": "35550a56d3dbe6e6",
   "metadata": {},
   "outputs": [],
   "source": [
    "def remove_tz(date_string: str) -> str:\n",
    "    # print(type(date_string))\n",
    "    result = re.match(r'([\\d-]+).*', date_string)\n",
    "    if result:\n",
    "        # print(result)\n",
    "        return result.group(1)\n",
    "    return None"
   ]
  },
  {
   "cell_type": "code",
   "execution_count": null,
   "id": "8c59504fb9cba290",
   "metadata": {},
   "outputs": [],
   "source": [
    "def quarterly_dates(quarter_num: int) -> dict:\n",
    "    if quarter_num == 1:\n",
    "        return {\n",
    "            \"start\": pd.to_datetime(\"2024-01-01\"),\n",
    "            \"end\": pd.to_datetime(\"2024-03-31\")\n",
    "        }\n",
    "    elif quarter_num == 2:\n",
    "        return {\n",
    "            \"start\": pd.to_datetime(\"2024-04-01\"),\n",
    "            \"end\": pd.to_datetime(\"2024-06-30\")\n",
    "        }\n",
    "    elif quarter_num == 3:\n",
    "        return {\n",
    "            \"start\": pd.to_datetime(\"2024-07-01\"),\n",
    "            \"end\": pd.to_datetime(\"2024-09-30\")\n",
    "        }\n",
    "    elif quarter_num == 4:\n",
    "        return {\n",
    "            \"start\": pd.to_datetime(\"2024-10-01\"),\n",
    "            \"end\": pd.to_datetime(\"2024-12-31\")\n",
    "        }\n",
    "\n",
    "    else:\n",
    "        print(\"Must Choose: [1,2,3,4]\")"
   ]
  },
  {
   "cell_type": "code",
   "execution_count": null,
   "id": "b30c9fbda8972f7",
   "metadata": {},
   "outputs": [],
   "source": [
    "df['date'] = df['date'].apply(remove_tz)"
   ]
  },
  {
   "cell_type": "code",
   "execution_count": null,
   "id": "3196936e984e9905",
   "metadata": {},
   "outputs": [],
   "source": [
    "df.loc[:, 'date'] = pd.to_datetime(df['date'])"
   ]
  },
  {
   "cell_type": "code",
   "execution_count": null,
   "id": "a4b899eb8827e552",
   "metadata": {},
   "outputs": [],
   "source": [
    "df.sort_values('date', inplace=True, ascending=False)"
   ]
  },
  {
   "cell_type": "code",
   "execution_count": null,
   "id": "daaf3b498cc5a32f",
   "metadata": {},
   "outputs": [],
   "source": [
    "df.loc[:, \"day\"] = df[\"date\"].apply(lambda x: (pd.to_datetime(x)).strftime(format='%Y-%m-%d'))"
   ]
  },
  {
   "cell_type": "code",
   "execution_count": null,
   "id": "3af752b11dfa6f03",
   "metadata": {},
   "outputs": [],
   "source": [
    "max_df_day = df.day.max()\n",
    "print(max_df_day)\n",
    "\n",
    "min_df_day = df.day.min()\n",
    "print(min_df_day)"
   ]
  },
  {
   "cell_type": "code",
   "execution_count": null,
   "id": "8dde7cf8f7f11531",
   "metadata": {},
   "outputs": [],
   "source": [
    "person_id_list = list(set(df[\"person-id\"]))"
   ]
  },
  {
   "cell_type": "code",
   "execution_count": null,
   "id": "2d3fc0487a141cb5",
   "metadata": {},
   "outputs": [],
   "source": [
    "person_data_list = []\n",
    "\n",
    "for person_id in person_id_list:\n",
    "    person_name = fr\"{(df[df['person-id'] == person_id]['person-first-name'].unique())[0]} {(df[df['person-id'] == person_id]['person-last-name'].unique())[0]}\"\n",
    "    person_data_list.append({\n",
    "        \"person_id\": person_id,\n",
    "        \"person_name\": person_name,\n",
    "        \"df\": df[df['person-id'] == person_id]\n",
    "    })"
   ]
  },
  {
   "cell_type": "code",
   "execution_count": null,
   "id": "fc9e6e021da0940a",
   "metadata": {},
   "outputs": [],
   "source": [
    "# clear all files in save folder to eliminate old bad data \n",
    "for root, dirs, files in os.walk(save_dir):\n",
    "    for f in files:\n",
    "        os.unlink(os.path.join(root, f))\n",
    "\n",
    "# iterate over all people to create data points    \n",
    "for person in person_data_list[:]:\n",
    "    df_user = person['df']\n",
    "    time_array = np.arange(\n",
    "        dt.datetime.strptime(min_df_day, '%Y-%m-%d'),\n",
    "        dt.datetime.strptime(max_df_day, '%Y-%m-%d'),\n",
    "        step=dt.timedelta(1)\n",
    "    )\n",
    "\n",
    "    # create array of empty time days to fill out the timeline\n",
    "    # shrt_time_array = [f'{str(t)[6:10]}' for t in time_array]\n",
    "    df_xticks = pd.DataFrame(columns=['day'], data=time_array)\n",
    "    df_xticks['hoursDecimal'] = 0.00\n",
    "    df_xticks['date'] = pd.to_datetime(df_xticks['day'])\n",
    "    df_xticks.sort_values('day', ascending=False, inplace=True)\n",
    "\n",
    "    df_xticks.loc[:, \"day\"] = df_xticks[\"date\"].apply(lambda x: (pd.to_datetime(x)).strftime(format='%Y-%m-%d'))\n",
    "    df_user.loc[:,'day'] = pd.to_datetime(df_user['day'], format='%Y-%m-%d')\n",
    "    \n",
    "\n",
    "    df_user = pd.concat([df_xticks, df_user], ignore_index=True)\n",
    "    df_user.loc[:,'hoursDecimal'] = df_user['hoursDecimal'].astype('float')\n",
    "\n",
    "    df_user.set_index('day', inplace=True)\n",
    "\n",
    "    # export csv data per agent\n",
    "    df_user.to_csv(\n",
    "        f\"{save_dir}/teamwork_time_entries_{person['person_id']}_{(person['person_name']).lower()}_{min_df_day}_{max_df_day}.csv\",\n",
    "        index=False)\n",
    "\n",
    "    fig = plt.figure(figsize=(60, 10))\n",
    "    ax = sns.scatterplot(data=df_user,\n",
    "                         x='day',\n",
    "                         y='hoursDecimal',\n",
    "                            \n",
    "                         hue='project-name',\n",
    "                         size='hoursDecimal',\n",
    "                         sizes=(50, 300),\n",
    "                         )\n",
    "\n",
    "    plt.xticks(ticks=list(map(str,df_user.index)))\n",
    "    ax.tick_params(axis='x', labelrotation=45)\n",
    "\n",
    "    plt.xlabel(\"Day of the Month\",\n",
    "               fontsize=10,\n",
    "               fontweight='bold',\n",
    "               labelpad=2)\n",
    "    \n",
    "    \n",
    "\n",
    "    plt.ylabel(\"Hours in Decimal Form\",\n",
    "               fontsize=10,\n",
    "               fontweight='bold',\n",
    "               labelpad=2)\n",
    "\n",
    "    plt.title(\n",
    "        f\"Teamwork - Time Entries - {person['person_id']} - {person['person_name']} - {min_df_day} to {max_df_day}\",\n",
    "        pad=10,\n",
    "        fontsize=20,\n",
    "        fontweight='bold')\n",
    "\n",
    "    plt.legend(bbox_to_anchor=(1.12, .49), loc='right', borderaxespad=0)\n",
    "    #    hue='company-name')\n",
    "\n",
    "    # fig.tight_layout()\n",
    "\n",
    "    fig.savefig(\n",
    "        f\"{save_dir}/teamwork_time_entries_{person['person_id']}_{(person['person_name']).lower()}_{min_df_day}_{max_df_day}.png\")\n",
    "    plt.close()"
   ]
  },
  {
   "cell_type": "code",
   "execution_count": null,
   "id": "9eccaa3d8c7a508f",
   "metadata": {},
   "outputs": [],
   "source": [
    "df_user"
   ]
  },
  {
   "cell_type": "code",
   "execution_count": null,
   "id": "ea8022649e02f9ce",
   "metadata": {},
   "outputs": [],
   "source": []
  }
 ],
 "metadata": {
  "kernelspec": {
   "display_name": "Python 3",
   "language": "python",
   "name": "python3"
  },
  "language_info": {
   "codemirror_mode": {
    "name": "ipython",
    "version": 2
   },
   "file_extension": "[REDACTED][REDACTED]/.py",
   "mimetype": "text/x-python",
   "name": "python",
   "nbconvert_exporter": "python",
   "pygments_lexer": "ipython2",
   "version": "2.7.6"
  }
 },
 "nbformat": 4,
 "nbformat_minor": 5
}
