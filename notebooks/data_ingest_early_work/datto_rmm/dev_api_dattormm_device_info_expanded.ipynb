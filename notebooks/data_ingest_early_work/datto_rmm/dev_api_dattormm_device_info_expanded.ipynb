{
 "cells": [
  {
   "cell_type": "markdown",
   "id": "bc592af6bbe0a45d",
   "metadata": {
    "collapsed": false,
    "pycharm": {
     "name": "#%% md\n"
    }
   },
   "source": [
    "# DattoRMM - API - Device Info Expanded"
   ]
  },
  {
   "cell_type": "code",
   "execution_count": null,
   "id": "[REDACTED_UUID]",
   "metadata": {
    "pycharm": {
     "name": "#%%\n"
    }
   },
   "outputs": [],
   "source": [
    "import requests\n",
    "import json\n",
    "import pandas as pd\n",
    "\n",
    "# import configparser for env secrets\n",
    "from configparser import ConfigParser\n",
    "config = ConfigParser()\n",
    "config.read('d:/git/example_infrastructure_data_dev/config/env.ini')\n",
    "import requests\n",
    "from requests.structures import CaseInsensitiveDict"
   ]
  },
  {
   "cell_type": "code",
   "execution_count": null,
   "id": "aa1be2d5aa775800",
   "metadata": {
    "pycharm": {
     "name": "#%%\n"
    }
   },
   "outputs": [],
   "source": [
    "\n",
    "# import and assign secrets from env.ini\n",
    "base_uri = config['dattormm']['base_uri']\n",
    "api_key = config['dattormm']['api_key']\n",
    "api_secret = config['dattormm']['api_secret']"
   ]
  },
  {
   "cell_type": "markdown",
   "id": "bc2ed1050cbc30b9",
   "metadata": {
    "collapsed": false,
    "pycharm": {
     "name": "#%% md\n"
    }
   },
   "source": [
    "## Create Auth Token"
   ]
  },
  {
   "cell_type": "code",
   "execution_count": null,
   "id": "a831997a",
   "metadata": {
    "pycharm": {
     "name": "#%%\n"
    }
   },
   "outputs": [],
   "source": [
    "# call token api url\n",
    "token_uri = config['dattormm']['token_uri']\n",
    "\n",
    "# construct header\n",
    "headers = CaseInsensitiveDict()\n",
    "headers['Content-Type'] = 'application/x-www-form-urlencoded'\n",
    "\n",
    "# construct req body\n",
    "data = CaseInsensitiveDict()\n",
    "data['grant_type'] = 'password'\n",
    "data['username'] = api_key\n",
    "data['password'] = api_secret\n",
    "\n",
    "# request content response\n",
    "resp = requests.post(token_uri, headers=headers, data=data, auth=('public-client', 'public'))\n",
    "content = resp.content.decode('utf-8')\n",
    "c_dict = json.loads(content)\n",
    "\n",
    "access_token = c_dict['access_token']"
   ]
  },
  {
   "cell_type": "markdown",
   "id": "78740a14a68c793b",
   "metadata": {
    "collapsed": false,
    "pycharm": {
     "name": "#%% md\n"
    }
   },
   "source": [
    "## Create All Devices DataFrame"
   ]
  },
  {
   "cell_type": "code",
   "execution_count": null,
   "id": "afc08ba4",
   "metadata": {
    "pycharm": {
     "name": "#%%\n"
    }
   },
   "outputs": [],
   "source": [
    "# request content response\n",
    "request_url = f'{base_uri}/account/devices'\n",
    "\n",
    "# construct header\n",
    "headers = CaseInsensitiveDict()\n",
    "headers['Authorization'] = f'Bearer {access_token}' \n",
    "headers['Content-Type'] = 'application/json'\n",
    "\n",
    "# construct req body\n",
    "data = ''\n",
    "\n",
    "print(f'Request URL: {request_url}')\n",
    "\n",
    "resp = requests.get(request_url, headers=headers, data=data)\n",
    "content = resp.content.decode('utf-8')\n",
    "c_dict = json.loads(content)\n",
    "print(c_dict['pageDetails']['nextPageUrl'])\n",
    "\n",
    "# iterate and combine remaining pages\n",
    "df_devices = pd.DataFrame(c_dict['devices'])\n",
    "while c_dict['pageDetails']['nextPageUrl']:\n",
    "    next_page = c_dict['pageDetails']['nextPageUrl']\n",
    "    resp = requests.get(next_page, headers=headers, data=data)\n",
    "    content = resp.content.decode('utf-8')\n",
    "    c_dict = json.loads(content)\n",
    "    print(c_dict['pageDetails']['nextPageUrl'])\n",
    "    df_nextpage = pd.DataFrame(c_dict['devices'])\n",
    "    df_devices = pd.concat([df_devices,df_nextpage],ignore_index=False)"
   ]
  },
  {
   "cell_type": "code",
   "execution_count": null,
   "id": "870f767af88a1d29",
   "metadata": {
    "pycharm": {
     "name": "#%%\n"
    }
   },
   "outputs": [],
   "source": [
    "df_devices"
   ]
  },
  {
   "cell_type": "code",
   "execution_count": null,
   "id": "1b12a00632e61b1",
   "metadata": {
    "pycharm": {
     "name": "#%%\n"
    }
   },
   "outputs": [],
   "source": [
    "df_manage = df_devices[['uid','hostname','patchManagement']]"
   ]
  },
  {
   "cell_type": "code",
   "execution_count": null,
   "id": "3ed5b091",
   "metadata": {
    "pycharm": {
     "name": "#%%\n"
    }
   },
   "outputs": [],
   "source": [
    "for k,v in df_manage['patchManagement'].items():\n",
    "    print(k,v)"
   ]
  },
  {
   "cell_type": "markdown",
   "id": "9afbf8216addd39c",
   "metadata": {
    "collapsed": false,
    "pycharm": {
     "name": "#%% md\n"
    }
   },
   "source": [
    "## Create Construct Expanded DataFrame"
   ]
  },
  {
   "cell_type": "code",
   "execution_count": null,
   "id": "1f091737d1bae8b2",
   "metadata": {
    "pycharm": {
     "name": "#%%\n"
    }
   },
   "outputs": [],
   "source": [
    "device_uid = '65954bf2-ad63-9e0a-ea4c-7f57a3d38ec8'\n",
    "component_id = '[REDACTED_UUID]'"
   ]
  },
  {
   "cell_type": "code",
   "execution_count": null,
   "id": "aec39ccd45f4c885",
   "metadata": {
    "pycharm": {
     "name": "#%%\n"
    }
   },
   "outputs": [],
   "source": [
    "# request content response\n",
    "#request_url = 'https://concord-api.centrastage.net/api/v2/device/65954bf2-ad63-9e0a-ea4c-7f57a3d38ec8/alerts/resolved'\n",
    "#request_url = f'{base_uri}/job'\n",
    "# construct header\n",
    "headers = CaseInsensitiveDict()\n",
    "headers['Authorization'] = f'Bearer {access_token}'\n",
    "headers['Content-Type'] = 'application/json'\n",
    "\n",
    "# construct req body\n",
    "data = CaseInsensitiveDict()\n",
    "data['jobComponent'] = '[REDACTED_UUID] '\n",
    "\n",
    "#print(f'Request URL: {request_url}')\n",
    "\n",
    "resp = requests.get(request_url, headers=headers, data=data)\n",
    "content = resp.content.decode('utf-8')\n",
    "c_dict = json.loads(content)\n",
    "print(c_dict)\n",
    "device_info_json = c_dict"
   ]
  },
  {
   "cell_type": "code",
   "execution_count": null,
   "id": "c94259fc1a27f6f",
   "metadata": {
    "pycharm": {
     "name": "#%%\n"
    }
   },
   "outputs": [],
   "source": [
    "device_info_json"
   ]
  },
  {
   "cell_type": "markdown",
   "id": "21c3a40b893d502e",
   "metadata": {
    "collapsed": false,
    "pycharm": {
     "name": "#%% md\n"
    }
   },
   "source": [
    "## Construct job lookup"
   ]
  },
  {
   "cell_type": "code",
   "execution_count": null,
   "id": "c01528606733525f",
   "metadata": {
    "pycharm": {
     "name": "#%%\n"
    }
   },
   "outputs": [],
   "source": [
    "## Create Construct Expanded DataFrame\n",
    "device_uid = '65954bf2-ad63-9e0a-ea4c-7f57a3d38ec8'\n",
    "site_id = '[REDACTED_UUID]'\n",
    "component_id = '[REDACTED_UUID]'\n",
    "\n",
    "# request content response\n",
    "request_url = 'https://concord-api.centrastage.net/api/v2/audit/device/65954bf2-ad63-9e0a-ea4c-7f57a3d38ec8'\n",
    "\n",
    "\n",
    "\n",
    "#request_url = f'{base_uri}/job'\n",
    "# construct header\n",
    "headers = CaseInsensitiveDict()\n",
    "headers['Authorization'] = f'Bearer {access_token}'\n",
    "headers['Content-Type'] = 'application/json'\n",
    "\n",
    "# construct req body\n",
    "data = CaseInsensitiveDict()\n",
    "#data['jobComponent'] = '[REDACTED_UUID] '\n",
    "\n",
    "#print(f'Request URL: {request_url}')\n",
    "\n",
    "resp = requests.get(request_url, headers=headers, data=data)\n",
    "content = resp.content.decode('utf-8')\n",
    "c_dict = json.loads(content)\n",
    "print(c_dict)\n",
    "device_info_json = c_dict"
   ]
  },
  {
   "cell_type": "code",
   "execution_count": null,
   "id": "b2ba37b23cb1719d",
   "metadata": {
    "pycharm": {
     "name": "#%%\n"
    }
   },
   "outputs": [],
   "source": []
  },
  {
   "cell_type": "code",
   "execution_count": null,
   "id": "55467db5a5749c8c",
   "metadata": {
    "pycharm": {
     "name": "#%%\n"
    }
   },
   "outputs": [],
   "source": [
    "device_info_json['portalUrl']"
   ]
  },
  {
   "cell_type": "code",
   "execution_count": null,
   "id": "1180dff7df10bc37",
   "metadata": {
    "pycharm": {
     "name": "#%%\n"
    }
   },
   "outputs": [],
   "source": [
    "device_info_json['systemInfo']"
   ]
  },
  {
   "cell_type": "code",
   "execution_count": null,
   "id": "25bd115300e9eb2f",
   "metadata": {
    "pycharm": {
     "name": "#%%\n"
    }
   },
   "outputs": [],
   "source": [
    "device_info_json['nics']"
   ]
  },
  {
   "cell_type": "code",
   "execution_count": null,
   "id": "d3575a6c59446eac",
   "metadata": {
    "pycharm": {
     "name": "#%%\n"
    }
   },
   "outputs": [],
   "source": [
    "device_info_json['processors']"
   ]
  },
  {
   "cell_type": "code",
   "execution_count": null,
   "id": "e9e65ef6f726874d",
   "metadata": {
    "pycharm": {
     "name": "#%%\n"
    }
   },
   "outputs": [],
   "source": [
    "device_info_json['physicalMemory']"
   ]
  },
  {
   "cell_type": "code",
   "execution_count": null,
   "id": "10a25f11bd844a6c",
   "metadata": {
    "pycharm": {
     "name": "#%%\n"
    }
   },
   "outputs": [],
   "source": []
  },
  {
   "cell_type": "code",
   "execution_count": null,
   "id": "50768620e5ab1bbb",
   "metadata": {
    "pycharm": {
     "name": "#%%\n"
    }
   },
   "outputs": [],
   "source": [
    "# iterate and combine remaining pages\n",
    "df_jobs = pd.DataFrame(c_dict['devices'])\n",
    "while c_dict['pageDetails']['nextPageUrl']:\n",
    "    next_page = c_dict['pageDetails']['nextPageUrl']\n",
    "    resp = requests.get(next_page, headers=headers, data=data)\n",
    "    content = resp.content.decode('utf-8')\n",
    "    c_dict = json.loads(content)\n",
    "    print(c_dict['pageDetails']['nextPageUrl'])\n",
    "    df_nextpage = pd.DataFrame(c_dict['devices'])\n",
    "    df_jobs = pd.concat([df_devices,df_nextpage],ignore_index=False)"
   ]
  },
  {
   "cell_type": "code",
   "execution_count": null,
   "id": "ffac1a8b1c94d64",
   "metadata": {
    "pycharm": {
     "name": "#%%\n"
    }
   },
   "outputs": [],
   "source": []
  },
  {
   "cell_type": "markdown",
   "id": "4013b4381c0b7e16",
   "metadata": {
    "collapsed": false,
    "pycharm": {
     "name": "#%% md\n"
    }
   },
   "source": [
    "## Site Filters"
   ]
  },
  {
   "cell_type": "code",
   "execution_count": null,
   "id": "793897f2d37d4dd7",
   "metadata": {
    "pycharm": {
     "name": "#%%\n"
    }
   },
   "outputs": [],
   "source": []
  },
  {
   "cell_type": "code",
   "execution_count": null,
   "id": "21ac61e2417d54da",
   "metadata": {
    "pycharm": {
     "name": "#%%\n"
    }
   },
   "outputs": [],
   "source": [
    "## Create Construct Expanded DataFrame\n",
    "device_uid = '65954bf2-ad63-9e0a-ea4c-7f57a3d38ec8'\n",
    "component_id = '[REDACTED_UUID]'\n",
    "# request content response\n",
    "\n",
    "\n",
    "# site variables\n",
    "request_url = f'https://concord-api.centrastage.net/api/v2/site/{site_id}/variables'\n",
    "\n",
    "# site filters\n",
    "request_url = f'https://concord-api.centrastage.net/api/v2/site/{site_id}/filters'\n",
    "\n",
    "# site alerts\n",
    "request_url = f'https://concord-api.centrastage.net/api/v2/site/{site_id}/alerts/open'\n",
    "\n",
    "\n",
    "# construct header\n",
    "headers = CaseInsensitiveDict()\n",
    "headers['Authorization'] = f'Bearer {access_token}'\n",
    "headers['Content-Type'] = 'application/json'\n",
    "\n",
    "# construct req body\n",
    "data = CaseInsensitiveDict()\n",
    "\n",
    "\n",
    "#print(f'Request URL: {request_url}')\n",
    "\n",
    "resp = requests.get(request_url, headers=headers, data=data)\n",
    "content = resp.content.decode('utf-8')\n",
    "c_dict = json.loads(content)\n",
    "print(c_dict)\n",
    "device_info_json = c_dict"
   ]
  },
  {
   "cell_type": "code",
   "execution_count": null,
   "id": "f6d739150c78687",
   "metadata": {
    "pycharm": {
     "name": "#%%\n"
    }
   },
   "outputs": [],
   "source": []
  }
 ],
 "metadata": {
  "kernelspec": {
   "display_name": "Python 3 (ipykernel)",
   "language": "python",
   "name": "python3"
  },
  "language_info": {
   "codemirror_mode": {
    "name": "ipython",
    "version": 3
   },
   "file_extension": "
   "name": "python",
   "nbconvert_exporter": "python",
   "pygments_lexer": "ipython3",
   "version": "3.10.4"
  }
 },
 "nbformat": 4,
 "nbformat_minor": 5
}
