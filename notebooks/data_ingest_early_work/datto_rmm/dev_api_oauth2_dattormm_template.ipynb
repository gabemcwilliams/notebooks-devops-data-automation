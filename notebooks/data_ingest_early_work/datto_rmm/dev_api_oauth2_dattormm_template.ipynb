{
 "cells": [
  {
   "cell_type": "markdown",
   "id": "da4f52a874584d02",
   "metadata": {
    "collapsed": false,
    "pycharm": {
     "name": "#%% md\n"
    }
   },
   "source": [
    "# DattoRMM API Template"
   ]
  },
  {
   "cell_type": "code",
   "execution_count": null,
   "id": "[REDACTED_UUID]",
   "metadata": {
    "pycharm": {
     "name": "#%%\n"
    }
   },
   "outputs": [],
   "source": [
    "import requests\n",
    "import json\n",
    "import pandas as pd\n",
    "\n",
    "# import configparser for env secrets\n",
    "from configparser import ConfigParser\n",
    "config = ConfigParser()\n",
    "config.read('d:/git/example_infrastructure_data_dev/config/env.ini')"
   ]
  },
  {
   "cell_type": "code",
   "execution_count": null,
   "id": "a2028710",
   "metadata": {
    "pycharm": {
     "name": "#%%\n"
    }
   },
   "outputs": [],
   "source": [
    "import requests\n",
    "from requests.structures import CaseInsensitiveDict\n",
    "\n",
    "# import and assign secrets from env.ini\n",
    "base_uri = config['dattormm']['base_uri']\n",
    "api_key = config['dattormm']['api_key']\n",
    "api_secret = config['dattormm']['api_secret']"
   ]
  },
  {
   "cell_type": "code",
   "execution_count": null,
   "id": "b5db78d3",
   "metadata": {
    "pycharm": {
     "name": "#%%\n"
    }
   },
   "outputs": [],
   "source": [
    "# call token api url\n",
    "token_uri = config['dattormm']['token_uri']\n",
    "\n",
    "# construct header\n",
    "headers = CaseInsensitiveDict()\n",
    "headers['Content-Type'] = 'application/x-www-form-urlencoded'\n",
    "\n",
    "# construct req body\n",
    "data = CaseInsensitiveDict()\n",
    "data['grant_type'] = 'password'\n",
    "data['username'] = api_key\n",
    "data['password'] = api_secret\n",
    "\n",
    "# request content response\n",
    "resp = requests.post(token_uri, headers=headers, data=data, auth=('public-client', 'public'))\n",
    "content = resp.content.decode('utf-8')\n",
    "c_dict = json.loads(content)\n",
    "\n",
    "access_token = c_dict['access_token']"
   ]
  },
  {
   "cell_type": "markdown",
   "id": "25986dd1b7da3a30",
   "metadata": {
    "collapsed": false,
    "pycharm": {
     "name": "#%% md\n"
    }
   },
   "source": [
    "## Create Devices DataFrame"
   ]
  },
  {
   "cell_type": "code",
   "execution_count": null,
   "id": "9f68e685",
   "metadata": {
    "pycharm": {
     "name": "#%%\n"
    }
   },
   "outputs": [],
   "source": [
    "# request content response\n",
    "request_url = f'{base_uri}/account/devices'\n",
    "\n",
    "# construct header\n",
    "headers = CaseInsensitiveDict()\n",
    "headers['Authorization'] = f'Bearer {access_token}' \n",
    "headers['Content-Type'] = 'application/json'\n",
    "\n",
    "# construct req body\n",
    "data = ''\n",
    "\n",
    "print(f'Request URL: {request_url}')\n",
    "\n",
    "resp = requests.get(request_url, headers=headers, data=data)\n",
    "content = resp.content.decode('utf-8')\n",
    "c_dict = json.loads(content)\n",
    "print(c_dict['pageDetails']['nextPageUrl'])\n",
    "\n",
    "# iterate and combine remaining pages\n",
    "df_devices = pd.DataFrame(c_dict['devices'])\n",
    "while c_dict['pageDetails']['nextPageUrl']:\n",
    "    next_page = c_dict['pageDetails']['nextPageUrl']\n",
    "    resp = requests.get(next_page, headers=headers, data=data)\n",
    "    content = resp.content.decode('utf-8')\n",
    "    c_dict = json.loads(content)\n",
    "    print(c_dict['pageDetails']['nextPageUrl'])\n",
    "    df_nextpage = pd.DataFrame(c_dict['devices'])\n",
    "    df_devices = pd.concat([df_devices,df_nextpage],ignore_index=False)"
   ]
  },
  {
   "cell_type": "code",
   "execution_count": null,
   "id": "ae3f2240",
   "metadata": {
    "pycharm": {
     "name": "#%%\n"
    }
   },
   "outputs": [],
   "source": [
    "df_devices"
   ]
  }
 ],
 "metadata": {
  "kernelspec": {
   "display_name": "Python 3 (ipykernel)",
   "language": "python",
   "name": "python3"
  },
  "language_info": {
   "codemirror_mode": {
    "name": "ipython",
    "version": 3
   },
   "file_extension": ".py",
   "mimetype": "text/x-python",
   "name": "python",
   "nbconvert_exporter": "python",
   "pygments_lexer": "ipython3",
   "version": "3.10.4"
  }
 },
 "nbformat": 4,
 "nbformat_minor": 5
}
