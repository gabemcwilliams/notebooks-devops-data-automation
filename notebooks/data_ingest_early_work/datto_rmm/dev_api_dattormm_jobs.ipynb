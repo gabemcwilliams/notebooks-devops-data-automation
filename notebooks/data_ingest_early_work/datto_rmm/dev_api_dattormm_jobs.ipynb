{
 "cells": [
  {
   "cell_type": "markdown",
   "id": "e0f107795aff483e",
   "metadata": {
    "collapsed": false,
    "pycharm": {
     "name": "#%% md\n"
    }
   },
   "source": [
    "# DattoRMM - API - Jobs"
   ]
  },
  {
   "cell_type": "code",
   "execution_count": null,
   "id": "[REDACTED_UUID],
   "metadata": {
    "pycharm": {
     "name": "#%%\n"
    }
   },
   "outputs": [],
   "source": [
    "import requests\n",
    "import json\n",
    "import pandas as pd\n",
    "\n",
    "import hvac\n",
    "import os"
   ]
  },
  {
   "cell_type": "code",
   "execution_count": null,
   "id": "ba547153",
   "metadata": {
    "pycharm": {
     "name": "#%%\n"
    }
   },
   "outputs": [],
   "source": [
    "import requests\n",
    "from requests.structures import CaseInsensitiveDict\n",
    "\n",
    "\n",
    "def read_secret(mount_point, path):\n",
    "    print(f\"VAULT_ADDR: {os.environ.get('VAULT_ADDR')}\")\n",
    "    print(f\"VAULT_NAMESPACE: {os.environ.get('VAULT_NAMESPACE')}\")\n",
    "    client = hvac.Client(url=os.environ.get(\"VAULT_ADDR\"))\n",
    "    resp = client.kv.v2.read_secret(mount_point=mount_point, path=f'/{path}')\n",
    "    secret = resp['data']['data']\n",
    "\n",
    "    return secret"
   ]
  },
  {
   "cell_type": "markdown",
   "id": "39cb20e92612f8a",
   "metadata": {
    "collapsed": false,
    "pycharm": {
     "name": "#%% md\n"
    }
   },
   "source": [
    "## Create Auth Token"
   ]
  },
  {
   "cell_type": "code",
   "execution_count": null,
   "id": "b51b64bebbf9a5ea",
   "metadata": {},
   "outputs": [],
   "source": [
    "secrets = read_secret(\"api\",\"DATTO_RMM\")"
   ]
  },
  {
   "cell_type": "code",
   "execution_count": null,
   "id": "aa14b573",
   "metadata": {
    "pycharm": {
     "name": "#%%\n"
    }
   },
   "outputs": [],
   "source": [
    "# call token api url\n",
    "token_uri = f'{secrets[\"base_uri\"]}/auth/oauth/token'\n",
    "\n",
    "# construct header\n",
    "headers = CaseInsensitiveDict()\n",
    "headers[\"Content-Type\"] = \"application/x-www-form-urlencoded\"\n",
    "\n",
    "# construct req body\n",
    "data = CaseInsensitiveDict()\n",
    "data[\"grant_type\"] = \"password\"\n",
    "data[\"username\"] = secrets[\"api_key\"]\n",
    "data[\"password\"] = secrets[\"api_secret\"]\n",
    "\n",
    "\n",
    "# request content response\n",
    "resp = requests.post(token_uri, headers=headers, data=data, auth=(\"public-client\", \"public\"))\n",
    "content = resp.content.decode(\"utf-8\")\n",
    "c_dict = json.loads(content)\n",
    "\n",
    "token = c_dict[\"access_token\"]\n"
   ]
  },
  {
   "cell_type": "markdown",
   "id": "1129929ee5eebd53",
   "metadata": {
    "collapsed": false,
    "pycharm": {
     "name": "#%% md\n"
    }
   },
   "source": [
    "## Create All Devices DataFrame"
   ]
  },
  {
   "cell_type": "code",
   "execution_count": null,
   "id": "b901de33",
   "metadata": {
    "pycharm": {
     "name": "#%%\n"
    }
   },
   "outputs": [],
   "source": [
    "# request content response\n",
    "request_url = f'{secrets[\"base_uri\"]}/account/devices'\n",
    "\n",
    "# construct header\n",
    "headers = CaseInsensitiveDict()\n",
    "headers['Authorization'] = f'Bearer {token}' \n",
    "headers['Content-Type'] = 'application/json'\n",
    "\n",
    "# construct req body\n",
    "data = ''\n",
    "\n",
    "print(f'Request URL: {request_url}')\n",
    "\n",
    "resp = requests.get(request_url, headers=headers, data=data)\n",
    "content = resp.content.decode('utf-8')\n",
    "c_dict = json.loads(content)\n",
    "print(c_dict['pageDetails']['nextPageUrl'])\n",
    "\n",
    "# iterate and combine remaining pages\n",
    "df_devices = pd.DataFrame(c_dict['devices'])\n",
    "while c_dict['pageDetails']['nextPageUrl']:\n",
    "    next_page = c_dict['pageDetails']['nextPageUrl']\n",
    "    resp = requests.get(next_page, headers=headers, data=data)\n",
    "    content = resp.content.decode('utf-8')\n",
    "    c_dict = json.loads(content)\n",
    "    print(c_dict['pageDetails']['nextPageUrl'])\n",
    "    df_nextpage = pd.DataFrame(c_dict['devices'])\n",
    "    df_devices = pd.concat([df_devices,df_nextpage],ignore_index=False)"
   ]
  },
  {
   "cell_type": "markdown",
   "id": "a084c535c67e2311",
   "metadata": {
    "collapsed": false,
    "pycharm": {
     "name": "#%% md\n"
    }
   },
   "source": [
    "## Construct job lookup"
   ]
  },
  {
   "cell_type": "code",
   "execution_count": null,
   "id": "a7c3237693de71c2",
   "metadata": {
    "pycharm": {
     "name": "#%%\n"
    }
   },
   "outputs": [],
   "source": [
    "## Create Construct Expanded DataFrame\n",
    "device_uid = '65954bf2-ad63-9e0a-ea4c-7f57a3d38ec8'\n",
    "site_id = '[REDACTED_UUID]'\n",
    "component_id = '[REDACTED_UUID]'\n",
    "job_id = '7644701'\n",
    "\n",
    "# job request content response\n",
    "#request_url = 'https://concord-api.centrastage.net/api/v2/job/[REDACTED_UUID]'\n",
    "\n",
    "# device open alerts request response\n",
    "#request_url = 'https://concord-api.centrastage.net/api/v2/device/ab61289c-58ca-7270-9175-6676354cd1ec/alerts/open'\n",
    "\n",
    "# device details request response\n",
    "#request_url = 'https://concord-api.centrastage.net/api/v2/audit/device/65954bf2-ad63-9e0a-ea4c-7f57a3d38ec8'\n",
    "\n",
    "# account open alerts request response\n",
    "request_url = 'https://concord-api.centrastage.net/api/v2/account/alerts/resolved'\n",
    "\n",
    "\n",
    "#request_url = f'{base_uri}/job'\n",
    "# construct header\n",
    "headers = CaseInsensitiveDict()\n",
    "headers['Authorization'] = f'Bearer {access_token}'\n",
    "headers['Content-Type'] = 'application/json'\n",
    "\n",
    "# construct req body\n",
    "data = CaseInsensitiveDict()\n",
    "#data['jobComponent'] = '[REDACTED_UUID] '\n",
    "\n",
    "#print(f'Request URL: {request_url}')\n",
    "\n",
    "resp = requests.get(request_url, headers=headers, data=data)\n",
    "content = resp.content.decode('utf-8')\n",
    "c_dict = json.loads(content)\n",
    "print(c_dict)\n",
    "device_info_json = c_dict"
   ]
  },
  {
   "cell_type": "code",
   "execution_count": null,
   "id": "11619963c1913dbc",
   "metadata": {
    "pycharm": {
     "name": "#%%\n"
    }
   },
   "outputs": [],
   "source": [
    "with open('.json', 'wb') as outf:\n",
    "    outf.write(resp.content)"
   ]
  },
  {
   "cell_type": "code",
   "execution_count": null,
   "id": "75058ce537a8ef82",
   "metadata": {
    "pycharm": {
     "name": "#%%\n"
    }
   },
   "outputs": [],
   "source": [
    "df = pd.DataFrame(c_dict['alerts'])"
   ]
  },
  {
   "cell_type": "code",
   "execution_count": null,
   "id": "48fca54d89b9074d",
   "metadata": {
    "pycharm": {
     "name": "#%%\n"
    }
   },
   "outputs": [],
   "source": []
  },
  {
   "cell_type": "code",
   "execution_count": null,
   "id": "a2c542888beee793",
   "metadata": {
    "pycharm": {
     "name": "#%%\n"
    }
   },
   "outputs": [],
   "source": []
  },
  {
   "cell_type": "code",
   "execution_count": null,
   "id": "e1cc1d9eba3c34c",
   "metadata": {
    "pycharm": {
     "name": "#%%\n"
    }
   },
   "outputs": [],
   "source": [
    "df[df['alertUid'] == '[REDACTED_UUID]']['diagnostics']"
   ]
  },
  {
   "cell_type": "code",
   "execution_count": null,
   "id": "383f6365b6b2054e",
   "metadata": {
    "pycharm": {
     "name": "#%%\n"
    }
   },
   "outputs": [],
   "source": "df.to_csv('.csv')"
  },
  {
   "cell_type": "code",
   "execution_count": null,
   "id": "aec9c18937b36f87",
   "metadata": {
    "pycharm": {
     "name": "#%%\n"
    }
   },
   "outputs": [],
   "source": []
  },
  {
   "cell_type": "code",
   "execution_count": null,
   "id": "e83a58885f0db3b5",
   "metadata": {
    "pycharm": {
     "name": "#%%\n"
    }
   },
   "outputs": [],
   "source": []
  },
  {
   "cell_type": "code",
   "execution_count": null,
   "id": "68afab0d193659da",
   "metadata": {
    "pycharm": {
     "name": "#%%\n"
    }
   },
   "outputs": [],
   "source": [
    "# iterate and combine remaining pages\n",
    "df_jobs = pd.DataFrame(c_dict['devices'])\n",
    "while c_dict['pageDetails']['nextPageUrl']:\n",
    "    next_page = c_dict['pageDetails']['nextPageUrl']\n",
    "    resp = requests.get(next_page, headers=headers, data=data)\n",
    "    content = resp.content.decode('utf-8')\n",
    "    c_dict = json.loads(content)\n",
    "    print(c_dict['pageDetails']['nextPageUrl'])\n",
    "    df_nextpage = pd.DataFrame(c_dict['devices'])\n",
    "    df_jobs = pd.concat([df_devices,df_nextpage],ignore_index=False)"
   ]
  },
  {
   "cell_type": "code",
   "execution_count": null,
   "id": "9b19108a8efd166e",
   "metadata": {
    "pycharm": {
     "name": "#%%\n"
    }
   },
   "outputs": [],
   "source": []
  },
  {
   "cell_type": "markdown",
   "id": "8bf934891201d456",
   "metadata": {
    "collapsed": false,
    "pycharm": {
     "name": "#%% md\n"
    }
   },
   "source": [
    "## Site Filters"
   ]
  },
  {
   "cell_type": "code",
   "execution_count": null,
   "id": "cb12b54f964d22f9",
   "metadata": {
    "pycharm": {
     "name": "#%%\n"
    }
   },
   "outputs": [],
   "source": []
  },
  {
   "cell_type": "code",
   "execution_count": null,
   "id": "5258a459552f5fe6",
   "metadata": {
    "pycharm": {
     "name": "#%%\n"
    }
   },
   "outputs": [],
   "source": [
    "## Create Construct Expanded DataFrame\n",
    "device_uid = '65954bf2-ad63-9e0a-ea4c-7f57a3d38ec8'\n",
    "component_id = '[REDACTED_UUID]'\n",
    "# request content response\n",
    "\n",
    "\n",
    "# site variables\n",
    "request_url = f'https://concord-api.centrastage.net/api/v2/site/{site_id}/variables'\n",
    "\n",
    "# site filters\n",
    "request_url = f'https://concord-api.centrastage.net/api/v2/site/{site_id}/filters'\n",
    "\n",
    "# site alerts\n",
    "request_url = f'https://concord-api.centrastage.net/api/v2/site/{site_id}/alerts/open'\n",
    "\n",
    "\n",
    "# construct header\n",
    "headers = CaseInsensitiveDict()\n",
    "headers['Authorization'] = f'Bearer {access_token}'\n",
    "headers['Content-Type'] = 'application/json'\n",
    "\n",
    "# construct req body\n",
    "data = CaseInsensitiveDict()\n",
    "\n",
    "\n",
    "#print(f'Request URL: {request_url}')\n",
    "\n",
    "resp = requests.get(request_url, headers=headers, data=data)\n",
    "content = resp.content.decode('utf-8')\n",
    "c_dict = json.loads(content)\n",
    "`print(c_dict)\n",
    "device_info_json = c_dict"
   ]
  },
  {
   "cell_type": "code",
   "execution_count": null,
   "id": "424ba953a24cfa08",
   "metadata": {
    "pycharm": {
     "name": "#%%\n"
    }
   },
   "outputs": [],
   "source": []
  }
 ],
 "metadata": {
  "kernelspec": {
   "display_name": "Python 3 (ipykernel)",
   "language": "python",
   "name": "python3"
  },
  "language_info": {
   "codemirror_mode": {
    "name": "ipython",
    "version": 3
   },
   "file_extension": ".py",
   "mimetype": "text/x-python",
   "name": "python",
   "nbconvert_exporter": "python",
   "pygments_lexer": "ipython3",
   "version": "3.10.4"
  }
 },
 "nbformat": 4,
 "nbformat_minor": 5
}
