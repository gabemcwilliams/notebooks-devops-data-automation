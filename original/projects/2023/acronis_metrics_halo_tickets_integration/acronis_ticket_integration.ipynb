{
 "cells": [
  {
   "cell_type": "code",
   "execution_count": null,
   "id": "148c9a18f4cbec10",
   "metadata": {},
   "outputs": [],
   "source": [
    "pd.options.mode.string_storage = \"pyarrow\""
   ]
  },
  {
   "cell_type": "code",
   "execution_count": null,
   "id": "e4e9fcf384e8da66",
   "metadata": {},
   "outputs": [],
   "source": [
    "table = \"api_2023_10_03_204502_halo_psa_tickets.parquet\""
   ]
  },
  {
   "cell_type": "code",
   "execution_count": null,
   "id": "b2c85d3bf2a633e2",
   "metadata": {},
   "outputs": [],
   "source": [
    "df = pd.read_parquet(table, dtype_backend=\"pyarrow\")"
   ]
  },
  {
   "cell_type": "code",
   "execution_count": null,
   "id": "63b872c535263481",
   "metadata": {},
   "outputs": [],
   "source": [
    "df[df[\"details\"].str.contains(\"cloud.acronis.com\")]"
   ]
  },
  {
   "cell_type": "code",
   "execution_count": null,
   "id": "57891ff0558f4d1f",
   "metadata": {},
   "outputs": [],
   "source": [
    "df[\"dateoccurred\"].max()"
   ]
  },
  {
   "cell_type": "code",
   "execution_count": null,
   "id": "97055d030e456264",
   "metadata": {},
   "outputs": [],
   "source": [
    "user_list = list(df['user_name'].unique())"
   ]
  },
  {
   "cell_type": "code",
   "execution_count": null,
   "id": "8099db77c98d2ddb",
   "metadata": {},
   "outputs": [],
   "source": [
    "df[df[\"id\"] == \"86065\"]"
   ]
  },
  {
   "cell_type": "code",
   "execution_count": null,
   "id": "b897c741c66b0942",
   "metadata": {},
   "outputs": [],
   "source": [
    "mask = df[\"id\"] == \"86065\""
   ]
  },
  {
   "cell_type": "code",
   "execution_count": null,
   "id": "26cb9ea65ee25b6d",
   "metadata": {},
   "outputs": [],
   "source": [
    "daily_report_mask = df[\"summary\"].str.contains(\"DAILY STATUS REPORT ON\")"
   ]
  },
  {
   "cell_type": "code",
   "execution_count": null,
   "id": "819a683cebee5fcb",
   "metadata": {},
   "outputs": [],
   "source": [
    "daily_df = df[daily_report_mask]"
   ]
  },
  {
   "cell_type": "code",
   "execution_count": null,
   "id": "94c0f11ad4ae3e01",
   "metadata": {},
   "outputs": [],
   "source": [
    "df[daily_report_mask][\"dateoccurred\"].max()"
   ]
  },
  {
   "cell_type": "code",
   "execution_count": null,
   "id": "e88d0ab583edec98",
   "metadata": {},
   "outputs": [],
   "source": [
    "df[daily_report_mask][\"dateoccurred\"].min()"
   ]
  },
  {
   "cell_type": "code",
   "execution_count": null,
   "id": "267afa4a7bc7f37",
   "metadata": {},
   "outputs": [],
   "source": [
    "df[\"dateoccurred\"].min()"
   ]
  },
  {
   "cell_type": "code",
   "execution_count": null,
   "id": "e22a9176489f64de",
   "metadata": {},
   "outputs": [],
   "source": "daily_df[[\"id\",\"summary\",\"dateoccurred\"]].to_csv(\".csv\", index=False)"
  },
  {
   "cell_type": "code",
   "execution_count": null,
   "id": "2805f28ce75309cb",
   "metadata": {},
   "outputs": [],
   "source": [
    "daily_df[daily_df[\"dateoccurred\"] > (dt.datetime.now() - dt.timedelta(days=30))].value_counts(\"client_name\")"
   ]
  },
  {
   "cell_type": "code",
   "execution_count": null,
   "id": "e4a1ab82fa5c36c",
   "metadata": {},
   "outputs": [],
   "source": []
  }
 ],
 "metadata": {
  "kernelspec": {
   "display_name": "Python 3",
   "language": "python",
   "name": "python3"
  },
  "language_info": {
   "codemirror_mode": {
    "name": "ipython",
    "version": 2
   },
   "file_extension": "[REDACTED][REDACTED]/.py",
   "mimetype": "text/x-python",
   "name": "python",
   "nbconvert_exporter": "python",
   "pygments_lexer": "ipython2",
   "version": "2.7.6"
  }
 },
 "nbformat": 4,
 "nbformat_minor": 5
}
