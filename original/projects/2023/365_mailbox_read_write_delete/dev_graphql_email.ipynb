{
 "cells": [
  {
   "cell_type": "code",
   "execution_count": null,
   "metadata": {
    "ExecuteTime": {
     "end_time": "2023-07-11T23:55:31.452440400Z",
     "start_time": "2023-07-11T23:55:30.215041Z"
    }
   },
   "outputs": [],
   "source": [
    "import pandas as pd\n",
    "from O365 import *\n",
    "import os\n",
    "import hvac"
   ]
  },
  {
   "cell_type": "code",
   "execution_count": null,
   "metadata": {
    "ExecuteTime": {
     "end_time": "2023-07-11T23:55:31.461447Z",
     "start_time": "2023-07-11T23:55:31.455441200Z"
    }
   },
   "outputs": [],
   "source": [
    "# self.__secrets = self.read_secret(self.__destination[\"TYPE\"], self.__destination[\"VARS\"])\n",
    "\n",
    "@staticmethod\n",
    "def read_secret(mount_point, path):\n",
    "    client = hvac.Client(url=os.environ.get(\"VAULT_ADDR\"))\n",
    "    resp = client.kv.v2.read_secret(mount_point=mount_point, path=f'/{path}')\n",
    "    secret = resp['data']['data']\n",
    "\n",
    "    return secret\n"
   ]
  },
  {
   "cell_type": "code",
   "execution_count": null,
   "metadata": {},
   "outputs": [],
   "source": []
  },
  {
   "cell_type": "code",
   "execution_count": null,
   "metadata": {},
   "outputs": [],
   "source": []
  },
  {
   "cell_type": "code",
   "execution_count": null,
   "metadata": {
    "ExecuteTime": {
     "end_time": "2023-07-11T23:59:37.411743700Z",
     "start_time": "2023-07-11T23:59:37.398875100Z"
    }
   },
   "outputs": [],
   "source": [
    "secrets = read_secret(\"azuread\", \"app_01\")"
   ]
  },
  {
   "cell_type": "code",
   "execution_count": null,
   "metadata": {
    "ExecuteTime": {
     "end_time": "2023-07-12T00:03:02.370189900Z",
     "start_time": "2023-07-12T00:03:02.356913Z"
    }
   },
   "outputs": [],
   "source": [
    "scopes = [\n",
    "    \"Mail.Read.Shared\",\n",
    "    \"Mail.ReadWrite.Shared\",\n",
    "    \"Mail.Send.Shared\",\n",
    "]"
   ]
  },
  {
   "cell_type": "code",
   "execution_count": null,
   "metadata": {
    "ExecuteTime": {
     "end_time": "2023-07-12T00:22:20.894955500Z",
     "start_time": "2023-07-12T00:22:20.889963400Z"
    }
   },
   "outputs": [],
   "source": [
    "from configparser import SectionProxy\n",
    "from azure.identity import DeviceCodeCredential\n",
    "from kiota_authentication_azure.azure_identity_authentication_provider import (\n",
    "    AzureIdentityAuthenticationProvider)\n",
    "from msgraph import GraphRequestAdapter, GraphServiceClient\n",
    "from msgraph.generated.me.me_request_builder import MeRequestBuilder\n",
    "from msgraph.generated.me.mail_folders.item.messages.messages_request_builder import (\n",
    "    MessagesRequestBuilder)\n",
    "from msgraph.generated.me.send_mail.send_mail_post_request_body import SendMailPostRequestBody\n",
    "from msgraph.generated.models.message import Message\n",
    "from msgraph.generated.models.item_body import ItemBody\n",
    "from msgraph.generated.models.body_type import BodyType\n",
    "from msgraph.generated.models.recipient import Recipient\n",
    "from msgraph.generated.models.email_address import EmailAddress\n",
    "\n",
    "\n",
    "device_code_credential = DeviceCodeCredential(\n",
    "    client_id=secrets[\"client_id\"],\n",
    "    tenant_id=secrets[\"tenant_id\"],\n",
    ")\n",
    "\n",
    "auth_provider = AzureIdentityAuthenticationProvider(\n",
    "    device_code_credential,\n",
    "    scopes=scopes)\n",
    "adapter = GraphRequestAdapter(auth_provider)\n",
    "client = GraphServiceClient(adapter)"
   ]
  },
  {
   "cell_type": "code",
   "execution_count": null,
   "metadata": {
    "ExecuteTime": {
     "end_time": "2023-07-12T00:22:38.604888900Z",
     "start_time": "2023-07-12T00:22:38.591444400Z"
    }
   },
   "outputs": [],
   "source": [
    "users = client.users"
   ]
  },
  {
   "cell_type": "code",
   "execution_count": null,
   "metadata": {
    "ExecuteTime": {
     "end_time": "2023-07-12T00:24:14.490434100Z",
     "start_time": "2023-07-12T00:24:14.475796600Z"
    }
   },
   "outputs": [],
   "source": [
    "async def get_users():\n",
    "    users = client.users\n",
    "    users = await users.request().get()\n",
    "    return users"
   ]
  },
  {
   "cell_type": "code",
   "execution_count": null,
   "metadata": {
    "ExecuteTime": {
     "end_time": "2023-07-12T00:24:21.822799100Z",
     "start_time": "2023-07-12T00:24:21.805645200Z"
    }
   },
   "outputs": [],
   "source": [
    "results = get_users()"
   ]
  },
  {
   "cell_type": "code",
   "execution_count": null,
   "metadata": {
    "ExecuteTime": {
     "end_time": "2023-07-12T00:24:34.944233800Z",
     "start_time": "2023-07-12T00:24:34.898020Z"
    }
   },
   "outputs": [],
   "source": [
    "for user in results:\n",
    "    print(user)"
   ]
  },
  {
   "cell_type": "code",
   "execution_count": null,
   "metadata": {},
   "outputs": [],
   "source": []
  },
  {
   "cell_type": "code",
   "execution_count": null,
   "metadata": {
    "ExecuteTime": {
     "end_time": "2023-07-12T00:09:33.431898500Z",
     "start_time": "2023-07-12T00:09:33.419886400Z"
    }
   },
   "outputs": [],
   "source": [
    "messages.close()"
   ]
  },
  {
   "cell_type": "code",
   "execution_count": null,
   "metadata": {
    "ExecuteTime": {
     "end_time": "2023-07-12T00:10:47.170851300Z",
     "start_time": "2023-07-12T00:10:47.136369500Z"
    }
   },
   "outputs": [],
   "source": [
    "user_client.me.registered_devices.graph_endpoint.get()"
   ]
  },
  {
   "cell_type": "code",
   "execution_count": null,
   "metadata": {},
   "outputs": [],
   "source": []
  },
  {
   "cell_type": "code",
   "execution_count": null,
   "metadata": {
    "ExecuteTime": {
     "end_time": "2023-07-12T00:08:17.201782800Z",
     "start_time": "2023-07-12T00:08:17.090993300Z"
    }
   },
   "outputs": [],
   "source": [
    "query_params = MessagesRequestBuilder.MessagesRequestBuilderGetQueryParameters(\n",
    "    # Only request specific properties\n",
    "    select=['from', 'isRead', 'receivedDateTime', 'subject'],\n",
    "    # Get at most 25 results\n",
    "    top=25,\n",
    "    # Sort by received time, newest first\n",
    "    orderby=['receivedDateTime DESC']\n",
    ")\n",
    "request_config = MessagesRequestBuilder.MessagesRequestBuilderGetRequestConfiguration(\n",
    "    query_parameters= query_params\n",
    ")\n",
    "\n",
    "messages = await user_client.me.mail_folders.by_mail_folder_id('inbox').messages.get(\n",
    "    request_configuration=request_config)\n"
   ]
  },
  {
   "cell_type": "code",
   "execution_count": null,
   "metadata": {},
   "outputs": [],
   "source": []
  }
 ],
 "metadata": {
  "kernelspec": {
   "display_name": "Python 3",
   "language": "python",
   "name": "python3"
  },
  "language_info": {
   "codemirror_mode": {
    "name": "ipython",
    "version": 2
   },
   "file_extension": "[REDACTED][REDACTED]/.py",
   "mimetype": "text/x-python",
   "name": "python",
   "nbconvert_exporter": "python",
   "pygments_lexer": "ipython2",
   "version": "2.7.6"
  }
 },
 "nbformat": 4,
 "nbformat_minor": 0
}
