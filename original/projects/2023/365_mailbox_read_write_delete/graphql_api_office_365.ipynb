{
 "cells": [
  {
   "cell_type": "markdown",
   "metadata": {
    "collapsed": false,
    "pycharm": {
     "name": "#%% md\n"
    }
   },
   "source": [
    "<h1> Microsoft 365 - GraphQL </h1>"
   ]
  },
  {
   "cell_type": "code",
   "execution_count": null,
   "metadata": {
    "ExecuteTime": {
     "end_time": "2023-07-17T19:49:26.498692800Z",
     "start_time": "2023-07-17T19:49:26.421990500Z"
    }
   },
   "outputs": [],
   "source": [
    "import re\n",
    "import pandas as pd\n",
    "import json\n",
    "import datetime as dt\n",
    "import logging\n",
    "\n",
    "import msal\n",
    "import requests\n",
    "from requests.utils import CaseInsensitiveDict"
   ]
  },
  {
   "cell_type": "code",
   "execution_count": null,
   "metadata": {
    "ExecuteTime": {
     "end_time": "2023-07-17T19:49:26.571336Z",
     "start_time": "2023-07-17T19:49:26.426994800Z"
    }
   },
   "outputs": [],
   "source": [
    "\n",
    "import os\n",
    "import hvac\n",
    "\n",
    "def read_secret(mount_point, path):\n",
    "    client = hvac.Client(url=os.environ.get(\"VAULT_ADDR\"))\n",
    "    resp = client.kv.v2.read_secret(mount_point=mount_point, path=f'/{path}')\n",
    "    secret = resp['data']['data']\n",
    "\n",
    "    return secret\n"
   ]
  },
  {
   "cell_type": "code",
   "execution_count": null,
   "metadata": {
    "ExecuteTime": {
     "end_time": "2023-07-17T19:49:26.572393900Z",
     "start_time": "2023-07-17T19:49:26.439983400Z"
    }
   },
   "outputs": [],
   "source": [
    "secrets = read_secret(\"azuread\", \"app_01\")"
   ]
  },
  {
   "cell_type": "code",
   "execution_count": null,
   "metadata": {
    "ExecuteTime": {
     "end_time": "2023-07-17T19:49:26.572393900Z",
     "start_time": "2023-07-17T19:49:26.459161500Z"
    }
   },
   "outputs": [],
   "source": [
    "scopes = [\n",
    "    \"Mail.Read.Shared\",\n",
    "    \"Mail.ReadWrite.Shared\",\n",
    "    \"Mail.Send.Shared\",\n",
    "]"
   ]
  },
  {
   "cell_type": "code",
   "execution_count": null,
   "metadata": {
    "ExecuteTime": {
     "end_time": "2023-07-17T19:49:26.572393900Z",
     "start_time": "2023-07-17T19:49:26.469176800Z"
    },
    "pycharm": {
     "name": "#%%\n"
    }
   },
   "outputs": [],
   "source": [
    "# add current timestamp to filename for reference\n",
    "current_time = (dt.datetime.utcnow().strftime('%Y_%m_%d_%H%M%S'))\n",
    "\n",
    "# export folder will contain all csv exported DataFrames for Ticket Creation\n",
    "export_folder = 'd:/exports/'"
   ]
  },
  {
   "cell_type": "code",
   "execution_count": null,
   "metadata": {
    "ExecuteTime": {
     "end_time": "2023-07-17T19:49:26.572393900Z",
     "start_time": "2023-07-17T19:49:26.481162900Z"
    },
    "pycharm": {
     "name": "#%%\n"
    }
   },
   "outputs": [],
   "source": [
    "# token URL\n",
    "authorityUrl = f\"https://login.microsoftonline.com/{secrets['tenant_id']}\"\n",
    "# scope = list(\"https://graph.microsoft.com/.default\")\n",
    "scope = f\"{secrets['application_id']}/.default\"\n",
    "endpoint = \"https://graph.microsoft.com/v1.0/users\"\n",
    "tokenUrl = f\"https://login.microsoftonline.com/{secrets['tenant_id']}/oauth2/token\"\n",
    "api_version = 'v1.0'"
   ]
  },
  {
   "cell_type": "code",
   "execution_count": null,
   "metadata": {
    "ExecuteTime": {
     "end_time": "2023-07-17T19:49:26.706458500Z",
     "start_time": "2023-07-17T19:49:26.487925700Z"
    },
    "pycharm": {
     "name": "#%%\n"
    }
   },
   "outputs": [],
   "source": [
    "client  = msal.ConfidentialClientApplication(\n",
    "    client_id=secrets['application_id'],\n",
    "    client_credential=secrets['client_secret'],\n",
    "    authority=authorityUrl,\n",
    ")"
   ]
  },
  {
   "cell_type": "code",
   "execution_count": null,
   "metadata": {
    "ExecuteTime": {
     "end_time": "2023-07-17T19:49:26.911555900Z",
     "start_time": "2023-07-17T19:49:26.715460100Z"
    },
    "pycharm": {
     "name": "#%%\n"
    }
   },
   "outputs": [],
   "source": [
    "result = client.acquire_token_silent(scopes=scopes,account=None)\n",
    "\n",
    "if not result:\n",
    "    logging.info(\"No suitable token exists in cache. Let's get a new one from AAD.\")\n",
    "    result = client.acquire_token_for_client(\n",
    "        scopes=scope,\n",
    "    )\n",
    "\n",
    "access_token = result['access_token']"
   ]
  },
  {
   "cell_type": "code",
   "execution_count": null,
   "metadata": {
    "ExecuteTime": {
     "end_time": "2023-07-17T19:49:26.921575Z",
     "start_time": "2023-07-17T19:49:26.914564500Z"
    }
   },
   "outputs": [],
   "source": [
    "user_mailbox = 'reports@example.co'"
   ]
  },
  {
   "cell_type": "code",
   "execution_count": null,
   "metadata": {
    "ExecuteTime": {
     "end_time": "2023-07-17T19:49:26.968966700Z",
     "start_time": "2023-07-17T19:49:26.928573Z"
    }
   },
   "outputs": [],
   "source": [
    "date_received = dt.datetime.utcnow().strftime('%Y_%m_%d_%H%M%S')"
   ]
  },
  {
   "cell_type": "code",
   "execution_count": null,
   "metadata": {
    "ExecuteTime": {
     "end_time": "2023-07-17T19:49:26.968966700Z",
     "start_time": "2023-07-17T19:49:26.936584700Z"
    }
   },
   "outputs": [],
   "source": [
    "resource = \"messages\""
   ]
  },
  {
   "cell_type": "code",
   "execution_count": null,
   "metadata": {
    "ExecuteTime": {
     "end_time": "2023-07-17T19:49:26.968966700Z",
     "start_time": "2023-07-17T19:49:26.957955300Z"
    }
   },
   "outputs": [],
   "source": [
    "mail_subject = \"\"\n",
    "mail_sender = \"\"\n",
    "mail_user = \"\""
   ]
  },
  {
   "cell_type": "code",
   "execution_count": null,
   "metadata": {
    "ExecuteTime": {
     "end_time": "2023-07-17T19:49:26.981877200Z",
     "start_time": "2023-07-17T19:49:26.970964800Z"
    }
   },
   "outputs": [],
   "source": [
    "query = \"\"\"query\n",
    "\n",
    "    }\"\"\""
   ]
  },
  {
   "cell_type": "code",
   "execution_count": null,
   "metadata": {
    "ExecuteTime": {
     "end_time": "2023-07-17T19:49:27.194077700Z",
     "start_time": "2023-07-17T19:49:26.985904Z"
    }
   },
   "outputs": [],
   "source": [
    "# request content response\n",
    "request_url = f\"https://graph.microsoft.com/v1.0/users/{user_mailbox}/messages\"\n",
    "# request_url = f\"https://graph.microsoft.com/v1.0/gmcwilliams@example.co/{resource}\"\n",
    "# https://graph.microsoft.com/v1.0/me/messages\n",
    "\n",
    "# construct header\n",
    "headers = CaseInsensitiveDict()\n",
    "headers['Authorization'] = f'Bearer {access_token}'\n",
    "headers['Content-Type'] = 'application/json'\n",
    "\n",
    "# construct req body\n",
    "data = ''\n",
    "\n",
    "print(f'Request URL: {request_url}')\n",
    "\n",
    "resp = requests.get(request_url, headers=headers)\n",
    "content = resp.content.decode('utf-8')\n",
    "c_dict = json.loads(content)\n",
    "print(c_dict)"
   ]
  },
  {
   "cell_type": "code",
   "execution_count": null,
   "metadata": {
    "ExecuteTime": {
     "end_time": "2023-07-17T19:49:27.201080900Z",
     "start_time": "2023-07-17T19:49:27.195094200Z"
    }
   },
   "outputs": [],
   "source": [
    "resource = 'reports@example.co'"
   ]
  },
  {
   "cell_type": "raw",
   "metadata": {
    "collapsed": false
   },
   "source": [
    "GET users/{Garth-userId | Garth-userPrincipalName}/mailfolders('Inbox')/messages"
   ]
  },
  {
   "cell_type": "code",
   "execution_count": null,
   "metadata": {
    "ExecuteTime": {
     "end_time": "2023-07-17T19:49:27.234619500Z",
     "start_time": "2023-07-17T19:49:27.204092700Z"
    }
   },
   "outputs": [],
   "source": [
    "query = {}\n",
    "query['select'] = 'Inbox'\n",
    "query['top'] = 10"
   ]
  },
  {
   "cell_type": "code",
   "execution_count": null,
   "metadata": {
    "ExecuteTime": {
     "end_time": "2023-07-17T19:49:27.423692900Z",
     "start_time": "2023-07-17T19:49:27.214070Z"
    }
   },
   "outputs": [],
   "source": [
    "# construct header\n",
    "headers = CaseInsensitiveDict()\n",
    "headers['Content-Type'] = 'application/x-www-form-urlencoded'\n",
    "\n",
    "# request content response\n",
    "request_url = f\"https://graph.microsoft.com/v1.0/{resource}?{query}\"\n",
    "\n",
    "# construct header\n",
    "headers = CaseInsensitiveDict()\n",
    "headers['Authorization'] = f'Bearer {access_token}'\n",
    "headers['Content-Type'] = 'application/json'\n",
    "\n",
    "# construct req body\n",
    "data = ''\n",
    "\n",
    "print(f'Request URL: {request_url}')\n",
    "\n",
    "resp = requests.get(request_url, headers=headers, data=data)\n",
    "content = resp.content.decode('utf-8')\n",
    "c_dict = json.loads(content)\n",
    "print(c_dict)"
   ]
  },
  {
   "cell_type": "code",
   "execution_count": null,
   "metadata": {
    "ExecuteTime": {
     "end_time": "2023-07-17T19:49:27.430688400Z",
     "start_time": "2023-07-17T19:49:27.422690600Z"
    }
   },
   "outputs": [],
   "source": []
  },
  {
   "cell_type": "code",
   "execution_count": null,
   "metadata": {
    "ExecuteTime": {
     "end_time": "2023-07-17T19:49:27.512476900Z",
     "start_time": "2023-07-17T19:49:27.429690300Z"
    },
    "pycharm": {
     "name": "#%%\n"
    }
   },
   "outputs": [],
   "source": [
    "df = pd.DataFrame(c_dict['value'])"
   ]
  },
  {
   "cell_type": "code",
   "execution_count": null,
   "metadata": {
    "ExecuteTime": {
     "start_time": "2023-07-17T19:49:27.464805700Z"
    },
    "pycharm": {
     "name": "#%%\n"
    }
   },
   "outputs": [],
   "source": [
    "df"
   ]
  },
  {
   "cell_type": "code",
   "execution_count": null,
   "metadata": {
    "ExecuteTime": {
     "start_time": "2023-07-17T19:49:27.467120400Z"
    },
    "pycharm": {
     "name": "#%%\n"
    }
   },
   "outputs": [],
   "source": [
    "df.to_csv('[REDACTED]/.csv')"
   ]
  }
 ],
 "metadata": {
  "kernelspec": {
   "display_name": "Python 3",
   "language": "python",
   "name": "python3"
  },
  "language_info": {
   "codemirror_mode": {
    "name": "ipython",
    "version": 2
   },
   "file_extension": "[REDACTED][REDACTED]/.py",
   "mimetype": "text/x-python",
   "name": "python",
   "nbconvert_exporter": "python",
   "pygments_lexer": "ipython2",
   "version": "2.7.6"
  }
 },
 "nbformat": 4,
 "nbformat_minor": 0
}
