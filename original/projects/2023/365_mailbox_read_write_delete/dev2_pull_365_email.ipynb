{
 "cells": [
  {
   "cell_type": "code",
   "execution_count": null,
   "metadata": {},
   "outputs": [],
   "source": [
    "# Microsoft\n",
    "import msal\n",
    "from office365.graph_client import GraphClient\n",
    "\n",
    "# Secrets\n",
    "import hvac\n",
    "import os\n",
    "\n",
    "import pandas as pd\n",
    "import requests\n",
    "import re"
   ]
  },
  {
   "cell_type": "code",
   "execution_count": null,
   "metadata": {},
   "outputs": [],
   "source": [
    "# self.__secrets = self.read_secret(self.__destination[\"TYPE\"], self.__destination[\"VARS\"])\n",
    "\n",
    "@staticmethod\n",
    "def read_secret(mount_point, path):\n",
    "    client = hvac.Client(url=os.environ.get(\"VAULT_ADDR\"))\n",
    "    resp = client.kv.v2.read_secret(mount_point=mount_point, path=f'/{path}')\n",
    "    secret = resp['data']['data']\n",
    "\n",
    "    return secret\n"
   ]
  },
  {
   "cell_type": "code",
   "execution_count": null,
   "metadata": {},
   "outputs": [],
   "source": [
    "secret = read_secret(\"azuread\", \"app_01\")"
   ]
  },
  {
   "cell_type": "code",
   "execution_count": null,
   "metadata": {},
   "outputs": [],
   "source": [
    "def acquire_token(tenant_id, client_id, client_secret):\n",
    "    \"\"\"\n",
    "    Acquire token via MSAL\n",
    "    \"\"\"\n",
    "    authority_url = f'https://login.microsoftonline.com/{tenant_id}'\n",
    "    app = msal.ConfidentialClientApplication(\n",
    "        authority=authority_url,\n",
    "        client_id=client_id,\n",
    "        client_credential=client_secret\n",
    "    )\n",
    "    token = app.acquire_token_for_client(scopes=[\"https://graph.microsoft.com/.default\"])\n",
    "    return token"
   ]
  },
  {
   "cell_type": "code",
   "execution_count": null,
   "metadata": {},
   "outputs": [],
   "source": [
    "client = GraphClient(acquire_token(\n",
    "    secret[\"tenant_id\"],\n",
    "    secret[\"client_id\"],\n",
    "    secret[\"client_secret\"]\n",
    "))"
   ]
  },
  {
   "cell_type": "code",
   "execution_count": null,
   "metadata": {},
   "outputs": [],
   "source": [
    "from office365.outlook.mail.messages.message import Message"
   ]
  },
  {
   "cell_type": "code",
   "execution_count": null,
   "metadata": {},
   "outputs": [],
   "source": []
  },
  {
   "cell_type": "code",
   "execution_count": null,
   "metadata": {},
   "outputs": [],
   "source": []
  }
 ],
 "metadata": {
  "kernelspec": {
   "display_name": "Python 3",
   "language": "python",
   "name": "python3"
  },
  "language_info": {
   "codemirror_mode": {
    "name": "ipython",
    "version": 2
   },
   "file_extension": "[REDACTED][REDACTED]/.py",
   "mimetype": "text/x-python",
   "name": "python",
   "nbconvert_exporter": "python",
   "pygments_lexer": "ipython2",
   "version": "2.7.6"
  }
 },
 "nbformat": 4,
 "nbformat_minor": 0
}
