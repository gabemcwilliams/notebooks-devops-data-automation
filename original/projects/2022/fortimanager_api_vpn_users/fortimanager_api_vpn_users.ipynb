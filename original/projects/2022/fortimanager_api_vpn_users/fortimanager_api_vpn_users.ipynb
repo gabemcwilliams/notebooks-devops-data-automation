{
 "cells": [
  {
   "cell_type": "markdown",
   "metadata": {
    "collapsed": false,
    "pycharm": {
     "name": "#%% md\n"
    }
   },
   "source": [
    "<h1> Fortimanager - API - Example CU - Users List </h1>"
   ]
  },
  {
   "cell_type": "code",
   "execution_count": null,
   "metadata": {
    "pycharm": {
     "name": "#%%\n"
    }
   },
   "outputs": [],
   "source": [
    "#data conditioning\n",
    "import pandas as pd\n",
    "import re\n",
    "import datetime as dt\n",
    "\n",
    "\n",
    "# data visualization\n",
    "[REDACTED]/.pyplot as plt\n",
    "import seaborn as sns\n",
    "\n",
    "\n",
    "# add current timestamp to filename for reference\n",
    "current_time = (dt.datetime.utcnow().strftime('%Y_%m_%d_%H%M%S'))\n",
    "\n",
    "# git repo folder\n",
    "git_folder = 'd:/git/'\n",
    "\n",
    "# export folder will contain all csv exported DataFrames for Ticket Creation\n",
    "export_folder = 'd:/exports/'\n",
    "\n",
    "# dictionary location\n",
    "dictionary_dir = f'{git_folder}/dictionaries'\n",
    "\n",
    "\n",
    "# import configparser for env secrets\n",
    "from configparser import ConfigParser\n",
    "\n",
    "config = ConfigParser()\n",
    "config.read(f'{git_folder}/config/env.ini')\n",
    "import requests\n",
    "import json\n",
    "from requests.structures import CaseInsensitiveDict\n",
    "\n",
    "fortimanager_config = config[\"fortimanager\"]"
   ]
  },
  {
   "cell_type": "markdown",
   "metadata": {
    "collapsed": false,
    "pycharm": {
     "name": "#%% md\n"
    }
   },
   "source": [
    "# Create DataFrame\n",
    "## Create Token"
   ]
  },
  {
   "cell_type": "code",
   "execution_count": null,
   "metadata": {
    "pycharm": {
     "name": "#%%\n"
    }
   },
   "outputs": [],
   "source": [
    "request_url =f\"{fortimanager_config['Example_uri']}/fpc/api/customers/1/users\"\n",
    "\n",
    "client = requests.session()\n",
    "\n",
    "#Login request\n",
    "data = {'user' : fortimanager_config['username'], 'password' : fortimanager_config['password']}\n",
    "\n",
    "resp = requests.post(request_url, json=data, verify=False )"
   ]
  },
  {
   "cell_type": "code",
   "execution_count": null,
   "metadata": {
    "pycharm": {
     "name": "#%%\n"
    }
   },
   "outputs": [],
   "source": [
    "url_login=f\"{fortimanager_config['base_uri']}/fpc/api/login\"\n",
    "\n",
    "client = requests.session()\n",
    "\n",
    "#Login request\n",
    "\n",
    "payload = {'user' : fortimanager_config['username'], 'password' : fortimanager_config['password']}\n",
    "\n",
    "r = client.post(url_login, json=payload, verify=False )\n",
    "\n",
    "#Retrieve session id. Add to HTTP header for future messages\n",
    "\n",
    "parsed_json = json.loads(r.text)\n",
    "\n",
    "sid = parsed_json['fpc-sid']\n",
    "\n",
    "headers = {'fpc-sid' : sid }"
   ]
  }
 ],
 "metadata": {
  "kernelspec": {
   "display_name": "Python 3",
   "language": "python",
   "name": "python3"
  },
  "language_info": {
   "codemirror_mode": {
    "name": "ipython",
    "version": 2
   },
   "file_extension": "[REDACTED][REDACTED]/.py",
   "mimetype": "text/x-python",
   "name": "python",
   "nbconvert_exporter": "python",
   "pygments_lexer": "ipython2",
   "version": "2.7.6"
  }
 },
 "nbformat": 4,
 "nbformat_minor": 0
}
