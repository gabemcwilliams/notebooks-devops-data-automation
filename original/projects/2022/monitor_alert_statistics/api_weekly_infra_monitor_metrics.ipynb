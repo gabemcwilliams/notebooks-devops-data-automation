{
 "cells": [
  {
   "cell_type": "markdown",
   "id": "d728851a24f70720",
   "metadata": {
    "collapsed": false,
    "pycharm": {
     "name": "#%% md\n"
    }
   },
   "source": [
    "<h1> Daily DattoRMM Monitor Metrics </h1>"
   ]
  },
  {
   "cell_type": "code",
   "execution_count": null,
   "id": "188b46919e1f2e79",
   "metadata": {
    "pycharm": {
     "name": "#%%\n"
    }
   },
   "outputs": [],
   "source": [
    "#data conditioning\n",
    "import pandas as pd\n",
    "import re\n",
    "import datetime as dt\n",
    "\n",
    "\n",
    "# data visualization\n",
    "import matplotlib.pyplot as plt\n",
    "import seaborn as sns"
   ]
  },
  {
   "cell_type": "code",
   "execution_count": null,
   "id": "e8828a73622dbc0e",
   "metadata": {
    "pycharm": {
     "name": "#%%\n"
    }
   },
   "outputs": [],
   "source": [
    "# add current timestamp to filename for reference\n",
    "current_time = (dt.datetime.utcnow().strftime('%Y_%m_%d_%H%M%S'))\n",
    "\n",
    "# git repo folder\n",
    "git_folder = 'd:/git/example_infrastructure_data_dev'\n",
    "\n",
    "# export folder will contain all csv exported DataFrames for Ticket Creation\n",
    "export_folder = 'd:/exports/'\n",
    "\n",
    "# dictionary location\n",
    "dictionary_dir = f'{git_folder}/dictionaries'"
   ]
  },
  {
   "cell_type": "code",
   "execution_count": null,
   "id": "76a9addd5d1f71b6",
   "metadata": {
    "pycharm": {
     "name": "#%%\n"
    }
   },
   "outputs": [],
   "source": [
    "from ts_api_connections import datto_rmm_api"
   ]
  },
  {
   "cell_type": "code",
   "execution_count": null,
   "id": "143aaefb91dc805d",
   "metadata": {
    "pycharm": {
     "name": "#%%\n"
    }
   },
   "outputs": [],
   "source": [
    "datto = datto_rmm_api.DattoRMM()"
   ]
  },
  {
   "cell_type": "code",
   "execution_count": null,
   "id": "1343ee47d6ec5da2",
   "metadata": {
    "pycharm": {
     "name": "#%%\n"
    }
   },
   "outputs": [],
   "source": [
    "df_alerts = datto.create_monitors_dataframe(days=2)"
   ]
  },
  {
   "cell_type": "code",
   "execution_count": null,
   "id": "7374e42a7b387e72",
   "metadata": {
    "pycharm": {
     "name": "#%%\n"
    }
   },
   "outputs": [],
   "source": [
    "df_alerts['timeOccured'] = df_alerts['timestamp'].apply(lambda x: x.strftime(\"%H:%M\"))"
   ]
  },
  {
   "cell_type": "markdown",
   "id": "fb2f9b42676a9737",
   "metadata": {
    "collapsed": false,
    "pycharm": {
     "name": "#%% md\n"
    }
   },
   "source": [
    "# Create Visual Documents and Save Docs"
   ]
  },
  {
   "cell_type": "code",
   "execution_count": null,
   "id": "7f43dc2519adbb43",
   "metadata": {
    "pycharm": {
     "name": "#%%\n"
    }
   },
   "outputs": [],
   "source": [
    "df_ticket_alerts"
   ]
  },
  {
   "cell_type": "code",
   "execution_count": null,
   "id": "68682701100dc8ae",
   "metadata": {
    "pycharm": {
     "name": "#%%\n"
    }
   },
   "outputs": [],
   "source": [
    "df_alerts[df_alerts[\"deviceName\"] == \"AWS-PROD-MFA1\"]"
   ]
  },
  {
   "cell_type": "markdown",
   "id": "2ec31a383ba94515",
   "metadata": {
    "collapsed": false,
    "pycharm": {
     "name": "#%% md\n"
    }
   },
   "source": []
  },
  {
   "cell_type": "code",
   "execution_count": null,
   "id": "ed8170dd385e8250",
   "metadata": {
    "pycharm": {
     "name": "#%%\n"
    }
   },
   "outputs": [],
   "source": [
    "df_ticket_alerts = df_alerts[df_alerts['sendsEmails'] == True]"
   ]
  },
  {
   "cell_type": "code",
   "execution_count": null,
   "id": "87e0a88027f0bac4",
   "metadata": {
    "pycharm": {
     "name": "#%%\n"
    }
   },
   "outputs": [],
   "source": [
    "df_ticket_alerts[df_ticket_alerts['diagnostics'] == \"\"].value_counts('deviceName')"
   ]
  },
  {
   "cell_type": "code",
   "execution_count": null,
   "id": "22b82ec541f38a9d",
   "metadata": {
    "pycharm": {
     "name": "#%%\n"
    }
   },
   "outputs": [],
   "source": [
    "df_ticket_alerts[df_ticket_alerts['alertUid'] == \"[REDACTED_UUID]\"]"
   ]
  },
  {
   "cell_type": "code",
   "execution_count": null,
   "id": "c1a6229db606201e",
   "metadata": {
    "pycharm": {
     "name": "#%%\n"
    }
   },
   "outputs": [],
   "source": []
  },
  {
   "cell_type": "code",
   "execution_count": null,
   "id": "c6e8e6759b6bec2b",
   "metadata": {
    "pycharm": {
     "name": "#%%\n"
    }
   },
   "outputs": [],
   "source": [
    "df_resource_alerts = df_alerts[(df_alerts[\"alertClass\"] == \"eventlog_ctx\") | (df_alerts[\"alertClass\"] == \"perf_resource_usage_ctx\") | (df_alerts[\"alertClass\"] == \"online_offline_status_ctx\") ]"
   ]
  },
  {
   "cell_type": "code",
   "execution_count": null,
   "id": "c3a2b435cf76411d",
   "metadata": {
    "pycharm": {
     "name": "#%%\n"
    }
   },
   "outputs": [],
   "source": [
    "df_resource_alerts[\"alertClass\"].replace({\"eventlog_ctx\":\"Memory High\", \"perf_resource_usage_ctx\":\"CPU High\", \"online_offline_status_ctx\": \"Device Offline\"},inplace=True)"
   ]
  },
  {
   "cell_type": "code",
   "execution_count": null,
   "id": "bec2fe2e3e15c990",
   "metadata": {
    "pycharm": {
     "name": "#%%\n"
    }
   },
   "outputs": [],
   "source": "df_resource_alerts.timeOccured.value_counts().reset_index().to_csv(\"D:/exports/time_occured.csv\")"
  },
  {
   "cell_type": "code",
   "execution_count": null,
   "id": "1c8c47f05c6a1c1b",
   "metadata": {
    "pycharm": {
     "name": "#%%\n"
    }
   },
   "outputs": [],
   "source": [
    "df_offline_alerts = df_alerts[(df_alerts[\"alertClass\"] == \"online_offline_status_ctx\") ]\n",
    "df_offline_alerts.to_csv(\"D:/exports/offline_alerts_2_days.csv\")"
   ]
  },
  {
   "cell_type": "code",
   "execution_count": null,
   "id": "848854d7db1488fa",
   "metadata": {
    "pycharm": {
     "name": "#%%\n"
    }
   },
   "outputs": [],
   "source": [
    "df_ticket_alerts = df_alerts[df_alerts['sendsEmails'] == True]"
   ]
  },
  {
   "cell_type": "code",
   "execution_count": null,
   "id": "1eac1acd52ba78a7",
   "metadata": {
    "pycharm": {
     "name": "#%%\n"
    }
   },
   "outputs": [],
   "source": [
    "\n",
    "fig = plt.figure(figsize=(60,40))\n",
    "palette = sns.color_palette(\"rainbow\")\n",
    "sns.countplot(data=df_ticket_alerts[df_ticket_alerts['monitorSource'] == \"Offline Alert\"].sort_values('timeOccured'),x = 'timeOccured',color='lightblue')\n",
    "plt.savefig(\".png\")"
   ]
  },
  {
   "cell_type": "code",
   "execution_count": null,
   "id": "9c5dd4b51bdbccd9",
   "metadata": {
    "pycharm": {
     "name": "#%%\n"
    }
   },
   "outputs": [],
   "source": [
    "df_offline_alerts = df_ticket_alerts[df_ticket_alerts['monitorSource'] == \"Offline Alert\"]\n",
    "df_offline_alerts[df_offline_alerts['timeOccured'].isin(['06:10','17:06','17:40','06:09','17:07','21:44'])][['siteName','deviceName','timeOccured']]"
   ]
  },
  {
   "cell_type": "code",
   "execution_count": null,
   "id": "7073acb89e29ae5e",
   "metadata": {
    "pycharm": {
     "name": "#%%\n"
    }
   },
   "outputs": [],
   "source": []
  },
  {
   "cell_type": "code",
   "execution_count": null,
   "id": "83d5531ac4718128",
   "metadata": {
    "pycharm": {
     "name": "#%%\n"
    }
   },
   "outputs": [],
   "source": [
    "df_resource_alerts[df_resource_alerts['timestamp'] >= \"2022-12-03 00:00:00\"].value_counts()"
   ]
  },
  {
   "cell_type": "code",
   "execution_count": null,
   "id": "3511ea0f172c6374",
   "metadata": {
    "pycharm": {
     "name": "#%%\n"
    }
   },
   "outputs": [],
   "source": [
    "df_offline_alerts[df_offline_alerts['timestamp'] >= \"2022-12-03 00:00:00\"].value_counts('deviceName')"
   ]
  },
  {
   "cell_type": "code",
   "execution_count": null,
   "id": "5d71f757491d1cfb",
   "metadata": {
    "pycharm": {
     "name": "#%%\n"
    }
   },
   "outputs": [],
   "source": [
    "start_date = df_offline_alerts['timestamp'] >= \"2022-12-02 00:00:00\"\n",
    "end_date = df_offline_alerts[\"timestamp\"] >= \"2022-12-05 00:00:00\""
   ]
  },
  {
   "cell_type": "code",
   "execution_count": null,
   "id": "dfa952c7ca2adee4",
   "metadata": {
    "pycharm": {
     "name": "#%%\n"
    }
   },
   "outputs": [],
   "source": [
    "df_offline_alerts[start_date & end_date].value_counts('deviceName')"
   ]
  },
  {
   "cell_type": "code",
   "execution_count": null,
   "id": "692ba52fca3d54fe",
   "metadata": {
    "pycharm": {
     "name": "#%%\n"
    }
   },
   "outputs": [],
   "source": [
    "start_date = df_offline_alerts['timestamp'] >= \"2022-11-29 00:00:00\"\n",
    "end_date = df_offline_alerts[\"timestamp\"] >= \"2022-12-2 00:00:00\""
   ]
  },
  {
   "cell_type": "code",
   "execution_count": null,
   "id": "4e6a67561f125a25",
   "metadata": {
    "pycharm": {
     "name": "#%%\n"
    }
   },
   "outputs": [],
   "source": [
    "df_offline_alerts[start_date & end_date].value_counts('deviceName')"
   ]
  },
  {
   "cell_type": "code",
   "execution_count": null,
   "id": "72a57c76ed14d895",
   "metadata": {
    "pycharm": {
     "name": "#%%\n"
    }
   },
   "outputs": [],
   "source": [
    "df_offline_alerts[df_offline_alerts['timestamp'] >= \"2022-12-01 00:00:00\"].value_counts('deviceName')"
   ]
  },
  {
   "cell_type": "code",
   "execution_count": null,
   "id": "5acf89c3bb9ac2a7",
   "metadata": {
    "pycharm": {
     "name": "#%%\n"
    }
   },
   "outputs": [],
   "source": [
    "fig = plt.figure(figsize=(60,40))\n",
    "sns.countplot(data=df_ticket_alerts.sort_values('dayOccurred'),x = 'dayOccurred', hue='monitorSource')\n",
    "fig.savefig(\".png\")"
   ]
  },
  {
   "cell_type": "code",
   "execution_count": null,
   "id": "198f2e89ec8d7ec0",
   "metadata": {
    "pycharm": {
     "name": "#%%\n"
    }
   },
   "outputs": [],
   "source": [
    "fig = plt.figure(figsize=(60,40))\n",
    "sns.countplot(data=df_alerts.sort_values('dayOccurred'),x = 'dayOccurred', hue='monitorSource')\n",
    "fig.savefig(\".png\")"
   ]
  },
  {
   "cell_type": "markdown",
   "id": "a99384e4d6bf1108",
   "metadata": {
    "collapsed": false,
    "pycharm": {
     "name": "#%% md\n"
    }
   },
   "source": [
    "# Save Report to CSV"
   ]
  },
  {
   "cell_type": "markdown",
   "id": "b29c7e90fcb9fece",
   "metadata": {
    "collapsed": false,
    "pycharm": {
     "name": "#%% md\n"
    }
   },
   "source": [
    "## All Alerts"
   ]
  },
  {
   "cell_type": "markdown",
   "id": "994d2a05835ba482",
   "metadata": {
    "collapsed": false,
    "pycharm": {
     "name": "#%% md\n"
    }
   },
   "source": [
    "### Open Alerts"
   ]
  },
  {
   "cell_type": "code",
   "execution_count": null,
   "id": "bcb528fd4824cf5",
   "metadata": {
    "pycharm": {
     "name": "#%%\n"
    }
   },
   "outputs": [],
   "source": "df_alerts[df_alerts['resolved'] == False].to_csv(export_folder + 'datto_rmm_open_alerts_' + str(current_time) + '.csv',index=False)"
  },
  {
   "cell_type": "markdown",
   "id": "e40a6031cfa10e13",
   "metadata": {
    "collapsed": false,
    "pycharm": {
     "name": "#%% md\n"
    }
   },
   "source": [
    "### All Alerts - Last 7 Days"
   ]
  },
  {
   "cell_type": "code",
   "execution_count": null,
   "id": "430c0da90b34a35e",
   "metadata": {
    "pycharm": {
     "name": "#%%\n"
    }
   },
   "outputs": [],
   "source": "df_alerts.to_csv(export_folder + 'datto_rmm_7days_alerts_' + str(current_time) + '.csv',index=False)"
  },
  {
   "cell_type": "markdown",
   "id": "be5dd50064c8dcea",
   "metadata": {
    "collapsed": false,
    "pycharm": {
     "name": "#%% md\n"
    }
   },
   "source": [
    "## Alert Breakdown by Unique Category"
   ]
  },
  {
   "cell_type": "code",
   "execution_count": null,
   "id": "ea1ead07d3f55bcc",
   "metadata": {
    "pycharm": {
     "name": "#%%\n"
    }
   },
   "outputs": [],
   "source": [
    "df_alerts['alertStatus'].value_counts()"
   ]
  },
  {
   "cell_type": "markdown",
   "id": "a97ba8b5aeefc77d",
   "metadata": {
    "collapsed": false,
    "pycharm": {
     "name": "#%% md\n"
    }
   },
   "source": [
    "### Alerts by Client Summary"
   ]
  },
  {
   "cell_type": "code",
   "execution_count": null,
   "id": "ec7a99c79c3a6d34",
   "metadata": {
    "pycharm": {
     "name": "#%%\n"
    }
   },
   "outputs": [],
   "source": [
    "df_alerts['siteName'].value_counts()"
   ]
  },
  {
   "cell_type": "code",
   "execution_count": null,
   "id": "70a4a6d82bcd4810",
   "metadata": {
    "pycharm": {
     "name": "#%%\n"
    }
   },
   "outputs": [],
   "source": [
    "df_alerts.shape"
   ]
  },
  {
   "cell_type": "code",
   "execution_count": null,
   "id": "d7c085faa4eeaf2a",
   "metadata": {
    "pycharm": {
     "name": "#%%\n"
    }
   },
   "outputs": [],
   "source": []
  },
  {
   "cell_type": "markdown",
   "id": "dcdd7e39f01b93cb",
   "metadata": {
    "collapsed": false,
    "pycharm": {
     "name": "#%% md\n"
    }
   },
   "source": [
    "## Alert Breakdown by Time to Resolve"
   ]
  },
  {
   "cell_type": "code",
   "execution_count": null,
   "id": "6eccd9cab9ed6ed4",
   "metadata": {
    "pycharm": {
     "name": "#%%\n"
    }
   },
   "outputs": [],
   "source": []
  },
  {
   "cell_type": "markdown",
   "id": "28faf1d337c0fac8",
   "metadata": {
    "collapsed": false,
    "pycharm": {
     "name": "#%% md\n"
    }
   },
   "source": [
    "<h2> Offline Alert Resolution Time </h2>"
   ]
  },
  {
   "cell_type": "code",
   "execution_count": null,
   "id": "f2e84ce7bf7402d8",
   "metadata": {
    "pycharm": {
     "name": "#%%\n"
    }
   },
   "outputs": [],
   "source": [
    "df_offline = df_alerts[df_alerts['monitorSource'] == 'Offline Alert']"
   ]
  },
  {
   "cell_type": "code",
   "execution_count": null,
   "id": "b1ddf626102bec75",
   "metadata": {
    "pycharm": {
     "name": "#%%\n"
    }
   },
   "outputs": [],
   "source": [
    "df_offline['timeToResolve'].describe()"
   ]
  },
  {
   "cell_type": "code",
   "execution_count": null,
   "id": "88f732dcd673b88a",
   "metadata": {
    "pycharm": {
     "name": "#%%\n"
    }
   },
   "outputs": [],
   "source": [
    "df_offline"
   ]
  },
  {
   "cell_type": "code",
   "execution_count": null,
   "id": "33327ef02bb12773",
   "metadata": {
    "pycharm": {
     "name": "#%%\n"
    }
   },
   "outputs": [],
   "source": [
    "list(df_offline.value_counts('deviceName').head(10).reset_index().drop(0,axis=1).deviceName)\n",
    "df_offline_mask = df_offline['deviceName'].isin(list(df_offline.value_counts('deviceName').head(10).reset_index().drop(0,axis=1)))"
   ]
  },
  {
   "cell_type": "code",
   "execution_count": null,
   "id": "4b19718ec1a30d32",
   "metadata": {
    "pycharm": {
     "name": "#%%\n"
    }
   },
   "outputs": [],
   "source": [
    "df_offline.value_counts('deviceName').head(10).reset_index().deviceName"
   ]
  },
  {
   "cell_type": "code",
   "execution_count": null,
   "id": "4b180bd085df28b6",
   "metadata": {
    "pycharm": {
     "name": "#%%\n"
    }
   },
   "outputs": [],
   "source": [
    "df_offline"
   ]
  },
  {
   "cell_type": "code",
   "execution_count": null,
   "id": "b71c4cfebd3dacde",
   "metadata": {
    "pycharm": {
     "name": "#%%\n"
    }
   },
   "outputs": [],
   "source": [
    "df_offline.value_counts('deviceName',ascending=False).head(30).reset_index().plot(kind='bar')"
   ]
  },
  {
   "cell_type": "code",
   "execution_count": null,
   "id": "bc4afdec2ac498de",
   "metadata": {
    "pycharm": {
     "name": "#%%\n"
    }
   },
   "outputs": [],
   "source": [
    "fig = plt.figure(figsize=(60,40))\n",
    "\n",
    "sns.barplot(data=df_offline.value_counts('deviceName',ascending=False).head(30).reset_index(), x='deviceName')\n",
    "fig.savefig(\".png\")"
   ]
  },
  {
   "cell_type": "code",
   "execution_count": null,
   "id": "bf541a6605a5f645",
   "metadata": {
    "pycharm": {
     "name": "#%%\n"
    }
   },
   "outputs": [],
   "source": [
    "fig = plt.figure(figsize=(60,40))\n",
    "sns.countplot(data=df_offline.sort_values('siteName'), x='siteName')\n",
    "fig.savefig(\".png\")"
   ]
  },
  {
   "cell_type": "markdown",
   "id": "84282b92c0df666e",
   "metadata": {
    "collapsed": false,
    "pycharm": {
     "name": "#%% md\n"
    }
   },
   "source": [
    "<h2> Space Alert Resolution Time </h2>"
   ]
  },
  {
   "cell_type": "code",
   "execution_count": null,
   "id": "36f013bb0802d16e",
   "metadata": {
    "pycharm": {
     "name": "#%%\n"
    }
   },
   "outputs": [],
   "source": [
    "df_offline[['siteName','deviceName']].groupby('siteName').value_counts().to_csv('d:/exports/offline_alerts_group_by_sitename')"
   ]
  },
  {
   "cell_type": "code",
   "execution_count": null,
   "id": "42cda9673bcad7c6",
   "metadata": {
    "pycharm": {
     "name": "#%%\n"
    }
   },
   "outputs": [],
   "source": [
    "df_devices = datto.create_devices_dataframe()"
   ]
  },
  {
   "cell_type": "code",
   "execution_count": null,
   "id": "d52b31b4663b712d",
   "metadata": {
    "pycharm": {
     "name": "#%%\n"
    }
   },
   "outputs": [],
   "source": [
    "df_devices[df_devices.suspended == 1].to_csv(\"d:/exports/suspended_devices.cvs\")"
   ]
  },
  {
   "cell_type": "code",
   "execution_count": null,
   "id": "cbcec9473b058360",
   "metadata": {
    "pycharm": {
     "name": "#%%\n"
    }
   },
   "outputs": [],
   "source": [
    "df_alerts"
   ]
  },
  {
   "cell_type": "markdown",
   "id": "4f6474d272d773ea",
   "metadata": {
    "collapsed": false,
    "pycharm": {
     "name": "#%% md\n"
    }
   },
   "source": [
    "## Memory Alerts"
   ]
  },
  {
   "cell_type": "code",
   "execution_count": null,
   "id": "68412b1545eebcfc",
   "metadata": {
    "pycharm": {
     "name": "#%%\n"
    }
   },
   "outputs": [],
   "source": [
    "df_alerts[df_alerts['alertUid'] == \"[REDACTED_UUID]\"]"
   ]
  },
  {
   "cell_type": "code",
   "execution_count": null,
   "id": "c64b73180a79a7e3",
   "metadata": {
    "pycharm": {
     "name": "#%%\n"
    }
   },
   "outputs": [],
   "source": []
  },
  {
   "cell_type": "code",
   "execution_count": null,
   "id": "e403abe59d3700ef",
   "metadata": {
    "pycharm": {
     "name": "#%%\n"
    }
   },
   "outputs": [],
   "source": [
    "df_memory_alerts = df_alerts[df_alerts[\"\"]]"
   ]
  }
 ],
 "metadata": {
  "kernelspec": {
   "display_name": "Python 3 (ipykernel)",
   "language": "python",
   "name": "python3"
  },
  "language_info": {
   "codemirror_mode": {
    "name": "ipython",
    "version": 3
   },
   "file_extension": "[REDACTED][REDACTED]/.py",
   "mimetype": "text/x-python",
   "name": "python",
   "nbconvert_exporter": "python",
   "pygments_lexer": "ipython3",
   "version": "3.10.4"
  }
 },
 "nbformat": 4,
 "nbformat_minor": 5
}
