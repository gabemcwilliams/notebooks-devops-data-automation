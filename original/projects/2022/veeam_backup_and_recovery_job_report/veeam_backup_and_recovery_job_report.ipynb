{
 "cells": [
  {
   "cell_type": "markdown",
   "metadata": {
    "collapsed": false,
    "pycharm": {
     "name": "#%% md\n"
    }
   },
   "source": [
    "<h1> Veeam - Powershell Snapin - Jobs Configuration </h1>"
   ]
  },
  {
   "cell_type": "code",
   "execution_count": null,
   "metadata": {
    "pycharm": {
     "name": "#%%\n"
    }
   },
   "outputs": [],
   "source": [
    "import pandas as pd\n",
    "import re\n",
    "import datetime as dt\n",
    "import csv\n",
    "import os\n",
    "from zipfile import ZipFile as zipfile"
   ]
  },
  {
   "cell_type": "code",
   "execution_count": null,
   "metadata": {
    "pycharm": {
     "name": "#%%\n"
    }
   },
   "outputs": [],
   "source": [
    "# add current timestamp to filename for reference\n",
    "current_time = (dt.datetime.utcnow().strftime('%Y_%m_%d_%H%M%S'))\n",
    "\n",
    "# git repo folder\n",
    "git_folder = 'd:/git/example_infrastructure_data_dev'\n",
    "\n",
    "# export folder will contain all csv exported DataFrames for Ticket Creation\n",
    "export_folder = 'd:/exports'\n",
    "\n",
    "# veeam info zip file path created from veeam_backup_job_info.ps1\n",
    "zip_file = f'{export_folder}/CUWestVeeamReport.zip'"
   ]
  },
  {
   "cell_type": "markdown",
   "metadata": {
    "collapsed": false,
    "pycharm": {
     "name": "#%% md\n"
    }
   },
   "source": [
    " ### Import Modules, Create env Variables"
   ]
  },
  {
   "cell_type": "code",
   "execution_count": null,
   "metadata": {
    "pycharm": {
     "name": "#%%\n"
    }
   },
   "outputs": [],
   "source": [
    "# import configparser for env secrets\n",
    "from configparser import ConfigParser\n",
    "\n",
    "config = ConfigParser()\n",
    "config.read(f'{git_folder}/config/env.ini')\n",
    "import requests\n",
    "from requests.structures import CaseInsensitiveDict\n",
    "\n",
    "# import and assign secrets from env.ini"
   ]
  },
  {
   "cell_type": "markdown",
   "metadata": {
    "collapsed": false,
    "pycharm": {
     "name": "#%% md\n"
    }
   },
   "source": [
    "# Get all job info csv"
   ]
  },
  {
   "cell_type": "code",
   "execution_count": null,
   "metadata": {
    "pycharm": {
     "name": "#%%\n"
    }
   },
   "outputs": [],
   "source": [
    "## Unzip veeam_job_info.zip\n",
    "\n",
    "with zipfile(zip_file, 'r') as z:\n",
    "    z.extractall(export_folder)"
   ]
  },
  {
   "cell_type": "code",
   "execution_count": null,
   "metadata": {
    "pycharm": {
     "name": "#%%\n"
    }
   },
   "outputs": [],
   "source": [
    "job_files = []\n",
    "\n",
    "for root, dirs, files in (os.walk(f'{export_folder}/job_info/')):\n",
    "    for file in files:\n",
    "        file_path = root + file\n",
    "        size = os.path.getsize(file_path)\n",
    "        print(size)\n",
    "        if size != 0:\n",
    "            job_files.append(file_path)\n",
    "\n",
    "for file in job_files:\n",
    "    # try:\n",
    "    df = pd.read_csv(file)\n",
    "    if df_veeam_jobs.empty:\n",
    "        pd.concat([df_veeam_jobs,df],ignore_index=True)\n",
    "        print(\"concat\")\n",
    "    else:\n",
    "        df_veeam_jobs = df\n",
    "        print(\"df_veeam_jobs created\")\n",
    "\n",
    "\n",
    "    # except Exception as e:\n",
    "    #     print(e)\n",
    "    #     print(f'CSV:{file} is empty')"
   ]
  },
  {
   "cell_type": "code",
   "execution_count": null,
   "metadata": {
    "pycharm": {
     "name": "#%%\n"
    }
   },
   "outputs": [],
   "source": [
    "df_veeam_jobs"
   ]
  },
  {
   "cell_type": "code",
   "execution_count": null,
   "metadata": {
    "pycharm": {
     "name": "#%%\n"
    }
   },
   "outputs": [],
   "source": []
  },
  {
   "cell_type": "code",
   "execution_count": null,
   "metadata": {
    "pycharm": {
     "name": "#%%\n"
    }
   },
   "outputs": [],
   "source": [
    "for file in job_files:\n",
    "    try:\n",
    "        df = pd.read_csv(file)\n",
    "        if df_veeam_jobs:\n",
    "            pd.concat([df_veeam_jobs,df],ignore_index=True)\n",
    "            print(\"concat\")\n",
    "        else:\n",
    "            df_veeam_jobs = df\n",
    "            print(\"df_veeam_jobs created\")\n",
    "    except:\n",
    "        print(f'CSV:{file} is empty')"
   ]
  },
  {
   "cell_type": "code",
   "execution_count": null,
   "metadata": {
    "pycharm": {
     "name": "#%%\n"
    }
   },
   "outputs": [],
   "source": [
    "df_veeam_jobs"
   ]
  },
  {
   "cell_type": "code",
   "execution_count": null,
   "metadata": {
    "pycharm": {
     "name": "#%%\n"
    }
   },
   "outputs": [],
   "source": [
    "df"
   ]
  },
  {
   "cell_type": "code",
   "execution_count": null,
   "metadata": {
    "pycharm": {
     "name": "#%%\n"
    }
   },
   "outputs": [],
   "source": [
    "schedule_prog = re.compile(r'([^\\:]+)' #Start time\n",
    "                           r'\\:\\s\\[' #: [\n",
    "                           r'([\\d\\/\\s\\:PMA]+)' #11/4/2019 8:00:00 PM\n",
    "                           r'\\]\\,\\s'  #],\n",
    "                           r'([^\\:]+)' #Latest run time\n",
    "                           r'\\:\\s\\[' #: [\n",
    "                           r'([\\d\\/\\s\\:PMA]+)' #11/7/2019 8:00:14 PM\n",
    "                           r'\\]\\,\\s' #],\n",
    "                           r'([^\\:]+)' #Timeout for backup completion\n",
    "                           r'\\:\\s\\[' #: [\n",
    "                           r'([\\dminhr]+)' #180min\n",
    "                           r'\\]\\,\\s' #],\n",
    "                           r'([^\\:]+)' #Next run time\n",
    "                           r'\\:\\s\\[' #: [\n",
    "                           r'([\\d\\w\\s]?)' #''\n",
    "                           r'\\]\\,\\s' #],\n",
    "                           r'([^\\:]+)' #Retry times on failure\n",
    "                           r'\\:\\s\\[' #: [\n",
    "                           r'([\\d\\w\\s]?)' #'6'\n",
    "                           r'\\]\\,\\s' #],\n",
    "                           r'([^\\:]+)' #Retry timeout\n",
    "                           r'\\:\\s\\[' #: [\n",
    "                           r'([\\d\\w\\s]+)' #20 min\n",
    "                           r'\\]\\,\\s' #],\n",
    "                           r'([^\\:]+)' #Daily options\n",
    "                           r'\\:\\s\\[' #: [\n",
    "                           r'([^]]+)' #Enabled: True, ...\n",
    "                           r'\\]') #],"
   ]
  },
  {
   "cell_type": "code",
   "execution_count": null,
   "metadata": {
    "pycharm": {
     "name": "#%%\n"
    }
   },
   "outputs": [],
   "source": [
    "df = df.dropna(how='all',axis=1)"
   ]
  },
  {
   "cell_type": "code",
   "execution_count": null,
   "metadata": {
    "pycharm": {
     "name": "#%%\n"
    }
   },
   "outputs": [],
   "source": [
    "def start_time(ScheduleOptions):\n",
    "    result = schedule_prog.findall(ScheduleOptions)\n",
    "    return result[0][1]\n",
    "\n",
    "def last_run_time(ScheduleOptions):\n",
    "    result = schedule_prog.findall(ScheduleOptions)\n",
    "    return result[0][3]\n",
    "\n",
    "def timeout_for_backup_completion(ScheduleOptions):\n",
    "    result = schedule_prog.findall(ScheduleOptions)\n",
    "    return result[0][5]\n",
    "\n",
    "def next_run_time(ScheduleOptions):\n",
    "    result = schedule_prog.findall(ScheduleOptions)\n",
    "    return result[0][7]\n",
    "\n",
    "def retry_times_on_failure(ScheduleOptions):\n",
    "    result = schedule_prog.findall(ScheduleOptions)\n",
    "    return result[0][9]\n",
    "\n",
    "def retry_timeout(ScheduleOptions):\n",
    "    result = schedule_prog.findall(ScheduleOptions)\n",
    "    return result[0][11]\n",
    "\n",
    "def schedule_options_type(ScheduleOptions):\n",
    "    result = schedule_prog.findall(ScheduleOptions)\n",
    "    return result[0][12]"
   ]
  },
  {
   "cell_type": "code",
   "execution_count": null,
   "metadata": {
    "pycharm": {
     "name": "#%%\n"
    }
   },
   "outputs": [],
   "source": [
    "df.iloc[:]['startTime'] = df['ScheduleOptions'].apply(start_time)\n",
    "df.iloc[:]['lastRunTime'] = df['ScheduleOptions'].apply(last_run_time)\n",
    "df.iloc[:]['jobTimeout'] = df['ScheduleOptions'].apply(timeout_for_backup_completion)\n",
    "df.iloc[:]['jobRetryCount'] = df['ScheduleOptions'].apply(retry_times_on_failure)\n",
    "df.iloc[:]['scheduleOptionsType'] = df['ScheduleOptions'].apply(schedule_options_type)"
   ]
  },
  {
   "cell_type": "code",
   "execution_count": null,
   "metadata": {
    "pycharm": {
     "name": "#%%\n"
    }
   },
   "outputs": [],
   "source": [
    "df"
   ]
  },
  {
   "cell_type": "code",
   "execution_count": null,
   "metadata": {
    "pycharm": {
     "name": "#%%\n"
    }
   },
   "outputs": [],
   "source": [
    "daily_options_prog = re.compile(r'([^\\:]+)\\:\\s([^\\,]+)\\,\\s([^:]+)\\:\\s([^\\,]+)\\,\\s([^\\:]+)\\:\\s([^\\r\\n]+)')\n",
    "def backup_schedule_enabled(ScheduleOptions):\n",
    "    result = schedule_prog.findall(ScheduleOptions)\n",
    "    result_str = str(result[0][13])\n",
    "    subresult = (daily_options_prog.findall(result_str))\n",
    "    for end_result in subresult:\n",
    "        return (end_result[1])\n",
    "\n",
    "def backup_schedule_type(ScheduleOptions):\n",
    "    result = schedule_prog.findall(ScheduleOptions)\n",
    "    result_str = str(result[0][13])\n",
    "    subresult = (daily_options_prog.findall(result_str))\n",
    "    for end_result in subresult:\n",
    "        return (end_result[3])\n",
    "\n",
    "def backup_schedule_details(ScheduleOptions):\n",
    "    result = schedule_prog.findall(ScheduleOptions)\n",
    "    result_str = str(result[0][13])\n",
    "    subresult = (daily_options_prog.findall(result_str))\n",
    "    for end_result in subresult:\n",
    "        return (end_result[5])"
   ]
  },
  {
   "cell_type": "code",
   "execution_count": null,
   "metadata": {
    "pycharm": {
     "name": "#%%\n"
    }
   },
   "outputs": [],
   "source": [
    "df.iloc[:]['jobScheduleEnabled'] = df['ScheduleOptions'].apply(backup_schedule_enabled)\n",
    "df.iloc[:]['jobScheduleType'] = df['ScheduleOptions'].apply(backup_schedule_type)\n",
    "df.iloc[:]['jobScheduleDetails'] = df['ScheduleOptions'].apply(backup_schedule_details)"
   ]
  },
  {
   "cell_type": "code",
   "execution_count": null,
   "metadata": {
    "pycharm": {
     "name": "#%%\n"
    }
   },
   "outputs": [],
   "source": [
    "veeam_job_report_cols = []\n",
    "with open('d:/git/example_infrastructure_data_dev/dictionaries/veeam_job_report.dict','r') as f:\n",
    "    reader = csv.reader(f)\n",
    "    for row in reader:\n",
    "        print((row[0]))\n",
    "        veeam_job_report_cols.append(row[0])"
   ]
  },
  {
   "cell_type": "code",
   "execution_count": null,
   "metadata": {
    "pycharm": {
     "name": "#%%\n"
    }
   },
   "outputs": [],
   "source": [
    "veeam_job_report_cols"
   ]
  },
  {
   "cell_type": "code",
   "execution_count": null,
   "metadata": {
    "pycharm": {
     "name": "#%%\n"
    }
   },
   "outputs": [],
   "source": [
    "df_veeam_job_report = df[veeam_job_report_cols]"
   ]
  },
  {
   "cell_type": "code",
   "execution_count": null,
   "metadata": {
    "pycharm": {
     "name": "#%%\n"
    }
   },
   "outputs": [],
   "source": [
    "df_veeam_job_report.to_csv(export_folder + 'veeam_job_report_' + current_time + '[REDACTED]/.csv')"
   ]
  },
  {
   "cell_type": "code",
   "execution_count": null,
   "metadata": {
    "pycharm": {
     "name": "#%%\n"
    }
   },
   "outputs": [],
   "source": [
    "df = pd.read_csv('[REDACTED]/.csv')"
   ]
  },
  {
   "cell_type": "code",
   "execution_count": null,
   "metadata": {
    "pycharm": {
     "name": "#%%\n"
    }
   },
   "outputs": [],
   "source": [
    "df.columns"
   ]
  },
  {
   "cell_type": "code",
   "execution_count": null,
   "metadata": {
    "pycharm": {
     "name": "#%%\n"
    }
   },
   "outputs": [],
   "source": [
    "VssSnapshotOptions: [Enabled: [True], ApplicationProcessingEnabled: [True], IgnoreErrors: [False], IsCopyOnly: [False], UsePersistentGuestAgent: [False]], WinGuestFSIndexingOptions: [Type: [None]], LinGuestFSIndexingOptions: [Type: [None]], SqlBackupOptions: [TransactionLogsProcessing: [TruncateOnlyOnSuccessJob], BackupLogsFrequencyMin: [15], UseDbBackupRetention: [True], RetainDays: [15], ProxyAutoSelect: [True]FailJobOnDbAbsenceOrBackupImpossibility: [False]], ExchangeBackupOptions: [TransactionLogsProcessing: [TruncateOnlyOnSuccessJob]], WinCredsId: [[REDACTED_UUID]], LinCredsId: [00000000-0000-0000-0000-000000000000], Old Properties: [Enabled: [True], IgnoreErrors: [False], GuestFSIndexingType: [None], IncludedIndexingFolders: [], ExcludedIndexingFolders: [], LinGuestFSIndexingType: [None], LinIncludedIndexingFolders: [], LinExcludedIndexingFolders: [], IsFirstUsage: [True]]\n"
   ]
  },
  {
   "cell_type": "code",
   "execution_count": null,
   "metadata": {
    "pycharm": {
     "name": "#%%\n"
    }
   },
   "outputs": [],
   "source": []
  }
 ],
 "metadata": {
  "kernelspec": {
   "display_name": "Python 3",
   "language": "python",
   "name": "python3"
  },
  "language_info": {
   "codemirror_mode": {
    "name": "ipython",
    "version": 2
   },
   "file_extension": "[REDACTED][REDACTED]/.py",
   "mimetype": "text/x-python",
   "name": "python",
   "nbconvert_exporter": "python",
   "pygments_lexer": "ipython2",
   "version": "2.7.6"
  }
 },
 "nbformat": 4,
 "nbformat_minor": 0
}
