{
 "cells": [
  {
   "cell_type": "markdown",
   "metadata": {
    "collapsed": false,
    "pycharm": {
     "name": "#%% md\n"
    }
   },
   "source": [
    "<h1> Auvik - API - Monthly Config Change Report </h1>"
   ]
  },
  {
   "cell_type": "markdown",
   "metadata": {
    "collapsed": false,
    "pycharm": {
     "name": "#%% md\n"
    }
   },
   "source": [
    "# DataFrame Creation from API\n",
    "## Prepare for DataFrame Creation\n"
   ]
  },
  {
   "cell_type": "markdown",
   "metadata": {
    "collapsed": false,
    "pycharm": {
     "name": "#%% md\n"
    }
   },
   "source": [
    "# Import Modules and Define Globals"
   ]
  },
  {
   "cell_type": "code",
   "execution_count": null,
   "metadata": {
    "pycharm": {
     "name": "#%%\n"
    }
   },
   "outputs": [],
   "source": [
    "# data import and file manipulation\n",
    "import requests\n",
    "from requests.structures import CaseInsensitiveDict\n",
    "import json\n",
    "import csv\n",
    "import xlrd\n",
    "\n",
    "#data conditioning\n",
    "import pandas as pd\n",
    "import numpy as np\n",
    "import re\n",
    "import datetime as dt\n",
    "\n",
    "#data visualization\n",
    "import matplotlib.pyplot as plt\n",
    "import seaborn as sns"
   ]
  },
  {
   "cell_type": "code",
   "execution_count": null,
   "metadata": {
    "pycharm": {
     "name": "#%%\n"
    }
   },
   "outputs": [],
   "source": [
    "# add current timestamp to filename for reference\n",
    "current_time = (dt.datetime.utcnow().strftime('%Y_%m_%d_%H%M%S'))\n",
    "\n",
    "# git repo folder\n",
    "git_folder = 'd:/git/example_infrastructure_data_dev'\n",
    "\n",
    "# dictionary Directory\n",
    "dictionary_dir = 'd:/git/example_infrastructure_data_dev/dictionaries'\n",
    "\n",
    "# export folder will contain all csv exported DataFrames for Ticket Creation\n",
    "export_folder = 'd:/exports/'"
   ]
  },
  {
   "cell_type": "markdown",
   "metadata": {
    "collapsed": false,
    "pycharm": {
     "name": "#%% md\n"
    }
   },
   "source": [
    "## Create env Variables"
   ]
  },
  {
   "cell_type": "code",
   "execution_count": null,
   "metadata": {
    "pycharm": {
     "name": "#%%\n"
    }
   },
   "outputs": [],
   "source": [
    "# import configparser for env secrets\n",
    "from configparser import ConfigParser\n",
    "\n",
    "config = ConfigParser()\n",
    "config.read(f'{git_folder}/config/env.ini')\n",
    "import requests\n",
    "from requests.structures import CaseInsensitiveDict"
   ]
  },
  {
   "cell_type": "code",
   "execution_count": null,
   "metadata": {
    "pycharm": {
     "name": "#%%\n"
    }
   },
   "outputs": [],
   "source": [
    "# import and assign secrets from env.ini\n",
    "\n",
    "auvik_config = config['auvik']"
   ]
  },
  {
   "cell_type": "markdown",
   "metadata": {
    "collapsed": false,
    "pycharm": {
     "name": "#%% md\n"
    }
   },
   "source": [
    "## Verify permissions in Auvik\n"
   ]
  },
  {
   "cell_type": "code",
   "execution_count": null,
   "metadata": {
    "pycharm": {
     "name": "#%%\n"
    }
   },
   "outputs": [],
   "source": [
    "# verify permissions URL\n",
    "\n",
    "request_uri = f\"{auvik_config['base_uri']}/authentication/verify\"\n",
    "\n",
    "# construct header\n",
    "headers = CaseInsensitiveDict()\n",
    "headers['Authorization'] = f\"Basic {auvik_config['api_key']}\"\n",
    "#headers['auth'] = f'{username,basic_auth}'\n",
    "\n",
    "# construct req body\n",
    "data = \"\"\n",
    "\n",
    "# request content response (200) is GOOD\n",
    "resp = requests.get(request_uri, auth=(auvik_config['username'],auvik_config['api_key']), headers=headers)\n",
    "print(resp.status_code)\n",
    "print(resp)"
   ]
  },
  {
   "cell_type": "markdown",
   "metadata": {
    "collapsed": false,
    "pycharm": {
     "name": "#%% md\n"
    }
   },
   "source": [
    "## Pull Tenant ID"
   ]
  },
  {
   "cell_type": "code",
   "execution_count": null,
   "metadata": {
    "pycharm": {
     "name": "#%%\n"
    }
   },
   "outputs": [],
   "source": [
    "# request uri\n",
    "request_uri = f\"{auvik_config['base_uri']}/tenants\"\n",
    "\n",
    "# construct header\n",
    "headers = CaseInsensitiveDict()\n",
    "headers['Authorization'] = f\"Basic {auvik_config['api_key']}\"\n",
    "\n",
    "# construct req body\n",
    "data = CaseInsensitiveDict()\n",
    "\n",
    "# request content response\n",
    "resp = requests.get(request_uri,  auth=(auvik_config['username'],auvik_config['api_key']), headers=headers)\n",
    "content = resp.content.decode('utf-8')\n",
    "c_dict = json.loads(content)\n",
    "\n",
    "# count pages\n",
    "total_pages = 0\n",
    "\n",
    "df_auvik_tenants = pd.DataFrame(c_dict['data'])"
   ]
  },
  {
   "cell_type": "code",
   "execution_count": null,
   "metadata": {
    "pycharm": {
     "name": "#%%\n"
    }
   },
   "outputs": [],
   "source": [
    "def domainPrefix(attributes):\n",
    "    return attributes['domainPrefix']\n",
    "\n",
    "def tenantType(attributes):\n",
    "    return attributes['tenantType']\n",
    "\n",
    "df_auvik_tenants['domainPrefix'] = df_auvik_tenants['attributes'].apply(domainPrefix)\n",
    "df_auvik_tenants['tenantType'] = df_auvik_tenants['attributes'].apply(tenantType)\n",
    "\n",
    "df_auvik_tenants.drop(['attributes','relationships'],inplace=True,axis=1)"
   ]
  },
  {
   "cell_type": "code",
   "execution_count": null,
   "metadata": {
    "pycharm": {
     "name": "#%%\n"
    }
   },
   "outputs": [],
   "source": [
    "multiclient_list = []\n",
    "for index,row in df_auvik_tenants.iterrows():\n",
    "\n",
    "    if row['tenantType'] == 'multiClient':\n",
    "        multiclient_list.append(row['id'])\n"
   ]
  },
  {
   "cell_type": "markdown",
   "metadata": {
    "collapsed": false,
    "pycharm": {
     "name": "#%% md\n"
    }
   },
   "source": [
    "# Pull Configuration Change Information"
   ]
  },
  {
   "cell_type": "code",
   "execution_count": null,
   "metadata": {
    "pycharm": {
     "name": "#%%\n"
    }
   },
   "outputs": [],
   "source": [
    "# request uri\n",
    "request_uri = f\"{auvik_config['base_uri']}/inventory/configuration\"\n",
    "\n",
    "# construct header\n",
    "headers = CaseInsensitiveDict()\n",
    "headers['Authorization'] = f\"Basic {auvik_config['api_key']}\"\n",
    "\n",
    "# construct req body\n",
    "data = CaseInsensitiveDict()\n",
    "data['tenants'] = multiclient_list[0]\n",
    "\n",
    "# request content response\n",
    "resp = requests.get(request_uri,  auth=(auvik_config['username'],auvik_config['api_key']), headers=headers)\n",
    "content = resp.content.decode('utf-8')\n",
    "c_dict = json.loads(content)\n",
    "\n",
    "# count pages\n",
    "total_pages = 0\n",
    "\n",
    "df_auvik_configurations = pd.DataFrame(c_dict['data'])\n",
    "\n",
    "while c_dict['links']['next']:\n",
    "    next_page = c_dict['links']['next']\n",
    "    resp = requests.get(next_page,  auth=(auvik_config['username'],auvik_config['api_key']), headers=headers)\n",
    "    content = resp.content.decode('utf-8')\n",
    "    c_dict = json.loads(content)\n",
    "    df_current_page = pd.DataFrame(c_dict['data'])\n",
    "    df_auvik_configurations = pd.concat([df_auvik_configurations,df_current_page],ignore_index=False)\n",
    "    try:\n",
    "        print(c_dict['links']['next'])\n",
    "        total_pages += 1\n",
    "    except:\n",
    "        print('*'* 200)\n",
    "        print('End of API Pages')\n",
    "        print(f'Total Pages: {total_pages}')\n",
    "        break"
   ]
  },
  {
   "cell_type": "markdown",
   "metadata": {
    "collapsed": false,
    "pycharm": {
     "name": "#%% md\n"
    }
   },
   "source": [
    "# Shape DataFrame"
   ]
  },
  {
   "cell_type": "code",
   "execution_count": null,
   "metadata": {
    "pycharm": {
     "name": "#%%\n"
    }
   },
   "outputs": [],
   "source": [
    "def backupTime(attributes):\n",
    "    return attributes['backupTime']\n",
    "\n",
    "def isRunning(attributes):\n",
    "    return attributes['isRunning']"
   ]
  },
  {
   "cell_type": "code",
   "execution_count": null,
   "metadata": {
    "pycharm": {
     "name": "#%%\n"
    }
   },
   "outputs": [],
   "source": [
    "df_auvik_configurations['backupTime'] = df_auvik_configurations['attributes'].apply(backupTime)\n",
    "df_auvik_configurations['isRunning'] = df_auvik_configurations['attributes'].apply(isRunning)"
   ]
  },
  {
   "cell_type": "code",
   "execution_count": null,
   "metadata": {
    "pycharm": {
     "name": "#%%\n"
    }
   },
   "outputs": [],
   "source": [
    "def domainPrefix(relationships):\n",
    "    return relationships['tenant']['data']['attributes']['domainPrefix']\n",
    "\n",
    "df_auvik_configurations['domainPrefix'] = df_auvik_configurations['relationships'].apply(domainPrefix)"
   ]
  },
  {
   "cell_type": "code",
   "execution_count": null,
   "metadata": {
    "pycharm": {
     "name": "#%%\n"
    }
   },
   "outputs": [],
   "source": [
    "def device(relationships):\n",
    "    return relationships['device']['data']['attributes']['deviceName']\n",
    "\n",
    "df_auvik_configurations['deviceName'] =  df_auvik_configurations['relationships'].apply(device)"
   ]
  },
  {
   "cell_type": "code",
   "execution_count": null,
   "metadata": {
    "pycharm": {
     "name": "#%%\n"
    }
   },
   "outputs": [],
   "source": [
    "def selfLink(links):\n",
    "    return links['self']\n",
    "\n",
    "df_auvik_configurations['selfLink'] =  df_auvik_configurations['links'].apply(selfLink)"
   ]
  },
  {
   "cell_type": "code",
   "execution_count": null,
   "metadata": {
    "pycharm": {
     "name": "#%%\n"
    }
   },
   "outputs": [],
   "source": [
    "df_auvik_configurations.drop(['attributes','relationships','links'],inplace=True,axis=1)"
   ]
  },
  {
   "cell_type": "code",
   "execution_count": null,
   "metadata": {
    "pycharm": {
     "name": "#%%\n"
    }
   },
   "outputs": [],
   "source": [
    "## Convert Timezone to DateTij0me UTC\n",
    "df_data_timefix = pd.to_datetime(df_auvik_configurations['backupTime'], unit='ns', errors='coerce')\n",
    "df_auvik_configurations['backupTime'] = df_data_timefix.values.astype('datetime64[s]')"
   ]
  },
  {
   "cell_type": "markdown",
   "metadata": {
    "collapsed": false,
    "pycharm": {
     "name": "#%% md\n"
    }
   },
   "source": [
    "## Standardize Client Names"
   ]
  },
  {
   "cell_type": "code",
   "execution_count": null,
   "metadata": {
    "pycharm": {
     "name": "#%%\n"
    }
   },
   "outputs": [],
   "source": [
    "df = pd.read_csv(f'{dictionary_dir}/client_name_standardization.dict',delimiter='\\t')\n",
    "client_rename_dict = {}\n",
    "for index, row in df.iterrows():\n",
    "    previousName = row['previousName']\n",
    "    currentName = row['currentName']\n",
    "    client_rename_dict[previousName] = currentName"
   ]
  },
  {
   "cell_type": "code",
   "execution_count": null,
   "metadata": {
    "pycharm": {
     "name": "#%%\n"
    }
   },
   "outputs": [],
   "source": [
    "def client_names(c_name):\n",
    "    dict_length = len(client_rename_dict)\n",
    "    for k, v in client_rename_dict.items():\n",
    "        try:\n",
    "            result = re.sub(k, v, c_name)\n",
    "            if result != c_name:\n",
    "                # print(f'Keyword found: {k}')\n",
    "                # print(f'Replacment value: {v}')\n",
    "                # print('\\n')\n",
    "                return v\n",
    "                break\n",
    "        except Exception as e:\n",
    "            print(e)\n",
    "            break\n",
    "    return c_name"
   ]
  },
  {
   "cell_type": "code",
   "execution_count": null,
   "metadata": {
    "pycharm": {
     "name": "#%%\n"
    }
   },
   "outputs": [],
   "source": [
    "df_auvik_configurations['clientName'] = df_auvik_configurations['domainPrefix'].apply(client_names)"
   ]
  },
  {
   "cell_type": "code",
   "execution_count": null,
   "metadata": {
    "pycharm": {
     "name": "#%%\n"
    }
   },
   "outputs": [],
   "source": [
    "df_auvik_configurations_last_30days = df_auvik_configurations[df_auvik_configurations['backupTime'] > (dt.datetime.now() - dt.timedelta(days=30))].sort_values('dayOccurred')"
   ]
  },
  {
   "cell_type": "markdown",
   "metadata": {
    "collapsed": false,
    "pycharm": {
     "name": "#%% md\n"
    }
   },
   "source": [
    "# Export DataFrames and Graphics"
   ]
  },
  {
   "cell_type": "code",
   "execution_count": null,
   "metadata": {
    "pycharm": {
     "name": "#%%\n"
    }
   },
   "outputs": [],
   "source": [
    "df_auvik_configurations.to_csv(export_folder + 'auvik_device_backup_log_' + str(current_time) + '.csv',index=False)\n",
    "df_auvik_configurations_last_30days.to_csv(export_folder + 'service_auvik_device_backup_log_last_30days_' + str(current_time) + '.csv',index=False)"
   ]
  },
  {
   "cell_type": "code",
   "execution_count": null,
   "metadata": {
    "pycharm": {
     "name": "#%%\n"
    }
   },
   "outputs": [],
   "source": [
    "df_auvik_configurations_last_30days['dayOccurred'] = df_auvik_configurations_last_30days.iloc[:]['backupTime'].dt.to_period('d')\n",
    "df_auvik_configurations['monthOccured'] = df_auvik_configurations.iloc[:]['backupTime'].dt.to_period('m')"
   ]
  },
  {
   "cell_type": "code",
   "execution_count": null,
   "metadata": {
    "pycharm": {
     "name": "#%%\n"
    }
   },
   "outputs": [],
   "source": [
    "# Total Device Changes\n",
    "fig = plt.figure(figsize=(60,40))\n",
    "sns.countplot(data=df_auvik_configurations.sort_values('monthOccured'),x = 'monthOccured', hue='clientName')\n",
    "fig.savefig(export_folder + 'auvik_device_backup_log_' + str(current_time) + '.png')"
   ]
  },
  {
   "cell_type": "code",
   "execution_count": null,
   "metadata": {
    "pycharm": {
     "name": "#%%\n"
    }
   },
   "outputs": [],
   "source": [
    "# Device Changes Last 30 Days\n",
    "fig = plt.figure(figsize=(60,40))\n",
    "sns.countplot(data=df_auvik_configurations_last_30days,x = 'dayOccurred', hue='clientName')\n",
    "fig.savefig(export_folder + 'service_auvik_device_backup_log_last_30days_' + str(current_time) + '.png')"
   ]
  },
  {
   "cell_type": "code",
   "execution_count": null,
   "metadata": {
    "pycharm": {
     "name": "#%%\n"
    }
   },
   "outputs": [],
   "source": []
  }
 ],
 "metadata": {
  "kernelspec": {
   "display_name": "Python 3",
   "language": "python",
   "name": "python3"
  },
  "language_info": {
   "codemirror_mode": {
    "name": "ipython",
    "version": 2
   },
   "file_extension": "[REDACTED][REDACTED]/.py",
   "mimetype": "text/x-python",
   "name": "python",
   "nbconvert_exporter": "python",
   "pygments_lexer": "ipython2",
   "version": "2.7.6"
  }
 },
 "nbformat": 4,
 "nbformat_minor": 0
}
