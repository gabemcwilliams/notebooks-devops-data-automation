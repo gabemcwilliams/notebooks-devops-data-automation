{
 "cells": [
  {
   "cell_type": "markdown",
   "metadata": {
    "collapsed": false,
    "pycharm": {
     "name": "#%% md\n"
    }
   },
   "source": [
    "<h1> Unzip and Rename - NAble Policy Zipped Exports </h1>"
   ]
  },
  {
   "cell_type": "markdown",
   "metadata": {
    "collapsed": false,
    "pycharm": {
     "name": "#%% md\n"
    }
   },
   "source": [
    "### Import Modules, Create env Variables"
   ]
  },
  {
   "cell_type": "code",
   "execution_count": null,
   "metadata": {
    "pycharm": {
     "name": "#%%\n"
    }
   },
   "outputs": [],
   "source": [
    "# data import and file manipulation\n",
    "import os\n",
    "import requests\n",
    "from requests.structures import CaseInsensitiveDict\n",
    "import json\n",
    "import csv\n",
    "import xlrd\n",
    "\n",
    "# zip file manipulation\n",
    "import zipfile\n",
    "\n",
    "#data conditioning\n",
    "import pandas as pd\n",
    "import numpy as np\n",
    "import re\n",
    "import datetime as dt\n",
    "\n",
    "#data visualization\n",
    "[REDACTED]/.pyplot as plt\n",
    "import seaborn as sns"
   ]
  },
  {
   "cell_type": "code",
   "execution_count": null,
   "metadata": {
    "pycharm": {
     "name": "#%%\n"
    }
   },
   "outputs": [],
   "source": [
    "# add current timestamp to filename for reference\n",
    "current_time = (dt.datetime.utcnow().strftime('%Y_%m_%d_%H%M%S'))\n",
    "\n",
    "# git repo folder\n",
    "git_folder = 'd:/git/example_infrastructure_data_dev'\n",
    "\n",
    "# dictionary Directory\n",
    "dictionary_dir = 'd:/git/example_infrastructure_data_dev/dictionaries'\n",
    "\n",
    "# export folder will contain all csv exported DataFrames for Ticket Creation\n",
    "export_folder = 'd:/exports'"
   ]
  },
  {
   "cell_type": "code",
   "execution_count": null,
   "metadata": {
    "pycharm": {
     "name": "#%%\n"
    }
   },
   "outputs": [],
   "source": [
    "source_dir = 'D:/project_docs/abc_nable_migration/abc_nable_exports/scripts_and_automation/policy_exports/service_templates'\n",
    "\n",
    "export_dir = 'D:/project_docs/abc_nable_migration/nable_conditioned_exports/scripts_and_automation'"
   ]
  },
  {
   "cell_type": "markdown",
   "metadata": {
    "collapsed": false,
    "pycharm": {
     "name": "#%% md\n"
    }
   },
   "source": [
    "## Pull list of all zip files and capture folder prefix name"
   ]
  },
  {
   "cell_type": "code",
   "execution_count": null,
   "metadata": {
    "pycharm": {
     "name": "#%%\n"
    }
   },
   "outputs": [],
   "source": [
    "# pull all filenames walking through all folders (recursive going down the tree)\n",
    "\n",
    "source_report = []\n",
    "for root, dirs, files in os.walk(source_dir):\n",
    "    for file in files:\n",
    "        if ('.zip' in file):\n",
    "            info_dict = {}\n",
    "            info_dict['filename'] = os.path.join(file)\n",
    "            info_dict['fullPath'] = os.path.join(root,file)\n",
    "            source_report.append(info_dict)"
   ]
  },
  {
   "cell_type": "markdown",
   "metadata": {
    "collapsed": false,
    "pycharm": {
     "name": "#%% md\n"
    }
   },
   "source": [
    "## Standardize Client Names"
   ]
  },
  {
   "cell_type": "code",
   "execution_count": null,
   "metadata": {
    "pycharm": {
     "name": "#%%\n"
    }
   },
   "outputs": [],
   "source": [
    "df = pd.read_csv(f'{dictionary_dir}/client_name_standardization.dict')\n",
    "client_rename_dict = {}\n",
    "for index, row in df.iterrows():\n",
    "    [REDACTED] = row['[REDACTED]']\n",
    "    currentName = row['currentName']\n",
    "    client_rename_dict[[REDACTED]] = currentName\n",
    "\n",
    "\n",
    "def client_names(c_name):\n",
    "    for k, v in client_rename_dict.items():\n",
    "        try:\n",
    "            result = re.sub(k.lower(), v, c_name.lower())\n",
    "            if result != c_name:\n",
    "                return v\n",
    "                break\n",
    "        except Exception as e:\n",
    "            print(e)\n",
    "            break\n",
    "    return c_name\n"
   ]
  },
  {
   "cell_type": "code",
   "execution_count": null,
   "metadata": {
    "pycharm": {
     "name": "#%%\n"
    }
   },
   "outputs": [],
   "source": [
    "df_zips = pd.DataFrame(source_report)"
   ]
  },
  {
   "cell_type": "code",
   "execution_count": null,
   "metadata": {
    "pycharm": {
     "name": "#%%\n"
    }
   },
   "outputs": [],
   "source": [
    "df_zips"
   ]
  },
  {
   "cell_type": "code",
   "execution_count": null,
   "metadata": {
    "pycharm": {
     "name": "#%%\n"
    }
   },
   "outputs": [],
   "source": [
    "for index,row in df_zips.iterrows():\n",
    "\n",
    "    with zipfile.ZipFile(row['fullPath'], 'r') as zip:\n",
    "        content_list = zip.namelist()\n",
    "        result = re.findall(r'([^\\.\\/]+)\\.xml',content_list[0])\n",
    "\n",
    "        export_path = (f\"{export_dir}/service_templates/Service Template - {result[0]}\")\n",
    "        try:\n",
    "            os.makedirs(export_dir)\n",
    "        except:\n",
    "            pass\n",
    "        print(f\"Attempting to Unzip [{row['fullPath']}] to [{export_path}]\")\n",
    "        zip.extractall(export_path)"
   ]
  },
  {
   "cell_type": "code",
   "execution_count": null,
   "metadata": {
    "pycharm": {
     "name": "#%%\n"
    }
   },
   "outputs": [],
   "source": [
    "service_xmls = []\n",
    "for root, dirs, files in os.walk(export_dir):\n",
    "    for file in files:\n",
    "        if ('.xml' in file):\n",
    "            info_dict = {}\n",
    "            info_dict['templateName'] = re.findall(r'([^\\/]+)\\.xml',file)[0]\n",
    "            info_dict['filename'] = os.path.join(file)\n",
    "            info_dict['fullPath'] = os.path.join(root,file)\n",
    "            service_xmls.append(info_dict)"
   ]
  },
  {
   "cell_type": "code",
   "execution_count": null,
   "metadata": {
    "pycharm": {
     "name": "#%%\n"
    }
   },
   "outputs": [],
   "source": [
    "df_service_template_xmls = pd.DataFrame(service_xmls)"
   ]
  },
  {
   "cell_type": "code",
   "execution_count": null,
   "metadata": {
    "pycharm": {
     "name": "#%%\n"
    }
   },
   "outputs": [],
   "source": [
    "def policy_name(string):\n",
    "    result = (re.findall(r'\\\\Service\\sTemplate\\s\\-\\s([^\\\\]+)\\\\',string))\n",
    "    return result[0]"
   ]
  },
  {
   "cell_type": "code",
   "execution_count": null,
   "metadata": {
    "pycharm": {
     "name": "#%%\n"
    }
   },
   "outputs": [],
   "source": [
    "df_service_template_xmls['policyName'] = df_service_template_xmls['fullPath'].apply(policy_name)"
   ]
  },
  {
   "cell_type": "code",
   "execution_count": null,
   "metadata": {
    "pycharm": {
     "name": "#%%\n"
    }
   },
   "outputs": [],
   "source": [
    "df_service_template_xmls = df_service_template_xmls[['policyName','templateName','filename','fullPath']]"
   ]
  },
  {
   "cell_type": "code",
   "execution_count": null,
   "metadata": {
    "pycharm": {
     "name": "#%%\n"
    }
   },
   "outputs": [],
   "source": [
    "df_service_template_xmls"
   ]
  },
  {
   "cell_type": "code",
   "execution_count": null,
   "metadata": {
    "pycharm": {
     "name": "#%%\n"
    }
   },
   "outputs": [],
   "source": [
    "df_service_template_xmls.to_csv('[REDACTED]/.csv',index=False)"
   ]
  },
  {
   "cell_type": "code",
   "execution_count": null,
   "metadata": {
    "pycharm": {
     "name": "#%%\n"
    }
   },
   "outputs": [],
   "source": []
  }
 ],
 "metadata": {
  "kernelspec": {
   "display_name": "Python 3",
   "language": "python",
   "name": "python3"
  },
  "language_info": {
   "codemirror_mode": {
    "name": "ipython",
    "version": 2
   },
   "file_extension": "[REDACTED][REDACTED]/.py",
   "mimetype": "text/x-python",
   "name": "python",
   "nbconvert_exporter": "python",
   "pygments_lexer": "ipython2",
   "version": "2.7.6"
  }
 },
 "nbformat": 4,
 "nbformat_minor": 0
}
