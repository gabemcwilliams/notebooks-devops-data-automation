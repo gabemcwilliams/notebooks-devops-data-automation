{
 "cells": [
  {
   "cell_type": "markdown",
   "metadata": {
    "collapsed": false,
    "pycharm": {
     "name": "#%% md\n"
    }
   },
   "source": [
    "<h1> N-Able - SOAP API - Devices Data Pull </h1>"
   ]
  },
  {
   "cell_type": "markdown",
   "metadata": {
    "collapsed": false,
    "pycharm": {
     "name": "#%% md\n"
    }
   },
   "source": [
    "### Import Modules, Create env Variables"
   ]
  },
  {
   "cell_type": "code",
   "execution_count": null,
   "metadata": {
    "pycharm": {
     "name": "#%%\n"
    }
   },
   "outputs": [],
   "source": [
    "# Data Shaping\n",
    "import pandas as pd\n",
    "import numpy as np\n",
    "import re\n",
    "import datetime as dt\n",
    "\n",
    "# SOAP Handling\n",
    "from zeep import Client\n",
    "from requests import Session\n",
    "from requests.auth import HTTPBasicAuth\n",
    "from zeep.transports import Transport\n",
    "\n",
    "\n",
    "from zeep import Client, Settings\n",
    "import base64,sys, logging, traceback\n",
    "from requests import Session\n",
    "from zeep.transports import Transport\n",
    "import requests\n",
    "from lxml import etree\n",
    "\n",
    "\n",
    "# File Handling and Export\n",
    "import json\n",
    "import csv\n",
    "import xlrd"
   ]
  },
  {
   "cell_type": "code",
   "execution_count": null,
   "metadata": {
    "pycharm": {
     "name": "#%%\n"
    }
   },
   "outputs": [],
   "source": [
    "# add current timestamp to filename for reference\n",
    "current_time = (dt.datetime.utcnow().strftime('%Y_%m_%d_%H%M%S'))\n",
    "\n",
    "# git repo folder\n",
    "git_folder = 'd:/git/example_infrastructure_data_dev'\n",
    "\n",
    "# export folder will contain all csv exported DataFrames for Ticket Creation\n",
    "export_folder = 'd:/exports/'"
   ]
  },
  {
   "cell_type": "code",
   "execution_count": null,
   "metadata": {
    "pycharm": {
     "name": "#%%\n"
    }
   },
   "outputs": [],
   "source": [
    "# import configparser for env secrets\n",
    "from configparser import ConfigParser\n",
    "\n",
    "config = ConfigParser()\n",
    "config.read(f'{git_folder}/config/env.ini')\n",
    "import requests\n",
    "from requests.structures import CaseInsensitiveDict"
   ]
  },
  {
   "cell_type": "code",
   "execution_count": null,
   "metadata": {
    "pycharm": {
     "name": "#%%\n"
    }
   },
   "outputs": [],
   "source": [
    "# import nable env\n",
    "nable_config = config['nable']"
   ]
  },
  {
   "cell_type": "markdown",
   "metadata": {
    "collapsed": false,
    "pycharm": {
     "name": "#%% md\n"
    }
   },
   "source": [
    "# Create DataFrame via API Call Iteration\n"
   ]
  },
  {
   "cell_type": "code",
   "execution_count": null,
   "metadata": {
    "pycharm": {
     "name": "#%%\n"
    }
   },
   "outputs": [],
   "source": [
    "resource = 'CustomerList'\n",
    "request_url = f\"{nable_config['base_uri']}/dms2/{resource}\""
   ]
  },
  {
   "cell_type": "code",
   "execution_count": null,
   "metadata": {
    "pycharm": {
     "name": "#%%\n"
    }
   },
   "outputs": [],
   "source": [
    "request_data = {\n",
    "    'username':nable_config['username'],\n",
    "    'password':nable_config['password'],\n",
    "    # 'listSOs':'true'\n",
    "}"
   ]
  },
  {
   "cell_type": "code",
   "execution_count": null,
   "metadata": {
    "pycharm": {
     "name": "#%%\n"
    }
   },
   "outputs": [],
   "source": [
    "\n",
    "import zeep\n",
    "\n",
    "wsdl = \"https://ncod405.n-able.com/dms2/services2/ServerEI2?wsdl\"\n",
    "\n",
    "session = Session()\n",
    "\n",
    "session.auth = HTTPBasicAuth(nable_config['username'], nable_config['password'])\n",
    "\n",
    "#An additional argument 'transport' is passed with the authentication details\n",
    "client = Client(wsdl, transport=Transport(session=session))\n",
    "\n",
    "\n",
    "response = client.service.customerListChildren(**request_data)\n",
    "#Here 'request_data' is the request parameter dictionary.\n",
    "#Assuming that the operation named 'sendData' is defined in the passed wsdl."
   ]
  },
  {
   "cell_type": "code",
   "execution_count": null,
   "metadata": {
    "pycharm": {
     "name": "#%%\n"
    }
   },
   "outputs": [],
   "source": []
  },
  {
   "cell_type": "code",
   "execution_count": null,
   "metadata": {
    "pycharm": {
     "name": "#%%\n"
    }
   },
   "outputs": [],
   "source": []
  },
  {
   "cell_type": "code",
   "execution_count": null,
   "metadata": {
    "pycharm": {
     "name": "#%%\n"
    }
   },
   "outputs": [],
   "source": [
    "\n",
    "# set method URL\n",
    "method_url = f\"{nable_config['base_uri']}/dms2/{resource}\"\n",
    "\n",
    "# set service URL\n",
    "service_url = \"https://ncod405.n-able.com/dms2/services2/ServerEI2\"\n",
    "\n",
    "# create the header element\n",
    "header = zeep.xsd.Element(\n",
    "    \"Header\",\n",
    "    zeep.xsd.ComplexType(\n",
    "        [\n",
    "            zeep.xsd.Element(\n",
    "                \"{http://www.w3.org/2005/08/addressing}Action\", zeep.xsd.String()\n",
    "            ),\n",
    "            zeep.xsd.Element(\n",
    "                \"{http://www.w3.org/2005/08/addressing}To\", zeep.xsd.String()\n",
    "            ),\n",
    "        ]\n",
    "    ),\n",
    ")\n",
    "# set the header value from header element\n",
    "header_value = header(Action=method_url, To=service_url)\n",
    "\n",
    "# initialize zeep client\n",
    "client = zeep.Client(wsdl=wsdl_url)"
   ]
  },
  {
   "cell_type": "code",
   "execution_count": null,
   "metadata": {
    "pycharm": {
     "name": "#%%\n"
    }
   },
   "outputs": [],
   "source": [
    "result = client.service.customerListChildren(\n",
    "    username=nable_config['username'],\n",
    "    password=nable_config['password'],\n",
    "    listSOs=\"true\"\n",
    ")"
   ]
  },
  {
   "cell_type": "code",
   "execution_count": null,
   "metadata": {
    "pycharm": {
     "name": "#%%\n"
    }
   },
   "outputs": [],
   "source": [
    "\n",
    "# set country code for India\n",
    "country_code = \"IN\"\n",
    "\n",
    "# make the service call\n",
    "result = client.service.CountryIntPhoneCode(\n",
    "    sCountryISOCode=country_code,\n",
    "    _soapheaders=[header_value]\n",
    ")\n",
    "# print the result\n",
    "print(f\"Phone Code for {country_code} is {result}\")\n",
    "\n",
    "# set country code for United States\n",
    "country_code = \"US\"\n",
    "\n",
    "# make the service call\n",
    "result = client.service.CountryIntPhoneCode(\n",
    "    sCountryISOCode=country_code,\n",
    "    _soapheaders=[header_value]\n",
    ")\n",
    "\n",
    "# print the result\n",
    "print(f\"Phone Code for {country_code} is {result}\")\n",
    "print(response)"
   ]
  },
  {
   "cell_type": "code",
   "execution_count": null,
   "metadata": {
    "pycharm": {
     "name": "#%%\n"
    }
   },
   "outputs": [],
   "source": [
    "request_url = f\"{nable_config['base_uri']}/dms/{resource}\"\n",
    "\n",
    "# construct header\n",
    "headers = CaseInsensitiveDict()\n",
    "headers['Content-Type'] = 'application/x-www-form-urlencoded'\n",
    "\n",
    "# construct req body\n",
    "data = CaseInsensitiveDict()\n",
    "#data['grant_type'] = 'bearer'\n",
    "\n",
    "# construct header\n",
    "headers = CaseInsensitiveDict()\n",
    "headers['Authorization'] = f\"Bearer {nable_config['api_key']}\"\n",
    "\n",
    "# request partner id\n",
    "resp = requests.get(request_url,headers=headers)\n",
    "content = resp.content.decode('utf-8')\n",
    "c_dict = json.loads(content)"
   ]
  },
  {
   "cell_type": "code",
   "execution_count": null,
   "metadata": {
    "pycharm": {
     "name": "#%%\n"
    }
   },
   "outputs": [],
   "source": [
    "resp.content"
   ]
  },
  {
   "cell_type": "code",
   "execution_count": null,
   "metadata": {
    "pycharm": {
     "name": "#%%\n"
    }
   },
   "outputs": [],
   "source": [
    "request_url"
   ]
  },
  {
   "cell_type": "code",
   "execution_count": null,
   "metadata": {
    "pycharm": {
     "name": "#%%\n"
    }
   },
   "outputs": [],
   "source": []
  }
 ],
 "metadata": {
  "kernelspec": {
   "display_name": "Python 3",
   "language": "python",
   "name": "python3"
  },
  "language_info": {
   "codemirror_mode": {
    "name": "ipython",
    "version": 2
   },
   "file_extension": "[REDACTED][REDACTED]/.py",
   "mimetype": "text/x-python",
   "name": "python",
   "nbconvert_exporter": "python",
   "pygments_lexer": "ipython2",
   "version": "2.7.6"
  }
 },
 "nbformat": 4,
 "nbformat_minor": 0
}
