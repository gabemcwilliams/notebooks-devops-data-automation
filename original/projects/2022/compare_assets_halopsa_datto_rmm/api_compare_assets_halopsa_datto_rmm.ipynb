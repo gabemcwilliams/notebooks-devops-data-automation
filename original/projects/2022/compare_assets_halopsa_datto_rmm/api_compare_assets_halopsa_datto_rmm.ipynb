{
 "cells": [
  {
   "cell_type": "markdown",
   "metadata": {
    "collapsed": false,
    "pycharm": {
     "name": "#%% md\n"
    }
   },
   "source": [
    "<h1> Compare Assets - HaloPSA vs DattoRMM + Auvik </h1>\n",
    "\n",
    "Review for Asset Ingestion into HaloPSA Gaps or Issues"
   ]
  },
  {
   "cell_type": "markdown",
   "metadata": {
    "collapsed": false,
    "pycharm": {
     "name": "#%% md\n"
    }
   },
   "source": [
    "# Import Modules and Define Globals"
   ]
  },
  {
   "cell_type": "code",
   "execution_count": null,
   "metadata": {
    "pycharm": {
     "name": "#%%\n"
    }
   },
   "outputs": [],
   "source": [
    "# data import and file manipulation\n",
    "import requests\n",
    "from requests.structures import CaseInsensitiveDict\n",
    "import json\n",
    "import csv\n",
    "import xlrd\n",
    "\n",
    "#data conditioning\n",
    "import pandas as pd\n",
    "import numpy as np\n",
    "import re\n",
    "import datetime as dt\n",
    "\n",
    "#data visualization\n",
    "[REDACTED]/.pyplot as plt\n",
    "import seaborn as sns"
   ]
  },
  {
   "cell_type": "code",
   "execution_count": null,
   "metadata": {
    "pycharm": {
     "name": "#%%\n"
    }
   },
   "outputs": [],
   "source": [
    "# add current timestamp to filename for reference\n",
    "current_time = (dt.datetime.utcnow().strftime('%Y_%m_%d_%H%M%S'))\n",
    "\n",
    "# git repo folder\n",
    "git_folder = 'd:/git/example_infrastructure_data_dev'\n",
    "\n",
    "# dictionary Directory\n",
    "dictionary_dir = 'd:/git/example_infrastructure_data_dev/dictionaries'\n",
    "\n",
    "# export folder will contain all csv exported DataFrames for Ticket Creation\n",
    "export_folder = 'd:/exports/'"
   ]
  },
  {
   "cell_type": "markdown",
   "metadata": {
    "collapsed": false,
    "pycharm": {
     "name": "#%% md\n"
    }
   },
   "source": [
    "## Create env Variables"
   ]
  },
  {
   "cell_type": "code",
   "execution_count": null,
   "metadata": {
    "pycharm": {
     "name": "#%%\n"
    }
   },
   "outputs": [],
   "source": [
    "# import configparser for env secrets\n",
    "from configparser import ConfigParser\n",
    "\n",
    "config = ConfigParser()\n",
    "config.read(f'{git_folder}/config/env.ini')\n",
    "import requests\n",
    "from requests.structures import CaseInsensitiveDict"
   ]
  },
  {
   "cell_type": "code",
   "execution_count": null,
   "metadata": {
    "pycharm": {
     "name": "#%%\n"
    }
   },
   "outputs": [],
   "source": [
    "# import and assign secrets from env.ini\n",
    "\n",
    "dattormm_config = config['dattormm']\n",
    "halopsa_config = config['halopsa']\n",
    "auvik_config = config['auvik']"
   ]
  },
  {
   "cell_type": "markdown",
   "metadata": {
    "collapsed": false,
    "pycharm": {
     "name": "#%% md\n"
    }
   },
   "source": [
    "# Create Datto RMM DataFrame"
   ]
  },
  {
   "cell_type": "markdown",
   "metadata": {
    "collapsed": false,
    "pycharm": {
     "name": "#%% md\n"
    }
   },
   "source": [
    "## Create auth token"
   ]
  },
  {
   "cell_type": "code",
   "execution_count": null,
   "metadata": {
    "pycharm": {
     "name": "#%%\n"
    }
   },
   "outputs": [],
   "source": [
    "# call token api url\n",
    "token_uri = f\"{dattormm_config['base_uri']}/auth/oauth/token\"\n",
    "\n",
    "\n",
    "# construct header\n",
    "headers = CaseInsensitiveDict()\n",
    "headers['Content-Type'] = 'application/x-www-form-urlencoded'\n",
    "\n",
    "# construct req body\n",
    "data = CaseInsensitiveDict()\n",
    "data['grant_type'] = 'password'\n",
    "data['username'] = dattormm_config['api_key']\n",
    "data['password'] = dattormm_config['api_secret']\n",
    "\n",
    "# request content response\n",
    "resp = requests.post(token_uri, headers=headers, data=data, auth=('public-client', 'public'))\n",
    "content = resp.content.decode('utf-8')\n",
    "c_dict = json.loads(content)\n",
    "\n",
    "access_token = c_dict['access_token']"
   ]
  },
  {
   "cell_type": "markdown",
   "metadata": {
    "collapsed": false,
    "pycharm": {
     "name": "#%% md\n"
    }
   },
   "source": [
    "## Create DataFrame via API Call Iteration\n"
   ]
  },
  {
   "cell_type": "code",
   "execution_count": null,
   "metadata": {
    "pycharm": {
     "name": "#%%\n"
    }
   },
   "outputs": [],
   "source": [
    "\n",
    "## Create Devices DataFrame\n",
    "# request content response\n",
    "request_url = f\"{dattormm_config['base_uri']}/api/v2/account/devices\"\n",
    "\n",
    "# construct header\n",
    "headers = CaseInsensitiveDict()\n",
    "headers['Authorization'] = f'Bearer {access_token}'\n",
    "headers['Content-Type'] = 'application/json'\n",
    "\n",
    "# construct req body\n",
    "data = ''\n",
    "\n",
    "print(f'Request URL: {request_url}')\n",
    "\n",
    "resp = requests.get(request_url, headers=headers, data=data)\n",
    "content = resp.content.decode('utf-8')\n",
    "c_dict = json.loads(content)\n",
    "\n",
    "\n",
    "# iterate and combine remaining pages\n",
    "df_dattormm = pd.DataFrame(c_dict['devices'])\n",
    "while c_dict['pageDetails']['nextPageUrl']:\n",
    "    next_page = c_dict['pageDetails']['nextPageUrl']\n",
    "    resp = requests.get(next_page, headers=headers, data=data)\n",
    "    content = resp.content.decode('utf-8')\n",
    "    c_dict = json.loads(content)\n",
    "\n",
    "    df_current_page = pd.DataFrame(c_dict['devices'])\n",
    "    df_dattormm = pd.concat([df_dattormm, df_current_page], ignore_index=False)"
   ]
  },
  {
   "cell_type": "markdown",
   "metadata": {
    "collapsed": false,
    "pycharm": {
     "name": "#%% md\n"
    }
   },
   "source": [
    "# Create HaloPSA DataFrame"
   ]
  },
  {
   "cell_type": "markdown",
   "metadata": {
    "collapsed": false,
    "pycharm": {
     "name": "#%% md\n"
    }
   },
   "source": [
    "\n",
    "## Create Auth Token"
   ]
  },
  {
   "cell_type": "code",
   "execution_count": null,
   "metadata": {
    "pycharm": {
     "name": "#%%\n"
    }
   },
   "outputs": [],
   "source": [
    "# call token api url\n",
    "token_uri = f\"{halopsa_config['base_uri']}/auth/token?tenant=example\"\n",
    "\n",
    "# construct header\n",
    "headers = CaseInsensitiveDict()\n",
    "headers['Content-Type'] = 'application/x-www-form-urlencoded'\n",
    "\n",
    "\n",
    "# construct req body\n",
    "data = CaseInsensitiveDict()\n",
    "data['grant_type'] = 'client_credentials'\n",
    "data['client_id'] = halopsa_config['client_id']\n",
    "data['client_secret'] = halopsa_config['client_secret']\n",
    "data['scope'] = 'all'\n",
    "\n",
    "# request content response\n",
    "resp = requests.post(token_uri, headers=headers, data=data)\n",
    "content = resp.content.decode('utf-8')\n",
    "c_dict = json.loads(content)\n",
    "\n",
    "access_token = c_dict['access_token']"
   ]
  },
  {
   "cell_type": "markdown",
   "metadata": {
    "collapsed": false,
    "pycharm": {
     "name": "#%% md\n"
    }
   },
   "source": [
    "## Create Asset DataFrame"
   ]
  },
  {
   "cell_type": "code",
   "execution_count": null,
   "metadata": {
    "pycharm": {
     "name": "#%%\n"
    }
   },
   "outputs": [],
   "source": [
    "# request content response\n",
    "request_url = f\"{halopsa_config['base_uri']}/api/Asset\"\n",
    "\n",
    "# construct header\n",
    "headers = CaseInsensitiveDict()\n",
    "headers['Authorization'] = f'Bearer {access_token}'\n",
    "headers['Content-Type'] = 'application/json'\n",
    "\n",
    "# construct req body\n",
    "data = ''\n",
    "\n",
    "print(f'Request URL: {request_url}')\n",
    "\n",
    "resp = requests.get(request_url, headers=headers, data=data)\n",
    "content = resp.content.decode('utf-8')\n",
    "c_dict = json.loads(content)\n",
    "\n",
    "\n",
    "# iterate and combine remaining pages\n",
    "df_halopsa = pd.DataFrame(c_dict['assets'])\n",
    "try:\n",
    "    while c_dict['pageDetails']['nextPageUrl']:\n",
    "        next_page = c_dict['pageDetails']['nextPageUrl']\n",
    "        resp = requests.get(next_page, headers=headers, data=data)\n",
    "        content = resp.content.decode('utf-8')\n",
    "        c_dict = json.loads(content)\n",
    "\n",
    "        df_current_page = pd.DataFrame(c_dict['assets'])\n",
    "        df_halopsa = pd.concat([df_halopsa, df_current_page], ignore_index=False)\n",
    "except:\n",
    "    print(f'All assets on first page.  Total Assets: {c_dict[\"record_count\"]}')"
   ]
  },
  {
   "cell_type": "markdown",
   "metadata": {
    "collapsed": false,
    "pycharm": {
     "name": "#%% md\n"
    }
   },
   "source": []
  },
  {
   "cell_type": "markdown",
   "metadata": {
    "collapsed": false,
    "pycharm": {
     "name": "#%% md\n"
    }
   },
   "source": [
    "# Create Auvik DataFrame"
   ]
  },
  {
   "cell_type": "markdown",
   "metadata": {
    "collapsed": false,
    "pycharm": {
     "name": "#%% md\n"
    }
   },
   "source": [
    "## Verify permissions in Auvik\n"
   ]
  },
  {
   "cell_type": "code",
   "execution_count": null,
   "metadata": {
    "pycharm": {
     "name": "#%%\n"
    }
   },
   "outputs": [],
   "source": [
    "# verify permissions URL\n",
    "\n",
    "request_uri = f\"{auvik_config['base_uri']}/authentication/verify\"\n",
    "\n",
    "# construct header\n",
    "headers = CaseInsensitiveDict()\n",
    "headers['Authorization'] = f\"Basic {auvik_config['api_key']}\"\n",
    "#headers['auth'] = f'{username,basic_auth}'\n",
    "\n",
    "# construct req body\n",
    "data = \"\"\n",
    "\n",
    "# request content response (200) is GOOD\n",
    "resp = requests.get(request_uri, auth=(auvik_config['username'],auvik_config['api_key']), headers=headers)\n",
    "print(resp.status_code)\n",
    "print(resp)"
   ]
  },
  {
   "cell_type": "markdown",
   "metadata": {
    "collapsed": false,
    "pycharm": {
     "name": "#%% md\n"
    }
   },
   "source": [
    "## Create DataFrame\n",
    "### Iterate through devices"
   ]
  },
  {
   "cell_type": "code",
   "execution_count": null,
   "metadata": {
    "pycharm": {
     "name": "#%%\n"
    }
   },
   "outputs": [],
   "source": [
    "# request uri\n",
    "request_uri = f\"{auvik_config['base_uri']}/inventory/device/info\"\n",
    "\n",
    "# construct header\n",
    "headers = CaseInsensitiveDict()\n",
    "headers['Authorization'] = f\"Basic {auvik_config['api_key']}\"\n",
    "\n",
    "# construct req body\n",
    "data = CaseInsensitiveDict()\n",
    "\n",
    "# request content response\n",
    "resp = requests.get(request_uri,  auth=(auvik_config['username'],auvik_config['api_key']), headers=headers)\n",
    "content = resp.content.decode('utf-8')\n",
    "c_dict = json.loads(content)\n",
    "\n",
    "# count pages\n",
    "total_pages = 0\n",
    "\n",
    "df_auvik = pd.DataFrame(c_dict['data'])\n",
    "total_pages += 1\n",
    "\n",
    "while c_dict['links']['next']:\n",
    "    next_page = c_dict['links']['next']\n",
    "    resp = requests.get(next_page,  auth=(auvik_config['username'],auvik_config['api_key']), headers=headers)\n",
    "    content = resp.content.decode('utf-8')\n",
    "    c_dict = json.loads(content)\n",
    "    df_current_page = pd.DataFrame(c_dict['data'])\n",
    "    df_auvik = pd.concat([df_auvik,df_current_page],ignore_index=False)\n",
    "    try:\n",
    "        print(c_dict['links']['next'])\n",
    "        total_pages += 1\n",
    "    except:\n",
    "        print('*'* 200)\n",
    "        print('End of API Pages')\n",
    "        print(f'Total Pages: {total_pages}')\n",
    "        break\n"
   ]
  },
  {
   "cell_type": "markdown",
   "metadata": {
    "collapsed": false,
    "pycharm": {
     "name": "#%% md\n"
    }
   },
   "source": [
    "## Create Columns from Dictionaries"
   ]
  },
  {
   "cell_type": "markdown",
   "metadata": {
    "collapsed": false,
    "pycharm": {
     "name": "#%% md\n"
    }
   },
   "source": [
    "### Attributes Column Breakout\n",
    "['ipAddresses'],['deviceName'],['deviceType'],['makeModel'],['vendorName'],['softwareVersion'],['ipAddresses'],['serialNumber'],['description'],['firmwareVersion'],['lastModified'],['lastSeenTime'],['onlineStatus'])"
   ]
  },
  {
   "cell_type": "code",
   "execution_count": null,
   "metadata": {
    "pycharm": {
     "name": "#%%\n"
    }
   },
   "outputs": [],
   "source": [
    "# ipAddresses\n",
    "def ipAddresses(attributes):\n",
    "    return attributes['ipAddresses']\n",
    "\n",
    "\n",
    "df_auvik['ipAddresses'] = df_auvik['attributes'].apply(ipAddresses)\n",
    "\n",
    "# deviceName\n",
    "def deviceName(attributes):\n",
    "    return attributes['deviceName']\n",
    "\n",
    "\n",
    "df_auvik['deviceName'] = df_auvik['attributes'].apply(deviceName)\n",
    "\n",
    "# makeModel\n",
    "def makeModel(attributes):\n",
    "    return attributes['makeModel']\n",
    "\n",
    "\n",
    "df_auvik['makeModel'] = df_auvik['attributes'].apply(makeModel)\n",
    "\n",
    "# vendorName\n",
    "def vendorName(attributes):\n",
    "    return attributes['vendorName']\n",
    "\n",
    "\n",
    "df_auvik['vendorName'] = df_auvik['attributes'].apply(vendorName)\n",
    "\n",
    "# softwareVersion\n",
    "def softwareVersion(attributes):\n",
    "    return attributes['softwareVersion']\n",
    "\n",
    "\n",
    "df_auvik['softwareVersion'] = df_auvik['attributes'].apply(softwareVersion)\n",
    "\n",
    "# serialNumber\n",
    "def serialNumber(attributes):\n",
    "    return attributes['serialNumber']\n",
    "\n",
    "\n",
    "df_auvik['serialNumber'] = df_auvik['attributes'].apply(serialNumber)\n",
    "\n",
    "# description\n",
    "def description(attributes):\n",
    "    return attributes['description']\n",
    "\n",
    "\n",
    "df_auvik['description'] = df_auvik['attributes'].apply(description)\n",
    "\n",
    "\n",
    "# firmwareVersion\n",
    "def firmwareVersion(attributes):\n",
    "    return attributes['firmwareVersion']\n",
    "\n",
    "\n",
    "df_auvik['firmwareVersion'] = df_auvik['attributes'].apply(firmwareVersion)\n",
    "\n",
    "\n",
    "# lastModified\n",
    "def lastModified(attributes):\n",
    "    return attributes['lastModified']\n",
    "\n",
    "\n",
    "df_auvik['lastModified'] = df_auvik['attributes'].apply(lastModified)\n",
    "\n",
    "\n",
    "# lastSeenTime\n",
    "def lastSeenTime(attributes):\n",
    "    return attributes['lastSeenTime']\n",
    "\n",
    "\n",
    "df_auvik['lastSeenTime'] = df_auvik['attributes'].apply(lastSeenTime)\n",
    "\n",
    "\n",
    "# onlineStatus\n",
    "def onlineStatus(attributes):\n",
    "    return attributes['onlineStatus']\n",
    "\n",
    "\n",
    "df_auvik['onlineStatus'] = df_auvik['attributes'].apply(onlineStatus)\n",
    "\n",
    "\n",
    "\n",
    "\n",
    "# drop attributes column after breakout\n",
    "df_auvik.drop('attributes', axis=1, inplace=True)"
   ]
  },
  {
   "cell_type": "markdown",
   "metadata": {
    "collapsed": false,
    "pycharm": {
     "name": "#%% md\n"
    }
   },
   "source": [
    "### Relationship Column Breakout"
   ]
  },
  {
   "cell_type": "code",
   "execution_count": null,
   "metadata": {
    "pycharm": {
     "name": "#%%\n"
    }
   },
   "outputs": [],
   "source": [
    "# tenant ID\n",
    "def tenantID(relationships):\n",
    "    return relationships['tenant']['data']['id']\n",
    "\n",
    "\n",
    "df_auvik['tenantID'] = df_auvik['relationships'].apply(tenantID)\n",
    "\n",
    "\n",
    "# domainPrefix\n",
    "def domainPrefix(relationships):\n",
    "    return relationships['tenant']['data']['attributes']['domainPrefix']\n",
    "\n",
    "\n",
    "df_auvik['domainPrefix'] = df_auvik['relationships'].apply(domainPrefix)\n",
    "\n",
    "\n",
    "\n",
    "\n",
    "# drop relationships column after breakout\n",
    "df_auvik.drop('relationships', axis=1, inplace=True)"
   ]
  },
  {
   "cell_type": "markdown",
   "metadata": {
    "collapsed": false,
    "pycharm": {
     "name": "#%% md\n"
    }
   },
   "source": [
    "## Convert Timezone to DateTime UTC"
   ]
  },
  {
   "cell_type": "code",
   "execution_count": null,
   "metadata": {
    "pycharm": {
     "name": "#%%\n"
    }
   },
   "outputs": [],
   "source": [
    "df_data_timefix = pd.to_datetime(df_auvik['lastSeenTime'],unit='ns',errors='coerce')\n",
    "df_auvik['lastSeenTime'] = df_data_timefix.values.astype('datetime64[s]')\n",
    "df_data_timefix = pd.to_datetime(df_auvik['lastModified'],unit='ns',errors='coerce')\n",
    "df_auvik['lastModified'] = df_data_timefix.values.astype('datetime64[s]')"
   ]
  },
  {
   "cell_type": "markdown",
   "metadata": {
    "collapsed": false,
    "pycharm": {
     "name": "#%% md\n"
    }
   },
   "source": [
    "# Data Shaping"
   ]
  },
  {
   "cell_type": "markdown",
   "metadata": {
    "collapsed": false,
    "pycharm": {
     "name": "#%% md\n"
    }
   },
   "source": [
    "## Standardize Client Names"
   ]
  },
  {
   "cell_type": "code",
   "execution_count": null,
   "metadata": {
    "pycharm": {
     "name": "#%%\n"
    }
   },
   "outputs": [],
   "source": [
    "df = pd.read_csv(f'{dictionary_dir}/client_name_standardization.dict',delimiter='\\t')\n",
    "client_rename_dict = {}\n",
    "for index, row in df.iterrows():\n",
    "    [REDACTED] = row['[REDACTED]']\n",
    "    currentName = row['currentName']\n",
    "    client_rename_dict[[REDACTED]] = currentName"
   ]
  },
  {
   "cell_type": "code",
   "execution_count": null,
   "metadata": {
    "pycharm": {
     "name": "#%%\n"
    }
   },
   "outputs": [],
   "source": [
    "def client_names(c_name):\n",
    "    dict_length = len(client_rename_dict)\n",
    "    for k, v in client_rename_dict.items():\n",
    "        try:\n",
    "            result = re.sub(k, v, c_name)\n",
    "            if result != c_name:\n",
    "                print(f'Keyword found: {k}')\n",
    "                print(f'Replacment value: {v}')\n",
    "                print('\\n')\n",
    "                return v\n",
    "                break\n",
    "        except Exception as e:\n",
    "            print(e)\n",
    "            break\n",
    "    return c_name"
   ]
  },
  {
   "cell_type": "code",
   "execution_count": null,
   "metadata": {
    "pycharm": {
     "name": "#%%\n"
    }
   },
   "outputs": [],
   "source": [
    "df_auvik['clientName'] = df_auvik['domainPrefix'].apply(client_names)\n",
    "df_halopsa['clientName'] = df_halopsa['client_name'].apply(client_names)\n",
    "df_dattormm['clientName'] = df_dattormm['siteName'].apply(client_names)"
   ]
  },
  {
   "cell_type": "markdown",
   "metadata": {
    "collapsed": false,
    "pycharm": {
     "name": "#%% md\n"
    }
   },
   "source": [
    "## Breakout HaloPSA DataFrame into [['isAuvik','isDattoRMM']]"
   ]
  },
  {
   "cell_type": "code",
   "execution_count": null,
   "metadata": {
    "pycharm": {
     "name": "#%%\n"
    }
   },
   "outputs": [],
   "source": [
    "def is_auvik(auvik_device_id):\n",
    "    if auvik_device_id:\n",
    "        return 1\n",
    "    else:\n",
    "        return 0"
   ]
  },
  {
   "cell_type": "code",
   "execution_count": null,
   "metadata": {
    "pycharm": {
     "name": "#%%\n"
    }
   },
   "outputs": [],
   "source": [
    "def is_datto(datto_id):\n",
    "    if datto_id:\n",
    "        return 1\n",
    "    else:\n",
    "        return 0"
   ]
  },
  {
   "cell_type": "code",
   "execution_count": null,
   "metadata": {
    "pycharm": {
     "name": "#%%\n"
    }
   },
   "outputs": [],
   "source": [
    "df_halopsa['isAuvik'] = df_halopsa['auvik_device_id'].apply(is_auvik)\n",
    "df_halopsa['isDattoRMM'] = df_halopsa['datto_id'].apply(is_auvik)"
   ]
  },
  {
   "cell_type": "markdown",
   "metadata": {
    "collapsed": false,
    "pycharm": {
     "name": "#%% md\n"
    }
   },
   "source": [
    "# Compare df_halopsa integration captured id's with id captured from product portal api pull"
   ]
  },
  {
   "cell_type": "markdown",
   "metadata": {
    "collapsed": false,
    "pycharm": {
     "name": "#%% md\n"
    }
   },
   "source": [
    "## DattoRMM Compare"
   ]
  },
  {
   "cell_type": "code",
   "execution_count": null,
   "metadata": {
    "pycharm": {
     "name": "#%%\n"
    }
   },
   "outputs": [],
   "source": [
    "not_found = ~df_dattormm['uid'].isin(df_halopsa[df_halopsa['isDattoRMM'] == 1]['datto_id'].tolist())\n",
    "found = df_dattormm['uid'].isin(df_halopsa[df_halopsa['isDattoRMM'] == 1]['datto_id'].tolist())\n",
    "\n",
    "df_dattormm.loc[not_found, 'inHaloPSA'] = 0\n",
    "df_dattormm.loc[found, 'inHaloPSA'] = 1\n",
    "df_dattormm['inHaloPSA'] = df_dattormm['inHaloPSA'].astype('int64')"
   ]
  },
  {
   "cell_type": "code",
   "execution_count": null,
   "metadata": {
    "pycharm": {
     "name": "#%%\n"
    }
   },
   "outputs": [],
   "source": [
    "df_dattormm['inHaloPSA'].value_counts()"
   ]
  },
  {
   "cell_type": "code",
   "execution_count": null,
   "metadata": {
    "pycharm": {
     "name": "#%%\n"
    }
   },
   "outputs": [],
   "source": [
    "df_dattormm.to_csv(export_folder + 'dattormm_halopsa_assets_comparison_' + str(current_time) + '[REDACTED]/.csv',index=False)"
   ]
  },
  {
   "cell_type": "markdown",
   "metadata": {
    "collapsed": false,
    "pycharm": {
     "name": "#%% md\n"
    }
   },
   "source": [
    "## Auvik Compare"
   ]
  },
  {
   "cell_type": "code",
   "execution_count": null,
   "metadata": {
    "pycharm": {
     "name": "#%%\n"
    }
   },
   "outputs": [],
   "source": [
    "not_found = ~df_auvik['id'].isin(df_halopsa[df_halopsa['isAuvik'] == 1]['auvik_device_id'].tolist())\n",
    "found = df_auvik['id'].isin(df_halopsa[df_halopsa['isAuvik'] == 1]['auvik_device_id'].tolist())\n",
    "\n",
    "df_auvik.loc[not_found, 'inHaloPSA'] = 0\n",
    "df_auvik.loc[found, 'inHaloPSA'] = 1\n",
    "df_auvik['inHaloPSA'] = df_auvik['inHaloPSA'].astype('int64')"
   ]
  },
  {
   "cell_type": "code",
   "execution_count": null,
   "metadata": {
    "pycharm": {
     "name": "#%%\n"
    }
   },
   "outputs": [],
   "source": [
    "df_auvik['inHaloPSA'].value_counts()"
   ]
  },
  {
   "cell_type": "code",
   "execution_count": null,
   "metadata": {
    "pycharm": {
     "name": "#%%\n"
    }
   },
   "outputs": [],
   "source": [
    "df_auvik.to_csv(export_folder + 'auvik_halopsa_assets_comparison_' + str(current_time) + '[REDACTED]/.csv',index=False)"
   ]
  },
  {
   "cell_type": "markdown",
   "metadata": {
    "collapsed": false,
    "pycharm": {
     "name": "#%% md\n"
    }
   },
   "source": [
    "## Extra Testing Code"
   ]
  },
  {
   "cell_type": "code",
   "execution_count": null,
   "metadata": {
    "pycharm": {
     "name": "#%%\n"
    }
   },
   "outputs": [],
   "source": [
    "df_auvik[df_auvik['inHaloPSA'] == 0]"
   ]
  },
  {
   "cell_type": "code",
   "execution_count": null,
   "metadata": {
    "pycharm": {
     "name": "#%%\n"
    }
   },
   "outputs": [],
   "source": [
    "df_halopsa[df_halopsa['auvik_device_id'] == \"MzY1NzQzMjgxMTg1MDk1ODE0LDQyMTU3NDI3NzU2NDA0MDIxNA\"]"
   ]
  },
  {
   "cell_type": "code",
   "execution_count": null,
   "metadata": {
    "pycharm": {
     "name": "#%%\n"
    }
   },
   "outputs": [],
   "source": [
    "df_halopsa[df_halopsa['datto_id'] == \"87b374c7-77c1-a843-8014-ccf1dfd37d99\"]"
   ]
  }
 ],
 "metadata": {
  "kernelspec": {
   "display_name": "Python 3",
   "language": "python",
   "name": "python3"
  },
  "language_info": {
   "codemirror_mode": {
    "name": "ipython",
    "version": 2
   },
   "file_extension": "[REDACTED][REDACTED]/.py",
   "mimetype": "text/x-python",
   "name": "python",
   "nbconvert_exporter": "python",
   "pygments_lexer": "ipython2",
   "version": "2.7.6"
  }
 },
 "nbformat": 4,
 "nbformat_minor": 0
}
