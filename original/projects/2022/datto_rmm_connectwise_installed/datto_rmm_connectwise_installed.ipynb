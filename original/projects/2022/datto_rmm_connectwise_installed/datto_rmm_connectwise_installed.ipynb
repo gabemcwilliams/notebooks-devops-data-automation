{
 "cells": [
  {
   "cell_type": "markdown",
   "metadata": {
    "collapsed": false,
    "pycharm": {
     "name": "#%% md\n"
    }
   },
   "source": [
    "<h1> DattoRMM - ConnectWise Products Installed </h1>"
   ]
  },
  {
   "cell_type": "markdown",
   "metadata": {
    "collapsed": false,
    "pycharm": {
     "name": "#%% md\n"
    }
   },
   "source": [
    "# Import Modules, Call API, Create DataFrame\n",
    "## Initialize Variables for API\n",
    "### Import Modules"
   ]
  },
  {
   "cell_type": "code",
   "execution_count": null,
   "metadata": {
    "pycharm": {
     "name": "#%%\n"
    }
   },
   "outputs": [],
   "source": [
    "import re\n",
    "\n",
    "import pandas as pd\n",
    "import numpy as np\n",
    "import datetime as dt\n",
    "[REDACTED]/.pyplot as plt\n",
    "import seaborn as sns\n",
    "import json"
   ]
  },
  {
   "cell_type": "markdown",
   "metadata": {
    "collapsed": false,
    "pycharm": {
     "name": "#%% md\n"
    }
   },
   "source": [
    "### Get Current Time and Set Export Folder"
   ]
  },
  {
   "cell_type": "code",
   "execution_count": null,
   "metadata": {
    "pycharm": {
     "name": "#%%\n"
    }
   },
   "outputs": [],
   "source": [
    "# add current timestamp to filename for reference\n",
    "current_time = (dt.datetime.utcnow().strftime('%Y_%m_%d_%H%M%S'))\n",
    "\n",
    "# export folder will contain all csv exported DataFrames for Ticket Creation\n",
    "export_folder = 'd:/exports/'"
   ]
  },
  {
   "cell_type": "markdown",
   "metadata": {
    "collapsed": false,
    "pycharm": {
     "name": "#%% md\n"
    }
   },
   "source": [
    "### Pull Environment Variables"
   ]
  },
  {
   "cell_type": "code",
   "execution_count": null,
   "metadata": {
    "pycharm": {
     "name": "#%%\n"
    }
   },
   "outputs": [],
   "source": [
    "# import configparser for env secrets\n",
    "from configparser import ConfigParser\n",
    "\n",
    "config = ConfigParser()\n",
    "config.read('d:/git/example_infrastructure_data_dev/config/env.ini')\n",
    "import requests\n",
    "from requests.structures import CaseInsensitiveDict\n",
    "\n",
    "# import and assign secrets from env.ini\n",
    "base_uri = config['dattormm']['base_uri']\n",
    "api_key = config['dattormm']['api_key']\n",
    "api_secret = config['dattormm']['api_secret']"
   ]
  },
  {
   "cell_type": "markdown",
   "metadata": {
    "collapsed": false,
    "pycharm": {
     "name": "#%% md\n"
    }
   },
   "source": [
    "## Create Monitors DataFrame\n",
    "### Get Oauth Token"
   ]
  },
  {
   "cell_type": "code",
   "execution_count": null,
   "metadata": {
    "pycharm": {
     "name": "#%%\n"
    }
   },
   "outputs": [],
   "source": [
    "# call token api url\n",
    "token_uri = f'{base_uri}/auth/oauth/token'\n",
    "\n",
    "# construct header\n",
    "headers = CaseInsensitiveDict()\n",
    "headers['Content-Type'] = 'application/x-www-form-urlencoded'\n",
    "\n",
    "# construct req body\n",
    "data = CaseInsensitiveDict()\n",
    "data['grant_type'] = 'password'\n",
    "data['username'] = api_key\n",
    "data['password'] = api_secret\n",
    "\n",
    "# request content response\n",
    "resp = requests.post(token_uri, headers=headers, data=data, auth=('public-client', 'public'))\n",
    "content = resp.content.decode('utf-8')\n",
    "c_dict = json.loads(content)\n",
    "\n",
    "access_token = c_dict['access_token']"
   ]
  },
  {
   "cell_type": "markdown",
   "metadata": {
    "collapsed": false,
    "pycharm": {
     "name": "#%% md\n"
    }
   },
   "source": [
    "### API GET Open Monitors DataFrame"
   ]
  },
  {
   "cell_type": "code",
   "execution_count": null,
   "metadata": {
    "pycharm": {
     "name": "#%%\n"
    }
   },
   "outputs": [],
   "source": [
    "# request content response\n",
    "request_url = f'{base_uri}/api/v2/account/alerts/open'\n",
    "\n",
    "# construct header\n",
    "headers = CaseInsensitiveDict()\n",
    "headers['Authorization'] = f'Bearer {access_token}'\n",
    "headers['Content-Type'] = 'application/json'\n",
    "\n",
    "# construct req body\n",
    "data = ''\n",
    "\n",
    "print(f'Request URL: {request_url}')\n",
    "\n",
    "resp = requests.get(request_url, headers=headers, data=data)\n",
    "content = resp.content.decode('utf-8')\n",
    "c_dict = json.loads(content)\n",
    "print(c_dict['pageDetails']['nextPageUrl'])\n",
    "\n",
    "# iterate and combine remaining pages\n",
    "df_alerts = pd.DataFrame(c_dict['alerts'])\n",
    "while c_dict['pageDetails']['nextPageUrl']:\n",
    "    next_page = c_dict['pageDetails']['nextPageUrl']\n",
    "    resp = requests.get(next_page, headers=headers, data=data)\n",
    "    content = resp.content.decode('utf-8')\n",
    "    c_dict = json.loads(content)\n",
    "    print(c_dict['pageDetails']['nextPageUrl'])\n",
    "    df_current_page = pd.DataFrame(c_dict['alerts'])\n",
    "    df_alerts = pd.concat([df_alerts, df_current_page], ignore_index=False)"
   ]
  },
  {
   "cell_type": "markdown",
   "metadata": {
    "collapsed": false,
    "pycharm": {
     "name": "#%% md\n"
    }
   },
   "source": [
    "## Create Columns from Column Dictionaries\n",
    "alertMonitorInfo | alertContext | alertSourceInfo | responseActions"
   ]
  },
  {
   "cell_type": "markdown",
   "metadata": {
    "collapsed": false,
    "pycharm": {
     "name": "#%% md\n"
    }
   },
   "source": [
    "### alertMonitorInfo"
   ]
  },
  {
   "cell_type": "code",
   "execution_count": null,
   "metadata": {
    "pycharm": {
     "name": "#%%\n"
    }
   },
   "outputs": [],
   "source": [
    "# sendsEmails\n",
    "def sendsEmails(alertMonitorInfo):\n",
    "    return alertMonitorInfo['sendsEmails']\n",
    "\n",
    "\n",
    "df_alerts['sendsEmails'] = df_alerts['alertMonitorInfo'].apply(sendsEmails)\n",
    "\n",
    "\n",
    "# sendsEmails\n",
    "def createsTicket(alertMonitorInfo):\n",
    "    return alertMonitorInfo['createsTicket']\n",
    "\n",
    "\n",
    "df_alerts['createsTicket'] = df_alerts['alertMonitorInfo'].apply(createsTicket)\n",
    "\n",
    "df_alerts.drop('alertMonitorInfo', axis=1, inplace=True)"
   ]
  },
  {
   "cell_type": "markdown",
   "metadata": {
    "collapsed": false,
    "pycharm": {
     "name": "#%% md\n"
    }
   },
   "source": [
    "\n",
    "### alertContext"
   ]
  },
  {
   "cell_type": "code",
   "execution_count": null,
   "metadata": {
    "pycharm": {
     "name": "#%%\n"
    }
   },
   "outputs": [],
   "source": [
    "# @class\n",
    "def alert_class(alertContext):\n",
    "    #print(alertContext.keys())\n",
    "    if alertContext['@class'] == 'comp_script_ctx':\n",
    "        return (alertContext['@class'])\n",
    "\n",
    "\n",
    "df_alerts['alertClass'] = df_alerts['alertContext'].apply(alert_class)\n",
    "\n",
    "# status\n",
    "def status(alertContext):\n",
    "    if alertContext['@class'] == 'comp_script_ctx':\n",
    "        return (alertContext['samples'])\n",
    "    #print(alertContext)\n",
    "\n",
    "df_alerts['alertClass'] = df_alerts['alertContext'].apply(alert_class)\n",
    "df_alerts['status'] = df_alerts['alertContext'].apply(status)\n",
    "\n",
    "\n",
    "df_alerts.drop('alertContext', axis=1, inplace=True)"
   ]
  },
  {
   "cell_type": "code",
   "execution_count": null,
   "metadata": {
    "pycharm": {
     "name": "#%%\n"
    }
   },
   "outputs": [],
   "source": [
    "status_prog = re.compile(r'\\{\\'([^\\'\\\"]*)[\\s\\\"\\':]+([\\s\\w\\d\\.\\-]*)')\n",
    "def status_type(status):\n",
    "    if status == None:\n",
    "        return None\n",
    "    else:\n",
    "        status_type = status_prog.findall(str(status))\n",
    "        return (status_type[0][0])\n",
    "\n",
    "def status_message(status):\n",
    "    if status == None:\n",
    "        return None\n",
    "    else:\n",
    "        status_type = status_prog.findall(str(status))\n",
    "        return (status_type[0][1])\n",
    "df_alerts['statusType'] = df_alerts['status'].apply(status_type)\n",
    "df_alerts['statusMessage'] = df_alerts['status'].apply(status_message)\n",
    "df_alerts.drop('status', axis=1, inplace=True)"
   ]
  },
  {
   "cell_type": "markdown",
   "metadata": {
    "collapsed": false,
    "pycharm": {
     "name": "#%% md\n"
    }
   },
   "source": [
    "### diagnostics"
   ]
  },
  {
   "cell_type": "code",
   "execution_count": null,
   "metadata": {
    "pycharm": {
     "name": "#%%\n"
    }
   },
   "outputs": [],
   "source": [
    "diagnostics_prog = re.compile(r'([\\w\\d\\/\\\\\\:\\#\\=\\.\\-\\s]+)*')\n",
    "def diagnostics_split(diagnostics):\n",
    "    if status == None:\n",
    "        return None\n",
    "    else:\n",
    "        diagnostic_split = diagnostics_prog.findall(str(diagnostics))\n",
    "        return ''.join(diagnostic_split)\n",
    "\n",
    "df_alerts['diagnosticsMessage'] = df_alerts['diagnostics'].apply(diagnostics_split)\n",
    "df_alerts.drop('diagnostics', axis=1 , inplace=True)"
   ]
  },
  {
   "cell_type": "markdown",
   "metadata": {
    "collapsed": false,
    "pycharm": {
     "name": "#%% md\n"
    }
   },
   "source": [
    "### alertSourceInfo"
   ]
  },
  {
   "cell_type": "code",
   "execution_count": null,
   "metadata": {
    "pycharm": {
     "name": "#%%\n"
    }
   },
   "outputs": [],
   "source": [
    "def deviceUid(alertSourceInfo):\n",
    "    if alertSourceInfo == None:\n",
    "        return None\n",
    "    else:\n",
    "        return alertSourceInfo['deviceUid']\n",
    "\n",
    "\n",
    "def deviceName(alertSourceInfo):\n",
    "    if alertSourceInfo == None:\n",
    "        return None\n",
    "    else:\n",
    "        return alertSourceInfo['deviceName']\n",
    "\n",
    "\n",
    "def siteUid(alertSourceInfo):\n",
    "    if alertSourceInfo == None:\n",
    "        return None\n",
    "    else:\n",
    "        return alertSourceInfo['siteUid']\n",
    "\n",
    "\n",
    "def siteName(alertSourceInfo):\n",
    "    if alertSourceInfo == None:\n",
    "        return None\n",
    "    else:\n",
    "        return alertSourceInfo['siteName']"
   ]
  },
  {
   "cell_type": "code",
   "execution_count": null,
   "metadata": {
    "pycharm": {
     "name": "#%%\n"
    }
   },
   "outputs": [],
   "source": [
    "df_alerts['deviceUid'] = df_alerts['alertSourceInfo'].apply(deviceUid)\n",
    "df_alerts['deviceName'] = df_alerts['alertSourceInfo'].apply(deviceName)\n",
    "df_alerts['siteUid'] = df_alerts['alertSourceInfo'].apply(siteUid)\n",
    "df_alerts['siteName'] = df_alerts['alertSourceInfo'].apply(siteName)\n",
    "df_alerts.drop('alertSourceInfo',axis=1, inplace=True)"
   ]
  },
  {
   "cell_type": "markdown",
   "metadata": {
    "collapsed": false,
    "pycharm": {
     "name": "#%% md\n"
    }
   },
   "source": [
    "### responseActions"
   ]
  },
  {
   "cell_type": "code",
   "execution_count": null,
   "metadata": {
    "pycharm": {
     "name": "#%%\n"
    }
   },
   "outputs": [],
   "source": [
    "def action_time(responseActions):\n",
    "    if responseActions == None:\n",
    "        return None\n",
    "    else:\n",
    "        return responseActions['actionTime']\n",
    "\n",
    "\n",
    "def actionType(responseActions):\n",
    "    if responseActions == None:\n",
    "        return None\n",
    "    else:\n",
    "        return responseActions['actionType']\n",
    "\n",
    "\n",
    "def description(responseActions):\n",
    "    if responseActions == None:\n",
    "        return None\n",
    "    else:\n",
    "        return responseActions['description']\n",
    "\n",
    "\n",
    "def actionReference(responseActions):\n",
    "    if responseActions == None:\n",
    "        return None\n",
    "    else:\n",
    "        return responseActions['actionReference']\n",
    "\n",
    "\n",
    "def action_time(responseActions):\n",
    "    if responseActions == None:\n",
    "        return None\n",
    "    else:\n",
    "        return responseActions['actionReferenceInt']"
   ]
  },
  {
   "cell_type": "code",
   "execution_count": null,
   "metadata": {
    "pycharm": {
     "name": "#%%\n"
    }
   },
   "outputs": [],
   "source": [
    "for row in df_alerts['responseActions']:\n",
    "    if row == None:\n",
    "        continue\n",
    "    else:\n",
    "        print(len(row))"
   ]
  },
  {
   "cell_type": "code",
   "execution_count": null,
   "metadata": {
    "pycharm": {
     "name": "#%%\n"
    }
   },
   "outputs": [],
   "source": []
  },
  {
   "cell_type": "code",
   "execution_count": null,
   "metadata": {
    "pycharm": {
     "name": "#%%\n"
    }
   },
   "outputs": [],
   "source": []
  }
 ],
 "metadata": {
  "kernelspec": {
   "display_name": "Python 3",
   "language": "python",
   "name": "python3"
  },
  "language_info": {
   "codemirror_mode": {
    "name": "ipython",
    "version": 2
   },
   "file_extension": "[REDACTED][REDACTED]/.py",
   "mimetype": "text/x-python",
   "name": "python",
   "nbconvert_exporter": "python",
   "pygments_lexer": "ipython2",
   "version": "2.7.6"
  }
 },
 "nbformat": 4,
 "nbformat_minor": 0
}
