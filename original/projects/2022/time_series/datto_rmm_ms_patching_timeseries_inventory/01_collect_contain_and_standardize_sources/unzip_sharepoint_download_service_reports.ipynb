{
 "cells": [
  {
   "cell_type": "markdown",
   "metadata": {
    "collapsed": false,
    "pycharm": {
     "name": "#%% md\n"
    }
   },
   "source": [
    "<h1> Unzip and Rename Folders from Sharepoint </h1>\n",
    "\n",
    "Standardize file naming to prepare for SQL ingestion"
   ]
  },
  {
   "cell_type": "markdown",
   "metadata": {
    "collapsed": false,
    "pycharm": {
     "name": "#%% md\n"
    }
   },
   "source": [
    "# Import Modules and Define Globals"
   ]
  },
  {
   "cell_type": "code",
   "execution_count": null,
   "metadata": {
    "pycharm": {
     "name": "#%%\n"
    }
   },
   "outputs": [],
   "source": [
    "# data import and file manipulation\n",
    "import os\n",
    "import zipfile\n",
    "\n",
    "#data conditioning\n",
    "import pandas as pd\n",
    "import re\n",
    "import datetime as dt"
   ]
  },
  {
   "cell_type": "code",
   "execution_count": null,
   "metadata": {
    "pycharm": {
     "name": "#%%\n"
    }
   },
   "outputs": [],
   "source": [
    "# add current timestamp to filename for reference\n",
    "current_time = (dt.datetime.utcnow().strftime('%Y_%m_%d_%H%M%S'))\n",
    "\n",
    "# git repo folder\n",
    "git_folder = 'd:/git/example_infrastructure_data_dev'\n",
    "\n",
    "# dictionary Directory\n",
    "dictionary_dir = 'd:/git/example_infrastructure_data_dev/dictionaries'\n",
    "\n",
    "# source folder of zip files\n",
    "source_folder = \"d:/timeseries_data_sources/shared_client\"\n",
    "\n",
    "# export folder will contain all csv exported DataFrames for Ticket Creation\n",
    "export_folder = 'd:/exports'"
   ]
  },
  {
   "cell_type": "markdown",
   "metadata": {
    "collapsed": false,
    "pycharm": {
     "name": "#%% md\n"
    }
   },
   "source": [
    "# Pull all Historical Data"
   ]
  },
  {
   "cell_type": "markdown",
   "metadata": {
    "collapsed": false,
    "pycharm": {
     "name": "#%% md\n"
    }
   },
   "source": [
    "## Pull list of all zip files and capture folder prefix name"
   ]
  },
  {
   "cell_type": "code",
   "execution_count": null,
   "metadata": {
    "pycharm": {
     "name": "#%%\n"
    }
   },
   "outputs": [],
   "source": [
    "# pull all filenames walking through all folders (recursive going down the tree)\n",
    "\n",
    "source_report = []\n",
    "for root, dirs, files in os.walk(source_folder):\n",
    "    for file in files:\n",
    "        if ('.zip' in file):\n",
    "            info_dict = {}\n",
    "            try:\n",
    "                info_dict['abcreviation'] = (re.findall(r'([a-z]+)\\s\\-\\s',os.path.join((file))))[0]\n",
    "            except:\n",
    "                print(f'cant find match for {os.path.join(file)}')\n",
    "            info_dict['filename'] = os.path.join(file)\n",
    "            info_dict['fullPath'] = os.path.join(root,file)\n",
    "            source_report.append(info_dict)"
   ]
  },
  {
   "cell_type": "markdown",
   "metadata": {
    "collapsed": false,
    "pycharm": {
     "name": "#%% md\n"
    }
   },
   "source": [
    "## Standardize Client Names"
   ]
  },
  {
   "cell_type": "code",
   "execution_count": null,
   "metadata": {
    "pycharm": {
     "name": "#%%\n"
    }
   },
   "outputs": [],
   "source": [
    "df = pd.read_csv(f'{dictionary_dir}/client_name_standardization.dict',delimiter='\\t')\n",
    "client_rename_dict = {}\n",
    "for index, row in df.iterrows():\n",
    "    [REDACTED] = row['[REDACTED]']\n",
    "    currentName = row['currentName']\n",
    "    client_rename_dict[[REDACTED]] = currentName"
   ]
  },
  {
   "cell_type": "code",
   "execution_count": null,
   "metadata": {
    "pycharm": {
     "name": "#%%\n"
    }
   },
   "outputs": [],
   "source": [
    "def client_names(c_name):\n",
    "    for k, v in client_rename_dict.items():\n",
    "        try:\n",
    "            result = re.sub(k.lower(), v, c_name.lower())\n",
    "            if result != c_name:\n",
    "                return v\n",
    "                break\n",
    "        except Exception as e:\n",
    "            print(e)\n",
    "            break\n",
    "    return c_name"
   ]
  },
  {
   "cell_type": "code",
   "execution_count": null,
   "metadata": {
    "pycharm": {
     "name": "#%%\n"
    }
   },
   "outputs": [],
   "source": [
    "df_zips = pd.DataFrame(source_report)"
   ]
  },
  {
   "cell_type": "code",
   "execution_count": null,
   "metadata": {
    "pycharm": {
     "name": "#%%\n"
    }
   },
   "outputs": [],
   "source": [
    "df_zips['clientName'] = df_zips['abcreviation'].apply(client_names)"
   ]
  },
  {
   "cell_type": "code",
   "execution_count": null,
   "metadata": {
    "pycharm": {
     "name": "#%%\n"
    }
   },
   "outputs": [],
   "source": [
    "for index,row in df_zips.iterrows():\n",
    "    source_path = f\"{source_folder}/{row['filename']}\"\n",
    "    export_path = f\"{export_folder}/{row['clientName']} - Service Reports\"\n",
    "    try:\n",
    "        os.makedirs(export_path)\n",
    "    except:\n",
    "        pass\n",
    "    print(f\"Attempting to Unzip [{source_path}] to [{export_path}]\")\n",
    "    with zipfile.ZipFile(source_path, 'r') as zip:\n",
    "        zip.extractall(export_path)"
   ]
  },
  {
   "cell_type": "code",
   "execution_count": null,
   "metadata": {
    "pycharm": {
     "name": "#%%\n"
    }
   },
   "outputs": [],
   "source": [
    "df_zips"
   ]
  },
  {
   "cell_type": "code",
   "execution_count": null,
   "metadata": {
    "pycharm": {
     "name": "#%%\n"
    }
   },
   "outputs": [],
   "source": []
  },
  {
   "cell_type": "code",
   "execution_count": null,
   "metadata": {
    "pycharm": {
     "name": "#%%\n"
    }
   },
   "outputs": [],
   "source": []
  },
  {
   "cell_type": "code",
   "execution_count": null,
   "metadata": {
    "pycharm": {
     "name": "#%%\n"
    }
   },
   "outputs": [],
   "source": []
  }
 ],
 "metadata": {
  "kernelspec": {
   "display_name": "Python 3",
   "language": "python",
   "name": "python3"
  },
  "language_info": {
   "codemirror_mode": {
    "name": "ipython",
    "version": 2
   },
   "file_extension": "[REDACTED][REDACTED]/.py",
   "mimetype": "text/x-python",
   "name": "python",
   "nbconvert_exporter": "python",
   "pygments_lexer": "ipython2",
   "version": "2.7.6"
  }
 },
 "nbformat": 4,
 "nbformat_minor": 0
}
