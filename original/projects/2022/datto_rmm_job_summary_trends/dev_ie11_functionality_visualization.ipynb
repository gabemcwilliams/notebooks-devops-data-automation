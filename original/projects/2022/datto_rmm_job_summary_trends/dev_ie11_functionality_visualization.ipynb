{
 "cells": [
  {
   "cell_type": "markdown",
   "metadata": {
    "collapsed": false,
    "pycharm": {
     "name": "#%% md\n"
    }
   },
   "source": [
    "<h1> Internet Explorer 11 Functionality Job Report </h>"
   ]
  },
  {
   "cell_type": "code",
   "execution_count": null,
   "metadata": {
    "pycharm": {
     "name": "#%%\n"
    }
   },
   "outputs": [],
   "source": [
    "### Set Export Folder\n",
    "import pandas as pd\n",
    "import numpy as np\n",
    "import datetime as dt\n",
    "[REDACTED]/.pyplot as plt\n",
    "import seaborn as sns\n",
    "import json"
   ]
  },
  {
   "cell_type": "code",
   "execution_count": null,
   "metadata": {
    "pycharm": {
     "name": "#%%\n"
    }
   },
   "outputs": [],
   "source": [
    "# add current timestamp to filename for reference\n",
    "current_time = (dt.datetime.utcnow().strftime('%Y_%m_%d_%H%M%S'))\n",
    "\n",
    "# export folder will contain all csv exported DataFrames for Ticket Creation\n",
    "export_folder = 'd:/exports/'"
   ]
  },
  {
   "cell_type": "markdown",
   "metadata": {
    "collapsed": false,
    "pycharm": {
     "name": "#%% md\n"
    }
   },
   "source": [
    "### Import Modules, Call API, Create DataFrame"
   ]
  },
  {
   "cell_type": "code",
   "execution_count": null,
   "metadata": {
    "pycharm": {
     "name": "#%%\n"
    }
   },
   "outputs": [],
   "source": [
    "# import configparser for env secrets\n",
    "from configparser import ConfigParser\n",
    "\n",
    "config = ConfigParser()\n",
    "config.read('d:/git/example_infrastructure_data_dev/config/env.ini')\n",
    "import requests\n",
    "from requests.structures import CaseInsensitiveDict\n",
    "\n",
    "# import and assign secrets from env.ini\n",
    "base_uri = config['dattormm']['base_uri']\n",
    "api_key = config['dattormm']['api_key']\n",
    "api_secret = config['dattormm']['api_secret']\n",
    "# call token api url\n",
    "token_uri = config['dattormm']['token_uri']\n",
    "# construct header\n",
    "headers = CaseInsensitiveDict()\n",
    "headers['Content-Type'] = 'application/x-www-form-urlencoded'\n",
    "\n",
    "# construct req body\n",
    "data = CaseInsensitiveDict()\n",
    "data['grant_type'] = 'password'\n",
    "data['username'] = api_key\n",
    "data['password'] = api_secret\n",
    "\n",
    "# request content response\n",
    "resp = requests.post(token_uri, headers=headers, data=data, auth=('public-client', 'public'))\n",
    "content = resp.content.decode('utf-8')\n",
    "c_dict = json.loads(content)\n",
    "\n",
    "access_token = c_dict['access_token']\n",
    "## Create Devices DataFrame\n",
    "# request content response\n",
    "request_url = f'{base_uri}/account/devices'\n",
    "\n",
    "# construct header\n",
    "headers = CaseInsensitiveDict()\n",
    "headers['Authorization'] = f'Bearer {access_token}'\n",
    "headers['Content-Type'] = 'application/json'\n",
    "\n",
    "# construct req body\n",
    "data = ''\n",
    "\n",
    "print(f'Request URL: {request_url}')\n",
    "\n",
    "resp = requests.get(request_url, headers=headers, data=data)\n",
    "content = resp.content.decode('utf-8')\n",
    "c_dict = json.loads(content)\n",
    "print(c_dict['pageDetails']['nextPageUrl'])\n",
    "\n",
    "# iterate and combine remaining pages\n",
    "df_devices = pd.DataFrame(c_dict['devices'])\n",
    "while c_dict['pageDetails']['nextPageUrl']:\n",
    "    next_page = c_dict['pageDetails']['nextPageUrl']\n",
    "    resp = requests.get(next_page, headers=headers, data=data)\n",
    "    content = resp.content.decode('utf-8')\n",
    "    c_dict = json.loads(content)\n",
    "    print(c_dict['pageDetails']['nextPageUrl'])\n",
    "    df_nextpage = pd.DataFrame(c_dict['devices'])\n",
    "    df_devices = pd.concat([df_devices, df_nextpage], ignore_index=False)"
   ]
  },
  {
   "cell_type": "markdown",
   "metadata": {
    "collapsed": false,
    "pycharm": {
     "name": "#%% md\n"
    }
   },
   "source": [
    "## Create New Columns from Dictionary Columns"
   ]
  },
  {
   "cell_type": "markdown",
   "metadata": {
    "collapsed": false,
    "pycharm": {
     "name": "#%% md\n"
    }
   },
   "source": [
    "### Set Index to device UID"
   ]
  },
  {
   "cell_type": "code",
   "execution_count": null,
   "metadata": {
    "pycharm": {
     "name": "#%%\n"
    }
   },
   "outputs": [],
   "source": [
    "df_devices.set_index('uid',inplace=True)"
   ]
  },
  {
   "cell_type": "markdown",
   "metadata": {
    "collapsed": false,
    "pycharm": {
     "name": "#%% md\n"
    }
   },
   "source": [
    "### Type | Category"
   ]
  },
  {
   "cell_type": "code",
   "execution_count": null,
   "metadata": {
    "pycharm": {
     "name": "#%%\n"
    }
   },
   "outputs": [],
   "source": [
    "def device_category(device):\n",
    "    try:\n",
    "        return device['category']\n",
    "    except:\n",
    "        return None"
   ]
  },
  {
   "cell_type": "code",
   "execution_count": null,
   "metadata": {
    "pycharm": {
     "name": "#%%\n"
    }
   },
   "outputs": [],
   "source": [
    "def device_type(device):\n",
    "    try:\n",
    "        return device['type']\n",
    "    except:\n",
    "        return None"
   ]
  },
  {
   "cell_type": "code",
   "execution_count": null,
   "metadata": {
    "pycharm": {
     "name": "#%%\n"
    }
   },
   "outputs": [],
   "source": [
    "df_devices['category'] = df_devices['deviceType'].apply(device_category)\n",
    "df_devices['type'] = df_devices['deviceType'].apply(device_type)"
   ]
  },
  {
   "cell_type": "code",
   "execution_count": null,
   "metadata": {
    "pycharm": {
     "name": "#%%\n"
    }
   },
   "outputs": [],
   "source": [
    "\n",
    "#Rename 'type' values to split devices into (2) : 'computer' or 'server'\n",
    "#df_devices['type'].replace({'Desktop':'computer','Laptop':'computer','Server':'server'},inplace=True)"
   ]
  },
  {
   "cell_type": "code",
   "execution_count": null,
   "metadata": {
    "pycharm": {
     "name": "#%%\n"
    }
   },
   "outputs": [],
   "source": [
    "#df_devices.fillna(np.NAN,inplace=True)"
   ]
  },
  {
   "cell_type": "code",
   "execution_count": null,
   "metadata": {
    "pycharm": {
     "name": "#%%\n"
    }
   },
   "outputs": [],
   "source": [
    "def ie11Enabled(df):\n",
    "    return df['udf25']\n",
    "def ie11toEdge(df):\n",
    "    return df['udf26']"
   ]
  },
  {
   "cell_type": "code",
   "execution_count": null,
   "metadata": {
    "pycharm": {
     "name": "#%%\n"
    }
   },
   "outputs": [],
   "source": [
    "df_devices['ie11Enabled'] = df_devices['udf'].apply(ie11Enabled)\n",
    "df_devices['ie11toEdge'] = df_devices['udf'].apply(ie11toEdge)"
   ]
  },
  {
   "cell_type": "code",
   "execution_count": null,
   "metadata": {
    "pycharm": {
     "name": "#%%\n"
    }
   },
   "outputs": [],
   "source": [
    "#df_devices['ie11Enabled'].replace({' ':np.NAN,None:np.NaN},inplace=True)"
   ]
  },
  {
   "cell_type": "code",
   "execution_count": null,
   "metadata": {
    "pycharm": {
     "name": "#%%\n"
    }
   },
   "outputs": [],
   "source": [
    "df_devices['ie11Enabled'] = df_devices['ie11Enabled'].astype('bool')"
   ]
  },
  {
   "cell_type": "code",
   "execution_count": null,
   "metadata": {
    "pycharm": {
     "name": "#%%\n"
    }
   },
   "outputs": [],
   "source": [
    "df_ie11_functionality = df_devices[['siteName','category','ie11Enabled']]\n"
   ]
  },
  {
   "cell_type": "code",
   "execution_count": null,
   "metadata": {
    "pycharm": {
     "name": "#%%\n"
    }
   },
   "outputs": [],
   "source": [
    "df_ie11_functionality.value_counts('ie11Enabled')"
   ]
  },
  {
   "cell_type": "code",
   "execution_count": null,
   "metadata": {
    "pycharm": {
     "name": "#%%\n"
    }
   },
   "outputs": [],
   "source": [
    "df_ie11_functionality"
   ]
  },
  {
   "cell_type": "code",
   "execution_count": null,
   "metadata": {
    "pycharm": {
     "name": "#%%\n"
    }
   },
   "outputs": [],
   "source": [
    "df_ie11_functionality.to_csv('[REDACTED]/.csv')"
   ]
  },
  {
   "cell_type": "code",
   "execution_count": null,
   "metadata": {
    "pycharm": {
     "name": "#%%\n"
    }
   },
   "outputs": [],
   "source": [
    "fig = plt.figure(figsize=(20,40))\n",
    "sns.barplot(data=df_ie11_functionality_desc['count'])"
   ]
  },
  {
   "cell_type": "code",
   "execution_count": null,
   "metadata": {
    "pycharm": {
     "name": "#%%\n"
    }
   },
   "outputs": [],
   "source": [
    "df_ie11_functionality.to_csv('[REDACTED]/.csv')"
   ]
  },
  {
   "cell_type": "code",
   "execution_count": null,
   "metadata": {
    "pycharm": {
     "name": "#%%\n"
    }
   },
   "outputs": [],
   "source": []
  },
  {
   "cell_type": "code",
   "execution_count": null,
   "metadata": {
    "pycharm": {
     "name": "#%%\n"
    }
   },
   "outputs": [],
   "source": []
  },
  {
   "cell_type": "code",
   "execution_count": null,
   "metadata": {
    "pycharm": {
     "name": "#%%\n"
    }
   },
   "outputs": [],
   "source": [
    "df_ie11_functionality.info()"
   ]
  },
  {
   "cell_type": "code",
   "execution_count": null,
   "metadata": {
    "pycharm": {
     "name": "#%%\n"
    }
   },
   "outputs": [],
   "source": []
  }
 ],
 "metadata": {
  "kernelspec": {
   "display_name": "Python 3",
   "language": "python",
   "name": "python3"
  },
  "language_info": {
   "codemirror_mode": {
    "name": "ipython",
    "version": 2
   },
   "file_extension": "[REDACTED][REDACTED]/.py",
   "mimetype": "text/x-python",
   "name": "python",
   "nbconvert_exporter": "python",
   "pygments_lexer": "ipython2",
   "version": "2.7.6"
  }
 },
 "nbformat": 4,
 "nbformat_minor": 0
}
