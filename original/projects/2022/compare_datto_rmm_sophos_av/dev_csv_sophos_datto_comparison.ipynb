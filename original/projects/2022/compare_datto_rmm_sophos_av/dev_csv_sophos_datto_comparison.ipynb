{
 "cells": [
  {
   "cell_type": "markdown",
   "id": "[REDACTED_UUID]",
   "metadata": {
    "pycharm": {
     "name": "#%% md\n"
    }
   },
   "source": [
    "<h1> Comparison - Sophos Central vs DattoRMM - Inventory and Status </h1>\n",
    "<h3> Author: Gabe McWilliams </h3>\n",
    "<h4> Created: 2022/05/08 </h4>"
   ]
  },
  {
   "cell_type": "code",
   "execution_count": null,
   "id": "75ea99d1",
   "metadata": {
    "pycharm": {
     "name": "#%%\n"
    }
   },
   "outputs": [],
   "source": [
    "import pandas as pd\n",
    "import numpy as np\n",
    "import cufflinks as cf\n",
    "import chart_studio.plotly as py\n",
    "import seaborn as sns\n",
    "import plotly.express as px\n",
    "import plotly.offline as offline\n",
    "from plotly.offline import download_plotlyjs, init_notebook_mode, plot, iplot\n",
    "init_notebook_mode(connected=True)\n",
    "cf.go_offline()\n",
    "%matplotlib inline"
   ]
  },
  {
   "cell_type": "code",
   "execution_count": null,
   "id": "1ebfae8e",
   "metadata": {
    "pycharm": {
     "name": "#%%\n"
    }
   },
   "outputs": [],
   "source": [
    "sophos_rename_cols = {\n",
    "    'Health Status':'Sophos Health',\n",
    "    'Name':'Sophos Agent Name',\n",
    "    'IP':'Sophos IP',\n",
    "    'OS':'Sophos OS',\n",
    "    'Protection':'Sophos Protection',\n",
    "    'Encryption':'Sophos Encryption',\n",
    "    'Last user':'Sophos User',\n",
    "    'Last active':'Sophos Last Active',\n",
    "    'Group':'Sophos Group',\n",
    "    'Lockdown status':'Sophos Lockdown Status'\n",
    "}\n",
    "    "
   ]
  },
  {
   "cell_type": "code",
   "execution_count": null,
   "id": "fd5b6bb7",
   "metadata": {
    "pycharm": {
     "name": "#%%\n"
    }
   },
   "outputs": [],
   "source": [
    "# Parse Date Data Options\n",
    "date_parser = lambda c: pd.to_datetime(c, errors='coerce')\n",
    "\n",
    "# Parse Date Columns\n",
    "parse_dates =  ['Last active']\n",
    "\n",
    "# NA Values Check\n",
    "\n",
    "\n",
    "# Set Index Column to DeviceUID\n",
    "index_col = 'Name'\n",
    "\n",
    "# Set Engine to Python\n",
    "engine = 'python'"
   ]
  },
  {
   "cell_type": "code",
   "execution_count": null,
   "id": "654e06f5",
   "metadata": {
    "pycharm": {
     "name": "#%%\n"
    }
   },
   "outputs": [],
   "source": [
    "df_computers = pd.read_csv('[REDACTED]/.csv',  date_parser=date_parser, parse_dates=parse_dates,  index_col=index_col)\n",
    "df_servers = pd.read_csv('[REDACTED]/.csv',  date_parser=date_parser, parse_dates=parse_dates,  index_col=index_col)\n",
    "df_list = [df_computers,df_servers]"
   ]
  },
  {
   "cell_type": "code",
   "execution_count": null,
   "id": "48621f50",
   "metadata": {
    "pycharm": {
     "name": "#%%\n"
    }
   },
   "outputs": [],
   "source": [
    "df_computers.head()"
   ]
  },
  {
   "cell_type": "markdown",
   "id": "cb2daec1",
   "metadata": {
    "pycharm": {
     "name": "#%% md\n"
    }
   },
   "source": [
    "\n",
    "\n",
    "<h1>DattoRMM</h1>\n",
    "<h2>CSV Datetime Data Conditioner</h2>\n",
    "<ul style=\"padding-left: 1.2em, margin-left: 0\">\n",
    "    <label>Must have the following columns in df:</label>\n",
    "    <li>['Last active']</li>\n",
    "</ul>\n",
    "\n",
    "The following variables are callable:\n",
    "\n",
    "<p>offline_greater_30_days = df['Last active'] > datetime.datetime.now() - pd.to_timedelta(\"30day\")</p>\n",
    "\n",
    "\n",
    "\n",
    "<h3>Run AFTER dataframe has been created </h3>"
   ]
  },
  {
   "cell_type": "code",
   "execution_count": null,
   "id": "762e7fd8",
   "metadata": {
    "pycharm": {
     "name": "#%%\n"
    }
   },
   "outputs": [],
   "source": [
    "import datetime\n",
    "\n",
    "for df in df_list:\n",
    "    # Fill in NaT / NaN data with 0 time so columns can be converted to datetime and datetime methods can be used\n",
    "    df.fillna(pd.Timedelta('0 days'))\n",
    "    \n",
    "    # Filter - Devices Offline 30 Days\n",
    "    offline_greater_30_days = df['Last active'] > datetime.datetime.now() - pd.to_timedelta(\"30day\")"
   ]
  },
  {
   "cell_type": "code",
   "execution_count": null,
   "id": "515638bc",
   "metadata": {
    "pycharm": {
     "name": "#%%\n"
    }
   },
   "outputs": [],
   "source": [
    "for df in df_list:\n",
    "    print(df.columns)"
   ]
  },
  {
   "cell_type": "code",
   "execution_count": null,
   "id": "0d1cc319",
   "metadata": {
    "pycharm": {
     "name": "#%%\n"
    }
   },
   "outputs": [],
   "source": [
    "df = pd.concat(df_list)"
   ]
  },
  {
   "cell_type": "code",
   "execution_count": null,
   "id": "32037878",
   "metadata": {
    "pycharm": {
     "name": "#%%\n"
    }
   },
   "outputs": [],
   "source": [
    "df.rename(columns = sophos_rename_cols, inplace = True)"
   ]
  },
  {
   "cell_type": "code",
   "execution_count": null,
   "id": "5173c82b",
   "metadata": {
    "pycharm": {
     "name": "#%%\n"
    }
   },
   "outputs": [],
   "source": [
    "df['Sophos Group'].unique()"
   ]
  },
  {
   "cell_type": "code",
   "execution_count": null,
   "id": "bd4f3e84",
   "metadata": {
    "pycharm": {
     "name": "#%%\n"
    }
   },
   "outputs": [],
   "source": [
    "df.drop(['Sophos Encryption','Sophos Group'],axis=1)"
   ]
  },
  {
   "cell_type": "code",
   "execution_count": null,
   "id": "a75be65e",
   "metadata": {
    "pycharm": {
     "name": "#%%\n"
    }
   },
   "outputs": [],
   "source": []
  },
  {
   "cell_type": "code",
   "execution_count": null,
   "id": "9cd91055",
   "metadata": {
    "pycharm": {
     "name": "#%%\n"
    }
   },
   "outputs": [],
   "source": []
  },
  {
   "cell_type": "code",
   "execution_count": null,
   "id": "1839c7ce",
   "metadata": {
    "pycharm": {
     "name": "#%%\n"
    }
   },
   "outputs": [],
   "source": []
  }
 ],
 "metadata": {
  "kernelspec": {
   "display_name": "Python 3 (ipykernel)",
   "language": "python",
   "name": "python3"
  },
  "language_info": {
   "codemirror_mode": {
    "name": "ipython",
    "version": 3
   },
   "file_extension": "[REDACTED][REDACTED]/.py",
   "mimetype": "text/x-python",
   "name": "python",
   "nbconvert_exporter": "python",
   "pygments_lexer": "ipython3",
   "version": "3.10.4"
  }
 },
 "nbformat": 4,
 "nbformat_minor": 5
}
