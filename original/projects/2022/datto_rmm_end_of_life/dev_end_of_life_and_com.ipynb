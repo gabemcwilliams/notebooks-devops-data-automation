{
 "cells": [
  {
   "cell_type": "markdown",
   "metadata": {
    "collapsed": false,
    "pycharm": {
     "name": "#%% md\n"
    }
   },
   "source": [
    "<h1>End fo Life OS and COM creation</h1>"
   ]
  },
  {
   "cell_type": "code",
   "execution_count": null,
   "metadata": {
    "pycharm": {
     "name": "#%%\n"
    }
   },
   "outputs": [],
   "source": [
    "# Data Shaping\n",
    "import pandas as pd\n",
    "import datetime as dt\n",
    "\n",
    "# File Handling and Export\n",
    "import json\n",
    "\n",
    "# Data Visualization\n",
    "import seaborn as sns\n",
    "import matplotlib.pyplot as plt\n",
    "\n",
    "\n",
    "# Web Builder\n",
    "from jinja2 import Environment, FileSystemLoader\n",
    "\n",
    "from ts_api_connections import datto_rmm_api\n",
    "\n",
    "\n",
    "from flask import Blueprint, request, render_template, redirect, make_response\n",
    "\n",
    "import pdfkit\n",
    "\n",
    "\n",
    "\n",
    "# add current timestamp to filename for reference\n",
    "current_time = (dt.datetime.utcnow().strftime('%Y_%m_%d_%H%M%S'))\n"
   ]
  },
  {
   "cell_type": "code",
   "execution_count": null,
   "metadata": {
    "pycharm": {
     "name": "#%%\n"
    }
   },
   "outputs": [],
   "source": []
  },
  {
   "cell_type": "code",
   "execution_count": null,
   "metadata": {
    "pycharm": {
     "name": "#%%\n"
    }
   },
   "outputs": [],
   "source": [
    "\n",
    "datto = datto_rmm_api.DattoRMM()\n",
    "df_devices = datto.create_devices_dataframe()"
   ]
  },
  {
   "cell_type": "code",
   "execution_count": null,
   "metadata": {
    "pycharm": {
     "name": "#%%\n"
    }
   },
   "outputs": [],
   "source": [
    "sites = df_devices['siteName'].unique().tolist()\n",
    "print(sites[0])"
   ]
  },
  {
   "cell_type": "code",
   "execution_count": null,
   "metadata": {
    "pycharm": {
     "name": "#%%\n"
    }
   },
   "outputs": [],
   "source": [
    "# 2. Create a template Environment\n",
    "env = Environment(loader=FileSystemLoader(r'D:\\Git\\example_dev_flask_app\\projects\\inventory_control\\templates'))"
   ]
  },
  {
   "cell_type": "code",
   "execution_count": null,
   "metadata": {
    "pycharm": {
     "name": "#%%\n"
    }
   },
   "outputs": [],
   "source": [
    "# 3. Load the template from the Environment\n",
    "template = env.get_template('reports/end_of_life_report.html')\n"
   ]
  },
  {
   "cell_type": "code",
   "execution_count": null,
   "metadata": {},
   "outputs": [],
   "source": [
    "ventura_mask = df_devices[\"siteName\"] == 'Example CU'\n",
    "\n",
    "end_of_life_mask = (df_devices['isEndOfSupport'] == 1) | (df_devices['isNearEndOfSupport'] == 1)\n",
    "\n",
    "df_ventura = df_devices[ventura_mask & end_of_life_mask]\n",
    "\n",
    "df_columns = ['hostname', 'intIpAddress', 'operatingSystem', 'osEndOfSupportDate', 'lastLoggedInUser']\n",
    "df_columns_rename = {\n",
    "    \"hostname\": \"hostname\",\n",
    "    \"intIpAddress\": \"ip address\",\n",
    "    \"operatingSystem\": \"operating system\",\n",
    "    \"osEndOfSupportDate\": \"last day of support\",\n",
    "    \"lastLoggedInUser\": \"last logged in user\"\n",
    "}\n",
    "\n",
    "df_to_html = df_ventura[df_columns].sort_values('operatingSystem').rename(df_columns_rename, axis=1).fillna(\n",
    "    \"Unknown\").to_html(index=False,\n",
    "                       justify='unset')\n",
    "\n",
    "df_ventura[df_columns].to_html(open('d:/exports/my_file.html', 'w'), index=False)\n",
    "\n",
    "site_name = df_ventura['siteName'].unique()[0]\n",
    "\n",
    "category_counts = df_ventura.value_counts('category').to_dict()\n",
    "\n",
    "wkhtml_path = pdfkit.configuration(\n",
    "    wkhtmltopdf=\"C:/Program Files/wkhtmltopdf/bin/wkhtmltopdf.exe\")  # by using configuration you can add path value.\n"
   ]
  },
  {
   "cell_type": "code",
   "execution_count": null,
   "metadata": {},
   "outputs": [],
   "source": [
    "# 4. Render the template with variables\n",
    "html = template.render(title='OS End of Life Report',\n",
    "                           site_name=site_name,\n",
    "                             current_time=current_time,\n",
    "                           category_counts=category_counts,\n",
    "                           df=df_to_html)"
   ]
  },
  {
   "cell_type": "code",
   "execution_count": null,
   "metadata": {
    "pycharm": {
     "name": "#%%\n"
    }
   },
   "outputs": [],
   "source": [
    "html"
   ]
  },
  {
   "cell_type": "code",
   "execution_count": null,
   "metadata": {
    "pycharm": {
     "name": "#%%\n"
    }
   },
   "outputs": [],
   "source": [
    "# 5. Write the template to an HTML file\n",
    "with open('d:/exports/html_report_jinja.html', 'w') as f:\n",
    "    f.write(html)"
   ]
  },
  {
   "cell_type": "code",
   "execution_count": null,
   "metadata": {
    "pycharm": {
     "name": "#%%\n"
    }
   },
   "outputs": [],
   "source": [
    "\n",
    "current_time = (dt.datetime.utcnow().strftime('%Y/%m/%d %H:%M:%S'))\n",
    "\n",
    "reports_blueprint = Blueprint('reports', __name__, template_folder='templates', static_folder='static')\n",
    "\n",
    "\n",
    "\n",
    "\n",
    "# 3. Load the template from the Environment\n",
    "template = env.get_template('report_template.html')\n",
    "\n",
    "# 4. Render the template with variables\n",
    "html = template.render(title=title)\n",
    "\n",
    "# 5. Write the template to an HTML file\n",
    "with open('html_report_jinja.html', 'w') as f:\n",
    "    f.write(html)"
   ]
  },
  {
   "cell_type": "code",
   "execution_count": null,
   "metadata": {
    "pycharm": {
     "name": "#%%\n"
    }
   },
   "outputs": [],
   "source": []
  },
  {
   "cell_type": "code",
   "execution_count": null,
   "metadata": {
    "pycharm": {
     "name": "#%%\n"
    }
   },
   "outputs": [],
   "source": []
  },
  {
   "cell_type": "code",
   "execution_count": null,
   "metadata": {
    "pycharm": {
     "name": "#%%\n"
    }
   },
   "outputs": [],
   "source": []
  },
  {
   "cell_type": "code",
   "execution_count": null,
   "metadata": {
    "pycharm": {
     "name": "#%%\n"
    }
   },
   "outputs": [],
   "source": []
  },
  {
   "cell_type": "code",
   "execution_count": null,
   "metadata": {
    "pycharm": {
     "name": "#%%\n"
    }
   },
   "outputs": [],
   "source": []
  },
  {
   "cell_type": "code",
   "execution_count": null,
   "metadata": {
    "pycharm": {
     "name": "#%%\n"
    }
   },
   "outputs": [],
   "source": "df_devices.to_csv('.csv',index=False)"
  },
  {
   "cell_type": "code",
   "execution_count": null,
   "metadata": {
    "pycharm": {
     "name": "#%%\n"
    }
   },
   "outputs": [],
   "source": [
    "fig = plt.figure(figsize=(60,40))\n",
    "palette = sns.color_palette(\"rainbow\")\n",
    "sns.countplot(data=df_devices[df_devices['isNearEndOfSupport'] == 1].sort_values('siteName'),x = 'siteName',hue='operatingSystem')\n",
    "plt.savefig(\".png\")"
   ]
  },
  {
   "cell_type": "code",
   "execution_count": null,
   "metadata": {
    "pycharm": {
     "name": "#%%\n"
    }
   },
   "outputs": [],
   "source": [
    "df_devices['isEndOfSupport'] == 1"
   ]
  },
  {
   "cell_type": "code",
   "execution_count": null,
   "metadata": {
    "pycharm": {
     "name": "#%%\n"
    }
   },
   "outputs": [],
   "source": [
    "end_of_life_mask = (df_devices['isEndOfSupport'] == 1)  | (df_devices['isNearEndOfSupport'] == 1)"
   ]
  },
  {
   "cell_type": "code",
   "execution_count": null,
   "metadata": {
    "pycharm": {
     "name": "#%%\n"
    }
   },
   "outputs": [],
   "source": [
    "fig = plt.figure(figsize=(60,40))\n",
    "palette = sns.color_palette(\"rainbow\")\n",
    "sns.countplot(data=(df_devices[end_of_life_mask].sort_values('siteName')),x = 'siteName',hue='isEndOfSupport')\n",
    "plt.savefig(\".png\")"
   ]
  },
  {
   "cell_type": "code",
   "execution_count": null,
   "metadata": {},
   "outputs": [],
   "source": [
    "ventura_mask = df_devices[\"siteName\"] == 'Example CU'"
   ]
  },
  {
   "cell_type": "code",
   "execution_count": null,
   "metadata": {},
   "outputs": [],
   "source": [
    "end_of_life_mask = (df_devices['isEndOfSupport'] == 1)  | (df_devices['isNearEndOfSupport'] == 1)"
   ]
  },
  {
   "cell_type": "code",
   "execution_count": null,
   "metadata": {
    "pycharm": {
     "name": "#%%\n"
    }
   },
   "outputs": [],
   "source": [
    "df_devices[ventura_mask & end_of_life_mask]"
   ]
  },
  {
   "cell_type": "code",
   "execution_count": null,
   "metadata": {
    "pycharm": {
     "name": "#%%\n"
    }
   },
   "outputs": [],
   "source": [
    "fig = plt.figure(figsize=(60,40))\n",
    "palette = sns.color_palette(\"rainbow\")\n",
    "sns.countplot(data=df_ventura[df_ventura['isEndOfSupport'] == 1].sort_values('hostname'),x = 'operatingSystem',hue='offline30Days')\n",
    "# plt.savefig(\".png\")"
   ]
  },
  {
   "cell_type": "code",
   "execution_count": null,
   "metadata": {},
   "outputs": [],
   "source": [
    "df_devices = pd.read_excel(r\"D:\\Git\\example_dev_flask_app\\projects\\inventory_control\\static\\seeds\\end_of_life_finished.xlsx\")\n",
    "\n",
    "ventura_mask = df_devices[\"siteName\"] == 'Example CU'\n",
    "\n",
    "end_of_life_mask = (df_devices['isEndOfSupport'] == 1) | (df_devices['isNearEndOfSupport'] == 1)\n",
    "\n",
    "df_ventura = df_devices[ventura_mask & end_of_life_mask]\n",
    "\n",
    "df_columns = ['hostname', 'intIpAddress', 'operatingSystem', 'lastLoggedInUser']\n",
    "df_columns_rename = {\n",
    "    \"hostname\": \"hostname\",\n",
    "    \"intIpAddress\": \"ip address\",\n",
    "    \"operatingSystem\": \"operating system\",\n",
    "    \"lastLoggedInUser\": \"last logged in user\"\n",
    "}\n",
    "\n",
    "df_to_html = df_ventura[df_columns].rename(df_columns_rename, axis=1).fillna(\"Unknown\").to_html(index=False, justify='unset')\n"
   ]
  },
  {
   "cell_type": "code",
   "execution_count": null,
   "metadata": {},
   "outputs": [],
   "source": [
    "df_ventura.value_counts('category').to_dict()"
   ]
  },
  {
   "cell_type": "code",
   "execution_count": null,
   "metadata": {
    "pycharm": {
     "name": "#%%\n"
    }
   },
   "outputs": [],
   "source": [
    "import pdfkit"
   ]
  },
  {
   "cell_type": "code",
   "execution_count": null,
   "metadata": {
    "pycharm": {
     "name": "#%%\n"
    }
   },
   "outputs": [],
   "source": [
    "pdfkit.from_url('https://google.com', 'd:/exports/out.pdf')"
   ]
  },
  {
   "cell_type": "code",
   "execution_count": null,
   "metadata": {
    "pycharm": {
     "name": "#%%\n"
    }
   },
   "outputs": [],
   "source": [
    "import pdfkit\n",
    "# from pdfkit.api import configuration\n",
    "\n",
    "wkhtml_path = pdfkit.configuration(wkhtmltopdf = \"C:/Program Files/wkhtmltopdf/bin/wkhtmltopdf.exe\")  #by using configuration you can add path value.\n",
    "\n",
    "pdfkit.from_url('http://[REDACTED_IP]:5000/reports/end-of-life', 'd:/exports/eol3.pdf', configuration = wkhtml_path)"
   ]
  },
  {
   "cell_type": "code",
   "execution_count": null,
   "metadata": {
    "pycharm": {
     "name": "#%%\n"
    }
   },
   "outputs": [],
   "source": []
  },
  {
   "cell_type": "code",
   "execution_count": null,
   "metadata": {
    "pycharm": {
     "name": "#%%\n"
    }
   },
   "outputs": [],
   "source": []
  }
 ],
 "metadata": {
  "kernelspec": {
   "display_name": "Python 3",
   "language": "python",
   "name": "python3"
  },
  "language_info": {
   "codemirror_mode": {
    "name": "ipython",
    "version": 2
   },
   "file_extension": "[REDACTED][REDACTED]/.py",
   "mimetype": "text/x-python",
   "name": "python",
   "nbconvert_exporter": "python",
   "pygments_lexer": "ipython2",
   "version": "2.7.6"
  }
 },
 "nbformat": 4,
 "nbformat_minor": 0
}
