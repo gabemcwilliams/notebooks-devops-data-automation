{
 "cells": [
  {
   "cell_type": "code",
   "execution_count": null,
   "id": "[REDACTED_UUID]",
   "metadata": {
    "ExecuteTime": {
     "end_time": "2023-09-19T20:34:00.960665Z",
     "start_time": "2023-09-19T20:34:00.005491300Z"
    },
    "pycharm": {
     "name": "#%%\n"
    }
   },
   "outputs": [],
   "source": [
    "import pandas as pd\n",
    "import re"
   ]
  },
  {
   "cell_type": "code",
   "execution_count": null,
   "id": "9b4a195f70b6ad5c",
   "metadata": {
    "ExecuteTime": {
     "end_time": "2023-09-19T20:34:00.975562500Z",
     "start_time": "2023-09-19T20:34:00.965524200Z"
    },
    "pycharm": {
     "name": "#%%\n"
    }
   },
   "outputs": [],
   "source": [
    "audit_logs_source = open('[REDACTED]/.csv','r',encoding='utf-8')\n",
    "file = audit_logs_source.read()"
   ]
  },
  {
   "cell_type": "code",
   "execution_count": null,
   "id": "49ff0b2ab50ec17d",
   "metadata": {
    "ExecuteTime": {
     "end_time": "2023-09-19T20:34:01.012404500Z",
     "start_time": "2023-09-19T20:34:00.969527800Z"
    },
    "pycharm": {
     "name": "#%%\n"
    }
   },
   "outputs": [],
   "source": [
    "full_line_prog = re.compile(r'\"(\\d{4}-\\d{2}-\\d{2}\\s\\d{2}:\\d{2}:\\d{2}\\s\\bUTC\\b)\",\"([\\w\\d]{1}\\S*@[^\\.]*\\.[^\\\"\\']{2,5})\",\"(\\d{,4}\\.\\d{,4}\\.\\d{,4}\\.\\d{,4})\",\"([^:]+):([^\"]+)\",\"(.*)\"')"
   ]
  },
  {
   "cell_type": "code",
   "execution_count": null,
   "id": "1530cb564ef6f5b",
   "metadata": {
    "ExecuteTime": {
     "end_time": "2023-09-19T20:34:01.013107Z",
     "start_time": "2023-09-19T20:34:00.989282400Z"
    },
    "pycharm": {
     "name": "#%%\n"
    }
   },
   "outputs": [],
   "source": [
    "parse = list(full_line_prog.findall(file))\n",
    "parse_dict_list = []"
   ]
  },
  {
   "cell_type": "code",
   "execution_count": null,
   "id": "b4e9c48e37f48e44",
   "metadata": {
    "ExecuteTime": {
     "end_time": "2023-09-19T20:34:01.776138300Z",
     "start_time": "2023-09-19T20:34:01.763575200Z"
    },
    "pycharm": {
     "name": "#%%\n"
    }
   },
   "outputs": [],
   "source": [
    "for item in parse[1:]:\n",
    "    item_dict = {}\n",
    "    list_item = list(item)\n",
    "    item_dict['date'] = list_item[0]\n",
    "    item_dict['username'] = list_item[1]\n",
    "    item_dict['ipAddress'] = list_item[2]\n",
    "    item_dict['group'] = list_item[3]\n",
    "    item_dict['groupAction'] = list_item[4]\n",
    "    item_dict['details'] = list_item[5]\n",
    "\n",
    "    parse_dict_list.append(item_dict)"
   ]
  },
  {
   "cell_type": "code",
   "execution_count": null,
   "id": "7f675cff08454ef3",
   "metadata": {
    "ExecuteTime": {
     "end_time": "2023-09-19T20:34:01.850300600Z",
     "start_time": "2023-09-19T20:34:01.835513100Z"
    },
    "pycharm": {
     "name": "#%%\n"
    }
   },
   "outputs": [],
   "source": [
    "df = pd.DataFrame(parse_dict_list)"
   ]
  },
  {
   "cell_type": "code",
   "execution_count": null,
   "id": "6460d33693f8da77",
   "metadata": {
    "ExecuteTime": {
     "end_time": "2023-09-19T20:34:03.116004700Z",
     "start_time": "2023-09-19T20:34:02.033986600Z"
    },
    "pycharm": {
     "name": "#%%\n"
    }
   },
   "outputs": [],
   "source": [
    "df_tank = df[df['username'] == \"gtanksley@example.co\"]"
   ]
  },
  {
   "cell_type": "code",
   "execution_count": null,
   "id": "416d537abf8e2649",
   "metadata": {
    "ExecuteTime": {
     "end_time": "2023-09-19T20:34:10.487178800Z",
     "start_time": "2023-09-19T20:34:10.460560Z"
    }
   },
   "outputs": [],
   "source": [
    "df"
   ]
  },
  {
   "cell_type": "code",
   "execution_count": null,
   "id": "119d7bab16b2e82c",
   "metadata": {
    "pycharm": {
     "name": "#%%\n"
    }
   },
   "outputs": [],
   "source": [
    "\"[direct:null, start:1671555215000, deviceUid:39e63353-1512-80b3-8b0c-2bc5d5bfccdf, end:null, details:[[name:technician, action:, detail:Gabe Tanksley], [name:session, action:, detail:Console]], de...\""
   ]
  },
  {
   "cell_type": "code",
   "execution_count": null,
   "id": "1f548b5cf15dc053",
   "metadata": {
    "pycharm": {
     "name": "#%%\n"
    }
   },
   "outputs": [],
   "source": [
    "pd.__dict__"
   ]
  },
  {
   "cell_type": "code",
   "execution_count": null,
   "id": "246dbabb39e095e8",
   "metadata": {
    "pycharm": {
     "name": "#%%\n"
    }
   },
   "outputs": [],
   "source": [
    "df[df['groupAction'] != 'rto']"
   ]
  },
  {
   "cell_type": "raw",
   "id": "d2a6c3caf9d3786a",
   "metadata": {
    "collapsed": false,
    "pycharm": {
     "name": "#%% raw\n"
    }
   },
   "source": [
    "df[(df['username'] == 'gmcwilliams@example.co')]"
   ]
  },
  {
   "cell_type": "code",
   "execution_count": null,
   "id": "53adf5683c725aef",
   "metadata": {
    "pycharm": {
     "name": "#%%\n"
    }
   },
   "outputs": [],
   "source": [
    "df[(df['group'] == 'policy' ) & (df['details'].str.contains('Software'))]"
   ]
  },
  {
   "cell_type": "code",
   "execution_count": null,
   "id": "251cb48251322e61",
   "metadata": {
    "pycharm": {
     "name": "#%%\n"
    }
   },
   "outputs": [],
   "source": [
    "df[df['details'].str.contains('Offline')].to_csv('d:/exports/' + '[REDACTED]/.csv')"
   ]
  },
  {
   "cell_type": "code",
   "execution_count": null,
   "id": "a9b83fa720920f82",
   "metadata": {
    "pycharm": {
     "name": "#%%\n"
    }
   },
   "outputs": [],
   "source": [
    "df[df['group'].str.contains('policy')]"
   ]
  },
  {
   "cell_type": "code",
   "execution_count": null,
   "id": "a38a7fc843cf7098",
   "metadata": {
    "pycharm": {
     "name": "#%%\n"
    }
   },
   "outputs": [],
   "source": [
    "dhavens = df['username'].str.contains('dhavens@example.co')"
   ]
  },
  {
   "cell_type": "code",
   "execution_count": null,
   "id": "b5d6f9e5a374e67b",
   "metadata": {
    "pycharm": {
     "name": "#%%\n"
    }
   },
   "outputs": [],
   "source": [
    "df[dhavens]"
   ]
  },
  {
   "cell_type": "code",
   "execution_count": null,
   "id": "fe6adb319a5c2af2",
   "metadata": {
    "pycharm": {
     "name": "#%%\n"
    }
   },
   "outputs": [],
   "source": [
    "df[df['details'].str.contains('Offline')]"
   ]
  },
  {
   "cell_type": "code",
   "execution_count": null,
   "id": "f4a9cd6acbce587f",
   "metadata": {
    "pycharm": {
     "name": "#%%\n"
    }
   },
   "outputs": [],
   "source": [
    "df"
   ]
  },
  {
   "cell_type": "code",
   "execution_count": null,
   "id": "c6b1e57c6d9be7cd",
   "metadata": {
    "pycharm": {
     "name": "#%%\n"
    }
   },
   "outputs": [],
   "source": []
  }
 ],
 "metadata": {
  "kernelspec": {
   "display_name": "Python 3 (ipykernel)",
   "language": "python",
   "name": "python3"
  },
  "language_info": {
   "codemirror_mode": {
    "name": "ipython",
    "version": 3
   },
   "file_extension": "[REDACTED][REDACTED]/.py",
   "mimetype": "text/x-python",
   "name": "python",
   "nbconvert_exporter": "python",
   "pygments_lexer": "ipython3",
   "version": "3.10.4"
  }
 },
 "nbformat": 4,
 "nbformat_minor": 5
}
