{
 "cells": [
  {
   "cell_type": "markdown",
   "metadata": {
    "collapsed": false,
    "pycharm": {
     "name": "#%% md\n"
    }
   },
   "source": [
    "<h1> Qualys - OS Patching Vulnerabilities - CSV - Conditioning </h1>"
   ]
  },
  {
   "cell_type": "code",
   "execution_count": null,
   "metadata": {
    "pycharm": {
     "name": "#%%\n"
    }
   },
   "outputs": [],
   "source": [
    "import pandas as pd\n",
    "import csv\n",
    "import datetime as dt\n",
    "import re"
   ]
  },
  {
   "cell_type": "code",
   "execution_count": null,
   "metadata": {
    "pycharm": {
     "name": "#%%\n"
    }
   },
   "outputs": [],
   "source": [
    "qualys_os_patching = open('D:/project_docs/Qualys Report .txt','r',encoding='utf-8')\n",
    "file = qualys_os_patching.read()"
   ]
  },
  {
   "cell_type": "markdown",
   "metadata": {
    "collapsed": false,
    "pycharm": {
     "name": "#%% md\n"
    }
   },
   "source": [
    "# Regular Expression - CSV Breakdown"
   ]
  },
  {
   "cell_type": "markdown",
   "metadata": {
    "collapsed": false,
    "pycharm": {
     "name": "#%% md\n"
    }
   },
   "source": [
    "## Vulnerabilities by Host List"
   ]
  },
  {
   "cell_type": "code",
   "execution_count": null,
   "metadata": {
    "pycharm": {
     "name": "#%%\n"
    }
   },
   "outputs": [],
   "source": [
    "\n",
    "full_line_host_prog = re.compile(r'\\\"(\\d{1,3}\\.\\d{1,3}\\.\\d{1,3}\\.\\d{1,3}){1}\\\"{1}\\,{1}\\\"{1}([a-z\\d\\.\\-]+)+\\\"\\,\\\"([A-Z\\-\\d]+)\\\"\\,\\\"([^\\\"\\,]+)\\\"\\,\\\"([^\"]+)\\\"\\,\\\"([^\"]+)\\\"\\n')\n",
    "\n",
    "\n",
    "parse = list(full_line_host_prog.findall(file))\n",
    "parse_dict_list = []\n",
    "\n",
    "full_line_dict_list = []\n",
    "\n",
    "\n",
    "for item in parse:\n",
    "    item_dict = {}\n",
    "    list_item = list(item)\n",
    "    item_dict['ipAddress'] = list_item[0]\n",
    "    item_dict['dnsAddress'] = list_item[1]\n",
    "    item_dict['netBIOS'] = list_item[2]\n",
    "    item_dict['os'] = list_item[3]\n",
    "    item_dict['patchCount'] = list_item[4]\n",
    "    item_dict['network'] = list_item[5]\n",
    "\n",
    "    full_line_dict_list.append(item_dict)\n",
    "\n",
    "df_vuln_host_list = pd.DataFrame(full_line_dict_list)\n"
   ]
  },
  {
   "cell_type": "code",
   "execution_count": null,
   "metadata": {
    "pycharm": {
     "name": "#%%\n"
    }
   },
   "outputs": [],
   "source": [
    "df_vuln_host_list"
   ]
  },
  {
   "cell_type": "markdown",
   "metadata": {
    "collapsed": false,
    "pycharm": {
     "name": "#%% md\n"
    }
   },
   "source": [
    "## Patches by Host List"
   ]
  },
  {
   "cell_type": "code",
   "execution_count": null,
   "metadata": {
    "pycharm": {
     "name": "#%%\n"
    }
   },
   "outputs": [],
   "source": [
    "full_line_patches_prog = re.compile(r'[^\"]?(\\d{1,3}\\.\\d{1,3}\\.\\d{1,3}\\.\\d{1,3}){1}\\,\\\"(\\d+)\\\"\\,\\\"([^\"]+)\\\"\\,\\\"(\\d{1,3})\\\"\\,\\\"([^\"]+)\\\"\\,\\\"(.*)\\\"\\,\\\"([^\"]+)\\\"\\,([^\\n]+)')\n",
    "\n",
    "parse = list(full_line_patches_prog.findall(file))\n",
    "\n",
    "\n",
    "\n",
    "full_line_dict_list = []\n",
    "\n",
    "\n",
    "for item in parse:\n",
    "    item_dict = {}\n",
    "    list_item = list(item)\n",
    "    item_dict['ipAddress'] = list_item[0]\n",
    "    item_dict['qId'] = list_item[1]\n",
    "    item_dict['vendorID'] = list_item[2]\n",
    "    item_dict['severity'] = list_item[3]\n",
    "    item_dict['title'] = list_item[4]\n",
    "    item_dict['vulnerabilityCount'] = list_item[5]\n",
    "    item_dict['published'] = list_item[6]\n",
    "    item_dict['network'] = list_item[7]\n",
    "\n",
    "    full_line_dict_list.append(item_dict)\n",
    "\n",
    "df_patch_host_list = pd.DataFrame(full_line_dict_list)"
   ]
  },
  {
   "cell_type": "code",
   "execution_count": null,
   "metadata": {
    "pycharm": {
     "name": "#%%\n"
    }
   },
   "outputs": [],
   "source": [
    "df_patch_host_list"
   ]
  },
  {
   "cell_type": "raw",
   "metadata": {
    "collapsed": false,
    "pycharm": {
     "name": "#%% raw\n"
    }
   },
   "source": [
    "df[df['details'].str.contains(r\"\\*Software Management\") & df['details'].str.contains(r\"Christian\")]"
   ]
  },
  {
   "cell_type": "code",
   "execution_count": null,
   "metadata": {
    "pycharm": {
     "name": "#%%\n"
    }
   },
   "outputs": [],
   "source": []
  }
 ],
 "metadata": {
  "kernelspec": {
   "display_name": "Python 3",
   "language": "python",
   "name": "python3"
  },
  "language_info": {
   "codemirror_mode": {
    "name": "ipython",
    "version": 2
   },
   "file_extension": "[REDACTED][REDACTED]/.py",
   "mimetype": "text/x-python",
   "name": "python",
   "nbconvert_exporter": "python",
   "pygments_lexer": "ipython2",
   "version": "2.7.6"
  }
 },
 "nbformat": 4,
 "nbformat_minor": 0
}
