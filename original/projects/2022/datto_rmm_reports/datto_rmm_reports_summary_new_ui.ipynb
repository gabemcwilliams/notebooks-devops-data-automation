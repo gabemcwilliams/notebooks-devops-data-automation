{
 "cells": [
  {
   "cell_type": "markdown",
   "metadata": {
    "collapsed": false,
    "pycharm": {
     "name": "#%% md\n"
    }
   },
   "source": [
    "<h1> Datto RMM - Reports Summary </h1>"
   ]
  },
  {
   "cell_type": "code",
   "execution_count": null,
   "metadata": {
    "pycharm": {
     "name": "#%%\n"
    }
   },
   "outputs": [],
   "source": [
    "# general purpose\n",
    "import time\n",
    "import datetime as dt\n",
    "\n",
    "# Web Bot\n",
    "from selenium import webdriver\n",
    "from selenium.webdriver.common.keys import Keys\n",
    "\n",
    "# Data Ingest and Export\n",
    "import pandas as pd\n",
    "import re"
   ]
  },
  {
   "cell_type": "code",
   "execution_count": null,
   "metadata": {
    "pycharm": {
     "name": "#%%\n"
    }
   },
   "outputs": [],
   "source": [
    "# add current timestamp to filename for reference\n",
    "current_time = (dt.datetime.utcnow().strftime('%Y_%m_%d_%H%M%S'))\n",
    "\n",
    "# git repo folder\n",
    "git_folder = 'd:/git/'\n",
    "\n",
    "# export folder will contain all csv exported DataFrames for Ticket Creation\n",
    "export_folder = 'd:/exports/'"
   ]
  },
  {
   "cell_type": "code",
   "execution_count": null,
   "metadata": {
    "pycharm": {
     "name": "#%%\n"
    }
   },
   "outputs": [],
   "source": [
    "# import configparser for env secrets\n",
    "from configparser import ConfigParser\n",
    "\n",
    "config = ConfigParser()\n",
    "config.read(f'{git_folder}/config/env.ini')\n",
    "from requests.structures import CaseInsensitiveDict"
   ]
  },
  {
   "cell_type": "markdown",
   "metadata": {
    "collapsed": false,
    "pycharm": {
     "name": "#%% md\n"
    }
   },
   "source": [
    "# Create Bot Object"
   ]
  },
  {
   "cell_type": "markdown",
   "metadata": {
    "collapsed": false,
    "pycharm": {
     "name": "#%% md\n"
    }
   },
   "source": [
    "## Create Firefox Driver"
   ]
  },
  {
   "cell_type": "raw",
   "metadata": {
    "collapsed": false,
    "pycharm": {
     "name": "#%% raw\n"
    }
   },
   "source": [
    "from selenium.webdriver.firefox.firefox_binary import FirefoxBinary\n",
    "\n",
    "firefox_dev_binary = FirefoxBinary(r'C:/Program Files/Firefox Developer Edition/firefox.exe')\n",
    "f_driver = webdriver.Firefox(firefox_binary=firefox_dev_binary, executable_path=r'D:/web_drivers/mozilla/geckodriver-v0.31.0-win64/geckodriver.exe')"
   ]
  },
  {
   "cell_type": "markdown",
   "metadata": {
    "collapsed": false,
    "pycharm": {
     "name": "#%% md\n"
    }
   },
   "source": [
    "## Create Chrome Driver"
   ]
  },
  {
   "cell_type": "code",
   "execution_count": null,
   "metadata": {
    "pycharm": {
     "name": "#%%\n"
    }
   },
   "outputs": [],
   "source": [
    "chrome_driver = 'D:\\data_science_utilities\\web_drivers\\chrome\\chromedriver_win32\\chromedriver.exe'\n",
    "options = webdriver.ChromeOptions()\n",
    "options.add_argument('headless')\n",
    "c_driver = webdriver.Chrome(executable_path=chrome_driver)"
   ]
  },
  {
   "cell_type": "markdown",
   "metadata": {
    "collapsed": false,
    "pycharm": {
     "name": "#%% md\n"
    }
   },
   "source": [
    "## Request Header Info (if needed to impersonate api browser calls)"
   ]
  },
  {
   "cell_type": "code",
   "execution_count": null,
   "metadata": {
    "pycharm": {
     "name": "#%%\n"
    }
   },
   "outputs": [],
   "source": [
    "# construct header\n",
    "headers = CaseInsensitiveDict()\n",
    "headers[\n",
    "    'User-Agent'] = 'Mozilla/5.0 (X11; Linux x86_64) AppleWebKit/537.36 (KHTML, like Gecko) Chrome/51.0.2704.103 Safari/537.36'\n",
    "\n",
    "# construct req body\n",
    "data = CaseInsensitiveDict()\n",
    "data = ''"
   ]
  },
  {
   "cell_type": "code",
   "execution_count": null,
   "metadata": {
    "pycharm": {
     "name": "#%%\n"
    }
   },
   "outputs": [],
   "source": [
    "baseUrl = 'https://concord.centrastage.net'\n",
    "auth_url = f'https://auth.datto.com'\n",
    "#home_url = f'{baseUrl}'\n",
    "links = []"
   ]
  },
  {
   "cell_type": "markdown",
   "metadata": {
    "collapsed": false,
    "pycharm": {
     "name": "#%% md\n"
    }
   },
   "source": [
    "# Login to DattoRMM"
   ]
  },
  {
   "cell_type": "code",
   "execution_count": null,
   "metadata": {
    "pycharm": {
     "name": "#%%\n"
    }
   },
   "outputs": [],
   "source": [
    "c_driver.get(auth_url)"
   ]
  },
  {
   "cell_type": "code",
   "execution_count": null,
   "metadata": {
    "pycharm": {
     "name": "#%%\n"
    }
   },
   "outputs": [],
   "source": [
    "login_txtbox = c_driver.find_element_by_xpath(\"//input[@id='form_username']\")\n",
    "login_txtbox.send_keys((config['dattormm']['username']), Keys.ENTER)"
   ]
  },
  {
   "cell_type": "code",
   "execution_count": null,
   "metadata": {
    "pycharm": {
     "name": "#%%\n"
    }
   },
   "outputs": [],
   "source": [
    "pass_txtbox = c_driver.find_element_by_xpath(\"//input[@id='form_password']\")\n",
    "pass_txtbox.send_keys((config['dattormm']['password']), Keys.ENTER)"
   ]
  },
  {
   "cell_type": "code",
   "execution_count": null,
   "metadata": {
    "pycharm": {
     "name": "#%%\n"
    }
   },
   "outputs": [],
   "source": [
    "time.sleep(3)"
   ]
  },
  {
   "cell_type": "code",
   "execution_count": null,
   "metadata": {
    "pycharm": {
     "name": "#%%\n"
    }
   },
   "outputs": [],
   "source": [
    "mfa_txtbox = c_driver.find_element_by_id('authy_token')\n",
    "mfa_txtbox.send_keys('571023', Keys.ENTER)  # number entered manually for now /TODO: automate MFA"
   ]
  },
  {
   "cell_type": "markdown",
   "metadata": {
    "collapsed": false,
    "pycharm": {
     "name": "#%% md\n"
    }
   },
   "source": [
    "# Get Active Reports Summary"
   ]
  },
  {
   "cell_type": "markdown",
   "metadata": {
    "collapsed": false,
    "pycharm": {
     "name": "#%% md\n"
    }
   },
   "source": [
    "## Click Events to Reach Page"
   ]
  },
  {
   "cell_type": "code",
   "execution_count": null,
   "metadata": {
    "pycharm": {
     "name": "#%%\n"
    }
   },
   "outputs": [],
   "source": [
    "expand_analytics_xpath = \"/html/body/div[2]/div/div/div[2]/div[1]/div[1]/ul/li[8]/div\""
   ]
  },
  {
   "cell_type": "code",
   "execution_count": null,
   "metadata": {
    "pycharm": {
     "name": "#%%\n"
    }
   },
   "outputs": [],
   "source": [
    "expand_analytics = c_driver.find_element_by_xpath(expand_analytics_xpath)"
   ]
  },
  {
   "cell_type": "code",
   "execution_count": null,
   "metadata": {
    "pycharm": {
     "name": "#%%\n"
    }
   },
   "outputs": [],
   "source": [
    "expand_analytics.click()"
   ]
  },
  {
   "cell_type": "code",
   "execution_count": null,
   "metadata": {
    "pycharm": {
     "name": "#%%\n"
    }
   },
   "outputs": [],
   "source": [
    "reports_xpath = \"/html/body/div[2]/div/div/div[2]/div[1]/div[1]/ul/li[8]/ul/li[1]/a\""
   ]
  },
  {
   "cell_type": "code",
   "execution_count": null,
   "metadata": {
    "pycharm": {
     "name": "#%%\n"
    }
   },
   "outputs": [],
   "source": [
    "reports_page_button = c_driver.find_element_by_xpath(reports_xpath)"
   ]
  },
  {
   "cell_type": "code",
   "execution_count": null,
   "metadata": {
    "pycharm": {
     "name": "#%%\n"
    }
   },
   "outputs": [],
   "source": [
    "reports_page_button.click()\n",
    "\n",
    "time.sleep(5)"
   ]
  },
  {
   "cell_type": "markdown",
   "metadata": {
    "collapsed": false,
    "pycharm": {
     "name": "#%% md\n"
    }
   },
   "source": [
    "## Change Page Display Count"
   ]
  },
  {
   "cell_type": "code",
   "execution_count": null,
   "metadata": {
    "pycharm": {
     "name": "#%%\n"
    }
   },
   "outputs": [],
   "source": [
    "def change_page_count(web_driver, arg_page_count=100):\n",
    "    time.sleep(3)\n",
    "\n",
    "    import re\n",
    "\n",
    "    dropdown_open = False\n",
    "\n",
    "    try:\n",
    "        web_driver.find_element_by_xpath(\n",
    "            \"\"\"//div[contains(@class,\"ant-select-open\")][contains(@class,\"ant-pagination-options-size-changer\")]\"\"\")\n",
    "        print(f\"The dropdown is expanded!\")\n",
    "        dropdown_open = True\n",
    "    except:\n",
    "        pass\n",
    "\n",
    "    def get_dropbox_xpath():\n",
    "        current_page_count_xpath = r\"\"\"//span[@class=\"ant-select-selection-item\"][contains(@title,' / page')]\"\"\"\n",
    "        current_page_count_text = c_driver.find_element_by_xpath(current_page_count_xpath).text\n",
    "        current_page_count_no = re.search(r\"(\\d+)\\s\\/\\s\\bpage\\b\", current_page_count_text).group(1)\n",
    "        print(f\"text: {current_page_count_text}\")\n",
    "        print(f\"Current page count: {current_page_count_no}\")\n",
    "\n",
    "        return current_page_count_xpath\n",
    "\n",
    "    def get_selection_xpath(page_count=arg_page_count):\n",
    "        print(f\"Page count: {page_count}\")\n",
    "        selection_xpath = f\"\"\"//div[@class=\"ant-select-item-option-content\"][contains(text(),\"{page_count} / page\")]\"\"\"\n",
    "\n",
    "        return selection_xpath\n",
    "\n",
    "    if not dropdown_open:\n",
    "        count_dropbox_xpath = get_dropbox_xpath()\n",
    "        web_driver.find_element_by_xpath(count_dropbox_xpath).click()\n",
    "\n",
    "    time.sleep(1)\n",
    "\n",
    "    count_selection_xpath = get_selection_xpath()\n",
    "    web_driver.find_element_by_xpath(count_selection_xpath).click()"
   ]
  },
  {
   "cell_type": "code",
   "execution_count": null,
   "metadata": {
    "pycharm": {
     "name": "#%%\n"
    }
   },
   "outputs": [],
   "source": [
    "change_page_count(c_driver, 100)"
   ]
  },
  {
   "cell_type": "markdown",
   "metadata": {
    "collapsed": false,
    "pycharm": {
     "name": "#%% md\n"
    }
   },
   "source": [
    "## Gather Headings and TD Text"
   ]
  },
  {
   "cell_type": "code",
   "execution_count": null,
   "metadata": {
    "pycharm": {
     "name": "#%%\n"
    }
   },
   "outputs": [],
   "source": [
    "class Get_Reports():\n",
    "\n",
    "    def __init__(self, __webdriver):\n",
    "        self.__webdriver = __webdriver\n",
    "\n",
    "    def get_reports_dataframe(self):\n",
    "\n",
    "        df_reports = self.__get_report_body__()\n",
    "        iter_page = self.__iterate_pages__()['last_page']\n",
    "\n",
    "        while iter_page == 'false':\n",
    "            time.sleep(5)\n",
    "            df_current_page = self.__get_report_body__()\n",
    "            df_reports = pd.concat([df_current_page, df_reports], ignore_index=True)\n",
    "            iter_page = self.__iterate_pages__()['last_page']\n",
    "\n",
    "        current_page = self.__get_current_page__()\n",
    "        print(f\"Last Page Reached: {current_page}\")\n",
    "        print(\"*\" * 50 + \"\\n\")\n",
    "        return df_reports\n",
    "\n",
    "    def __get_headings__(self):\n",
    "        report_headings_xpath = \"\"\"//div[@class=\"ant-table-column-sorters-with-tooltip\"]\"\"\"\n",
    "        report_header = self.__webdriver.find_element_by_xpath(report_headings_xpath)\n",
    "        report_headings = report_header.find_elements_by_xpath(\"//th\")\n",
    "        headings_list = []\n",
    "\n",
    "        for heading in report_headings:\n",
    "            if heading.text:\n",
    "                headings_list.append(heading.text)\n",
    "\n",
    "        return headings_list\n",
    "\n",
    "    def __get_report_body__(self):\n",
    "        headings = self.__get_headings__()\n",
    "        table_body = self.__webdriver.find_element_by_xpath(\"\"\"//tbody[@class=\"ant-table-tbody\"]\"\"\")\n",
    "        table_info_tds = table_body.find_elements_by_xpath(\"//td\")\n",
    "\n",
    "        td_text_list = []\n",
    "\n",
    "        for td in table_info_tds:\n",
    "            # if td.text != \"\":\n",
    "            #     td_text_list.append(td.text)\n",
    "            td_text_list.append(td.text)\n",
    "\n",
    "        # Iterate through all TD and assign headings in a dictionary via reset loops\n",
    "        entries_dict_list = []\n",
    "        entries_dict = {}\n",
    "        temp_dict = {}\n",
    "        headings_counter = 0\n",
    "        for index, string in enumerate(td_text_list):\n",
    "            print(f\"{headings_counter}: {headings[headings_counter]}: {index}: {string}\")\n",
    "            temp_dict.update({headings[headings_counter]: string})\n",
    "            entries_dict.update(temp_dict)\n",
    "            headings_counter = headings_counter + 1\n",
    "            temp_dict = {}\n",
    "            if headings_counter == len(headings):\n",
    "                headings_counter = 0\n",
    "                entries_dict_list.append(entries_dict)\n",
    "                entries_dict = {}\n",
    "\n",
    "        return pd.DataFrame(entries_dict_list)\n",
    "\n",
    "    def __iterate_pages__(self):\n",
    "        current_page = self.__get_current_page__()\n",
    "        print(f\"Reading Page: {current_page}\")\n",
    "        print(\"*\" * 50 + \"\\n\")\n",
    "\n",
    "        next_page = self.__webdriver.find_element_by_xpath(\"\"\"//li[contains(@class, \"ant-pagination-next\")]\"\"\")\n",
    "        next_disabled = (next_page.get_attribute(\"aria-disabled\"))\n",
    "        if next_disabled == \"false\":\n",
    "            next_page.click()\n",
    "\n",
    "            return {\"last_page\": \"false\"}\n",
    "        else:\n",
    "            return {\"last_page\": \"true\"}\n",
    "\n",
    "    def __get_current_page__(self):\n",
    "        page_list_items = self.__webdriver.find_elements_by_xpath(\"\"\"//li[contains(@class,\"ant-pagination-item ant-pagination-item\")]\"\"\")\n",
    "\n",
    "        for page in page_list_items:\n",
    "            page_class = page.get_attribute(\"class\")\n",
    "\n",
    "            if re.search(r\"active\", page_class):\n",
    "                return page.text\n"
   ]
  },
  {
   "cell_type": "code",
   "execution_count": null,
   "metadata": {
    "pycharm": {
     "name": "#%%\n"
    }
   },
   "outputs": [],
   "source": [
    "reports_obj = Get_Reports(c_driver)"
   ]
  },
  {
   "cell_type": "code",
   "execution_count": null,
   "metadata": {
    "pycharm": {
     "name": "#%%\n"
    }
   },
   "outputs": [],
   "source": [
    "df_active_reports = reports_obj.get_reports_dataframe()"
   ]
  },
  {
   "cell_type": "code",
   "execution_count": null,
   "metadata": {
    "pycharm": {
     "name": "#%%\n"
    }
   },
   "outputs": [],
   "source": [
    "df_active_reports"
   ]
  },
  {
   "cell_type": "code",
   "execution_count": null,
   "metadata": {
    "pycharm": {
     "name": "#%%\n"
    }
   },
   "outputs": [],
   "source": [
    "df_active_reports.drop_duplicates(inplace=True)"
   ]
  },
  {
   "cell_type": "code",
   "execution_count": null,
   "metadata": {
    "pycharm": {
     "name": "#%%\n"
    }
   },
   "outputs": [],
   "source": [
    "df_active_reports = df_active_reports[df_active_reports['Name'] != \"\"]"
   ]
  },
  {
   "cell_type": "code",
   "execution_count": null,
   "metadata": {
    "pycharm": {
     "name": "#%%\n"
    }
   },
   "outputs": [],
   "source": [
    "df_active_reports.to_csv(\"[REDACTED]/.csv\", index=False)"
   ]
  },
  {
   "cell_type": "markdown",
   "metadata": {
    "collapsed": false,
    "pycharm": {
     "name": "#%% md\n"
    }
   },
   "source": [
    "### Import Modules, Create env Variables"
   ]
  },
  {
   "cell_type": "code",
   "execution_count": null,
   "metadata": {
    "pycharm": {
     "name": "#%%\n"
    }
   },
   "outputs": [],
   "source": [
    "from ts_api_connections import datto_rmm_api"
   ]
  },
  {
   "cell_type": "markdown",
   "metadata": {
    "collapsed": false,
    "pycharm": {
     "name": "#%% md\n"
    }
   },
   "source": [
    "## Create DataFrame via API Call Iteration\n"
   ]
  },
  {
   "cell_type": "code",
   "execution_count": null,
   "metadata": {
    "pycharm": {
     "name": "#%%\n"
    }
   },
   "outputs": [],
   "source": [
    "dattormm_devices = datto_rmm_api.create_datto_dataframe(env_file=\"d:/git/config/env.ini\")"
   ]
  },
  {
   "cell_type": "code",
   "execution_count": null,
   "metadata": {
    "pycharm": {
     "name": "#%%\n"
    }
   },
   "outputs": [],
   "source": [
    "list_of_clients = list(dattormm_devices['siteName'].unique())"
   ]
  },
  {
   "cell_type": "code",
   "execution_count": null,
   "metadata": {
    "pycharm": {
     "name": "#%%\n"
    }
   },
   "outputs": [],
   "source": [
    "report_clients_list = []\n",
    "\n",
    "\n",
    "def missing_software_distribution_report(dataframe=df_active_reports, client_list=list_of_clients):\n",
    "    report_found_list = []\n",
    "    for name in dataframe['Name']:\n",
    "        try:\n",
    "            split_name = re.search('Software\\sDistribution\\s\\-\\s([^\\n]+)', name).group(1)\n",
    "            if split_name:\n",
    "                report_found_list.append(split_name)\n",
    "            else:\n",
    "                print(f\"Unable to split{name}\")\n",
    "        except Exception as e:\n",
    "            pass\n",
    "\n",
    "    report_missing_list = []\n",
    "    for client in client_list:\n",
    "\n",
    "        result = re.match(r'example', client)\n",
    "\n",
    "        if (client not in report_found_list) & (result is None):\n",
    "            report_name = f\"*Monthly Reports - Software Distribution - {client}\"\n",
    "            report_missing_list.append(report_name)\n",
    "            print(report_name)\n",
    "\n",
    "    return report_missing_list\n",
    "\n",
    "\n",
    "def missing_remote_report(dataframe=df_active_reports, client_list=list_of_clients):\n",
    "    report_found_list = []\n",
    "    for name in dataframe['Name']:\n",
    "        try:\n",
    "            split_name = re.search('Remote\\sActivity\\s\\-\\s([^\\n]+)', name).group(1)\n",
    "            if split_name:\n",
    "                report_found_list.append(split_name)\n",
    "            else:\n",
    "                print(f\"Unable to split{name}\")\n",
    "        except Exception as e:\n",
    "            pass\n",
    "\n",
    "    report_missing_list = []\n",
    "    for client in client_list:\n",
    "\n",
    "        result = re.match(r'example', client)\n",
    "\n",
    "        if (client not in report_found_list) & (result is None):\n",
    "            report_name = f\"*Monthly Reports - Remote Activity - {client}\"\n",
    "            report_missing_list.append(report_name)\n",
    "            print(report_name)\n",
    "\n",
    "    return report_missing_list"
   ]
  },
  {
   "cell_type": "code",
   "execution_count": null,
   "metadata": {
    "pycharm": {
     "name": "#%%\n"
    }
   },
   "outputs": [],
   "source": [
    "missing_remote_activity = missing_remote_report()\n",
    "df_missing_reports = pd.DataFrame(missing_remote_activity)\n",
    "df_missing_reports.to_csv(\"[REDACTED]/.csv\", index=False)"
   ]
  },
  {
   "cell_type": "code",
   "execution_count": null,
   "metadata": {
    "pycharm": {
     "name": "#%%\n"
    }
   },
   "outputs": [],
   "source": [
    "missing_software_distribution = missing_software_distribution_report()\n",
    "df_missing_reports = pd.DataFrame(missing_software_distribution)\n",
    "df_missing_reports.to_csv(\"[REDACTED]/.csv\", index=False)"
   ]
  },
  {
   "cell_type": "code",
   "execution_count": null,
   "metadata": {
    "pycharm": {
     "name": "#%%\n"
    }
   },
   "outputs": [],
   "source": [
    "missing_software_distribution"
   ]
  },
  {
   "cell_type": "code",
   "execution_count": null,
   "metadata": {
    "pycharm": {
     "name": "#%%\n"
    }
   },
   "outputs": [],
   "source": [
    "missing_remote_activity"
   ]
  },
  {
   "cell_type": "code",
   "execution_count": null,
   "metadata": {
    "pycharm": {
     "name": "#%%\n"
    }
   },
   "outputs": [],
   "source": []
  }
 ],
 "metadata": {
  "kernelspec": {
   "display_name": "Python 3",
   "language": "python",
   "name": "python3"
  },
  "language_info": {
   "codemirror_mode": {
    "name": "ipython",
    "version": 2
   },
   "file_extension": "[REDACTED][REDACTED]/.py",
   "mimetype": "text/x-python",
   "name": "python",
   "nbconvert_exporter": "python",
   "pygments_lexer": "ipython2",
   "version": "2.7.6"
  }
 },
 "nbformat": 4,
 "nbformat_minor": 0
}
