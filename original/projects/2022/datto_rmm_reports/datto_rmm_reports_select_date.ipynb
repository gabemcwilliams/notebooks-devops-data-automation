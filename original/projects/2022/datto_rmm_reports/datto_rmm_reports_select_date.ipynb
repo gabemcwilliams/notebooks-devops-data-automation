{
 "cells": [
  {
   "cell_type": "markdown",
   "metadata": {
    "collapsed": false,
    "pycharm": {
     "name": "#%% md\n"
    }
   },
   "source": [
    "<h1>Select Dates for Monthly Reports via Selenium</h1>"
   ]
  },
  {
   "cell_type": "markdown",
   "metadata": {
    "collapsed": false,
    "pycharm": {
     "name": "#%% md\n"
    }
   },
   "source": [
    "<h1> OCR - Scrape PNG Screenshot Site Data </h1>"
   ]
  },
  {
   "cell_type": "code",
   "execution_count": null,
   "metadata": {
    "pycharm": {
     "name": "#%%\n"
    }
   },
   "outputs": [],
   "source": [
    "# data scraping\n",
    "import time\n",
    "\n",
    "from selenium import webdriver\n",
    "from selenium.webdriver.common.keys import Keys\n",
    "from selenium.webdriver.support.ui import Select\n",
    "from selenium.webdriver import ActionChains\n",
    "\n",
    "#data conditioning\n",
    "import datetime as dt\n",
    "import re"
   ]
  },
  {
   "cell_type": "code",
   "execution_count": null,
   "metadata": {
    "pycharm": {
     "name": "#%%\n"
    }
   },
   "outputs": [],
   "source": [
    " # add current timestamp to filename for reference\n",
    "current_time = (dt.datetime.utcnow().strftime('%Y_%m_%d_%H%M%S'))\n",
    "\n",
    "# git repo folder\n",
    "git_folder = 'd:/git'\n",
    "\n",
    "# dictionary Directory\n",
    "dictionary_dir = f'{git_folder}/dictionaries'\n",
    "\n",
    "# export folder will contain all csv exported DataFrames for Ticket Creation\n",
    "export_folder = 'd:/exports'"
   ]
  },
  {
   "cell_type": "code",
   "execution_count": null,
   "metadata": {
    "pycharm": {
     "name": "#%%\n"
    }
   },
   "outputs": [],
   "source": [
    "# import configparser for env secrets\n",
    "from configparser import ConfigParser\n",
    "\n",
    "config = ConfigParser()\n",
    "config.read(f'{git_folder}/config/env.ini')\n",
    "\n",
    "from requests.structures import CaseInsensitiveDict"
   ]
  },
  {
   "cell_type": "markdown",
   "metadata": {
    "collapsed": false,
    "pycharm": {
     "name": "#%% md\n"
    }
   },
   "source": [
    "# Report Changes Configuration"
   ]
  },
  {
   "cell_type": "code",
   "execution_count": null,
   "metadata": {
    "pycharm": {
     "name": "#%%\n"
    }
   },
   "outputs": [],
   "source": [
    "distribution_emails = [{\"Name\": \"Reports\",\n",
    "                        \"Address\": \"reports@example.co\"}]"
   ]
  },
  {
   "cell_type": "code",
   "execution_count": null,
   "metadata": {
    "pycharm": {
     "name": "#%%\n"
    }
   },
   "outputs": [],
   "source": [
    "report_days = [{\"reportName\":\"*Monthly Reports - Software Distribution\",\n",
    "                \"reportExportDay\": \"1\"},\n",
    "               {\"reportName\": \"*Monthly Reports - Remote Activity\",\n",
    "                \"reportExportDay\": \"Last\"}]"
   ]
  },
  {
   "cell_type": "markdown",
   "metadata": {
    "collapsed": false,
    "pycharm": {
     "name": "#%% md\n"
    }
   },
   "source": [
    "## Create Chrome Driver"
   ]
  },
  {
   "cell_type": "code",
   "execution_count": null,
   "metadata": {
    "pycharm": {
     "name": "#%%\n"
    }
   },
   "outputs": [],
   "source": [
    "chrome_driver = 'D:/data_science_utilities/web_drivers/chrome/chromedriver_win32/chromedriver.exe'\n",
    "options = webdriver.ChromeOptions()\n",
    "# options.add_argument('headless')\n",
    "c_driver = webdriver.Chrome(executable_path=chrome_driver)"
   ]
  },
  {
   "cell_type": "markdown",
   "metadata": {
    "collapsed": false,
    "pycharm": {
     "name": "#%% md\n"
    }
   },
   "source": [
    "## Request Header Info (if needed to impersonate api browser calls)"
   ]
  },
  {
   "cell_type": "markdown",
   "metadata": {
    "collapsed": false,
    "pycharm": {
     "name": "#%% md\n"
    }
   },
   "source": [
    "## Create Firefox Driver"
   ]
  },
  {
   "cell_type": "raw",
   "metadata": {
    "collapsed": false,
    "pycharm": {
     "name": "#%% raw\n"
    }
   },
   "source": [
    "from selenium.webdriver.firefox.firefox_binary import FirefoxBinary\n",
    "\n",
    "firefox_dev_binary = FirefoxBinary(r'C:/Program Files/Firefox Developer Edition/firefox.exe')\n",
    "c_driver = webdriver.Firefox(firefox_binary=firefox_dev_binary, executable_path=r'D:/web_drivers/mozilla/geckodriver-v0.31.0-win64/geckodriver.exe')"
   ]
  },
  {
   "cell_type": "code",
   "execution_count": null,
   "metadata": {
    "pycharm": {
     "name": "#%%\n"
    }
   },
   "outputs": [],
   "source": [
    "# construct header\n",
    "headers = CaseInsensitiveDict()\n",
    "headers[\n",
    "    'User-Agent'] = 'Mozilla/5.0 (X11; Linux x86_64) AppleWebKit/537.36 (KHTML, like Gecko) Chrome/51.0.2704.103 Safari/537.36'\n",
    "\n",
    "# construct req body\n",
    "data = CaseInsensitiveDict()\n",
    "data = ''"
   ]
  },
  {
   "cell_type": "code",
   "execution_count": null,
   "metadata": {
    "pycharm": {
     "name": "#%%\n"
    }
   },
   "outputs": [],
   "source": [
    "baseUrl = 'https://concord.centrastage.net'\n",
    "auth_url = f'https://auth.datto.com'\n",
    "#home_url = f'{baseUrl}'\n",
    "links = []"
   ]
  },
  {
   "cell_type": "markdown",
   "metadata": {
    "collapsed": false,
    "pycharm": {
     "name": "#%% md\n"
    }
   },
   "source": [
    "# Login to DattoRMM"
   ]
  },
  {
   "cell_type": "code",
   "execution_count": null,
   "metadata": {
    "pycharm": {
     "name": "#%%\n"
    }
   },
   "outputs": [],
   "source": [
    "c_driver.get(auth_url)"
   ]
  },
  {
   "cell_type": "code",
   "execution_count": null,
   "metadata": {
    "pycharm": {
     "name": "#%%\n"
    }
   },
   "outputs": [],
   "source": [
    "login_txtbox = c_driver.find_element(\"xpath\", \"//input[@id='form_username']\")"
   ]
  },
  {
   "cell_type": "code",
   "execution_count": null,
   "metadata": {
    "pycharm": {
     "name": "#%%\n"
    }
   },
   "outputs": [],
   "source": [
    "login_txtbox.send_keys((config['dattormm']['username']), Keys.ENTER)"
   ]
  },
  {
   "cell_type": "code",
   "execution_count": null,
   "metadata": {
    "pycharm": {
     "name": "#%%\n"
    }
   },
   "outputs": [],
   "source": [
    "pass_txtbox = c_driver.find_element(\"xpath\", \"//input[@id='form_password']\")\n",
    "pass_txtbox.send_keys((config['dattormm']['password']), Keys.ENTER)"
   ]
  },
  {
   "cell_type": "code",
   "execution_count": null,
   "metadata": {
    "pycharm": {
     "name": "#%%\n"
    }
   },
   "outputs": [],
   "source": [
    "mfa_txtbox = c_driver.find_element(\"id\", \"authy_token\")\n",
    "mfa_token = input()\n",
    "mfa_txtbox.send_keys(mfa_token, Keys.ENTER)  # number entered manually for now /TODO: automate MFA"
   ]
  },
  {
   "cell_type": "markdown",
   "metadata": {
    "collapsed": false,
    "pycharm": {
     "name": "#%% md\n"
    }
   },
   "source": [
    "# Navigate to reports"
   ]
  },
  {
   "cell_type": "code",
   "execution_count": null,
   "metadata": {
    "pycharm": {
     "name": "#%%\n"
    }
   },
   "outputs": [],
   "source": [
    "report_tab_selected = \"completed\""
   ]
  },
  {
   "cell_type": "code",
   "execution_count": null,
   "metadata": {
    "pycharm": {
     "name": "#%%\n"
    }
   },
   "outputs": [],
   "source": [
    "reports_url = f\"{baseUrl}/csm/report/reports?mode={report_tab_selected}\"\n",
    "c_driver.get(reports_url)\n",
    "\n",
    "time.sleep(5)"
   ]
  },
  {
   "cell_type": "code",
   "execution_count": null,
   "metadata": {
    "pycharm": {
     "name": "#%%\n"
    }
   },
   "outputs": [],
   "source": [
    "report_a_list = c_driver.find_elements(\"xpath\", \"//a[contains(text(),'Monthly Report')]\")"
   ]
  },
  {
   "cell_type": "code",
   "execution_count": null,
   "metadata": {
    "pycharm": {
     "name": "#%%\n"
    }
   },
   "outputs": [],
   "source": [
    "datto_role_dropbox = c_driver.find_element(\"xpath\", '//select[@name=\"roles\"]')"
   ]
  },
  {
   "cell_type": "code",
   "execution_count": null,
   "metadata": {
    "pycharm": {
     "name": "#%%\n"
    }
   },
   "outputs": [],
   "source": [
    "select = Select(datto_role_dropbox)"
   ]
  },
  {
   "cell_type": "code",
   "execution_count": null,
   "metadata": {
    "pycharm": {
     "name": "#%%\n"
    }
   },
   "outputs": [],
   "source": [
    "select.select_by_visible_text('administrator')"
   ]
  },
  {
   "cell_type": "code",
   "execution_count": null,
   "metadata": {
    "pycharm": {
     "name": "#%%\n"
    }
   },
   "outputs": [],
   "source": [
    "reports_info_list = True\n",
    "#\n",
    "# try:\n",
    "#     report_tab_selected = \"completed\"\n",
    "#     reports_url = f\"{baseUrl}/csm/report/reports?mode={report_tab_selected}\"\n",
    "#     c_driver.get(reports_url)\n",
    "#     report_a_list = c_driver.find_elements(\"xpath\", \"//a[contains(text(),'Monthly Report')]\")\n",
    "#\n",
    "#     for a in report_a_list:\n",
    "#         report_info = {'title': a.text, 'href': a.get_attribute('href')}\n",
    "#         reports_info_list.append(report_info)\n",
    "# except:\n",
    "#     pass\n",
    "#\n",
    "# # reports_info_list[0]\n",
    "#\n",
    "# counter = 0\n",
    "\n",
    "while reports_info_list:\n",
    "\n",
    "    reports_info_list = []\n",
    "\n",
    "    try:\n",
    "        report_tab_selected = \"completed\"\n",
    "        reports_url = f\"{baseUrl}/csm/report/reports?mode={report_tab_selected}\"\n",
    "        c_driver.get(reports_url)\n",
    "        report_a_list = c_driver.find_elements(\"xpath\", \"//a[contains(text(),'Monthly Report')]\")\n",
    "\n",
    "        for a in report_a_list:\n",
    "            report_info = {'title': a.text, 'href': a.get_attribute('href')}\n",
    "            reports_info_list.append(report_info)\n",
    "    except:\n",
    "        # break\n",
    "        pass\n",
    "\n",
    "    report_config = reports_info_list[0]\n",
    "\n",
    "    # Click on Report and Inside Report\n",
    "    c_driver.get(report_config['href'])\n",
    "\n",
    "    # Select Range as Current Month\n",
    "    try:\n",
    "        current_month_radio = c_driver.find_element(\"xpath\", \"//input[@id='deviceActivityExportCurrentMonth']\")\n",
    "        current_month_radio.send_keys(Keys.SPACE)\n",
    "    except:\n",
    "        # continue\n",
    "        pass\n",
    "\n",
    "    # Change Schedule\n",
    "    change_schedule = c_driver.find_element(\"xpath\", \"//input[@value='Click to change ...']\")\n",
    "    change_schedule.click()\n",
    "\n",
    "    ## Inside Report Schedule find Table Box\n",
    "    schedule_table = c_driver.find_element(\"xpath\", \"//table[@id='schedule']\")\n",
    "\n",
    "    ## Select 'Monthly'\n",
    "    schedule_monthly = schedule_table.find_element(\"xpath\", \".//input[@type='radio' and @id='monthly' and @name='when']\")\n",
    "    schedule_monthly.send_keys(Keys.SPACE)\n",
    "\n",
    "    ## Select 'Month Checkboxes'\n",
    "\n",
    "    ### Find Months Checkboxes > Select if False\n",
    "    month_checkboxes = schedule_table.find_elements(\"xpath\", \".//input[contains(@id,'monthlymonth')]\")\n",
    "    for month_checkbox in month_checkboxes:\n",
    "        # print(month_checkbox.is_selected())\n",
    "        if month_checkbox.is_selected() is False:\n",
    "            month_checkbox.send_keys(Keys.SPACE)\n",
    "\n",
    "    ## Find and compare report day\n",
    "    for report in report_days:\n",
    "        if (report['reportName']) in report_config['title']:\n",
    "            day_of_report = (report['reportExportDay'])\n",
    "\n",
    "    ### Find Days Checkboxes and Check if isSelected() == False\n",
    "    day_checkboxes = schedule_table.find_elements(\"xpath\", \".//input[contains(@id,'monthlyday')]\")\n",
    "    for day_checkbox in day_checkboxes:\n",
    "        # id = day_checkbox.get_attribute('id')\n",
    "        day = (re.match(r'monthlydayNum(\\w+)', day_checkbox.get_attribute('id'))).group(1)\n",
    "        if day == day_of_report:\n",
    "            day_elem = schedule_table.find_element(\"xpath\",f\".//input[@id='monthlydayNum{day}']\")\n",
    "            if day_elem.is_selected() is False:\n",
    "                day_elem.send_keys(Keys.SPACE)\n",
    "\n",
    "    ok_button = schedule_table.find_element(\"xpath\",\".//input[@value='OK' and @type='button']\").send_keys(Keys.SPACE)\n",
    "    recipients_table = c_driver.find_element(\"xpath\",\"//div[@id='reportRecipientDiv']\")\n",
    "\n",
    "\n",
    "    tbody_recipient_list = recipients_table.find_elements(\"xpath\",\".//td\")\n",
    "\n",
    "    box_objects = [\"name\",\"address\",\"action\"]\n",
    "\n",
    "    i = 0\n",
    "    box_info_list = []\n",
    "    box_info = {}\n",
    "    reports_email_present = False\n",
    "    for element in tbody_recipient_list:\n",
    "\n",
    "        if i == 2:\n",
    "            box_info.update({box_objects[i]: element})\n",
    "        else:\n",
    "            box_info.update({box_objects[i]: element.text})\n",
    "            if element.text == \"reports@example.co\":\n",
    "                print(element.text)\n",
    "                reports_email_present = True\n",
    "\n",
    "        i = i + 1\n",
    "        if i >= len(box_objects):\n",
    "            i = 0\n",
    "            box_info_list.append(box_info)\n",
    "            box_info = {}\n",
    "            print(\"*\"*50)\n",
    "\n",
    "    if reports_email_present is False:\n",
    "        raise Exception(\"Reports Email Not Configured\")\n",
    "\n",
    "\n",
    "    save_button = c_driver.find_element(\"xpath\",\"//input[@type='submit' and @value='Save']\")\n",
    "    save_button.click()"
   ]
  },
  {
   "cell_type": "code",
   "execution_count": null,
   "metadata": {
    "pycharm": {
     "name": "#%%\n"
    }
   },
   "outputs": [],
   "source": []
  }
 ],
 "metadata": {
  "kernelspec": {
   "display_name": "Python 3",
   "language": "python",
   "name": "python3"
  },
  "language_info": {
   "codemirror_mode": {
    "name": "ipython",
    "version": 2
   },
   "file_extension": "[REDACTED][REDACTED]/.py",
   "mimetype": "text/x-python",
   "name": "python",
   "nbconvert_exporter": "python",
   "pygments_lexer": "ipython2",
   "version": "2.7.6"
  }
 },
 "nbformat": 4,
 "nbformat_minor": 0
}
