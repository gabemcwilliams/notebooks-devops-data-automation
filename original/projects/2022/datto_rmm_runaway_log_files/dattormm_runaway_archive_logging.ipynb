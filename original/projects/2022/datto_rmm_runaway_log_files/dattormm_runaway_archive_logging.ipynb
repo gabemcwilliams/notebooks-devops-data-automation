{
 "cells": [
  {
   "cell_type": "code",
   "execution_count": null,
   "id": "fd2cfb148eea0557",
   "metadata": {
    "pycharm": {
     "name": "#%%\n"
    }
   },
   "outputs": [],
   "source": "%run .ipynb"
  },
  {
   "cell_type": "code",
   "execution_count": null,
   "id": "bb667a88",
   "metadata": {
    "pycharm": {
     "name": "#%%\n"
    }
   },
   "outputs": [],
   "source": "df = pd.read_csv('.csv')"
  },
  {
   "cell_type": "code",
   "execution_count": null,
   "id": "44511d07",
   "metadata": {
    "pycharm": {
     "name": "#%%\n"
    }
   },
   "outputs": [],
   "source": [
    "d"
   ]
  }
 ],
 "metadata": {
  "kernelspec": {
   "display_name": "Python 3 (ipykernel)",
   "language": "python",
   "name": "python3"
  },
  "language_info": {
   "codemirror_mode": {
    "name": "ipython",
    "version": 3
   },
   "file_extension": "[REDACTED][REDACTED]/.py",
   "mimetype": "text/x-python",
   "name": "python",
   "nbconvert_exporter": "python",
   "pygments_lexer": "ipython3",
   "version": "3.10.4"
  }
 },
 "nbformat": 4,
 "nbformat_minor": 5
}
