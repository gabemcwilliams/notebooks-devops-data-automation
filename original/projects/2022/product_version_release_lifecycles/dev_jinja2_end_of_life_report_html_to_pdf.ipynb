{
 "cells": [
  {
   "cell_type": "markdown",
   "metadata": {
    "collapsed": false,
    "pycharm": {
     "name": "#%% md\n"
    }
   },
   "source": [
    "<h1>Jinja2 - End of Life Report - HTML to PDF</h1>"
   ]
  },
  {
   "cell_type": "code",
   "execution_count": null,
   "metadata": {
    "pycharm": {
     "name": "#%%\n"
    }
   },
   "outputs": [],
   "source": [
    "from jinja2 import Environment, FileSystemLoader\n",
    "\n",
    "# 2. Create a template Environment\n",
    "env = Environment(loader=FileSystemLoader('templates'))\n",
    "\n",
    "# 3. Load the template from the Environment\n",
    "template = env.get_template('report_template.html')\n",
    "\n",
    "# 4. Render the template with variables\n",
    "html = template.render(title=title)\n",
    "\n",
    "# 5. Write the template to an HTML file\n",
    "with open('html_report_jinja.html', 'w') as f:\n",
    "    f.write(html)"
   ]
  },
  {
   "cell_type": "code",
   "execution_count": null,
   "metadata": {
    "pycharm": {
     "name": "#%%\n"
    }
   },
   "outputs": [],
   "source": [
    "page_title_text='My report',\n",
    "                       title_text='Daily S&P 500 prices report',\n",
    "                       text ='Hello, welcome to your report!',\n",
    "                       prices_text='Historical prices of S&P 500',\n",
    "                       stats_text='Historical prices summary statistics',\n",
    "                       sp500_history=sp500_history,\n",
    "                       sp500_history_summary=sp500_history_summary)"
   ]
  },
  {
   "cell_type": "code",
   "execution_count": null,
   "metadata": {
    "pycharm": {
     "name": "#%%\n"
    }
   },
   "outputs": [],
   "source": [
    "from weasyprint import HTML, CSS\n",
    "\n",
    "\n",
    "\n",
    "css = CSS(string='''\n",
    "    @page {size: A4; margin: 1cm;}\n",
    "    th, td {border: 1px solid black;}\n",
    "    ''')\n",
    "HTML('html_report_jinja.html').write_pdf('weasyprint_pdf_report.pdf', stylesheets=[css])"
   ]
  },
  {
   "cell_type": "code",
   "execution_count": null,
   "metadata": {
    "pycharm": {
     "name": "#%%\n"
    }
   },
   "outputs": [],
   "source": []
  }
 ],
 "metadata": {
  "kernelspec": {
   "display_name": "Python 3",
   "language": "python",
   "name": "python3"
  },
  "language_info": {
   "codemirror_mode": {
    "name": "ipython",
    "version": 2
   },
   "file_extension": "[REDACTED][REDACTED]/.py",
   "mimetype": "text/x-python",
   "name": "python",
   "nbconvert_exporter": "python",
   "pygments_lexer": "ipython2",
   "version": "2.7.6"
  }
 },
 "nbformat": 4,
 "nbformat_minor": 0
}
