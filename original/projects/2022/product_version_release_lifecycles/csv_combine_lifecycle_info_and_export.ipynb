{
 "cells": [
  {
   "cell_type": "markdown",
   "metadata": {
    "collapsed": false,
    "pycharm": {
     "name": "#%% md\n"
    }
   },
   "source": [
    "<h1> Import CSV Vendor Exports - Combine and Create Master Product Lifecycle Dict </h1>"
   ]
  },
  {
   "cell_type": "markdown",
   "metadata": {
    "collapsed": false,
    "pycharm": {
     "name": "#%% md\n"
    }
   },
   "source": [
    "# Import Modules and Define Variables"
   ]
  },
  {
   "cell_type": "code",
   "execution_count": null,
   "metadata": {
    "pycharm": {
     "name": "#%%\n"
    }
   },
   "outputs": [],
   "source": [
    "# data import and file manipulation\n",
    "import os\n",
    "import requests\n",
    "import json\n",
    "import csv\n",
    "import xlrd\n",
    "\n",
    "#data conditioning\n",
    "import pandas as pd\n",
    "import numpy as np\n",
    "import re\n",
    "import datetime as dt"
   ]
  },
  {
   "cell_type": "code",
   "execution_count": null,
   "metadata": {
    "pycharm": {
     "name": "#%%\n"
    }
   },
   "outputs": [],
   "source": [
    " # add current timestamp to filename for reference\n",
    "current_time = (dt.datetime.utcnow().strftime('%Y_%m_%d_%H%M%S'))\n",
    "\n",
    "# git repo folder\n",
    "git_folder = 'd:/git/example_infrastructure_data_dev'\n",
    "\n",
    "# dictionary Directory\n",
    "dictionary_dir = 'd:/git/example_infrastructure_data_dev/dictionaries'\n",
    "\n",
    "# source dir for nable exported data\n",
    "source_folder = 'd:/project_docs/abc_nable_migration/abc_nable_exports/patch_management'\n",
    "\n",
    "# export folder will contain all csv exported DataFrames for Ticket Creation\n",
    "export_folder = 'd:/exports'"
   ]
  },
  {
   "cell_type": "markdown",
   "metadata": {
    "collapsed": false,
    "pycharm": {
     "name": "#%% md\n"
    }
   },
   "source": [
    "# Import and Parse Product Lifecycle Dicts"
   ]
  },
  {
   "cell_type": "code",
   "execution_count": null,
   "metadata": {
    "pycharm": {
     "name": "#%%\n"
    }
   },
   "outputs": [],
   "source": [
    "df_wiki_release_info = pd.read_csv(f'{dictionary_dir}/product_lifecycle/wiki_versions.dict')"
   ]
  },
  {
   "cell_type": "code",
   "execution_count": null,
   "metadata": {
    "pycharm": {
     "name": "#%%\n"
    }
   },
   "outputs": [],
   "source": [
    "def buildnum_from_version(version):\n",
    "    try:\n",
    "        result = (re.match(r'Version\\s(\\d+)',version)).group(1)\n",
    "        for index, row in df_wiki_release_info.iterrows():\n",
    "            try:\n",
    "                if result == row['Version']:\n",
    "                    # print(f\"{result} == {row['Version']}\")\n",
    "                    # print(f\"Build number == {row['Build number']}\")\n",
    "                    return row['Build number']\n",
    "                    break\n",
    "            except:\n",
    "                pass\n",
    "    except:\n",
    "        pass"
   ]
  },
  {
   "cell_type": "code",
   "execution_count": null,
   "metadata": {
    "pycharm": {
     "name": "#%%\n"
    }
   },
   "outputs": [],
   "source": [
    "def match_release(row):\n",
    "    try:\n",
    "        product_breakdown = {}\n",
    "        result = re.match(r'^(Windows\\s(XP|7|8[^\\s]+|10|11|Server))([\\s\\d\\w\\.]+)?',row['Product'])\n",
    "        if result:\n",
    "            product_breakdown['productName'] = (result.group(1))\n",
    "            product_breakdown['productVariation'] = result.group(3).lstrip()\n",
    "            if re.match(r'^Windows\\s(XP|7|8[^\\s]+|10|11)',row['Product']):\n",
    "                product_breakdown['shortProductName'] = product_breakdown['productName'] + \" \" + row['Edition']\n",
    "            product_breakdown['fullProductName'] = row['Product']\n",
    "\n",
    "            middle = row[['Edition','Release']].to_dict()\n",
    "\n",
    "            try:\n",
    "                product_breakdown['BuildNumber'] = buildnum_from_version(row['Release'])\n",
    "            except Exception as e:\n",
    "                print(e)\n",
    "\n",
    "            product_breakdown.update(middle)\n",
    "\n",
    "            last = row[['SupportPolicy','StartDate','MainstreamDate','ExtendedEndDate','RetirementDate','ReleaseStartDate','ReleaseEndDate','DocsUrl']].to_dict()\n",
    "            product_breakdown.update(last)\n",
    "\n",
    "            return product_breakdown\n",
    "        else:\n",
    "            pass\n",
    "    except Exception as e:\n",
    "\n",
    "        pass"
   ]
  },
  {
   "cell_type": "code",
   "execution_count": null,
   "metadata": {
    "pycharm": {
     "name": "#%%\n"
    }
   },
   "outputs": [],
   "source": [
    "url = \"https://app-omaha-prod.azurewebsites.net/api/PublishedListings/Export\"\n",
    "df_product_release_info = pd.read_excel(url,skiprows=6)\n",
    "df_product_release_info.fillna('[NA]',inplace=True)"
   ]
  },
  {
   "cell_type": "code",
   "execution_count": null,
   "metadata": {
    "pycharm": {
     "name": "#%%\n"
    }
   },
   "outputs": [],
   "source": [
    "windows_mask = df_product_release_info['Product'].str.contains('^Windows (XP|7|8|8.1|10|11|Server|Server\\s?\\d+?\\s?\\d+?)')\n",
    "\n",
    "df_windows_release_info = df_product_release_info[windows_mask]\n",
    "\n",
    "recombine_list = []\n",
    "\n",
    "for index, row in df_windows_release_info.iterrows():\n",
    "    try:\n",
    "        if match_release(row):\n",
    "            recombine_list.append(match_release(row))\n",
    "    except:\n",
    "        pass\n",
    "\n",
    "df_combined = pd.DataFrame(recombine_list)"
   ]
  },
  {
   "cell_type": "markdown",
   "metadata": {
    "collapsed": false,
    "pycharm": {
     "name": "#%% md\n"
    }
   },
   "source": [
    "### Fix Time to_day"
   ]
  },
  {
   "cell_type": "code",
   "execution_count": null,
   "metadata": {
    "pycharm": {
     "name": "#%%\n"
    }
   },
   "outputs": [],
   "source": [
    "for index, row in df_combined.iterrows():\n",
    "    accumulator = set()\n",
    "    for k,v in row.items():\n",
    "        try:\n",
    "            if type(v) == pd.Timestamp:\n",
    "                accumulator.add(k)\n",
    "            # else:\n",
    "            #     try:\n",
    "            #         dt.datetime.strptime(\"%Y-%m-%dT%H:%M:%S\",v)\n",
    "            #         print(v)\n",
    "            #         if type(v) == pd.Timestamp:\n",
    "            #             accumulator.add(k)\n",
    "            #\n",
    "            #     except:\n",
    "            #         pass\n",
    "        except:\n",
    "            pass\n",
    "\n",
    "date_cols = list(accumulator)\n",
    "print(date_cols)"
   ]
  },
  {
   "cell_type": "code",
   "execution_count": null,
   "metadata": {
    "pycharm": {
     "name": "#%%\n"
    }
   },
   "outputs": [],
   "source": [
    "def time_to_day(date_value):\n",
    "    print(date_value)\n",
    "    try:\n",
    "        if type(date_value) == pd.Timestamp:\n",
    "            print(f\"\\nbefore {date_value}\")\n",
    "            print(f\"after {date_value.to_period('d')}\",\"\\n\",\"*\"*50)\n",
    "            return date_value.to_period('d')\n",
    "        else:\n",
    "            return date_value\n",
    "    except Exception as e:\n",
    "        print(e)\n",
    "        pass"
   ]
  },
  {
   "cell_type": "code",
   "execution_count": null,
   "metadata": {
    "pycharm": {
     "name": "#%%\n"
    }
   },
   "outputs": [],
   "source": [
    "for e in date_cols:\n",
    "    df_combined[e] = df_combined[e].apply(time_to_day)"
   ]
  },
  {
   "cell_type": "code",
   "execution_count": null,
   "metadata": {
    "pycharm": {
     "name": "#%%\n"
    }
   },
   "outputs": [],
   "source": [
    "df_combined"
   ]
  },
  {
   "cell_type": "code",
   "execution_count": null,
   "metadata": {
    "pycharm": {
     "name": "#%%\n"
    }
   },
   "outputs": [],
   "source": []
  }
 ],
 "metadata": {
  "kernelspec": {
   "display_name": "Python 3",
   "language": "python",
   "name": "python3"
  },
  "language_info": {
   "codemirror_mode": {
    "name": "ipython",
    "version": 2
   },
   "file_extension": "[REDACTED][REDACTED]/.py",
   "mimetype": "text/x-python",
   "name": "python",
   "nbconvert_exporter": "python",
   "pygments_lexer": "ipython2",
   "version": "2.7.6"
  }
 },
 "nbformat": 4,
 "nbformat_minor": 0
}
