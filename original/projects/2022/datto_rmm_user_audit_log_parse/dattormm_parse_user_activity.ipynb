{
 "cells": [
  {
   "cell_type": "code",
   "execution_count": null,
   "id": "f70d92e4e2be210",
   "metadata": {
    "pycharm": {
     "name": "#%%\n"
    }
   },
   "outputs": [],
   "source": [
    "import pandas as pd\n",
    "import re"
   ]
  },
  {
   "cell_type": "code",
   "execution_count": null,
   "id": "1ab9784ebe75871d",
   "metadata": {
    "pycharm": {
     "name": "#%%\n"
    }
   },
   "outputs": [],
   "source": [
    "audit_logs_source = open('.txt','r',encoding='utf-8')\n",
    "file = audit_logs_source.read()"
   ]
  },
  {
   "cell_type": "code",
   "execution_count": null,
   "id": "5b72d2333860c07f",
   "metadata": {
    "pycharm": {
     "name": "#%%\n"
    }
   },
   "outputs": [],
   "source": [
    "full_line_prog = re.compile(r'\"(\\d{4}-\\d{2}-\\d{2}\\s\\d{2}:\\d{2}:\\d{2}\\s\\bUTC\\b)\",\"([\\w\\d]{1}\\S*@[^\\.]*\\.[^\\\"\\']{2,5})\",\"(\\d{,4}\\.\\d{,4}\\.\\d{,4}\\.\\d{,4})\",\"([^:]+):([^\"]+)\",\"(.*)\"')"
   ]
  },
  {
   "cell_type": "code",
   "execution_count": null,
   "id": "ef44609564504201",
   "metadata": {
    "pycharm": {
     "name": "#%%\n"
    }
   },
   "outputs": [],
   "source": [
    "parse = list(full_line_prog.findall(file))\n",
    "parse_dict_list = []"
   ]
  },
  {
   "cell_type": "code",
   "execution_count": null,
   "id": "4c3312a96ffad5",
   "metadata": {
    "pycharm": {
     "name": "#%%\n"
    }
   },
   "outputs": [],
   "source": [
    "for item in parse[1:]:\n",
    "    item_dict = {}\n",
    "    list_item = list(item)\n",
    "    item_dict['date'] = list_item[0]\n",
    "    item_dict['username'] = list_item[1]\n",
    "    item_dict['ipAddress'] = list_item[2]\n",
    "    item_dict['group'] = list_item[3]\n",
    "    item_dict['groupAction'] = list_item[4]\n",
    "    item_dict['details'] = list_item[5]\n",
    "\n",
    "    parse_dict_list.append(item_dict)"
   ]
  },
  {
   "cell_type": "code",
   "execution_count": null,
   "id": "17e6c6a824e07c0c",
   "metadata": {
    "pycharm": {
     "name": "#%%\n"
    }
   },
   "outputs": [],
   "source": [
    "df = pd.DataFrame(parse_dict_list)"
   ]
  },
  {
   "cell_type": "code",
   "execution_count": null,
   "id": "6f150e3f4ac83de8",
   "metadata": {
    "pycharm": {
     "name": "#%%\n"
    }
   },
   "outputs": [],
   "source": [
    "df[(df['username'] == 'gmcwilliams@example.co')]"
   ]
  },
  {
   "cell_type": "code",
   "execution_count": null,
   "id": "3cfe640f784239ef",
   "metadata": {
    "pycharm": {
     "name": "#%%\n"
    }
   },
   "outputs": [],
   "source": [
    "[type:system, policyId:236118, policyName:dev_Monitoring Policy]"
   ]
  }
 ],
 "metadata": {
  "kernelspec": {
   "display_name": "Python 3 (ipykernel)",
   "language": "python",
   "name": "python3"
  },
  "language_info": {
   "codemirror_mode": {
    "name": "ipython",
    "version": 3
   },
   "file_extension": "[REDACTED][REDACTED]/.py",
   "mimetype": "text/x-python",
   "name": "python",
   "nbconvert_exporter": "python",
   "pygments_lexer": "ipython3",
   "version": "3.10.4"
  }
 },
 "nbformat": 4,
 "nbformat_minor": 5
}
