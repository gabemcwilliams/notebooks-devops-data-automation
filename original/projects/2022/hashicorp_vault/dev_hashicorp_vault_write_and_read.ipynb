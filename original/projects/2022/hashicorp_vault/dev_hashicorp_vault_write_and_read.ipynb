{
 "cells": [
  {
   "cell_type": "code",
   "execution_count": null,
   "metadata": {
    "pycharm": {
     "name": "#%%\n"
    }
   },
   "outputs": [],
   "source": [
    "import hvac\n",
    "import os\n",
    "\n",
    "client = hvac.Client(\n",
    "\n",
    "    url='https://localhost:8200',\n",
    "\n",
    "    token=os.environ['VAULT_TOKEN'],\n",
    "\n",
    "    cert=(client_cert_path, client_key_path),\n",
    "\n",
    "    verify=server_cert_path,\n",
    "\n",
    ")\n",
    "\n",
    "client.is_authenticated()"
   ]
  },
  {
   "cell_type": "code",
   "execution_count": null,
   "metadata": {
    "pycharm": {
     "name": "#%%\n"
    }
   },
   "outputs": [],
   "source": []
  }
 ],
 "metadata": {
  "kernelspec": {
   "display_name": "Python 3",
   "language": "python",
   "name": "python3"
  },
  "language_info": {
   "codemirror_mode": {
    "name": "ipython",
    "version": 2
   },
   "file_extension": "[REDACTED][REDACTED]/.py",
   "mimetype": "text/x-python",
   "name": "python",
   "nbconvert_exporter": "python",
   "pygments_lexer": "ipython2",
   "version": "2.7.6"
  }
 },
 "nbformat": 4,
 "nbformat_minor": 0
}
