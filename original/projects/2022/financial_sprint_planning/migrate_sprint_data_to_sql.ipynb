{
 "cells": [
  {
   "cell_type": "code",
   "execution_count": null,
   "metadata": {
    "pycharm": {
     "name": "#%%\n"
    }
   },
   "outputs": [],
   "source": [
    "# -----------------------------------------------------------------------------------------------\n",
    "# Title: Module - Migrate Archived Sprint Data to SQL\n",
    "# Author: Gabe McWilliams\n",
    "# Purpose: Migrate Sprint Data to SQL\n",
    "# Date of Creation: 2023/02/09\n",
    "# Version 1.0\n",
    "# -----------------------------------------------------------------------------------------------\n",
    "\n",
    "\n",
    "# data import and file manipulation\n",
    "import requests\n",
    "from requests.structures import CaseInsensitiveDict\n",
    "import json\n",
    "import pandas as pd\n",
    "import datetime as dt\n",
    "import re\n",
    "\n",
    "# sql driver\n",
    "import pyodbc"
   ]
  },
  {
   "cell_type": "code",
   "execution_count": null,
   "metadata": {
    "pycharm": {
     "name": "#%%\n"
    }
   },
   "outputs": [],
   "source": [
    "# def __init__(self, env_file=\"d:/git/config/env.ini\",\n",
    "parse_dictionaries_dir = \"D:/Git/data_parsing/dictionaries\"\n",
    "# __env_file = env_file\n",
    "env_file = f'D:/Git/config/env.ini'\n",
    "# self.__parse_dictionaries_dir = parse_dictionaries_dir\n",
    "report_creation_date = dt.datetime.utcnow().strftime('%Y-%m-%d %H:%M:%S')\n",
    "# self.__config_dict = self.__create_config_vars__()\n",
    "# self.__monitor_history_age = 7\n",
    "\n",
    "# def __create_config_vars__(self):\n",
    "# import configparser for env secrets\n",
    "from configparser import ConfigParser\n",
    "\n",
    "config = ConfigParser()\n",
    "config.read(env_file)\n",
    "\n",
    "# import and assign secrets from env.ini\n",
    "mssql_dict = {\"username\": config[\"sqlserver2019\"][\"username\"],\n",
    "               \"password\": config[\"sqlserver2019\"][\"password\"],\n",
    "               \"instance\": config[\"sqlserver2019\"][\"instance\"]\n",
    "               }"
   ]
  },
  {
   "cell_type": "code",
   "execution_count": null,
   "metadata": {
    "pycharm": {
     "name": "#%%\n"
    }
   },
   "outputs": [],
   "source": [
    "import pyodbc\n",
    "# Some other example server values are\n",
    "# server = 'localhost\\sqlexpress' # for a named instance\n",
    "# server = 'myserver,port' # to specify an alternate port\n",
    "server = 'tcp:localhost'\n",
    "database = 'project_management'\n",
    "username = mssql_dict['username']\n",
    "password = mssql_dict['password']\n",
    "# ENCRYPT defaults to yes starting in ODBC Driver 18. It's good to always specify ENCRYPT=yes on the client side to avoid MITM attacks.\n",
    "cnxn = pyodbc.connect('DRIVER={ODBC Driver 18 for SQL Server};SERVER='+server+';DATABASE='+database+';ENCRYPT=no;UID='+username+';PWD='+ password)\n",
    "cursor = cnxn.cursor()"
   ]
  },
  {
   "cell_type": "code",
   "execution_count": null,
   "metadata": {
    "pycharm": {
     "name": "#%%\n"
    }
   },
   "outputs": [],
   "source": []
  },
  {
   "cell_type": "code",
   "execution_count": null,
   "metadata": {
    "pycharm": {
     "name": "#%%\n"
    }
   },
   "outputs": [],
   "source": []
  }
 ],
 "metadata": {
  "kernelspec": {
   "display_name": "Python 3",
   "language": "python",
   "name": "python3"
  },
  "language_info": {
   "codemirror_mode": {
    "name": "ipython",
    "version": 2
   },
   "file_extension": "[REDACTED][REDACTED]/.py",
   "mimetype": "text/x-python",
   "name": "python",
   "nbconvert_exporter": "python",
   "pygments_lexer": "ipython2",
   "version": "2.7.6"
  }
 },
 "nbformat": 4,
 "nbformat_minor": 0
}
