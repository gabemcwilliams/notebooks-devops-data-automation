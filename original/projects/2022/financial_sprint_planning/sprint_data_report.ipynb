{
 "cells": [
  {
   "cell_type": "markdown",
   "metadata": {
    "collapsed": false,
    "pycharm": {
     "name": "#%% md\n"
    }
   },
   "source": [
    "<h1>Sprint, Teamwork, Financial - Matchup and Data Analysis</h1>"
   ]
  },
  {
   "cell_type": "markdown",
   "metadata": {
    "collapsed": false,
    "pycharm": {
     "name": "#%% md\n"
    }
   },
   "source": [
    "# Prepare for Workflow"
   ]
  },
  {
   "cell_type": "markdown",
   "metadata": {
    "collapsed": false,
    "pycharm": {
     "name": "#%% md\n"
    }
   },
   "source": [
    "## Import Modules"
   ]
  },
  {
   "cell_type": "code",
   "execution_count": null,
   "metadata": {
    "pycharm": {
     "name": "#%%\n"
    }
   },
   "outputs": [],
   "source": [
    "import json\n",
    "\n",
    "from ts_standard_naming import std_naming\n",
    "\n",
    "#data conditioning\n",
    "\n",
    "import pandas as pd\n",
    "import re\n",
    "import datetime as dt"
   ]
  },
  {
   "cell_type": "markdown",
   "metadata": {
    "collapsed": false,
    "pycharm": {
     "name": "#%% md\n"
    }
   },
   "source": [
    "## Set Variables"
   ]
  },
  {
   "cell_type": "markdown",
   "metadata": {
    "collapsed": false,
    "pycharm": {
     "name": "#%% md\n"
    }
   },
   "source": [
    "### Base Variables for I/O"
   ]
  },
  {
   "cell_type": "code",
   "execution_count": null,
   "metadata": {
    "pycharm": {
     "name": "#%%\n"
    }
   },
   "outputs": [],
   "source": [
    "\n",
    "# add current timestamp to filename for reference\n",
    "current_time = (dt.datetime.utcnow().strftime('%Y_%m_%d_%H%M%S'))\n",
    "\n",
    "# git repo folder\n",
    "git_dir = 'd:/git'\n",
    "\n",
    "# dictionary location\n",
    "dict_dir = f'{git_dir}/data_parsing/dictionaries'\n",
    "\n",
    "# export folder will contain all csv exported DataFrames for Ticket Creation\n",
    "export_folder = 'd:/exports/'\n",
    "\n",
    "data_set_dir = \"d:/data_sets/sprint_financial_reports\"\n",
    "\n"
   ]
  },
  {
   "cell_type": "markdown",
   "metadata": {
    "collapsed": false,
    "pycharm": {
     "name": "#%% md\n"
    }
   },
   "source": [
    "### File Locaitons"
   ]
  },
  {
   "cell_type": "code",
   "execution_count": null,
   "metadata": {
    "pycharm": {
     "name": "#%%\n"
    }
   },
   "outputs": [],
   "source": [
    "sprint_file = f'{data_set_dir}/master_sprint_planning_test_data.xlsx'\n",
    "teamwork_file = f'{data_set_dir}[REDACTED]/.csv'\n",
    "unearned_rev_file = f'{data_set_dir}/Unearned Project Rev 10.31.22.xlsx'"
   ]
  },
  {
   "cell_type": "markdown",
   "metadata": {
    "collapsed": false,
    "pycharm": {
     "name": "#%% md\n"
    }
   },
   "source": [
    "# Shaping Functions"
   ]
  },
  {
   "cell_type": "markdown",
   "metadata": {
    "collapsed": false,
    "pycharm": {
     "name": "#%% md\n"
    }
   },
   "source": [
    "## Client Renaming"
   ]
  },
  {
   "cell_type": "code",
   "execution_count": null,
   "metadata": {
    "pycharm": {
     "name": "#%%\n"
    }
   },
   "outputs": [],
   "source": [
    "# This is a module I made for adjusting names, but I've put it in this manually so it wont need to be installed or imported for now\n",
    "\n",
    "class NameShaping:\n",
    "    def __init__(self, dictionary_source=\"\"):\n",
    "        # print('initializing Reshape')\n",
    "\n",
    "        self.dictionary_source = dictionary_source\n",
    "\n",
    "        # create client_rename_dict\n",
    "        def __create_client_rename_dict__():\n",
    "            # print('Starting _create_client_rename_dict')\n",
    "            df = pd.read_parquet(f'{self.dictionary_source}/standard_client_names.parquet')\n",
    "            client_rename_dict = {}\n",
    "            for index, row in df.iterrows():\n",
    "                previous_name = row['[REDACTED]']\n",
    "                current_name = row['currentName']\n",
    "                client_rename_dict[previous_name] = current_name\n",
    "            return client_rename_dict\n",
    "\n",
    "        self.client_rename_dict = __create_client_rename_dict__()\n",
    "\n",
    "    def std_client_names_rename(self, string=\"\"):\n",
    "        for k, v in self.client_rename_dict.items():\n",
    "            try:\n",
    "                if k.lower() == string.lower():\n",
    "                    return v\n",
    "                elif k.lower() == string[:len(k)].lower():\n",
    "                    return v\n",
    "\n",
    "                result = re.sub(k.lower(), v, string.lower())\n",
    "\n",
    "                if (result != string.lower()) & (len(k) <= 4):\n",
    "                    if (len(string) == len(k)) | (k == string[:len(k)]):\n",
    "                        return v\n",
    "\n",
    "                elif (result != string.lower()) & (len(k) > 4):\n",
    "                    return v\n",
    "\n",
    "            except Exception as e:\n",
    "                break\n",
    "        return string\n",
    "\n",
    "    @staticmethod\n",
    "    def reword_credit_union(string=''):\n",
    "        cu_reword_dict = {'Federal Credit Union': 'FCU', 'Credit Union': 'CU'}\n",
    "        for k, v in cu_reword_dict.items():\n",
    "            result = re.sub(k, v, string)\n",
    "            if result != string:\n",
    "                return result\n",
    "\n",
    "        return string\n",
    "\n",
    "    @staticmethod\n",
    "    def rename_members_first_cu(string):\n",
    "        if string == 'Example CU':\n",
    "            return 'Example 1st CU'\n",
    "        else:\n",
    "            return string\n"
   ]
  },
  {
   "cell_type": "markdown",
   "metadata": {
    "collapsed": false,
    "pycharm": {
     "name": "#%% md\n"
    }
   },
   "source": [
    "## Parse and Categorize by Client Name"
   ]
  },
  {
   "cell_type": "code",
   "execution_count": null,
   "metadata": {
    "pycharm": {
     "name": "#%%\n"
    }
   },
   "outputs": [],
   "source": [
    "def parse_sprint_client_name(string, col_name):\n",
    "    try:\n",
    "        result = re.match(r'^((\\w+)\\s?-\\s?)?([\\w\\s|]+)', string)\n",
    "\n",
    "        # SCOPE COLUMN PARSE FUNCTIONS\n",
    "\n",
    "        if col_name == 'scope':\n",
    "            if result.group(3).lower() in ['all clients', 'all client']:\n",
    "                return 'All Client'\n",
    "            elif result.group(3).lower() == 'Example Co.':\n",
    "                return 'Internal'\n",
    "            else:\n",
    "                return \"Client\"\n",
    "\n",
    "        # IS 360 PROJECT PARSE\n",
    "\n",
    "        elif col_name == 'department':\n",
    "            group = 2\n",
    "            # print(f'group {group}: {result.group(group)}')\n",
    "            if result.group(2) == \"360\":\n",
    "                # print(f\"360: {string}\")\n",
    "                return \"360\"\n",
    "            elif result.group(3).lower() == 'Example Co.':\n",
    "                return \"Internal\"\n",
    "            else:\n",
    "                return \"Example Co.\"\n",
    "\n",
    "        # PARSE CLIENT NAME\n",
    "\n",
    "        elif col_name == 'client':\n",
    "            # print(f'original: {string}')\n",
    "            # print(f'Client Name: {result.group(3)}')\n",
    "            return result.group(3)\n",
    "\n",
    "    except Exception as e:\n",
    "        pass"
   ]
  },
  {
   "cell_type": "markdown",
   "metadata": {
    "collapsed": false,
    "pycharm": {
     "name": "#%% md\n"
    }
   },
   "source": [
    "## Users Rename"
   ]
  },
  {
   "cell_type": "code",
   "execution_count": null,
   "metadata": {
    "pycharm": {
     "name": "#%%\n"
    }
   },
   "outputs": [],
   "source": [
    "df = pd.read_parquet(f\"{dict_dir}/ts_user_info.parquet\")\n",
    "user_dict = df.to_dict(orient=\"records\")\n",
    "\n",
    "\n",
    "def std_user_names_rename(string=\"\"):\n",
    "    for e in user_dict:\n",
    "        try:\n",
    "            if e['currentName'].lower() == string.lower():\n",
    "                return e['fullName']\n",
    "            elif e['firstName'].lower == string.lower():\n",
    "                return e['fullName']\n",
    "            elif e['lastName'].lower() == string.lower():\n",
    "                return e['fullName']\n",
    "            elif e['fullName'].lower() == string.lower():\n",
    "                return e['fullName']\n",
    "\n",
    "        except Exception as e:\n",
    "            # print(f'Original String: {string}\\nException: {e}')\n",
    "            pass"
   ]
  },
  {
   "cell_type": "markdown",
   "metadata": {
    "collapsed": false,
    "pycharm": {
     "name": "#%% md\n"
    }
   },
   "source": [
    "## Strip out Client name from Description or Title"
   ]
  },
  {
   "cell_type": "code",
   "execution_count": null,
   "metadata": {
    "pycharm": {
     "name": "#%%\n"
    }
   },
   "outputs": [],
   "source": [
    "def strip_client_name(row):\n",
    "    string = row['Project']\n",
    "\n",
    "    print(f'Original String: {string.lower()}')\n",
    "\n",
    "    replacement = (re.sub('[:|,\\s\\t]', \" \", string)).rstrip()\n",
    "    print(f'First Replacement value: {replacement}')\n",
    "\n",
    "    for e in client_rename_dict:\n",
    "        try:\n",
    "            if len(e['[REDACTED]']) >= 5:\n",
    "                if e['[REDACTED]'].lower() in replacement.lower():\n",
    "                    # print(f\"key found: {e['[REDACTED]'].lower()}\")\n",
    "                    replacement = re.sub(e['[REDACTED]'].lower(), e['currentName'].lower(), replacement.lower())\n",
    "                    print(f'Second Replacement value: {replacement}')\n",
    "                    break\n",
    "        except Exception as e:\n",
    "            print(e)\n",
    "\n",
    "    replacement = re.sub(\"(360|[NnSs][[Oo]cC])\", \"\", replacement.lower())\n",
    "    print(f'Third Replacement value: {replacement}')\n",
    "\n",
    "    client = row['clientName'].lower()\n",
    "    print(f\"Client Name: {client}\")\n",
    "\n",
    "    print(replacement.find(' - '))\n",
    "\n",
    "    if replacement.find(' - ') >= 0:\n",
    "        replacement = replacement[replacement.find(' - '):]\n",
    "\n",
    "    client_name_list = re.findall(r\"(\\w+)\\s?\", client)\n",
    "    print(f\"Client Name: {client_name_list}\")\n",
    "\n",
    "    for word in client_name_list:\n",
    "        replacement = re.sub(word.lower(), \"\", replacement.lower())\n",
    "\n",
    "    print(f'Fourth Replacement value: {replacement}')\n",
    "\n",
    "    replacement = re.sub(r\"\\w+\\s+?-\\s+?\", \"\", replacement.lower())\n",
    "    print(f'Fifth Replacement value: {replacement}')\n",
    "\n",
    "    replacement = re.sub(\"\\s{2,}\", \" \", replacement.lower())\n",
    "    replacement = re.sub(\"\\s+?-?\\s+?\", \" \", replacement.lower())\n",
    "    replacement = re.sub(\"-\", \" \", replacement.lower())\n",
    "    replacement = replacement.lstrip().rstrip()\n",
    "    print(f'Sixth Replacement value: {replacement}')\n",
    "\n",
    "    replacement = replacement.title()\n",
    "    print(f'Final Replacement value: {replacement}')\n",
    "    print(\"*\" * 50 + \"\\n\")\n",
    "\n",
    "    return replacement"
   ]
  },
  {
   "cell_type": "markdown",
   "metadata": {
    "collapsed": false,
    "pycharm": {
     "name": "#%% md\n"
    }
   },
   "source": [
    "## Parse Action"
   ]
  },
  {
   "cell_type": "code",
   "execution_count": null,
   "metadata": {
    "pycharm": {
     "name": "#%%\n"
    }
   },
   "outputs": [],
   "source": [
    "project_names_dict = pd.read_parquet(f'{dict_dir}/project_names.parquet').to_dict(orient='records')"
   ]
  },
  {
   "cell_type": "code",
   "execution_count": null,
   "metadata": {
    "pycharm": {
     "name": "#%%\n"
    }
   },
   "outputs": [],
   "source": [
    "def parse_action(string=\"\"):\n",
    "    for e in project_names_dict:\n",
    "        try:\n",
    "            if e['keyword'].lower() == string.lower():\n",
    "                return e['stdAction']\n",
    "            elif e['keyword'].lower() in string.lower():\n",
    "                return e['stdAction']\n",
    "\n",
    "        except Exception as e:\n",
    "            print(f'Original String: {string}\\nException: {e}')\n",
    "            pass"
   ]
  },
  {
   "cell_type": "markdown",
   "metadata": {
    "collapsed": false,
    "pycharm": {
     "name": "#%% md\n"
    }
   },
   "source": [
    "## Parse Service"
   ]
  },
  {
   "cell_type": "code",
   "execution_count": null,
   "metadata": {
    "pycharm": {
     "name": "#%%\n"
    }
   },
   "outputs": [],
   "source": [
    "\n",
    "def parse_service(row):\n",
    "    # service\n",
    "    service = \"\"\n",
    "\n",
    "    try:\n",
    "        service = re.sub(row['Action'].lower(), \"\", row['Objective'].lower())\n",
    "    except:\n",
    "        pass\n",
    "\n",
    "    if service == \"\":\n",
    "        service = str(row['department']) + \" \" + str(row['Action'])\n",
    "\n",
    "        service = re.sub(r'(noc|soc)',\"\",service)\n",
    "        service = re.sub(r'\\s?-\\s?',\"\", service)\n",
    "        service = re.sub(r'\\s{2,}',\" \",service)\n",
    "\n",
    "    return service.lower()"
   ]
  },
  {
   "cell_type": "markdown",
   "metadata": {
    "collapsed": false,
    "pycharm": {
     "name": "#%% md\n"
    }
   },
   "source": [
    "## Break up POD Goals"
   ]
  },
  {
   "cell_type": "code",
   "execution_count": null,
   "metadata": {
    "pycharm": {
     "name": "#%%\n"
    }
   },
   "outputs": [],
   "source": [
    "i = 0\n",
    "def breakup_pod_goals(string):\n",
    "\n",
    "    string = re.sub(r'\\n{2,}', '\\n', string)\n",
    "    results = re.findall(r'([^\\n]+)\\n?', str(string))\n",
    "\n",
    "    # Create returnable row\n",
    "    row = {}\n",
    "\n",
    "    if len(results) == 2:\n",
    "        row['Week 1 - Goals'] = re.sub(r'Week\\s\\d:\\s',\"\",results[0])\n",
    "        row['Week 2 - Goals'] = re.sub(r'Week\\s\\d:\\s',\"\",results[1])\n",
    "    elif len(results) == 1:\n",
    "        row['Week 1 - Goals'] = re.sub(r'Week\\s\\d:\\s',\"\",results[0])\n",
    "        row['Week 2 - Goals'] = re.sub(r'Week\\s\\d:\\s',\"\",results[0])\n",
    "    else:\n",
    "        row['Week 1 - Goals'] = \"\"\n",
    "        row['Week 2 - Goals'] = \"\"\n",
    "\n",
    "    return row"
   ]
  },
  {
   "cell_type": "markdown",
   "metadata": {
    "collapsed": false,
    "pycharm": {
     "name": "#%% md\n"
    }
   },
   "source": [
    "# Shaping Algorythums\n",
    "## Teamwork"
   ]
  },
  {
   "cell_type": "code",
   "execution_count": null,
   "metadata": {
    "pycharm": {
     "name": "#%%\n"
    }
   },
   "outputs": [],
   "source": [
    "# Create shaper class\n",
    "shaper = NameShaping(\"D:\\Git\\data_parsing\\dictionaries\")"
   ]
  },
  {
   "cell_type": "code",
   "execution_count": null,
   "metadata": {
    "pycharm": {
     "name": "#%%\n"
    }
   },
   "outputs": [],
   "source": [
    "# Import teamwork portal export\n",
    "df_teamwork = pd.read_csv(teamwork_file, encoding='latin1', index_col=False)"
   ]
  },
  {
   "cell_type": "code",
   "execution_count": null,
   "metadata": {
    "pycharm": {
     "name": "#%%\n"
    }
   },
   "outputs": [],
   "source": [
    "df_teamwork['reword_cn'] = df_teamwork['Company'].apply(shaper.reword_credit_union)"
   ]
  },
  {
   "cell_type": "code",
   "execution_count": null,
   "metadata": {
    "pycharm": {
     "name": "#%%\n"
    }
   },
   "outputs": [],
   "source": [
    "# Parse Client Names column identifying data and create columns\n",
    "df_teamwork['clientName'] = df_teamwork['reword_cn'].apply(parse_sprint_client_name, args=['client'])\n",
    "df_teamwork['scope'] = df_teamwork['reword_cn'].apply(parse_sprint_client_name, args=['scope'])\n",
    "df_teamwork['department'] = df_teamwork['reword_cn'].apply(parse_sprint_client_name, args=['department'])"
   ]
  },
  {
   "cell_type": "code",
   "execution_count": null,
   "metadata": {
    "pycharm": {
     "name": "#%%\n"
    }
   },
   "outputs": [],
   "source": [
    "df_teamwork['shaped_cn'] = df_teamwork['clientName'].apply(shaper.std_client_names_rename)"
   ]
  },
  {
   "cell_type": "code",
   "execution_count": null,
   "metadata": {
    "pycharm": {
     "name": "#%%\n"
    }
   },
   "outputs": [],
   "source": [
    "df_teamwork['fullName'] = df_teamwork['Who'].apply(std_user_names_rename)"
   ]
  },
  {
   "cell_type": "code",
   "execution_count": null,
   "metadata": {
    "pycharm": {
     "name": "#%%\n"
    }
   },
   "outputs": [],
   "source": [
    "client_rename_dict = pd.read_parquet(f'{dict_dir}/standard_client_names.parquet').to_dict(orient='records')"
   ]
  },
  {
   "cell_type": "code",
   "execution_count": null,
   "metadata": {
    "pycharm": {
     "name": "#%%\n"
    }
   },
   "outputs": [],
   "source": [
    "df_teamwork['Objective'] = \"\""
   ]
  },
  {
   "cell_type": "code",
   "execution_count": null,
   "metadata": {
    "pycharm": {
     "name": "#%%\n"
    }
   },
   "outputs": [],
   "source": [
    "client_rename_dict = sorted(client_rename_dict, key=lambda d: len(d['[REDACTED]']), reverse=True)"
   ]
  },
  {
   "cell_type": "code",
   "execution_count": null,
   "metadata": {
    "pycharm": {
     "name": "#%%\n"
    }
   },
   "outputs": [],
   "source": [
    "for index, row in df_teamwork.iterrows():\n",
    "    stripped_project = strip_client_name(row)\n",
    "    df_teamwork['Objective'].iloc[index] = stripped_project"
   ]
  },
  {
   "cell_type": "code",
   "execution_count": null,
   "metadata": {
    "pycharm": {
     "name": "#%%\n"
    }
   },
   "outputs": [],
   "source": [
    "df_teamwork['Action'] = df_teamwork['Objective'].apply(parse_action)"
   ]
  },
  {
   "cell_type": "code",
   "execution_count": null,
   "metadata": {
    "pycharm": {
     "name": "#%%\n"
    }
   },
   "outputs": [],
   "source": [
    "df_teamwork['Service'] = \"\"\n",
    "for index, row in df_teamwork.iterrows():\n",
    "    service = parse_service(row)\n",
    "    df_teamwork['Service'].iloc[index] = service"
   ]
  },
  {
   "cell_type": "code",
   "execution_count": null,
   "metadata": {
    "pycharm": {
     "name": "#%%\n"
    }
   },
   "outputs": [],
   "source": [
    "# Drop original columns and replace with shapped and parsed columns\n",
    "df_teamwork.drop(\n",
    "    ['Company', 'clientName', 'Who', 'Tags', 'Invoice Number', 'Estimated', 'Estimated Minutes', 'Estimated Hours', ],\n",
    "    axis=1, inplace=True)\n",
    "client_name = df_teamwork.pop('shaped_cn')\n",
    "df_teamwork.insert(0, 'Client Name', client_name)\n",
    "scope = df_teamwork.pop('scope')\n",
    "df_teamwork.insert(1, 'Scope', scope)\n",
    "department = df_teamwork.pop('department')\n",
    "df_teamwork.insert(2, 'Department', department)\n",
    "department = df_teamwork.pop('fullName')\n",
    "df_teamwork.insert(3, 'Resource Name', department)\n",
    "objective = df_teamwork.pop('Objective')\n",
    "df_teamwork.insert(4, 'Objective', objective)\n",
    "action = df_teamwork.pop('Action')\n",
    "df_teamwork.insert(5, 'Action', action)\n",
    "service = df_teamwork.pop('Service')\n",
    "df_teamwork.insert(6, 'Service', service)\n",
    "df_teamwork.drop('reword_cn', axis=1, inplace=True)"
   ]
  },
  {
   "cell_type": "markdown",
   "metadata": {
    "collapsed": false,
    "pycharm": {
     "name": "#%% md\n"
    }
   },
   "source": [
    "### Break Up Time into Weeks and Filter"
   ]
  },
  {
   "cell_type": "markdown",
   "metadata": {
    "collapsed": false,
    "pycharm": {
     "name": "#%% md\n"
    }
   },
   "source": [
    "### Time Frame"
   ]
  },
  {
   "cell_type": "code",
   "execution_count": null,
   "metadata": {
    "pycharm": {
     "name": "#%%\n"
    }
   },
   "outputs": [],
   "source": [
    "week_1_start = dt.datetime.strptime(\"2022/12/18\", \"%Y/%m/%d\")\n",
    "week_2_end = dt.datetime.strptime(\"2023/01/01\", \"%Y/%m/%d\")"
   ]
  },
  {
   "cell_type": "markdown",
   "metadata": {
    "collapsed": false,
    "pycharm": {
     "name": "#%% md\n"
    }
   },
   "source": [
    "#### Find First Day of Sprint"
   ]
  },
  {
   "cell_type": "code",
   "execution_count": null,
   "metadata": {
    "pycharm": {
     "name": "#%%\n"
    }
   },
   "outputs": [],
   "source": [
    "df_teamwork['Date'].min()\n",
    "today = dt.date.today()\n",
    "monday = today + dt.timedelta(days=-today.weekday())\n",
    "dt.date.strftime(monday, \"%Y/%m/%d\")"
   ]
  },
  {
   "cell_type": "raw",
   "metadata": {
    "collapsed": false,
    "pycharm": {
     "name": "#%% raw\n"
    }
   },
   "source": [
    "first_entry = df_teamwork['Date'].min()\n",
    "previous_monday = today + dt.timedelta(days=-today.weekday())\n",
    "dt.date.strftime(monday, \"%Y/%m/%d\")\n",
    "\n",
    "def sprint_week_from_monday(datetime):\n",
    "\n",
    "\n",
    "\n"
   ]
  },
  {
   "cell_type": "markdown",
   "metadata": {
    "collapsed": false,
    "pycharm": {
     "name": "#%% md\n"
    }
   },
   "source": [
    "#### Filter by Time Window"
   ]
  },
  {
   "cell_type": "code",
   "execution_count": null,
   "metadata": {
    "pycharm": {
     "name": "#%%\n"
    }
   },
   "outputs": [],
   "source": [
    "df_teamwork[['Date/Time', 'End Date/Time']] = df_teamwork[['Date/Time', 'End Date/Time']].apply(pd.to_datetime)"
   ]
  },
  {
   "cell_type": "code",
   "execution_count": null,
   "metadata": {
    "pycharm": {
     "name": "#%%\n"
    }
   },
   "outputs": [],
   "source": [
    "sprint_start = df_teamwork['Date/Time'] > week_1_start\n",
    "sprint_end = df_teamwork['End Date/Time'] > week_1_start"
   ]
  },
  {
   "cell_type": "code",
   "execution_count": null,
   "metadata": {
    "pycharm": {
     "name": "#%%\n"
    }
   },
   "outputs": [],
   "source": [
    "df_teamwork = df_teamwork[sprint_start & sprint_end]"
   ]
  },
  {
   "cell_type": "code",
   "execution_count": null,
   "metadata": {
    "pycharm": {
     "name": "#%%\n"
    }
   },
   "outputs": [],
   "source": [
    "df_teamwork_client = df_teamwork[df_teamwork['Scope'] == 'Client']"
   ]
  },
  {
   "cell_type": "markdown",
   "metadata": {
    "collapsed": false,
    "pycharm": {
     "name": "#%% md\n"
    }
   },
   "source": [
    "#### Seperate out days of the week"
   ]
  },
  {
   "cell_type": "code",
   "execution_count": null,
   "metadata": {
    "pycharm": {
     "name": "#%%\n"
    }
   },
   "outputs": [],
   "source": [
    "def day_of_week(datetime):\n",
    "    return dt.datetime.strftime(datetime, '%A')"
   ]
  },
  {
   "cell_type": "code",
   "execution_count": null,
   "metadata": {
    "pycharm": {
     "name": "#%%\n"
    }
   },
   "outputs": [],
   "source": [
    "df_teamwork['Date'] = df_teamwork['Date'].apply(pd.to_datetime)"
   ]
  },
  {
   "cell_type": "code",
   "execution_count": null,
   "metadata": {
    "pycharm": {
     "name": "#%%\n"
    }
   },
   "outputs": [],
   "source": [
    "df_teamwork['Day of Week'] = df_teamwork['Date'].apply(day_of_week)"
   ]
  },
  {
   "cell_type": "code",
   "execution_count": null,
   "metadata": {
    "pycharm": {
     "name": "#%%\n"
    }
   },
   "outputs": [],
   "source": [
    "df_teamwork['Day of Week'] = df_teamwork['Date'].apply(lambda x: dt.datetime.strftime(x, '%A'))"
   ]
  },
  {
   "cell_type": "markdown",
   "metadata": {
    "collapsed": false,
    "pycharm": {
     "name": "#%% md\n"
    }
   },
   "source": [
    "## Sprint Doc"
   ]
  },
  {
   "cell_type": "code",
   "execution_count": null,
   "metadata": {
    "pycharm": {
     "name": "#%%\n"
    }
   },
   "outputs": [],
   "source": [
    "import os\n",
    "import datetime\n",
    "\n",
    "\n",
    "def AddTime(source_file):\n",
    "    source_mfdate = 'Source Modified Date'\n",
    "    source_crdate = 'Source Creation Date'\n",
    "    source_fn = 'Source Filename'\n",
    "\n",
    "    # Both the variables would contain time\n",
    "    # elapsed since EPOCH in float\n",
    "    ti_c = os.path.getctime(source_file)\n",
    "    ti_m = os.path.getmtime(source_file)\n",
    "    fi_n = os.path.basename(source_file)\n",
    "\n",
    "    # Converting the time in seconds to UTC datetime\n",
    "    c_ti = datetime.datetime.utcfromtimestamp(ti_c).strftime('%Y/%m/%d %H:%M:%S')\n",
    "    m_ti = datetime.datetime.utcfromtimestamp(ti_m).strftime('%Y/%m/%d %H:%M:%S')\n",
    "\n",
    "    return {source_crdate: c_ti, source_mfdate: m_ti, source_fn: fi_n}"
   ]
  },
  {
   "cell_type": "code",
   "execution_count": null,
   "metadata": {
    "pycharm": {
     "name": "#%%\n"
    }
   },
   "outputs": [],
   "source": [
    "AddTime(sprint_file)"
   ]
  },
  {
   "cell_type": "code",
   "execution_count": null,
   "metadata": {
    "pycharm": {
     "name": "#%%\n"
    }
   },
   "outputs": [],
   "source": [
    "# Import Sprint Log\n",
    "df_sprint_log = pd.read_excel(sprint_file, sheet_name=\"Sprint Pods\")"
   ]
  },
  {
   "cell_type": "code",
   "execution_count": null,
   "metadata": {
    "pycharm": {
     "name": "#%%\n"
    }
   },
   "outputs": [],
   "source": [
    "df_sprint_raw = df_sprint_log"
   ]
  },
  {
   "cell_type": "code",
   "execution_count": null,
   "metadata": {
    "pycharm": {
     "name": "#%%\n"
    }
   },
   "outputs": [],
   "source": [
    "# Rename Sprint Pods to 'Objective' to use function for parsing parts\n",
    "df_sprint_log.rename({\"Pod Name\": \"Objective\"}, axis=1, inplace=True)"
   ]
  },
  {
   "cell_type": "code",
   "execution_count": null,
   "metadata": {
    "pycharm": {
     "name": "#%%\n"
    }
   },
   "outputs": [],
   "source": [
    "# Drop Rows with no Allocated Hours\n",
    "df_sprint_log = df_sprint_log[~((df_sprint_log['Week 1 - Hours'] == 0) & (df_sprint_log['Week 2 - Hours'] == 0))]"
   ]
  },
  {
   "cell_type": "code",
   "execution_count": null,
   "metadata": {
    "pycharm": {
     "name": "#%%\n"
    }
   },
   "outputs": [],
   "source": [
    "# Drop NaN rows threshold of 5 blank cells and drop 'Total' client Row\n",
    "df_sprint_log = df_sprint_log.dropna(thresh=5)\n",
    "df_sprint_log = df_sprint_log[df_sprint_log['Client Name'] != \"Total\"]"
   ]
  },
  {
   "cell_type": "code",
   "execution_count": null,
   "metadata": {
    "pycharm": {
     "name": "#%%\n"
    }
   },
   "outputs": [],
   "source": [
    "# Parse Client Names column identifying data and create columns\n",
    "df_sprint_log['clientName'] = df_sprint_log['Client Name'].apply(parse_sprint_client_name, args=['client'])\n",
    "df_sprint_log['scope'] = df_sprint_log['Client Name'].apply(parse_sprint_client_name, args=['scope'])\n",
    "df_sprint_log['department'] = df_sprint_log['Client Name'].apply(parse_sprint_client_name, args=['department'])"
   ]
  },
  {
   "cell_type": "code",
   "execution_count": null,
   "metadata": {
    "pycharm": {
     "name": "#%%\n"
    }
   },
   "outputs": [],
   "source": [
    "# Shape all client names to standard\n",
    "df_sprint_log['shaped_cn'] = df_sprint_log['clientName'].apply(shaper.std_client_names_rename)"
   ]
  },
  {
   "cell_type": "code",
   "execution_count": null,
   "metadata": {
    "pycharm": {
     "name": "#%%\n"
    }
   },
   "outputs": [],
   "source": [
    "df_sprint_log['fullName'] = df_sprint_log['Resource'].apply(std_user_names_rename)\n",
    "df_sprint_log['shaped_leader'] = df_sprint_log['Leader'].apply(std_user_names_rename)\n",
    "df_sprint_log['shaped_pm'] = df_sprint_log['PM'].apply(std_user_names_rename)"
   ]
  },
  {
   "cell_type": "code",
   "execution_count": null,
   "metadata": {
    "pycharm": {
     "name": "#%%\n"
    }
   },
   "outputs": [],
   "source": [
    "df_sprint_log['Action'] = df_sprint_log['Objective'].apply(parse_action)"
   ]
  },
  {
   "cell_type": "code",
   "execution_count": null,
   "metadata": {
    "pycharm": {
     "name": "#%%\n"
    }
   },
   "outputs": [],
   "source": [
    "df_sprint_log['Service'] = \"\"\n",
    "for index, row in df_sprint_log.iterrows():\n",
    "    service = parse_service(row)\n",
    "\n",
    "    df_sprint_log['Service'].loc[index] = service"
   ]
  },
  {
   "cell_type": "code",
   "execution_count": null,
   "metadata": {
    "pycharm": {
     "name": "#%%\n"
    }
   },
   "outputs": [],
   "source": [
    "df_sprint_log['Client Name'].rename({\"All Client\": \"All Clients\"}, inplace=True)"
   ]
  },
  {
   "cell_type": "code",
   "execution_count": null,
   "metadata": {
    "pycharm": {
     "name": "#%%\n"
    }
   },
   "outputs": [],
   "source": [
    "df_sprint_log.dropna(subset=['Week 1 - Hours', 'Week 2 - Hours'], how='all', inplace=True)"
   ]
  },
  {
   "cell_type": "code",
   "execution_count": null,
   "metadata": {
    "pycharm": {
     "name": "#%%\n"
    }
   },
   "outputs": [],
   "source": [
    "df_sprint_log = df_sprint_log.drop(\n",
    "    ['Week 1 - Priority', 'Week 1- On Track?', 'Week 2 - Priority', 'Week 2- On Track?', 'Total Hours',\n",
    "     'Sprint Update Notes'], axis=1)"
   ]
  },
  {
   "cell_type": "code",
   "execution_count": null,
   "metadata": {
    "pycharm": {
     "name": "#%%\n"
    }
   },
   "outputs": [],
   "source": [
    "df_sprint_log[['Week 1 - Goals','Week 2 - Goals']] = \"\"\n",
    "for index, row in df_sprint_log.iterrows():\n",
    "    for k,v in breakup_pod_goals(row['POD Goals']).items():\n",
    "        df_sprint_log[k].loc[index] = v"
   ]
  },
  {
   "cell_type": "markdown",
   "metadata": {
    "collapsed": false,
    "pycharm": {
     "name": "#%% md\n"
    }
   },
   "source": [
    "### Re-Order / Re-Name Columns"
   ]
  },
  {
   "cell_type": "code",
   "execution_count": null,
   "metadata": {
    "pycharm": {
     "name": "#%%\n"
    }
   },
   "outputs": [],
   "source": [
    "# Drop original columns and replace with shapped and parsed columns\n",
    "\n",
    "df_sprint_log.drop(['Client Name', 'clientName', 'Resource','Leader','PM'], axis=1, inplace=True)\n",
    "\n",
    "client_name = df_sprint_log.pop('shaped_cn')\n",
    "df_sprint_log.insert(0, 'Client Name', client_name)\n",
    "scope = df_sprint_log.pop('scope')\n",
    "df_sprint_log.insert(1, 'Scope', scope)\n",
    "department = df_sprint_log.pop('department')\n",
    "df_sprint_log.insert(2, 'Department', department)\n",
    "full_name = df_sprint_log.pop('fullName')\n",
    "df_sprint_log.insert(3, 'Resource Name', full_name)\n",
    "objective = df_sprint_log.pop('Objective')\n",
    "df_sprint_log.insert(4, 'Objective', objective)\n",
    "action = df_sprint_log.pop('Action')\n",
    "df_sprint_log.insert(5, 'Action', action)\n",
    "service = df_sprint_log.pop('Service')\n",
    "df_sprint_log.insert(6, 'Service', service)\n",
    "wk1_goals = df_sprint_log.pop('Week 1 - Goals')\n",
    "df_sprint_log.insert(8, 'Week 1 - Goals', wk1_goals)\n",
    "wk2_goals = df_sprint_log.pop('Week 2 - Goals')\n",
    "df_sprint_log.insert(10,'Week 2 - Goals', wk2_goals)\n",
    "leader = df_sprint_log.pop('shaped_leader')\n",
    "df_sprint_log.insert(11,'Leader', leader)\n",
    "pm = df_sprint_log.pop('shaped_pm')\n",
    "df_sprint_log.insert(12,'PM', pm)"
   ]
  },
  {
   "cell_type": "markdown",
   "metadata": {
    "collapsed": false,
    "pycharm": {
     "name": "#%% md\n"
    }
   },
   "source": [
    "### Move Side-by-Side Sprint Data to Stacked by Row"
   ]
  },
  {
   "cell_type": "code",
   "execution_count": null,
   "metadata": {
    "pycharm": {
     "name": "#%%\n"
    }
   },
   "outputs": [],
   "source": [
    "common_cols = ['Client Name','Scope','Department','Resource Name','Objective','Action','Service','Leader','PM','Responsibilities','RACI','Reason for off track']\n",
    "\n",
    "def reorg_week_1(row):\n",
    "\n",
    "    week_1_row = {}\n",
    "\n",
    "    for k,v in row[common_cols].items():\n",
    "        week_1_row[k] = v\n",
    "    week_1_row['Sprint Week'] = 1\n",
    "    week_1_row['Sprint Hours'] = row['Week 1 - Hours']\n",
    "    week_1_row['Sprint Goals'] = row['Week 1 - Goals']\n",
    "\n",
    "    return week_1_row\n",
    "\n",
    "def reorg_week_2(row):\n",
    "    week_2_row = row[common_cols]\n",
    "    week_2_row['Sprint Week'] = 2\n",
    "    week_2_row['Sprint Hours'] = row['Week 2 - Hours']\n",
    "    week_2_row['Sprint Goals'] = row['Week 2 - Goals']\n",
    "\n",
    "\n",
    "    return week_2_row"
   ]
  },
  {
   "cell_type": "code",
   "execution_count": null,
   "metadata": {
    "pycharm": {
     "name": "#%%\n"
    }
   },
   "outputs": [],
   "source": [
    "wk1_row_list = []\n",
    "for index, row in df_sprint_log.iterrows():\n",
    "    wk1_row_list.append(reorg_week_1(row))\n",
    "\n",
    "df_wk1 = pd.DataFrame(wk1_row_list)\n",
    "\n",
    "wk2_row_list = []\n",
    "for index, row in df_sprint_log.iterrows():\n",
    "    wk2_row_list.append(reorg_week_2(row))\n",
    "\n",
    "df_wk2 = pd.DataFrame(wk2_row_list)\n",
    "\n",
    "\n",
    "df_sprint_log_reorg = pd.concat([df_wk1,df_wk2], ignore_index=True)"
   ]
  },
  {
   "cell_type": "markdown",
   "metadata": {
    "collapsed": false,
    "pycharm": {
     "name": "#%% md\n"
    }
   },
   "source": [
    "#### Define Timeframe"
   ]
  },
  {
   "cell_type": "code",
   "execution_count": null,
   "metadata": {
    "pycharm": {
     "name": "#%%\n"
    }
   },
   "outputs": [],
   "source": [
    "df_sprint_log_reorg"
   ]
  },
  {
   "cell_type": "markdown",
   "metadata": {
    "collapsed": false,
    "pycharm": {
     "name": "#%% md\n"
    }
   },
   "source": [
    "#### Seperate out days of the week"
   ]
  },
  {
   "cell_type": "code",
   "execution_count": null,
   "metadata": {
    "pycharm": {
     "name": "#%%\n"
    }
   },
   "outputs": [],
   "source": [
    "def day_of_week(datetime):\n",
    "    return dt.datetime.strftime(datetime, '%A')"
   ]
  },
  {
   "cell_type": "code",
   "execution_count": null,
   "metadata": {
    "pycharm": {
     "name": "#%%\n"
    }
   },
   "outputs": [],
   "source": [
    "df_teamwork['Date'] = df_teamwork['Date'].apply(pd.to_datetime)"
   ]
  },
  {
   "cell_type": "code",
   "execution_count": null,
   "metadata": {
    "pycharm": {
     "name": "#%%\n"
    }
   },
   "outputs": [],
   "source": [
    "df_teamwork['Day of Week'] = df_teamwork['Date'].apply(day_of_week)"
   ]
  },
  {
   "cell_type": "code",
   "execution_count": null,
   "metadata": {
    "pycharm": {
     "name": "#%%\n"
    }
   },
   "outputs": [],
   "source": [
    "df_teamwork['Day of Week'] = df_teamwork['Date'].apply(lambda x: dt.datetime.strftime(x, '%A'))"
   ]
  },
  {
   "cell_type": "code",
   "execution_count": null,
   "metadata": {
    "pycharm": {
     "name": "#%%\n"
    }
   },
   "outputs": [],
   "source": []
  },
  {
   "cell_type": "code",
   "execution_count": null,
   "metadata": {
    "pycharm": {
     "name": "#%%\n"
    }
   },
   "outputs": [],
   "source": []
  },
  {
   "cell_type": "markdown",
   "metadata": {
    "collapsed": false,
    "pycharm": {
     "name": "#%% md\n"
    }
   },
   "source": [
    "## Unearned Project Rev"
   ]
  },
  {
   "cell_type": "code",
   "execution_count": null,
   "metadata": {
    "pycharm": {
     "name": "#%%\n"
    }
   },
   "outputs": [],
   "source": [
    "df_unearned_rev = pd.read_excel(unearned_rev_file, sheet_name='Sheet1')"
   ]
  },
  {
   "cell_type": "code",
   "execution_count": null,
   "metadata": {
    "pycharm": {
     "name": "#%%\n"
    }
   },
   "outputs": [],
   "source": [
    "df_unearned_rev.drop(df_unearned_rev.columns[0], axis=1, inplace=True)"
   ]
  },
  {
   "cell_type": "code",
   "execution_count": null,
   "metadata": {
    "pycharm": {
     "name": "#%%\n"
    }
   },
   "outputs": [],
   "source": [
    "df_unearned_rev"
   ]
  },
  {
   "cell_type": "markdown",
   "metadata": {
    "collapsed": false,
    "pycharm": {
     "name": "#%% md\n"
    }
   },
   "source": [
    "# Split , Apply, Combine"
   ]
  },
  {
   "cell_type": "code",
   "execution_count": null,
   "metadata": {
    "pycharm": {
     "name": "#%%\n"
    }
   },
   "outputs": [],
   "source": [
    "df_sprint_log_reorg"
   ]
  },
  {
   "cell_type": "code",
   "execution_count": null,
   "metadata": {
    "pycharm": {
     "name": "#%%\n"
    }
   },
   "outputs": [],
   "source": [
    "set(df_teamwork.columns).intersection(set(df_sprint_log_reorg.columns))"
   ]
  },
  {
   "cell_type": "code",
   "execution_count": null,
   "metadata": {
    "pycharm": {
     "name": "#%%\n"
    }
   },
   "outputs": [],
   "source": [
    "set(df_sprint_log['Service'].unique()).intersection(set(df_teamwork['Service'].unique()))"
   ]
  },
  {
   "cell_type": "code",
   "execution_count": null,
   "metadata": {
    "pycharm": {
     "name": "#%%\n"
    }
   },
   "outputs": [],
   "source": [
    "merge_key_cols = ['Client Name','Scope','Department','Resource Name','Objective','Action']"
   ]
  },
  {
   "cell_type": "code",
   "execution_count": null,
   "metadata": {
    "pycharm": {
     "name": "#%%\n"
    }
   },
   "outputs": [],
   "source": [
    "df_merged = pd.merge(df_sprint_log_reorg, df_teamwork, on=merge_key_cols)"
   ]
  },
  {
   "cell_type": "code",
   "execution_count": null,
   "metadata": {
    "pycharm": {
     "name": "#%%\n"
    }
   },
   "outputs": [],
   "source": [
    "df_teamwork['Client Name'].unique()"
   ]
  },
  {
   "cell_type": "code",
   "execution_count": null,
   "metadata": {
    "pycharm": {
     "name": "#%%\n"
    }
   },
   "outputs": [],
   "source": [
    "df_teamwork"
   ]
  },
  {
   "cell_type": "code",
   "execution_count": null,
   "metadata": {
    "pycharm": {
     "name": "#%%\n"
    }
   },
   "outputs": [],
   "source": []
  },
  {
   "cell_type": "code",
   "execution_count": null,
   "metadata": {
    "pycharm": {
     "name": "#%%\n"
    }
   },
   "outputs": [],
   "source": []
  },
  {
   "cell_type": "code",
   "execution_count": null,
   "metadata": {
    "pycharm": {
     "name": "#%%\n"
    }
   },
   "outputs": [],
   "source": [
    "\n",
    "df_sprint_raw"
   ]
  },
  {
   "cell_type": "raw",
   "metadata": {
    "collapsed": false,
    "pycharm": {
     "name": "#%% raw\n"
    }
   },
   "source": [
    "\n",
    "\n",
    ">>> import datetime\n",
    ">>> today = datetime.date.today()\n",
    ">>> today + datetime.timedelta(days=-today.weekday(), weeks=1)\n",
    "datetime.date(2009, 10, 26)\n",
    "\n",
    "Some words of explanation:\n",
    "\n",
    "Take todays date. Subtract the number of days which already passed this week (this gets you 'last' monday). Add one week.\n",
    "\n",
    "Edit: The above is for 'next monday', but since you were looking for 'last monday' you could use\n",
    "\n",
    "today - datetime.timedelta(days=today.weekday())\n",
    "\n"
   ]
  },
  {
   "cell_type": "markdown",
   "metadata": {
    "collapsed": false,
    "pycharm": {
     "name": "#%% md\n"
    }
   },
   "source": [
    "## Models"
   ]
  },
  {
   "cell_type": "markdown",
   "metadata": {
    "collapsed": false,
    "pycharm": {
     "name": "#%% md\n"
    }
   },
   "source": [
    "# Filter and Export"
   ]
  },
  {
   "cell_type": "code",
   "execution_count": null,
   "metadata": {
    "pycharm": {
     "name": "#%%\n"
    }
   },
   "outputs": [],
   "source": [
    "df_client_sprint_log = df_sprint_log_reorg[df_sprint_log_reorg['Scope'] == 'Client']"
   ]
  },
  {
   "cell_type": "code",
   "execution_count": null,
   "metadata": {
    "pycharm": {
     "name": "#%%\n"
    }
   },
   "outputs": [],
   "source": []
  },
  {
   "cell_type": "code",
   "execution_count": null,
   "metadata": {
    "pycharm": {
     "name": "#%%\n"
    }
   },
   "outputs": [],
   "source": [
    "df_teamwork_client[df_teamwork_client['Resource Name'] == \"Sam Morekas\"].to_csv(f'{export_folder}[REDACTED]/.csv',index=False)"
   ]
  },
  {
   "cell_type": "code",
   "execution_count": null,
   "metadata": {
    "pycharm": {
     "name": "#%%\n"
    }
   },
   "outputs": [],
   "source": [
    "df_client_sprint_log[df_client_sprint_log['Resource Name'] == \"Sam Morekas\"].to_csv(f'{export_folder}[REDACTED]/.csv', index=False)"
   ]
  },
  {
   "cell_type": "code",
   "execution_count": null,
   "metadata": {
    "pycharm": {
     "name": "#%%\n"
    }
   },
   "outputs": [],
   "source": []
  },
  {
   "cell_type": "code",
   "execution_count": null,
   "metadata": {
    "pycharm": {
     "name": "#%%\n"
    }
   },
   "outputs": [],
   "source": [
    "df_teamwork"
   ]
  },
  {
   "cell_type": "code",
   "execution_count": null,
   "metadata": {
    "pycharm": {
     "name": "#%%\n"
    }
   },
   "outputs": [],
   "source": []
  },
  {
   "cell_type": "code",
   "execution_count": null,
   "metadata": {
    "pycharm": {
     "name": "#%%\n"
    }
   },
   "outputs": [],
   "source": []
  },
  {
   "cell_type": "code",
   "execution_count": null,
   "metadata": {
    "pycharm": {
     "name": "#%%\n"
    }
   },
   "outputs": [],
   "source": [
    "df_teamwork_client.to_csv(f\"{export_folder}[REDACTED]/.csv\", index=False)\n",
    "df_teamwork.to_csv(f\"{export_folder}[REDACTED]/.csv\", index=False)"
   ]
  },
  {
   "cell_type": "code",
   "execution_count": null,
   "metadata": {
    "pycharm": {
     "name": "#%%\n"
    }
   },
   "outputs": [],
   "source": [
    "df_client_sprint_log.to_csv(f\"{export_folder}[REDACTED]/.csv\", index=False)\n",
    "df_sprint_log.to_csv(f\"{export_folder}[REDACTED]/.csv\", index=False)"
   ]
  },
  {
   "cell_type": "code",
   "execution_count": null,
   "metadata": {
    "pycharm": {
     "name": "#%%\n"
    }
   },
   "outputs": [],
   "source": [
    "df_teamwork_client[df_teamwork_client['Resource Name'] == 'Sam Morekas']"
   ]
  },
  {
   "cell_type": "code",
   "execution_count": null,
   "metadata": {
    "pycharm": {
     "name": "#%%\n"
    }
   },
   "outputs": [],
   "source": [
    "df_client_sprint_log[df_client_sprint_log['Resource Name'] == 'Sam Morekas']"
   ]
  },
  {
   "cell_type": "code",
   "execution_count": null,
   "metadata": {
    "pycharm": {
     "name": "#%%\n"
    }
   },
   "outputs": [],
   "source": []
  }
 ],
 "metadata": {
  "kernelspec": {
   "display_name": "Python 3",
   "language": "python",
   "name": "python3"
  },
  "language_info": {
   "codemirror_mode": {
    "name": "ipython",
    "version": 2
   },
   "file_extension": "[REDACTED][REDACTED]/.py",
   "mimetype": "text/x-python",
   "name": "python",
   "nbconvert_exporter": "python",
   "pygments_lexer": "ipython2",
   "version": "2.7.6"
  }
 },
 "nbformat": 4,
 "nbformat_minor": 0
}
