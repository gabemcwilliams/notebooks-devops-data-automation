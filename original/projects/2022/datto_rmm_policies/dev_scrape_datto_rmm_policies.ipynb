{
 "cells": [
  {
   "cell_type": "markdown",
   "metadata": {
    "collapsed": false,
    "pycharm": {
     "name": "#%% md\n"
    }
   },
   "source": [
    "<h1> DattoRMM - Audit Log Scrape and Ingest </h1>"
   ]
  },
  {
   "cell_type": "code",
   "execution_count": null,
   "metadata": {
    "pycharm": {
     "name": "#%%\n"
    }
   },
   "outputs": [],
   "source": [
    "# general purpose\n",
    "import time\n",
    "import datetime as dt\n",
    "\n",
    "# Https Traffic\n",
    "import requests\n",
    "import socket\n",
    "from urllib3.connection import HTTPSConnection\n",
    "\n",
    "# Spider\n",
    "from selenium import webdriver\n",
    "from selenium.webdriver.common.keys import Keys\n",
    "from selenium.webdriver.support.ui import Select\n",
    "from selenium.webdriver.common.action_chains import ActionChains\n",
    "import selenium\n",
    "import scrapy\n",
    "import re\n",
    "from bs4 import BeautifulSoup\n",
    "import lxml\n",
    "\n",
    "# Data Ingest and Visual\n",
    "import pandas as pd\n",
    "[REDACTED]/.pyplot as plt\n",
    "import seaborn as sns"
   ]
  },
  {
   "cell_type": "code",
   "execution_count": null,
   "metadata": {
    "pycharm": {
     "name": "#%%\n"
    }
   },
   "outputs": [],
   "source": [
    "# add current timestamp to filename for reference\n",
    "current_time = (dt.datetime.utcnow().strftime('%Y_%m_%d_%H%M%S'))\n",
    "\n",
    "# export folder will contain all csv exported DataFrames for Ticket Creation\n",
    "export_folder = 'd:/exports/'\n",
    "\n",
    "# import configparser for env secrets\n",
    "from configparser import ConfigParser\n",
    "config = ConfigParser()\n",
    "config.read('d:/git/example_infrastructure_data_dev/config/env.ini')\n",
    "import requests\n",
    "from requests.structures import CaseInsensitiveDict"
   ]
  },
  {
   "cell_type": "markdown",
   "metadata": {
    "collapsed": false,
    "pycharm": {
     "name": "#%% md\n"
    }
   },
   "source": [
    "# Create Bot Object"
   ]
  },
  {
   "cell_type": "markdown",
   "metadata": {
    "collapsed": false,
    "pycharm": {
     "name": "#%% md\n"
    }
   },
   "source": [
    "## Create Firefox Driver"
   ]
  },
  {
   "cell_type": "code",
   "execution_count": null,
   "metadata": {
    "pycharm": {
     "name": "#%%\n"
    }
   },
   "outputs": [],
   "source": [
    "from selenium.webdriver.firefox.firefox_binary import FirefoxBinary\n",
    "\n",
    "firefox_dev_binary = FirefoxBinary(r'C:/Program Files/Firefox Developer Edition/firefox.exe')\n",
    "f_driver = webdriver.Firefox(firefox_binary=firefox_dev_binary, executable_path=r'D:/web_drivers/mozilla/geckodriver-v0.31.0-win64/geckodriver.exe')"
   ]
  },
  {
   "cell_type": "markdown",
   "metadata": {
    "collapsed": false,
    "pycharm": {
     "name": "#%% md\n"
    }
   },
   "source": [
    "## Create Chrome Driver"
   ]
  },
  {
   "cell_type": "raw",
   "metadata": {
    "collapsed": false,
    "pycharm": {
     "name": "#%% raw\n"
    }
   },
   "source": [
    "chrome_driver = 'd:/web_drivers/chrome/chromedriver_win32/chromedriver.exe'\n",
    "options = webdriver.ChromeOptions()\n",
    "options.add_argument('headless')\n",
    "c_driver = webdriver.Chrome(executable_path=chrome_driver)"
   ]
  },
  {
   "cell_type": "markdown",
   "metadata": {
    "collapsed": false,
    "pycharm": {
     "name": "#%% md\n"
    }
   },
   "source": [
    "## Request Header Info (if needed to impersonate api browser calls)"
   ]
  },
  {
   "cell_type": "code",
   "execution_count": null,
   "metadata": {
    "pycharm": {
     "name": "#%%\n"
    }
   },
   "outputs": [],
   "source": [
    "# construct header\n",
    "headers = CaseInsensitiveDict()\n",
    "headers['User-Agent'] = 'Mozilla/5.0 (X11; Linux x86_64) AppleWebKit/537.36 (KHTML, like Gecko) Chrome/51.0.2704.103 Safari/537.36'\n",
    "\n",
    "# construct req body\n",
    "data = CaseInsensitiveDict()\n",
    "data = ''"
   ]
  },
  {
   "cell_type": "code",
   "execution_count": null,
   "metadata": {
    "pycharm": {
     "name": "#%%\n"
    }
   },
   "outputs": [],
   "source": [
    "baseUrl = 'https://concord.centrastage.net'\n",
    "auth_url = f'https://auth.datto.com'\n",
    "#home_url = f'{baseUrl}'\n",
    "links = []"
   ]
  },
  {
   "cell_type": "markdown",
   "metadata": {
    "collapsed": false,
    "pycharm": {
     "name": "#%% md\n"
    }
   },
   "source": [
    "# Login to DattoRMM"
   ]
  },
  {
   "cell_type": "code",
   "execution_count": null,
   "metadata": {
    "pycharm": {
     "name": "#%%\n"
    }
   },
   "outputs": [],
   "source": [
    "f_driver.get(auth_url)"
   ]
  },
  {
   "cell_type": "code",
   "execution_count": null,
   "metadata": {
    "pycharm": {
     "name": "#%%\n"
    }
   },
   "outputs": [],
   "source": [
    "title = f_driver.find_element_by_xpath('//h1')\n",
    "title.text"
   ]
  },
  {
   "cell_type": "code",
   "execution_count": null,
   "metadata": {
    "pycharm": {
     "name": "#%%\n"
    }
   },
   "outputs": [],
   "source": [
    "login_txtbox = f_driver.find_element_by_xpath(\"//input[@id='form_username']\")\n",
    "login_txtbox.send_keys((config['dattormm']['username']),Keys.ENTER)"
   ]
  },
  {
   "cell_type": "code",
   "execution_count": null,
   "metadata": {
    "pycharm": {
     "name": "#%%\n"
    }
   },
   "outputs": [],
   "source": [
    "pass_txtbox = f_driver.find_element_by_xpath(\"//input[@id='form_password']\")\n",
    "pass_txtbox.send_keys((config['dattormm']['password']),Keys.ENTER)"
   ]
  },
  {
   "cell_type": "code",
   "execution_count": null,
   "metadata": {
    "pycharm": {
     "name": "#%%\n"
    }
   },
   "outputs": [],
   "source": [
    "time.sleep(3)"
   ]
  },
  {
   "cell_type": "code",
   "execution_count": null,
   "metadata": {
    "pycharm": {
     "name": "#%%\n"
    }
   },
   "outputs": [],
   "source": [
    "mfa_txtbox = f_driver.find_element_by_id('authy_token')\n",
    "mfa_txtbox.send_keys('715082', Keys.ENTER) # number entered manually for now /TODO: automate MFA"
   ]
  },
  {
   "cell_type": "markdown",
   "metadata": {
    "collapsed": false,
    "pycharm": {
     "name": "#%% md\n"
    }
   },
   "source": [
    "# Create Policy DataFrames"
   ]
  },
  {
   "cell_type": "markdown",
   "metadata": {
    "collapsed": false,
    "pycharm": {
     "name": "#%% md\n"
    }
   },
   "source": [
    "## Scrape dropdown information for child policy pages"
   ]
  },
  {
   "cell_type": "code",
   "execution_count": null,
   "metadata": {
    "pycharm": {
     "name": "#%%\n"
    }
   },
   "outputs": [],
   "source": [
    "sites_info_list = []\n",
    "sites_info_dict = {}\n",
    "sites_dropdown = f_driver.find_element_by_xpath(\"//div[@id='profiles-tab']\")\n",
    "\n",
    "#object of ActionChains\n",
    "a = ActionChains(f_driver)\n",
    "\n",
    "mouseover_sites_dropdown = a.move_to_element(sites_dropdown)\n",
    "mouseover_sites_dropdown.perform()\n",
    "time.sleep(1)\n",
    "sites_profiles_menu = f_driver.find_element_by_xpath(\"//div[@id='menuProfilesDiv']\")\n",
    "df_sites_info = pd.DataFrame()\n",
    "df_sites_info_list = []\n",
    "\n",
    "for li in sites_profiles_menu.find_elements_by_xpath('//a'):\n",
    "    attribute = li.get_attribute('title')\n",
    "    if None:\n",
    "        continue\n",
    "    elif attribute:\n",
    "        df_sites_info_list.append(attribute)\n",
    "site_profiles_prog = re.compile(r'[\\d]+$')\n",
    "site_profiles_list = []\n",
    "for a in df_sites_info_list:\n",
    "    site_profile = {}\n",
    "    site_profile['siteName'] = a\n",
    "\n",
    "    for element in (f_driver.find_elements_by_xpath(f\"//a[@title='{a}']\")):\n",
    "        href = (element.get_attribute('href'))\n",
    "        site_profile['href'] = (site_profiles_prog.findall(href)[0])\n",
    "\n",
    "    site_profiles_list.append(site_profile)"
   ]
  },
  {
   "cell_type": "markdown",
   "metadata": {
    "collapsed": false,
    "pycharm": {
     "name": "#%% md\n"
    }
   },
   "source": [
    "## Define Table Heading Configuration /override/nooverride/"
   ]
  },
  {
   "cell_type": "code",
   "execution_count": null,
   "metadata": {
    "pycharm": {
     "name": "#%%\n"
    }
   },
   "outputs": [],
   "source": [
    "no_policy_override = ['policyName','policyTargets','policyType','policyBlank','policyStatus','policyEnd']\n",
    "yes_policy_override = ['policyOverride','policyName','policyTargets','policyType','viewOverride','policyBlank','policyStatus','policyEnd']"
   ]
  },
  {
   "cell_type": "markdown",
   "metadata": {
    "collapsed": false,
    "pycharm": {
     "name": "#%% md\n"
    }
   },
   "source": [
    "## Breakout Account Policies - Main Page"
   ]
  },
  {
   "cell_type": "markdown",
   "metadata": {
    "collapsed": false,
    "pycharm": {
     "name": "#%% md\n"
    }
   },
   "source": [
    "### Main Page Policy"
   ]
  },
  {
   "cell_type": "code",
   "execution_count": null,
   "metadata": {
    "pycharm": {
     "name": "#%%\n"
    }
   },
   "outputs": [],
   "source": [
    "f_driver.get(f'{baseUrl}/csm/policy/list')"
   ]
  },
  {
   "cell_type": "code",
   "execution_count": null,
   "metadata": {
    "pycharm": {
     "name": "#%%\n"
    }
   },
   "outputs": [],
   "source": [
    "policies_heading = f_driver.find_elements_by_xpath(\"//h1\")\n",
    "description_prog = re.compile(r'[^\\r\\n]+')\n",
    "policies_titles = []\n",
    "matches = enumerate(policies_heading)\n",
    "for index, match in matches:\n",
    "    policies_titles.append(description_prog.findall(match.text))\n",
    "for title in policies_titles:\n",
    "    if title != []:\n",
    "        policies_title = title"
   ]
  },
  {
   "cell_type": "code",
   "execution_count": null,
   "metadata": {
    "pycharm": {
     "name": "#%%\n"
    }
   },
   "outputs": [],
   "source": [
    "policy_title_prog = re.compile((r'[^\\:]+'))\n",
    "policy_title = policy_title_prog.findall(str(policies_title[0]))"
   ]
  },
  {
   "cell_type": "code",
   "execution_count": null,
   "metadata": {
    "pycharm": {
     "name": "#%%\n"
    }
   },
   "outputs": [],
   "source": [
    "account_policies_list = []\n",
    "policy_table = f_driver.find_elements_by_xpath(\"//tbody[@id='policyListTable']//td\")\n",
    "pol_iter_counts = len(policy_table)/4\n",
    "\n",
    "policy_table_label_iteration = []\n",
    "policy_table_labels = no_policy_override\n",
    "for x in range(0,int(pol_iter_counts),1):\n",
    "    for p in policy_table_labels:\n",
    "        policy_table_label_iteration.append(p)"
   ]
  },
  {
   "cell_type": "code",
   "execution_count": null,
   "metadata": {
    "pycharm": {
     "name": "#%%\n"
    }
   },
   "outputs": [],
   "source": [
    "policy_dicts = {}\n",
    "policy_df_list = []\n",
    "targets_prog = re.compile(r'[^\\,]+')\n",
    "for label in range(0, len(policy_table)):\n",
    "    policy_dict = {}\n",
    "    try:\n",
    "        if policy_table_label_iteration[label] == 'policyBlank':\n",
    "            continue\n",
    "        elif policy_table_label_iteration[label] == 'policyEnd':\n",
    "            policy_df_list.append(policy_dicts)\n",
    "            policy_dicts = {}\n",
    "\n",
    "        elif policy_table_label_iteration[label] == 'policyTargets':\n",
    "            policy_targets_list = []\n",
    "            for target in targets_prog.findall(policy_table[label].text):\n",
    "                policy_targets_list.append(target)\n",
    "            policy_dict[policy_table_label_iteration[label]] = policy_targets_list\n",
    "            policy_dicts.update(policy_dict)\n",
    "        else:\n",
    "            policy_dict[policy_table_label_iteration[label]] = policy_table[label].text\n",
    "            policy_dicts.update(policy_dict)\n",
    "    except Exception as e:\n",
    "        print(e)"
   ]
  },
  {
   "cell_type": "code",
   "execution_count": null,
   "metadata": {
    "pycharm": {
     "name": "#%%\n"
    }
   },
   "outputs": [],
   "source": []
  },
  {
   "cell_type": "code",
   "execution_count": null,
   "metadata": {
    "pycharm": {
     "name": "#%%\n"
    }
   },
   "outputs": [],
   "source": [
    "df = pd.DataFrame(policy_df_list)"
   ]
  },
  {
   "cell_type": "code",
   "execution_count": null,
   "metadata": {
    "pycharm": {
     "name": "#%%\n"
    }
   },
   "outputs": [],
   "source": [
    "df['policyLevel'] = policy_title[0]\n",
    "df['policyTableName'] = policy_title[1]"
   ]
  },
  {
   "cell_type": "code",
   "execution_count": null,
   "metadata": {
    "pycharm": {
     "name": "#%%\n"
    }
   },
   "outputs": [],
   "source": [
    "df"
   ]
  },
  {
   "cell_type": "markdown",
   "metadata": {
    "collapsed": false,
    "pycharm": {
     "name": "#%% md\n"
    }
   },
   "source": [
    "## Break out Site Policies Page"
   ]
  },
  {
   "cell_type": "markdown",
   "metadata": {
    "collapsed": false,
    "pycharm": {
     "name": "#%% md\n"
    }
   },
   "source": [
    "### Site Policy Iterations"
   ]
  },
  {
   "cell_type": "code",
   "execution_count": null,
   "metadata": {
    "pycharm": {
     "name": "#%%\n"
    }
   },
   "outputs": [],
   "source": [
    "f_driver.find_elements_by_xpath()"
   ]
  },
  {
   "cell_type": "code",
   "execution_count": null,
   "metadata": {
    "pycharm": {
     "name": "#%%\n"
    }
   },
   "outputs": [],
   "source": [
    "site_profiles_list[0]"
   ]
  },
  {
   "cell_type": "markdown",
   "metadata": {
    "collapsed": false,
    "pycharm": {
     "name": "#%% md\n"
    }
   },
   "source": [
    "### Find Site Policy Title"
   ]
  },
  {
   "cell_type": "code",
   "execution_count": null,
   "metadata": {
    "pycharm": {
     "name": "#%%\n"
    }
   },
   "outputs": [],
   "source": [
    "f_driver.get(f\"{baseUrl}/csm/policy/list/{site_profiles_list[1]['href']}\")"
   ]
  },
  {
   "cell_type": "code",
   "execution_count": null,
   "metadata": {
    "pycharm": {
     "name": "#%%\n"
    }
   },
   "outputs": [],
   "source": [
    "policy_section_prog = re.compile(r'([A-Z]+\\s[A-Z]+){1}$')\n",
    "policy_section_table_objects = []"
   ]
  },
  {
   "cell_type": "code",
   "execution_count": null,
   "metadata": {
    "pycharm": {
     "name": "#%%\n"
    }
   },
   "outputs": [],
   "source": [
    "policies_heading = f_driver.find_elements_by_xpath(\"//h1\")\n",
    "description_prog = re.compile(r'[^\\r\\n]+')\n",
    "policies_titles = []\n",
    "matches = enumerate(policies_heading)\n",
    "for index, match in matches:\n",
    "    policies_titles.append(description_prog.findall(match.text))\n",
    "for title in policies_titles:\n",
    "    if title != []:\n",
    "        policies_title = title"
   ]
  },
  {
   "cell_type": "code",
   "execution_count": null,
   "metadata": {
    "pycharm": {
     "name": "#%%\n"
    }
   },
   "outputs": [],
   "source": [
    "print(policies_title)"
   ]
  },
  {
   "cell_type": "markdown",
   "metadata": {
    "collapsed": false,
    "pycharm": {
     "name": "#%% md\n"
    }
   },
   "source": [
    "### Find Site Policy Tables (Account and Site /custom/)"
   ]
  },
  {
   "cell_type": "code",
   "execution_count": null,
   "metadata": {
    "pycharm": {
     "name": "#%%\n"
    }
   },
   "outputs": [],
   "source": [
    "table_headings = f_driver.find_elements_by_xpath('//h2[contains(@onclick,\"Policy\")]')"
   ]
  },
  {
   "cell_type": "markdown",
   "metadata": {
    "collapsed": false,
    "pycharm": {
     "name": "#%% md\n"
    }
   },
   "source": [
    "### Expand policy tables if needed"
   ]
  },
  {
   "cell_type": "code",
   "execution_count": null,
   "metadata": {
    "pycharm": {
     "name": "#%%\n"
    }
   },
   "outputs": [],
   "source": [
    "for h2 in table_headings:\n",
    "    try:\n",
    "        h2.find_element_by_xpath(\"//span[contains(@class,'collapsed')]\").click()\n",
    "    except:\n",
    "        continue"
   ]
  },
  {
   "cell_type": "markdown",
   "metadata": {
    "collapsed": false,
    "pycharm": {
     "name": "#%% md\n"
    }
   },
   "source": [
    "## Site Account Policies to DataFrame"
   ]
  },
  {
   "cell_type": "code",
   "execution_count": null,
   "metadata": {
    "pycharm": {
     "name": "#%%\n"
    }
   },
   "outputs": [],
   "source": [
    "account_policies_list = []\n",
    "\n",
    "description_prog = re.compile(r'[^\\n\\r]+')\n",
    "tables = f_driver.find_elements_by_xpath(('//tbody[contains(@id,\"policyListTable\")]'))"
   ]
  },
  {
   "cell_type": "code",
   "execution_count": null,
   "metadata": {
    "pycharm": {
     "name": "#%%\n"
    }
   },
   "outputs": [],
   "source": [
    "tables"
   ]
  },
  {
   "cell_type": "code",
   "execution_count": null,
   "metadata": {
    "pycharm": {
     "name": "#%%\n"
    }
   },
   "outputs": [],
   "source": [
    "account_table = tables[0].find_elements_by_xpath('//tr[contains(@id,\"policyRow\")]')"
   ]
  },
  {
   "cell_type": "code",
   "execution_count": null,
   "metadata": {
    "pycharm": {
     "name": "#%%\n"
    }
   },
   "outputs": [],
   "source": [
    "\n",
    "try:\n",
    "    print(f_driver.find_element_by_xpath(\"//img[@title='Override active']\"))\n",
    "    policy_table_labels = yes_policy_override\n",
    "except:\n",
    "    policy_table_labels = no_policy_override\n",
    "\n",
    "policy_table_label_iteration = []\n",
    "pol_iter_counts = len(account_table)/len(policy_table_labels)\n",
    "\n",
    "\n",
    "for x in range(0,int(pol_iter_counts)+1):\n",
    "    for p in policy_table_labels:\n",
    "        policy_table_label_iteration.append(p)"
   ]
  },
  {
   "cell_type": "code",
   "execution_count": null,
   "metadata": {
    "pycharm": {
     "name": "#%%\n"
    }
   },
   "outputs": [],
   "source": []
  },
  {
   "cell_type": "code",
   "execution_count": null,
   "metadata": {
    "pycharm": {
     "name": "#%%\n"
    }
   },
   "outputs": [],
   "source": [
    "policy_table_label_iteration"
   ]
  },
  {
   "cell_type": "code",
   "execution_count": null,
   "metadata": {
    "pycharm": {
     "name": "#%%\n"
    }
   },
   "outputs": [],
   "source": []
  },
  {
   "cell_type": "code",
   "execution_count": null,
   "metadata": {
    "pycharm": {
     "name": "#%%\n"
    }
   },
   "outputs": [],
   "source": [
    "b_list = []\n",
    "for table in account_table:\n",
    "    a = (table.find_elements_by_xpath('//a[@class=\"policy-link\"]'))\n",
    "    for x in a:\n",
    "\n",
    "        print(x.text)\n",
    "        print(x.get_attribute('href'))\n",
    "        print('*'*5)\n",
    "    print(a.find_element_by_xpath(\"//td\").text)\n",
    "\n"
   ]
  },
  {
   "cell_type": "raw",
   "metadata": {
    "collapsed": false,
    "pycharm": {
     "name": "#%% raw\n"
    }
   },
   "source": [
    "print(b_list)"
   ]
  },
  {
   "cell_type": "code",
   "execution_count": null,
   "metadata": {
    "pycharm": {
     "name": "#%%\n"
    }
   },
   "outputs": [],
   "source": [
    "policy_dicts = {}\n",
    "policy_df_list = []\n",
    "targets_prog = re.compile(r'[^\\,]+')\n",
    "for table in range(0, len(account_table)):\n",
    "    policy_dict = {}\n",
    "    label_name = policy_table_label_iteration[table]\n",
    "    label_value = account_table[table]\n",
    "    print(table)\n",
    "    print(f'{label_name}:{label_value.text}')\n",
    "    try:\n",
    "        if (label_name == 'policyBlank') | (label_name == 'viewOverride'):\n",
    "            continue\n",
    "        elif label_name == 'policyEnd':\n",
    "            policy_df_list.append(policy_dicts)\n",
    "            policy_dicts = {}\n",
    "        elif label_name == 'policyOverride':\n",
    "           try:\n",
    "               policy_dict[label_name] = (label_value.find_element_by_xpath(\"./img\").get_attribute('title'))\n",
    "               policy_dicts.update(policy_dict)\n",
    "           except:\n",
    "               continue\n",
    "        elif policy_table_label_iteration[label] == 'policyTargets':\n",
    "            policy_targets_list = []\n",
    "            for target in targets_prog.findall(label_value.text):\n",
    "                policy_targets_list.append(target)\n",
    "            policy_dict[label_name] = policy_targets_list\n",
    "            policy_dicts.update(policy_dict)\n",
    "        else:\n",
    "            #print(policy_table[label].text)\n",
    "            policy_dict[label_name] = label_value.text\n",
    "            policy_dicts.update(policy_dict)\n",
    "    except Exception as e:\n",
    "        print(e)\n",
    "print(policy_dicts)"
   ]
  },
  {
   "cell_type": "code",
   "execution_count": null,
   "metadata": {
    "pycharm": {
     "name": "#%%\n"
    }
   },
   "outputs": [],
   "source": [
    "policy_df_list"
   ]
  },
  {
   "cell_type": "code",
   "execution_count": null,
   "metadata": {
    "pycharm": {
     "name": "#%%\n"
    }
   },
   "outputs": [],
   "source": [
    "df = pd.DataFrame(policy_df_list)\n",
    "df['policyLevel'] = policy_title[0]\n",
    "df['policyTableName'] = policy_title[1]"
   ]
  },
  {
   "cell_type": "code",
   "execution_count": null,
   "metadata": {
    "pycharm": {
     "name": "#%%\n"
    }
   },
   "outputs": [],
   "source": [
    "df"
   ]
  },
  {
   "cell_type": "code",
   "execution_count": null,
   "metadata": {
    "pycharm": {
     "name": "#%%\n"
    }
   },
   "outputs": [],
   "source": [
    "#for table in f_driver.find_elements_by_xpath('//h2'):\n",
    "for element in f_driver.find_elements_by_xpath(\"//div[contains(@id,'PoliciesDiv')]\"):\n",
    "    print(element.text)\n",
    "    #print('inner.inner'*10)"
   ]
  },
  {
   "cell_type": "code",
   "execution_count": null,
   "metadata": {
    "pycharm": {
     "name": "#%%\n"
    }
   },
   "outputs": [],
   "source": [
    "policy_dicts = {}\n",
    "policy_df_list = []\n",
    "targets_prog = re.compile(r'[^\\,]+')\n",
    "for label in range(0, len(policy_table)):\n",
    "    policy_dict = {}\n",
    "    try:\n",
    "        if policy_table_label_iteration[label] == 'policyBlank':\n",
    "            continue\n",
    "        elif policy_table_label_iteration[label] == 'policyEnd':\n",
    "            policy_df_list.append(policy_dicts)\n",
    "            policy_dicts = {}\n",
    "\n",
    "        elif policy_table_label_iteration[label] == 'policyTargets':\n",
    "            policy_targets_list = []\n",
    "            for target in targets_prog.findall(policy_table[label].text):\n",
    "                policy_targets_list.append(target)\n",
    "            policy_dict[policy_table_label_iteration[label]] = policy_targets_list\n",
    "            policy_dicts.update(policy_dict)\n",
    "        else:\n",
    "            policy_dict[policy_table_label_iteration[label]] = policy_table[label].text\n",
    "            policy_dicts.update(policy_dict)\n",
    "    except Exception as e:\n",
    "        print(e)"
   ]
  },
  {
   "cell_type": "code",
   "execution_count": null,
   "metadata": {
    "pycharm": {
     "name": "#%%\n"
    }
   },
   "outputs": [],
   "source": []
  },
  {
   "cell_type": "code",
   "execution_count": null,
   "metadata": {
    "pycharm": {
     "name": "#%%\n"
    }
   },
   "outputs": [],
   "source": [
    "policy_section_table_objects"
   ]
  },
  {
   "cell_type": "code",
   "execution_count": null,
   "metadata": {
    "pycharm": {
     "name": "#%%\n"
    }
   },
   "outputs": [],
   "source": []
  },
  {
   "cell_type": "code",
   "execution_count": null,
   "metadata": {
    "pycharm": {
     "name": "#%%\n"
    }
   },
   "outputs": [],
   "source": []
  },
  {
   "cell_type": "code",
   "execution_count": null,
   "metadata": {
    "pycharm": {
     "name": "#%%\n"
    }
   },
   "outputs": [],
   "source": [
    "account_patches = f_driver.get('https://concord.centrastage.net/csm/system/patches')"
   ]
  },
  {
   "cell_type": "code",
   "execution_count": null,
   "metadata": {
    "pycharm": {
     "name": "#%%\n"
    }
   },
   "outputs": [],
   "source": [
    "description_prog = re.compile(r'[^\\r\\n]+')\n",
    "description_prog.findall()\n",
    "df_list = []\n",
    "matches = enumerate(description_matches)\n",
    "for index, match in matches:\n",
    "    print(index, (description_prog.findall(match.text)))\n",
    "    #itemlist = (description_prog.findall(match.text))\n",
    "    if len(itemlist) == 3:\n",
    "        df_list.append({'description': itemlist[0], 'price': itemlist[1], 'location': itemlist[2]})\n",
    "    elif len(itemlist) == 4:\n",
    "        df_list.append(\n",
    "            {'description': itemlist[0], 'price': itemlist[1], 'milage': itemlist[2], 'location': itemlist[3]})\n",
    "    else:\n",
    "        continue"
   ]
  },
  {
   "cell_type": "code",
   "execution_count": null,
   "metadata": {
    "pycharm": {
     "name": "#%%\n"
    }
   },
   "outputs": [],
   "source": []
  },
  {
   "cell_type": "raw",
   "metadata": {
    "collapsed": false,
    "pycharm": {
     "name": "#%% raw\n"
    }
   },
   "source": [
    "# request content response\n",
    "resp = requests.get(home_url, headers=headers)\n",
    "content = resp.text\n",
    "soup = BeautifulSoup(content, 'lxml')\n",
    "pagination = soup.find('ul',{'class':'pagination'})\n",
    "next_page = pagination.find('a',{'rel':'next'})['href']\n",
    "\n",
    "box = article = soup.find('article',{'class':'main-article'})\n",
    "for link in box.find_all('a',href=True):\n",
    "    #print(link['href'])\n",
    "\n",
    "    links.append(link['href'])"
   ]
  },
  {
   "cell_type": "code",
   "execution_count": null,
   "metadata": {
    "pycharm": {
     "name": "#%%\n"
    }
   },
   "outputs": [],
   "source": []
  },
  {
   "cell_type": "code",
   "execution_count": null,
   "metadata": {
    "pycharm": {
     "name": "#%%\n"
    }
   },
   "outputs": [],
   "source": []
  },
  {
   "cell_type": "code",
   "execution_count": null,
   "metadata": {
    "pycharm": {
     "name": "#%%\n"
    }
   },
   "outputs": [],
   "source": []
  },
  {
   "cell_type": "code",
   "execution_count": null,
   "metadata": {
    "pycharm": {
     "name": "#%%\n"
    }
   },
   "outputs": [],
   "source": []
  },
  {
   "cell_type": "code",
   "execution_count": null,
   "metadata": {
    "pycharm": {
     "name": "#%%\n"
    }
   },
   "outputs": [],
   "source": []
  },
  {
   "cell_type": "code",
   "execution_count": null,
   "metadata": {
    "pycharm": {
     "name": "#%%\n"
    }
   },
   "outputs": [],
   "source": []
  },
  {
   "cell_type": "raw",
   "metadata": {
    "collapsed": false,
    "pycharm": {
     "name": "#%% raw\n"
    }
   },
   "source": [
    "while next_page:\n",
    "    resp = requests.get(next_page, headers=headers)\n",
    "    content = resp.text\n",
    "    soup = BeautifulSoup(content, 'lxml')\n",
    "    print(next_page)\n",
    "    box = article = soup.find('article', {'class': 'main-article'})\n",
    "    for link in box.find_all('a', href=True):\n",
    "        #print(link['href'])\n",
    "        links.append(link['href'])\n",
    "    try:\n",
    "        pagination = soup.find('ul', {'class': 'pagination'})\n",
    "        next_page = pagination.find('a', {'rel': 'next'})['href']\n",
    "    except Exception as error:\n",
    "        print(error)"
   ]
  },
  {
   "cell_type": "code",
   "execution_count": null,
   "metadata": {
    "pycharm": {
     "name": "#%%\n"
    }
   },
   "outputs": [],
   "source": [
    "f_driver.get(website)"
   ]
  },
  {
   "cell_type": "code",
   "execution_count": null,
   "metadata": {
    "pycharm": {
     "name": "#%%\n"
    }
   },
   "outputs": [],
   "source": []
  },
  {
   "cell_type": "code",
   "execution_count": null,
   "metadata": {
    "pycharm": {
     "name": "#%%\n"
    }
   },
   "outputs": [],
   "source": [
    "next_link = f_driver.find_element_by_xpath(\"//a[@class='nextLink']\")"
   ]
  },
  {
   "cell_type": "code",
   "execution_count": null,
   "metadata": {
    "pycharm": {
     "name": "#%%\n"
    }
   },
   "outputs": [],
   "source": [
    "next_url = next_link.get_attribute('href')"
   ]
  },
  {
   "cell_type": "code",
   "execution_count": null,
   "metadata": {
    "pycharm": {
     "name": "#%%\n"
    }
   },
   "outputs": [],
   "source": [
    "f_driver.get(next_url)"
   ]
  },
  {
   "cell_type": "code",
   "execution_count": null,
   "metadata": {
    "pycharm": {
     "name": "#%%\n"
    }
   },
   "outputs": [],
   "source": [
    "next_link.click()"
   ]
  },
  {
   "cell_type": "code",
   "execution_count": null,
   "metadata": {
    "pycharm": {
     "name": "#%%\n"
    }
   },
   "outputs": [],
   "source": []
  },
  {
   "cell_type": "code",
   "execution_count": null,
   "metadata": {
    "pycharm": {
     "name": "#%%\n"
    }
   },
   "outputs": [],
   "source": []
  },
  {
   "cell_type": "code",
   "execution_count": null,
   "metadata": {
    "pycharm": {
     "name": "#%%\n"
    }
   },
   "outputs": [],
   "source": []
  },
  {
   "cell_type": "code",
   "execution_count": null,
   "metadata": {
    "pycharm": {
     "name": "#%%\n"
    }
   },
   "outputs": [],
   "source": []
  },
  {
   "cell_type": "code",
   "execution_count": null,
   "metadata": {
    "pycharm": {
     "name": "#%%\n"
    }
   },
   "outputs": [],
   "source": []
  },
  {
   "cell_type": "code",
   "execution_count": null,
   "metadata": {
    "pycharm": {
     "name": "#%%\n"
    }
   },
   "outputs": [],
   "source": []
  },
  {
   "cell_type": "code",
   "execution_count": null,
   "metadata": {
    "pycharm": {
     "name": "#%%\n"
    }
   },
   "outputs": [],
   "source": []
  },
  {
   "cell_type": "code",
   "execution_count": null,
   "metadata": {
    "pycharm": {
     "name": "#%%\n"
    }
   },
   "outputs": [],
   "source": []
  },
  {
   "cell_type": "code",
   "execution_count": null,
   "metadata": {
    "pycharm": {
     "name": "#%%\n"
    }
   },
   "outputs": [],
   "source": []
  },
  {
   "cell_type": "code",
   "execution_count": null,
   "metadata": {
    "pycharm": {
     "name": "#%%\n"
    }
   },
   "outputs": [],
   "source": []
  },
  {
   "cell_type": "code",
   "execution_count": null,
   "metadata": {
    "pycharm": {
     "name": "#%%\n"
    }
   },
   "outputs": [],
   "source": []
  },
  {
   "cell_type": "code",
   "execution_count": null,
   "metadata": {
    "pycharm": {
     "name": "#%%\n"
    }
   },
   "outputs": [],
   "source": []
  },
  {
   "cell_type": "code",
   "execution_count": null,
   "metadata": {
    "pycharm": {
     "name": "#%%\n"
    }
   },
   "outputs": [],
   "source": []
  },
  {
   "cell_type": "markdown",
   "metadata": {
    "collapsed": false,
    "pycharm": {
     "name": "#%% md\n"
    }
   },
   "source": [
    "# Quit Drivers"
   ]
  },
  {
   "cell_type": "code",
   "execution_count": null,
   "metadata": {
    "pycharm": {
     "name": "#%%\n"
    }
   },
   "outputs": [],
   "source": [
    "f_driver.quit()\n",
    "c_driver.quit()"
   ]
  }
 ],
 "metadata": {
  "kernelspec": {
   "display_name": "Python 3",
   "language": "python",
   "name": "python3"
  },
  "language_info": {
   "codemirror_mode": {
    "name": "ipython",
    "version": 2
   },
   "file_extension": "[REDACTED][REDACTED]/.py",
   "mimetype": "text/x-python",
   "name": "python",
   "nbconvert_exporter": "python",
   "pygments_lexer": "ipython2",
   "version": "2.7.6"
  }
 },
 "nbformat": 4,
 "nbformat_minor": 0
}
