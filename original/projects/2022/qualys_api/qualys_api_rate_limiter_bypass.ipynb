{
 "cells": [
  {
   "cell_type": "markdown",
   "metadata": {
    "collapsed": false,
    "pycharm": {
     "name": "#%% md\n"
    }
   },
   "source": [
    "<h1>Qualys API</h1>"
   ]
  },
  {
   "cell_type": "code",
   "execution_count": null,
   "metadata": {
    "pycharm": {
     "name": "#%%\n"
    }
   },
   "outputs": [],
   "source": [
    "#data conditioning\n",
    "import pandas as pd\n",
    "import re\n",
    "import datetime as dt\n",
    "\n",
    "\n",
    "# data visualization\n",
    "[REDACTED]/.pyplot as plt\n",
    "import seaborn as sns\n",
    "\n",
    "\n",
    "# add current timestamp to filename for reference\n",
    "current_time = (dt.datetime.utcnow().strftime('%Y_%m_%d_%H%M%S'))\n",
    "\n",
    "# git repo folder\n",
    "git_folder = 'd:/git'\n",
    "\n",
    "# export folder will contain all csv exported DataFrames for Ticket Creation\n",
    "export_folder = 'd:/exports/'\n",
    "\n",
    "# dictionary location\n",
    "dictionary_dir = f'{git_folder}/data_parsing/dictionaries'\n",
    "\n",
    "\n",
    "# import configparser for env secrets\n",
    "from configparser import ConfigParser\n",
    "\n",
    "config = ConfigParser()\n",
    "config.read(f'{git_folder}/config/env.ini')\n",
    "import requests\n",
    "import json\n",
    "from requests.structures import CaseInsensitiveDict"
   ]
  },
  {
   "cell_type": "code",
   "execution_count": null,
   "metadata": {
    "pycharm": {
     "name": "#%%\n"
    }
   },
   "outputs": [],
   "source": []
  }
 ],
 "metadata": {
  "kernelspec": {
   "display_name": "Python 3",
   "language": "python",
   "name": "python3"
  },
  "language_info": {
   "codemirror_mode": {
    "name": "ipython",
    "version": 2
   },
   "file_extension": "[REDACTED][REDACTED]/.py",
   "mimetype": "text/x-python",
   "name": "python",
   "nbconvert_exporter": "python",
   "pygments_lexer": "ipython2",
   "version": "2.7.6"
  }
 },
 "nbformat": 4,
 "nbformat_minor": 0
}
