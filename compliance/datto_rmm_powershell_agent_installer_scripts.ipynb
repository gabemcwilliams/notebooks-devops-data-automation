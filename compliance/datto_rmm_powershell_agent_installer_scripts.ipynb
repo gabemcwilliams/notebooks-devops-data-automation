{
 "cells": [
  {
   "cell_type": "markdown",
   "metadata": {
    "collapsed": false,
    "pycharm": {
     "name": "#%% md\n"
    }
   },
   "source": [
    "<h1> DattoRMM - Create Agent Install PowerShell Scripts <h1>"
   ]
  },
  {
   "cell_type": "code",
   "execution_count": null,
   "metadata": {
    "pycharm": {
     "name": "#%%\n"
    }
   },
   "outputs": [],
   "source": [
    "# data import and file manipulation\n",
    "import json\n",
    "\n",
    "#data conditioning\n",
    "import pandas as pd\n",
    "import re\n",
    "import datetime as dt\n",
    "\n",
    "import requests\n",
    "from requests.utils import CaseInsensitiveDict"
   ]
  },
  {
   "cell_type": "code",
   "execution_count": null,
   "metadata": {
    "pycharm": {
     "name": "#%%\n"
    }
   },
   "outputs": [],
   "source": [
    " # add current timestamp to filename for reference\n",
    "current_time = (dt.datetime.utcnow().strftime('%Y_%m_%d_%H%M%S'))\n",
    "\n",
    "# export folder will contain all csv exported DataFrames for Ticket Creation\n",
    "export_folder = 'd:/exports/datto_install_scripts'"
   ]
  },
  {
   "cell_type": "code",
   "execution_count": null,
   "metadata": {},
   "outputs": [],
   "source": [
    "\n",
    "import os\n",
    "import hvac\n",
    "\n",
    "def read_secret(mount_point, path):\n",
    "    client = hvac.Client(url=os.environ.get(\"VAULT_ADDR\"))\n",
    "    resp = client.kv.v2.read_secret(mount_point=mount_point, path=f'/{path}')\n",
    "    secret = resp['data']['data']\n",
    "\n",
    "    return secret\n"
   ]
  },
  {
   "cell_type": "code",
   "execution_count": null,
   "metadata": {},
   "outputs": [],
   "source": [
    "secrets = read_secret(\"api\", \"DATTO_RMM_CONFIG\")"
   ]
  },
  {
   "cell_type": "markdown",
   "metadata": {
    "collapsed": false,
    "pycharm": {
     "name": "#%% md\n"
    }
   },
   "source": [
    "# Create Site Info DataFrames"
   ]
  },
  {
   "cell_type": "markdown",
   "metadata": {
    "collapsed": false,
    "pycharm": {
     "name": "#%% md\n"
    }
   },
   "source": [
    "## Create auth token"
   ]
  },
  {
   "cell_type": "code",
   "execution_count": null,
   "metadata": {
    "pycharm": {
     "name": "#%%\n"
    }
   },
   "outputs": [],
   "source": [
    "# call token api url\n",
    "token_uri = f'{secrets[\"base_uri\"]}/auth/oauth/token'\n",
    "\n",
    "\n",
    "# construct header\n",
    "headers = CaseInsensitiveDict()\n",
    "headers['Content-Type'] = 'application/x-www-form-urlencoded'\n",
    "\n",
    "# construct req body\n",
    "data = CaseInsensitiveDict()\n",
    "data['grant_type'] = 'password'\n",
    "data['username'] = secrets[\"api_key\"]\n",
    "data['password'] = secrets[\"api_secret\"]\n",
    "\n",
    "# request content response\n",
    "resp = requests.post(token_uri, headers=headers, data=data, auth=('public-client', 'public'))\n",
    "content = resp.content.decode('utf-8')\n",
    "c_dict = json.loads(content)\n",
    "\n",
    "access_token = c_dict['access_token']"
   ]
  },
  {
   "cell_type": "markdown",
   "metadata": {
    "collapsed": false,
    "pycharm": {
     "name": "#%% md\n"
    }
   },
   "source": [
    "## Pull Site Info"
   ]
  },
  {
   "cell_type": "code",
   "execution_count": null,
   "metadata": {
    "pycharm": {
     "name": "#%%\n"
    }
   },
   "outputs": [],
   "source": [
    "## Create Devices DataFrame\n",
    "# request content response\n",
    "request_url = f'{secrets[\"base_uri\"]}/api/v2/account/sites'\n",
    "\n",
    "# construct header\n",
    "headers = CaseInsensitiveDict()\n",
    "headers['Authorization'] = f'Bearer {access_token}'\n",
    "headers['Content-Type'] = 'application/json'\n",
    "\n",
    "# construct req body\n",
    "data = ''\n",
    "\n",
    "print(f'Request URL: {request_url}')\n",
    "\n",
    "resp = requests.get(request_url, headers=headers, data=data)\n",
    "content = resp.content.decode('utf-8')\n",
    "c_dict = json.loads(content)\n",
    "\n",
    "df_sites = pd.DataFrame(c_dict['sites'])\n",
    "\n",
    "\n",
    "df_site_info = df_sites[df_sites['name'] != 'Deleted Devices']"
   ]
  },
  {
   "cell_type": "markdown",
   "metadata": {
    "collapsed": false,
    "pycharm": {
     "name": "#%% md\n"
    }
   },
   "source": [
    "# Create PowerShell Template and Import DattoRMM Site Variables\n",
    "## PowerShell Body Template"
   ]
  },
  {
   "cell_type": "code",
   "execution_count": null,
   "metadata": {
    "pycharm": {
     "name": "#%%\n"
    }
   },
   "outputs": [],
   "source": [
    "def powershell_template(dictionary):\n",
    "\n",
    "    datto_script_template = f\"\"\"\n",
    "\n",
    "# -----------------------------------------------------------------------------------------------\n",
    "# Title: DattoRMM Agent Install\n",
    "# Author: Gabe McWilliams\n",
    "# Purpose: Install DattoRMM Agent for Client: {dictionary['siteName']}\n",
    "# Date of Creation: {dt.datetime.now().strftime(\"%Y/%m/%d\")}\n",
    "# Version 1.0\n",
    "#\n",
    "#  DattoRMM Deployment Script -- DO NOT RUN ON DEVICES WITH WORKING DATTORMM AGENTS! --\n",
    "#\n",
    "# ----------------------------------------------------------------------------------------------  #>\n",
    "\n",
    "[Net.ServicePointManager]::SecurityProtocol =\n",
    "[Net.SecurityProtocolType]::Tls12\n",
    "If (Get-Service CagService -ErrorAction SilentlyContinue) \\u007b\n",
    "    Write-Output \"Datto RMM Agent already installed on this device\"\n",
    "    Exit 0\n",
    "    \\u007d\n",
    "Invoke-WebRequest -Uri {dictionary['agentDownloadUrl']} -OutFile c:\\windows\\\\temp\\DattoAgent.exe\n",
    "Test-Path -Path C:\\windows\\\\temp\\DattoAgent.exe -PathType Leaf\n",
    "c:\\windows\\\\temp\\DattoAgent.exe /qn\n",
    "\n",
    "\n",
    "\"\"\"\n",
    "\n",
    "    return datto_script_template"
   ]
  },
  {
   "cell_type": "markdown",
   "metadata": {
    "collapsed": false,
    "pycharm": {
     "name": "#%% md\n"
    }
   },
   "source": [
    "## Construct Download URL"
   ]
  },
  {
   "cell_type": "code",
   "execution_count": null,
   "metadata": {
    "pycharm": {
     "name": "#%%\n"
    }
   },
   "outputs": [],
   "source": [
    "def agent_download_url(row):\n",
    "    return f\"https://concord.centrastage.net/csm/profile/downloadAgent/{row['uid']}\""
   ]
  },
  {
   "cell_type": "markdown",
   "metadata": {
    "collapsed": false,
    "pycharm": {
     "name": "#%% md\n"
    }
   },
   "source": [
    "## Create Powershell Installer Scripts"
   ]
  },
  {
   "cell_type": "code",
   "execution_count": null,
   "metadata": {
    "pycharm": {
     "name": "#%%\n"
    }
   },
   "outputs": [],
   "source": [
    "dattormm_agent_installers = []\n",
    "for index, row in df_site_info.iterrows():\n",
    "    temp_dict = {}\n",
    "    temp_dict['siteName'] = row['name']\n",
    "    temp_dict['agentDownloadUrl'] = agent_download_url(row)\n",
    "    dattormm_agent_installers.append(temp_dict)"
   ]
  },
  {
   "cell_type": "code",
   "execution_count": null,
   "metadata": {
    "pycharm": {
     "name": "#%%\n"
    }
   },
   "outputs": [],
   "source": [
    "for e in dattormm_agent_installers:\n",
    "    file_name = re.sub(r'(\\s\\-\\s|\\s+|\\.\\s?)','_',e['siteName'].lower())\n",
    "    with open(f\"{export_folder}/{file_name}_dattormm_agent_install.ps1\", 'w+') as f:\n",
    "        f.write(powershell_template(e))"
   ]
  },
  {
   "cell_type": "code",
   "execution_count": null,
   "metadata": {
    "pycharm": {
     "name": "#%%\n"
    }
   },
   "outputs": [],
   "source": []
  }
 ],
 "metadata": {
  "kernelspec": {
   "display_name": "Python 3",
   "language": "python",
   "name": "python3"
  },
  "language_info": {
   "codemirror_mode": {
    "name": "ipython",
    "version": 2
   },
   "file_extension": "[REDACTED][REDACTED]/.py",
   "mimetype": "text/x-python",
   "name": "python",
   "nbconvert_exporter": "python",
   "pygments_lexer": "ipython2",
   "version": "2.7.6"
  }
 },
 "nbformat": 4,
 "nbformat_minor": 0
}
