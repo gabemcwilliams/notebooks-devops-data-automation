{
 "cells": [
  {
   "cell_type": "markdown",
   "metadata": {
    "collapsed": false,
    "pycharm": {
     "name": "#%% md\n"
    }
   },
   "source": [
    "<h1> DattoRMM - Software  </h1>"
   ]
  },
  {
   "cell_type": "markdown",
   "metadata": {
    "collapsed": false,
    "pycharm": {
     "name": "#%% md\n"
    }
   },
   "source": [
    "### Import Core Modules"
   ]
  },
  {
   "cell_type": "code",
   "execution_count": null,
   "metadata": {
    "ExecuteTime": {
     "end_time": "2023-09-14T19:11:26.064684500Z",
     "start_time": "2023-09-14T19:11:25.978962900Z"
    },
    "pycharm": {
     "name": "#%%\n"
    }
   },
   "outputs": [],
   "source": [
    "# data import and file manipulation\n",
    "import requests\n",
    "import json\n",
    "\n",
    "# response parsing\n",
    "from lxml import etree\n",
    "from bs4 import BeautifulSoup\n",
    "# from requests_html import AsyncHTMLSession\n",
    "import asyncio\n",
    "\n",
    "import hvac\n",
    "\n",
    "#data conditioning\n",
    "import pandas as pd\n",
    "import numpy as np\n",
    "import re\n",
    "import datetime as dt"
   ]
  },
  {
   "cell_type": "markdown",
   "metadata": {
    "collapsed": false,
    "pycharm": {
     "name": "#%% md\n"
    }
   },
   "source": [
    "### Create report_time var, git location, export location"
   ]
  },
  {
   "cell_type": "code",
   "execution_count": null,
   "metadata": {
    "ExecuteTime": {
     "end_time": "2023-09-14T18:54:46.308433500Z",
     "start_time": "2023-09-14T18:54:46.181244200Z"
    },
    "pycharm": {
     "name": "#%%\n"
    }
   },
   "outputs": [],
   "source": [
    "# add current timestamp to filename for reference\n",
    "current_time = (dt.datetime.utcnow().strftime('%Y_%m_%d_%H%M%S'))\n",
    "\n",
    "# git repo folder\n",
    "git_folder = 'd:/git/example_infrastructure_data_dev'\n",
    "\n",
    "# export folder will contain all csv exported DataFrames for Ticket Creation\n",
    "export_folder = 'd:/exports/'"
   ]
  },
  {
   "cell_type": "markdown",
   "metadata": {
    "collapsed": false,
    "pycharm": {
     "name": "#%% md\n"
    }
   },
   "source": [
    "### Import ConfigParser and Create env Variables"
   ]
  },
  {
   "cell_type": "code",
   "execution_count": null,
   "metadata": {
    "ExecuteTime": {
     "end_time": "2023-09-14T19:12:41.050855200Z",
     "start_time": "2023-09-14T19:12:41.032723300Z"
    }
   },
   "outputs": [],
   "source": [
    "query = [{\n",
    "    \"name\":\"notepad++\",\n",
    "    \"version\":\"8.5.7\"\n",
    "}]"
   ]
  },
  {
   "cell_type": "code",
   "execution_count": null,
   "metadata": {
    "ExecuteTime": {
     "end_time": "2023-09-14T19:12:41.263279900Z",
     "start_time": "2023-09-14T19:12:41.229284900Z"
    }
   },
   "outputs": [],
   "source": [
    "def __read_secret__(mount_point=\"api\", path=\"DATTO_RMM\"):\n",
    "\n",
    "    client = hvac.Client()\n",
    "    resp = client.kv.v2.read_secret(mount_point=mount_point, path=f'/{path}')\n",
    "    secret = resp['data']['data']\n",
    "\n",
    "    return secret"
   ]
  },
  {
   "cell_type": "markdown",
   "metadata": {
    "collapsed": false
   },
   "source": [
    "# Create Datto RMM Device DataFrame"
   ]
  },
  {
   "cell_type": "code",
   "execution_count": null,
   "metadata": {
    "ExecuteTime": {
     "end_time": "2023-09-14T19:13:19.953311100Z",
     "start_time": "2023-09-14T19:13:18.416523800Z"
    }
   },
   "outputs": [],
   "source": [
    "secrets = __read_secret__()"
   ]
  },
  {
   "cell_type": "markdown",
   "metadata": {
    "collapsed": false
   },
   "source": [
    "## Create auth token"
   ]
  },
  {
   "cell_type": "code",
   "execution_count": null,
   "metadata": {
    "ExecuteTime": {
     "end_time": "2023-09-14T19:17:33.240443600Z",
     "start_time": "2023-09-14T19:17:33.219125900Z"
    }
   },
   "outputs": [],
   "source": []
  },
  {
   "cell_type": "code",
   "execution_count": null,
   "metadata": {
    "ExecuteTime": {
     "end_time": "2023-09-14T19:20:29.804285900Z",
     "start_time": "2023-09-14T19:20:28.991040900Z"
    }
   },
   "outputs": [],
   "source": [
    "config_dict = __read_secret__()\n",
    "\n",
    "# call token api url\n",
    "token_uri = f'{config_dict[\"base_uri\"]}/auth/oauth/token'\n",
    "\n",
    "# construct header\n",
    "headers = {\n",
    "    'Content-Type': 'application/x-www-form-urlencoded'\n",
    "}\n",
    "\n",
    "\n",
    "# construct req body\n",
    "data = {\n",
    "    'grant_type': 'password',\n",
    "    'username': secrets['api_key'],\n",
    "    'password': secrets['api_secret'],\n",
    "}\n",
    "\n",
    "# request content response\n",
    "resp = requests.post(token_uri, headers=headers, data=data, auth=(\"public-client\", \"public\"))\n",
    "content = resp.content.decode(\"utf-8\")\n",
    "c_dict = json.loads(content)\n",
    "\n",
    "config_dict[\"access_token\"] = c_dict[\"access_token\"]"
   ]
  },
  {
   "cell_type": "markdown",
   "metadata": {
    "collapsed": false
   },
   "source": [
    "## Create DataFrame via API Call Iteration\n"
   ]
  },
  {
   "cell_type": "code",
   "execution_count": null,
   "metadata": {},
   "outputs": [],
   "source": []
  },
  {
   "cell_type": "code",
   "execution_count": null,
   "metadata": {},
   "outputs": [],
   "source": []
  },
  {
   "cell_type": "code",
   "execution_count": null,
   "metadata": {
    "ExecuteTime": {
     "end_time": "2023-09-14T19:21:17.407596100Z",
     "start_time": "2023-09-14T19:21:04.150955400Z"
    },
    "pycharm": {
     "name": "#%%\n"
    }
   },
   "outputs": [],
   "source": [
    "\n",
    "## Create Devices DataFrame\n",
    "# request content response\n",
    "request_url = f\"{config_dict['base_uri']}/api/v2/account/devices\"\n",
    "\n",
    "# construct header\n",
    "headers = {\n",
    "    'Content-Type': 'application/json',\n",
    "    'Authorization': f'Bearer {config_dict[\"access_token\"]}'\n",
    "}\n",
    "\n",
    "# construct req body\n",
    "data = ''\n",
    "\n",
    "print(f'Request URL: {request_url}')\n",
    "\n",
    "resp = requests.get(request_url, headers=headers, data=data)\n",
    "content = resp.content.decode('utf-8')\n",
    "c_dict = json.loads(content)\n",
    "\n",
    "\n",
    "# iterate and combine remaining pages\n",
    "df_devices = pd.DataFrame(c_dict['devices'])\n",
    "while c_dict['pageDetails']['nextPageUrl']:\n",
    "    next_page = c_dict['pageDetails']['nextPageUrl']\n",
    "    resp = requests.get(next_page, headers=headers, data=data)\n",
    "    content = resp.content.decode('utf-8')\n",
    "    c_dict = json.loads(content)\n",
    "\n",
    "    df_current_page = pd.DataFrame(c_dict['devices'])\n",
    "    df_devices = pd.concat([df_devices, df_current_page], ignore_index=False)"
   ]
  },
  {
   "cell_type": "code",
   "execution_count": null,
   "metadata": {
    "ExecuteTime": {
     "end_time": "2023-09-14T19:22:13.036757600Z",
     "start_time": "2023-09-14T19:22:12.970640900Z"
    }
   },
   "outputs": [],
   "source": [
    "df_devices"
   ]
  },
  {
   "cell_type": "markdown",
   "metadata": {
    "collapsed": false,
    "pycharm": {
     "name": "#%% md\n"
    }
   },
   "source": [
    "### Hostname to_upper()"
   ]
  },
  {
   "cell_type": "code",
   "execution_count": null,
   "metadata": {
    "ExecuteTime": {
     "end_time": "2023-09-14T19:30:26.449342900Z",
     "start_time": "2023-09-14T19:30:26.410472700Z"
    },
    "pycharm": {
     "name": "#%%\n"
    }
   },
   "outputs": [],
   "source": [
    "df_devices['hostname'] = df_devices['hostname'].str.upper()"
   ]
  },
  {
   "cell_type": "markdown",
   "metadata": {
    "collapsed": false,
    "pycharm": {
     "name": "#%% md\n"
    }
   },
   "source": [
    "### Replace Dtypes with Int64"
   ]
  },
  {
   "cell_type": "code",
   "execution_count": null,
   "metadata": {
    "ExecuteTime": {
     "end_time": "2023-09-14T19:30:29.524879Z",
     "start_time": "2023-09-14T19:30:29.495752200Z"
    },
    "pycharm": {
     "name": "#%%\n"
    }
   },
   "outputs": [],
   "source": [
    "convert_to_int_mask = ((df_devices.dtypes == 'float') | (df_devices.dtypes == 'bool') | (df_devices.dtypes == 'uint8')) & (df_devices.columns != 'patchStatusPercent')\n",
    "convert_to_int = df_devices.dtypes[convert_to_int_mask].index.tolist()"
   ]
  },
  {
   "cell_type": "code",
   "execution_count": null,
   "metadata": {
    "ExecuteTime": {
     "end_time": "2023-09-14T19:30:30.507331100Z",
     "start_time": "2023-09-14T19:30:30.480271200Z"
    },
    "pycharm": {
     "name": "#%%\n"
    }
   },
   "outputs": [],
   "source": [
    "df_devices[convert_to_int] = df_devices[convert_to_int].astype('Int64')"
   ]
  },
  {
   "cell_type": "code",
   "execution_count": null,
   "metadata": {
    "ExecuteTime": {
     "end_time": "2023-09-14T19:45:04.101901300Z",
     "start_time": "2023-09-14T19:45:03.951349800Z"
    },
    "pycharm": {
     "name": "#%%\n"
    }
   },
   "outputs": [],
   "source": [
    "df_devices = df_devices[['uid','siteName','hostname','intIpAddress','operatingSystem','domain','lastAuditDate','portalUrl','softwareStatus']]"
   ]
  },
  {
   "cell_type": "markdown",
   "metadata": {
    "collapsed": false,
    "pycharm": {
     "name": "#%% md\n"
    }
   },
   "source": [
    "## Filter Devices by siteName in 'datto_rmm_software_management_report.dict'"
   ]
  },
  {
   "cell_type": "code",
   "execution_count": null,
   "metadata": {
    "ExecuteTime": {
     "end_time": "2023-09-14T19:34:05.063003900Z",
     "start_time": "2023-09-14T19:34:05.000529200Z"
    }
   },
   "outputs": [],
   "source": [
    "df_devices"
   ]
  },
  {
   "cell_type": "code",
   "execution_count": null,
   "metadata": {
    "pycharm": {
     "name": "#%%\n"
    }
   },
   "outputs": [],
   "source": [
    "df = pd.read_csv('d:/git/example_infrastructure_data_dev/dictionaries/datto_rmm_software_management_report.dict')\n",
    "software_mgmt = {}\n",
    "software_mgmt['siteName'] = list(df['siteName'].dropna())\n",
    "software_mgmt['softwareInstalled'] = list(df['softwareInstalled'].dropna())\n",
    "software_mgmt['column'] = list(df['column'].dropna())"
   ]
  },
  {
   "cell_type": "markdown",
   "metadata": {
    "collapsed": false,
    "pycharm": {
     "name": "#%% md\n"
    }
   },
   "source": [
    "# Create Software Version DataFrame"
   ]
  },
  {
   "cell_type": "markdown",
   "metadata": {
    "collapsed": false,
    "pycharm": {
     "name": "#%% md\n"
    }
   },
   "source": [
    "## Prepare Data for recall and shaping"
   ]
  },
  {
   "cell_type": "markdown",
   "metadata": {
    "collapsed": false,
    "pycharm": {
     "name": "#%% md\n"
    }
   },
   "source": [
    "## Create Software DataFrame\n",
    "\n",
    "* Because of the high volume of data from pulling all software and version for each device,\n",
    "    a method of storing each call response in a JSON document then calling it back keeps memory usage low as objects in memory are created then destroyed in memory but retrained in restful data.\n",
    "* The same idea is used when calling data out of JSON into a concatenated dataframe after splitting the data up from a nested 'software' dictionary.\n",
    "* Although this may seem counterintuitive, because each device has different software installed, this method was preferred over using a database because it can be used by anyone.\n",
    "* If a db or json was not used, there would be an error on each row as columns will never match without the pandas algorithm of the concatenate function 'concat'\n"
   ]
  },
  {
   "cell_type": "markdown",
   "metadata": {
    "collapsed": false,
    "pycharm": {
     "name": "#%% md\n"
    }
   },
   "source": [
    "### FUNCTION: Explode Software Names / Versions into Columns"
   ]
  },
  {
   "cell_type": "code",
   "execution_count": null,
   "metadata": {
    "pycharm": {
     "name": "#%%\n"
    }
   },
   "outputs": [],
   "source": [
    "def explode_software(software):\n",
    "    software_dict = {}\n",
    "    software_name = software['name']\n",
    "    software_version = software['version']\n",
    "    #print(f\"Creating dictionary for software: {software_name} with version {software_version}\")\n",
    "    software_dict[software_name] = software_version\n",
    "    return software_dict"
   ]
  },
  {
   "cell_type": "code",
   "execution_count": null,
   "metadata": {
    "pycharm": {
     "name": "#%%\n"
    }
   },
   "outputs": [],
   "source": [
    "def software_standard_filter(string):\n",
    "    for index, e in enumerate(software_mgmt['softwareInstalled']):\n",
    "        try:\n",
    "            result = re.findall(e.lower(),string.lower())\n",
    "            if result:\n",
    "                print(f'Keyword found: {e}')\n",
    "                return software_mgmt['column'][index]\n",
    "                break\n",
    "\n",
    "        except Exception as e:\n",
    "            break"
   ]
  },
  {
   "cell_type": "code",
   "execution_count": null,
   "metadata": {
    "pycharm": {
     "name": "#%%\n"
    }
   },
   "outputs": [],
   "source": [
    "def software_api_req(row):\n",
    "    # request content response\n",
    "    request_url = f\"{dattormm_config['base_uri']}/api/v2/audit/device/{row['uid']}/software\"\n",
    "\n",
    "    # construct header\n",
    "    headers = CaseInsensitiveDict()\n",
    "    headers['Authorization'] = f'Bearer {access_token}'\n",
    "    headers['Content-Type'] = 'application/json'\n",
    "\n",
    "    # construct req body\n",
    "    data = ''\n",
    "\n",
    "    print(f'\\nRequest URL: {request_url}\\n\\n')\n",
    "\n",
    "    resp = requests.get(request_url, headers=headers, data=data)\n",
    "    content = resp.content.decode('utf-8')\n",
    "    c_dict = json.loads(content)\n",
    "\n",
    "    # Create DB Object for Entry\n",
    "    object_dict = dict(row)\n",
    "\n",
    "    # object_list.append(object_dict)\n",
    "    print(object_dict)\n",
    "\n",
    "    # Explode and Shape Software Dict List Elements\n",
    "    for software in c_dict['software']:\n",
    "        software_entry = explode_software(software)\n",
    "        for k,v in software_entry.items():\n",
    "            software_name = software_standard_filter(k)\n",
    "            if software_name:\n",
    "                object_dict[software_name] = v\n",
    "\n",
    "    print('*'*50)\n",
    "\n",
    "    return object_dict"
   ]
  },
  {
   "cell_type": "code",
   "execution_count": null,
   "metadata": {
    "pycharm": {
     "name": "#%%\n"
    }
   },
   "outputs": [],
   "source": [
    "df_software = pd.DataFrame()\n",
    "\n",
    "devices_software_list = []\n",
    "\n",
    "for index, row in df_devices.iterrows():\n",
    "\n",
    "    devices_software_list.append(software_api_req(row))\n",
    "\n",
    "\n",
    "df_software = pd.DataFrame(devices_software_list)"
   ]
  },
  {
   "cell_type": "markdown",
   "metadata": {
    "collapsed": false,
    "pycharm": {
     "name": "#%% md\n"
    }
   },
   "source": [
    "# Shape Software DataFrame"
   ]
  },
  {
   "cell_type": "markdown",
   "metadata": {
    "collapsed": false,
    "pycharm": {
     "name": "#%% md\n"
    }
   },
   "source": [
    "### Set Index to device UID"
   ]
  },
  {
   "cell_type": "code",
   "execution_count": null,
   "metadata": {
    "pycharm": {
     "name": "#%%\n"
    }
   },
   "outputs": [],
   "source": [
    "df_software.set_index('uid', inplace=True)"
   ]
  },
  {
   "cell_type": "markdown",
   "metadata": {
    "collapsed": false,
    "pycharm": {
     "name": "#%% md\n"
    }
   },
   "source": [
    "### FillNA"
   ]
  },
  {
   "cell_type": "code",
   "execution_count": null,
   "metadata": {
    "pycharm": {
     "name": "#%%\n"
    }
   },
   "outputs": [],
   "source": [
    "df_software.fillna(2,inplace=True)"
   ]
  },
  {
   "cell_type": "markdown",
   "metadata": {
    "collapsed": false,
    "pycharm": {
     "name": "#%% md\n"
    }
   },
   "source": [
    "## Create Boolean columns based on Compliance Version"
   ]
  },
  {
   "cell_type": "markdown",
   "metadata": {
    "collapsed": false,
    "pycharm": {
     "name": "#%% md\n"
    }
   },
   "source": [
    "### Adobe Air"
   ]
  },
  {
   "cell_type": "code",
   "execution_count": null,
   "metadata": {
    "pycharm": {
     "name": "#%%\n"
    }
   },
   "outputs": [],
   "source": [
    "request_url = f'https://airsdk.harman.com/download'\n",
    "\n",
    "asession = AsyncHTMLSession()\n",
    "r = await asession.get(request_url)\n",
    "await r.html.arender()\n",
    "resp=r.html.raw_html\n",
    "\n",
    "soup = BeautifulSoup(resp)\n",
    "dom = etree.HTML(str(soup))\n",
    "\n",
    "result_list = []\n",
    "\n",
    "for node in dom.xpath('//div'):\n",
    "    text = ''.join(node.itertext()).strip()\n",
    "    result = re.findall(r'Download\\sAdobe\\s(\\d+\\.\\d+)',text)\n",
    "    if result:\n",
    "        for r in result:\n",
    "            result_list.append(r)\n",
    "\n",
    "\n",
    "latest_adobe_air_version = result_list[0]\n",
    "df_software['latestAdobeAir'] = latest_adobe_air_version\n",
    "print(f'Latest Adobe Air Version: {latest_adobe_air_version}')"
   ]
  },
  {
   "cell_type": "code",
   "execution_count": null,
   "metadata": {
    "pycharm": {
     "name": "#%%\n"
    }
   },
   "outputs": [],
   "source": [
    "def is_adobe_air_current(currentVersion):\n",
    "    if currentVersion != 2:\n",
    "        if currentVersion == latest_adobe_air_version:\n",
    "            return 1\n",
    "        else:\n",
    "            return 0\n",
    "    else:\n",
    "        return 2"
   ]
  },
  {
   "cell_type": "code",
   "execution_count": null,
   "metadata": {
    "pycharm": {
     "name": "#%%\n"
    }
   },
   "outputs": [],
   "source": [
    "df_software['isAdobeAirCurrent'] = df_software['adobeAir'].apply(is_adobe_air_current)"
   ]
  },
  {
   "cell_type": "markdown",
   "metadata": {
    "collapsed": false,
    "pycharm": {
     "name": "#%% md\n"
    }
   },
   "source": [
    "### 7-Zip"
   ]
  },
  {
   "cell_type": "code",
   "execution_count": null,
   "metadata": {
    "pycharm": {
     "name": "#%%\n"
    }
   },
   "outputs": [],
   "source": [
    "request_url = f'https://www.7-zip.org/download.html'\n",
    "resp = requests.get(request_url)\n",
    "soup = BeautifulSoup(resp.content)\n",
    "dom = etree.HTML(str(soup))\n",
    "\n",
    "result_list = []\n",
    "\n",
    "for node in dom.xpath('//b'):\n",
    "    text = ''.join(node.itertext()).strip()\n",
    "    result = re.findall(r'7-Zip\\s(\\d+\\.\\d+)',text)\n",
    "    if result:\n",
    "        result_list.append(result[0])\n",
    "\n",
    "latest_7zip_version =  (result_list[0] + '.00.0')\n",
    "df_software['latest7Zip'] = latest_7zip_version\n",
    "print(f'Latest 7-Zip Version: {latest_7zip_version}')"
   ]
  },
  {
   "cell_type": "code",
   "execution_count": null,
   "metadata": {
    "pycharm": {
     "name": "#%%\n"
    }
   },
   "outputs": [],
   "source": [
    "def is_7zip_current(currentVersion):\n",
    "    if currentVersion != 2:\n",
    "        if currentVersion == latest_7zip_version:\n",
    "            return 1\n",
    "        else:\n",
    "            return 0\n",
    "    else:\n",
    "        return 2"
   ]
  },
  {
   "cell_type": "code",
   "execution_count": null,
   "metadata": {
    "pycharm": {
     "name": "#%%\n"
    }
   },
   "outputs": [],
   "source": [
    "df_software['is7ZipCurrent'] = df_software['7zip'].apply(is_7zip_current)"
   ]
  },
  {
   "cell_type": "markdown",
   "metadata": {
    "collapsed": false,
    "pycharm": {
     "name": "#%% md\n"
    }
   },
   "source": [
    "### Adobe DC Reader"
   ]
  },
  {
   "cell_type": "code",
   "execution_count": null,
   "metadata": {
    "pycharm": {
     "name": "#%%\n"
    }
   },
   "outputs": [],
   "source": [
    "request_url = \"https://helpx.adobe.com/acrobat/release-note/release-notes-acrobat-reader.html\"\n",
    "resp = requests.get(request_url)\n",
    "\n",
    "soup = BeautifulSoup(resp.content)\n",
    "result = re.findall(r'\\((\\d+\\.\\d+\\.\\d+)\\)', str(soup))\n",
    "latest_adobe_dc_reader_version = result[0]\n",
    "df_software['latestAdobeDCReader'] = latest_adobe_dc_reader_version\n",
    "print(f'Latest Acrobat Adobe DC Reader Version: {latest_adobe_dc_reader_version}')"
   ]
  },
  {
   "cell_type": "code",
   "execution_count": null,
   "metadata": {
    "pycharm": {
     "name": "#%%\n"
    }
   },
   "outputs": [],
   "source": [
    "def is_adobe_dc_reader_current(currentVersion):\n",
    "    if currentVersion != 2:\n",
    "        if currentVersion == latest_adobe_dc_reader_version:\n",
    "            return 1\n",
    "        else:\n",
    "            return 0\n",
    "    else:\n",
    "        return 2"
   ]
  },
  {
   "cell_type": "code",
   "execution_count": null,
   "metadata": {
    "pycharm": {
     "name": "#%%\n"
    }
   },
   "outputs": [],
   "source": [
    "df_software['isAdobeDCReaderCurrent'] = df_software['adobeAcrobatReaderDC'].apply(is_adobe_dc_reader_current)"
   ]
  },
  {
   "cell_type": "markdown",
   "metadata": {
    "collapsed": false,
    "pycharm": {
     "name": "#%% md\n"
    }
   },
   "source": [
    "### Google Chrome"
   ]
  },
  {
   "cell_type": "code",
   "execution_count": null,
   "metadata": {
    "pycharm": {
     "name": "#%%\n"
    }
   },
   "outputs": [],
   "source": [
    "product = 'chrome'\n",
    "platform = 'win64'\n",
    "channel = 'stable'\n",
    "version = 'all'\n",
    "\n",
    "result_list = []\n",
    "\n",
    "request_url = f\"https://versionhistory.googleapis.com/v1/{product}/platforms/{platform}/channels/{channel}/versions/{version}/releases\"\n",
    "resp = requests.get(request_url)\n",
    "results = re.findall(r'\\\"version\\\"\\:\\s\\\"(\\d+\\.\\d+\\.\\d+\\.\\d+)\\\"',str(resp.content))\n",
    "\n",
    "latest_chrome_version = results[0]\n",
    "df_software['latestChrome'] = latest_chrome_version\n",
    "print(f'Latest Chrome Version: {latest_chrome_version}')"
   ]
  },
  {
   "cell_type": "code",
   "execution_count": null,
   "metadata": {
    "pycharm": {
     "name": "#%%\n"
    }
   },
   "outputs": [],
   "source": [
    "def is_chrome_current(currentVersion):\n",
    "    if currentVersion != 2:\n",
    "        if currentVersion == latest_chrome_version:\n",
    "            return 1\n",
    "        else:\n",
    "            return 0\n",
    "    else:\n",
    "        return 2"
   ]
  },
  {
   "cell_type": "code",
   "execution_count": null,
   "metadata": {
    "pycharm": {
     "name": "#%%\n"
    }
   },
   "outputs": [],
   "source": [
    "df_software['isChromeCurrent'] = df_software['googleChrome'].apply(is_chrome_current)"
   ]
  },
  {
   "cell_type": "markdown",
   "metadata": {
    "collapsed": false,
    "pycharm": {
     "name": "#%% md\n"
    }
   },
   "source": [
    "### Mozilla Firefox"
   ]
  },
  {
   "cell_type": "code",
   "execution_count": null,
   "metadata": {
    "pycharm": {
     "name": "#%%\n"
    }
   },
   "outputs": [],
   "source": [
    "request_url = f\"[REDACTED]/.json\"\n",
    "resp = requests.get(request_url)\n",
    "soup = BeautifulSoup(resp.content)\n",
    "result = re.findall(r'\\\"LATEST_FIREFOX_VERSION\\\"\\:\\s\\\"(\\d+\\.\\d+\\.\\d+)\\\"',str(soup))\n",
    "\n",
    "latest_firefox_version = result[0]\n",
    "df_software['latestfirefox'] = latest_firefox_version\n",
    "print(f'Latest FireFox Version: {latest_firefox_version}')"
   ]
  },
  {
   "cell_type": "code",
   "execution_count": null,
   "metadata": {
    "pycharm": {
     "name": "#%%\n"
    }
   },
   "outputs": [],
   "source": [
    "def is_firefox_current(currentVersion):\n",
    "    if currentVersion != 2:\n",
    "        if currentVersion == latest_firefox_version:\n",
    "            return 1\n",
    "        else:\n",
    "            return 0\n",
    "    else:\n",
    "        return 2"
   ]
  },
  {
   "cell_type": "code",
   "execution_count": null,
   "metadata": {
    "pycharm": {
     "name": "#%%\n"
    }
   },
   "outputs": [],
   "source": [
    "df_software['isFirefoxCurrent'] = df_software['mozillaFirefox'].apply(is_firefox_current)"
   ]
  },
  {
   "cell_type": "markdown",
   "metadata": {
    "collapsed": false,
    "pycharm": {
     "name": "#%% md\n"
    }
   },
   "source": [
    "### MS Teams"
   ]
  },
  {
   "cell_type": "code",
   "execution_count": null,
   "metadata": {
    "pycharm": {
     "name": "#%%\n"
    }
   },
   "outputs": [],
   "source": [
    "request_url = f\"https://docs.microsoft.com/en-us/officeupdates/teams-app-versioning\"\n",
    "resp = requests.get(request_url)\n",
    "soup = BeautifulSoup(resp.content)\n",
    "\n",
    "dom = etree.HTML(str(soup))\n",
    "\n",
    "for node in dom.xpath('/html/body/div[2]/div/section/div/div[1]/main/div[3]/table[4]/tbody/tr[1]/td[3]'):\n",
    "    text = ''.join(node.itertext()).strip()\n",
    "\n",
    "latest_teams_version = text\n",
    "df_software['latestTeams'] = latest_teams_version\n",
    "print(f'Latest Teams Version: {latest_teams_version}')"
   ]
  },
  {
   "cell_type": "code",
   "execution_count": null,
   "metadata": {
    "pycharm": {
     "name": "#%%\n"
    }
   },
   "outputs": [],
   "source": [
    "def is_teams_current(currentVersion):\n",
    "    if currentVersion != 2:\n",
    "        if currentVersion == latest_teams_version:\n",
    "            return 1\n",
    "        else:\n",
    "            return 0\n",
    "    else:\n",
    "        return 2"
   ]
  },
  {
   "cell_type": "code",
   "execution_count": null,
   "metadata": {
    "pycharm": {
     "name": "#%%\n"
    }
   },
   "outputs": [],
   "source": [
    "df_software['isMSTeamsCurrent'] = df_software['microsoftTeams'].apply(is_teams_current)"
   ]
  },
  {
   "cell_type": "markdown",
   "metadata": {
    "collapsed": false,
    "pycharm": {
     "name": "#%% md\n"
    }
   },
   "source": [
    "### MS Office 365"
   ]
  },
  {
   "cell_type": "code",
   "execution_count": null,
   "metadata": {
    "pycharm": {
     "name": "#%%\n"
    }
   },
   "outputs": [],
   "source": [
    "request_url = f\"https://docs.microsoft.com/en-us/officeupdates/update-history-microsoft365-apps-by-date\"\n",
    "resp = requests.get(request_url)\n",
    "soup = BeautifulSoup(resp.content)\n",
    "\n",
    "dom = etree.HTML(str(soup))\n",
    "\n",
    "for node in dom.xpath('/html/body/div[2]/div/section/div/div[1]/main/div[3]/table[1]/tbody/tr[1]/td[3]'):\n",
    "    text = ''.join(node.itertext()).strip()\n",
    "\n",
    "latest_office_365_version = text\n",
    "df_software['latestOffice365'] = latest_office_365_version\n",
    "print(f'Latest Office 365 Version: {latest_office_365_version}')"
   ]
  },
  {
   "cell_type": "code",
   "execution_count": null,
   "metadata": {
    "pycharm": {
     "name": "#%%\n"
    }
   },
   "outputs": [],
   "source": [
    "def is_ms_office_current(currentVersion):\n",
    "    if currentVersion != 2:\n",
    "        if currentVersion == latest_office_365_version:\n",
    "            return 1\n",
    "        else:\n",
    "            return 0\n",
    "    else:\n",
    "        return 2"
   ]
  },
  {
   "cell_type": "code",
   "execution_count": null,
   "metadata": {
    "pycharm": {
     "name": "#%%\n"
    }
   },
   "outputs": [],
   "source": [
    "df_software['isMSOfficeCurrent'] = df_software['microsoftOffice365'].apply(is_ms_office_current)"
   ]
  },
  {
   "cell_type": "code",
   "execution_count": null,
   "metadata": {
    "pycharm": {
     "name": "#%%\n"
    }
   },
   "outputs": [],
   "source": [
    "software_report_cols = [\n",
    "    'siteName', 'hostname', 'intIpAddress', 'operatingSystem', 'category','domain',\n",
    "    'lastSeen', 'lastReboot', 'lastAuditDate', 'localTimezone',\n",
    "    'noAudit7Days', 'offline30Days',\n",
    "    'portalUrl', 'softwareStatus',\n",
    "    '7zip','latest7Zip', 'is7ZipCurrent',\n",
    "    'adobeAir', 'latestAdobeAir', 'isAdobeAirCurrent',\n",
    "    'adobeAcrobatReaderDC', 'latestAdobeDCReader', 'isAdobeDCReaderCurrent',\n",
    "    'googleChrome', 'latestChrome',  'isChromeCurrent',\n",
    "    'mozillaFirefox', 'latestfirefox', 'isFirefoxCurrent',\n",
    "    'mozillaThunderbird',\n",
    "    'microsoftOffice365', 'latestOffice365', 'isMSOfficeCurrent',\n",
    "    'microsoftTeams', 'latestTeams', 'isMSTeamsCurrent',\n",
    "    'fileZillaClient',\n",
    "    'java',\n",
    "    'citrixWorkspace',\n",
    "]"
   ]
  },
  {
   "cell_type": "code",
   "execution_count": null,
   "metadata": {
    "pycharm": {
     "name": "#%%\n"
    }
   },
   "outputs": [],
   "source": [
    "df_software = df_software[software_report_cols]"
   ]
  },
  {
   "cell_type": "code",
   "execution_count": null,
   "metadata": {
    "pycharm": {
     "name": "#%%\n"
    }
   },
   "outputs": [],
   "source": [
    "df_software.replace({2:np.NAN}).to_csv('[REDACTED]/.csv')"
   ]
  },
  {
   "cell_type": "code",
   "execution_count": null,
   "metadata": {
    "pycharm": {
     "name": "#%%\n"
    }
   },
   "outputs": [],
   "source": []
  }
 ],
 "metadata": {
  "kernelspec": {
   "display_name": "Python 3",
   "language": "python",
   "name": "python3"
  },
  "language_info": {
   "codemirror_mode": {
    "name": "ipython",
    "version": 2
   },
   "file_extension": "[REDACTED][REDACTED]/.py",
   "mimetype": "text/x-python",
   "name": "python",
   "nbconvert_exporter": "python",
   "pygments_lexer": "ipython2",
   "version": "2.7.6"
  }
 },
 "nbformat": 4,
 "nbformat_minor": 0
}
