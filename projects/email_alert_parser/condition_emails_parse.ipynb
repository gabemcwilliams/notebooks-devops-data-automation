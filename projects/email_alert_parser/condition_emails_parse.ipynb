{
 "cells": [
  {
   "cell_type": "code",
   "execution_count": null,
   "id": "initial_id",
   "metadata": {},
   "outputs": [],
   "source": [
    "import pandas as pd\n",
    "import datetime as dt\n",
    "import numpy as np\n",
    "import re\n",
    "import scipy as sp\n",
    "import matplotlib.pyplot as plt\n",
    "import seaborn as sns\n"
   ]
  },
  {
   "cell_type": "code",
   "execution_count": null,
   "id": "ab77bf12c64d51e9",
   "metadata": {},
   "outputs": [],
   "source": [
    "source_dir = \"D:/cache\"\n",
    "mystery_dir = f\"{source_dir}/mystery_emails\"\n",
    "parsed_dir = f\"{source_dir}/parsed_emails\""
   ]
  },
  {
   "cell_type": "code",
   "execution_count": null,
   "id": "9f643b65720a92f",
   "metadata": {},
   "outputs": [],
   "source": [
    "df_alerts = pd.read_csv(f\"{parsed_dir}.csv\", dtype_backend=\"pyarrow\")\n",
    "df_soc = pd.read_csv(f\"{parsed_dir}.csv\", dtype_backend=\"pyarrow\")\n",
    "df_support = pd.read_csv(f\"{parsed_dir}.csv\", dtype_backend=\"pyarrow\")"
   ]
  },
  {
   "cell_type": "code",
   "execution_count": null,
   "id": "51fd04002af440b5",
   "metadata": {},
   "outputs": [],
   "source": [
    "df_alerts.shape"
   ]
  },
  {
   "cell_type": "code",
   "execution_count": null,
   "id": "925c76d6fcdb884d",
   "metadata": {},
   "outputs": [],
   "source": [
    "df_soc.shape"
   ]
  },
  {
   "cell_type": "code",
   "execution_count": null,
   "id": "c1ac244450cf1c01",
   "metadata": {},
   "outputs": [],
   "source": [
    "df_support.shape"
   ]
  },
  {
   "cell_type": "code",
   "execution_count": null,
   "id": "a74d7bc429b5db5e",
   "metadata": {},
   "outputs": [],
   "source": [
    "df_combined = pd.concat(\n",
    "    [\n",
    "        df_alerts,\n",
    "        df_soc,\n",
    "        df_support\n",
    "    ],\n",
    "    axis=0,\n",
    "    ignore_index=True,\n",
    "    sort=True\n",
    ")"
   ]
  },
  {
   "cell_type": "code",
   "execution_count": null,
   "id": "f00c95267ace7748",
   "metadata": {},
   "outputs": [],
   "source": [
    "def extract_to_email(to: str) -> str:\n",
    "    result = re.match(r'.*<([^>]+)>.*', to)\n",
    "    if result:\n",
    "        return result.group(1)\n",
    "    else:\n",
    "        return None\n"
   ]
  },
  {
   "cell_type": "code",
   "execution_count": null,
   "id": "3de185136aa104f1",
   "metadata": {},
   "outputs": [],
   "source": [
    "df_combined['to'].unique()\n",
    "df_combined['to_email'] = df_combined['to'].apply(extract_to_email)\n",
    "df_combined['from_email'] = df_combined['from'].apply(extract_to_email)"
   ]
  },
  {
   "cell_type": "code",
   "execution_count": null,
   "id": "e0a8e1bbfc0b6af6",
   "metadata": {},
   "outputs": [],
   "source": [
    "df_combined"
   ]
  },
  {
   "cell_type": "code",
   "execution_count": null,
   "id": "71caa06e38c144b8",
   "metadata": {},
   "outputs": [],
   "source": [
    "df_combined['subject'].unique()"
   ]
  },
  {
   "cell_type": "code",
   "execution_count": null,
   "id": "62ecb8fbc9a6fbce",
   "metadata": {},
   "outputs": [],
   "source": [
    "def read_header_info(path:str, file:str) -> str:\n",
    "    with open(f'{path}/{file}', 'r') as f:\n",
    "        return f.read()\n",
    "\n",
    "def save_path_keyword(path:str) -> str:\n",
    "    result = path.split('/')\n",
    "    print(result[-1])\n",
    "    return result[-1]"
   ]
  },
  {
   "cell_type": "code",
   "execution_count": null,
   "id": "6fc220131f6d2abe",
   "metadata": {},
   "outputs": [],
   "source": [
    "df_combined['path_keyword'] = df_combined['save_path'].apply(save_path_keyword)"
   ]
  },
  {
   "cell_type": "code",
   "execution_count": null,
   "id": "522225ea6c53056c",
   "metadata": {},
   "outputs": [],
   "source": [
    "df_combined['from_email'].value_counts().head(50)"
   ]
  },
  {
   "cell_type": "code",
   "execution_count": null,
   "id": "5cf4ada69acf24bf",
   "metadata": {},
   "outputs": [],
   "source": [
    "df_reports_autotask = df_combined[df_combined['from_email'] == 'reports@aem.autotask.net']"
   ]
  },
  {
   "cell_type": "code",
   "execution_count": null,
   "id": "8ee8f9812b06e4bf",
   "metadata": {},
   "outputs": [],
   "source": [
    "df_reports_autotask"
   ]
  },
  {
   "cell_type": "code",
   "execution_count": null,
   "id": "c31b547760a9826a",
   "metadata": {},
   "outputs": [],
   "source": [
    "test = df_combined.loc[14, ['save_path', 'path_keyword']]\n"
   ]
  },
  {
   "cell_type": "code",
   "execution_count": null,
   "id": "835461c3884051fe",
   "metadata": {},
   "outputs": [],
   "source": [
    "header = read_header_info(\n",
    "    path = test['save_path'],\n",
    "    file = f'{test[\"path_keyword\"]}.txt'\n",
    ")"
   ]
  },
  {
   "cell_type": "code",
   "execution_count": null,
   "id": "ff9721f7feef781d",
   "metadata": {},
   "outputs": [],
   "source": [
    "for l in header.split('\\n'):\n",
    "    if 'To' in l:\n",
    "        result = re.match(r'.*To:(.*)',l)\n",
    "        if result:\n",
    "            print(result.group(1))\n",
    "            print(l)\n"
   ]
  },
  {
   "cell_type": "code",
   "execution_count": null,
   "id": "64b51d000a03c8c",
   "metadata": {},
   "outputs": [],
   "source": [
    "for l in header.split('\\n'):\n",
    "    print(l)"
   ]
  },
  {
   "cell_type": "code",
   "execution_count": null,
   "id": "f616e571735a10c7",
   "metadata": {},
   "outputs": [],
   "source": [
    "df_combined"
   ]
  },
  {
   "cell_type": "code",
   "execution_count": null,
   "id": "ccf96bdb6688a5c6",
   "metadata": {},
   "outputs": [],
   "source": [
    "df_combined.loc[14, ['body']][0]"
   ]
  }
 ],
 "metadata": {
  "kernelspec": {
   "display_name": "Python 3",
   "language": "python",
   "name": "python3"
  },
  "language_info": {
   "codemirror_mode": {
    "name": "ipython",
    "version": 2
   },
   "file_extension": ".py",
   "mimetype": "text/x-python",
   "name": "python",
   "nbconvert_exporter": "python",
   "pygments_lexer": "ipython2",
   "version": "2.7.6"
  }
 },
 "nbformat": 4,
 "nbformat_minor": 5
}
