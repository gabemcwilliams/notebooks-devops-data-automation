{
 "cells": [
  {
   "cell_type": "markdown",
   "metadata": {
    "collapsed": false,
    "pycharm": {
     "name": "#%% md\n"
    }
   },
   "source": [
    "<h1> N-Able - Download All Scripts </h1>"
   ]
  },
  {
   "cell_type": "markdown",
   "metadata": {
    "collapsed": false,
    "pycharm": {
     "name": "#%% md\n"
    }
   },
   "source": [
    "# Import Modules and Define Variables"
   ]
  },
  {
   "cell_type": "code",
   "execution_count": null,
   "metadata": {
    "pycharm": {
     "name": "#%%\n"
    }
   },
   "outputs": [],
   "source": [
    "# file manipulation\n",
    "import os\n",
    "import csv\n",
    "\n",
    "# API and Web Requests\n",
    "import requests\n",
    "import urllib3 # make url requests\n",
    "import shutil # manage packages\n",
    "\n",
    "# web scraping\n",
    "from selenium import webdriver\n",
    "\n",
    "\n",
    "#data conditioning\n",
    "import pandas as pd\n",
    "import re\n",
    "import datetime as dt"
   ]
  },
  {
   "cell_type": "code",
   "execution_count": null,
   "metadata": {
    "pycharm": {
     "name": "#%%\n"
    }
   },
   "outputs": [],
   "source": [
    " # add current timestamp to filename for reference\n",
    "current_time = (dt.datetime.utcnow().strftime('%Y_%m_%d_%H%M%S'))\n",
    "\n",
    "# git repo folder\n",
    "git_folder = 'd:/git/example_infrastructure_data_dev'\n",
    "\n",
    "# dictionary Directory\n",
    "dictionary_dir = 'd:/git/example_infrastructure_data_dev/dictionaries'\n",
    "\n",
    "# source dir for nable exported data\n",
    "source_folder = 'd:/project_docs/abc_nable_migration/abc_nable_exports/patch_management'\n",
    "\n",
    "# export folder will contain all csv exported DataFrames for Ticket Creation\n",
    "export_folder = 'd:/exports'"
   ]
  },
  {
   "cell_type": "code",
   "execution_count": null,
   "metadata": {
    "pycharm": {
     "name": "#%%\n"
    }
   },
   "outputs": [],
   "source": [
    "# import configparser for env secrets\n",
    "from configparser import ConfigParser\n",
    "\n",
    "config = ConfigParser()\n",
    "config.read(f'{git_folder}/config/env.ini')\n",
    "import requests\n",
    "from requests.structures import CaseInsensitiveDict"
   ]
  },
  {
   "cell_type": "markdown",
   "metadata": {
    "collapsed": false,
    "pycharm": {
     "name": "#%% md\n"
    }
   },
   "source": [
    "## Create Firefox Driver"
   ]
  },
  {
   "cell_type": "code",
   "execution_count": null,
   "metadata": {
    "pycharm": {
     "name": "#%%\n"
    }
   },
   "outputs": [],
   "source": [
    "from selenium.webdriver.firefox.options import Options\n",
    "\n",
    "mozilla_driver = 'd:/web_drivers/mozilla/geckodriver-v0.31.0-win64/geckodriver.exe'\n",
    "\n",
    "options = Options()\n",
    "options.set_preference(\"browser.download.folderList\", 2)\n",
    "options.set_preference(\"browser.download.manager.showWhenStarting\", False)\n",
    "options.set_preference(\"browser.download.dir\", f\"{export_folder}/script_exports/\")\n",
    "options.set_preference(\"browser.helperApps.neverAsk.saveToDisk\", \"application/x-gzip\")\n",
    "\n",
    "f_driver = webdriver.Firefox(executable_path=mozilla_driver,options=options)"
   ]
  },
  {
   "cell_type": "code",
   "execution_count": null,
   "metadata": {
    "pycharm": {
     "name": "#%%\n"
    }
   },
   "outputs": [],
   "source": [
    "baseUrl = 'https://ncod405.n-able.com/'\n",
    "auth_url = f'https://ncod405.n-able.com/so/abc'\n",
    "\n",
    "links = []"
   ]
  },
  {
   "cell_type": "code",
   "execution_count": null,
   "metadata": {
    "pycharm": {
     "name": "#%%\n"
    }
   },
   "outputs": [],
   "source": [
    "f_driver.get(auth_url)"
   ]
  },
  {
   "cell_type": "code",
   "execution_count": null,
   "metadata": {
    "pycharm": {
     "name": "#%%\n"
    }
   },
   "outputs": [],
   "source": [
    "f_driver.find_element_by_xpath(\"//div[@class='pageTitleBarTextDiv']\").text"
   ]
  },
  {
   "cell_type": "markdown",
   "metadata": {
    "collapsed": false,
    "pycharm": {
     "name": "#%% md\n"
    }
   },
   "source": [
    "## Request Cookies to Create New Header"
   ]
  },
  {
   "cell_type": "code",
   "execution_count": null,
   "metadata": {
    "pycharm": {
     "name": "#%%\n"
    }
   },
   "outputs": [],
   "source": [
    "def get_cookies():\n",
    "    cookies = {}\n",
    "    selenium_cookies = f_driver.get_cookies()\n",
    "    for cookie in selenium_cookies:\n",
    "        cookies[cookie['name']] = cookie['value']\n",
    "    return cookies"
   ]
  },
  {
   "cell_type": "code",
   "execution_count": null,
   "metadata": {
    "pycharm": {
     "name": "#%%\n"
    }
   },
   "outputs": [],
   "source": [
    "cookies = get_cookies()"
   ]
  },
  {
   "cell_type": "code",
   "execution_count": null,
   "metadata": {
    "pycharm": {
     "name": "#%%\n"
    }
   },
   "outputs": [],
   "source": [
    "cookies"
   ]
  },
  {
   "cell_type": "code",
   "execution_count": null,
   "metadata": {
    "pycharm": {
     "name": "#%%\n"
    }
   },
   "outputs": [],
   "source": [
    "cookie = str(re.sub(r'[\\'\\{\\}]',\"\",str(cookies))).replace(\": \",\"=\").replace(\",\",\";\")\n",
    "print(cookie)"
   ]
  },
  {
   "cell_type": "code",
   "execution_count": null,
   "metadata": {
    "pycharm": {
     "name": "#%%\n"
    }
   },
   "outputs": [],
   "source": [
    "headers = f_driver.execute_script(\"var req = new XMLHttpRequest();req.open('GET', document.location, false);req.send(null);return req.getAllResponseHeaders()\")\n",
    "\n",
    "headers_list = headers.splitlines()"
   ]
  },
  {
   "cell_type": "raw",
   "metadata": {
    "collapsed": false,
    "pycharm": {
     "name": "#%% raw\n"
    }
   },
   "source": [
    "Cookie: JSESSIONID=node01x7bu8zox0amw1kcv5az9tok9g2007376.node0; ncentral_version=1661606673734; _ga=GA1.3.387201983.1663283754; _gid=GA1.3.637209552.1663283754; lastActivity=2022-09-15T16%3A24%3A12-07%3A00; liveagent_oref=https://ncod405.n-able.com/loginLoginAction.action; liveagent_vc=2; liveagent_sid=[REDACTED_UUID]; liveagent_ptid=[REDACTED_UUID]"
   ]
  },
  {
   "cell_type": "code",
   "execution_count": null,
   "metadata": {
    "pycharm": {
     "name": "#%%\n"
    }
   },
   "outputs": [],
   "source": [
    "header_string = f\"\"\"Host: ncod405.n-able.com\n",
    "User-Agent: Mozilla/5.0 (Windows NT 10.0; Win64; x64; rv:105.0) Gecko/20100101 Firefox/105.0\n",
    "Accept: text/html,application/xhtml+xml,application/xml;q=0.9,image/avif,image/webp,*/*;q=0.8\n",
    "Accept-Language: en-US,en;q=0.5\n",
    "Accept-Encoding: gzip, deflate, br\n",
    "Connection: keep-alive\n",
    "Referer: https://ncod405.n-able.com/IndexAction.action\n",
    "Cookie: {cookie}\n",
    "Upgrade-Insecure-Requests: 1\n",
    "Sec-Fetch-Dest: document\n",
    "Sec-Fetch-Mode: navigate\n",
    "Sec-Fetch-Site: same-origin\n",
    "Sec-Fetch-User: ?1\"\"\""
   ]
  },
  {
   "cell_type": "code",
   "execution_count": null,
   "metadata": {
    "pycharm": {
     "name": "#%%\n"
    }
   },
   "outputs": [],
   "source": [
    "headers = {}\n",
    "\n",
    "for header in re.findall(r'([^\\n]+)\\n',header_string):\n",
    "    element_dict = {}\n",
    "    result = re.match(r'([^\\:]+)\\:(.*)',header)\n",
    "    k = (result.group(1)).lstrip().rstrip()\n",
    "    v = (result.group(2)).lstrip().rstrip()\n",
    "    element_dict[k] = v\n",
    "    headers.update(element_dict)\n",
    "print(headers)"
   ]
  },
  {
   "cell_type": "markdown",
   "metadata": {
    "collapsed": false,
    "pycharm": {
     "name": "#%% md\n"
    }
   },
   "source": [
    "# Pull all File Download Information from Script/ Software Repository"
   ]
  },
  {
   "cell_type": "code",
   "execution_count": null,
   "metadata": {
    "pycharm": {
     "name": "#%%\n"
    }
   },
   "outputs": [],
   "source": [
    "column_names_list = ['customerName',\n",
    "                     'name',\n",
    "                     'description',\n",
    "                     'size',\n",
    "                     'status',\n",
    "                     'uploadDate',\n",
    "                     'fileName']"
   ]
  },
  {
   "cell_type": "code",
   "execution_count": null,
   "metadata": {
    "pycharm": {
     "name": "#%%\n"
    }
   },
   "outputs": [],
   "source": [
    "def file_info_td(row):\n",
    "    i = 0\n",
    "    file_download_dict = {}\n",
    "    file_download_dict['downloadNumber'] = row['downloadNumber']\n",
    "    file_download_dict['downloadId'] = row['downloadId']\n",
    "    # print('*'*100)\n",
    "    # print(f\"\\nfinding info for {row['downloadId']}:\\n\")\n",
    "    table_row = f_driver.find_element_by_xpath(f\"//div[@id='{row['downloadId']}']\")\n",
    "    for td in table_row.find_elements_by_xpath(f'.//td'):\n",
    "        item_dict = {}\n",
    "        if td.text:\n",
    "            if i < len(column_names_list):\n",
    "                # print(f\"assigning ['{column_names_list[i]}'] to {td.text}\")\n",
    "                item_dict[column_names_list[i]] = str(td.text).rstrip().lstrip()\n",
    "                file_download_dict.update(item_dict)\n",
    "                i = i+1\n",
    "            else:\n",
    "                download_url = f\"https://ncod405.n-able.com/downloadFileServlet.download?relativePathToFile=%2Fdownload%2Frepository%2F{file_download_dict['downloadNumber']}%2F{str(file_download_dict['fileName']).replace(' ','+')}\"\n",
    "                # print(f\"assigning ['downloadUrl'] to {download_url}\")\n",
    "                file_download_dict['downloadUrl'] = download_url\n",
    "                file_download_list.append(file_download_dict)\n",
    "                file_download_dict = {}\n",
    "\n",
    "    print(\"\\n\")"
   ]
  },
  {
   "cell_type": "code",
   "execution_count": null,
   "metadata": {
    "pycharm": {
     "name": "#%%\n"
    }
   },
   "outputs": [],
   "source": [
    "def download_file(row):\n",
    "    # print(f\"attempting to download {row['fileName']}\")\n",
    "    try:\n",
    "        with requests.get(row['downloadUrl'], stream=True, allow_redirects=True, headers=headers) as r:\n",
    "            r.raise_for_status()\n",
    "            with open(f\"{export_folder}/script_exports/{row['fileName']}\", 'wb') as f:\n",
    "                for chunk in r.iter_content(chunk_size=8192):\n",
    "                    # If you have chunk encoded response uncomment if\n",
    "                    # and set chunk_size parameter to None.\n",
    "                    #if chunk:\n",
    "                    f.write(chunk)\n",
    "\n",
    "    except:\n",
    "        print(f\"error with {row['fileName']}\")\n",
    "        with open(f\"{export_folder}.csv\",'w+') as e:\n",
    "            writer = csv.writer(e)\n",
    "            writer.writerow({'fileName':row['fileName'], 'downloadUrl':row['downloadUrl']})"
   ]
  },
  {
   "cell_type": "code",
   "execution_count": null,
   "metadata": {
    "pycharm": {
     "name": "#%%\n"
    }
   },
   "outputs": [],
   "source": [
    "software_js_table = f_driver.find_element_by_xpath('/html/body/div[1]/div[2]/div[1]/div[2]/div[2]/div')\n",
    "\n",
    "\n",
    "file_download_id_list = []\n",
    "\n",
    "for div in software_js_table.find_elements_by_xpath('//div[@id]'):\n",
    "    file_download_id_dict = {}\n",
    "    result = re.search(r'fileRepositoryGrid\\-row\\-(\\d+)',div.get_property('id'))\n",
    "    if result:\n",
    "        file_download_id_dict['downloadNumber'] = str(result.group(1)).rstrip().lstrip()\n",
    "        file_download_id_dict['downloadId'] = str(div.get_property('id')).rstrip().lstrip()\n",
    "        file_download_id_list.append(file_download_id_dict)\n",
    "\n",
    "\n",
    "df_file_downloads = pd.DataFrame(file_download_id_list)\n",
    "\n",
    "file_download_list = []\n",
    "\n",
    "for index, row in df_file_downloads.iterrows():\n",
    "    file_info_td(row)\n",
    "\n",
    "df_file_downloads = pd.DataFrame(file_download_list)\n",
    "\n",
    "for index, row in df_file_downloads.iterrows():\n",
    "    download_file(row)"
   ]
  },
  {
   "cell_type": "code",
   "execution_count": null,
   "metadata": {
    "pycharm": {
     "name": "#%%\n"
    }
   },
   "outputs": [],
   "source": []
  }
 ],
 "metadata": {
  "kernelspec": {
   "display_name": "Python 3",
   "language": "python",
   "name": "python3"
  },
  "language_info": {
   "codemirror_mode": {
    "name": "ipython",
    "version": 2
   },
   "file_extension": ".py",
   "mimetype": "text/x-python",
   "name": "python",
   "nbconvert_exporter": "python",
   "pygments_lexer": "ipython2",
   "version": "2.7.6"
  }
 },
 "nbformat": 4,
 "nbformat_minor": 0
}
