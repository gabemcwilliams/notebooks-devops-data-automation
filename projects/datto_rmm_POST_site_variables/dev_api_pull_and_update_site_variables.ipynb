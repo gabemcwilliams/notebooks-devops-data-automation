{
 "cells": [
  {
   "metadata": {},
   "cell_type": "code",
   "outputs": [],
   "execution_count": null,
   "source": [
    "\"\"\"\n",
    "Datto RMM - Update or Create Site and Account Variables from External Data\n",
    "\n",
    "Author: Gabe McWilliams\n",
    "Version: 1.0\n",
    "\n",
    "Description:\n",
    "Automates the creation, updating, or deletion of Datto RMM Site Variables and Account Variables based on:\n",
    "- External client renaming standards\n",
    "- Sophos Central tenant information\n",
    "- Sophos installer arguments extraction\n",
    "\n",
    "Process Overview:\n",
    "- Pulls all active sites and variables from Datto RMM via API.\n",
    "- Matches and cleans site/client names based on standard naming rules.\n",
    "- Collects Sophos management server and token data for tenants.\n",
    "- Constructs silent install arguments for both Windows and macOS endpoints.\n",
    "- Injects new variables into Datto RMM, updates existing ones, and optionally removes old entries.\n",
    "\n",
    "Technologies:\n",
    "- Python 3\n",
    "- Pandas\n",
    "- Datto RMM REST API\n",
    "- Sophos Central API\n",
    "- Selenium (minor use if necessary)\n",
    "\n",
    "Notes:\n",
    "- Requires env.ini secret config for Datto RMM and Sophos Central API credentials.\n",
    "- Assumes standardized Sophos CSV exports available in specified folders.\n",
    "\"\"\"\n"
   ]
  },
  {
   "cell_type": "markdown",
   "metadata": {
    "collapsed": false,
    "pycharm": {
     "name": "#%% md\n"
    }
   },
   "source": [
    "<h1> DattoRMM - Update / Create Site Variables based on Dict </h1>"
   ]
  },
  {
   "cell_type": "markdown",
   "metadata": {
    "collapsed": false,
    "pycharm": {
     "name": "#%% md\n"
    }
   },
   "source": [
    "# Import Modules and Env"
   ]
  },
  {
   "cell_type": "code",
   "execution_count": null,
   "metadata": {
    "pycharm": {
     "name": "#%%\n"
    }
   },
   "outputs": [],
   "source": [
    "# data import and file manipulation\n",
    "import os\n",
    "import json\n",
    "import csv\n",
    "\n",
    "\n",
    "#data conditioning\n",
    "import pandas as pd\n",
    "import numpy as np\n",
    "import re\n",
    "import datetime as dt"
   ]
  },
  {
   "cell_type": "code",
   "execution_count": null,
   "metadata": {
    "pycharm": {
     "name": "#%%\n"
    }
   },
   "outputs": [],
   "source": [
    "# add current timestamp to filename for reference\n",
    "current_time = (dt.datetime.utcnow().strftime('%Y_%m_%d_%H%M%S'))\n",
    "\n",
    "# git repo folder\n",
    "git_folder = 'd:/git/example_infrastructure_data_dev'\n",
    "\n",
    "# dictionary Directory\n",
    "dictionary_dir = 'd:/git/example_infrastructure_data_dev/dictionaries'\n",
    "\n",
    "# source dir for nable exported data\n",
    "source_folder = 'd:/project_docs/abc_nable_migration/abc_nable_exports/patch_management'\n",
    "\n",
    "# export folder will contain all csv exported DataFrames for Ticket Creation\n",
    "export_folder = 'd:/exports/'"
   ]
  },
  {
   "cell_type": "code",
   "execution_count": null,
   "metadata": {
    "pycharm": {
     "name": "#%%\n"
    }
   },
   "outputs": [],
   "source": [
    "# import configparser for env secrets\n",
    "from configparser import ConfigParser\n",
    "\n",
    "config = ConfigParser()\n",
    "config.read(f'{git_folder}/config/env.ini')\n",
    "import requests\n",
    "from requests.structures import CaseInsensitiveDict"
   ]
  },
  {
   "cell_type": "markdown",
   "metadata": {
    "collapsed": false,
    "pycharm": {
     "name": "#%% md\n"
    }
   },
   "source": [
    "## Client Renaming Functions"
   ]
  },
  {
   "cell_type": "code",
   "execution_count": null,
   "metadata": {
    "pycharm": {
     "name": "#%%\n"
    }
   },
   "outputs": [],
   "source": [
    "df = pd.read_parquet(f'D:/Git/data_parsing/dictionaries/standard_client_names.parquet')\n",
    "client_rename_list = []\n",
    "\n",
    "for index, row in df.iterrows():\n",
    "    client_info_dict = {}\n",
    "    client_info_dict['[REDACTED]'] = row['[REDACTED]']\n",
    "    client_info_dict['currentName'] = row['currentName']\n",
    "\n",
    "    client_rename_list.append(client_info_dict)"
   ]
  },
  {
   "cell_type": "code",
   "execution_count": null,
   "metadata": {
    "pycharm": {
     "name": "#%%\n"
    }
   },
   "outputs": [],
   "source": [
    "cu_dict = {'Federal Credit Union':'FCU','Credit Union':'CU'}\n",
    "def reword_creditunion(string):\n",
    "    reword = string\n",
    "    for k, v in cu_dict.items():\n",
    "        if k in string:\n",
    "            reword = re.sub(k,v,string)\n",
    "            break\n",
    "    return reword"
   ]
  },
  {
   "cell_type": "code",
   "execution_count": null,
   "metadata": {
    "pycharm": {
     "name": "#%%\n"
    }
   },
   "outputs": [],
   "source": [
    "def client_names(c_name):\n",
    "    sitename = c_name\n",
    "    for client in client_rename_list:\n",
    "        try:\n",
    "            if client['[REDACTED]'] == c_name:\n",
    "                # print(f\"Previous: [{client['[REDACTED]']}] and Current: [{client['currentName']}]\")\n",
    "                sitename = client['currentName']\n",
    "                break\n",
    "        except Exception as e:\n",
    "            break\n",
    "    return sitename"
   ]
  },
  {
   "cell_type": "code",
   "execution_count": null,
   "metadata": {
    "pycharm": {
     "name": "#%%\n"
    }
   },
   "outputs": [],
   "source": [
    "def active_site(site):\n",
    "    if site['billingType'] == 'trial':\n",
    "        return None\n",
    "    elif site['dataRegion'] == None:\n",
    "        return None\n",
    "    elif re.match(r'inactive',str(site['showAs']).lower()):\n",
    "        return None\n",
    "    elif site['status'] == 'active':\n",
    "        return site"
   ]
  },
  {
   "cell_type": "markdown",
   "metadata": {
    "collapsed": false,
    "pycharm": {
     "name": "#%% md\n"
    }
   },
   "source": [
    "# Create DattoRMM DataFrames"
   ]
  },
  {
   "cell_type": "code",
   "execution_count": null,
   "metadata": {
    "pycharm": {
     "name": "#%%\n"
    }
   },
   "outputs": [],
   "source": [
    "# import and assign secrets from env.ini\n",
    "dattormm_config = json.loads(os.environ.get(\"DATTO_RMM_CONFIG\"))\n",
    "base_uri = dattormm_config['base_uri']"
   ]
  },
  {
   "cell_type": "markdown",
   "metadata": {
    "collapsed": false,
    "pycharm": {
     "name": "#%% md\n"
    }
   },
   "source": [
    "## Create auth token"
   ]
  },
  {
   "cell_type": "code",
   "execution_count": null,
   "metadata": {
    "pycharm": {
     "name": "#%%\n"
    }
   },
   "outputs": [],
   "source": [
    "# call token api url\n",
    "token_uri = f'{base_uri}/auth/oauth/token'\n",
    "\n",
    "\n",
    "# construct header\n",
    "headers = CaseInsensitiveDict()\n",
    "headers['Content-Type'] = 'application/x-www-form-urlencoded'\n",
    "\n",
    "# construct req body\n",
    "data = CaseInsensitiveDict()\n",
    "data['grant_type'] = 'password'\n",
    "data['username'] = dattormm_config['api_key']\n",
    "data['password'] = dattormm_config['api_secret']\n",
    "\n",
    "# request content response\n",
    "resp = requests.post(token_uri, headers=headers, data=data, auth=('public-client', 'public'))\n",
    "content = resp.content.decode('utf-8')\n",
    "c_dict = json.loads(content)\n",
    "\n",
    "datto_access_token = c_dict['access_token']"
   ]
  },
  {
   "cell_type": "markdown",
   "metadata": {
    "collapsed": false,
    "pycharm": {
     "name": "#%% md\n"
    }
   },
   "source": [
    "## Pull Site Info"
   ]
  },
  {
   "cell_type": "code",
   "execution_count": null,
   "metadata": {
    "pycharm": {
     "name": "#%%\n"
    }
   },
   "outputs": [],
   "source": [
    "\n",
    "## Create Devices DataFrame\n",
    "# request content response\n",
    "request_url = f'{base_uri}/api/v2/account/sites'\n",
    "\n",
    "# construct header\n",
    "headers = CaseInsensitiveDict()\n",
    "headers['Authorization'] = f'Bearer {datto_access_token}'\n",
    "headers['Content-Type'] = 'application/json'\n",
    "\n",
    "# construct req body\n",
    "data = ''\n",
    "\n",
    "print(f'Request URL: {request_url}')\n",
    "\n",
    "resp = requests.get(request_url, headers=headers, data=data)\n",
    "content = resp.content.decode('utf-8')\n",
    "c_dict = json.loads(content)\n",
    "\n",
    "df_sites = pd.DataFrame(c_dict['sites'])"
   ]
  },
  {
   "cell_type": "code",
   "execution_count": null,
   "metadata": {
    "pycharm": {
     "name": "#%%\n"
    }
   },
   "outputs": [],
   "source": [
    "df_site_info = df_sites[df_sites['name'] != 'Deleted Devices']"
   ]
  },
  {
   "cell_type": "code",
   "execution_count": null,
   "metadata": {
    "pycharm": {
     "name": "#%%\n"
    }
   },
   "outputs": [],
   "source": [
    "dattormm_client_sites = []\n",
    "for index, row in df_site_info.iterrows():\n",
    "    temp_dict = {}\n",
    "    temp_dict['siteName'] = row['name']\n",
    "    temp_dict['siteUid'] = row['uid']\n",
    "    dattormm_client_sites.append(temp_dict)"
   ]
  },
  {
   "cell_type": "markdown",
   "metadata": {
    "collapsed": false,
    "pycharm": {
     "name": "#%% md\n"
    }
   },
   "source": [
    "# Pull all ACCOUNT Variables as a DataFrame"
   ]
  },
  {
   "cell_type": "code",
   "execution_count": null,
   "metadata": {
    "pycharm": {
     "name": "#%%\n"
    }
   },
   "outputs": [],
   "source": [
    "# request content response\n",
    "request_url = f'{base_uri}/api/v2/account'\n",
    "\n",
    "# construct header\n",
    "headers = CaseInsensitiveDict()\n",
    "headers['Authorization'] = f'Bearer {datto_access_token}'\n",
    "headers['Content-Type'] = 'application/json'\n",
    "\n",
    "# construct req body\n",
    "data = ''\n",
    "\n",
    "print(f'Request URL: {request_url}')\n",
    "\n",
    "resp = requests.get(request_url, headers=headers, data=data)\n",
    "content = resp.content.decode('utf-8')\n",
    "c_dict = json.loads(content)\n",
    "\n",
    "account_info = {}\n",
    "account_info['accountName'] = c_dict['name']\n",
    "account_info['accountUid'] = c_dict['uid']"
   ]
  },
  {
   "cell_type": "code",
   "execution_count": null,
   "metadata": {
    "pycharm": {
     "name": "#%%\n"
    }
   },
   "outputs": [],
   "source": [
    "# request content response\n",
    "request_url = f'{base_uri}/api/v2/account/variables'\n",
    "\n",
    "# construct header\n",
    "headers = CaseInsensitiveDict()\n",
    "headers['Authorization'] = f'Bearer {datto_access_token}'\n",
    "headers['Content-Type'] = 'application/json'\n",
    "\n",
    "# construct req body\n",
    "data = ''\n",
    "\n",
    "print(f'Request URL: {request_url}')\n",
    "\n",
    "resp = requests.get(request_url, headers=headers, data=data)\n",
    "content = resp.content.decode('utf-8')\n",
    "c_dict = json.loads(content)\n",
    "\n",
    "df_account_variables = pd.DataFrame(c_dict['variables'])\n",
    "df_account_variables['accountName'] = account_info['accountName']\n",
    "df_account_variables['accountUid'] = account_info['accountUid']"
   ]
  },
  {
   "cell_type": "markdown",
   "metadata": {
    "collapsed": false,
    "pycharm": {
     "name": "#%% md\n"
    }
   },
   "source": [
    "# Pull all SITE Variables as a DataFrame"
   ]
  },
  {
   "cell_type": "code",
   "execution_count": null,
   "metadata": {
    "pycharm": {
     "name": "#%%\n"
    }
   },
   "outputs": [],
   "source": [
    "df_site_variables = pd.DataFrame()\n",
    "\n",
    "for site_info in dattormm_client_sites:\n",
    "    print(site_info['siteUid'])\n",
    "    # request content response\n",
    "    request_url = f\"{base_uri}/api/v2/site/{site_info['siteUid']}/variables\"\n",
    "\n",
    "    # construct header\n",
    "    headers = CaseInsensitiveDict()\n",
    "    headers['Authorization'] = f'Bearer {datto_access_token}'\n",
    "    headers['Content-Type'] = 'application/json'\n",
    "\n",
    "    # construct req body\n",
    "    data = ''\n",
    "\n",
    "    print(f'Request URL: {request_url}')\n",
    "\n",
    "    resp = requests.get(request_url, headers=headers, data=data)\n",
    "    content = resp.content.decode('utf-8')\n",
    "    c_dict = json.loads(content)\n",
    "\n",
    "    # iterate and combine remaining pages\n",
    "    try:\n",
    "        df_current_page = pd.DataFrame(c_dict['variables'])\n",
    "        df_current_page['siteName'] = site_info['siteName']\n",
    "        df_current_page['siteUid'] = site_info['siteUid']\n",
    "\n",
    "        try:\n",
    "            df_site_variables = pd.concat([df_site_variables, df_current_page], ignore_index=False)\n",
    "        except:\n",
    "            df_site_variables = df_current_page\n",
    "\n",
    "    except:\n",
    "        pass"
   ]
  },
  {
   "cell_type": "code",
   "execution_count": null,
   "metadata": {
    "pycharm": {
     "name": "#%%\n"
    }
   },
   "outputs": [],
   "source": [
    "df_datto_variables = pd.concat([df_account_variables,df_site_variables], ignore_index=True)"
   ]
  },
  {
   "cell_type": "code",
   "execution_count": null,
   "metadata": {
    "pycharm": {
     "name": "#%%\n"
    }
   },
   "outputs": [],
   "source": [
    "report_creation_date = (dt.datetime.utcnow().strftime('%Y-%m-%d %H:%M:%S'))\n",
    "df_datto_variables['reportCreationDate'] = report_creation_date"
   ]
  },
  {
   "cell_type": "code",
   "execution_count": null,
   "metadata": {
    "pycharm": {
     "name": "#%%\n"
    }
   },
   "outputs": [],
   "source": [
    "df_datto_variables['variableId'] = df_datto_variables['id'].apply(lambda x: str(x).replace(\".0\",\"\"))"
   ]
  },
  {
   "cell_type": "markdown",
   "metadata": {
    "collapsed": false,
    "pycharm": {
     "name": "#%% md\n"
    }
   },
   "source": [
    "# Initial Metrics and CSV Creation"
   ]
  },
  {
   "cell_type": "markdown",
   "metadata": {
    "collapsed": false,
    "pycharm": {
     "name": "#%% md\n"
    }
   },
   "source": [
    "## All Fields"
   ]
  },
  {
   "cell_type": "code",
   "execution_count": null,
   "metadata": {
    "pycharm": {
     "name": "#%%\n"
    }
   },
   "outputs": [],
   "source": "df_datto_variables.to_csv(export_folder + '.csv', index=False)"
  },
  {
   "cell_type": "code",
   "execution_count": null,
   "metadata": {
    "pycharm": {
     "name": "#%%\n"
    }
   },
   "outputs": [],
   "source": [
    "df_datto_variables = df_datto_variables[['variableId','accountName', 'accountUid','siteName', 'siteUid', 'id', 'name', 'value', 'masked',\n",
    "                                         'reportCreationDate']]"
   ]
  },
  {
   "cell_type": "code",
   "execution_count": null,
   "metadata": {
    "pycharm": {
     "name": "#%%\n"
    }
   },
   "outputs": [],
   "source": "df_datto_variables.to_csv(export_folder + 'datto_rmm_account_site_variables_' + str(current_time) + '.csv',index=False)"
  },
  {
   "cell_type": "markdown",
   "metadata": {
    "collapsed": false,
    "pycharm": {
     "name": "#%% md\n"
    }
   },
   "source": [
    "# Insert Variable or Update if Exists"
   ]
  },
  {
   "cell_type": "markdown",
   "metadata": {
    "collapsed": false,
    "pycharm": {
     "name": "#%% md\n"
    }
   },
   "source": [
    "## Import Current Site Variables Dict"
   ]
  },
  {
   "cell_type": "code",
   "execution_count": null,
   "metadata": {
    "pycharm": {
     "name": "#%%\n"
    }
   },
   "outputs": [],
   "source": [
    "df = pd.read_csv(f\"{dictionary_dir}/datto_rmm_standard_varables.dict\")\n",
    "df.fillna('[empty]',inplace=True)\n",
    "site_var_std_list = []\n",
    "account_var_std_list = []\n",
    "for index, row in df.iterrows():\n",
    "    row_dict = {}\n",
    "    try:\n",
    "        if row['accountName'] != '[empty]':\n",
    "            row_dict['accountName'] = row['accountName']\n",
    "            row_dict['accountUid'] = row['accountUid']\n",
    "            row_dict['varId'] = row['id']\n",
    "            row_dict['varName'] = row['name']\n",
    "            row_dict['value'] = row['value']\n",
    "            row_dict['masked'] = row['masked']\n",
    "            account_var_std_list.append(row_dict)\n",
    "        else:\n",
    "            row_dict['siteName'] = row['siteName']\n",
    "            row_dict['siteUid'] = row['siteUid']\n",
    "            row_dict['varId'] = row['id']\n",
    "            row_dict['varName'] = row['name']\n",
    "            row_dict['value'] = row['value']\n",
    "            row_dict['masked'] = row['masked']\n",
    "            site_var_std_list.append(row_dict)\n",
    "    except Exception as e:\n",
    "        print(e)"
   ]
  },
  {
   "cell_type": "markdown",
   "metadata": {
    "collapsed": false,
    "pycharm": {
     "name": "#%% md\n"
    }
   },
   "source": [
    "# Create Sophos DataFrame from API for Active Account Filtering"
   ]
  },
  {
   "cell_type": "code",
   "execution_count": null,
   "metadata": {
    "pycharm": {
     "name": "#%%\n"
    }
   },
   "outputs": [],
   "source": [
    "sophos_config = config['sophoscentral']\n",
    "\n",
    "base_uri = sophos_config['base_uri']"
   ]
  },
  {
   "cell_type": "code",
   "execution_count": null,
   "metadata": {
    "pycharm": {
     "name": "#%%\n"
    }
   },
   "outputs": [],
   "source": [
    "# call token api url\n",
    "token_uri = 'https://id.sophos.com/api/v2/oauth2/token'\n",
    "\n",
    "# construct header\n",
    "headers = CaseInsensitiveDict()\n",
    "headers[\"Content-Type\"] = \"application/x-www-form-urlencoded\"\n",
    "\n",
    "# construct req body\n",
    "data = f\"grant_type=client_credentials&client_id={sophos_config['client_id']}&client_secret={sophos_config['client_secret']}&scope=token\"\n",
    "\n",
    "# request content response\n",
    "resp = requests.post(token_uri, headers=headers, data=data)\n",
    "content = resp.content.decode('utf-8')\n",
    "c_dict = json.loads(content)\n",
    "\n",
    "# create auth and refresh tokens\n",
    "sophos_access_token = c_dict['access_token']\n",
    "sophos_refresh_token = c_dict['refresh_token']"
   ]
  },
  {
   "cell_type": "markdown",
   "metadata": {
    "collapsed": false,
    "pycharm": {
     "name": "#%% md\n"
    }
   },
   "source": [
    "## Partner ID Lookup"
   ]
  },
  {
   "cell_type": "code",
   "execution_count": null,
   "metadata": {
    "pycharm": {
     "name": "#%%\n"
    }
   },
   "outputs": [],
   "source": [
    "# Partner ID lookup\n",
    "whoami = 'https://api.central.sophos.com/whoami/v1'\n",
    "\n",
    "# construct header\n",
    "headers = CaseInsensitiveDict()\n",
    "headers['Authorization'] = f'Bearer {sophos_access_token}'\n",
    "\n",
    "# request partner id\n",
    "resp = requests.get(whoami, headers=headers)\n",
    "content = resp.content.decode('utf-8')\n",
    "c_dict = json.loads(content)\n",
    "\n",
    "# store partner id\n",
    "partner_id = c_dict['id']"
   ]
  },
  {
   "cell_type": "markdown",
   "metadata": {
    "collapsed": false,
    "pycharm": {
     "name": "#%% md\n"
    }
   },
   "source": [
    "## Pull Tenant Info"
   ]
  },
  {
   "cell_type": "markdown",
   "metadata": {
    "collapsed": false,
    "pycharm": {
     "name": "#%% md\n"
    }
   },
   "source": [
    "### Filter Data for Active"
   ]
  },
  {
   "cell_type": "code",
   "execution_count": null,
   "metadata": {
    "pycharm": {
     "name": "#%%\n"
    }
   },
   "outputs": [],
   "source": [
    "# Tenant ID lookup\n",
    "tenants_url = 'https://api.central.sophos.com/partner/v1/tenants'\n",
    "\n",
    "# construct header\n",
    "headers = CaseInsensitiveDict()\n",
    "\n",
    "headers['Authorization'] = f'Bearer {sophos_access_token}'\n",
    "headers['X-Partner-ID'] = f'{partner_id}'\n",
    "headers['Accept'] = 'application/json'\n",
    "headers['pageSize'] = '100'\n",
    "\n",
    "\n",
    "resp = requests.get(tenants_url,headers=headers)\n",
    "content = resp.content.decode('utf-8')\n",
    "c_dict = json.loads(content)\n",
    "\n",
    "\n",
    "sophos_tenants = []\n",
    "all_sophos = []\n",
    "\n",
    "for site in c_dict['items']:\n",
    "    all_sophos.append(site)\n",
    "    filtered_site = active_site(site)\n",
    "    if filtered_site:\n",
    "        name_cu_shaped = reword_creditunion(site['showAs'])\n",
    "        name_standardized = client_names(name_cu_shaped)\n",
    "        sophos_tenants.append(name_standardized)"
   ]
  },
  {
   "cell_type": "code",
   "execution_count": null,
   "metadata": {
    "pycharm": {
     "name": "#%%\n"
    }
   },
   "outputs": [],
   "source": [
    "df = pd.DataFrame(all_sophos)\n",
    "df"
   ]
  },
  {
   "cell_type": "markdown",
   "metadata": {
    "collapsed": false,
    "pycharm": {
     "name": "#%% md\n"
    }
   },
   "source": [
    "## Import Sophos CSV's"
   ]
  },
  {
   "cell_type": "code",
   "execution_count": null,
   "metadata": {
    "pycharm": {
     "name": "#%%\n"
    }
   },
   "outputs": [],
   "source": [
    "sophos_csv_export_list = []\n",
    "\n",
    "df_sophos_installer_info = pd.DataFrame()\n",
    "\n",
    "for root, dirs, files in os.walk(f\"{export_folder}/sophos_csv\"):\n",
    "    for file in files:\n",
    "        df = pd.read_csv(f\"{root}/{file}\")\n",
    "        df_sophos_installer_info = pd.concat([df, df_sophos_installer_info],ignore_index=True)"
   ]
  },
  {
   "cell_type": "code",
   "execution_count": null,
   "metadata": {
    "pycharm": {
     "name": "#%%\n"
    }
   },
   "outputs": [],
   "source": [
    "df_sophos_installer_info"
   ]
  },
  {
   "cell_type": "markdown",
   "metadata": {
    "collapsed": false,
    "pycharm": {
     "name": "#%% md\n"
    }
   },
   "source": [
    "# Disassemble and Reassemble Sophos Info into Site Var Dict List"
   ]
  },
  {
   "cell_type": "markdown",
   "metadata": {
    "collapsed": false,
    "pycharm": {
     "name": "#%% md\n"
    }
   },
   "source": [
    "## Standardize Client Names"
   ]
  },
  {
   "cell_type": "code",
   "execution_count": null,
   "metadata": {
    "pycharm": {
     "name": "#%%\n"
    }
   },
   "outputs": [],
   "source": [
    "def assign_siteid(sophosClient):\n",
    "    for site in dattormm_client_sites:\n",
    "        if site['siteName'] == sophosClient:\n",
    "            return (site['siteUid'])\n",
    "            break\n",
    "        else:\n",
    "            pass\n",
    "    print(f\"{sophosClient} not found\")\n",
    "    return '[Not in Datto]'"
   ]
  },
  {
   "cell_type": "code",
   "execution_count": null,
   "metadata": {
    "pycharm": {
     "name": "#%%\n"
    }
   },
   "outputs": [],
   "source": [
    "def reconstruct_rows(row):\n",
    "    row_dict = {}\n",
    "    row_dict['originalName'] = row['Customer Name']\n",
    "\n",
    "    client_name = client_names(row['Customer Name'])\n",
    "\n",
    "    reworded_sitename = reword_creditunion(client_name)\n",
    "    # print(reworded_sitename)\n",
    "    row_dict['siteName'] = reworded_sitename.replace(\"'\",\"\")\n",
    "\n",
    "    if re.match(r'sudo',row['Example Command Line']):\n",
    "        row_dict['os'] = 'macOS'\n",
    "        row_dict['varName'] = 'SophosMacOSArguments'\n",
    "        row['silentVar'] = ''\n",
    "    else:\n",
    "        row_dict['os'] = 'winOS'\n",
    "        row_dict['varName'] = 'SophosWindowsArguments'\n",
    "\n",
    "    row_dict['installString'] = row['Example Command Line']\n",
    "\n",
    "    row_dict['customerToken'] = row['Customer Token']\n",
    "\n",
    "    row_dict['managementServer'] = row['Management Server']\n",
    "\n",
    "    row_dict['products'] = (re.findall(r'--products[=\"\\s]+([\\w+\\,\\s]+)[\"\\s]+\\--', row['Example Command Line'])[0])\n",
    "\n",
    "    row_dict['siteId'] = assign_siteid(row_dict['siteName'])\n",
    "\n",
    "    return row_dict"
   ]
  },
  {
   "cell_type": "code",
   "execution_count": null,
   "metadata": {
    "pycharm": {
     "name": "#%%\n"
    }
   },
   "outputs": [],
   "source": [
    "client_info_list = []\n",
    "\n",
    "for index, row in df_sophos_installer_info.iterrows():\n",
    "    if re.match(r'inactive',(row['Customer Name'].lower())):\n",
    "        pass\n",
    "    else:\n",
    "        client_info_list.append(reconstruct_rows(row))"
   ]
  },
  {
   "cell_type": "code",
   "execution_count": null,
   "metadata": {
    "pycharm": {
     "name": "#%%\n"
    }
   },
   "outputs": [],
   "source": [
    "df_sohos_install_info = pd.DataFrame(client_info_list)"
   ]
  },
  {
   "cell_type": "code",
   "execution_count": null,
   "metadata": {
    "pycharm": {
     "name": "#%%\n"
    }
   },
   "outputs": [],
   "source": "df_sohos_install_info.to_csv(f\"{export_folder}.csv\")"
  },
  {
   "cell_type": "markdown",
   "metadata": {
    "collapsed": false,
    "pycharm": {
     "name": "#%% md\n"
    }
   },
   "source": [
    "### Filter for only client rows with siteid"
   ]
  },
  {
   "cell_type": "code",
   "execution_count": null,
   "metadata": {
    "pycharm": {
     "name": "#%%\n"
    }
   },
   "outputs": [],
   "source": [
    "df_sophos_data_injection = df_sohos_install_info[df_sohos_install_info['siteId'] != '[Not in Datto]']\n",
    "df_sohos_install_info[df_sohos_install_info['siteId'] != '[Not in Datto]'].to_csv('.csv')"
   ]
  },
  {
   "cell_type": "markdown",
   "metadata": {
    "collapsed": false,
    "pycharm": {
     "name": "#%% md\n"
    }
   },
   "source": [
    "# Install Variables"
   ]
  },
  {
   "cell_type": "markdown",
   "metadata": {
    "collapsed": false,
    "pycharm": {
     "name": "#%% md\n"
    }
   },
   "source": [
    "## Argument Templates"
   ]
  },
  {
   "cell_type": "code",
   "execution_count": null,
   "metadata": {
    "pycharm": {
     "name": "#%%\n"
    }
   },
   "outputs": [],
   "source": [
    "def install_arguments(var_info):\n",
    "\n",
    "    if var_info['os'] == 'winOS':\n",
    "        argument_template = f\"\"\"--customertoken=\"{var_info['customerToken']}\" --epinstallerserver=\"{var_info['managementServer']}\" --products=\"{var_info['products']}\" --quiet\"\"\"\n",
    "    else:\n",
    "        argument_template = f\"\"\"--customertoken {var_info['customerToken']} --mgmtserver {var_info['managementServer']} --products {var_info['products']} --quiet\"\"\"\n",
    "\n",
    "    return argument_template"
   ]
  },
  {
   "cell_type": "code",
   "execution_count": null,
   "metadata": {
    "pycharm": {
     "name": "#%%\n"
    }
   },
   "outputs": [],
   "source": [
    "df_sophos_data_injection"
   ]
  },
  {
   "cell_type": "code",
   "execution_count": null,
   "metadata": {
    "pycharm": {
     "name": "#%%\n"
    }
   },
   "outputs": [],
   "source": [
    "for index, var_info in df_sophos_data_injection[:1].iterrows():\n",
    "    print(var_info['siteName'])\n",
    "    print(var_info['siteId'])\n",
    "    print(var_info['os'])\n",
    "    print(install_arguments(var_info))\n",
    "    print(var_info['varName'])\n"
   ]
  },
  {
   "cell_type": "code",
   "execution_count": null,
   "metadata": {
    "pycharm": {
     "name": "#%%\n"
    }
   },
   "outputs": [],
   "source": [
    "# df_test = df_datto_variables[df_datto_variables['name'].str.contains('String')]\n",
    "# df_test"
   ]
  },
  {
   "cell_type": "code",
   "execution_count": null,
   "metadata": {
    "pycharm": {
     "name": "#%%\n"
    }
   },
   "outputs": [],
   "source": [
    "for index, row in df_test.iterrows():\n",
    "\n",
    "    # request content response\n",
    "    request_url = f\"https://concord-api.centrastage.net/api/v2/site/{row['siteUid']}/variable/{row['variableId']}\"\n",
    "\n",
    "\n",
    "\n",
    "    # construct header\n",
    "    headers = CaseInsensitiveDict()\n",
    "    headers['Authorization'] = f'Bearer {datto_access_token}'\n",
    "    headers['Content-Type'] = 'application/json'\n",
    "    headers['accept'] = '*/*'\n",
    "\n",
    "\n",
    "    # construct req body\n",
    "\n",
    "\n",
    "    print(f'Request URL: {request_url}')\n",
    "\n",
    "\n",
    "\n",
    "    resp = requests.delete(request_url, headers=headers)\n",
    "\n",
    "\n",
    "    print(f\"response code: {resp.status_code}\")\n",
    "    # print(resp.headers)\n",
    "    print(resp.content)"
   ]
  },
  {
   "cell_type": "code",
   "execution_count": null,
   "metadata": {
    "pycharm": {
     "name": "#%%\n"
    }
   },
   "outputs": [],
   "source": []
  },
  {
   "cell_type": "code",
   "execution_count": null,
   "metadata": {
    "pycharm": {
     "name": "#%%\n"
    }
   },
   "outputs": [],
   "source": []
  },
  {
   "cell_type": "code",
   "execution_count": null,
   "metadata": {
    "pycharm": {
     "name": "#%%\n"
    }
   },
   "outputs": [],
   "source": []
  },
  {
   "cell_type": "code",
   "execution_count": null,
   "metadata": {
    "pycharm": {
     "name": "#%%\n"
    }
   },
   "outputs": [],
   "source": []
  },
  {
   "cell_type": "code",
   "execution_count": null,
   "metadata": {
    "pycharm": {
     "name": "#%%\n"
    }
   },
   "outputs": [],
   "source": []
  },
  {
   "cell_type": "code",
   "execution_count": null,
   "metadata": {
    "pycharm": {
     "name": "#%%\n"
    }
   },
   "outputs": [],
   "source": []
  },
  {
   "cell_type": "code",
   "execution_count": null,
   "metadata": {
    "pycharm": {
     "name": "#%%\n"
    }
   },
   "outputs": [],
   "source": []
  },
  {
   "cell_type": "code",
   "execution_count": null,
   "metadata": {
    "pycharm": {
     "name": "#%%\n"
    }
   },
   "outputs": [],
   "source": []
  },
  {
   "cell_type": "code",
   "execution_count": null,
   "metadata": {
    "pycharm": {
     "name": "#%%\n"
    }
   },
   "outputs": [],
   "source": []
  },
  {
   "cell_type": "code",
   "execution_count": null,
   "metadata": {
    "pycharm": {
     "name": "#%%\n"
    }
   },
   "outputs": [],
   "source": []
  },
  {
   "cell_type": "code",
   "execution_count": null,
   "metadata": {
    "pycharm": {
     "name": "#%%\n"
    }
   },
   "outputs": [],
   "source": []
  },
  {
   "cell_type": "code",
   "execution_count": null,
   "metadata": {
    "pycharm": {
     "name": "#%%\n"
    }
   },
   "outputs": [],
   "source": []
  },
  {
   "cell_type": "code",
   "execution_count": null,
   "metadata": {
    "pycharm": {
     "name": "#%%\n"
    }
   },
   "outputs": [],
   "source": [
    "for index, var_info in df_sophos_data_injection.iterrows():\n",
    "    # request content response\n",
    "    request_url = f\"https://concord-api.centrastage.net/api/v2/site/{var_info['siteId']}/variable\"\n",
    "\n",
    "\n",
    "    # construct header\n",
    "    headers = CaseInsensitiveDict()\n",
    "    headers['Authorization'] = f'Bearer {datto_access_token}'\n",
    "    headers['Content-Type'] = 'application/json'\n",
    "    headers['accept'] = '*/*'\n",
    "\n",
    "\n",
    "    # construct req body\n",
    "    json_data = {\n",
    "        'name': var_info['varName'],\n",
    "        'value': install_arguments(var_info),\n",
    "        'masked': False,\n",
    "    }\n",
    "\n",
    "    print(f'Request URL: {request_url}')\n",
    "\n",
    "    print(var_info['siteName'])\n",
    "\n",
    "    resp = requests.put(request_url, headers=headers, json=json_data)\n",
    "\n",
    "    print(json_data)\n",
    "\n",
    "    print(f\"response code: {resp.status_code}\")\n",
    "    # print(resp.headers)\n",
    "    print(resp.content)"
   ]
  },
  {
   "cell_type": "code",
   "execution_count": null,
   "metadata": {
    "pycharm": {
     "name": "#%%\n"
    }
   },
   "outputs": [],
   "source": [
    "for var_info in account_var_std_list:\n",
    "    # request content response\n",
    "    request_url = \"https://concord-api.centrastage.net/api/v2/account/variable\"\n",
    "\n",
    "\n",
    "    # construct header\n",
    "    headers = CaseInsensitiveDict()\n",
    "    headers['Authorization'] = f'Bearer {datto_access_token}'\n",
    "    headers['Content-Type'] = 'application/json'\n",
    "    headers['accept'] = '*/*'\n",
    "\n",
    "\n",
    "    # construct req body\n",
    "    json_data = {\n",
    "        'name': var_info['varName'],\n",
    "        'value': var_info['value'],\n",
    "        'masked': var_info['masked'],\n",
    "    }\n",
    "\n",
    "    print(f'Request URL: {request_url}')\n",
    "\n",
    "    resp = requests.put(request_url, headers=headers, json=json_data)\n",
    "\n",
    "    print(data)\n",
    "\n",
    "    print(f\"response code: {resp.status_code}\")\n",
    "    print(resp.headers)\n",
    "    print(resp.content)"
   ]
  },
  {
   "cell_type": "markdown",
   "metadata": {
    "collapsed": false,
    "pycharm": {
     "name": "#%% md\n"
    }
   },
   "source": [
    "### MacOS"
   ]
  },
  {
   "cell_type": "code",
   "execution_count": null,
   "metadata": {
    "pycharm": {
     "name": "#%%\n"
    }
   },
   "outputs": [],
   "source": "df = pd.read_csv(f'{export_folder}.csv')"
  },
  {
   "cell_type": "markdown",
   "metadata": {
    "collapsed": false,
    "pycharm": {
     "name": "#%% md\n"
    }
   },
   "source": [
    "# Update Account Variables"
   ]
  },
  {
   "cell_type": "code",
   "execution_count": null,
   "metadata": {
    "pycharm": {
     "name": "#%%\n"
    }
   },
   "outputs": [],
   "source": [
    "for var_info in account_var_std_list:\n",
    "    # request content response\n",
    "    request_url = \"https://concord-api.centrastage.net/api/v2/account/variable\"\n",
    "\n",
    "\n",
    "    # construct header\n",
    "    headers = CaseInsensitiveDict()\n",
    "    headers['Authorization'] = f'Bearer {datto_access_token}'\n",
    "    headers['Content-Type'] = 'application/json'\n",
    "    headers['accept'] = '*/*'\n",
    "\n",
    "\n",
    "    # construct req body\n",
    "    json_data = {\n",
    "        'name': var_info['varName'],\n",
    "        'value': var_info['value'],\n",
    "        'masked': var_info['masked'],\n",
    "    }\n",
    "\n",
    "    print(f'Request URL: {request_url}')\n",
    "\n",
    "    resp = requests.put(request_url, headers=headers, json=json_data)\n",
    "\n",
    "    print(data)\n",
    "\n",
    "    print(f\"response code: {resp.status_code}\")\n",
    "    print(resp.headers)\n",
    "    print(resp.content)"
   ]
  },
  {
   "cell_type": "code",
   "execution_count": null,
   "metadata": {
    "pycharm": {
     "name": "#%%\n"
    }
   },
   "outputs": [],
   "source": []
  }
 ],
 "metadata": {
  "kernelspec": {
   "display_name": "Python 3",
   "language": "python",
   "name": "python3"
  },
  "language_info": {
   "codemirror_mode": {
    "name": "ipython",
    "version": 2
   },
   "file_extension": ".py",
   "mimetype": "text/x-python",
   "name": "python",
   "nbconvert_exporter": "python",
   "pygments_lexer": "ipython2",
   "version": "2.7.6"
  }
 },
 "nbformat": 4,
 "nbformat_minor": 0
}
