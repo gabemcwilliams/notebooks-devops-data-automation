{
 "cells": [
  {
   "cell_type": "code",
   "execution_count": null,
   "id": "initial_id",
   "metadata": {
    "editable": true,
    "jupyter": {
     "outputs_hidden": true
    },
    "slideshow": {
     "slide_type": ""
    },
    "tags": []
   },
   "outputs": [],
   "source": [
    "import pandas as pd\n",
    "import numpy as np\n",
    "import re\n",
    "import datetime as dt\n",
    "import matplotlib.pyplot as plt"
   ]
  },
  {
   "cell_type": "code",
   "execution_count": null,
   "id": "b65ec670fbc05f6e",
   "metadata": {},
   "outputs": [],
   "source": "df = pd.read_csv(\".csv\", dtype_backend=\"pyarrow\")"
  },
  {
   "cell_type": "markdown",
   "id": "20cf1c20dc4ddfe6",
   "metadata": {},
   "source": [
    "# Breakdown of Destination Total Info"
   ]
  },
  {
   "cell_type": "code",
   "execution_count": null,
   "id": "ccd7d14d5e61e0a2",
   "metadata": {},
   "outputs": [],
   "source": [
    "df[\"Destination\"].value_counts().head(30).reset_index()"
   ]
  },
  {
   "cell_type": "markdown",
   "id": "855102c1c22c2fa0",
   "metadata": {},
   "source": [
    "## Datto Destinations Only"
   ]
  },
  {
   "cell_type": "code",
   "execution_count": null,
   "id": "51e2f1f901b0e4d3",
   "metadata": {},
   "outputs": [],
   "source": [
    "df_centrastage = df[df[\"Destination\"].str.contains('centrastage')]\n",
    "df_centrastage.shape # size of dataframe (rows, columns)"
   ]
  },
  {
   "cell_type": "code",
   "execution_count": null,
   "id": "71d1cc0efad71c20",
   "metadata": {},
   "outputs": [],
   "source": [
    "list(df_centrastage[\"Destination\"].value_counts().reset_index()[\"Destination\"])"
   ]
  },
  {
   "cell_type": "code",
   "execution_count": null,
   "id": "c51b2f005dd2489e",
   "metadata": {},
   "outputs": [],
   "source": [
    "df_centrastage_value_counts = df_centrastage[[\"ADComputers\",\"Destination\"]].value_counts().reset_index()"
   ]
  },
  {
   "cell_type": "markdown",
   "id": "db936011200f07d4",
   "metadata": {},
   "source": [
    "# Breakdown of Counts per Hour / Minute"
   ]
  },
  {
   "cell_type": "code",
   "execution_count": null,
   "id": "d6ccd5a05e3b356e",
   "metadata": {},
   "outputs": [],
   "source": [
    "max = pd.to_datetime(df[\"Time\"].max())\n",
    "min = pd.to_datetime(df[\"Time\"].min())\n",
    "\n",
    "print(f\"The first time entry was: {min}\\nThe last time entry as: {max}\")"
   ]
  },
  {
   "cell_type": "code",
   "execution_count": null,
   "id": "9840d02654ea2443",
   "metadata": {},
   "outputs": [],
   "source": [
    "hours_duration = round((pd.Timedelta(max - min).total_seconds()) / 3600)\n",
    "print(f\"The dataset time frame was {hours_duration} hours\")\n",
    "minutes_duration = round((pd.Timedelta(max - min).total_seconds()) / 60)\n",
    "print(f\"The dataset time frame was {minutes_duration} minutes\")"
   ]
  },
  {
   "cell_type": "code",
   "execution_count": null,
   "id": "3c5c805c3dc0f88b",
   "metadata": {},
   "outputs": [],
   "source": [
    "df_centrastage_value_counts['counts_per_hour'] = df_centrastage_value_counts['count'].apply(lambda x: x / hours_duration)\n",
    "df_centrastage_value_counts['counts_per_minute'] = df_centrastage_value_counts['count'].apply(lambda x: x / minutes_duration )"
   ]
  },
  {
   "cell_type": "markdown",
   "id": "7088f3fc268eeb5f",
   "metadata": {},
   "source": [
    "# Traffic Statistics "
   ]
  },
  {
   "cell_type": "code",
   "execution_count": null,
   "id": "9f2d6ec75ae6491b",
   "metadata": {},
   "outputs": [],
   "source": [
    "df_centrastage_value_counts.describe()"
   ]
  },
  {
   "cell_type": "code",
   "execution_count": null,
   "id": "d9e0e7f35be68844",
   "metadata": {},
   "outputs": [],
   "source": "df_centrastage_value_counts.sort_values('ADComputers').reset_index().drop(\"index\", axis=1).to_csv(\".csv\", index=False)"
  },
  {
   "cell_type": "code",
   "execution_count": null,
   "id": "3f9c7c0196232478",
   "metadata": {},
   "outputs": [],
   "source": [
    "df_centrastage_value_counts"
   ]
  }
 ],
 "metadata": {
  "kernelspec": {
   "display_name": "Python 3 (ipykernel)",
   "language": "python",
   "name": "python3"
  },
  "language_info": {
   "codemirror_mode": {
    "name": "ipython",
    "version": 3
   },
   "file_extension": ".py",
   "mimetype": "text/x-python",
   "name": "python",
   "nbconvert_exporter": "python",
   "pygments_lexer": "ipython3",
   "version": "3.11.0"
  }
 },
 "nbformat": 4,
 "nbformat_minor": 5
}
