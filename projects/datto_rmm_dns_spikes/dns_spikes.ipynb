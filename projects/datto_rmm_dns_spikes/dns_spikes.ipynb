{
 "cells": [
  {
   "cell_type": "code",
   "execution_count": null,
   "id": "initial_id",
   "metadata": {
    "editable": true,
    "jupyter": {
     "outputs_hidden": true
    },
    "slideshow": {
     "slide_type": ""
    },
    "tags": []
   },
   "outputs": [],
   "source": [
    "import pandas as pd\n",
    "import numpy as np\n",
    "import re\n",
    "import matplotlib.pyplot as plt"
   ]
  },
  {
   "cell_type": "code",
   "execution_count": null,
   "id": "b65ec670fbc05f6e",
   "metadata": {},
   "outputs": [],
   "source": [
    "df = pd.read_csv(\"./data/24-06-20 @ 900 AM to 930 AM - All DNS Activity (America_Phoenix).csv\", dtype_backend=\"pyarrow\")\n",
    "\n",
    "df.columns"
   ]
  },
  {
   "cell_type": "markdown",
   "id": "3ad3d9e1c6bc703b",
   "metadata": {},
   "source": [
    "## Destination Value Counts (top 10)"
   ]
  },
  {
   "cell_type": "code",
   "execution_count": null,
   "id": "675e8abdbef49903",
   "metadata": {},
   "outputs": [],
   "source": [
    "df[\"Time\"].max()"
   ]
  },
  {
   "cell_type": "code",
   "execution_count": null,
   "id": "dff2851e6a995f3f",
   "metadata": {},
   "outputs": [],
   "source": [
    "df[\"Time\"].min()"
   ]
  },
  {
   "cell_type": "code",
   "execution_count": null,
   "id": "fe0f9d1dc0967b0a",
   "metadata": {},
   "outputs": [],
   "source": [
    "df[\"Destination\"].value_counts().head(30)"
   ]
  },
  {
   "cell_type": "markdown",
   "id": "fd6637a52c16e57b",
   "metadata": {},
   "source": [
    "## Split Identities Col Func"
   ]
  },
  {
   "cell_type": "code",
   "execution_count": null,
   "id": "bbdaf15dbcab301d",
   "metadata": {},
   "outputs": [],
   "source": [
    "def split_identities(identities: str) -> list:\n",
    "    result_dict = {\n",
    "        \"Sites\": None,\n",
    "        \"ADUsers\": None,\n",
    "        \"Email\": None,\n",
    "        \"ADComputers\": None,\n",
    "        \"Networks\": None\n",
    "    }\n",
    "\n",
    "    if identities is None:\n",
    "        return result_dict\n",
    "\n",
    "    result = identities.split(\",\")\n",
    "\n",
    "    try:\n",
    "        if len(result) == 1:\n",
    "            if \"Sites\" in result:\n",
    "                result_dict[\"Sites\"] = result\n",
    "            elif \"@\" in result:\n",
    "                re_result = re.match(r\"^([\\w\\s\\-]+)\\s\\(([\\w\\-@.]+)\\)\", result)\n",
    "                result_dict[\"ADUsers\"] = re_result.group(1)\n",
    "                result_dict[\"Email\"] = re_result.group(2)\n",
    "            elif \".org\" in result:\n",
    "                result_dict[\"ADComputers\"] = result.replace(r\".example.org\", \"\")\n",
    "            else:\n",
    "                result_dict[\"Networks\"] = result\n",
    "\n",
    "\n",
    "        else:\n",
    "            for r in result:\n",
    "                if \"Sites\" in r:\n",
    "                    result_dict[\"Sites\"] = r\n",
    "                elif \"@\" in r:\n",
    "                    re_result = re.match(r\"^([^\\(]+)\\s\\(([\\w\\-@.]+)\\)\", r)\n",
    "                    result_dict[\"ADUsers\"] = re_result.group(1)\n",
    "                    result_dict[\"Email\"] = re_result.group(2)\n",
    "                elif \".org\" in r:\n",
    "                    result_dict[\"ADComputers\"] = r.replace(r\".example.org\", \"\")\n",
    "                else:\n",
    "                    result_dict[\"Networks\"] = r\n",
    "\n",
    "        return pd.Series(result_dict)\n",
    "\n",
    "\n",
    "    except Exception as e:\n",
    "        print(e)\n",
    "        print(identities)\n",
    "\n",
    "\n"
   ]
  },
  {
   "cell_type": "markdown",
   "id": "fdfc23cf52fc5d50",
   "metadata": {},
   "source": [
    "## Apply Split Func"
   ]
  },
  {
   "cell_type": "code",
   "execution_count": null,
   "id": "4a3cae0f2f27dbb7",
   "metadata": {},
   "outputs": [],
   "source": [
    "df[[\"Sites\", \"ADUsers\", \"Email\", \"ADComputers\", \"Networks\"]] = df[\"Identities\"].apply(func=split_identities)"
   ]
  },
  {
   "cell_type": "markdown",
   "id": "bd8f84219181b18",
   "metadata": {},
   "source": [
    "## Drop NA and split cols"
   ]
  },
  {
   "cell_type": "code",
   "execution_count": null,
   "id": "e9ddf1dff6f7b32",
   "metadata": {},
   "outputs": [],
   "source": [
    "df.dropna(how='all', axis=1, inplace=True)"
   ]
  },
  {
   "cell_type": "code",
   "execution_count": null,
   "id": "b206a56bf7da175e",
   "metadata": {},
   "outputs": [],
   "source": [
    "df.drop([\"Identities\", \"Identity Types\"], axis=1, inplace=True)"
   ]
  },
  {
   "cell_type": "markdown",
   "id": "8724206d7c7f0845",
   "metadata": {},
   "source": [
    "## Top internal (source) offenders"
   ]
  },
  {
   "cell_type": "code",
   "execution_count": null,
   "id": "b952ad9f36e95c18",
   "metadata": {},
   "outputs": [],
   "source": [
    "df[[\"ADComputers\", \"Internal IP\"]].value_counts().head(20).reset_index().to_csv(\".csv\",\n",
    "                                                                                index=False)"
   ]
  },
  {
   "cell_type": "markdown",
   "id": "35424bb3dd646f0d",
   "metadata": {},
   "source": [
    "## Plot graphic"
   ]
  },
  {
   "cell_type": "code",
   "execution_count": null,
   "id": "71f371757f6ab177",
   "metadata": {},
   "outputs": [],
   "source": [
    "fig = plt.figure(figsize=(20, 30))\n",
    "ax = df[[\"ADComputers\", \"Internal IP\"]].value_counts().head(50).plot(\n",
    "    kind='barh',\n",
    "    title=\"DNS Traffic by Device\",\n",
    "    x=['ADComputers', 'Internal IP'],\n",
    "    y='counts',\n",
    "    legend=True,\n",
    "    fontsize=12)\n",
    "\n",
    "ax.xaxis.set_ticks(np.arange(0, 600, 50))\n",
    "\n",
    "fig.savefig(\".png\")"
   ]
  }
 ],
 "metadata": {
  "kernelspec": {
   "display_name": "Python 3 (ipykernel)",
   "language": "python",
   "name": "python3"
  },
  "language_info": {
   "codemirror_mode": {
    "name": "ipython",
    "version": 3
   },
   "file_extension": "[REDACTED][REDACTED]/.py",
   "mimetype": "text/x-python",
   "name": "python",
   "nbconvert_exporter": "python",
   "pygments_lexer": "ipython3",
   "version": "3.11.0"
  }
 },
 "nbformat": 4,
 "nbformat_minor": 5
}
