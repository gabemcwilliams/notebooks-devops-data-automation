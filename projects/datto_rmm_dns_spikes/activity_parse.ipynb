{
 "cells": [
  {
   "cell_type": "code",
   "execution_count": null,
   "id": "initial_id",
   "metadata": {
    "jupyter": {
     "outputs_hidden": true
    }
   },
   "outputs": [],
   "source": [
    "import pandas as pd\n",
    "import datetime as dt\n",
    "import re"
   ]
  },
  {
   "cell_type": "code",
   "execution_count": null,
   "id": "f1064ea0dffeabca",
   "metadata": {},
   "outputs": [],
   "source": [
    "data = \"[REDACTED]/.csv\""
   ]
  },
  {
   "cell_type": "code",
   "execution_count": null,
   "id": "e8ecd23969505e7",
   "metadata": {},
   "outputs": [],
   "source": [
    "df = pd.read_csv(data, dtype_backend='pyarrow')"
   ]
  },
  {
   "cell_type": "code",
   "execution_count": null,
   "id": "8558f90bb2a24024",
   "metadata": {},
   "outputs": [],
   "source": [
    "df[['Device Hostname', 'Activity Name']].value_counts().head(30)"
   ]
  },
  {
   "cell_type": "code",
   "execution_count": null,
   "id": "7dac875aa4085a62",
   "metadata": {},
   "outputs": [],
   "source": [
    "df['Device Hostname'].value_counts().max()"
   ]
  },
  {
   "cell_type": "code",
   "execution_count": null,
   "id": "7eba9159692c5e9f",
   "metadata": {},
   "outputs": [],
   "source": [
    "df['Device Hostname'].value_counts().min()"
   ]
  },
  {
   "cell_type": "code",
   "execution_count": null,
   "id": "8c7f350a5ea1fc9e",
   "metadata": {},
   "outputs": [],
   "source": [
    "df['Activity Name'].value_counts()"
   ]
  },
  {
   "cell_type": "code",
   "execution_count": null,
   "id": "4cb455f1fa745b77",
   "metadata": {},
   "outputs": [],
   "source": [
    "df_activity = df[~df['Activity Name'].isin(\n",
    "    [\"Patch Installation: Start\",\n",
    "     \"Patch Installation: End\",\n",
    "     \"*Account Job - Maintenance - Datto Agent Health - 1\",\n",
    "     \"*Account Job - Maintenance - Datto Agent Health - 2\",\n",
    "     \"*Account Job - Maintenance - Block Upgrade to Windows 11\"\n",
    "     ])]"
   ]
  },
  {
   "cell_type": "code",
   "execution_count": null,
   "id": "e2a67cde094640b0",
   "metadata": {},
   "outputs": [],
   "source": [
    "df_activity['Begin Timestamp'].max()"
   ]
  },
  {
   "cell_type": "code",
   "execution_count": null,
   "id": "5a672fa057e95d59",
   "metadata": {},
   "outputs": [],
   "source": [
    "df_activity['Begin Timestamp'].min()"
   ]
  },
  {
   "cell_type": "code",
   "execution_count": null,
   "id": "3600862a9eba4d4b",
   "metadata": {},
   "outputs": [],
   "source": [
    "df_activity.loc[:, 'Begin Timestamp'] = pd.to_datetime(df_activity['Begin Timestamp'])"
   ]
  },
  {
   "cell_type": "code",
   "execution_count": null,
   "id": "c48338badebfe0e4",
   "metadata": {},
   "outputs": [],
   "source": [
    "df_activity_after_shutoff = df_activity[df_activity['Begin Timestamp'] > dt.datetime.strptime('6/28/2024', \"%m/%d/%Y\")]"
   ]
  },
  {
   "cell_type": "code",
   "execution_count": null,
   "id": "70caacbbbef2f810",
   "metadata": {},
   "outputs": [],
   "source": [
    "df_patch_activity_after_shutoff = df_activity_after_shutoff[\n",
    "    df_activity_after_shutoff[\"Activity Name\"].str.contains(\"Patch\")]"
   ]
  },
  {
   "cell_type": "code",
   "execution_count": null,
   "id": "4b091dcf890c081",
   "metadata": {},
   "outputs": [],
   "source": [
    "type(df_activity.loc[45, 'Begin Timestamp'])"
   ]
  },
  {
   "cell_type": "code",
   "execution_count": null,
   "id": "55dd6d61d0cb2a92",
   "metadata": {},
   "outputs": [],
   "source": [
    "df_patch_activity_after_shutoff"
   ]
  },
  {
   "cell_type": "code",
   "execution_count": null,
   "id": "b05c6f8c7b9d0e6e",
   "metadata": {},
   "outputs": [],
   "source": [
    "df_top_activity = df_activity[['Device Hostname', 'Activity Name']].value_counts()"
   ]
  },
  {
   "cell_type": "code",
   "execution_count": null,
   "id": "df9dddbcd1ffeb77",
   "metadata": {},
   "outputs": [],
   "source": [
    "df_activity"
   ]
  },
  {
   "cell_type": "code",
   "execution_count": null,
   "id": "eea7afdaec5c93e6",
   "metadata": {},
   "outputs": [],
   "source": [
    "top_activity_list = list(df_top_activity.reset_index()[\"Device Hostname\"])"
   ]
  },
  {
   "cell_type": "code",
   "execution_count": null,
   "id": "7104933dc3222d7e",
   "metadata": {},
   "outputs": [],
   "source": [
    "df_patch_activity_after_shutoff[df_patch_activity_after_shutoff[\"Device Hostname\"].isin(top_activity_list)]"
   ]
  },
  {
   "cell_type": "code",
   "execution_count": null,
   "id": "8b635744ef1a839d",
   "metadata": {},
   "outputs": [],
   "source": [
    "patch_activity_list = list(\n",
    "    df_patch_activity_after_shutoff[df_patch_activity_after_shutoff[\"Device Hostname\"].isin(top_activity_list)][\n",
    "        \"Device Hostname\"])"
   ]
  },
  {
   "cell_type": "code",
   "execution_count": null,
   "id": "e34b47313966c586",
   "metadata": {},
   "outputs": [],
   "source": [
    "df_activity[df_activity[\"Device Hostname\"].isin(patch_activity_list)]"
   ]
  },
  {
   "cell_type": "code",
   "execution_count": null,
   "id": "fa33efe2d2a5d7b9",
   "metadata": {},
   "outputs": [],
   "source": []
  }
 ],
 "metadata": {
  "kernelspec": {
   "display_name": "Python 3 (ipykernel)",
   "language": "python",
   "name": "python3"
  },
  "language_info": {
   "codemirror_mode": {
    "name": "ipython",
    "version": 3
   },
   "file_extension": "[REDACTED][REDACTED]/.py",
   "mimetype": "text/x-python",
   "name": "python",
   "nbconvert_exporter": "python",
   "pygments_lexer": "ipython3",
   "version": "3.11.0"
  }
 },
 "nbformat": 4,
 "nbformat_minor": 5
}
