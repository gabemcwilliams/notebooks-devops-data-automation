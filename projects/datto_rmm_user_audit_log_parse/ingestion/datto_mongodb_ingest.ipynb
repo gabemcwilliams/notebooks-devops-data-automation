{
 "cells": [
  {
   "cell_type": "markdown",
   "metadata": {
    "collapsed": false,
    "pycharm": {
     "name": "#%% md\n"
    }
   },
   "source": [
    "<h1> DattoRMM - User Activity - MongoDB Ingest <h1>"
   ]
  },
  {
   "cell_type": "markdown",
   "metadata": {
    "collapsed": false,
    "pycharm": {
     "name": "#%% md\n"
    }
   },
   "source": [
    "# Import Modules and Set up MongoDB Client"
   ]
  },
  {
   "cell_type": "code",
   "execution_count": null,
   "metadata": {
    "pycharm": {
     "name": "#%%\n"
    }
   },
   "outputs": [],
   "source": [
    "import re\n",
    "import pandas as pd\n",
    "import datetime as dt\n",
    "import json\n",
    "\n",
    "\n",
    "# add current timestamp to filename for reference\n",
    "current_time = (dt.datetime.utcnow().strftime('%Y_%m_%d_%H%M%S'))\n",
    "\n",
    "# export folder will contain all csv exported DataFrames for Ticket Creation\n",
    "export_folder = 'd:/exports/'\n",
    "\n",
    "# import configparser for env secrets\n",
    "from configparser import ConfigParser\n",
    "config = ConfigParser()\n",
    "config.read('d:/git/example_infrastructure_data_dev/config/env.ini')\n",
    "import requests\n",
    "from requests.structures import CaseInsensitiveDict"
   ]
  },
  {
   "cell_type": "markdown",
   "metadata": {
    "collapsed": false,
    "pycharm": {
     "name": "#%% md\n"
    }
   },
   "source": [
    "# MongoDB"
   ]
  },
  {
   "cell_type": "code",
   "execution_count": null,
   "metadata": {
    "pycharm": {
     "name": "#%%\n"
    }
   },
   "outputs": [],
   "source": [
    "username = config['mongodb']['username']\n",
    "password = config['mongodb']['password']\n",
    "connection_ip = config['mongodb']['connection_ip']\n",
    "database = 'seed_data'\n",
    "\n",
    "# import bson for object encoding\n",
    "import bson\n",
    "\n",
    "# Provide the mongodb atlas url to connect python to mongodb using pymongo\n",
    "#CONNECTION_STRING = f\"mongodb://{username}:{password}@{connection_ip}/{database}\"\n",
    "CONNECTION_STRING = 'mongodb://localhost:27017'\n",
    "\n",
    "\n",
    "# Create a connection using MongoClient. You can import MongoClient or use pymongo.MongoClient\n",
    "from pymongo import MongoClient\n",
    "client = MongoClient(CONNECTION_STRING)\n",
    "\n",
    "\n",
    "db = client['datto_rmm']\n",
    "collection = db['user_audit']\n"
   ]
  },
  {
   "cell_type": "markdown",
   "metadata": {
    "collapsed": false,
    "pycharm": {
     "name": "#%% md\n"
    }
   },
   "source": [
    "# Import and Condition User Access CSV"
   ]
  },
  {
   "cell_type": "code",
   "execution_count": null,
   "metadata": {
    "pycharm": {
     "name": "#%%\n"
    }
   },
   "outputs": [],
   "source": [
    "audit_logs_source = open('.txt','r',encoding='utf-8')\n",
    "file = audit_logs_source.read()"
   ]
  },
  {
   "cell_type": "code",
   "execution_count": null,
   "metadata": {
    "pycharm": {
     "name": "#%%\n"
    }
   },
   "outputs": [],
   "source": [
    "full_line_prog = re.compile(r'\"(\\d{4}-\\d{2}-\\d{2}\\s\\d{2}:\\d{2}:\\d{2}\\s\\bUTC\\b)\",\"([\\w\\d]{1}\\S*@[^\\.]*\\.[^\\\"\\']{2,5})\",\"(\\d{,4}\\.\\d{,4}\\.\\d{,4}\\.\\d{,4})\",\"([^:]+):([^\"]+)\",\"(.*)\"')"
   ]
  },
  {
   "cell_type": "code",
   "execution_count": null,
   "metadata": {
    "pycharm": {
     "name": "#%%\n"
    }
   },
   "outputs": [],
   "source": [
    "parse = list(full_line_prog.findall(file))\n",
    "parse_dict_list = []"
   ]
  },
  {
   "cell_type": "code",
   "execution_count": null,
   "metadata": {
    "pycharm": {
     "name": "#%%\n"
    }
   },
   "outputs": [],
   "source": [
    "for item in parse[1:]:\n",
    "    item_dict = {}\n",
    "    list_item = list(item)\n",
    "    item_dict['date'] = list_item[0]\n",
    "    item_dict['username'] = list_item[1]\n",
    "    item_dict['ipAddress'] = list_item[2]\n",
    "    item_dict['group'] = list_item[3]\n",
    "    item_dict['groupAction'] = list_item[4]\n",
    "    item_dict['details'] = list_item[5]\n",
    "\n",
    "    parse_dict_list.append(item_dict)"
   ]
  },
  {
   "cell_type": "code",
   "execution_count": null,
   "metadata": {
    "pycharm": {
     "name": "#%%\n"
    }
   },
   "outputs": [],
   "source": [
    "df = pd.DataFrame(parse_dict_list)"
   ]
  },
  {
   "cell_type": "code",
   "execution_count": null,
   "metadata": {
    "pycharm": {
     "name": "#%%\n"
    }
   },
   "outputs": [],
   "source": [
    "df[df['details'].str.contains(r\"\\*Software Management\") & df['details'].str.contains(r\"Christian\")]"
   ]
  },
  {
   "cell_type": "code",
   "execution_count": null,
   "metadata": {
    "pycharm": {
     "name": "#%%\n"
    }
   },
   "outputs": [],
   "source": [
    "df[df['date'] == '2022-01-12 21:06:28 UTC']"
   ]
  },
  {
   "cell_type": "code",
   "execution_count": null,
   "metadata": {
    "pycharm": {
     "name": "#%%\n"
    }
   },
   "outputs": [],
   "source": []
  },
  {
   "cell_type": "code",
   "execution_count": null,
   "metadata": {
    "pycharm": {
     "name": "#%%\n"
    }
   },
   "outputs": [],
   "source": []
  },
  {
   "cell_type": "code",
   "execution_count": null,
   "metadata": {
    "pycharm": {
     "name": "#%%\n"
    }
   },
   "outputs": [],
   "source": []
  },
  {
   "cell_type": "code",
   "execution_count": null,
   "metadata": {
    "pycharm": {
     "name": "#%%\n"
    }
   },
   "outputs": [],
   "source": [
    "dt_list = list(df_ingest.dtypes[df_ingest.dtypes == 'datetime64[ns]'].index)"
   ]
  },
  {
   "cell_type": "code",
   "execution_count": null,
   "metadata": {
    "pycharm": {
     "name": "#%%\n"
    }
   },
   "outputs": [],
   "source": [
    "df_ingest.fillna(pd.NA,inplace=True)"
   ]
  },
  {
   "cell_type": "code",
   "execution_count": null,
   "metadata": {
    "pycharm": {
     "name": "#%%\n"
    }
   },
   "outputs": [],
   "source": [
    "entries = []\n",
    "cols = enumerate(list(df_ingest.columns))\n",
    "\n",
    "for index, row in df_ingest.iterrows():\n",
    "    current_row = row.to_dict()\n",
    "    new_entry = {}\n",
    "    try:\n",
    "        try:\n",
    "            new_entry['onlineData'] = {'legend':['onlineStatus','lastSeen'],'data':[[current_row['online'],current_row['lastSeen']]]}\n",
    "        except:\n",
    "            print(f'Unable to create column: \"onlineData\"')\n",
    "        try:\n",
    "            if current_row['suspended'] == 1:\n",
    "                new_entry['isSuspended'] = {'legend':['suspendedStatus','lastSeen'],'data':[[current_row['suspended'],current_row['lastSeen']]]}\n",
    "        except:\n",
    "            print(f'Unable to create column: \"isSuspended\"')\n",
    "            print(current_row['suspended'])\n",
    "        try:\n",
    "            if current_row['deleted'] == 1:\n",
    "                new_entry['isDeleted'] = {'legend':['deletedStatus','lastSeen'],'data':[[current_row['deleted'],current_row['lastSeen']]]}\n",
    "        except:\n",
    "            print(f'Unable to create column: \"isDeleted\"')\n",
    "            print(current_row['deleted'])\n",
    "        try:\n",
    "            if current_row['rebootRequired'] == 1:\n",
    "                new_entry['rebootRequired'] = {'legend':['rebootRequired','lastReboot'],'data':[[current_row['rebootRequired'],current_row['lastReboot']]]}\n",
    "        except:\n",
    "            print(f'Unable to create column: \"rebootRequired\"')\n",
    "            print(current_row['rebootRequired'])\n",
    "        for k,v in current_row.items():\n",
    "            if pd.isna(v) == True:\n",
    "                continue\n",
    "            elif (k == 'online') | (k == 'lastSeen') | (k == 'suspended') | (k == 'rebootRequired') | (k == 'lastReboot') |(k == 'deleted'):\n",
    "                continue\n",
    "            else:\n",
    "                new_entry[k] = v\n",
    "\n",
    "        entries.append(new_entry)\n",
    "    except:\n",
    "        print(current_row)"
   ]
  },
  {
   "cell_type": "code",
   "execution_count": null,
   "metadata": {
    "pycharm": {
     "name": "#%%\n"
    }
   },
   "outputs": [],
   "source": [
    "\n",
    "\n",
    "for entry in entries:\n",
    "    try:\n",
    "        result = collection.find_one({'uid':entry['uid']})\n",
    "        print(f\"_id found: {result['_id']}\")\n",
    "        match_id = result['_id']\n",
    "        for k,v in entry.items():\n",
    "            try:\n",
    "                #print(k,v)\n",
    "                if k in  ['onlineData','isSuspended','isDeleted','rebootRequired']:\n",
    "                    try:\n",
    "                        #print({f\"{ str(k)  + '.legend'}\": v['legend']})\n",
    "                        #collection.insert_one({'_id':m_id}, {f\"{str(k)}\":v['legend']})\n",
    "                        collection.update_one({'_id':match_id},{'$set': {f\"{ str(k)  + '.legend'}\" : v['legend'] }},upsert=False)\n",
    "                        collection.update_one({'_id':match_id},{'$push': {f\"{ str(k)  + '.data'}\" : {\"$each\":  v['data'] }}},upsert=True)\n",
    "                        #print(f\"Successfully updated {k} for {entry['hostname']}\")\n",
    "                    except Exception as error:\n",
    "                        print(error)\n",
    "                else:\n",
    "                    try:\n",
    "                        collection.update_one({'_id':match_id}, {'$set':{f\"{str(k)}\":v}},upsert=True)\n",
    "                        #print(f\"Successfully inserted new {k} for {entries[0]['hostname']}\")\n",
    "                    except Exception as error:\n",
    "                        #print(f\"Unable to insert new {k} for {entries[0]['hostname']}\")\n",
    "                        print(error)\n",
    "            except Exception as e:\n",
    "                print(e)\n",
    "                continue\n",
    "    except Exception as e:\n",
    "        try:\n",
    "            print(f\"_id not found: attempting new entry for {entry['hostname']} with uid: {entry['uid']}\")\n",
    "            collection.insert_one(entry)\n",
    "        except:\n",
    "            print(e)\n",
    "\n",
    "print('*'*120)\n",
    "print('End of Import!')"
   ]
  },
  {
   "cell_type": "code",
   "execution_count": null,
   "metadata": {
    "pycharm": {
     "name": "#%%\n"
    }
   },
   "outputs": [],
   "source": []
  }
 ],
 "metadata": {
  "kernelspec": {
   "display_name": "Python 3",
   "language": "python",
   "name": "python3"
  },
  "language_info": {
   "codemirror_mode": {
    "name": "ipython",
    "version": 2
   },
   "file_extension": ".py",
   "mimetype": "text/x-python",
   "name": "python",
   "nbconvert_exporter": "python",
   "pygments_lexer": "ipython2",
   "version": "2.7.6"
  }
 },
 "nbformat": 4,
 "nbformat_minor": 0
}
