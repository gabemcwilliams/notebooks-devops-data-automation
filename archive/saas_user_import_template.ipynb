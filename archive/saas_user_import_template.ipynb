{
 "cells": [
  {
   "cell_type": "code",
   "execution_count": null,
   "id": "initial_id",
   "metadata": {
    "ExecuteTime": {
     "end_time": "2023-12-01T17:02:59.746628900Z",
     "start_time": "2023-12-01T17:02:59.698519400Z"
    }
   },
   "outputs": [],
   "source": [
    "import pandas as pd\n",
    "import re\n",
    "import os\n",
    "import openpyxl"
   ]
  },
  {
   "cell_type": "code",
   "execution_count": null,
   "id": "7817d63c989d93d9",
   "metadata": {
    "ExecuteTime": {
     "end_time": "2023-12-01T17:02:59.912249200Z",
     "start_time": "2023-12-01T17:02:59.855465100Z"
    }
   },
   "outputs": [],
   "source": "project_dir = r\"C:\\automation\\OneDrive - Think Stack\\project_management\\2023 Projects\\halo_user_imports\\example\""
  },
  {
   "cell_type": "code",
   "execution_count": null,
   "id": "d70e6bd1a6963c68",
   "metadata": {
    "ExecuteTime": {
     "end_time": "2023-12-01T17:03:17.114717400Z",
     "start_time": "2023-12-01T17:03:17.097849800Z"
    }
   },
   "outputs": [],
   "source": [
    "files_list = []\n",
    "\n",
    "for root, dirs, files in os.walk(project_dir):\n",
    "    for file in files:\n",
    "        if file.endswith(\"xlsx\"):\n",
    "            file_dict = {\n",
    "                \"file_name\": file,\n",
    "                \"file_path\": os.path.join(root, file)\n",
    "            }\n",
    "\n",
    "            files_list.append(file_dict)"
   ]
  },
  {
   "cell_type": "code",
   "execution_count": null,
   "id": "e49d80b637c9525e",
   "metadata": {
    "ExecuteTime": {
     "end_time": "2023-12-01T17:03:17.375130100Z",
     "start_time": "2023-12-01T17:03:17.342421800Z"
    }
   },
   "outputs": [],
   "source": [
    "files_list"
   ]
  },
  {
   "cell_type": "code",
   "execution_count": null,
   "id": "e4f1c970744be5cf",
   "metadata": {
    "ExecuteTime": {
     "end_time": "2023-12-01T17:03:17.729655800Z",
     "start_time": "2023-12-01T17:03:17.518413Z"
    }
   },
   "outputs": [],
   "source": [
    "df = pd.read_excel(files_list[0][\"file_path\"], engine=\"openpyxl\")"
   ]
  },
  {
   "cell_type": "code",
   "execution_count": null,
   "id": "813c1161e48941b2",
   "metadata": {
    "ExecuteTime": {
     "end_time": "2023-12-01T17:04:42.910254Z",
     "start_time": "2023-12-01T17:04:42.877243500Z"
    }
   },
   "outputs": [],
   "source": [
    "def split_first_last(name):\n",
    "    try:\n",
    "        result = re.match(r\"(\\w+)\\s(\\w+\\.|\\w{1}\\s)?\\s?(.*)\", name)\n",
    "        if result:\n",
    "            try:\n",
    "                option = 1\n",
    "                if len(result.group(2)) > 0:\n",
    "                    first = f\"{result.group(1)} {result.group(2)}\"\n",
    "                    last = result.group(3)\n",
    "                    print(f'{name}: option: {option}')\n",
    "                    return [first, last, option]\n",
    "                else:\n",
    "                    option = 2\n",
    "                    first = result.group(1)\n",
    "                    last = result.group(3)\n",
    "                    print(f'{name}: option: {option}')\n",
    "                    return [first, last, option]\n",
    "            except:\n",
    "                option = 3\n",
    "                first = result.group(1)\n",
    "                last = result.group(3)\n",
    "                print(f'{name}: option: {option}')\n",
    "                return [first, last, option]\n",
    "        return None\n",
    "\n",
    "    except:\n",
    "        return []\n"
   ]
  },
  {
   "cell_type": "code",
   "execution_count": null,
   "id": "4dd48e8409bf1a8e",
   "metadata": {
    "ExecuteTime": {
     "end_time": "2023-12-01T17:07:25.844639300Z",
     "start_time": "2023-12-01T17:07:25.671754800Z"
    }
   },
   "outputs": [],
   "source": [
    "for index, row in df.iterrows():\n",
    "    try:\n",
    "        first_name, last_name, option_used = split_first_last(row[\"Employee Name\"])\n",
    "        df.loc[index, \"FirstName\"] = first_name\n",
    "        df.loc[index, \"LastName\"] = last_name\n",
    "        df.loc[index, \"option_used\"] = option_used\n",
    "    except Exception as e:\n",
    "        print(e)"
   ]
  },
  {
   "cell_type": "code",
   "execution_count": null,
   "id": "dcd8a94e94702902",
   "metadata": {
    "ExecuteTime": {
     "end_time": "2023-12-01T17:16:33.920223800Z",
     "start_time": "2023-12-01T17:16:33.815591500Z"
    }
   },
   "outputs": [],
   "source": [
    "df"
   ]
  },
  {
   "cell_type": "code",
   "execution_count": null,
   "id": "9e92f7d90a50bbce",
   "metadata": {
    "ExecuteTime": {
     "end_time": "2023-12-01T17:16:34.732969500Z",
     "start_time": "2023-12-01T17:16:34.631913600Z"
    }
   },
   "outputs": [],
   "source": [
    "def add_ext_to_phone(phone, ext):  \n",
    "    try:\n",
    "        if str(int(ext)) in str(phone):\n",
    "            return phone\n",
    "        else:\n",
    "            return f'{phone}    ext. {int(ext)}'        \n",
    "    except:\n",
    "        return phone"
   ]
  },
  {
   "cell_type": "code",
   "execution_count": null,
   "id": "db3a0595b46f1850",
   "metadata": {
    "ExecuteTime": {
     "end_time": "2023-12-01T17:17:04.751713600Z",
     "start_time": "2023-12-01T17:17:04.522102Z"
    }
   },
   "outputs": [],
   "source": [
    "for index, row in df.iterrows():\n",
    "    try:\n",
    "        df.loc[index, \"PhoneNumer\"] = add_ext_to_phone(row[\"Phone\"], row[\"Ext.\"])\n",
    "    except Exception as e:\n",
    "        print(e)\n",
    "        "
   ]
  },
  {
   "cell_type": "code",
   "execution_count": null,
   "id": "538839e555ea058a",
   "metadata": {
    "ExecuteTime": {
     "end_time": "2023-12-01T17:17:37.813786500Z",
     "start_time": "2023-12-01T17:17:37.746564600Z"
    }
   },
   "outputs": [],
   "source": [
    "df.loc[:, \"EmailAddress\"] = df[\"userPrincipalName\"].apply(lambda x: x.lower())"
   ]
  },
  {
   "cell_type": "code",
   "execution_count": null,
   "id": "10c806221acf209d",
   "metadata": {
    "ExecuteTime": {
     "end_time": "2023-12-01T17:17:58.988750100Z",
     "start_time": "2023-12-01T17:17:58.941904300Z"
    }
   },
   "outputs": [],
   "source": [
    "try:\n",
    "    df.drop([\"Phone\", \"Ext.\", \"option_used\", \"Email Address\"], axis=1, inplace=True)\n",
    "except:\n",
    "    pass"
   ]
  },
  {
   "cell_type": "code",
   "execution_count": null,
   "id": "136e85c0c1b47e1",
   "metadata": {
    "ExecuteTime": {
     "end_time": "2023-12-01T17:25:06.816687700Z",
     "start_time": "2023-12-01T17:25:06.769152800Z"
    }
   },
   "outputs": [],
   "source": [
    "\n",
    "try:\n",
    "    df.rename({\"Employee Name\": \"UserName\"},axis=1, inplace=True)\n",
    "except:\n",
    "    pass"
   ]
  },
  {
   "cell_type": "code",
   "execution_count": null,
   "id": "d5866f06952a3638",
   "metadata": {
    "ExecuteTime": {
     "end_time": "2023-12-01T17:30:24.603768900Z",
     "start_time": "2023-12-01T17:30:24.466117Z"
    }
   },
   "outputs": [],
   "source": [
    "df = df[df['FirstName'].notna()]\n",
    "try:\n",
    "    df = df[df['department'].notna()]\n",
    "except:\n",
    "    pass"
   ]
  },
  {
   "cell_type": "code",
   "execution_count": null,
   "id": "e603ba40253227bb",
   "metadata": {
    "ExecuteTime": {
     "end_time": "2023-12-01T17:30:27.031466900Z",
     "start_time": "2023-12-01T17:30:26.950862600Z"
    }
   },
   "outputs": [],
   "source": "df.to_csv(f'{project_dir}.csv',index=False)"
  },
  {
   "cell_type": "code",
   "execution_count": null,
   "id": "20a4d71655d8d23c",
   "metadata": {
    "ExecuteTime": {
     "end_time": "2023-12-01T17:30:28.779721800Z",
     "start_time": "2023-12-01T17:30:28.687086900Z"
    }
   },
   "outputs": [],
   "source": [
    "df"
   ]
  },
  {
   "cell_type": "code",
   "execution_count": null,
   "id": "7d0a957c37c52c04",
   "metadata": {
    "ExecuteTime": {
     "end_time": "2023-09-21T03:28:25.391010400Z",
     "start_time": "2023-09-21T03:28:25.273077200Z"
    }
   },
   "outputs": [],
   "source": []
  }
 ],
 "metadata": {
  "kernelspec": {
   "display_name": "Python 3",
   "language": "python",
   "name": "python3"
  },
  "language_info": {
   "codemirror_mode": {
    "name": "ipython",
    "version": 2
   },
   "file_extension": ".py",
   "mimetype": "text/x-python",
   "name": "python",
   "nbconvert_exporter": "python",
   "pygments_lexer": "ipython2",
   "version": "2.7.6"
  }
 },
 "nbformat": 4,
 "nbformat_minor": 5
}
