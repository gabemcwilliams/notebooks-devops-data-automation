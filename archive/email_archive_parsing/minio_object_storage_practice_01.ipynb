{
 "cells": [
  {
   "cell_type": "markdown",
   "metadata": {
    "collapsed": false
   },
   "source": [
    "# Minio - Object Storage - Practice 01"
   ]
  },
  {
   "cell_type": "code",
   "execution_count": null,
   "metadata": {
    "ExecuteTime": {
     "end_time": "2023-04-17T13:42:48.160672Z",
     "start_time": "2023-04-17T13:42:47.133976Z"
    }
   },
   "outputs": [],
   "source": [
    "import minio\n",
    "import os\n",
    "import re\n",
    "import pandas as pd\n",
    "import json"
   ]
  },
  {
   "cell_type": "code",
   "execution_count": null,
   "metadata": {
    "ExecuteTime": {
     "end_time": "2023-04-17T13:43:09.514215Z",
     "start_time": "2023-04-17T13:43:09.500985Z"
    }
   },
   "outputs": [],
   "source": [
    "access_creds = json.loads(os.environ.get(\"MINIO_CONFIG\"))"
   ]
  },
  {
   "cell_type": "code",
   "execution_count": null,
   "metadata": {
    "ExecuteTime": {
     "end_time": "2023-04-17T13:43:10.465601Z",
     "start_time": "2023-04-17T13:43:10.427281Z"
    }
   },
   "outputs": [],
   "source": [
    "from minio import Minio\n",
    "from minio.error import S3Error\n",
    "\n",
    "\n",
    "def main():\n",
    "    # Create a client with the MinIO server playground, its access key\n",
    "    # and secret key.\n",
    "    client = Minio(\n",
    "        re.sub(r\"https?://\",\"\",access_creds[\"url\"]),\n",
    "        secure=False,\n",
    "        access_key=access_creds[\"accessKey\"],\n",
    "        secret_key=access_creds[\"secretKey\"],\n",
    "    )\n",
    "\n",
    "    # Make 'asiatrip' bucket if not exist.\n",
    "    found = client.bucket_exists(\"emails\")\n",
    "    if not found:\n",
    "        client.make_bucket(\"emails\")\n",
    "    else:\n",
    "        print(\"Bucket 'emails' already exists\")\n",
    "\n",
    "    # Upload '/home/user/Photos/asiaphotos.zip' as object name\n",
    "    # 'asiaphotos-2015.zip' to bucket 'asiatrip'.\n",
    "    client.fput_object(\n",
    "        \"emails\",  \"/datto_rmm/devices/2023/04/17/datto_rmm_2023_04_17_202808_UTC_devices.parquet\",\"[REDACTED]/.json\",\n",
    "    )\n",
    "    print(\n",
    "        \"successful upload\"\n",
    "    )\n",
    "\n",
    "\n",
    "if __name__ == \"__main__\":\n",
    "    try:\n",
    "        main()\n",
    "    except S3Error as exc:\n",
    "        print(\"error occurred.\", exc)"
   ]
  },
  {
   "cell_type": "code",
   "execution_count": null,
   "metadata": {},
   "outputs": [],
   "source": [
    "import json\n",
    "import os\n",
    "import datetime as dt\n",
    "import pandas as pd\n",
    "from api_datto_rmm_devices import ApiExtraction\n",
    "from s3_loader import S3Loader\n",
    "\n",
    "# Define naming and storage schema\n",
    "# DO NOT CHANGE THESE VALUES WITHOUT DISCUSSION WITH A DATA EXPERT\n",
    "# CHANGING THESE VALUES CAN HAVE OVERREACHING CONSEQUENCES\n",
    "TARGET_TYPE = \"Minio\"\n",
    "TARGET_NAME = \"data-ingestion\"\n",
    "SOURCE_PRODUCT = \"datto_rmm\"\n",
    "SOURCE_TYPE = \"api\"\n",
    "SOURCE_SUBJECT = \"devices\"\n",
    "AWS_REGION = \"localhost\"\n",
    "\n",
    "# ------------------------------------------------------------------------#\n",
    "# ONLY ADJUST THESE VALUES DIRECTLY ABOVE THE LINE\n",
    "\n",
    "\n",
    "# Set environmental variables from defined values above\n",
    "# Variables can also be set on the function itself if the above code is missing\n",
    "os.environ.update({\n",
    "    \"TARGET_TYPE\": TARGET_TYPE,\n",
    "    \"TARGET_NAME\": TARGET_NAME,\n",
    "    \"SOURCE_PRODUCT\": SOURCE_PRODUCT,\n",
    "    \"SOURCE_SUBJECT\": SOURCE_SUBJECT,\n",
    "    \"SOURCE_TYPE\": SOURCE_TYPE,\n",
    "    \"AWS_REGION\": AWS_REGION,\n",
    "})\n",
    "\n",
    "\n",
    "# A run config is created based on in code and statically assigned environment variables, using default values if unset\n",
    "def create_config():\n",
    "    config = {\n",
    "        \"TARGET_TYPE\": os.environ.get(\"TARGET_TYPE\", \"mino\"),  # Storage type that file will be stored\n",
    "        \"TARGET_NAME\": os.environ.get(\"TARGET_NAME\", \"data-ingestion\"),  # bucket, db, etc name for root path\n",
    "        \"SOURCE_PRODUCT\": os.environ.get(\"SOURCE_PRODUCT\", \"unidentified\"),  # platform or source definition for\n",
    "        # future reference of data validation\n",
    "        \"SOURCE_SUBJECT\": os.environ.get(\"SOURCE_SUBJECT\", \"unidentified\"),\n",
    "        \"SOURCE_TYPE\": os.environ.get(\"SOURCE_TYPE\", \"unidentified\"),  # source type for reference of data source\n",
    "        # api route or other decripter to further define the source origin inteded purpose or classification\n",
    "        \"AWS_REGION\": os.environ.get(\"AWS_REGION\", \"localhost\"),  # aws resource region (defaults to us-east-1)\n",
    "        \"_UTC_EXTRACTION_DATETIME\": dt.datetime.utcnow().strftime('%Y-%m-%d %H:%M:%S')  # datetime for cateloging\n",
    "    }\n",
    "\n",
    "    return config\n",
    "\n",
    "\n",
    "def lambda_handler(event, context):\n",
    "    # create runtime variables\n",
    "    config = create_config()\n",
    "\n",
    "    # create DataFrame from API\n",
    "    datto = ApiExtraction(secret_key=\"DATTO_RMM_API\")\n",
    "    df = datto.create_dataframe(config[\"SOURCE_SUBJECT\"])\n",
    "\n",
    "    # add marker columns\n",
    "    df['_SOURCE_PRODUCT'] = config[\"SOURCE_PRODUCT\"]\n",
    "    df['_SOURCE_SUBJECT'] = config[\"SOURCE_SUBJECT\"]\n",
    "    df['_SOURCE_TYPE'] = config[\"SOURCE_TYPE\"]\n",
    "    df['_UTC_EXTRACTION_DATETIME'] = config[\"_UTC_EXTRACTION_DATETIME\"]\n",
    "\n",
    "    # upload to s3 using defined folder structure\n",
    "    s3_loader = S3Loader(df_input=df, run_config=config, secret_key=\"MINIO_CONFIG\")\n",
    "    result = s3_loader.upload_to_s3()\n",
    "\n",
    "    # add configs to upload result output\n",
    "    result.update({\"config\": config})\n",
    "\n",
    "    return json.dumps(result)\n",
    "\n",
    "\n",
    "if __name__ == \"__main__\":\n",
    "    print(lambda_handler(\"\", \"\"))"
   ]
  }
 ],
 "metadata": {
  "kernelspec": {
   "display_name": "Python 3",
   "language": "python",
   "name": "python3"
  },
  "language_info": {
   "codemirror_mode": {
    "name": "ipython",
    "version": 2
   },
   "file_extension": "[REDACTED][REDACTED]/.py",
   "mimetype": "text/x-python",
   "name": "python",
   "nbconvert_exporter": "python",
   "pygments_lexer": "ipython2",
   "version": "2.7.6"
  }
 },
 "nbformat": 4,
 "nbformat_minor": 0
}
