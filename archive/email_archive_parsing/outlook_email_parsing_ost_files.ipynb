{
 "cells": [
  {
   "cell_type": "markdown",
   "metadata": {
    "collapsed": false
   },
   "source": [
    "# OST file parsing, backup, and pruning\n",
    "\n",
    "I am creating this notebook to go through and clear up space in my old emails but also to glean any important information and get some good data\n",
    "(This is all done after hours .. for whomever finds this!)"
   ]
  },
  {
   "cell_type": "code",
   "execution_count": null,
   "metadata": {
    "ExecuteTime": {
     "end_time": "2023-04-13T21:05:49.174194Z",
     "start_time": "2023-04-13T21:05:49.124091Z"
    }
   },
   "outputs": [],
   "source": [
    "import findspark\n",
    "\n",
    "findspark.init()"
   ]
  },
  {
   "cell_type": "code",
   "execution_count": null,
   "metadata": {
    "ExecuteTime": {
     "end_time": "2023-04-13T21:05:49.500729Z",
     "start_time": "2023-04-13T21:05:49.140512Z"
    }
   },
   "outputs": [],
   "source": [
    "from pyspark.sql import SparkSession\n",
    "from pyspark.sql.types import *\n",
    "from pyspark.sql.functions import *"
   ]
  },
  {
   "cell_type": "code",
   "execution_count": null,
   "metadata": {
    "ExecuteTime": {
     "end_time": "2023-04-13T21:05:56.437861Z",
     "start_time": "2023-04-13T21:05:49.502344Z"
    }
   },
   "outputs": [],
   "source": [
    "spark = SparkSession.builder.appName('outlook').getOrCreate()"
   ]
  },
  {
   "cell_type": "code",
   "execution_count": null,
   "metadata": {
    "ExecuteTime": {
     "end_time": "2023-04-13T21:05:57.777079Z",
     "start_time": "2023-04-13T21:05:56.441095Z"
    }
   },
   "outputs": [],
   "source": [
    "import os\n",
    "import datetime as dt\n",
    "\n",
    "import pandas as pd\n",
    "import numpy as np\n",
    "import re"
   ]
  },
  {
   "cell_type": "markdown",
   "metadata": {
    "collapsed": false
   },
   "source": [
    "### Root Export Folder and Dictionary Directory"
   ]
  },
  {
   "cell_type": "code",
   "execution_count": null,
   "metadata": {},
   "outputs": [],
   "source": [
    "root_export_dir = 'd:/exports'\n",
    "dictionary_dir = 'd:/git/dictionaries'"
   ]
  },
  {
   "cell_type": "markdown",
   "metadata": {
    "collapsed": false
   },
   "source": [
    "# Connect to Outlook Worker"
   ]
  },
  {
   "cell_type": "code",
   "execution_count": null,
   "metadata": {},
   "outputs": [],
   "source": [
    "import win32com.client\n",
    "\n",
    "outlook = win32com.client.Dispatch(\"Outlook.Application\").GetNamespace(\"MAPI\")"
   ]
  },
  {
   "cell_type": "markdown",
   "metadata": {
    "collapsed": false
   },
   "source": [
    "# Pull all Folders in gmcwilliams@example.co Email Account"
   ]
  },
  {
   "cell_type": "code",
   "execution_count": null,
   "metadata": {},
   "outputs": [],
   "source": [
    "for folders in outlook.Folders:\n",
    "    print(folders)"
   ]
  },
  {
   "cell_type": "code",
   "execution_count": null,
   "metadata": {},
   "outputs": [],
   "source": [
    "account_gmcwilliams = outlook.Folders['gmcwilliams@example.co']\n",
    "account_online_archive = outlook.Folders['Online Archive - cloud@example.co']\n",
    "account_reports_manager = outlook.Folders['Reports Manager']"
   ]
  },
  {
   "cell_type": "code",
   "execution_count": null,
   "metadata": {},
   "outputs": [],
   "source": [
    "for folders in account_gmcwilliams.Folders:\n",
    "    print(folders)"
   ]
  },
  {
   "cell_type": "markdown",
   "metadata": {
    "collapsed": false
   },
   "source": [
    "## Assign all folders variables for iteration later"
   ]
  },
  {
   "cell_type": "code",
   "execution_count": null,
   "metadata": {},
   "outputs": [],
   "source": [
    "inbox = account_gmcwilliams.Folders['Inbox']\n",
    "sent = account_gmcwilliams.Folders['Sent Items']\n",
    "outbox = account_gmcwilliams.Folders['Outbox']\n",
    "files = account_gmcwilliams.Folders['Files']\n",
    "drafts = account_gmcwilliams.Folders['Drafts']\n",
    "deleted = account_gmcwilliams.Folders['Deleted Items']\n",
    "junk = account_gmcwilliams.Folders['Junk Email']"
   ]
  },
  {
   "cell_type": "code",
   "execution_count": null,
   "metadata": {},
   "outputs": [],
   "source": [
    "for folder in inbox.Folders:\n",
    "    print(folder)"
   ]
  },
  {
   "cell_type": "markdown",
   "metadata": {
    "collapsed": false
   },
   "source": [
    "# Create DataFrame from Reports Manager Email Account"
   ]
  },
  {
   "cell_type": "markdown",
   "metadata": {
    "collapsed": false
   },
   "source": [
    "## Create Initial DataFrame from Inbox"
   ]
  },
  {
   "cell_type": "code",
   "execution_count": null,
   "metadata": {},
   "outputs": [],
   "source": [
    "emails_list = []\n",
    "\n",
    "#for folder in reports_junk.Folders:\n",
    "\n",
    "messages = inbox.Items\n",
    "messages.Sort('[ReceivedTime]', True)\n",
    "\n",
    "i = 0\n",
    "\n",
    "for message in messages:\n",
    "    # print(message)\n",
    "    message_dict = {}\n",
    "    try:\n",
    "        message_dict['from'] = message.SenderEmailAddress\n",
    "    except:\n",
    "        pass\n",
    "    try:\n",
    "        message_dict['to'] = message.To\n",
    "    except:\n",
    "        pass\n",
    "    try:\n",
    "        message_dict['date'] = message.ReceivedTime.strftime(\"%Y-%m-%d %H:%M:%S\")\n",
    "    except:\n",
    "        pass\n",
    "    try:\n",
    "        message_dict['subject'] = message.Subject\n",
    "    except:\n",
    "        pass\n",
    "    try:\n",
    "        message_dict['body'] = message.Body\n",
    "    except:\n",
    "        pass\n",
    "    attachments_list = []\n",
    "    for attachment in message.Attachments:\n",
    "        try:\n",
    "            attachment_name = str(attachment).lower()\n",
    "            attachments_list.append(attachment_name)\n",
    "            #attachment.SaveASFile(path+ '\\\\' + attachment_name)\n",
    "        except Exception as e:\n",
    "            print(e)\n",
    "\n",
    "    message_dict['attachments'] = attachments_list\n",
    "    message_dict['messageObject'] = message\n",
    "    emails_list.append(message_dict)\n",
    "\n",
    "    i = i + 1\n",
    "    if i >= 10:\n",
    "        break\n",
    "\n"
   ]
  },
  {
   "cell_type": "code",
   "execution_count": null,
   "metadata": {},
   "outputs": [],
   "source": []
  },
  {
   "cell_type": "code",
   "execution_count": null,
   "metadata": {},
   "outputs": [],
   "source": [
    "schema = [\n",
    "    StructField(\"from\", StringType(), True),\n",
    "    StructField(\"to\", StringType(), True),\n",
    "    StructField(\"date\", StringType(), True),\n",
    "    StructField(\"subject\", StringType(), True),\n",
    "    StructField(\"body\", StringType(), True),\n",
    "    StructField(\"attachments\", StringType(), True),\n",
    "]\n",
    "\n",
    "emails_list_schema = StructType(schema)"
   ]
  },
  {
   "cell_type": "code",
   "execution_count": null,
   "metadata": {},
   "outputs": [],
   "source": [
    "df_emails = spark.createDataFrame(emails_list, schema=emails_list_schema)"
   ]
  },
  {
   "cell_type": "code",
   "execution_count": null,
   "metadata": {},
   "outputs": [],
   "source": [
    "df_emails.show()"
   ]
  },
  {
   "cell_type": "code",
   "execution_count": null,
   "metadata": {},
   "outputs": [],
   "source": [
    "df_inbox = pd.DataFrame(emails_list)"
   ]
  },
  {
   "cell_type": "code",
   "execution_count": null,
   "metadata": {},
   "outputs": [],
   "source": [
    "df_inbox"
   ]
  },
  {
   "cell_type": "markdown",
   "metadata": {
    "collapsed": false
   },
   "source": [
    "## Create and Concat Sub folders of Inbox onto Original Dataframe"
   ]
  },
  {
   "cell_type": "code",
   "execution_count": null,
   "metadata": {},
   "outputs": [],
   "source": [
    "email_info = []\n",
    "\n",
    "for folder in reports_inbox.Folders:\n",
    "\n",
    "    try:\n",
    "        print('before clearning emails_list')\n",
    "        print(email_info)\n",
    "    except:\n",
    "        pass\n",
    "\n",
    "    messages = folder.Items\n",
    "    messages.Sort('[ReceivedTime]', True)\n",
    "\n",
    "    for message in messages:\n",
    "        message_dict = {}\n",
    "        message_dict['from'] = message.SenderEmailAddress\n",
    "        message_dict['to'] = message.To\n",
    "\n",
    "        message_dict['date'] = message.ReceivedTime.strftime(\"%Y-%m-%d %H:%M:%S\")\n",
    "\n",
    "        message_dict['subject'] = message.Subject\n",
    "        message_dict['body'] = message.Body\n",
    "\n",
    "        attachments_list = []\n",
    "        for attachment in message.Attachments:\n",
    "            try:\n",
    "                attachment_name = str(attachment).lower()\n",
    "                attachments_list.append(attachment_name)\n",
    "                #attachment.SaveASFile(path+ '\\\\' + attachment_name)\n",
    "            except Exception as e:\n",
    "                print(e)\n",
    "\n",
    "        message_dict['attachments'] = attachments_list\n",
    "        message_dict['messageObject'] = message\n",
    "        email_info.append(message_dict)\n",
    "        #print(message_dict)"
   ]
  },
  {
   "cell_type": "code",
   "execution_count": null,
   "metadata": {},
   "outputs": [],
   "source": [
    "df_emails = pd.DataFrame(email_info)"
   ]
  },
  {
   "cell_type": "code",
   "execution_count": null,
   "metadata": {},
   "outputs": [],
   "source": [
    "df_emails['date'] = pd.to_datetime(df_emails['date'], errors='coerce')"
   ]
  },
  {
   "cell_type": "code",
   "execution_count": null,
   "metadata": {},
   "outputs": [],
   "source": [
    "df_emails"
   ]
  },
  {
   "cell_type": "markdown",
   "metadata": {
    "collapsed": false
   },
   "source": [
    "# Shape and Export Email Report attachments"
   ]
  },
  {
   "cell_type": "markdown",
   "metadata": {
    "collapsed": false
   },
   "source": [
    "## Standardize Client Names"
   ]
  },
  {
   "cell_type": "code",
   "execution_count": null,
   "metadata": {},
   "outputs": [],
   "source": [
    "df = pd.read_csv(f'{dictionary_dir}/client_name_standardization.dict', delimiter='\\t')\n",
    "client_rename_dict = {}\n",
    "for index, row in df.iterrows():\n",
    "    [REDACTED] = row['[REDACTED]']\n",
    "    currentName = row['currentName']\n",
    "    client_rename_dict[[REDACTED]] = currentName"
   ]
  },
  {
   "cell_type": "code",
   "execution_count": null,
   "metadata": {},
   "outputs": [],
   "source": [
    "def client_names(c_name):\n",
    "    dict_length = len(client_rename_dict)\n",
    "    for k, v in client_rename_dict.items():\n",
    "        try:\n",
    "            result = re.sub(k, v, c_name)\n",
    "            if result != c_name:\n",
    "                print(f'Keyword found: {k}')\n",
    "                print(f'Replacment value: {v}')\n",
    "                print('\\n')\n",
    "                return v\n",
    "                break\n",
    "        except Exception as e:\n",
    "            print(e)\n",
    "            break\n",
    "    return c_name"
   ]
  },
  {
   "cell_type": "code",
   "execution_count": null,
   "metadata": {},
   "outputs": [],
   "source": [
    "df_emails['clientName'] = df_emails['subject'].apply(client_names)"
   ]
  },
  {
   "cell_type": "markdown",
   "metadata": {
    "collapsed": false
   },
   "source": [
    "## Add Client Column to Source DataFrame"
   ]
  },
  {
   "cell_type": "code",
   "execution_count": null,
   "metadata": {},
   "outputs": [],
   "source": [
    "client_name_prog = re.compile(r'[^\\w]+([A-Z\\|]{3,5})[^\\w]+')\n",
    "clients_set = set()\n",
    "\n",
    "\n",
    "def client_names(file):\n",
    "    result = client_name_prog.findall(file)\n",
    "    print(result)"
   ]
  },
  {
   "cell_type": "markdown",
   "metadata": {
    "collapsed": false
   },
   "source": [
    "### Standardize File Attachment Names"
   ]
  },
  {
   "cell_type": "code",
   "execution_count": null,
   "metadata": {},
   "outputs": [],
   "source": [
    "df = pd.read_csv(f'{dictionary_dir}.csv')\n",
    "attachment_name_dict = {}\n",
    "for index, row in df.iterrows():\n",
    "    attachmentName = row['attachmentName']\n",
    "    reportName = row['reportName']\n",
    "    attachment_name_dict[attachmentName] = reportName"
   ]
  },
  {
   "cell_type": "markdown",
   "metadata": {
    "collapsed": false
   },
   "source": [
    "### Iterate through known attachment names and replace with standard if found"
   ]
  },
  {
   "cell_type": "code",
   "execution_count": null,
   "metadata": {},
   "outputs": [],
   "source": [
    "def transform_name_to_standard(a_filename):\n",
    "    for k, v in attachment_name_dict.items():\n",
    "        result = re.sub(k, v, a_filename)\n",
    "        if result != a_filename:\n",
    "            return (result)\n",
    "        return None\n",
    "    return None"
   ]
  },
  {
   "cell_type": "markdown",
   "metadata": {
    "collapsed": false
   },
   "source": [
    " ### Create Labtech Report Dataframe and Rename, Export Attachments"
   ]
  },
  {
   "cell_type": "code",
   "execution_count": null,
   "metadata": {},
   "outputs": [],
   "source": [
    "df_labtech_reports = df_emails[df_emails['subject'].str.contains('[lL]ab[tT]ech')]"
   ]
  },
  {
   "cell_type": "code",
   "execution_count": null,
   "metadata": {},
   "outputs": [],
   "source": [
    "df = pd.read_csv(f'{dictionary_dir}/report_archive_folder_name.dict')\n",
    "report_archive_folder_name_dict = {}\n",
    "for index, row in df.iterrows():\n",
    "    monthNumber = row['monthNumber']\n",
    "    reportMonthFolder = row['reportMonthFolder']\n",
    "    report_archive_folder_name_dict[monthNumber] = reportMonthFolder"
   ]
  },
  {
   "cell_type": "code",
   "execution_count": null,
   "metadata": {},
   "outputs": [],
   "source": [
    "def create_month_folder(month):\n",
    "    for k, v in report_archive_folder_name_dict.items():\n",
    "        try:\n",
    "            if month == k:\n",
    "                print(f'Keyword found: {k}')\n",
    "                print(f'Replacment value: {v}')\n",
    "                print('\\n')\n",
    "                return v\n",
    "                break\n",
    "        except Exception as e:\n",
    "            print(e)\n",
    "            break\n",
    "    return month"
   ]
  },
  {
   "cell_type": "code",
   "execution_count": null,
   "metadata": {},
   "outputs": [],
   "source": [
    "try:\n",
    "    os.makedirs(f'{root_export_dir}/report_archives')\n",
    "except:\n",
    "    pass\n",
    "\n",
    "file_ext_prog = re.compile(r'.*(antivirus_health|computer_audit|patch_compliance|third\\sparty\\spatch\\saudit)([\\w\\d]+)$')\n",
    "\n",
    "for index, row in df_labtech_reports.iterrows():\n",
    "    i = 1\n",
    "    for attachment in row['attachments']:\n",
    "        year = row['date'].year\n",
    "        month = row['date'].month\n",
    "        month_folder = create_month_folder(month)\n",
    "        export_dir = f\"{root_export_dir}/report_archives/{year}/{month_folder}\"\n",
    "\n",
    "        try:\n",
    "            os.makedirs(export_dir)\n",
    "        except:\n",
    "            pass\n",
    "\n",
    "        # construct new export filename with timestamp, subject, and extension accounted for\n",
    "\n",
    "        time_to_month = row['date'].to_period('M')\n",
    "        timestamp = re.sub('\\-', ' - ', str(time_to_month))\n",
    "        subject = row['subject']\n",
    "        org_filename = re.sub(r'\\[\\d{2}\\-\\d{2}\\-\\d{4}\\s\\d{2}\\.\\d{2}\\.\\d{2}\\]\\d{,4}\\s\\-\\s', \"\", attachment)\n",
    "        split_attachment_name = re.match(r'(.*)\\.(\\w{,4})$', org_filename)\n",
    "        filename = transform_name_to_standard(split_attachment_name.group(1))\n",
    "        extension = split_attachment_name.group(2)\n",
    "        client_name = row['clientName']\n",
    "        print(client_name)\n",
    "\n",
    "        print(\n",
    "            f\"Saving attachment [{attachment}] to ['{export_dir}/{client_name} - {timestamp} {filename}.{extension}']\")\n",
    "\n",
    "        row['messageObject'].Attachments.Item(i).SaveASFile(\n",
    "            f\"{export_dir}/{client_name} - {timestamp} - {filename}.{extension}\")\n",
    "        i = i + 1"
   ]
  },
  {
   "cell_type": "code",
   "execution_count": null,
   "metadata": {},
   "outputs": [],
   "source": []
  },
  {
   "cell_type": "code",
   "execution_count": null,
   "metadata": {},
   "outputs": [],
   "source": []
  },
  {
   "cell_type": "code",
   "execution_count": null,
   "metadata": {},
   "outputs": [],
   "source": [
    "import os\n",
    "import datetime as dt\n",
    "\n",
    "import pandas as pd\n",
    "import numpy as np\n",
    "import re"
   ]
  },
  {
   "cell_type": "markdown",
   "metadata": {
    "collapsed": false
   },
   "source": [
    "### Root Export Folder and Dictionary Directory"
   ]
  },
  {
   "cell_type": "code",
   "execution_count": null,
   "metadata": {},
   "outputs": [],
   "source": [
    "root_export_dir = 'd:/exports'\n",
    "dictionary_dir = 'd:/git/example_infrastructure_data_dev/dictionaries'"
   ]
  },
  {
   "cell_type": "markdown",
   "metadata": {
    "collapsed": false
   },
   "source": [
    "# Connect to Outlook Worker"
   ]
  },
  {
   "cell_type": "code",
   "execution_count": null,
   "metadata": {},
   "outputs": [],
   "source": [
    "import win32com.client\n",
    "\n",
    "outlook = win32com.client.Dispatch(\"Outlook.Application\").GetNamespace(\"MAPI\")"
   ]
  },
  {
   "cell_type": "markdown",
   "metadata": {
    "collapsed": false
   },
   "source": [
    "# Pull all Folders in Reports Manager Email Account"
   ]
  },
  {
   "cell_type": "code",
   "execution_count": null,
   "metadata": {},
   "outputs": [],
   "source": [
    "for folders in outlook.Folders:\n",
    "    print(folders)"
   ]
  },
  {
   "cell_type": "code",
   "execution_count": null,
   "metadata": {},
   "outputs": [],
   "source": [
    "reports_archive = outlook.Folders['Online Archive - reports@example.co']\n",
    "reports_manager = outlook.Folders['Reports Manager']"
   ]
  },
  {
   "cell_type": "code",
   "execution_count": null,
   "metadata": {},
   "outputs": [],
   "source": [
    "for folders in reports_archive.Folders:\n",
    "    print(folders)"
   ]
  },
  {
   "cell_type": "markdown",
   "metadata": {
    "collapsed": false
   },
   "source": [
    "## Assign all folders variables for iteration later"
   ]
  },
  {
   "cell_type": "code",
   "execution_count": null,
   "metadata": {},
   "outputs": [],
   "source": [
    "reports_inbox = reports_archive.Folders['Inbox']\n",
    "reports_sent = reports_manager.Folders['Sent Items']\n",
    "reports_outbox = reports_manager.Folders['Outbox']\n",
    "reports_nonstandard = reports_manager.Folders['Non-Standard Reports']\n",
    "reports_nonmonthly = reports_manager.Folders['Non-Monthly Reports']\n",
    "reports_files = reports_manager.Folders['Files']\n",
    "reports_drafts = reports_manager.Folders['Drafts']\n",
    "reports_deleted = reports_manager.Folders['Deleted Items']\n",
    "reports_junk = reports_manager.Folders['Junk Email']"
   ]
  },
  {
   "cell_type": "code",
   "execution_count": null,
   "metadata": {},
   "outputs": [],
   "source": [
    "for folder in reports_inbox.Folders:\n",
    "    print(folder)"
   ]
  },
  {
   "cell_type": "markdown",
   "metadata": {
    "collapsed": false
   },
   "source": [
    "# Create DataFrame from Reports Manager Email Account"
   ]
  },
  {
   "cell_type": "markdown",
   "metadata": {
    "collapsed": false
   },
   "source": [
    "## Create Initial DataFrame from Inbox"
   ]
  },
  {
   "cell_type": "code",
   "execution_count": null,
   "metadata": {},
   "outputs": [],
   "source": [
    "emails_list = []\n",
    "\n",
    "#for folder in reports_junk.Folders:\n",
    "\n",
    "messages = reports_inbox.Items\n",
    "messages.Sort('[ReceivedTime]', True)\n",
    "\n",
    "for message in messages:\n",
    "    message_dict = {}\n",
    "    message_dict['from'] = message.SenderEmailAddress\n",
    "    message_dict['to'] = message.To\n",
    "\n",
    "    message_dict['date'] = message.ReceivedTime.strftime(\"%Y-%m-%d %H:%M:%S\")\n",
    "\n",
    "    message_dict['subject'] = message.Subject\n",
    "    message_dict['body'] = message.Body\n",
    "\n",
    "    attachments_list = []\n",
    "    for attachment in message.Attachments:\n",
    "        try:\n",
    "            attachment_name = str(attachment).lower()\n",
    "            attachments_list.append(attachment_name)\n",
    "            #attachment.SaveASFile(path+ '\\\\' + attachment_name)\n",
    "        except Exception as e:\n",
    "            print(e)\n",
    "\n",
    "    message_dict['attachments'] = attachments_list\n",
    "    message_dict['messageObject'] = message\n",
    "    emails_list.append(message_dict)\n",
    "\n",
    "df_reports = pd.DataFrame(emails_list)"
   ]
  },
  {
   "cell_type": "markdown",
   "metadata": {
    "collapsed": false
   },
   "source": [
    "## Create and Concat Sub folders of Inbox onto Original Dataframe"
   ]
  },
  {
   "cell_type": "code",
   "execution_count": null,
   "metadata": {},
   "outputs": [],
   "source": [
    "email_info = []\n",
    "\n",
    "for folder in reports_inbox.Folders:\n",
    "\n",
    "    try:\n",
    "        print('before clearning emails_list')\n",
    "        print(email_info)\n",
    "    except:\n",
    "        pass\n",
    "\n",
    "    messages = folder.Items\n",
    "    messages.Sort('[ReceivedTime]', True)\n",
    "\n",
    "    for message in messages:\n",
    "        message_dict = {}\n",
    "        message_dict['from'] = message.SenderEmailAddress\n",
    "        message_dict['to'] = message.To\n",
    "\n",
    "        message_dict['date'] = message.ReceivedTime.strftime(\"%Y-%m-%d %H:%M:%S\")\n",
    "\n",
    "        message_dict['subject'] = message.Subject\n",
    "        message_dict['body'] = message.Body\n",
    "\n",
    "        attachments_list = []\n",
    "        for attachment in message.Attachments:\n",
    "            try:\n",
    "                attachment_name = str(attachment).lower()\n",
    "                attachments_list.append(attachment_name)\n",
    "                #attachment.SaveASFile(path+ '\\\\' + attachment_name)\n",
    "            except Exception as e:\n",
    "                print(e)\n",
    "\n",
    "        message_dict['attachments'] = attachments_list\n",
    "        message_dict['messageObject'] = message\n",
    "        email_info.append(message_dict)\n",
    "        #print(message_dict)"
   ]
  },
  {
   "cell_type": "code",
   "execution_count": null,
   "metadata": {},
   "outputs": [],
   "source": [
    "df_emails = pd.DataFrame(email_info)"
   ]
  },
  {
   "cell_type": "code",
   "execution_count": null,
   "metadata": {},
   "outputs": [],
   "source": [
    "df_emails['date'] = pd.to_datetime(df_emails['date'], errors='coerce')"
   ]
  },
  {
   "cell_type": "code",
   "execution_count": null,
   "metadata": {},
   "outputs": [],
   "source": [
    "df_emails"
   ]
  },
  {
   "cell_type": "markdown",
   "metadata": {
    "collapsed": false
   },
   "source": [
    "# Shape and Export Email Report attachments"
   ]
  },
  {
   "cell_type": "markdown",
   "metadata": {
    "collapsed": false
   },
   "source": [
    "## Standardize Client Names"
   ]
  },
  {
   "cell_type": "code",
   "execution_count": null,
   "metadata": {},
   "outputs": [],
   "source": [
    "df = pd.read_csv(f'{dictionary_dir}/client_name_standardization.dict')\n",
    "client_rename_dict = {}\n",
    "for index, row in df.iterrows():\n",
    "    previousName = row['previousName']\n",
    "    currentName = row['currentName']\n",
    "    client_rename_dict[previousName] = currentName"
   ]
  },
  {
   "cell_type": "code",
   "execution_count": null,
   "metadata": {},
   "outputs": [],
   "source": [
    "def client_names(c_name):\n",
    "    dict_length = len(client_rename_dict)\n",
    "    for k, v in client_rename_dict.items():\n",
    "        try:\n",
    "            result = re.sub(k, v, c_name)\n",
    "            if result != c_name:\n",
    "                print(f'Keyword found: {k}')\n",
    "                print(f'Replacment value: {v}')\n",
    "                print('\\n')\n",
    "                return v\n",
    "                break\n",
    "        except Exception as e:\n",
    "            print(e)\n",
    "            break\n",
    "    return c_name"
   ]
  },
  {
   "cell_type": "code",
   "execution_count": null,
   "metadata": {},
   "outputs": [],
   "source": [
    "df_emails['clientName'] = df_emails['subject'].apply(client_names)"
   ]
  },
  {
   "cell_type": "markdown",
   "metadata": {
    "collapsed": false
   },
   "source": [
    "## Add Client Column to Source DataFrame"
   ]
  },
  {
   "cell_type": "code",
   "execution_count": null,
   "metadata": {},
   "outputs": [],
   "source": [
    "client_name_prog = re.compile(r'[^\\w]+([A-Z\\|]{3,5})[^\\w]+')\n",
    "clients_set = set()\n",
    "\n",
    "\n",
    "def client_names(file):\n",
    "    result = client_name_prog.findall(file)\n",
    "    print(result)"
   ]
  },
  {
   "cell_type": "markdown",
   "metadata": {
    "collapsed": false
   },
   "source": [
    "### Standardize File Attachment Names"
   ]
  },
  {
   "cell_type": "code",
   "execution_count": null,
   "metadata": {},
   "outputs": [],
   "source": [
    "df = pd.read_csv(f'{dictionary_dir}.csv')\n",
    "attachment_name_dict = {}\n",
    "for index, row in df.iterrows():\n",
    "    attachmentName = row['attachmentName']\n",
    "    reportName = row['reportName']\n",
    "    attachment_name_dict[attachmentName] = reportName"
   ]
  },
  {
   "cell_type": "markdown",
   "metadata": {
    "collapsed": false
   },
   "source": [
    "### Iterate through known attachment names and replace with standard if found"
   ]
  },
  {
   "cell_type": "code",
   "execution_count": null,
   "metadata": {},
   "outputs": [],
   "source": [
    "def transform_name_to_standard(a_filename):\n",
    "    for k, v in attachment_name_dict.items():\n",
    "        result = re.sub(k, v, a_filename)\n",
    "        if result != a_filename:\n",
    "            return result\n",
    "        return None\n",
    "    return None"
   ]
  },
  {
   "cell_type": "markdown",
   "metadata": {
    "collapsed": false
   },
   "source": [
    " ### Create Labtech Report Dataframe and Rename, Export Attachments"
   ]
  },
  {
   "cell_type": "code",
   "execution_count": null,
   "metadata": {},
   "outputs": [],
   "source": [
    "df_labtech_reports = df_emails[df_emails['subject'].str.contains('[lL]ab[tT]ech')]"
   ]
  },
  {
   "cell_type": "code",
   "execution_count": null,
   "metadata": {},
   "outputs": [],
   "source": [
    "try:\n",
    "    os.makedirs(f'{root_export_dir}/report_archives')\n",
    "except:\n",
    "    pass\n",
    "\n",
    "file_ext_prog = re.compile(r'.*(antivirus_health|computer_audit|patch_compliance|third\\sparty\\spatch\\saudit)([\\w\\d]+)$')\n",
    "\n",
    "for index, row in df_labtech_reports.iterrows():\n",
    "    i = 1\n",
    "    for attachment in row['attachments']:\n",
    "        export_dir = f\"{root_export_dir}/report_archives/{row['date'].to_period('Y')}\"\n",
    "        try:\n",
    "            os.makedirs(export_dir)\n",
    "        except:\n",
    "            pass\n",
    "\n",
    "        # construct new export filename with timestamp, subject, and extension accounted for\n",
    "        time_to_month = row['date'].to_period('M')\n",
    "        timestamp = re.sub('\\-', ' - ', str(time_to_month))\n",
    "        subject = row['subject']\n",
    "        org_filename = re.sub(r'\\[\\d{2}\\-\\d{2}\\-\\d{4}\\s\\d{2}\\.\\d{2}\\.\\d{2}\\]\\d{,4}\\s\\-\\s', \"\", attachment)\n",
    "        split_attachment_name = re.match(r'(.*)\\.(\\w{,4})$', org_filename)\n",
    "        filename = transform_name_to_standard(split_attachment_name.group(1))\n",
    "        extension = split_attachment_name.group(2)\n",
    "        client_name = row['clientName']\n",
    "        print(client_name)\n",
    "\n",
    "        print(\n",
    "            f\"Saving attachment [{attachment}] to ['{export_dir}/{client_name} - {timestamp} {filename}.{extension}']\")\n",
    "\n",
    "        row['messageObject'].Attachments.Item(i).SaveASFile(\n",
    "            f\"{export_dir}/{client_name} - {timestamp} - {filename}.{extension}\")\n",
    "        i = i + 1"
   ]
  },
  {
   "cell_type": "code",
   "execution_count": null,
   "metadata": {},
   "outputs": [],
   "source": []
  }
 ],
 "metadata": {
  "kernelspec": {
   "display_name": "Python 3",
   "language": "python",
   "name": "python3"
  },
  "language_info": {
   "codemirror_mode": {
    "name": "ipython",
    "version": 2
   },
   "file_extension": "[REDACTED][REDACTED][REDACTED]/.py",
   "mimetype": "text/x-python",
   "name": "python",
   "nbconvert_exporter": "python",
   "pygments_lexer": "ipython2",
   "version": "2.7.6"
  }
 },
 "nbformat": 4,
 "nbformat_minor": 0
}
