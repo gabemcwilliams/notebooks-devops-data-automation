{
 "cells": [
  {
   "cell_type": "code",
   "execution_count": null,
   "id": "57a2e8f6f6824680",
   "metadata": {
    "ExecuteTime": {
     "end_time": "2023-10-03T21:08:01.537342800Z",
     "start_time": "2023-10-03T21:08:00.664355400Z"
    }
   },
   "outputs": [],
   "source": [
    "import pandas as pd\n",
    "import re\n",
    "from msal import ConfidentialClientApplication\n",
    "import requests\n",
    "import json\n",
    "from hvac import Client\n",
    "import certifi\n",
    "import os\n",
    "import logging"
   ]
  },
  {
   "cell_type": "code",
   "execution_count": null,
   "id": "bb0a6a089507aa2c",
   "metadata": {},
   "outputs": [],
   "source": [
    "def read_secrets(mount_point, path):\n",
    "    client = Client(verify=\"D:\\certs\\My_CA_Bundle.crt\")\n",
    "    resp = client.secrets.kv.v2.read_secret_version(mount_point=mount_point, path=path)\n",
    "\n",
    "    return resp['data']['data']"
   ]
  },
  {
   "cell_type": "markdown",
   "id": "1406fffe176bc554",
   "metadata": {
    "collapsed": false
   },
   "source": []
  },
  {
   "cell_type": "code",
   "execution_count": null,
   "id": "aa09f57b34264b51",
   "metadata": {},
   "outputs": [],
   "source": [
    "config = read_secrets(mount_point=\"cloud\",\n",
    "                      path=\"microsoft/app_registrations/flask_sharepoint_connection\")\n",
    "\n",
    "config[\"authority_url\"] = f'https://login.microsoftonline.com/{config[\"tenant_id\"]}'\n",
    "config[\"scopes\"] = [\"https://graph.microsoft.com/.default\"]\n"
   ]
  },
  {
   "cell_type": "code",
   "execution_count": null,
   "id": "39b970550cedd1d2",
   "metadata": {},
   "outputs": [],
   "source": [
    "def confidential_client():\n",
    "    return ConfidentialClientApplication(client_id=config[\"client_id\"],\n",
    "                                         client_credential=config[\"secret_value\"],\n",
    "                                         authority=config[\"authority_url\"],\n",
    "                                         validate_authority=True,\n",
    "                                         client_capabilities=[\"cp1\"]\n",
    "                                         )"
   ]
  },
  {
   "cell_type": "code",
   "execution_count": null,
   "id": "552d3dc5a9139ca3",
   "metadata": {},
   "outputs": [],
   "source": [
    "app = confidential_client()"
   ]
  },
  {
   "cell_type": "code",
   "execution_count": null,
   "id": "d0b5880969a3e166",
   "metadata": {},
   "outputs": [],
   "source": [
    "def get_access_token():\n",
    "    # The pattern to acquire a token looks like this.\n",
    "    result = None\n",
    "\n",
    "    # First, the code looks up a token from the cache.\n",
    "    # Because we're looking for a token for the current app, not for a user,\n",
    "    # use None for the account parameter.\n",
    "    result = app.acquire_token_silent(config[\"scopes\"], account=None)\n",
    "\n",
    "    if not result:\n",
    "        logging.info(\"No suitable token exists in cache. Let's get a new one from Azure AD.\")\n",
    "        result = app.acquire_token_for_client(scopes=config[\"scopes\"])\n",
    "\n",
    "    if \"access_token\" in result:\n",
    "        # Call a protected API with the access token.\n",
    "        print(f'Token type [\\\"{result[\"token_type\"]}\\\"] created')\n",
    "        return result[\"access_token\"]\n",
    "    else:\n",
    "        print(result.get(\"error\"))\n",
    "        print(result.get(\"error_description\"))\n",
    "        print(result.get(\"correlation_id\"))  # You might need this when reporting a bug.\n",
    "\n"
   ]
  },
  {
   "cell_type": "code",
   "execution_count": null,
   "id": "93c34cf435436814",
   "metadata": {},
   "outputs": [],
   "source": [
    "config[\"access_token\"] = get_access_token()"
   ]
  },
  {
   "cell_type": "code",
   "execution_count": null,
   "id": "fe8f66d9a1411a97",
   "metadata": {},
   "outputs": [],
   "source": [
    "import requests\n",
    "import pandas as pd\n",
    "\n",
    "APPLICATION_ID = \"app id\"\n",
    "CLIENT_SECRET = \"client secret\"\n",
    "authority_url = f'https://login.microsoftonline.com/{config[\"tenant_id\"]}'\n",
    "base_url = 'https://graph.microsoft.com/v1.0/'\n",
    "SCOPES = ['Mail.Read', 'Mail.ReadBasic']\n",
    "\n"
   ]
  },
  {
   "cell_type": "code",
   "execution_count": null,
   "id": "5afd1fa5ea4a7d78",
   "metadata": {},
   "outputs": [],
   "source": [
    "resource = \"sites\""
   ]
  },
  {
   "cell_type": "code",
   "execution_count": null,
   "id": "496a0d0e301d347c",
   "metadata": {},
   "outputs": [],
   "source": [
    "def get_graph_data(resource):\n",
    "    base_url = 'https://graph.microsoft.com/v1.0/'\n",
    "\n",
    "    url = f'{base_url}{resource}'\n",
    "    \n",
    "    # Request Graph Data\n",
    "    headers = {\n",
    "        'Authorization': f'Bearer {config[\"access_token\"]}',\n",
    "        'Content-Type': 'application/json',\n",
    "        'Accept': 'application/json'\n",
    "    }\n",
    "    \n",
    "    try:\n",
    "    \n",
    "        graph_data = requests.get(url=f\"{base_url}/{resource}\",\n",
    "                                  headers=headers,\n",
    "                                  stream=False)\n",
    "        \n",
    "        if graph_data.status_code == 200:\n",
    "            return graph_data.content.decode('utf-8')\n",
    "        else:\n",
    "            print(graph_data.status_code)\n",
    "            print(graph_data.reason)\n",
    "            print(graph_data.text)\n",
    "            return None\n",
    "        \n",
    "    except:\n",
    "        return None\n",
    "    \n",
    "# graph_data = requests.get(url=sharepoint_url, headers=headers, verify=True)"
   ]
  },
  {
   "cell_type": "code",
   "execution_count": null,
   "id": "1151e14a580ce474",
   "metadata": {},
   "outputs": [],
   "source": [
    "def expand_data(df):\n",
    "    for index, row in df.iterrows():\n",
    "        try:\n",
    "            for key, value in row[\"value\"].items():\n",
    "                try:                    \n",
    "                    df.loc[index, str(key)] = str(value)\n",
    "                except:\n",
    "                    for k, v in value.items():\n",
    "                        df.loc[index, str(k)] = str(v)\n",
    "        except:\n",
    "            pass\n",
    "        \n",
    "    for index, row in df.iterrows():\n",
    "        for i, e in enumerate((str(row[\"id\"])).split(\",\")):\n",
    "            if i == 0:\n",
    "                pass\n",
    "            elif i == 1:\n",
    "                df.loc[index, \"tenant_id\"] = str(e)\n",
    "            elif i == 2:\n",
    "                df.loc[index, \"site_id\"] = str(e)\n",
    "                \n",
    "                \n",
    "    return df\n"
   ]
  },
  {
   "cell_type": "code",
   "execution_count": null,
   "id": "a5e2b46579a0204",
   "metadata": {},
   "outputs": [],
   "source": [
    "df_sites = expand_data(pd.read_json(get_graph_data(\"sites\"), orient='records', dtype_backend=\"pyarrow\"))"
   ]
  },
  {
   "cell_type": "code",
   "execution_count": null,
   "id": "938ad9bf56cdf997",
   "metadata": {},
   "outputs": [],
   "source": [
    "df_sites"
   ]
  },
  {
   "cell_type": "code",
   "execution_count": null,
   "id": "12105b399b7d2df5",
   "metadata": {},
   "outputs": [],
   "source": [
    "site_id = df_sites[df_sites[\"displayName\"] == \"Reports\"][\"tenant_id\"][0]"
   ]
  },
  {
   "cell_type": "code",
   "execution_count": null,
   "id": "5d7cfc1140e498d1",
   "metadata": {},
   "outputs": [],
   "source": [
    "type(site_id)"
   ]
  },
  {
   "cell_type": "code",
   "execution_count": null,
   "id": "ed0167ff2d7eaf90",
   "metadata": {},
   "outputs": [],
   "source": [
    "df_site_lists = pd.read_json(get_graph_data(f'sites/{site_id}/lists'), orient='records')"
   ]
  },
  {
   "cell_type": "code",
   "execution_count": null,
   "id": "c04265e96b1ff352",
   "metadata": {},
   "outputs": [],
   "source": [
    "for k, v in df_site_lists[\"value\"][0].items():\n",
    "    print(f\"{k}: {v}\")"
   ]
  },
  {
   "cell_type": "code",
   "execution_count": null,
   "id": "2391c62f2aea8b29",
   "metadata": {},
   "outputs": [],
   "source": [
    "df_files = expand_data(pd.read_json(get_graph_data(f'sites/{site_id}/drives'), orient='records'))"
   ]
  },
  {
   "cell_type": "code",
   "execution_count": null,
   "id": "899f7076174a7fe3",
   "metadata": {},
   "outputs": [],
   "source": [
    "df_files"
   ]
  },
  {
   "cell_type": "code",
   "execution_count": null,
   "id": "9597bc87c4b96fb8",
   "metadata": {},
   "outputs": [],
   "source": [
    "for k, v in df_files[\"value\"][0].items():\n",
    "    print(f\"{k}: {v}\")"
   ]
  },
  {
   "cell_type": "code",
   "execution_count": null,
   "id": "4d525929f874425c",
   "metadata": {},
   "outputs": [],
   "source": [
    "def upload_file(site_id, parent_id, filename):\n",
    "    base_url = 'https://graph.microsoft.com/v1.0/'\n",
    "\n",
    "    url = f'{base_url}/sites/{site_id}/drive/items/{parent_id}:/{filename}:/content'\n",
    "    \n",
    "    # Request Graph Data\n",
    "    headers = {\n",
    "        'Authorization': f'Bearer {config[\"access_token\"]}',\n",
    "        'Content-Type': 'application/json',\n",
    "        'Accept': 'application/json'\n",
    "    }\n",
    "    \n",
    "    try:\n",
    "    \n",
    "        graph_data = requests.put(url=f\"{base_url}/{resource}\",\n",
    "                                  headers=headers,\n",
    "                                  stream=False)\n",
    "        \n",
    "        if graph_data.status_code == 200:\n",
    "            return graph_data.content.decode('utf-8')\n",
    "        else:\n",
    "            print(graph_data.status_code)\n",
    "            print(graph_data.reason)\n",
    "            print(graph_data.text)\n",
    "            return None\n",
    "        \n",
    "    except:\n",
    "        return None"
   ]
  },
  {
   "cell_type": "code",
   "execution_count": null,
   "id": "86b3db067b14f433",
   "metadata": {},
   "outputs": [],
   "source": [
    "ENDPOINT = \"https://graph.microsoft.com/v1.0/\"\n",
    "SHAREPOINT_HOST_NAME = \"example.sharepoint.com\"\n",
    "SITE_NAME = \"Reports\""
   ]
  },
  {
   "cell_type": "code",
   "execution_count": null,
   "id": "4708d1ca3bd7202a",
   "metadata": {},
   "outputs": [],
   "source": [
    "headers={'Authorization': 'Bearer ' + config['access_token']}\n",
    "\n",
    "# get the site id\n",
    "result = requests.get(f'{ENDPOINT}/sites/{SHAREPOINT_HOST_NAME}:/sites/{SITE_NAME}', headers=headers)\n",
    "result.raise_for_status()\n",
    "site_info =result.json()\n",
    "site_id = site_info['id']"
   ]
  },
  {
   "cell_type": "code",
   "execution_count": null,
   "id": "91979daecaa8e073",
   "metadata": {},
   "outputs": [],
   "source": [
    "site_id"
   ]
  },
  {
   "cell_type": "code",
   "execution_count": null,
   "id": "4ef26a88e10d310d",
   "metadata": {},
   "outputs": [],
   "source": [
    "# get the drive id\n",
    "result = requests.get(f'{ENDPOINT}/sites/{site_id}/drive', headers=headers)\n",
    "result.raise_for_status()\n",
    "drive_info =result.json()\n",
    "drive_id = drive_info['id']"
   ]
  },
  {
   "cell_type": "code",
   "execution_count": null,
   "id": "1b61342931ed92af",
   "metadata": {},
   "outputs": [],
   "source": [
    "drive_id"
   ]
  },
  {
   "cell_type": "code",
   "execution_count": null,
   "id": "97d92614d5d4b349",
   "metadata": {},
   "outputs": [],
   "source": [
    "drive_info"
   ]
  },
  {
   "cell_type": "code",
   "execution_count": null,
   "id": "dce9c14c98a44416",
   "metadata": {},
   "outputs": [],
   "source": [
    "import urllib.parse"
   ]
  },
  {
   "cell_type": "code",
   "execution_count": null,
   "id": "19ecde9eb148381d",
   "metadata": {},
   "outputs": [],
   "source": [
    "# get the folder id\n",
    "folder_path = 'General'   # replace this with the folder you want to list\n",
    "folder_url = urllib.parse.quote(folder_path)\n",
    "result = requests.get(f'{ENDPOINT}/drives/{drive_id}/root:/{folder_url}', headers=headers)\n",
    "result.raise_for_status()\n",
    "folder_info =result.json()\n",
    "folder_id = folder_info['id']"
   ]
  },
  {
   "cell_type": "code",
   "execution_count": null,
   "id": "5ac6424009d16da3",
   "metadata": {},
   "outputs": [],
   "source": [
    "folder_id"
   ]
  },
  {
   "cell_type": "code",
   "execution_count": null,
   "id": "5cc9048b181d47e7",
   "metadata": {},
   "outputs": [],
   "source": [
    "\n",
    "# list the folder contents\n",
    "result = requests.get(f'{ENDPOINT}/drives/{drive_id}/items/{folder_id}/children', headers=headers)\n",
    "result.raise_for_status()\n",
    "children =result.json()['value']\n",
    "for item in children:\n",
    "    print(item['name'])"
   ]
  },
  {
   "cell_type": "code",
   "execution_count": null,
   "id": "1c349a25541d7231",
   "metadata": {},
   "outputs": [],
   "source": [
    "# upload a large file to the 'General' folder -- replace these\n",
    "filename = '.txt'\n",
    "folder_path = 'General'\n",
    "\n",
    "folder_url = urllib.parse.quote(folder_path)\n",
    "result = requests.get(f'{ENDPOINT}/drives/{drive_id}/root:/{folder_url}', headers=headers)\n",
    "result.raise_for_status()\n",
    "folder_info =result.json()\n",
    "folder_id = folder_info['id']\n",
    "\n",
    "file_url = urllib.parse.quote(filename)\n",
    "result = requests.post(\n",
    "    f'{ENDPOINT}/drives/{drive_id}/items/{folder_id}:/{file_url}:/createUploadSession',\n",
    "    headers=headers,\n",
    "    json={\n",
    "        '@microsoft.graph.conflictBehavior': 'replace',\n",
    "        'description': 'A large test file',\n",
    "        'fileSystemInfo': {'@odata.type': 'microsoft.graph.fileSystemInfo'},\n",
    "        'name': filename\n",
    "    }\n",
    ")\n",
    "result.raise_for_status()\n",
    "upload_session =result.json()\n",
    "upload_url = upload_session['uploadUrl']\n",
    "\n",
    "st = os.stat(filename)\n",
    "size = st.st_size\n",
    "CHUNK_SIZE = 10485760\n",
    "chunks = int(size / CHUNK_SIZE) + 1 if size % CHUNK_SIZE > 0 else 0\n",
    "with open(filename, 'rb') as fd:\n",
    "    start = 0\n",
    "    for chunk_num in range(chunks):\n",
    "        chunk = fd.read(CHUNK_SIZE)\n",
    "        bytes_read = len(chunk)\n",
    "        upload_range = f'bytes {start}-{start + bytes_read - 1}/{size}'\n",
    "        print(f'chunk: {chunk_num} bytes read: {bytes_read} upload range: {upload_range}')\n",
    "        result = requests.put(\n",
    "            upload_url,\n",
    "            headers={\n",
    "                'Content-Length': str(bytes_read),\n",
    "                'Content-Range': upload_range\n",
    "            },\n",
    "            data=chunk\n",
    "        )\n",
    "        result.raise_for_status()\n",
    "        start += bytes_read\n"
   ]
  },
  {
   "cell_type": "code",
   "execution_count": null,
   "id": "cff8998181c43ca4",
   "metadata": {},
   "outputs": [],
   "source": []
  }
 ],
 "metadata": {
  "kernelspec": {
   "display_name": "Python 3",
   "language": "python",
   "name": "python3"
  },
  "language_info": {
   "codemirror_mode": {
    "name": "ipython",
    "version": 2
   },
   "file_extension": ".py",
   "mimetype": "text/x-python",
   "name": "python",
   "nbconvert_exporter": "python",
   "pygments_lexer": "ipython2",
   "version": "2.7.6"
  }
 },
 "nbformat": 4,
 "nbformat_minor": 5
}
