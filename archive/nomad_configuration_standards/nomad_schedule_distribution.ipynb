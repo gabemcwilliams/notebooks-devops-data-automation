{
 "cells": [
  {
   "cell_type": "code",
   "id": "initial_id",
   "metadata": {},
   "source": [
    "import pandas as pd\n",
    "import re\n",
    "import yaml\n",
    "import os"
   ],
   "outputs": [],
   "execution_count": null
  },
  {
   "cell_type": "code",
   "id": "74ec39e0ce8546e8",
   "metadata": {},
   "source": [
    "job_files = []\n",
    "\n",
    "for root, dirs, files in os.walk(r\"D:\\Git\\example_infrastructure_data_dev\\modules\\data_lake\\local\"):\n",
    "    for file in files:\n",
    "        if file.endswith(\".hcl\"):\n",
    "            print(os.path.join(root, file))\n",
    "            job_files.append(os.path.join(root, file))"
   ],
   "outputs": [],
   "execution_count": null
  },
  {
   "cell_type": "code",
   "id": "1ba2a7f928079015",
   "metadata": {},
   "source": [
    "\n",
    "jobs_info_list = []\n",
    "\n",
    "\n",
    "keywords = [\"job\",\"type\",\"cron\",\"group\",\"task\",\"driver\",\"command\",\"args\"]\n",
    "\n",
    "for job in job_files[:]:\n",
    "    with open(job, \"r\") as f:\n",
    "        data = f.readlines()\n",
    "        f.close()\n",
    "\n",
    "    job_info_dict = {}\n",
    "        \n",
    "\n",
    "    for line in data:\n",
    "        for keyword in keywords:\n",
    "            result = re.search(f\"[\\s]?{keyword}\\s\",line)\n",
    "            if result:\n",
    "                try:\n",
    "                    # print(result)\n",
    "                    job_info_dict[keyword] = re.search(r'[\\s\\[]?\\\"([^\\\"]+)\\\"[\\n\\s]?', line).group(1)\n",
    "                except:\n",
    "                    print(line)\n",
    "    job_info_dict[\"job_file_path\"] = re.sub(r\"D:\\\\Git\\\\example_infrastructure_data_dev\\\\modules\", \"\", job)\n",
    "    jobs_info_list.append(job_info_dict)\n",
    "            \n",
    "    \n",
    "            \n",
    "# print(job_info_dict)\n"
   ],
   "outputs": [],
   "execution_count": null
  },
  {
   "cell_type": "code",
   "id": "687612f6ce974659",
   "metadata": {},
   "source": [
    "df = pd.DataFrame(jobs_info_list)"
   ],
   "outputs": [],
   "execution_count": null
  },
  {
   "cell_type": "code",
   "id": "72fe1251b7d556c3",
   "metadata": {},
   "source": [
    "mask = df[\"job\"].str.contains(\"acronis\")"
   ],
   "outputs": [],
   "execution_count": null
  },
  {
   "cell_type": "code",
   "id": "fc9e5ebeedcbfa5c",
   "metadata": {},
   "source": [
    "df.loc[mask, \"cron\"] = \"0 * * * *\""
   ],
   "outputs": [],
   "execution_count": null
  },
  {
   "cell_type": "code",
   "id": "2a9e4df88bbbf0e4",
   "metadata": {},
   "source": [
    "df[mask]"
   ],
   "outputs": [],
   "execution_count": null
  },
  {
   "cell_type": "code",
   "id": "301640bed177757f",
   "metadata": {},
   "source": [
    "df"
   ],
   "outputs": [],
   "execution_count": null
  },
  {
   "cell_type": "code",
   "id": "88aac1818fe2917b",
   "metadata": {},
   "source": "df.to_csv(\".csv\", index=False)",
   "outputs": [],
   "execution_count": null
  },
  {
   "cell_type": "code",
   "id": "4af047d47357526a",
   "metadata": {},
   "source": [
    "\n",
    "def return_hcl_job(row):\n",
    "\n",
    "    template = f\"\"\" \n",
    "    job \"{row[\"job\"]}\" {{\n",
    "    \n",
    "      type = \"{row[\"type\"]}\"\n",
    "    \n",
    "      periodic {{\n",
    "        cron             = \"{row[\"cron\"]}\"\n",
    "        prohibit_overlap = true\n",
    "      }}\n",
    "    \n",
    "      group \"{row[\"group\"]}\" {{\n",
    "        count = 1\n",
    "        task \"{row[\"task\"]}\" {{\n",
    "          driver = \"{row[\"driver\"]}\"\n",
    "    \n",
    "          config {{\n",
    "            command = \"{row[\"command\"]}\"\n",
    "            args    = [\"{row[\"args\"]}\"]\n",
    "          }}\n",
    "    \n",
    "          dispatch_payload {{\n",
    "            file = \"\"\n",
    "          }}\n",
    "    \n",
    "        }}\n",
    "      }}\n",
    "    }}    \n",
    "    \"\"\"\n",
    "    \n",
    "    return template"
   ],
   "outputs": [],
   "execution_count": null
  },
  {
   "cell_type": "code",
   "id": "7dfad084fba18388",
   "metadata": {},
   "source": [
    "job_files_loc = r\"D:\\Git\\example_infrastructure_data_dev\\projects\\2023\\nomad_configuration_standards\\job_files\""
   ],
   "outputs": [],
   "execution_count": null
  },
  {
   "cell_type": "code",
   "id": "2cd1bec3d113b237",
   "metadata": {},
   "source": [
    "for index, row in df.iterrows():\n",
    "    print(row[\"job\"])\n",
    "    dest_loc = f'{job_files_loc}/{row[\"job\"]}.hcl'\n",
    "    with open(dest_loc, \"w\") as f:\n",
    "        f.write(return_hcl_job(row))\n",
    "        f.close()"
   ],
   "outputs": [],
   "execution_count": null
  },
  {
   "cell_type": "code",
   "id": "e39abe60a2626ac5",
   "metadata": {},
   "source": [],
   "outputs": [],
   "execution_count": null
  }
 ],
 "metadata": {
  "kernelspec": {
   "display_name": "Python 3",
   "language": "python",
   "name": "python3"
  },
  "language_info": {
   "codemirror_mode": {
    "name": "ipython",
    "version": 2
   },
   "file_extension": ".py",
   "mimetype": "text/x-python",
   "name": "python",
   "nbconvert_exporter": "python",
   "pygments_lexer": "ipython2",
   "version": "2.7.6"
  }
 },
 "nbformat": 4,
 "nbformat_minor": 5
}
