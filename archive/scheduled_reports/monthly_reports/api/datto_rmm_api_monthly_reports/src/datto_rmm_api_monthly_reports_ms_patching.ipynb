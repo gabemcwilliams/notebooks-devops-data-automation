{
 "cells": [
  {
   "cell_type": "markdown",
   "metadata": {
    "collapsed": false
   },
   "source": [
    "# DattoRMM - API - Monthly Reports"
   ]
  },
  {
   "cell_type": "markdown",
   "metadata": {
    "collapsed": false
   },
   "source": [
    "# DataFrame Creation from API\n",
    "## Prepare for DataFrame Creation\n",
    "### Set Export Folder"
   ]
  },
  {
   "cell_type": "code",
   "execution_count": null,
   "metadata": {
    "ExecuteTime": {
     "end_time": "2023-04-10T19:42:26.283774Z",
     "start_time": "2023-04-10T19:42:26.209975Z"
    }
   },
   "outputs": [],
   "source": [
    "import datetime as dt\n",
    "import yaml\n",
    "from yaml import SafeLoader"
   ]
  },
  {
   "cell_type": "code",
   "execution_count": null,
   "metadata": {
    "ExecuteTime": {
     "end_time": "2023-04-10T19:42:26.293772Z",
     "start_time": "2023-04-10T19:42:26.289769Z"
    }
   },
   "outputs": [],
   "source": [
    "# add current timestamp to filename for reference\n",
    "current_time = (dt.datetime.utcnow().strftime('%Y_%m_%d_%H%M%S'))\n",
    "\n",
    "# export folder will contain all csv exported DataFrames for Ticket Creation\n",
    "export_folder = 'd:/exports'\n",
    "\n",
    "# git location\n",
    "git_dir = 'd:/git'\n",
    "\n",
    "# dictionary location\n",
    "dict_dir = f'{git_dir}/data_parsing/dictionaries'"
   ]
  },
  {
   "cell_type": "code",
   "execution_count": null,
   "metadata": {
    "ExecuteTime": {
     "end_time": "2023-04-10T19:42:28.036335Z",
     "start_time": "2023-04-10T19:42:26.297774Z"
    }
   },
   "outputs": [],
   "source": [
    "from ts_api_connections import datto_rmm_api"
   ]
  },
  {
   "cell_type": "markdown",
   "metadata": {
    "collapsed": false
   },
   "source": [
    "## Create DataFrame via API Call Iteration\n"
   ]
  },
  {
   "cell_type": "code",
   "execution_count": null,
   "metadata": {
    "ExecuteTime": {
     "end_time": "2023-04-10T19:42:42.067078Z",
     "start_time": "2023-04-10T19:42:28.044352Z"
    }
   },
   "outputs": [],
   "source": [
    "datto = datto_rmm_api.DattoRMM()\n",
    "df_devices = datto.create_devices_dataframe()"
   ]
  },
  {
   "cell_type": "markdown",
   "metadata": {
    "collapsed": false
   },
   "source": [
    "# Create reports and save to CSV"
   ]
  },
  {
   "cell_type": "markdown",
   "metadata": {
    "collapsed": false
   },
   "source": [
    "## Pull year month to add to csv file title"
   ]
  },
  {
   "cell_type": "code",
   "execution_count": null,
   "metadata": {
    "ExecuteTime": {
     "end_time": "2023-04-10T19:42:42.081822Z",
     "start_time": "2023-04-10T19:42:42.069085Z"
    }
   },
   "outputs": [],
   "source": [
    "# add current timestamp to filename for reference\n",
    "current_time = (dt.datetime.utcnow().strftime('%Y-%m-%d %H:%M:%S'))\n",
    "year_month = (dt.datetime.utcnow().strftime('%Y - %m'))\n",
    "year_month"
   ]
  },
  {
   "cell_type": "markdown",
   "metadata": {
    "collapsed": false
   },
   "source": [
    "## Import Client Service Files"
   ]
  },
  {
   "cell_type": "code",
   "execution_count": null,
   "metadata": {
    "ExecuteTime": {
     "end_time": "2023-04-10T19:42:42.172537Z",
     "start_time": "2023-04-10T19:42:42.084825Z"
    }
   },
   "outputs": [],
   "source": [
    "def load_yaml(source_file=f'{dict_dir}.yaml'):\n",
    "    with open(source_file, \"r\") as y:\n",
    "        yaml_contents = yaml.load(y, Loader=SafeLoader)\n",
    "\n",
    "        return yaml_contents\n",
    "\n",
    "report_configs = load_yaml()"
   ]
  },
  {
   "cell_type": "markdown",
   "metadata": {
    "collapsed": false
   },
   "source": [
    "## Create report dataframes based on site and column filtering and export"
   ]
  },
  {
   "cell_type": "code",
   "execution_count": null,
   "metadata": {
    "ExecuteTime": {
     "end_time": "2023-04-10T19:42:42.179542Z",
     "start_time": "2023-04-10T19:42:42.174565Z"
    }
   },
   "outputs": [],
   "source": [
    "def columns(report,yaml_configs=report_configs):\n",
    "\n",
    "    try:\n",
    "        yaml_columns = (yaml_configs['reports'][report]['standard_columns']) + (yaml_configs['reports'][report]['additional_columns'])\n",
    "    except:\n",
    "        yaml_columns = yaml_configs['reports'][report]['standard_columns']\n",
    "\n",
    "    return yaml_columns"
   ]
  },
  {
   "cell_type": "code",
   "execution_count": null,
   "metadata": {
    "ExecuteTime": {
     "end_time": "2023-04-10T19:42:42.189537Z",
     "start_time": "2023-04-10T19:42:42.182530Z"
    }
   },
   "outputs": [],
   "source": [
    "def site_names(report,yaml_configs=report_configs):\n",
    "\n",
    "    yaml_sites = []\n",
    "\n",
    "    for yaml_site in yaml_configs['site_names']:\n",
    "\n",
    "        if report in yaml_site['reports']:\n",
    "\n",
    "            yaml_sites.append(yaml_site['name'])\n",
    "\n",
    "    return yaml_sites"
   ]
  },
  {
   "cell_type": "code",
   "execution_count": null,
   "metadata": {
    "ExecuteTime": {
     "end_time": "2023-04-10T19:42:42.216558Z",
     "start_time": "2023-04-10T19:42:42.192539Z"
    }
   },
   "outputs": [],
   "source": [
    "def create_reports(report_list,source_df=df_devices,yaml_configs=report_configs):\n",
    "    for report in report_list:\n",
    "\n",
    "        df = source_df[columns(report)]\n",
    "        df['reportCreationDate'] = current_time\n",
    "\n",
    "        for yaml_site in site_names(report):\n",
    "\n",
    "            df[df['siteName'] == yaml_site].to_csv(f'{export_folder}/reports/{yaml_site} - {year_month} - {yaml_configs[\"reports\"][report][\"report_name\"]}.csv',index=False)"
   ]
  },
  {
   "cell_type": "code",
   "execution_count": null,
   "metadata": {
    "ExecuteTime": {
     "end_time": "2023-04-10T19:42:44.107008Z",
     "start_time": "2023-04-10T19:42:42.206543Z"
    }
   },
   "outputs": [],
   "source": [
    "reports_list = ['ms_patching','software_management','sophos_av']\n",
    "\n",
    "create_reports(reports_list)"
   ]
  }
 ],
 "metadata": {
  "kernelspec": {
   "display_name": "Python 3",
   "language": "python",
   "name": "python3"
  },
  "language_info": {
   "codemirror_mode": {
    "name": "ipython",
    "version": 2
   },
   "file_extension": "[REDACTED][REDACTED]/.py",
   "mimetype": "text/x-python",
   "name": "python",
   "nbconvert_exporter": "python",
   "pygments_lexer": "ipython2",
   "version": "2.7.6"
  }
 },
 "nbformat": 4,
 "nbformat_minor": 0
}
