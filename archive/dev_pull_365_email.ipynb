{
 "cells": [
  {
   "cell_type": "code",
   "execution_count": null,
   "metadata": {
    "ExecuteTime": {
     "end_time": "2023-07-12T01:29:57.069005300Z",
     "start_time": "2023-07-12T01:29:55.619069600Z"
    }
   },
   "outputs": [],
   "source": [
    "import pandas as pd\n",
    "from O365 import *\n",
    "import os\n",
    "import hvac"
   ]
  },
  {
   "cell_type": "code",
   "execution_count": null,
   "metadata": {
    "ExecuteTime": {
     "end_time": "2023-07-12T01:29:58.727292100Z",
     "start_time": "2023-07-12T01:29:58.712492200Z"
    }
   },
   "outputs": [],
   "source": [
    "# self.__secrets = self.read_secret(self.__destination[\"TYPE\"], self.__destination[\"VARS\"])\n",
    "\n",
    "@staticmethod\n",
    "def read_secret(mount_point, path):\n",
    "    client = hvac.Client(url=os.environ.get(\"VAULT_ADDR\"))\n",
    "    resp = client.kv.v2.read_secret(mount_point=mount_point, path=f'/{path}')\n",
    "    secret = resp['data']['data']\n",
    "\n",
    "    return secret\n"
   ]
  },
  {
   "cell_type": "code",
   "execution_count": null,
   "metadata": {
    "ExecuteTime": {
     "end_time": "2023-07-12T01:29:59.575990500Z",
     "start_time": "2023-07-12T01:29:59.557054800Z"
    }
   },
   "outputs": [],
   "source": [
    "secret = read_secret(\"azuread\", \"app_01\")"
   ]
  },
  {
   "cell_type": "code",
   "execution_count": null,
   "metadata": {
    "ExecuteTime": {
     "end_time": "2023-07-12T01:30:00.940748600Z",
     "start_time": "2023-07-12T01:30:00.927910Z"
    }
   },
   "outputs": [],
   "source": [
    "from O365.message import Message\n",
    "from O365.mailbox import MailBox"
   ]
  },
  {
   "cell_type": "code",
   "execution_count": null,
   "metadata": {
    "ExecuteTime": {
     "end_time": "2023-07-12T01:30:01.998134200Z",
     "start_time": "2023-07-12T01:30:01.962503400Z"
    }
   },
   "outputs": [],
   "source": [
    "from IPython.display import Image\n",
    "Image(url= \".png\")"
   ]
  },
  {
   "cell_type": "code",
   "execution_count": null,
   "metadata": {
    "ExecuteTime": {
     "end_time": "2023-07-12T01:30:03.702170800Z",
     "start_time": "2023-07-12T01:30:03.687128400Z"
    }
   },
   "outputs": [],
   "source": [
    "scopes = ['mailbox_shared', 'message_all_shared']"
   ]
  },
  {
   "cell_type": "code",
   "execution_count": null,
   "metadata": {
    "ExecuteTime": {
     "end_time": "2023-07-12T01:30:32.382962900Z",
     "start_time": "2023-07-12T01:30:32.369006500Z"
    }
   },
   "outputs": [],
   "source": [
    "protocol = MSGraphProtocol()\n",
    "\n",
    "con = Connection((secret['client_id'], secret['client_secret']), scopes=scopes)"
   ]
  },
  {
   "cell_type": "code",
   "execution_count": null,
   "metadata": {
    "ExecuteTime": {
     "end_time": "2023-07-12T01:30:45.545182100Z",
     "start_time": "2023-07-12T01:30:45.517506Z"
    }
   },
   "outputs": [],
   "source": [
    "account = Account(\n",
    "    (\n",
    "        secret['client_id'],\n",
    "        secret['client_secret']\n",
    "    ),\n",
    "    auth_flow_type=\"credentials\",\n",
    "    tenant_id=secret['tenant_id'],\n",
    "    main_resource=\"reports@example.co\"\n",
    ")"
   ]
  },
  {
   "cell_type": "code",
   "execution_count": null,
   "metadata": {
    "ExecuteTime": {
     "end_time": "2023-07-12T01:30:46.357731100Z",
     "start_time": "2023-07-12T01:30:46.120308400Z"
    }
   },
   "outputs": [],
   "source": [
    "account.authenticate()"
   ]
  },
  {
   "cell_type": "code",
   "execution_count": null,
   "metadata": {
    "ExecuteTime": {
     "end_time": "2023-07-12T01:30:48.551452900Z",
     "start_time": "2023-07-12T01:30:48.500768500Z"
    }
   },
   "outputs": [],
   "source": [
    "print(f\"Account is authenticated: {account.is_authenticated}\")"
   ]
  },
  {
   "cell_type": "code",
   "execution_count": null,
   "metadata": {
    "ExecuteTime": {
     "end_time": "2023-07-12T01:30:49.972099700Z",
     "start_time": "2023-07-12T01:30:49.960101200Z"
    }
   },
   "outputs": [],
   "source": [
    "mailbox = account.mailbox()\n",
    "mailbox"
   ]
  },
  {
   "cell_type": "code",
   "execution_count": null,
   "metadata": {
    "ExecuteTime": {
     "end_time": "2023-07-12T01:31:48.687971900Z",
     "start_time": "2023-07-12T01:31:48.668267800Z"
    }
   },
   "outputs": [],
   "source": [
    "mailbox.get_folders()"
   ]
  },
  {
   "cell_type": "code",
   "execution_count": null,
   "metadata": {
    "ExecuteTime": {
     "end_time": "2023-07-12T01:31:00.211522Z",
     "start_time": "2023-07-12T01:30:59.961159600Z"
    }
   },
   "outputs": [],
   "source": [
    "# By Name - Will only find direct child folder\n",
    "mail_folder = mailbox.get_folder(folder_name='Inbox')"
   ]
  },
  {
   "cell_type": "code",
   "execution_count": null,
   "metadata": {
    "ExecuteTime": {
     "end_time": "2023-07-12T01:32:24.504900100Z",
     "start_time": "2023-07-12T01:32:24.301858800Z"
    }
   },
   "outputs": [],
   "source": [
    "account.get_current_user()"
   ]
  },
  {
   "cell_type": "code",
   "execution_count": null,
   "metadata": {
    "ExecuteTime": {
     "end_time": "2023-07-12T01:32:20.816618200Z",
     "start_time": "2023-07-12T01:32:20.793652100Z"
    }
   },
   "outputs": [],
   "source": [
    "inbox = mailbox.get_folders()"
   ]
  },
  {
   "cell_type": "code",
   "execution_count": null,
   "metadata": {},
   "outputs": [],
   "source": [
    "type(inbox)"
   ]
  },
  {
   "cell_type": "code",
   "execution_count": null,
   "metadata": {},
   "outputs": [],
   "source": [
    "for message in inbox.get_messages():\n",
    "    print(message)"
   ]
  },
  {
   "cell_type": "code",
   "execution_count": null,
   "metadata": {},
   "outputs": [],
   "source": [
    "mailbox.get_messages('inbox')"
   ]
  },
  {
   "cell_type": "code",
   "execution_count": null,
   "metadata": {},
   "outputs": [],
   "source": [
    "mailbox.get_messages()"
   ]
  },
  {
   "cell_type": "code",
   "execution_count": null,
   "metadata": {},
   "outputs": [],
   "source": [
    "credentials = (secret[\"email\"], secret[\"password\"])\n",
    "account = Account(credentials)"
   ]
  },
  {
   "cell_type": "code",
   "execution_count": null,
   "metadata": {},
   "outputs": [],
   "source": [
    "mailbox = account.mailbox()"
   ]
  },
  {
   "cell_type": "code",
   "execution_count": null,
   "metadata": {},
   "outputs": [],
   "source": [
    "mailbox.get_messages()"
   ]
  },
  {
   "cell_type": "code",
   "execution_count": null,
   "metadata": {},
   "outputs": [],
   "source": []
  },
  {
   "cell_type": "code",
   "execution_count": null,
   "metadata": {},
   "outputs": [],
   "source": [
    "# ...\n",
    "mailbox = MailBox(con=con, protocol=protocol)\n",
    "message2 = Message(parent=mailbox)  # message will inherit the connection and protocol from mailbox when using parent.\n",
    "# ..."
   ]
  }
 ],
 "metadata": {
  "kernelspec": {
   "display_name": "Python 3",
   "language": "python",
   "name": "python3"
  },
  "language_info": {
   "codemirror_mode": {
    "name": "ipython",
    "version": 2
   },
   "file_extension": ".py",
   "mimetype": "text/x-python",
   "name": "python",
   "nbconvert_exporter": "python",
   "pygments_lexer": "ipython2",
   "version": "2.7.6"
  }
 },
 "nbformat": 4,
 "nbformat_minor": 0
}
