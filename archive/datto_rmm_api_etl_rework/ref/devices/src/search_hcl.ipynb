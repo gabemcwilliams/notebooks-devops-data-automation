{
 "cells": [
  {
   "cell_type": "code",
   "execution_count": null,
   "metadata": {
    "ExecuteTime": {
     "end_time": "2023-04-24T17:44:33.063662Z",
     "start_time": "2023-04-24T17:44:30.475886Z"
    },
    "pycharm": {
     "is_executing": true
    }
   },
   "outputs": [],
   "source": [
    "import os\n",
    "import re\n",
    "import pathlib\n",
    "import hcl2\n",
    "root_path = os.getcwd()"
   ]
  },
  {
   "cell_type": "code",
   "execution_count": null,
   "metadata": {
    "ExecuteTime": {
     "end_time": "2023-04-24T17:44:33.076664Z",
     "start_time": "2023-04-24T17:44:33.069679Z"
    }
   },
   "outputs": [],
   "source": [
    "nomad_docs = []\n",
    "yaml_docs = []\n",
    "for root, dirs, files in os.walk(root_path):\n",
    "    for file in files:\n",
    "        if file.endswith(\".hcl\"):\n",
    "            nomad_docs.append(os.path.join(root, file))\n",
    "        elif file.endswith(\".yaml\"):\n",
    "            yaml_docs.append(os.path.join(root, file))"
   ]
  },
  {
   "cell_type": "code",
   "execution_count": null,
   "metadata": {
    "ExecuteTime": {
     "end_time": "2023-04-24T17:44:33.111142Z",
     "start_time": "2023-04-24T17:44:33.080666Z"
    }
   },
   "outputs": [],
   "source": [
    "os.getcwd()"
   ]
  },
  {
   "cell_type": "code",
   "execution_count": null,
   "metadata": {
    "ExecuteTime": {
     "end_time": "2023-04-24T17:44:33.111142Z",
     "start_time": "2023-04-24T17:44:33.095723Z"
    }
   },
   "outputs": [],
   "source": [
    "nomad_docs"
   ]
  },
  {
   "cell_type": "code",
   "execution_count": null,
   "metadata": {
    "ExecuteTime": {
     "end_time": "2023-04-24T17:44:33.178927Z",
     "start_time": "2023-04-24T17:44:33.111142Z"
    }
   },
   "outputs": [],
   "source": [
    "with open(nomad_docs[0], 'r') as file:\n",
    "    hcl_file = file.read()"
   ]
  },
  {
   "cell_type": "code",
   "execution_count": null,
   "metadata": {
    "ExecuteTime": {
     "end_time": "2023-04-24T17:49:47.972595Z",
     "start_time": "2023-04-24T17:49:47.963604Z"
    }
   },
   "outputs": [],
   "source": [
    "result = (re.match(r\".*\\'job\\'\\:\\s\\[\\{\\'([\\w\\_]+)\\'\", str(temp_dict))).group(1)"
   ]
  },
  {
   "cell_type": "code",
   "execution_count": null,
   "metadata": {},
   "outputs": [],
   "source": [
    "hcl_file"
   ]
  },
  {
   "cell_type": "code",
   "execution_count": null,
   "metadata": {
    "ExecuteTime": {
     "end_time": "2023-04-24T17:49:32.860851Z",
     "start_time": "2023-04-24T17:49:32.826054Z"
    }
   },
   "outputs": [],
   "source": [
    "yaml_docs"
   ]
  },
  {
   "cell_type": "code",
   "execution_count": null,
   "metadata": {
    "ExecuteTime": {
     "end_time": "2023-04-25T15:17:14.753355Z",
     "start_time": "2023-04-25T15:17:14.728577Z"
    }
   },
   "outputs": [],
   "source": [
    "import os\n",
    "import sys\n",
    "os.path.dirname(sys.executable)"
   ]
  },
  {
   "cell_type": "code",
   "execution_count": null,
   "metadata": {},
   "outputs": [],
   "source": []
  }
 ],
 "metadata": {
  "kernelspec": {
   "display_name": "Python 3",
   "language": "python",
   "name": "python3"
  },
  "language_info": {
   "codemirror_mode": {
    "name": "ipython",
    "version": 2
   },
   "file_extension": "[REDACTED][REDACTED]/.py",
   "mimetype": "text/x-python",
   "name": "python",
   "nbconvert_exporter": "python",
   "pygments_lexer": "ipython2",
   "version": "2.7.6"
  }
 },
 "nbformat": 4,
 "nbformat_minor": 0
}
