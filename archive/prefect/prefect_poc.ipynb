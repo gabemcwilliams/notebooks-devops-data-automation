{
 "cells": [
  {
   "cell_type": "code",
   "execution_count": null,
   "id": "initial_id",
   "metadata": {
    "ExecuteTime": {
     "end_time": "2023-12-07T22:41:12.344854500Z",
     "start_time": "2023-12-07T22:40:55.045649700Z"
    }
   },
   "outputs": [],
   "source": [
    "import prefect\n",
    "import pandas as pd\n",
    "import re"
   ]
  },
  {
   "cell_type": "code",
   "execution_count": null,
   "id": "a1d2ac827bc8f0b0",
   "metadata": {
    "ExecuteTime": {
     "end_time": "2023-12-07T22:41:12.361772400Z",
     "start_time": "2023-12-07T22:41:12.342317Z"
    }
   },
   "outputs": [],
   "source": []
  },
  {
   "cell_type": "code",
   "execution_count": null,
   "id": "a2988ce7a5000ae",
   "metadata": {
    "ExecuteTime": {
     "end_time": "2023-12-07T22:33:57.712437300Z",
     "start_time": "2023-12-07T22:33:57.690469300Z"
    }
   },
   "outputs": [],
   "source": []
  },
  {
   "cell_type": "code",
   "execution_count": null,
   "id": "249a0052e35cb7be",
   "metadata": {},
   "outputs": [],
   "source": []
  }
 ],
 "metadata": {
  "kernelspec": {
   "display_name": "Python 3",
   "language": "python",
   "name": "python3"
  },
  "language_info": {
   "codemirror_mode": {
    "name": "ipython",
    "version": 2
   },
   "file_extension": ".py",
   "mimetype": "text/x-python",
   "name": "python",
   "nbconvert_exporter": "python",
   "pygments_lexer": "ipython2",
   "version": "2.7.6"
  }
 },
 "nbformat": 4,
 "nbformat_minor": 5
}
