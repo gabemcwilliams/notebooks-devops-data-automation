{
 "cells": [
  {
   "cell_type": "code",
   "execution_count": null,
   "id": "7becf68ec7056ec3",
   "metadata": {
    "ExecuteTime": {
     "end_time": "2023-11-10T22:21:15.279978400Z",
     "start_time": "2023-11-10T22:21:15.096545200Z"
    }
   },
   "outputs": [],
   "source": [
    "# Data Shaping\n",
    "import polars as pl\n",
    "import datetime as dt\n",
    "\n",
    "# API Calls\n",
    "import requests\n",
    "from requests.structures import CaseInsensitiveDict\n",
    "\n",
    "# File Handling and Export\n",
    "import json\n",
    "import os\n",
    "import hvac\n",
    "import traceback"
   ]
  },
  {
   "cell_type": "code",
   "execution_count": null,
   "id": "582087240431db1c",
   "metadata": {
    "ExecuteTime": {
     "end_time": "2023-11-10T22:21:15.363592800Z",
     "start_time": "2023-11-10T22:21:15.104208300Z"
    }
   },
   "outputs": [],
   "source": [
    "def read_secret(mount_point, path):\n",
    "    ca_path = os.environ.get(\"SSL_CERT_FILE\")\n",
    "    client = hvac.Client(verify=ca_path)\n",
    "    resp = client.kv.v2.read_secret(mount_point=mount_point, path=f'/{path}')\n",
    "    secret = resp['data']['data']\n",
    "\n",
    "    return secret"
   ]
  },
  {
   "cell_type": "code",
   "execution_count": null,
   "id": "bdc3b8b12a5aa4a0",
   "metadata": {
    "ExecuteTime": {
     "end_time": "2023-11-10T22:21:15.364562600Z",
     "start_time": "2023-11-10T22:21:15.118308300Z"
    }
   },
   "outputs": [],
   "source": [
    "def __create_token(config):\n",
    "    try:\n",
    "        # call token api url\n",
    "        token_uri = f'{config[\"base_uri\"]}/auth/oauth/token'\n",
    "\n",
    "        # construct header\n",
    "        headers = CaseInsensitiveDict()\n",
    "        headers[\"Content-Type\"] = \"application/x-www-form-urlencoded\"\n",
    "\n",
    "        # construct req body\n",
    "        data = CaseInsensitiveDict()\n",
    "        data[\"grant_type\"] = \"password\"\n",
    "        data[\"username\"] = config[\"api_key\"]\n",
    "        data[\"password\"] = config[\"api_secret\"]\n",
    "\n",
    "        # request content response\n",
    "        resp = requests.post(token_uri, headers=headers, data=data, auth=(\"public-client\", \"public\"))\n",
    "        content = resp.content.decode(\"utf-8\")\n",
    "        c_dict = json.loads(content)\n",
    "\n",
    "        return {\n",
    "            \"access_token\": c_dict[\"access_token\"],\n",
    "            \"result\": {\n",
    "                \"job_title\": config[\"title\"],\n",
    "                \"status_code\": 200,\n",
    "                \"message\": \"Success\"\n",
    "            }\n",
    "        }\n",
    "\n",
    "    except Exception as e:\n",
    "        return {\n",
    "            \"access_token\": \"error\",\n",
    "            \"result\": {\n",
    "                \"job_title\": config[\"title\"],\n",
    "                \"status_code\": 500,\n",
    "                \"message\": traceback.format_exc()\n",
    "            }\n",
    "        }"
   ]
  },
  {
   "cell_type": "code",
   "execution_count": null,
   "id": "b5d76919962ded25",
   "metadata": {
    "ExecuteTime": {
     "end_time": "2023-11-10T22:21:15.365565200Z",
     "start_time": "2023-11-10T22:21:15.144110300Z"
    }
   },
   "outputs": [],
   "source": [
    "def __api_pagination(config, url):\n",
    "    try:\n",
    "        # construct header\n",
    "        headers = CaseInsensitiveDict()\n",
    "        headers[\"Authorization\"] = f'Bearer {config[\"base_uri\"]}'\n",
    "        headers[\"Content-Type\"] = \"application/json\"\n",
    "\n",
    "        # construct req body\n",
    "        data = ''\n",
    "\n",
    "        print(f'Request URL: {url}')\n",
    "\n",
    "        resp = requests.get(url, headers=headers, data=data)\n",
    "        content = resp.content.decode('utf-8')\n",
    "        print(content)\n",
    "        c_dict = json.loads(content)\n",
    "\n",
    "        return {\n",
    "            \"data\": c_dict,\n",
    "            \"result\": {\n",
    "                \"status_code\": 200,\n",
    "                \"task_title\": config[\"title\"],\n",
    "                \"message\": \"Success\"\n",
    "            }\n",
    "        }\n",
    "\n",
    "    except Exception as e:\n",
    "        return {\n",
    "            \"result\": {\n",
    "                \"job_title\": config[\"title\"],\n",
    "                \"status_code\": 500,\n",
    "                \"message\": traceback.format_exc()\n",
    "            }\n",
    "        }"
   ]
  },
  {
   "cell_type": "code",
   "execution_count": null,
   "id": "fb9c0bebef9352e0",
   "metadata": {
    "ExecuteTime": {
     "end_time": "2023-11-10T22:21:15.365565200Z",
     "start_time": "2023-11-10T22:21:15.158445300Z"
    }
   },
   "outputs": [],
   "source": [
    "secrets = read_secret(mount_point=\"api\",\n",
    "                      path=\"datto_rmm/systems_example_co\")"
   ]
  },
  {
   "cell_type": "code",
   "execution_count": null,
   "id": "b14bbf7d38ee5f19",
   "metadata": {
    "ExecuteTime": {
     "end_time": "2023-11-10T22:21:15.365565200Z",
     "start_time": "2023-11-10T22:21:15.203963800Z"
    }
   },
   "outputs": [],
   "source": [
    "def create_devices_dataframe(config):\n",
    "    try:\n",
    "        # Create Devices DataFrame\n",
    "        request_url = f'{config[\"base_uri\"]}/api/v2/account/devices'\n",
    "        data = __api_pagination(config, request_url)\n",
    "        c_dict = data[\"data\"]\n",
    "        return c_dict\n",
    "    except Exception as e:\n",
    "        print(e)\n",
    "\n"
   ]
  },
  {
   "cell_type": "code",
   "execution_count": null,
   "id": "151ae9eda88bd0",
   "metadata": {
    "ExecuteTime": {
     "end_time": "2023-11-10T22:21:15.365565200Z",
     "start_time": "2023-11-10T22:21:15.209733400Z"
    }
   },
   "outputs": [],
   "source": [
    "secrets[\"title\"] = \"datto_rmm_api_devices\""
   ]
  },
  {
   "cell_type": "code",
   "execution_count": null,
   "id": "cfd201e8c13ff5f",
   "metadata": {
    "ExecuteTime": {
     "end_time": "2023-11-10T22:21:16.143003Z",
     "start_time": "2023-11-10T22:21:15.234252100Z"
    }
   },
   "outputs": [],
   "source": [
    "secrets.update(__create_token(secrets))"
   ]
  },
  {
   "cell_type": "code",
   "execution_count": null,
   "id": "10d9763a04ee713",
   "metadata": {
    "ExecuteTime": {
     "end_time": "2023-11-10T22:21:16.677359900Z",
     "start_time": "2023-11-10T22:21:16.144998Z"
    }
   },
   "outputs": [],
   "source": [
    "result = create_devices_dataframe(secrets)"
   ]
  },
  {
   "cell_type": "code",
   "execution_count": null,
   "id": "7ff01e5a503e395f",
   "metadata": {
    "ExecuteTime": {
     "end_time": "2023-11-10T22:21:47.850320800Z",
     "start_time": "2023-11-10T22:21:47.751844800Z"
    }
   },
   "outputs": [],
   "source": [
    "result"
   ]
  },
  {
   "cell_type": "code",
   "execution_count": null,
   "id": "4c4817b5e9e2595a",
   "metadata": {
    "ExecuteTime": {
     "end_time": "2023-11-10T22:27:19.482252300Z",
     "start_time": "2023-11-10T22:27:19.444907600Z"
    }
   },
   "outputs": [],
   "source": [
    "(secrets['access_token'])"
   ]
  },
  {
   "cell_type": "raw",
   "id": "19f369b62470499c",
   "metadata": {
    "collapsed": false
   },
   "source": [
    "\n",
    "        # iterate and combine remaining pages\n",
    "        df = pd.DataFrame(c_dict[\"devices\"])\n",
    "        while c_dict[\"pageDetails\"][\"nextPageUrl\"]:\n",
    "            next_page = c_dict[\"pageDetails\"][\"nextPageUrl\"]\n",
    "            data = self.__api_pagination(next_page)\n",
    "            c_dict = data[\"data\"]\n",
    "            print(c_dict[\"pageDetails\"][\"nextPageUrl\"])\n",
    "            df_current_page = pd.DataFrame(c_dict[\"devices\"])\n",
    "            df = pd.concat([df, df_current_page], ignore_index=False)\n",
    "\n",
    "        df['lastAuditDate'] = pd.to_datetime(df['lastAuditDate'], unit='ms', errors='coerce')\n",
    "\n",
    "        df['lastSeen'] = pd.to_datetime(df['lastSeen'], unit='ms', errors='coerce')\n",
    "\n",
    "        df['creationDate'] = pd.to_datetime(df['creationDate'], unit='ms', errors='coerce')\n",
    "\n",
    "        df['lastReboot'] = pd.to_datetime(df['lastReboot'], unit='ms', errors='coerce')\n",
    "\n",
    "        return {\n",
    "            \"data\": df,\n",
    "            \"result\": {\n",
    "                \"job_title\": config[\"title\"],\n",
    "                \"status_code\": 200,\n",
    "                \"message\": \"DataFrame created successfully\"\n",
    "            }\n",
    "        }\n",
    "\n",
    "    except Exception as e:\n",
    "        return {\n",
    "            \"result\": {\n",
    "                \"job_title\": config[\"title\"],\n",
    "                \"status_code\": 500,\n",
    "                \"message\": traceback.format_exc()\n",
    "            }\n",
    "        }\n"
   ]
  }
 ],
 "metadata": {
  "kernelspec": {
   "display_name": "Python 3",
   "language": "python",
   "name": "python3"
  },
  "language_info": {
   "codemirror_mode": {
    "name": "ipython",
    "version": 2
   },
   "file_extension": ".py",
   "mimetype": "text/x-python",
   "name": "python",
   "nbconvert_exporter": "python",
   "pygments_lexer": "ipython2",
   "version": "2.7.6"
  }
 },
 "nbformat": 4,
 "nbformat_minor": 5
}
