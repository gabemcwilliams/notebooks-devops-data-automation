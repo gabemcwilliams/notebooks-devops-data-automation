{
 "cells": [
  {
   "cell_type": "code",
   "execution_count": null,
   "id": "445d1df97162c32d",
   "metadata": {
    "ExecuteTime": {
     "end_time": "2023-11-22T19:47:22.910288800Z",
     "start_time": "2023-11-22T19:47:22.863267800Z"
    }
   },
   "outputs": [],
   "source": [
    "import luigi\n",
    "import time\n",
    "import datetime as dt\n",
    "import yaml\n",
    "import pandas as pd\n",
    "import os"
   ]
  },
  {
   "cell_type": "code",
   "execution_count": null,
   "id": "23ba4a0ccb436aff",
   "metadata": {
    "ExecuteTime": {
     "end_time": "2023-11-22T19:47:23.591701900Z",
     "start_time": "2023-11-22T19:47:23.558189Z"
    }
   },
   "outputs": [],
   "source": []
  },
  {
   "cell_type": "code",
   "execution_count": null,
   "id": "3b11fb82e6bc6ee6",
   "metadata": {
    "ExecuteTime": {
     "end_time": "2023-11-22T20:02:22.497652400Z",
     "start_time": "2023-11-22T20:02:22.259692900Z"
    }
   },
   "outputs": [],
   "source": [
    "def __find_config_docs__(path):\n",
    "    for root, dirs, files in os.walk(path):\n",
    "        for file in files:\n",
    "\n",
    "            if file.endswith(\".yaml\"):\n",
    "                data = root + \"/\" + file\n",
    "\n",
    "    return {\n",
    "        \"data\": data,\n",
    "        \"result\": {\n",
    "            \"status_message\": \"Success\",\n",
    "            \"status_code\": 200\n",
    "        }\n",
    "    }"
   ]
  },
  {
   "cell_type": "code",
   "execution_count": null,
   "id": "3b15b8943ca652cb",
   "metadata": {
    "ExecuteTime": {
     "end_time": "2023-11-22T20:02:34.470551200Z",
     "start_time": "2023-11-22T20:02:34.414584400Z"
    }
   },
   "outputs": [],
   "source": [
    "def __task_configs__(config_doc):\n",
    "    yaml_jobs = []\n",
    "    try:\n",
    "        with open(config_doc[\"data\"], \"r\") as stream:\n",
    "            yaml_config = yaml.safe_load(stream)\n",
    "\n",
    "        return {\n",
    "            \"data\": yaml_config,\n",
    "            \"result\": {\n",
    "                \"status_message\": \"Success\",\n",
    "                \"status_code\": 200,\n",
    "\n",
    "            }\n",
    "        }\n",
    "\n",
    "    except Exception as e:\n",
    "        return {\n",
    "            \"result\": {\n",
    "                \"status_code\": 400,\n",
    "                \"error\": str(e)\n",
    "            }\n",
    "        }"
   ]
  },
  {
   "cell_type": "code",
   "execution_count": null,
   "id": "initial_id",
   "metadata": {
    "ExecuteTime": {
     "end_time": "2023-11-22T20:02:34.981689200Z",
     "start_time": "2023-11-22T20:02:34.939997200Z"
    }
   },
   "outputs": [],
   "source": [
    "config_file = __yaml_jobs__((__find_config_docs__(\"./\")))\n",
    "\n",
    "print(config_file)\n"
   ]
  },
  {
   "cell_type": "code",
   "execution_count": null,
   "id": "b7c8398ac9b5059f",
   "metadata": {
    "ExecuteTime": {
     "start_time": "2023-11-16T19:08:24.257757700Z"
    }
   },
   "outputs": [],
   "source": [
    "\n",
    "def __add_data_timestamp__(tasks):\n",
    "    try:\n",
    "        stamped_tasks = []\n",
    "\n",
    "        utc_now = dt.datetime.utcnow()  # datetime for cataloging\n",
    "\n",
    "        data_timestamps = {\n",
    "\n",
    "            \"_IN_DATA_TIMESTAMP\": utc_now.strftime('%Y-%m-%d %H:%M:%S'),  # timestamp found inside data\n",
    "            \"_OUT_DATA_TIMESTAMP\": utc_now.strftime('%Y_%m_%d_%H%M%S'),  # timestamp found in file\n",
    "            \"_YEAR_DATA_TIMESTAMP\": f'{utc_now.year}',  # folder and path dates\n",
    "            \"_MONTH_DATA_TIMESTAMP\": f'{utc_now.month:02d}',  # folder and path dates\n",
    "            \"_DAY_DATA_TIMESTAMP\": f'{utc_now.day:02d}',  # folder and path dates\n",
    "\n",
    "        }\n",
    "\n",
    "        for task in tasks:\n",
    "            updated_task = task.copy()\n",
    "            updated_task[\"TIMESTAMPS\"] = data_timestamps\n",
    "            stamped_tasks.append(updated_task)\n",
    "\n",
    "        return {\n",
    "            \"data\": stamped_tasks,\n",
    "            \"result\": {\n",
    "                \"status_message\": \"Success\",\n",
    "                \"status_code\": 200\n",
    "            }\n",
    "        }\n",
    "\n",
    "    except Exception as e:\n",
    "        return {\n",
    "            \"result\": {\n",
    "                \"status_message\": str(e),\n",
    "                \"status_code\": 500\n",
    "            }\n",
    "        }\n"
   ]
  },
  {
   "cell_type": "code",
   "execution_count": null,
   "id": "7497e680b4cf09ae",
   "metadata": {
    "ExecuteTime": {
     "start_time": "2023-11-16T19:08:26.277838400Z"
    }
   },
   "outputs": [],
   "source": [
    "\n",
    "def lambda_handler(event, context):\n",
    "    results_list = []\n",
    "    task_config = {}"
   ]
  },
  {
   "cell_type": "code",
   "execution_count": null,
   "id": "1a91f8b94cc6a267",
   "metadata": {},
   "outputs": [],
   "source": [
    "class ExtractDattoAPI(luigi.Task):\n",
    "\n",
    "\n",
    "def output(self):\n",
    "    return luigi.LocalTarget(\"raw_data.\")\n",
    "\n",
    "\n",
    "def run(self):\n",
    "    pass\n"
   ]
  },
  {
   "cell_type": "code",
   "execution_count": null,
   "id": "cc18a11e2ee392aa",
   "metadata": {},
   "outputs": [],
   "source": []
  },
  {
   "cell_type": "code",
   "execution_count": null,
   "id": "4794a1d54ca50ca9",
   "metadata": {},
   "outputs": [],
   "source": []
  },
  {
   "cell_type": "code",
   "execution_count": null,
   "id": "c004567aeab0afb0",
   "metadata": {},
   "outputs": [],
   "source": [
    "\n",
    "#####################  API [EXTRACT] - datto_rmm - devices #########################################################\n",
    "\n",
    "try:\n",
    "    task_config = context[0]\n",
    "    start = time.perf_counter()\n",
    "    print(announce_start(task_config))\n",
    "\n",
    "    # create DataFrame from API\n",
    "    datto = DattoRMM(task_config)\n",
    "\n",
    "    data = datto.create_devices_dataframe()\n",
    "    result = data[\"result\"]\n",
    "    results_list.append(result)\n",
    "    df = data[\"data\"]\n",
    "\n",
    "    # # add marker columns\n",
    "    df['_SOURCE_PRODUCT'] = task_config[\"DETAILS\"][\"PRODUCT\"]\n",
    "    df['_SOURCE_SUBJECT'] = task_config[\"DETAILS\"][\"SUBJECT\"]\n",
    "    df['_SOURCE_ORIGIN'] = task_config[\"ORIGIN\"][\"TYPE\"]\n",
    "    df['_UTC_EXTRACTION_DATETIME'] = task_config[\"TIMESTAMPS\"][\"_IN_DATA_TIMESTAMP\"]\n",
    "\n",
    "except Exception as e:\n",
    "    result = {\n",
    "        \"task_name\": task_config[\"DETAILS\"]['TITLE'],\n",
    "        \"status_code\": 500,\n",
    "        \"message\": f\"Error: {e}\",\n",
    "    }\n",
    "    print(result)\n",
    "    exit(1)\n",
    "\n",
    "end = time.perf_counter()\n",
    "print(announce_end(task_config, start, end, result))\n",
    "print(\"*\" * 150)"
   ]
  },
  {
   "cell_type": "code",
   "execution_count": null,
   "id": "71d77891d77f8a24",
   "metadata": {},
   "outputs": [],
   "source": [
    "\n",
    "\n",
    "#####################  DataFrame [TRANSFORM] - datto_rmm - devices  ################################################\n",
    "\n",
    "try:\n",
    "\n",
    "    task_config = context[1]\n",
    "    start = time.perf_counter()\n",
    "    print(announce_start(task_config))\n",
    "\n",
    "    data = transform_devices_dataframe(df)\n",
    "    result = data[\"result\"]\n",
    "    df = data[\"data\"]\n",
    "\n",
    "except Exception as e:\n",
    "    result = {\n",
    "        \"task_name\": task_config[\"DETAILS\"]['TITLE'],\n",
    "        \"status_code\": 500,\n",
    "        \"message\": f\"Error: {e}\",\n",
    "    }\n",
    "\n",
    "    print(result)\n",
    "    exit(1)\n",
    "end = time.perf_counter()\n",
    "print(announce_end(task_config, start, end, result))\n",
    "print(\"*\" * 150)"
   ]
  },
  {
   "cell_type": "code",
   "execution_count": null,
   "id": "f3b399e9f2b90a9f",
   "metadata": {},
   "outputs": [],
   "source": [
    "\n",
    "\n",
    "####################### Minio [LOAD] - datto_rmm - devices  ########################################################\n",
    "\n",
    "try:\n",
    "    task_config = context[2]\n",
    "    start = time.perf_counter()\n",
    "    print(announce_start(task_config))\n",
    "\n",
    "    minio = MinioLoad(df, task_config)\n",
    "    data = minio.upload_to_minio()\n",
    "    result = data[\"result\"]\n",
    "    results_list.append(result)\n",
    "\n",
    "except Exception as e:\n",
    "    result = {\n",
    "        \"task_name\": task_config[\"DETAILS\"]['TITLE'],\n",
    "        \"status_code\": 500,\n",
    "        \"message\": f\"Error: {e}\",\n",
    "    }\n",
    "    print(result)\n",
    "    exit(1)\n",
    "print(announce_end(task_config, start, end, result))\n",
    "end = time.perf_counter()\n",
    "print(\"*\" * 150)\n"
   ]
  },
  {
   "cell_type": "code",
   "execution_count": null,
   "id": "542eaf0355eae08f",
   "metadata": {},
   "outputs": [],
   "source": [
    "\n",
    "\n",
    "####################### Postgres [LOAD] - datto_rmm - devices  #####################################################\n",
    "\n",
    "try:\n",
    "\n",
    "    task_config = context[3]\n",
    "    start = time.perf_counter()\n",
    "    print(announce_start(task_config))\n",
    "    postgres = PostgresLoad(df, task_config)\n",
    "    data = postgres.load_to_postgres()\n",
    "\n",
    "    result = data[\"result\"]\n",
    "    results_list.append(result)\n",
    "\n",
    "except Exception as e:\n",
    "    result = {\n",
    "        \"task_name\": task_config[\"DETAILS\"]['TITLE'],\n",
    "        \"status_code\": 500,\n",
    "        \"message\": f\"Error: {e}\",\n",
    "    }\n",
    "    print(result)\n",
    "    exit(1)\n",
    "end = time.perf_counter()\n",
    "print(announce_end(task_config, start, end, result))\n",
    "print(\"*\" * 150)"
   ]
  },
  {
   "cell_type": "code",
   "execution_count": null,
   "id": "ce5817bd7ec03001",
   "metadata": {},
   "outputs": [],
   "source": [
    "\n",
    "#####################  ********** FINAL RESULTS ************   #####################################################\n",
    "\n",
    "print(\"#\" * 75)\n",
    "print(\"\\nFINAL RESULTS\\n\")\n",
    "print(\"--------------------------------\")\n",
    "\n",
    "for result in results_list:\n",
    "    print(\"\\n\")\n",
    "    print(json.dumps(result, indent=4))\n",
    "    print(\"---------\")\n",
    "\n",
    "print(\"\\n\")\n",
    "print(\"#\" * 75)\n",
    "\n",
    "exit(0)\n"
   ]
  }
 ],
 "metadata": {
  "kernelspec": {
   "display_name": "Python 3",
   "language": "python",
   "name": "python3"
  },
  "language_info": {
   "codemirror_mode": {
    "name": "ipython",
    "version": 2
   },
   "file_extension": ".py",
   "mimetype": "text/x-python",
   "name": "python",
   "nbconvert_exporter": "python",
   "pygments_lexer": "ipython2",
   "version": "2.7.6"
  }
 },
 "nbformat": 4,
 "nbformat_minor": 5
}
