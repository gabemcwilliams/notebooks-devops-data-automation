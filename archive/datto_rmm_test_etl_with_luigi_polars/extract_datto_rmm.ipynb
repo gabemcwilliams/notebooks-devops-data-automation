{
 "cells": [
  {
   "cell_type": "code",
   "execution_count": null,
   "id": "bc170c2be2770749",
   "metadata": {
    "ExecuteTime": {
     "end_time": "2023-12-08T06:29:00.287436200Z",
     "start_time": "2023-12-08T06:28:58.380379500Z"
    }
   },
   "outputs": [],
   "source": [
    "# Data Shaping\n",
    "import pandas as pd\n",
    "import datetime as dt\n",
    "\n",
    "# Logging\n",
    "import logging\n",
    "\n",
    "# API Calls\n",
    "import requests\n",
    "from requests.structures import CaseInsensitiveDict\n",
    "\n",
    "# File Handling and Export\n",
    "import json\n",
    "import os\n",
    "import hvac\n",
    "\n",
    "# Error Handling\n",
    "import traceback\n",
    "import inspect"
   ]
  },
  {
   "cell_type": "code",
   "execution_count": null,
   "id": "115f209438e4bc21",
   "metadata": {
    "ExecuteTime": {
     "end_time": "2023-12-08T06:29:20.363572400Z",
     "start_time": "2023-12-08T06:29:20.339434900Z"
    }
   },
   "outputs": [],
   "source": [
    "config = {\n",
    "    \"job_title\": \"datto_rmm_api_devices\",\n",
    "    \"logs_dir\": \"d:/logs\",\n",
    "    \"job_timestamp\": dt.datetime.utcnow().strftime(\"%Y_%m_%d_%H%M%S\")\n",
    "}"
   ]
  },
  {
   "cell_type": "code",
   "execution_count": null,
   "id": "657dca461e801e3f",
   "metadata": {
    "ExecuteTime": {
     "end_time": "2023-12-08T06:29:21.192384100Z",
     "start_time": "2023-12-08T06:29:21.165010300Z"
    }
   },
   "outputs": [],
   "source": [
    "logger = logging.getLogger(config[\"job_title\"])\n",
    "\n",
    "logger.setLevel(logging.DEBUG)\n",
    "\n",
    "SUCCESS = 15\n",
    "logging.addLevelName(SUCCESS, 'SUCCESS')\n",
    "\n",
    "filename = f'{config[\"logs_dir\"]}/{config[\"job_title\"]}/{config[\"job_title\"]}_{dt.datetime.utcnow().strftime(\"%Y_%m_%d\")}.log'\n",
    "\n",
    "fileHandler = logging.FileHandler(filename, mode=\"a\")  #'a' for append you can use 'w' for write\n",
    "\n",
    "formatter = logging.Formatter(\n",
    "    \"%(asctime)s,%(levelname)s,[%(lineno)d],%(funcName)s(),%(message)s\",\n",
    "    \"%Y-%m-%d %H:%M:%S\")\n",
    "\n",
    "fileHandler.setFormatter(formatter)\n",
    "logger.addHandler(fileHandler)"
   ]
  },
  {
   "cell_type": "code",
   "execution_count": null,
   "id": "7fc6ac4afd453d53",
   "metadata": {
    "ExecuteTime": {
     "end_time": "2023-12-08T06:29:23.513319Z",
     "start_time": "2023-12-08T06:29:22.888143600Z"
    }
   },
   "outputs": [],
   "source": [
    "result_ok = {\n",
    "    \"status_code\": 200,\n",
    "    \"task_title\": config[\"job_title\"],\n",
    "    \"function\": inspect.stack()[0][3],\n",
    "    \"message\": \"Success\"\n",
    "}\n",
    "\n",
    "result_error = {\n",
    "    \"job_title\": config[\"job_title\"],\n",
    "    \"status_code\": 500,\n",
    "    \"function\": inspect.stack()[0][3],\n",
    "    \"message\": traceback.format_exc()\n",
    "}"
   ]
  },
  {
   "cell_type": "code",
   "execution_count": null,
   "id": "3a218ed2584ed2cd",
   "metadata": {
    "ExecuteTime": {
     "end_time": "2023-12-08T06:29:23.548232Z",
     "start_time": "2023-12-08T06:29:23.516202Z"
    }
   },
   "outputs": [],
   "source": [
    "def read_secret(path):\n",
    "    ca_path = os.environ.get(\"SSL_CERT_FILE\")\n",
    "    \n",
    "    client = hvac.Client(verify=ca_path)\n",
    "    # resp = client.read(path) \n",
    "    print(client.is_authenticated())\n",
    "    # return resp\n",
    "    resp = client.kv.v2.read_secret( path=f'/{path}')\n",
    "    secret = resp['data']['data']\n",
    "\n",
    "    return secret"
   ]
  },
  {
   "cell_type": "code",
   "execution_count": null,
   "id": "b5755af997fabd12",
   "metadata": {
    "ExecuteTime": {
     "end_time": "2023-12-08T06:29:24.940684700Z",
     "start_time": "2023-12-08T06:29:24.358051600Z"
    }
   },
   "outputs": [],
   "source": [
    "read_secret(\"secret/localhost/minio/flask\")"
   ]
  },
  {
   "cell_type": "code",
   "execution_count": null,
   "id": "5917b1b90994edca",
   "metadata": {
    "ExecuteTime": {
     "end_time": "2023-12-08T06:16:12.008851700Z",
     "start_time": "2023-12-08T06:16:11.973240600Z"
    }
   },
   "outputs": [],
   "source": [
    "def __create_token(config):\n",
    "    try:\n",
    "        # call token api url\n",
    "        token_uri = f'{config[\"base_uri\"]}/auth/oauth/token'\n",
    "\n",
    "        # construct header\n",
    "        headers = CaseInsensitiveDict()\n",
    "        headers[\"Content-Type\"] = \"application/x-www-form-urlencoded\"\n",
    "\n",
    "        # construct req body\n",
    "        data = CaseInsensitiveDict()\n",
    "        data[\"grant_type\"] = \"password\"\n",
    "        data[\"username\"] = config[\"api_key\"]\n",
    "        data[\"password\"] = config[\"api_secret\"]\n",
    "\n",
    "        # request content response\n",
    "        resp = requests.post(token_uri, headers=headers, data=data, auth=(\"public-client\", \"public\"))\n",
    "        content = resp.content.decode(\"utf-8\")\n",
    "        c_dict = json.loads(content)\n",
    "\n",
    "        return {\n",
    "            \"access_token\": c_dict[\"access_token\"],\n",
    "            \"result\": result_ok\n",
    "        }\n",
    "\n",
    "    except Exception as e:\n",
    "        logger.error(e)\n",
    "        return {\n",
    "            \"result\": result_error\n",
    "        }\n"
   ]
  },
  {
   "cell_type": "code",
   "execution_count": null,
   "id": "716d14d2cf8122cc",
   "metadata": {
    "ExecuteTime": {
     "end_time": "2023-12-08T06:16:12.109339300Z",
     "start_time": "2023-12-08T06:16:12.006842700Z"
    }
   },
   "outputs": [],
   "source": [
    "def __api_pagination(config, url):\n",
    "    try:\n",
    "        # construct header\n",
    "        headers = CaseInsensitiveDict()\n",
    "        headers[\"Authorization\"] = f'Bearer {config[\"access_token\"]}'\n",
    "        headers[\"Content-Type\"] = \"application/json\"\n",
    "\n",
    "        # construct req body\n",
    "        data = ''\n",
    "\n",
    "        print(f'Request URL: {url}')\n",
    "\n",
    "        resp = requests.get(url, headers=headers, data=data)\n",
    "        content = resp.content.decode('utf-8')\n",
    "        c_dict = json.loads(content)\n",
    "\n",
    "        return {\n",
    "            \"data\": c_dict,\n",
    "            \"result\": result_ok\n",
    "        }\n",
    "\n",
    "    except Exception as e:\n",
    "        logger.error(e)\n",
    "        return {\n",
    "            \"result\": result_error\n",
    "        }"
   ]
  },
  {
   "cell_type": "code",
   "execution_count": null,
   "id": "d141b8e8a9ab8f32",
   "metadata": {
    "ExecuteTime": {
     "end_time": "2023-12-08T06:16:12.121327100Z",
     "start_time": "2023-12-08T06:16:12.047245800Z"
    }
   },
   "outputs": [],
   "source": [
    "def create_devices_dataframe(config):\n",
    "    try:\n",
    "        # Create Devices DataFrame\n",
    "        request_url = f'{config[\"base_uri\"]}/api/v2/account/devices'\n",
    "        data = __api_pagination(config, request_url)\n",
    "        c_dict = data[\"data\"]\n",
    "\n",
    "        # iterate and combine remaining pages\n",
    "        df = pd.DataFrame(c_dict[\"devices\"])\n",
    "        while c_dict[\"pageDetails\"][\"nextPageUrl\"]:\n",
    "            next_page = c_dict[\"pageDetails\"][\"nextPageUrl\"]\n",
    "            data = __api_pagination(config, next_page)\n",
    "            c_dict = data[\"data\"]\n",
    "            print(c_dict[\"pageDetails\"][\"nextPageUrl\"])\n",
    "            df_current_page = pd.DataFrame(c_dict[\"devices\"])\n",
    "            df = pd.concat([df, df_current_page], ignore_index=False)\n",
    "\n",
    "        df['lastAuditDate'] = pd.to_datetime(df['lastAuditDate'], unit='ms', errors='coerce')\n",
    "\n",
    "        df['lastSeen'] = pd.to_datetime(df['lastSeen'], unit='ms', errors='coerce')\n",
    "\n",
    "        df['creationDate'] = pd.to_datetime(df['creationDate'], unit='ms', errors='coerce')\n",
    "\n",
    "        df['lastReboot'] = pd.to_datetime(df['lastReboot'], unit='ms', errors='coerce')\n",
    "\n",
    "        logger.log(SUCCESS, \"dataframe created\")\n",
    "\n",
    "        return {\n",
    "            \"data\": c_dict,\n",
    "            \"result\": result_ok\n",
    "        }\n",
    "\n",
    "    except Exception as e:\n",
    "        logger.error(e)\n",
    "        return {\n",
    "            \"result\": result_error\n",
    "        }\n",
    "\n"
   ]
  },
  {
   "cell_type": "code",
   "execution_count": null,
   "id": "49816a1fc922187d",
   "metadata": {
    "ExecuteTime": {
     "end_time": "2023-12-08T06:16:12.686062Z",
     "start_time": "2023-12-08T06:16:12.096841700Z"
    }
   },
   "outputs": [],
   "source": [
    "config.update(read_secret(mount_point=\"api\",\n",
    "                          path=\"datto_rmm/systems_example_co\"))\n",
    "\n",
    "config.update(__create_token(config))"
   ]
  },
  {
   "cell_type": "code",
   "execution_count": null,
   "id": "f14da367497c1a45",
   "metadata": {
    "ExecuteTime": {
     "end_time": "2023-12-08T06:16:12.692937100Z",
     "start_time": "2023-12-08T06:16:12.688202700Z"
    }
   },
   "outputs": [],
   "source": [
    "try:\n",
    "    os.mkdir(f'{config[\"logs_dir\"]}/{config[\"title\"]}')\n",
    "except:\n",
    "    pass"
   ]
  },
  {
   "cell_type": "code",
   "execution_count": null,
   "id": "abc8e427f8b3564f",
   "metadata": {
    "ExecuteTime": {
     "start_time": "2023-12-08T06:16:12.692937100Z"
    }
   },
   "outputs": [],
   "source": []
  },
  {
   "cell_type": "code",
   "execution_count": null,
   "id": "a01a7747c826dbd1",
   "metadata": {
    "ExecuteTime": {
     "start_time": "2023-12-08T06:16:12.696955500Z"
    }
   },
   "outputs": [],
   "source": []
  },
  {
   "cell_type": "code",
   "execution_count": null,
   "id": "6edb81d9a7b05685",
   "metadata": {
    "ExecuteTime": {
     "start_time": "2023-12-08T06:16:12.702546200Z"
    }
   },
   "outputs": [],
   "source": [
    "result = create_devices_dataframe(config)"
   ]
  },
  {
   "cell_type": "code",
   "execution_count": null,
   "id": "71024b1e35a94255",
   "metadata": {
    "ExecuteTime": {
     "start_time": "2023-12-08T06:16:12.711297200Z"
    }
   },
   "outputs": [],
   "source": [
    "result[\"result\"]"
   ]
  },
  {
   "cell_type": "code",
   "execution_count": null,
   "id": "29b9b90f04568f81",
   "metadata": {
    "ExecuteTime": {
     "end_time": "2023-12-08T06:16:12.751563600Z",
     "start_time": "2023-12-08T06:16:12.711935900Z"
    }
   },
   "outputs": [],
   "source": [
    "import luigi\n",
    "df  = pd.DataFrame(result[\"data\"])"
   ]
  },
  {
   "cell_type": "code",
   "execution_count": null,
   "id": "94ea3c46a0bdc093",
   "metadata": {
    "ExecuteTime": {
     "start_time": "2023-12-08T06:16:12.712947500Z"
    }
   },
   "outputs": [],
   "source": []
  }
 ],
 "metadata": {
  "kernelspec": {
   "display_name": "Python 3",
   "language": "python",
   "name": "python3"
  },
  "language_info": {
   "codemirror_mode": {
    "name": "ipython",
    "version": 2
   },
   "file_extension": "[REDACTED][REDACTED]/.py",
   "mimetype": "text/x-python",
   "name": "python",
   "nbconvert_exporter": "python",
   "pygments_lexer": "ipython2",
   "version": "2.7.6"
  }
 },
 "nbformat": 4,
 "nbformat_minor": 5
}
