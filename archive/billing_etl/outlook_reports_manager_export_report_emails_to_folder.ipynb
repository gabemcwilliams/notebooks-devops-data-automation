{
 "cells": [
  {
   "cell_type": "markdown",
   "metadata": {
    "collapsed": false,
    "pycharm": {
     "name": "#%% md\n"
    }
   },
   "source": [
    "<h1> Outlook - Pull and Extract Report Email Attachments </h1>"
   ]
  },
  {
   "cell_type": "code",
   "execution_count": null,
   "metadata": {
    "pycharm": {
     "name": "#%%\n"
    }
   },
   "outputs": [],
   "source": [
    "import os\n",
    "import datetime as dt\n",
    "\n",
    "import pandas as pd\n",
    "import numpy as np\n",
    "import re"
   ]
  },
  {
   "cell_type": "markdown",
   "metadata": {
    "collapsed": false,
    "pycharm": {
     "name": "#%% md\n"
    }
   },
   "source": [
    "### Root Export Folder and Dictionary Directory"
   ]
  },
  {
   "cell_type": "code",
   "execution_count": null,
   "metadata": {
    "pycharm": {
     "name": "#%%\n"
    }
   },
   "outputs": [],
   "source": [
    "root_export_dir = 'D:/data_sets/archive'\n",
    "dictionary_dir = 'd:/git/example_infrastructure_data_dev/dictionaries'"
   ]
  },
  {
   "cell_type": "markdown",
   "metadata": {
    "collapsed": false,
    "pycharm": {
     "name": "#%% md\n"
    }
   },
   "source": [
    "# Connect to Outlook Worker"
   ]
  },
  {
   "cell_type": "code",
   "execution_count": null,
   "metadata": {
    "pycharm": {
     "name": "#%%\n"
    }
   },
   "outputs": [],
   "source": [
    "import win32com.client\n",
    "\n",
    "outlook = win32com.client.Dispatch(\"Outlook.Application\").GetNamespace(\"MAPI\")"
   ]
  },
  {
   "cell_type": "markdown",
   "metadata": {
    "collapsed": false,
    "pycharm": {
     "name": "#%% md\n"
    }
   },
   "source": [
    "# Pull all Folders in Reports Manager Email Account"
   ]
  },
  {
   "cell_type": "code",
   "execution_count": null,
   "metadata": {
    "pycharm": {
     "name": "#%%\n"
    }
   },
   "outputs": [],
   "source": [
    "for folders in outlook.Folders:\n",
    "    print(folders)"
   ]
  },
  {
   "cell_type": "markdown",
   "metadata": {
    "collapsed": false,
    "pycharm": {
     "name": "#%% md\n"
    }
   },
   "source": [
    "## Assign all folders variables for iteration later"
   ]
  },
  {
   "cell_type": "code",
   "execution_count": null,
   "metadata": {
    "pycharm": {
     "name": "#%%\n"
    }
   },
   "outputs": [],
   "source": [
    "gmcwilliams = outlook.Folders['gmcwilliams@example.co']\n",
    "inbox = gmcwilliams.Folders['Inbox']\n",
    "reports_archive = inbox.Folders['Reports_Archive']"
   ]
  },
  {
   "cell_type": "code",
   "execution_count": null,
   "metadata": {
    "pycharm": {
     "name": "#%%\n"
    }
   },
   "outputs": [],
   "source": [
    "for folders in reports_archive.Folders:\n",
    "    print(folders)"
   ]
  },
  {
   "cell_type": "markdown",
   "metadata": {
    "collapsed": false,
    "pycharm": {
     "name": "#%% md\n"
    }
   },
   "source": [
    "# Create DataFrame from Reports Manager Email Account"
   ]
  },
  {
   "cell_type": "code",
   "execution_count": null,
   "metadata": {
    "pycharm": {
     "name": "#%%\n"
    }
   },
   "outputs": [],
   "source": [
    "df = pd.read_csv(f'{dictionary_dir}/report_archive_folder_name.dict')\n",
    "report_archive_folder_name_dict = {}\n",
    "for index, row in df.iterrows():\n",
    "    monthNumber = row['monthNumber']\n",
    "    reportMonthFolder = row['reportMonthFolder']\n",
    "    report_archive_folder_name_dict[monthNumber] = reportMonthFolder"
   ]
  },
  {
   "cell_type": "code",
   "execution_count": null,
   "metadata": {
    "pycharm": {
     "name": "#%%\n"
    }
   },
   "outputs": [],
   "source": [
    "def create_month_folder(month):\n",
    "    for k, v in report_archive_folder_name_dict.items():\n",
    "        try:\n",
    "            if month == k:\n",
    "                print(f'Keyword found: {k}')\n",
    "                print(f'Replacement value: {v}')\n",
    "                print('\\n')\n",
    "                return v\n",
    "                break\n",
    "        except Exception as e:\n",
    "            print(e)\n",
    "            break\n",
    "    return month"
   ]
  },
  {
   "cell_type": "code",
   "execution_count": null,
   "metadata": {
    "pycharm": {
     "name": "#%%\n"
    }
   },
   "outputs": [],
   "source": [
    "for folder in reports_archive.Folders:\n",
    "    for innerfolder in folder.Folders:\n",
    "        print(innerfolder)"
   ]
  },
  {
   "cell_type": "code",
   "execution_count": null,
   "metadata": {
    "pycharm": {
     "name": "#%%\n"
    }
   },
   "outputs": [],
   "source": [
    "email_info = []\n",
    "\n",
    "for folder in reports_archive.Folders:\n",
    "    for innerfolder in folder.Folders:\n",
    "\n",
    "        try:\n",
    "            print('before cleaning emails_list')\n",
    "            print(email_info)\n",
    "        except:\n",
    "            pass\n",
    "\n",
    "\n",
    "        messages = innerfolder.Items\n",
    "        messages.Sort('[ReceivedTime]', True)\n",
    "\n",
    "\n",
    "        for message in messages:\n",
    "                message_dict = {}\n",
    "                try:\n",
    "                    message_dict['from'] = message.SenderEmailAddress\n",
    "                except:\n",
    "                    pass\n",
    "\n",
    "                try:\n",
    "                    message_dict['to'] = message.To\n",
    "                except:\n",
    "                    pass\n",
    "\n",
    "                try:\n",
    "                    message_dict['date'] = message.ReceivedTime.strftime(\"%Y-%m-%d %H:%M:%S\")\n",
    "                except:\n",
    "                    pass\n",
    "\n",
    "                try:\n",
    "                    message_dict['subject'] = message.Subject\n",
    "                except:\n",
    "                    pass\n",
    "\n",
    "                try:\n",
    "                    message_dict['body'] = message.Body\n",
    "                except:\n",
    "                    pass\n",
    "\n",
    "\n",
    "\n",
    "                attachments_list = []\n",
    "                for attachment in message.Attachments:\n",
    "                    try:\n",
    "                        attachment_name = str(attachment).lower()\n",
    "                        attachments_list.append(attachment_name)\n",
    "                        #attachment.SaveASFile(path+ '\\\\' + attachment_name)\n",
    "                    except Exception as e:\n",
    "                        print(e)\n",
    "\n",
    "                message_dict['attachments'] = attachments_list\n",
    "                message_dict['messageObject'] = message\n",
    "                # date = message.ReceivedTime.strftime(\"%Y-%m-%d %H:%M:%S\")\n",
    "                # date = dt.datetime.strptime(date,\"%Y-%m-%d %H:%M:%S\")\n",
    "                # year = date.year\n",
    "                # month = date.month\n",
    "                # month_folder = create_month_folder(month)\n",
    "                # export_date = message.ReceivedTime.strftime(\"%Y_%m_%d_%H%M%S\")\n",
    "                # subject = re.sub(r\"[\\|\\']\",\"\",message.Subject)\n",
    "                # try:\n",
    "                #     os.makedirs(f\"{root_export_dir}/report_archives/{year}/{month_folder}\")\n",
    "                # except:\n",
    "                #     pass\n",
    "                # export_file = f\"{root_export_dir}/report_archives/{year}/{month_folder}/{subject}_{export_date}_.msg\"\n",
    "                # print(export_file)\n",
    "                # message.SaveAs(export_file)\n",
    "                message.Close\n",
    "                print(message_dict)\n",
    "                email_info.append(message_dict)\n",
    "\n",
    "\n"
   ]
  },
  {
   "cell_type": "code",
   "execution_count": null,
   "metadata": {
    "pycharm": {
     "name": "#%%\n"
    }
   },
   "outputs": [],
   "source": [
    "df_emails = pd.DataFrame(email_info)"
   ]
  },
  {
   "cell_type": "code",
   "execution_count": null,
   "metadata": {
    "pycharm": {
     "name": "#%%\n"
    }
   },
   "outputs": [],
   "source": [
    "df_emails['date'] = pd.to_datetime(df_emails['date'],errors='coerce')"
   ]
  },
  {
   "cell_type": "code",
   "execution_count": null,
   "metadata": {
    "pycharm": {
     "name": "#%%\n"
    }
   },
   "outputs": [],
   "source": [
    "df_emails"
   ]
  },
  {
   "cell_type": "markdown",
   "metadata": {
    "collapsed": false,
    "pycharm": {
     "name": "#%% md\n"
    }
   },
   "source": [
    "# Shape and Export Email Report attachments"
   ]
  },
  {
   "cell_type": "markdown",
   "metadata": {
    "collapsed": false,
    "pycharm": {
     "name": "#%% md\n"
    }
   },
   "source": [
    "## Standardize Client Names"
   ]
  },
  {
   "cell_type": "code",
   "execution_count": null,
   "metadata": {
    "pycharm": {
     "name": "#%%\n"
    }
   },
   "outputs": [],
   "source": [
    "df = pd.read_csv(f'{dictionary_dir}/client_name_standardization.dict',delimiter='\\t')\n",
    "client_rename_dict = {}\n",
    "for index, row in df.iterrows():\n",
    "    [REDACTED] = row['[REDACTED]']\n",
    "    currentName = row['currentName']\n",
    "    client_rename_dict[[REDACTED]] = currentName"
   ]
  },
  {
   "cell_type": "code",
   "execution_count": null,
   "metadata": {
    "pycharm": {
     "name": "#%%\n"
    }
   },
   "outputs": [],
   "source": [
    "def client_names(c_name):\n",
    "    for k, v in client_rename_dict.items():\n",
    "        try:\n",
    "            result = re.sub(k, v, c_name)\n",
    "            if result != c_name:\n",
    "                print(f'Keyword found: {k}')\n",
    "                print(f'Replacement value: {v}')\n",
    "                print('\\n')\n",
    "                return v\n",
    "                break\n",
    "        except Exception as e:\n",
    "            print(e)\n",
    "            break\n",
    "    return c_name"
   ]
  },
  {
   "cell_type": "code",
   "execution_count": null,
   "metadata": {
    "pycharm": {
     "name": "#%%\n"
    }
   },
   "outputs": [],
   "source": [
    "df_emails['clientName'] = df_emails['subject'].apply(client_names)"
   ]
  },
  {
   "cell_type": "markdown",
   "metadata": {
    "collapsed": false,
    "pycharm": {
     "name": "#%% md\n"
    }
   },
   "source": [
    "## Add Client Column to Source DataFrame"
   ]
  },
  {
   "cell_type": "code",
   "execution_count": null,
   "metadata": {
    "pycharm": {
     "name": "#%%\n"
    }
   },
   "outputs": [],
   "source": [
    "client_name_prog = re.compile(r'[^\\w]+([A-Z\\|]{3,5})[^\\w]+')\n",
    "clients_set = set()\n",
    "\n",
    "def client_names(file):\n",
    "    result = client_name_prog.findall(file)\n",
    "    print(result)"
   ]
  },
  {
   "cell_type": "markdown",
   "metadata": {
    "collapsed": false,
    "pycharm": {
     "name": "#%% md\n"
    }
   },
   "source": [
    "### Standardize File Attachment Names"
   ]
  },
  {
   "cell_type": "code",
   "execution_count": null,
   "metadata": {
    "pycharm": {
     "name": "#%%\n"
    }
   },
   "outputs": [],
   "source": [
    "df = pd.read_csv(f'{dictionary_dir}/email_report_attachment_dictionary.dict')\n",
    "attachment_name_dict = {}\n",
    "for index, row in df.iterrows():\n",
    "    attachmentName = row['attachmentName']\n",
    "    reportName = row['reportName']\n",
    "    attachment_name_dict[attachmentName] = reportName"
   ]
  },
  {
   "cell_type": "code",
   "execution_count": null,
   "metadata": {
    "pycharm": {
     "name": "#%%\n"
    }
   },
   "outputs": [],
   "source": [
    "def client_names(c_name):\n",
    "    for k, v in client_rename_dict.items():\n",
    "        try:\n",
    "            result = re.sub(k, v, c_name)\n",
    "            if result != c_name:\n",
    "                print(f'Keyword found: {k}')\n",
    "                print(f'Replacement value: {v}')\n",
    "                print('\\n')\n",
    "                return v\n",
    "                break\n",
    "        except Exception as e:\n",
    "            print(e)\n",
    "            break\n",
    "    return c_name"
   ]
  },
  {
   "cell_type": "markdown",
   "metadata": {
    "collapsed": false,
    "pycharm": {
     "name": "#%% md\n"
    }
   },
   "source": [
    "### Iterate through known attachment names and replace with standard if found"
   ]
  },
  {
   "cell_type": "code",
   "execution_count": null,
   "metadata": {
    "pycharm": {
     "name": "#%%\n"
    }
   },
   "outputs": [],
   "source": [
    "def transform_name_to_standard(a_filename):\n",
    "    for k, v in attachment_name_dict.items():\n",
    "        result = re.sub(k, v, a_filename)\n",
    "        if result != a_filename:\n",
    "            return (result)\n",
    "            break"
   ]
  },
  {
   "cell_type": "markdown",
   "metadata": {
    "collapsed": false,
    "pycharm": {
     "name": "#%% md\n"
    }
   },
   "source": [
    " ### Create Labtech Report Dataframe and Rename, Export Attachments"
   ]
  },
  {
   "cell_type": "code",
   "execution_count": null,
   "metadata": {
    "pycharm": {
     "name": "#%%\n"
    }
   },
   "outputs": [],
   "source": [
    "df_labtech_reports = df_emails[df_emails['subject'].str.contains('[lL]ab[tT]ech')]"
   ]
  },
  {
   "cell_type": "code",
   "execution_count": null,
   "metadata": {
    "pycharm": {
     "name": "#%%\n"
    }
   },
   "outputs": [],
   "source": [
    "df_emails"
   ]
  },
  {
   "cell_type": "code",
   "execution_count": null,
   "metadata": {
    "pycharm": {
     "name": "#%%\n"
    }
   },
   "outputs": [],
   "source": [
    "df_labtech_reports"
   ]
  },
  {
   "cell_type": "code",
   "execution_count": null,
   "metadata": {
    "pycharm": {
     "name": "#%%\n"
    }
   },
   "outputs": [],
   "source": [
    "df = pd.read_csv(f'{dictionary_dir}/report_archive_folder_name.dict')\n",
    "report_archive_folder_name_dict = {}\n",
    "for index, row in df.iterrows():\n",
    "    monthNumber = row['monthNumber']\n",
    "    reportMonthFolder = row['reportMonthFolder']\n",
    "    report_archive_folder_name_dict[monthNumber] = reportMonthFolder"
   ]
  },
  {
   "cell_type": "code",
   "execution_count": null,
   "metadata": {
    "pycharm": {
     "name": "#%%\n"
    }
   },
   "outputs": [],
   "source": [
    "def create_month_folder(month):\n",
    "    for k, v in report_archive_folder_name_dict.items():\n",
    "        try:\n",
    "            if month == k:\n",
    "                print(f'Keyword found: {k}')\n",
    "                print(f'Replacement value: {v}')\n",
    "                print('\\n')\n",
    "                return v\n",
    "                break\n",
    "        except Exception as e:\n",
    "            print(e)\n",
    "            break\n",
    "    return month"
   ]
  },
  {
   "cell_type": "code",
   "execution_count": null,
   "metadata": {
    "pycharm": {
     "name": "#%%\n"
    }
   },
   "outputs": [],
   "source": [
    "root_export_dir = \"d:/data_sets/\"\n",
    "\n",
    "try:\n",
    "    os.makedirs(f'{root_export_dir}/report_archives')\n",
    "except:\n",
    "    pass\n",
    "\n",
    "\n",
    "\n",
    "\n",
    "file_ext_prog = re.compile(r'.*(antivirus_health|computer_audit|patch_compliance|third\\sparty\\spatch\\saudit)([\\w\\d]+)$')\n",
    "\n",
    "for index, row in df_labtech_reports.iterrows():\n",
    "    i = 1\n",
    "    for attachment in row['attachments']:\n",
    "        year = row['date'].year\n",
    "        month = row['date'].month\n",
    "        month_folder = create_month_folder(month)\n",
    "        export_dir = f\"{root_export_dir}/report_archives/{year}/{month_folder}\"\n",
    "\n",
    "        try:\n",
    "            os.makedirs(export_dir)\n",
    "        except:\n",
    "            pass\n",
    "\n",
    "        # construct new export filename with timestamp, subject, and extension accounted for\n",
    "\n",
    "        time_to_month = row['date'].to_period('M')\n",
    "        timestamp = re.sub('\\-',' - ',str(time_to_month))\n",
    "        subject = row['subject']\n",
    "        org_filename = re.sub(r'\\[\\d{2}\\-\\d{2}\\-\\d{4}\\s\\d{2}\\.\\d{2}\\.\\d{2}\\]\\d{,4}\\s\\-\\s',\"\",attachment)\n",
    "        split_attachment_name = re.match(r'(.*)\\.(\\w{,4})$',org_filename)\n",
    "        filename = transform_name_to_standard(split_attachment_name.group(1))\n",
    "        extension = split_attachment_name.group(2)\n",
    "        client_name = row['clientName']\n",
    "        print(client_name)\n",
    "\n",
    "\n",
    "\n",
    "\n",
    "        print(f\"Saving attachment [{attachment}] to ['{export_dir}/{client_name} - {timestamp} {filename}.{extension}']\")\n",
    "\n",
    "        row['messageObject'].Attachments.Item(i).SaveASFile(f\"{export_dir}/{client_name} - {timestamp} - {filename}.{extension}\")\n",
    "        i = i+1"
   ]
  },
  {
   "cell_type": "code",
   "execution_count": null,
   "metadata": {
    "pycharm": {
     "name": "#%%\n"
    }
   },
   "outputs": [],
   "source": [
    "df_emails"
   ]
  },
  {
   "cell_type": "code",
   "execution_count": null,
   "metadata": {
    "pycharm": {
     "name": "#%%\n"
    }
   },
   "outputs": [],
   "source": []
  }
 ],
 "metadata": {
  "kernelspec": {
   "display_name": "Python 3",
   "language": "python",
   "name": "python3"
  },
  "language_info": {
   "codemirror_mode": {
    "name": "ipython",
    "version": 2
   },
   "file_extension": ".py",
   "mimetype": "text/x-python",
   "name": "python",
   "nbconvert_exporter": "python",
   "pygments_lexer": "ipython2",
   "version": "2.7.6"
  }
 },
 "nbformat": 4,
 "nbformat_minor": 0
}
