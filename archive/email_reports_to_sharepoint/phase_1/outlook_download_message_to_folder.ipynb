{
 "cells": [
  {
   "cell_type": "code",
   "execution_count": null,
   "metadata": {
    "ExecuteTime": {
     "end_time": "2023-04-27T22:05:13.432759Z",
     "start_time": "2023-04-27T22:05:12.687947Z"
    }
   },
   "outputs": [],
   "source": [
    "import win32com.client\n",
    "import os\n",
    "import re\n",
    "import pandas as pd\n",
    "import datetime as dt\n",
    "import time\n",
    "\n",
    "from std_naming import *"
   ]
  },
  {
   "cell_type": "code",
   "execution_count": null,
   "metadata": {
    "ExecuteTime": {
     "end_time": "2023-04-27T22:05:13.440372Z",
     "start_time": "2023-04-27T22:05:13.435562Z"
    }
   },
   "outputs": [],
   "source": [
    "\n",
    "### Root Export Folder and Dictionary Directory\n",
    "root_export_dir = 'D:/outlook_reports/raw_emails'\n",
    "dictionary_dir = 'd:/git/dictionaries'\n",
    "# Connect to Outlook Worker\n",
    "import win32com.client"
   ]
  },
  {
   "cell_type": "code",
   "execution_count": null,
   "metadata": {
    "ExecuteTime": {
     "end_time": "2023-04-27T22:05:14.100979Z",
     "start_time": "2023-04-27T22:05:13.443076Z"
    }
   },
   "outputs": [],
   "source": [
    "\n",
    "outlook = win32com.client.Dispatch(\"Outlook.Application\").GetNamespace(\"MAPI\")"
   ]
  },
  {
   "cell_type": "code",
   "execution_count": null,
   "metadata": {
    "ExecuteTime": {
     "end_time": "2023-04-27T22:05:18.025395Z",
     "start_time": "2023-04-27T22:05:14.105338Z"
    }
   },
   "outputs": [],
   "source": [
    "# Pull all Folders in gmcwilliams@example.co Email Account\n",
    "for folders in outlook.Folders:\n",
    "    print(folders)"
   ]
  },
  {
   "cell_type": "code",
   "execution_count": null,
   "metadata": {
    "ExecuteTime": {
     "end_time": "2023-04-27T22:05:19.440558Z",
     "start_time": "2023-04-27T22:05:18.023233Z"
    }
   },
   "outputs": [],
   "source": [
    "account_reports_manager = outlook.Folders['Reports Manager']\n",
    "for folders in account_reports_manager.Folders:\n",
    "    print(folders)"
   ]
  },
  {
   "cell_type": "code",
   "execution_count": null,
   "metadata": {
    "ExecuteTime": {
     "end_time": "2023-04-27T22:05:22.035007Z",
     "start_time": "2023-04-27T22:05:19.443866Z"
    }
   },
   "outputs": [],
   "source": [
    "## Assign all folders variables for iteration later\n",
    "inbox = account_reports_manager.Folders['Inbox']\n",
    "sent = account_reports_manager.Folders['Sent Items']\n",
    "outbox = account_reports_manager.Folders['Outbox']\n",
    "files = account_reports_manager.Folders['Files']\n",
    "drafts = account_reports_manager.Folders['Drafts']\n",
    "deleted = account_reports_manager.Folders['Deleted Items']\n",
    "junk = account_reports_manager.Folders['Junk Email']"
   ]
  },
  {
   "cell_type": "code",
   "execution_count": null,
   "metadata": {
    "ExecuteTime": {
     "end_time": "2023-04-27T22:05:22.081185Z",
     "start_time": "2023-04-27T22:05:22.029129Z"
    }
   },
   "outputs": [],
   "source": [
    "for folder in inbox.Folders:\n",
    "    print(folder)"
   ]
  },
  {
   "cell_type": "code",
   "execution_count": null,
   "metadata": {
    "ExecuteTime": {
     "end_time": "2023-04-27T22:05:22.094556Z",
     "start_time": "2023-04-27T22:05:22.070961Z"
    }
   },
   "outputs": [],
   "source": [
    "# Create DataFrame from Reports Manager Email Account\n",
    "## Create Initial DataFrame from Inbox\n",
    "emails_list = []\n",
    "\n",
    "#for folder in reports_junk.Folders:\n",
    "\n",
    "messages = inbox.Items\n",
    "messages.Sort('[ReceivedTime]', True)"
   ]
  },
  {
   "cell_type": "code",
   "execution_count": null,
   "metadata": {
    "ExecuteTime": {
     "end_time": "2023-04-27T22:05:22.194975Z",
     "start_time": "2023-04-27T22:05:22.092419Z"
    }
   },
   "outputs": [],
   "source": [
    "parser = NameShaping(dictionary_source=os.getcwd())"
   ]
  },
  {
   "cell_type": "code",
   "execution_count": null,
   "metadata": {
    "ExecuteTime": {
     "end_time": "2023-04-27T22:05:46.325553Z",
     "start_time": "2023-04-27T22:05:22.136247Z"
    }
   },
   "outputs": [],
   "source": [
    "\n",
    "i = 0\n",
    "\n",
    "for message in messages:\n",
    "    # print(message)\n",
    "    message_dict = {}\n",
    "    try:\n",
    "        message_dict['from'] = message.SenderEmailAddress\n",
    "    except:\n",
    "        pass\n",
    "    try:\n",
    "        message_dict['to'] = message.To\n",
    "    except:\n",
    "        pass\n",
    "    try:\n",
    "        message_dict['date'] = message.ReceivedTime.strftime(\"%Y-%m-%d %H:%M:%S\")\n",
    "    except:\n",
    "        pass\n",
    "    try:\n",
    "        message_dict['subject'] = message.Subject\n",
    "    except:\n",
    "        pass\n",
    "    try:\n",
    "\n",
    "        message_dict[\"std_name\"] = parser.std_client_names_rename(message.Subject)\n",
    "        print(message.Subject)\n",
    "        print(message_dict[\"std_name\"])\n",
    "    except:\n",
    "        pass\n",
    "\n",
    "    try:\n",
    "        message_dict['body'] = message.Body\n",
    "    except:\n",
    "        pass\n",
    "    attachments_list = []\n",
    "    for attachment in message.Attachments:\n",
    "        try:\n",
    "            attachment_name = str(attachment).lower().replace(\" \", \"_\").replace(\"-\", \"_\")\n",
    "            attachments_list.append(attachment_name)\n",
    "            # attachment.SaveASFile(path+ '\\\\' + attachment_name)\n",
    "        except Exception as e:\n",
    "            print(e)\n",
    "\n",
    "    message_dict['attachments'] = attachments_list\n",
    "    message_dict['messageObject'] = message\n",
    "    emails_list.append(message_dict)\n",
    "\n",
    "    i = i + 1\n",
    "    if i >= 1000:\n",
    "        break\n",
    "\n"
   ]
  },
  {
   "cell_type": "code",
   "execution_count": null,
   "metadata": {
    "ExecuteTime": {
     "end_time": "2023-04-27T22:05:46.345889Z",
     "start_time": "2023-04-27T22:05:46.321775Z"
    }
   },
   "outputs": [],
   "source": [
    "df = pd.DataFrame(emails_list)"
   ]
  },
  {
   "cell_type": "code",
   "execution_count": null,
   "metadata": {
    "ExecuteTime": {
     "end_time": "2023-04-27T22:05:46.455574Z",
     "start_time": "2023-04-27T22:05:46.344788Z"
    }
   },
   "outputs": [],
   "source": [
    "df"
   ]
  },
  {
   "cell_type": "code",
   "execution_count": null,
   "metadata": {
    "ExecuteTime": {
     "end_time": "2023-04-27T22:05:46.468495Z",
     "start_time": "2023-04-27T22:05:46.457187Z"
    }
   },
   "outputs": [],
   "source": [
    "def save_email_to_folder(subject, message_obj):\n",
    "    try:\n",
    "        message_obj.SaveAs(f'{root_export_dir}/{subject}.eml')\n",
    "    except Exception as e:\n",
    "        print(e)\n"
   ]
  },
  {
   "cell_type": "code",
   "execution_count": null,
   "metadata": {
    "ExecuteTime": {
     "end_time": "2023-04-27T22:05:48.079989Z",
     "start_time": "2023-04-27T22:05:46.465774Z"
    }
   },
   "outputs": [],
   "source": [
    "df[[\"subject\",\"messageObject\"]].apply(lambda x: save_email_to_folder(x['subject'], x['messageObject']), axis=1)"
   ]
  },
  {
   "cell_type": "code",
   "execution_count": null,
   "metadata": {
    "ExecuteTime": {
     "end_time": "2023-04-27T22:05:48.193341Z",
     "start_time": "2023-04-27T22:05:48.094272Z"
    }
   },
   "outputs": [],
   "source": [
    "df"
   ]
  },
  {
   "cell_type": "code",
   "execution_count": null,
   "metadata": {
    "ExecuteTime": {
     "end_time": "2023-04-27T22:05:48.201941Z",
     "start_time": "2023-04-27T22:05:48.191731Z"
    }
   },
   "outputs": [],
   "source": [
    "print(os.getcwd())"
   ]
  },
  {
   "cell_type": "code",
   "execution_count": null,
   "metadata": {
    "ExecuteTime": {
     "end_time": "2023-04-27T22:05:48.343056Z",
     "start_time": "2023-04-27T22:05:48.198189Z"
    }
   },
   "outputs": [],
   "source": [
    "df = pd.read_parquet(f\"{os.getcwd()}/standard_client_names.parquet\")"
   ]
  },
  {
   "cell_type": "code",
   "execution_count": null,
   "metadata": {
    "ExecuteTime": {
     "end_time": "2023-04-27T22:05:48.375803Z",
     "start_time": "2023-04-27T22:05:48.254389Z"
    }
   },
   "outputs": [],
   "source": "df.to_csv(f\".csv\", index=False)"
  },
  {
   "cell_type": "code",
   "execution_count": null,
   "metadata": {
    "ExecuteTime": {
     "end_time": "2023-04-27T22:05:48.376335Z",
     "start_time": "2023-04-27T22:05:48.266803Z"
    }
   },
   "outputs": [],
   "source": [
    "df"
   ]
  }
 ],
 "metadata": {
  "kernelspec": {
   "display_name": "Python 3",
   "language": "python",
   "name": "python3"
  },
  "language_info": {
   "codemirror_mode": {
    "name": "ipython",
    "version": 2
   },
   "file_extension": ".py",
   "mimetype": "text/x-python",
   "name": "python",
   "nbconvert_exporter": "python",
   "pygments_lexer": "ipython2",
   "version": "2.7.6"
  }
 },
 "nbformat": 4,
 "nbformat_minor": 0
}
