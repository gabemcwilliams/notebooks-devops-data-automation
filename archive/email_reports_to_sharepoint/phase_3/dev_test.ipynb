{
 "cells": [
  {
   "cell_type": "markdown",
   "metadata": {
    "collapsed": false
   },
   "source": [
    "<h1>Strip and Rename Report Attachments</h1>"
   ]
  },
  {
   "cell_type": "markdown",
   "metadata": {
    "collapsed": false
   },
   "source": [
    "## Import Modules"
   ]
  },
  {
   "cell_type": "code",
   "execution_count": null,
   "metadata": {
    "ExecuteTime": {
     "end_time": "2023-04-27T22:32:08.267205Z",
     "start_time": "2023-04-27T22:32:07.075770Z"
    }
   },
   "outputs": [],
   "source": [
    "import extract_msg\n",
    "import os\n",
    "import datetime\n",
    "import pandas as pd\n",
    "import re"
   ]
  },
  {
   "cell_type": "code",
   "execution_count": null,
   "metadata": {
    "ExecuteTime": {
     "end_time": "2023-04-27T22:31:14.774068Z",
     "start_time": "2023-04-27T22:31:14.746584Z"
    }
   },
   "outputs": [],
   "source": [
    "reports_list = ['Fortianalyzer']\n",
    "current_time = (datetime.datetime.utcnow().strftime('%Y - %m'))\n",
    "origin_dir = 'D:/outlook_reports/raw_emails'\n",
    "dest_dir = 'D:/outlook_reports/reports'"
   ]
  },
  {
   "cell_type": "markdown",
   "metadata": {
    "collapsed": false
   },
   "source": [
    "## Traverse Directory for all Emails and add to List"
   ]
  },
  {
   "cell_type": "code",
   "execution_count": null,
   "metadata": {
    "ExecuteTime": {
     "end_time": "2023-04-27T22:31:15.385786Z",
     "start_time": "2023-04-27T22:31:15.365000Z"
    }
   },
   "outputs": [],
   "source": [
    "all_source_msg = [file_name for file_name in os.listdir(origin_dir) if '.msg' in file_name]"
   ]
  },
  {
   "cell_type": "code",
   "execution_count": null,
   "metadata": {
    "ExecuteTime": {
     "end_time": "2023-04-27T22:31:15.704586Z",
     "start_time": "2023-04-27T22:31:15.692200Z"
    }
   },
   "outputs": [],
   "source": [
    "all_source_msg"
   ]
  },
  {
   "cell_type": "code",
   "execution_count": null,
   "metadata": {
    "ExecuteTime": {
     "end_time": "2023-04-27T22:31:41.085721Z",
     "start_time": "2023-04-27T22:31:40.986439Z"
    }
   },
   "outputs": [],
   "source": [
    "def __search_client_name__(details):\n",
    "    pass"
   ]
  },
  {
   "cell_type": "markdown",
   "metadata": {
    "collapsed": false
   },
   "source": [
    "## Extract Infrom from each Email"
   ]
  },
  {
   "cell_type": "code",
   "execution_count": null,
   "metadata": {
    "ExecuteTime": {
     "end_time": "2023-04-27T22:31:41.952084Z",
     "start_time": "2023-04-27T22:31:41.930452Z"
    }
   },
   "outputs": [],
   "source": [
    "eml_list = []"
   ]
  },
  {
   "cell_type": "code",
   "execution_count": null,
   "metadata": {
    "ExecuteTime": {
     "end_time": "2023-04-27T22:31:53.156159Z",
     "start_time": "2023-04-27T22:31:42.440352Z"
    }
   },
   "outputs": [],
   "source": [
    "for eml in all_source_msg:\n",
    "    msg = extract_msg.Message(origin_dir + \"/\" + eml)\n",
    "\n",
    "    msg_sender = msg.sender\n",
    "    msg_date = msg.date\n",
    "    msg_subj = msg.subject\n",
    "    msg_message = msg.body\n",
    "\n",
    "    details = {\n",
    "        \"sender\": msg_sender,\n",
    "        \"date\": msg_date,\n",
    "        \"subject\": msg_subj,\n",
    "        \"message\": msg_message\n",
    "    }\n",
    "\n",
    "    eml_list.append(details)\n",
    "\n",
    "    # result = re.search(r'([^\\-]+)$', msg_subj)\n",
    "    #\n",
    "    # site_name = result.group(1).lstrip()\n",
    "    # # print(site_name)\n",
    "    #\n",
    "    # shaped_site_name = re.sub(\"[\\:\\*|\\.'\\_\\t\\@]+\", \"\", site_name)\n",
    "    # # print(shaped_site_name)\n",
    "    #\n",
    "    # report_name = re.findall(r'\\*Monthly Reports\\s-\\s([^-]+)\\s-\\s', msg_subj)\n",
    "    # try:\n",
    "    #     report_name = report_name[0]\n",
    "    # except:\n",
    "    #     pass\n",
    "    #\n",
    "    # print(f'reportname is {report_name}')\n",
    "    #\n",
    "    # if report_name in reports_list:\n",
    "    #\n",
    "    #     attachments = msg.attachments\n",
    "    #\n",
    "    #     for attachment in attachments:\n",
    "    #         attachment_name = f'{shaped_site_name} - {str(current_time)} - {report_name}[REDACTED]/.csv'\n",
    "    #         print(f'Saving file: {attachment_name}')\n",
    "    #         params = {'customFilename': attachment_name}\n",
    "    #         save_location = attachment.save(customPath=dest_dir, customFilename=attachment_name)\n",
    "\n",
    "\n"
   ]
  },
  {
   "cell_type": "code",
   "execution_count": null,
   "metadata": {
    "ExecuteTime": {
     "end_time": "2023-04-27T22:32:11.989507Z",
     "start_time": "2023-04-27T22:32:11.967459Z"
    }
   },
   "outputs": [],
   "source": [
    "df = pd.DataFrame(eml_list)\n"
   ]
  },
  {
   "cell_type": "code",
   "execution_count": null,
   "metadata": {
    "ExecuteTime": {
     "end_time": "2023-04-27T22:41:36.153489Z",
     "start_time": "2023-04-27T22:41:36.107058Z"
    }
   },
   "outputs": [],
   "source": [
    "df['trunc_subject'] = df['subject'].apply(lambda x: re.sub(r'[\\-\\d]+', '', x))"
   ]
  },
  {
   "cell_type": "code",
   "execution_count": null,
   "metadata": {
    "ExecuteTime": {
     "end_time": "2023-04-27T22:41:37.712833Z",
     "start_time": "2023-04-27T22:41:37.608264Z"
    }
   },
   "outputs": [],
   "source": [
    "df['day'] = pd.to_datetime(df['date']).dt.day"
   ]
  },
  {
   "cell_type": "code",
   "execution_count": null,
   "metadata": {
    "ExecuteTime": {
     "end_time": "2023-04-27T22:41:38.047442Z",
     "start_time": "2023-04-27T22:41:38.018912Z"
    }
   },
   "outputs": [],
   "source": [
    "df['day'].value_counts()"
   ]
  },
  {
   "cell_type": "code",
   "execution_count": null,
   "metadata": {
    "ExecuteTime": {
     "end_time": "2023-04-27T22:43:53.260243Z",
     "start_time": "2023-04-27T22:43:53.231133Z"
    }
   },
   "outputs": [],
   "source": [
    "df_middle = df[(df['day'] > 5) & (df[\"day\"] < 28)]"
   ]
  },
  {
   "cell_type": "code",
   "execution_count": null,
   "metadata": {
    "ExecuteTime": {
     "end_time": "2023-04-27T22:45:32.460048Z",
     "start_time": "2023-04-27T22:45:32.419292Z"
    }
   },
   "outputs": [],
   "source": [
    "df_middle.to_csv(f'{dest_dir}[REDACTED]/.csv', index=False)"
   ]
  },
  {
   "cell_type": "code",
   "execution_count": null,
   "metadata": {},
   "outputs": [],
   "source": []
  }
 ],
 "metadata": {
  "kernelspec": {
   "display_name": "Python 3",
   "language": "python",
   "name": "python3"
  },
  "language_info": {
   "codemirror_mode": {
    "name": "ipython",
    "version": 2
   },
   "file_extension": "[REDACTED][REDACTED]/.py",
   "mimetype": "text/x-python",
   "name": "python",
   "nbconvert_exporter": "python",
   "pygments_lexer": "ipython2",
   "version": "2.7.6"
  }
 },
 "nbformat": 4,
 "nbformat_minor": 0
}
