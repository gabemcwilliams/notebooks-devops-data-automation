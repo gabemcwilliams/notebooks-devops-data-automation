{
 "cells": [
  {
   "cell_type": "markdown",
   "metadata": {
    "collapsed": false
   },
   "source": [
    "<h1>Strip Datto Report Attachments and Rename from email</h1>"
   ]
  },
  {
   "cell_type": "markdown",
   "metadata": {
    "collapsed": false
   },
   "source": [
    "## Import Modules"
   ]
  },
  {
   "cell_type": "code",
   "metadata": {},
   "source": [
    "import extract_msg\n",
    "import os\n",
    "import datetime\n",
    "import re"
   ],
   "outputs": [],
   "execution_count": null
  },
  {
   "cell_type": "markdown",
   "metadata": {
    "collapsed": false
   },
   "source": [
    "## Declare Variables"
   ]
  },
  {
   "cell_type": "code",
   "metadata": {},
   "source": [
    "\n",
    "reports_list = ['Remote Activity','Software Distribution']\n",
    "\n",
    "# report_name = 'Remote Activity Report'\n",
    "# report_name = 'Software Distribution Report'\n",
    "\n",
    "current_time = (datetime.datetime.utcnow().strftime('%Y - %m'))\n",
    "\n",
    "source_dir = 'D:/exports/email_reports'\n",
    "\n",
    "dest_dir = 'D:/exports/email_reports/attachments'"
   ],
   "outputs": [],
   "execution_count": null
  },
  {
   "cell_type": "markdown",
   "metadata": {
    "collapsed": false
   },
   "source": [
    "## Traverse Directory for all Emails and add to List"
   ]
  },
  {
   "cell_type": "code",
   "metadata": {},
   "source": [
    "all_source_msg = [file_name for file_name in os.listdir(\n",
    "    source_dir) if '.msg' in file_name]"
   ],
   "outputs": [],
   "execution_count": null
  },
  {
   "cell_type": "code",
   "metadata": {},
   "source": [
    "all_source_msg"
   ],
   "outputs": [],
   "execution_count": null
  },
  {
   "cell_type": "markdown",
   "metadata": {
    "collapsed": false
   },
   "source": [
    "## Extract Infrom from each Email"
   ]
  },
  {
   "cell_type": "code",
   "metadata": {},
   "source": [
    "for eml in all_source_msg:\n",
    "\n",
    "    msg = extract_msg.Message(source_dir + \"/\" + eml)\n",
    "\n",
    "    msg_sender = msg.sender\n",
    "    msg_date = msg.date\n",
    "    msg_subj = msg.subject\n",
    "    msg_message = msg.body\n",
    "\n",
    "    #print('Sender: {}'.format(msg_sender))\n",
    "    #print('Sent On: {}'.format(msg_date))\n",
    "    # print('Subject: {}'.format(msg_subj))\n",
    "    #print('Body: {}'.format(msg_message))\n",
    "\n",
    "    result = re.search(r'([^\\-]+)$', msg_subj)\n",
    "\n",
    "    site_name = result.group(1).lstrip()\n",
    "    # print(site_name)\n",
    "\n",
    "\n",
    "    shaped_site_name = re.sub(\"[\\:\\*|\\.'\\_\\t\\@]+\",\"\",site_name)\n",
    "    # print(shaped_site_name)\n",
    "\n",
    "    report_name = re.findall(r'\\*Monthly Reports\\s-\\s([^-]+)\\s-\\s',msg_subj)\n",
    "    try:\n",
    "        report_name = report_name[0]\n",
    "    except:\n",
    "        pass\n",
    "\n",
    "    print(f'reportname is {report_name}')\n",
    "\n",
    "    if report_name in reports_list:\n",
    "\n",
    "\n",
    "        attachments = msg.attachments\n",
    "\n",
    "        for attachment in attachments:\n",
    "            attachment_name = f'{shaped_site_name} - {str(current_time)} - {report_name}.csv'\n",
    "            print(f'Saving file: {attachment_name}')\n",
    "            params = {'customFilename': attachment_name}\n",
    "            save_location = attachment.save(customPath=dest_dir, customFilename=attachment_name)\n",
    "\n",
    "\n"
   ],
   "outputs": [],
   "execution_count": null
  },
  {
   "cell_type": "code",
   "metadata": {},
   "source": [],
   "outputs": [],
   "execution_count": null
  }
 ],
 "metadata": {
  "kernelspec": {
   "display_name": "Python 3",
   "language": "python",
   "name": "python3"
  },
  "language_info": {
   "codemirror_mode": {
    "name": "ipython",
    "version": 2
   },
   "file_extension": ".py",
   "mimetype": "text/x-python",
   "name": "python",
   "nbconvert_exporter": "python",
   "pygments_lexer": "ipython2",
   "version": "2.7.6"
  }
 },
 "nbformat": 4,
 "nbformat_minor": 0
}
