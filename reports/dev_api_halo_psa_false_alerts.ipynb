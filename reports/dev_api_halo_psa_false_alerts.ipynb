{
 "cells": [
  {
   "cell_type": "markdown",
   "metadata": {
    "collapsed": false,
    "pycharm": {
     "name": "#%% md\n"
    }
   },
   "source": [
    "<h1> HaloPSA - False Alerts by Resolution Category </h1>"
   ]
  },
  {
   "cell_type": "code",
   "execution_count": null,
   "metadata": {
    "pycharm": {
     "name": "#%%\n"
    }
   },
   "outputs": [],
   "source": [
    "#data conditioning\n",
    "import pandas as pd\n",
    "import numpy as np\n",
    "import re\n",
    "import datetime as dt\n",
    "\n",
    "# data import and file manipulation\n",
    "import os\n",
    "import json\n",
    "import csv\n",
    "import xlrd\n",
    "import zipfile\n",
    "\n",
    "\n",
    "# API and Web Requests\n",
    "import requests\n",
    "from requests.structures import CaseInsensitiveDict\n",
    "import urllib3 # make url requests\n",
    "import shutil # manage packages\n",
    "\n",
    "#data visualization\n",
    "import matplotlib.pyplot as plt\n",
    "import seaborn as sns"
   ]
  },
  {
   "cell_type": "code",
   "execution_count": null,
   "metadata": {
    "pycharm": {
     "name": "#%%\n"
    }
   },
   "outputs": [],
   "source": [
    "# add current timestamp to filename for reference\n",
    "current_time = (dt.datetime.utcnow().strftime('%Y_%m_%d_%H%M%S'))\n",
    "\n",
    "# git repo folder\n",
    "git_folder = 'd:/git/example_infrastructure_data_dev'\n",
    "\n",
    "# export folder will contain all csv exported DataFrames for Ticket Creation\n",
    "export_folder = 'd:/exports/'\n",
    "\n",
    "# import configparser for env secrets\n",
    "from configparser import ConfigParser\n",
    "\n",
    "config = ConfigParser()\n",
    "config.read(f'{git_folder}/config/env.ini')\n",
    "import requests\n",
    "from requests.structures import CaseInsensitiveDict\n",
    "# import and assign secrets from env.ini\n",
    "halopsa = config['halopsa']"
   ]
  },
  {
   "cell_type": "markdown",
   "metadata": {
    "collapsed": false,
    "pycharm": {
     "name": "#%% md\n"
    }
   },
   "source": [
    "\n",
    "## Create Auth Token"
   ]
  },
  {
   "cell_type": "code",
   "execution_count": null,
   "metadata": {
    "pycharm": {
     "name": "#%%\n"
    }
   },
   "outputs": [],
   "source": [
    "# call token api url\n",
    "token_uri = f\"{halopsa['base_uri']}/auth/token?tenant=example\"\n",
    "\n",
    "# construct header\n",
    "headers = CaseInsensitiveDict()\n",
    "headers['Content-Type'] = 'application/x-www-form-urlencoded'\n",
    "\n",
    "\n",
    "# construct req body\n",
    "data = CaseInsensitiveDict()\n",
    "data['grant_type'] = 'client_credentials'\n",
    "data['client_id'] = halopsa['client_id']\n",
    "data['client_secret'] = halopsa['client_secret']\n",
    "data['scope'] = 'all'\n",
    "\n",
    "# request content response\n",
    "resp = requests.post(token_uri, headers=headers, data=data) #,params={'tenant':{halopsa['tenant']}})\n",
    "content = resp.content.decode('utf-8')\n",
    "c_dict = json.loads(content)\n",
    "\n",
    "access_token = c_dict['access_token']"
   ]
  },
  {
   "cell_type": "markdown",
   "metadata": {
    "collapsed": false,
    "pycharm": {
     "name": "#%% md\n"
    }
   },
   "source": [
    "# Create Asset DataFrame"
   ]
  },
  {
   "cell_type": "code",
   "execution_count": null,
   "metadata": {
    "pycharm": {
     "name": "#%%\n"
    }
   },
   "outputs": [],
   "source": [
    "# request content response\n",
    "request_url = f\"{halopsa['base_uri']}/api/Asset\"\n",
    "\n",
    "# construct header\n",
    "headers = CaseInsensitiveDict()\n",
    "headers['Authorization'] = f'Bearer {access_token}'\n",
    "headers['Content-Type'] = 'application/json'\n",
    "\n",
    "# construct req body\n",
    "data = ''\n",
    "\n",
    "print(f'Request URL: {request_url}')\n",
    "\n",
    "resp = requests.get(request_url, headers=headers, data=data)\n",
    "content = resp.content.decode('utf-8')\n",
    "c_dict = json.loads(content)\n",
    "\n",
    "\n",
    "# iterate and combine remaining pages\n",
    "df_assets = pd.DataFrame(c_dict['assets'])\n",
    "try:\n",
    "    while c_dict['pageDetails']['nextPageUrl']:\n",
    "        next_page = c_dict['pageDetails']['nextPageUrl']\n",
    "        resp = requests.get(next_page, headers=headers, data=data)\n",
    "        content = resp.content.decode('utf-8')\n",
    "        c_dict = json.loads(content)\n",
    "\n",
    "        df_current_page = pd.DataFrame(c_dict['assets'])\n",
    "        df_assets = pd.concat([df_assets, df_current_page], ignore_index=False)\n",
    "except:\n",
    "    print(f'All assets on first page.  Total Assets: {c_dict[\"record_count\"]}')"
   ]
  },
  {
   "cell_type": "markdown",
   "metadata": {
    "collapsed": false,
    "pycharm": {
     "name": "#%% md\n"
    }
   },
   "source": []
  },
  {
   "cell_type": "markdown",
   "metadata": {
    "collapsed": false,
    "pycharm": {
     "name": "#%% md\n"
    }
   },
   "source": [
    "### Add Report Creation Date Info Column"
   ]
  },
  {
   "cell_type": "code",
   "execution_count": null,
   "metadata": {
    "pycharm": {
     "name": "#%%\n"
    }
   },
   "outputs": [],
   "source": [
    "report_creation_date = (dt.datetime.utcnow().strftime('%Y-%m-%d %H:%M:%S'))\n",
    "df_assets['reportCreationDate'] = report_creation_date"
   ]
  },
  {
   "cell_type": "markdown",
   "metadata": {
    "collapsed": false,
    "pycharm": {
     "name": "#%% md\n"
    }
   },
   "source": [
    "### Export Assets DataFrame to CSV"
   ]
  },
  {
   "cell_type": "code",
   "execution_count": null,
   "metadata": {
    "pycharm": {
     "name": "#%%\n"
    }
   },
   "outputs": [],
   "source": "df_assets.to_csv(export_folder + 'halopsa_full_assets_report_' + str(current_time) + '.csv', index=False)"
  },
  {
   "cell_type": "markdown",
   "metadata": {
    "collapsed": false,
    "pycharm": {
     "name": "#%% md\n"
    }
   },
   "source": [
    "# Create Agents (Users) DataFrame"
   ]
  },
  {
   "cell_type": "code",
   "execution_count": null,
   "metadata": {
    "pycharm": {
     "name": "#%%\n"
    }
   },
   "outputs": [],
   "source": [
    "# request content response\n",
    "request_url = f\"{halopsa['base_uri']}/api/Agent\"\n",
    "\n",
    "# construct header\n",
    "headers = CaseInsensitiveDict()\n",
    "headers['Authorization'] = f'Bearer {access_token}'\n",
    "headers['Content-Type'] = 'application/json'\n",
    "\n",
    "# construct req body\n",
    "data = CaseInsensitiveDict()\n",
    "\n",
    "# construct req params\n",
    "params = CaseInsensitiveDict()\n",
    "params['pageinate'] = True\n",
    "\n",
    "print(f'Request URL: {request_url}')\n",
    "\n",
    "resp = requests.get(request_url, headers=headers, data=data, params=params)\n",
    "content = resp.content.decode('utf-8')\n",
    "c_dict = json.loads(content)\n",
    "\n",
    "\n",
    "# iterate and combine remaining pages\n",
    "df_agents = pd.DataFrame(c_dict)"
   ]
  },
  {
   "cell_type": "markdown",
   "metadata": {
    "collapsed": false,
    "pycharm": {
     "name": "#%% md\n"
    }
   },
   "source": [
    "### Convert Timestamp to UTC"
   ]
  },
  {
   "cell_type": "code",
   "execution_count": null,
   "metadata": {
    "pycharm": {
     "name": "#%%\n"
    }
   },
   "outputs": [],
   "source": [
    "df_agents['lastlogin'] = pd.to_datetime(df_agents['lastlogindate'], unit='ns', errors='coerce').values.astype('datetime64[s]')\n",
    "df_agents.drop('lastlogindate',axis = 1, inplace = True)"
   ]
  },
  {
   "cell_type": "markdown",
   "metadata": {
    "collapsed": false,
    "pycharm": {
     "name": "#%% md\n"
    }
   },
   "source": [
    "### Add Report Creation Date Info Column"
   ]
  },
  {
   "cell_type": "code",
   "execution_count": null,
   "metadata": {
    "pycharm": {
     "name": "#%%\n"
    }
   },
   "outputs": [],
   "source": [
    "report_creation_date = (dt.datetime.utcnow().strftime('%Y-%m-%d %H:%M:%S'))\n",
    "df_agents['reportCreationDate'] = report_creation_date"
   ]
  },
  {
   "cell_type": "markdown",
   "metadata": {
    "collapsed": false,
    "pycharm": {
     "name": "#%% md\n"
    }
   },
   "source": [
    "### Export Agents DataFrame to CSV"
   ]
  },
  {
   "cell_type": "code",
   "execution_count": null,
   "metadata": {
    "pycharm": {
     "name": "#%%\n"
    }
   },
   "outputs": [],
   "source": "df_agents.to_csv(export_folder + 'halopsa_full_agent_report_' + str(current_time) + '.csv', index=False)"
  },
  {
   "cell_type": "markdown",
   "metadata": {
    "collapsed": false,
    "pycharm": {
     "name": "#%% md\n"
    }
   },
   "source": [
    "# Create Tickets DataFrame"
   ]
  },
  {
   "cell_type": "markdown",
   "metadata": {
    "collapsed": false,
    "pycharm": {
     "name": "#%% md\n"
    }
   },
   "source": [
    "## Create Ticket Type Dictionary"
   ]
  },
  {
   "cell_type": "code",
   "execution_count": null,
   "metadata": {
    "pycharm": {
     "name": "#%%\n"
    }
   },
   "outputs": [],
   "source": [
    "# halo resource\n",
    "resource = 'TicketType'\n",
    "\n",
    "\n",
    "# construct params\n",
    "params = CaseInsensitiveDict()"
   ]
  },
  {
   "cell_type": "code",
   "execution_count": null,
   "metadata": {
    "pycharm": {
     "name": "#%%\n"
    }
   },
   "outputs": [],
   "source": [
    "# construct header\n",
    "headers = CaseInsensitiveDict()\n",
    "headers['Content-Type'] = 'application/x-www-form-urlencoded'\n",
    "\n",
    "# request content response\n",
    "request_url = f\"{halopsa['base_uri']}/api/{resource}\"\n",
    "\n",
    "# construct header\n",
    "headers = CaseInsensitiveDict()\n",
    "headers['Authorization'] = f'Bearer {access_token}'\n",
    "headers['Content-Type'] = 'application/json'\n",
    "\n",
    "# construct req body\n",
    "data = ''\n",
    "\n",
    "\n",
    "\n",
    "print(f'Request URL: {request_url}')\n",
    "\n",
    "resp = requests.get(request_url, headers=headers, data=data, params=params)\n",
    "content = resp.content.decode('utf-8')\n",
    "c_dict = json.loads(content)\n",
    "df_tickettype = pd.DataFrame(c_dict)"
   ]
  },
  {
   "cell_type": "code",
   "execution_count": null,
   "metadata": {
    "pycharm": {
     "name": "#%%\n"
    }
   },
   "outputs": [],
   "source": [
    "tickettype_dict = {}\n",
    "for index, row in df_tickettype.iterrows():\n",
    "    tickettype_dict[row['id']] = row['name']"
   ]
  },
  {
   "cell_type": "markdown",
   "metadata": {
    "collapsed": false,
    "pycharm": {
     "name": "#%% md\n"
    }
   },
   "source": [
    "## Create Ticket Status Description Dictionary"
   ]
  },
  {
   "cell_type": "code",
   "execution_count": null,
   "metadata": {
    "pycharm": {
     "name": "#%%\n"
    }
   },
   "outputs": [],
   "source": [
    "# halo resource\n",
    "resource = 'Status'\n",
    "\n",
    "# construct params\n",
    "params = CaseInsensitiveDict()"
   ]
  },
  {
   "cell_type": "code",
   "execution_count": null,
   "metadata": {
    "pycharm": {
     "name": "#%%\n"
    }
   },
   "outputs": [],
   "source": [
    "# construct header\n",
    "headers = CaseInsensitiveDict()\n",
    "headers['Content-Type'] = 'application/x-www-form-urlencoded'\n",
    "\n",
    "# request content response\n",
    "request_url = f\"{halopsa['base_uri']}/api/{resource}\"\n",
    "\n",
    "# construct header\n",
    "headers = CaseInsensitiveDict()\n",
    "headers['Authorization'] = f'Bearer {access_token}'\n",
    "headers['Content-Type'] = 'application/json'\n",
    "\n",
    "# construct req body\n",
    "data = ''\n",
    "\n",
    "\n",
    "print(f'Request URL: {request_url}')\n",
    "\n",
    "resp = requests.get(request_url, headers=headers, data=data, params=params)\n",
    "content = resp.content.decode('utf-8')\n",
    "c_dict = json.loads(content)\n",
    "df_ticketstatus = pd.DataFrame(c_dict)"
   ]
  },
  {
   "cell_type": "code",
   "execution_count": null,
   "metadata": {
    "pycharm": {
     "name": "#%%\n"
    }
   },
   "outputs": [],
   "source": [
    "ticketstatus_dict = {}\n",
    "for index, row in df_ticketstatus.iterrows():\n",
    "    ticketstatus_dict[row['id']] = row['name']"
   ]
  },
  {
   "cell_type": "markdown",
   "metadata": {
    "collapsed": false,
    "pycharm": {
     "name": "#%% md\n"
    }
   },
   "source": [
    "## Create Ticket SLA Dictionary"
   ]
  },
  {
   "cell_type": "markdown",
   "metadata": {
    "collapsed": false,
    "pycharm": {
     "name": "#%% md\n"
    }
   },
   "source": [
    "## Create Tickets DataFrame"
   ]
  },
  {
   "cell_type": "code",
   "execution_count": null,
   "metadata": {
    "pycharm": {
     "name": "#%%\n"
    }
   },
   "outputs": [],
   "source": [
    "# halo resource\n",
    "resource = 'Tickets'\n",
    "\n",
    "\n",
    "# construct params\n",
    "params = CaseInsensitiveDict()\n",
    "params['paginate'] = True\n",
    "params['count'] = 100000"
   ]
  },
  {
   "cell_type": "code",
   "execution_count": null,
   "metadata": {
    "pycharm": {
     "name": "#%%\n"
    }
   },
   "outputs": [],
   "source": [
    "# construct header\n",
    "headers = CaseInsensitiveDict()\n",
    "headers['Content-Type'] = 'application/x-www-form-urlencoded'\n",
    "\n",
    "# request content response\n",
    "request_url = f\"{halopsa['base_uri']}/api/{resource}\"\n",
    "\n",
    "# construct header\n",
    "headers = CaseInsensitiveDict()\n",
    "headers['Authorization'] = f'Bearer {access_token}'\n",
    "headers['Content-Type'] = 'application/json'\n",
    "\n",
    "# construct req body\n",
    "data = ''\n",
    "\n",
    "\n",
    "\n",
    "\n",
    "\n",
    "print(f'Request URL: {request_url}')\n",
    "\n",
    "resp = requests.get(request_url, headers=headers, data=data, params=params)\n",
    "content = resp.content.decode('utf-8')\n",
    "c_dict = json.loads(content)\n",
    "df_tickets = pd.DataFrame(c_dict['tickets'])"
   ]
  },
  {
   "cell_type": "markdown",
   "metadata": {
    "collapsed": false,
    "pycharm": {
     "name": "#%% md\n"
    }
   },
   "source": [
    "### Convert Timestamp to UTC"
   ]
  },
  {
   "cell_type": "code",
   "execution_count": null,
   "metadata": {
    "pycharm": {
     "name": "#%%\n"
    }
   },
   "outputs": [],
   "source": [
    "df_timefix = pd.DataFrame()\n",
    "\n",
    "\n",
    "df_timefix['dateoccurred'] = pd.to_datetime(df_tickets['dateoccurred'], unit='ns', errors='coerce').values.astype('datetime64[s]')\n",
    "df_tickets['dateoccurred'] = df_timefix['dateoccurred']\n",
    "df_timefix['respondbydate'] = pd.to_datetime(df_tickets['respondbydate'], unit='ns', errors='coerce').values.astype('datetime64[s]')\n",
    "df_tickets['respondbydate'] = df_timefix['respondbydate']\n",
    "df_timefix['responsedate'] = pd.to_datetime(df_tickets['responsedate'], unit='ns', errors='coerce').values.astype('datetime64[s]')\n",
    "df_tickets['responsedate'] = df_timefix['responsedate']\n",
    "df_timefix['lastactiondate'] = pd.to_datetime(df_tickets['lastactiondate'], unit='ns', errors='coerce').values.astype('datetime64[s]')\n",
    "df_tickets['lastactiondate'] = df_timefix['lastactiondate']\n",
    "df_timefix['responsedate'] = pd.to_datetime(df_tickets['responsedate'], unit='ns', errors='coerce').values.astype('datetime64[s]')\n",
    "df_tickets['responsedate'] = df_timefix['responsedate']\n",
    "df_timefix['lastincomingemail'] = pd.to_datetime(df_tickets['lastincomingemail'], unit='ns', errors='coerce').values.astype('datetime64[s]')\n",
    "df_tickets['lastincomingemail'] = df_timefix['lastincomingemail']\n",
    "df_timefix['deadlinedate'] = pd.to_datetime(df_tickets['deadlinedate'], unit='ns', errors='coerce').values.astype('datetime64[s]')\n",
    "df_tickets['deadlinedate'] = df_timefix['deadlinedate']\n",
    "df_timefix['dateclosed'] = pd.to_datetime(df_tickets['dateclosed'], unit='ns', errors='coerce').values.astype('datetime64[s]')\n",
    "df_tickets['dateclosed'] = df_timefix['dateclosed']\n",
    "df_timefix['startdate'] = pd.to_datetime(df_tickets['startdate'], unit='ns', errors='coerce').values.astype('datetime64[s]')\n",
    "df_tickets['startdate'] = df_timefix['startdate']\n",
    "df_timefix['targetdate'] = pd.to_datetime(df_tickets['targetdate'], unit='ns', errors='coerce').values.astype('datetime64[s]')\n",
    "df_tickets['targetdate'] = df_timefix['targetdate']\n",
    "df_timefix['dateassigned'] = pd.to_datetime(df_tickets['dateassigned'], unit='ns', errors='coerce').values.astype('datetime64[s]')\n",
    "df_tickets['dateassigned'] = df_timefix['dateassigned']\n",
    "df_timefix['fixbydate'] = pd.to_datetime(df_tickets['fixbydate'], unit='ns', errors='coerce').values.astype('datetime64[s]')\n",
    "df_tickets['fixbydate'] = df_timefix['fixbydate']"
   ]
  },
  {
   "cell_type": "markdown",
   "metadata": {
    "collapsed": false,
    "pycharm": {
     "name": "#%% md\n"
    }
   },
   "source": [
    "### Add Report Creation Date Info Column"
   ]
  },
  {
   "cell_type": "code",
   "execution_count": null,
   "metadata": {
    "pycharm": {
     "name": "#%%\n"
    }
   },
   "outputs": [],
   "source": [
    "report_creation_date = (dt.datetime.utcnow().strftime('%Y-%m-%d %H:%M:%S'))\n",
    "df_tickets['reportCreationDate'] = report_creation_date"
   ]
  },
  {
   "cell_type": "markdown",
   "metadata": {
    "collapsed": false,
    "pycharm": {
     "name": "#%% md\n"
    }
   },
   "source": [
    "## Rename _id to _id.name"
   ]
  },
  {
   "cell_type": "code",
   "execution_count": null,
   "metadata": {
    "pycharm": {
     "name": "#%%\n"
    }
   },
   "outputs": [],
   "source": [
    "df_tickets['tickettype'] = df_tickets['tickettype_id'].replace(tickettype_dict)"
   ]
  },
  {
   "cell_type": "code",
   "execution_count": null,
   "metadata": {
    "pycharm": {
     "name": "#%%\n"
    }
   },
   "outputs": [],
   "source": [
    "df_tickets['ticketstatus'] = df_tickets['status_id'].replace(ticketstatus_dict)"
   ]
  },
  {
   "cell_type": "markdown",
   "metadata": {
    "collapsed": false,
    "pycharm": {
     "name": "#%% md\n"
    }
   },
   "source": [
    "### Fill 'Details' NA with \"\""
   ]
  },
  {
   "cell_type": "code",
   "execution_count": null,
   "metadata": {
    "pycharm": {
     "name": "#%%\n"
    }
   },
   "outputs": [],
   "source": [
    "df_tickets['details'].fillna(\"\",inplace=True)"
   ]
  },
  {
   "cell_type": "markdown",
   "metadata": {
    "collapsed": false,
    "pycharm": {
     "name": "#%% md\n"
    }
   },
   "source": [
    "# Create Ticket Dataframe for Last 30 Days"
   ]
  },
  {
   "cell_type": "code",
   "execution_count": null,
   "metadata": {
    "pycharm": {
     "name": "#%%\n"
    }
   },
   "outputs": [],
   "source": [
    "df_tickets_last30days = df_tickets[df_tickets['dateoccurred'] > dt.datetime.now() - dt.timedelta(days=30)]"
   ]
  },
  {
   "cell_type": "code",
   "execution_count": null,
   "metadata": {
    "pycharm": {
     "name": "#%%\n"
    }
   },
   "outputs": [],
   "source": [
    "df_tickets_last30days['dayoccurred'] = df_tickets_last30days.iloc[:]['dateoccurred'].dt.to_period('d')"
   ]
  },
  {
   "cell_type": "code",
   "execution_count": null,
   "metadata": {
    "pycharm": {
     "name": "#%%\n"
    }
   },
   "outputs": [],
   "source": [
    "df_tickets_last30days = df_tickets_last30days.drop('dateoccurred',axis=1)"
   ]
  },
  {
   "cell_type": "markdown",
   "metadata": {
    "collapsed": false,
    "pycharm": {
     "name": "#%% md\n"
    }
   },
   "source": [
    "## Distribution of Ticket Types over 30 days"
   ]
  },
  {
   "cell_type": "code",
   "execution_count": null,
   "metadata": {
    "pycharm": {
     "name": "#%%\n"
    }
   },
   "outputs": [],
   "source": [
    "plt.figure(figsize=(80,40))\n",
    "sns.countplot(data=df_tickets_last30days.sort_values('dayoccurred'),x='dayoccurred',hue='tickettype')\n",
    "plt.savefig(export_folder + 'halopsa_alerts_last30days_dist_' + str(current_time) + '.png')"
   ]
  },
  {
   "cell_type": "markdown",
   "metadata": {
    "collapsed": false,
    "pycharm": {
     "name": "#%% md\n"
    }
   },
   "source": [
    "# Alert Ticket Analysis and Metrics"
   ]
  },
  {
   "cell_type": "code",
   "execution_count": null,
   "metadata": {
    "pycharm": {
     "name": "#%%\n"
    }
   },
   "outputs": [],
   "source": [
    "df_alert_tickets_last30days = df_tickets_last30days[df_tickets_last30days['tickettype'] == 'Alert']"
   ]
  },
  {
   "cell_type": "markdown",
   "metadata": {
    "collapsed": false,
    "pycharm": {
     "name": "#%% md\n"
    }
   },
   "source": [
    "## Assign Alert Source Based on Email Address Embedded in HTML Body"
   ]
  },
  {
   "cell_type": "markdown",
   "metadata": {
    "collapsed": false,
    "pycharm": {
     "name": "#%% md\n"
    }
   },
   "source": [
    "### Import parse keyword dictionary"
   ]
  },
  {
   "cell_type": "code",
   "execution_count": null,
   "metadata": {
    "pycharm": {
     "name": "#%%\n"
    }
   },
   "outputs": [],
   "source": [
    "df = pd.read_csv(f'{git_folder}/dictionaries/halopsa_details_regex_ticket_source_dictionary.dict')\n",
    "details_parse_list = []\n",
    "for index,row in df.iterrows():\n",
    "    row_dict = {}\n",
    "    keyphrase = row['keyPhrase']\n",
    "    emailSource = row['emailSource']\n",
    "    row_dict[keyphrase] = emailSource\n",
    "    details_parse_list.append(row_dict)"
   ]
  },
  {
   "cell_type": "code",
   "execution_count": null,
   "metadata": {
    "pycharm": {
     "name": "#%%\n"
    }
   },
   "outputs": [],
   "source": [
    "details_parse_list"
   ]
  },
  {
   "cell_type": "markdown",
   "metadata": {
    "collapsed": false,
    "pycharm": {
     "name": "#%% md\n"
    }
   },
   "source": [
    "### Define Parse Functions"
   ]
  },
  {
   "cell_type": "code",
   "execution_count": null,
   "metadata": {
    "pycharm": {
     "name": "#%%\n"
    }
   },
   "outputs": [],
   "source": [
    "def parse_from_dictionary(string):\n",
    "    for prog in details_parse_list:\n",
    "        for k,v in prog.items():\n",
    "            result = re.search(k,string)\n",
    "            if result:\n",
    "                result = str(v)\n",
    "                result_list = re.findall(r'\\,?([^\\,]+)\\,?',result)\n",
    "                lower_list = []\n",
    "                for e in result_list:\n",
    "                    lower_list.append(e.lower())\n",
    "                print(lower_list)\n",
    "                return lower_list\n",
    "                break\n",
    "            else:\n",
    "                break"
   ]
  },
  {
   "cell_type": "code",
   "execution_count": null,
   "metadata": {
    "pycharm": {
     "name": "#%%\n"
    }
   },
   "outputs": [],
   "source": [
    "def parse_source_email_domain(string):\n",
    "    parse_embedded_email_prog = re.compile(r'(@{1}[^\\.]+\\.[^\\s\\r\\n\\!]+)')\n",
    "    result = set(parse_embedded_email_prog.findall(string))\n",
    "    if result:\n",
    "        dedupe_list = list(result)\n",
    "        lower_list = []\n",
    "        for e in dedupe_list:\n",
    "            lower_list.append(e.lower())\n",
    "        print(lower_list)\n",
    "        return lower_list"
   ]
  },
  {
   "cell_type": "code",
   "execution_count": null,
   "metadata": {
    "pycharm": {
     "name": "#%%\n"
    }
   },
   "outputs": [],
   "source": [
    "def parse_source_url(string):\n",
    "    parse_embedded_url_prog = re.compile(r'.*urldefense.proofpoint.com[^\\_]+[\\_\\.]+([^\\_\\s\\/]{2,20}\\.[^\\_\\.\\s\\/]{3,20}\\.[^\\_\\s\\d\\/\\&\\-]*)[\\_]?')\n",
    "    result = set(parse_embedded_url_prog.findall(string))\n",
    "    if result:\n",
    "        dedupe_list = list(result)\n",
    "        lower_list = []\n",
    "        for e in dedupe_list:\n",
    "            lower_list.append(e.lower())\n",
    "        print(lower_list)\n",
    "        return lower_list"
   ]
  },
  {
   "cell_type": "markdown",
   "metadata": {
    "collapsed": false,
    "pycharm": {
     "name": "#%% md\n"
    }
   },
   "source": [
    "## Combine all Functions to be use on Any Column"
   ]
  },
  {
   "cell_type": "code",
   "execution_count": null,
   "metadata": {
    "pycharm": {
     "name": "#%%\n"
    }
   },
   "outputs": [],
   "source": [
    "parse_functions_list = [parse_source_url,parse_from_dictionary,parse_source_email_domain]"
   ]
  },
  {
   "cell_type": "code",
   "execution_count": null,
   "metadata": {
    "pycharm": {
     "name": "#%%\n"
    }
   },
   "outputs": [],
   "source": [
    "def return_email_parse_details(details):\n",
    "    i = 1\n",
    "    for func in parse_functions_list:\n",
    "        print(\"trying function \", i)\n",
    "        try:\n",
    "            result = func(details)\n",
    "            i = i + 1\n",
    "            if result:\n",
    "                return result\n",
    "                break\n",
    "        except Exception as e:\n",
    "            print(e)\n",
    "            break"
   ]
  },
  {
   "cell_type": "code",
   "execution_count": null,
   "metadata": {
    "pycharm": {
     "name": "#%%\n"
    }
   },
   "outputs": [],
   "source": [
    "df_alert_tickets_last30days['sourceParseResults'] = df_alert_tickets_last30days['details'].apply(return_email_parse_details)"
   ]
  },
  {
   "cell_type": "code",
   "execution_count": null,
   "metadata": {
    "pycharm": {
     "name": "#%%\n"
    }
   },
   "outputs": [],
   "source": [
    "df_alert_tickets_last30days['sourceParseResults'].fillna(r\"['COULD NOT PARSE']\",inplace=True)"
   ]
  },
  {
   "cell_type": "markdown",
   "metadata": {
    "collapsed": false,
    "pycharm": {
     "name": "#%% md\n"
    }
   },
   "source": [
    "### Create Root Domain Column from Details Parse Column for ValueCounts by Domain"
   ]
  },
  {
   "cell_type": "code",
   "execution_count": null,
   "metadata": {
    "pycharm": {
     "name": "#%%\n"
    }
   },
   "outputs": [],
   "source": [
    "def root_domain_parse(string):\n",
    "    root_domain_prog = re.compile(r'([^\\@\\.]+)[\\.\\@]{1}[\\w\\d]{2,10}$')\n",
    "    result = root_domain_prog.findall(string[0])\n",
    "    try:\n",
    "        return result[0]\n",
    "    except:\n",
    "        # print(result)\n",
    "        pass"
   ]
  },
  {
   "cell_type": "code",
   "execution_count": null,
   "metadata": {
    "pycharm": {
     "name": "#%%\n"
    }
   },
   "outputs": [],
   "source": [
    "df_alert_tickets_last30days['rootParse'] = df_alert_tickets_last30days['sourceParseResults'].apply(root_domain_parse)"
   ]
  },
  {
   "cell_type": "code",
   "execution_count": null,
   "metadata": {
    "pycharm": {
     "name": "#%%\n"
    }
   },
   "outputs": [],
   "source": [
    "df_alert_tickets_last30days_rootParse = df_alert_tickets_last30days"
   ]
  },
  {
   "cell_type": "code",
   "execution_count": null,
   "metadata": {
    "pycharm": {
     "name": "#%%\n"
    }
   },
   "outputs": [],
   "source": [
    "df_alert_tickets_last30days_rootParse['rootParse'].fillna('COULD NOT PARSE')"
   ]
  },
  {
   "cell_type": "markdown",
   "metadata": {
    "collapsed": false,
    "pycharm": {
     "name": "#%% md\n"
    }
   },
   "source": [
    "### Export to CSV and Plot Chart"
   ]
  },
  {
   "cell_type": "code",
   "execution_count": null,
   "metadata": {
    "pycharm": {
     "name": "#%%\n"
    }
   },
   "outputs": [],
   "source": "df_alert_tickets_last30days_rootParse.to_csv(export_folder + 'halopsa_alerts_last30days_parsed_' + str(current_time) + '.csv')"
  },
  {
   "cell_type": "code",
   "execution_count": null,
   "metadata": {
    "pycharm": {
     "name": "#%%\n"
    }
   },
   "outputs": [],
   "source": [
    "df_alert_tickets_last30days_rootParse"
   ]
  },
  {
   "cell_type": "code",
   "execution_count": null,
   "metadata": {
    "pycharm": {
     "name": "#%%\n"
    }
   },
   "outputs": [],
   "source": [
    "plt.figure(figsize=(80,40))\n",
    "sns.countplot(data=df_alert_tickets_last30days_rootParse.sort_values('dayoccurred'),x='dayoccurred',hue='rootParse')"
   ]
  },
  {
   "cell_type": "code",
   "execution_count": null,
   "metadata": {
    "pycharm": {
     "name": "#%%\n"
    }
   },
   "outputs": [],
   "source": []
  },
  {
   "cell_type": "code",
   "execution_count": null,
   "metadata": {
    "pycharm": {
     "name": "#%%\n"
    }
   },
   "outputs": [],
   "source": "df_alert_tickets_last30days.to_csv('.csv')"
  },
  {
   "cell_type": "code",
   "execution_count": null,
   "metadata": {
    "pycharm": {
     "name": "#%%\n"
    }
   },
   "outputs": [],
   "source": [
    "df"
   ]
  },
  {
   "cell_type": "markdown",
   "metadata": {
    "collapsed": false,
    "pycharm": {
     "name": "#%% md\n"
    }
   },
   "source": [
    "## Cut Alerts Summaries into Sections by \"-\" Delimeter"
   ]
  },
  {
   "cell_type": "code",
   "execution_count": null,
   "metadata": {
    "pycharm": {
     "name": "#%%\n"
    }
   },
   "outputs": [],
   "source": [
    "alerts_first_cut_prog = re.compile(r'\\s?([^\\-]+)\\s?')"
   ]
  },
  {
   "cell_type": "code",
   "execution_count": null,
   "metadata": {
    "pycharm": {
     "name": "#%%\n"
    }
   },
   "outputs": [],
   "source": [
    "alerts_summary_list = []"
   ]
  },
  {
   "cell_type": "code",
   "execution_count": null,
   "metadata": {
    "pycharm": {
     "name": "#%%\n"
    }
   },
   "outputs": [],
   "source": [
    "for summary in df_alert_tickets_last30days['summary']:\n",
    "    for element in alerts_first_cut_prog.findall(summary):\n",
    "        alerts_summary_list.append(element)"
   ]
  },
  {
   "cell_type": "code",
   "execution_count": null,
   "metadata": {
    "pycharm": {
     "name": "#%%\n"
    }
   },
   "outputs": [],
   "source": [
    "df = pd.DataFrame(alerts_summary_list)"
   ]
  },
  {
   "cell_type": "code",
   "execution_count": null,
   "metadata": {
    "pycharm": {
     "name": "#%%\n"
    }
   },
   "outputs": [],
   "source": [
    "df.rename({0:'cuts'},inplace=True,axis=1)"
   ]
  },
  {
   "cell_type": "code",
   "execution_count": null,
   "metadata": {
    "pycharm": {
     "name": "#%%\n"
    }
   },
   "outputs": [],
   "source": [
    "df"
   ]
  },
  {
   "cell_type": "code",
   "execution_count": null,
   "metadata": {
    "pycharm": {
     "name": "#%%\n"
    }
   },
   "outputs": [],
   "source": [
    "top_alert_cuts = list(df.value_counts().sort_values(ascending=False).head(10).reset_index()['cuts'])"
   ]
  },
  {
   "cell_type": "code",
   "execution_count": null,
   "metadata": {
    "pycharm": {
     "name": "#%%\n"
    }
   },
   "outputs": [],
   "source": [
    "top_alert_cuts"
   ]
  },
  {
   "cell_type": "code",
   "execution_count": null,
   "metadata": {
    "pycharm": {
     "name": "#%%\n"
    }
   },
   "outputs": [],
   "source": [
    "for index, cut in enumerate(top_alert_cuts):\n",
    "    alert_cut_dict = {}\n",
    "    alert_cut_dict['index'] = index\n",
    "    alert_cut_dict['keyword'] = cut\n",
    "    print(alert_cut_dict)\n",
    "\n",
    "    df = df_alert_tickets_last30days[df_alert_tickets_last30days['summary'].str.contains(cut)]\n",
    "    df.insert(0,'[KEYWORD]',cut)\n",
    "    df.to_csv(export_folder + 'top_alert_summary_cuts_' + str(index) +'of' + str(len(top_alert_cuts)) + '_' + str(current_time) + '.csv', index=False)"
   ]
  },
  {
   "cell_type": "code",
   "execution_count": null,
   "metadata": {
    "pycharm": {
     "name": "#%%\n"
    }
   },
   "outputs": [],
   "source": [
    "df_alert_tickets_last30days"
   ]
  },
  {
   "cell_type": "code",
   "execution_count": null,
   "metadata": {
    "pycharm": {
     "name": "#%%\n"
    }
   },
   "outputs": [],
   "source": []
  }
 ],
 "metadata": {
  "kernelspec": {
   "display_name": "Python 3",
   "language": "python",
   "name": "python3"
  },
  "language_info": {
   "codemirror_mode": {
    "name": "ipython",
    "version": 2
   },
   "file_extension": ".py",
   "mimetype": "text/x-python",
   "name": "python",
   "nbconvert_exporter": "python",
   "pygments_lexer": "ipython2",
   "version": "2.7.6"
  }
 },
 "nbformat": 4,
 "nbformat_minor": 0
}
