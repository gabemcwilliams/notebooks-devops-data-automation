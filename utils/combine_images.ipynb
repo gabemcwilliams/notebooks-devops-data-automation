{
 "cells": [
  {
   "cell_type": "code",
   "execution_count": null,
   "id": "a4195d9ae7ca42dc",
   "metadata": {},
   "outputs": [],
   "source": [
    "import os\n",
    "from PIL import Image"
   ]
  },
  {
   "cell_type": "code",
   "execution_count": null,
   "id": "e71d9faa0a0b5001",
   "metadata": {},
   "outputs": [],
   "source": [
    "\"\"\"\n",
    "Image Concatenator for Time Entry Visualizations\n",
    "------------------------------------------------\n",
    "\n",
    "This script scans a target directory for PNG image files (e.g., daily or user-level\n",
    "time entry scatter plots), opens them using Pillow, and stacks them vertically into\n",
    "a single combined image for easy viewing, sharing, or archival.\n",
    "\n",
    "Features:\n",
    "---------\n",
    "- Recursively collects `.png` files from a specified directory.\n",
    "- Opens and resizes images to align by width (for vertical stacking).\n",
    "- Provides helper functions to stitch images either vertically or horizontally.\n",
    "- Saves the final stitched output to a PNG file.\n",
    "\n",
    "Usage:\n",
    "------\n",
    "Typically used after generating individual time entry plots to create a\n",
    "summary visualization, such as a \"quarterly report\" per team.\n",
    "\n",
    "Dependencies:\n",
    "-------------\n",
    "- Python Imaging Library (Pillow)\n",
    "- Python standard libraries: `os`, `re`\n",
    "\n",
    "Author: Gabe McWilliams\n",
    "\"\"\"\n"
   ]
  },
  {
   "cell_type": "code",
   "execution_count": null,
   "id": "edfb9c495ee0190",
   "metadata": {},
   "outputs": [],
   "source": [
    "source_dir = fr\"D:\\exports\\time_entries\\q1\\src\""
   ]
  },
  {
   "cell_type": "code",
   "execution_count": null,
   "id": "768b7bd31e59efc6",
   "metadata": {},
   "outputs": [],
   "source": [
    "file_list = []\n",
    "\n",
    "for root, dirs, files in os.walk(source_dir):\n",
    "    for file in files:\n",
    "        if file.endswith(\"png\"):\n",
    "            print(os.path.join(root, file))\n",
    "            file_list.append(os.path.join(root, file))\n"
   ]
  },
  {
   "cell_type": "code",
   "execution_count": null,
   "id": "3739db29d2329125",
   "metadata": {},
   "outputs": [],
   "source": [
    "img_list = []\n",
    "\n",
    "for file in file_list:\n",
    "    img = Image.open(file)\n",
    "    img_list.append(img)"
   ]
  },
  {
   "cell_type": "code",
   "execution_count": null,
   "id": "d3d631b9f0fb5c59",
   "metadata": {},
   "outputs": [],
   "source": [
    "def get_concat_h_multi_resize(im_list, resample=Image.BICUBIC):\n",
    "    min_height = min(im.height for im in im_list)\n",
    "    im_list_resize = [im.resize((int(im.width * min_height / im.height), min_height), resample=resample)\n",
    "                      for im in im_list]\n",
    "    total_width = sum(im.width for im in im_list_resize)\n",
    "    dst = Image.new('RGB', (total_width, min_height))\n",
    "    pos_x = 0\n",
    "    for im in im_list_resize:\n",
    "        dst.paste(im, (pos_x, 0))\n",
    "        pos_x += im.width\n",
    "    return dst\n",
    "\n",
    "\n",
    "def get_concat_v_multi_resize(im_list, resample=Image.BICUBIC):\n",
    "    min_width = min(im.width for im in im_list)\n",
    "    im_list_resize = [im.resize((min_width, int(im.height * min_width / im.width)), resample=resample)\n",
    "                      for im in im_list]\n",
    "    total_height = sum(im.height for im in im_list_resize)\n",
    "    dst = Image.new('RGB', (min_width, total_height))\n",
    "    pos_y = 0\n",
    "    for im in im_list_resize:\n",
    "        dst.paste(im, (0, pos_y))\n",
    "        pos_y += im.height\n",
    "    return dst\n",
    "\n",
    "\n",
    "# get_concat_h_multi_resize([im1, im2, im1]).save('.jpg')\n",
    "get_concat_v_multi_resize(img_list).save(f\".png\")\n"
   ]
  },
  {
   "cell_type": "code",
   "execution_count": null,
   "id": "6f5f1ae04010ea3a",
   "metadata": {},
   "outputs": [],
   "source": []
  },
  {
   "cell_type": "code",
   "execution_count": null,
   "id": "946ec7d6f2c72fe4",
   "metadata": {},
   "outputs": [],
   "source": []
  }
 ],
 "metadata": {
  "kernelspec": {
   "display_name": "Python 3",
   "language": "python",
   "name": "python3"
  },
  "language_info": {
   "codemirror_mode": {
    "name": "ipython",
    "version": 2
   },
   "file_extension": ".py",
   "mimetype": "text/x-python",
   "name": "python",
   "nbconvert_exporter": "python",
   "pygments_lexer": "ipython2",
   "version": "2.7.6"
  }
 },
 "nbformat": 4,
 "nbformat_minor": 5
}
